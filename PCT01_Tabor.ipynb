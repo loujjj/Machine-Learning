{
  "cells": [
    {
      "cell_type": "markdown",
      "metadata": {
        "id": "view-in-github",
        "colab_type": "text"
      },
      "source": [
        "<a href=\"https://colab.research.google.com/github/loujjj/Machine-Learning/blob/main/PCT01_Tabor.ipynb\" target=\"_parent\"><img src=\"https://colab.research.google.com/assets/colab-badge.svg\" alt=\"Open In Colab\"/></a>"
      ]
    },
    {
      "cell_type": "markdown",
      "metadata": {
        "id": "JS92MCoYsbV1"
      },
      "source": [
        "#Practical Coding Task 1\n",
        "Consider this non-linear relation between two variables, $x$ and $y$."
      ]
    },
    {
      "cell_type": "code",
      "execution_count": null,
      "metadata": {
        "colab": {
          "base_uri": "https://localhost:8080/",
          "height": 279
        },
        "id": "xUaGoEB_sscd",
        "outputId": "c29d13a9-3c68-4049-c3aa-90b8f64528d0"
      },
      "outputs": [
        {
          "data": {
            "image/png": "[encoded data removed]",
            "text/plain": [
              "<Figure size 432x288 with 1 Axes>"
            ]
          },
          "metadata": {},
          "output_type": "display_data"
        }
      ],
      "source": [
        "import numpy as np\n",
        "import matplotlib.pyplot as plt\n",
        "\n",
        "coeff = [-1,22,-3]\n",
        "\n",
        "x = np.linspace(0,5,100)\n",
        "y = addrandomfluctuations_nonlinear(x,coeff,10)\n",
        "plt.plot(x,y,'bx')\n",
        "plt.xlabel('x')\n",
        "plt.ylabel('y')\n",
        "plt.grid()"
      ]
    },
    {
      "cell_type": "markdown",
      "metadata": {
        "id": "x2kO4jsQvdsf"
      },
      "source": [
        "*Figure 1.1. A polynomial data set. The computer has no idea of the order of the polynomial.*"
      ]
    },
    {
      "cell_type": "markdown",
      "metadata": {
        "id": "GSCMBlGuZ3DJ"
      },
      "source": [
        "##1.1 Using the polyfit function"
      ]
    },
    {
      "cell_type": "markdown",
      "metadata": {
        "id": "jQFHASSTvoLj"
      },
      "source": [
        "The [polyfit()](https://numpy.org/doc/stable/reference/generated/numpy.polyfit.html) function is Python's built-in function that solves for the coefficients of the given polynomial. The first two input parameters are the x and y data sets. The third input parameter is the order of the polynomial. The output $p$ are the solved coefficients, beginning with the coefficient of $x^0$. Compare $p$ with the given coefficients? Are they as expected?"
      ]
    },
    {
      "cell_type": "code",
      "execution_count": null,
      "metadata": {
        "colab": {
          "base_uri": "https://localhost:8080/",
          "height": 296
        },
        "id": "puOc-U888bP1",
        "outputId": "51016eaf-51a2-4d69-fc78-872f4e170944"
      },
      "outputs": [
        {
          "name": "stdout",
          "output_type": "stream",
          "text": [
            "[-3.24481635 23.33449174 -2.44386635]\n"
          ]
        },
        {
          "data": {
            "image/png": "[encoded data removed]",
            "text/plain": [
              "<Figure size 432x288 with 1 Axes>"
            ]
          },
          "metadata": {},
          "output_type": "display_data"
        }
      ],
      "source": [
        "p = np.polyfit(x,y,len(coeff)-1)\n",
        "print(p)\n",
        "\n",
        "ynlr = addrandomfluctuations_nonlinear(x,coeff,10)\n",
        "plt.plot(x,y,'bx')\n",
        "plt.plot(x,ynlr,'r')\n",
        "plt.xlabel('x')\n",
        "plt.ylabel('y')\n",
        "plt.grid()"
      ]
    },
    {
      "cell_type": "markdown",
      "metadata": {
        "id": "Cv7Rh-daA5FB"
      },
      "source": [
        "*Figure 1.2. Predicted best fit line using the nonlinear regression algorithm of Python.*"
      ]
    },
    {
      "cell_type": "markdown",
      "metadata": {
        "id": "FIeN_2enMvOr"
      },
      "source": [
        "###**Task 1. Solve for the mean square error between the actual result and best fit line. Display the result.**"
      ]
    },
    {
      "cell_type": "code",
      "execution_count": 69,
      "metadata": {
        "colab": {
          "base_uri": "https://localhost:8080/"
        },
        "id": "JO_hm3q9M3Hr",
        "outputId": "474f6005-d49d-4dbb-f917-557eb0099fa4"
      },
      "outputs": [
        {
          "output_type": "stream",
          "name": "stdout",
          "text": [
            "mean square error is 18.399760908512445\n"
          ]
        }
      ],
      "source": [
        "## Write your code here\n",
        "from sklearn.metrics import mean_squared_error\n",
        "\n",
        "print('mean square error is',mean_squared_error(ynlr,y))\n"
      ]
    },
    {
      "cell_type": "markdown",
      "metadata": {
        "id": "erTDRccbaCFU"
      },
      "source": [
        "##1.2 How a computer determines the best fit line"
      ]
    },
    {
      "cell_type": "markdown",
      "metadata": {
        "id": "NBq-nIlj8bof"
      },
      "source": [
        "I've already arranged almost everything for you to try out. The specific instructions are in Task 4. What you need to change are the:<br>\n",
        "1. The [activation function](https://www.tensorflow.org/api_docs/python/tf/keras/activations) in the first *tf.keras.layers.Dense* layer\n",
        "2. The learning rate of the Adam optimizer\n",
        "3. The number of epochs<br>"
      ]
    },
    {
      "cell_type": "markdown",
      "metadata": {
        "id": "4wIaWflmWXnb"
      },
      "source": [
        "At this time, you don't need to fully understand the [activation function](https://www.tensorflow.org/api_docs/python/tf/keras/activations). You're welcome to read about what these various activations do, but you'll also learn about them as well as the various [model optimizers](https://www.tensorflow.org/api_docs/python/tf/keras/optimizers) in a couple of weeks. Just try out the various activation functions and see which one works.<br>\n",
        "This short code is a machine learning model that will solve for the best fit line of the given data $x$ and $y$. "
      ]
    },
    {
      "cell_type": "code",
      "execution_count": 62,
      "metadata": {
        "colab": {
          "base_uri": "https://localhost:8080/",
          "height": 295
        },
        "id": "gXmY1UIEv0LZ",
        "outputId": "bfc92cf9-5a4f-4e0a-c13a-888de51fcfe4"
      },
      "outputs": [
        {
          "output_type": "display_data",
          "data": {
            "text/plain": [
              "<Figure size 432x288 with 1 Axes>"
            ],
            "image/png": "[encoded data removed]"
          },
          "metadata": {
            "needs_background": "light"
          }
        }
      ],
      "source": [
        "import tensorflow as tf\n",
        "from tensorflow import keras\n",
        "from tensorflow.keras.optimizers import Adam\n",
        "\n",
        "model = tf.keras.Sequential([\n",
        "    tf.keras.layers.Dense(128, activation='tanh', input_shape=[1], input_dim=5),\n",
        "    tf.keras.layers.Dense(1, activation='linear')\n",
        "    ])\n",
        "model.compile(optimizer = Adam(learning_rate=0.001), loss = 'mean_squared_error')\n",
        "history = model.fit(x,y, epochs = 200, verbose = 0)\n",
        "plt.plot(history.history[\"loss\"])\n",
        "plt.title(\"model loss\")\n",
        "plt.xlabel(\"epoch\")\n",
        "plt.ylabel(\"loss\")\n",
        "plt.legend([\"loss\"],loc=\"upper right\")\n",
        "plt.show()"
      ]
    },
    {
      "cell_type": "markdown",
      "metadata": {
        "id": "tLIOQ8LIyFUx"
      },
      "source": [
        "Figure 1.3. Training progress of the model."
      ]
    },
    {
      "cell_type": "markdown",
      "metadata": {
        "id": "xCgI0lGqW9ky"
      },
      "source": [
        "###**Task 2. Plot and compare the actual data set with the predicted data values.**"
      ]
    },
    {
      "cell_type": "code",
      "execution_count": 70,
      "metadata": {
        "colab": {
          "base_uri": "https://localhost:8080/",
          "height": 296
        },
        "id": "7sXCZJRpA-n2",
        "outputId": "8e8c7e92-30d2-41c3-940d-4b477f98d211"
      },
      "outputs": [
        {
          "output_type": "stream",
          "name": "stdout",
          "text": [
            "4/4 [==============================] - 0s 3ms/step\n"
          ]
        },
        {
          "output_type": "display_data",
          "data": {
            "text/plain": [
              "<Figure size 432x288 with 1 Axes>"
            ],
            "image/png": "[encoded data removed]"
          },
          "metadata": {
            "needs_background": "light"
          }
        }
      ],
      "source": [
        "\n",
        "ypred = model.predict([x])\n",
        "plt.plot(x,y,'bx')\n",
        "plt.plot(x,ypred,'r')\n",
        "plt.xlabel('x')\n",
        "plt.ylabel('y')\n",
        "plt.grid()"
      ]
    },
    {
      "cell_type": "markdown",
      "metadata": {
        "id": "J23M3mxe3aka"
      },
      "source": [
        "###**Task 3. Solve for the mean square error between the actual result and best fit line. Display the result.**\n",
        "\n"
      ]
    },
    {
      "cell_type": "code",
      "execution_count": 71,
      "metadata": {
        "colab": {
          "base_uri": "https://localhost:8080/"
        },
        "id": "BRlgiM_j1VtL",
        "outputId": "2e7c3ff2-054a-4e70-9e39-ffa53f048a66"
      },
      "outputs": [
        {
          "output_type": "stream",
          "name": "stdout",
          "text": [
            "mean square error is 20.500873369151225\n"
          ]
        }
      ],
      "source": [
        "## Write your code here\n",
        "print(\"mean square error is\",mean_squared_error(ypred,y))"
      ]
    },
    {
      "cell_type": "markdown",
      "metadata": {
        "id": "wK9OfBre2BOn"
      },
      "source": [
        "###**Task 4. Find out which activation function gives the best best-fit line to the data set by changing the value of the activation function in the first dense layer. Then determine the best learning_rate.**\n",
        "It may not be necessary to change the number of epochs, but you may change them if you like just to see what happens."
      ]
    },
    {
      "cell_type": "markdown",
      "metadata": {
        "id": "ZdJs_enrl4ZT"
      },
      "source": [
        "*Answer*: The hyperbolic tangent activation function gives the best best-fit line to the given data set with 0.001 as the learning rate"
      ]
    },
    {
      "cell_type": "markdown",
      "metadata": {
        "id": "jMrAiLP-3Ja9"
      },
      "source": [
        "###**Task 5 (Optional). You may play around with this program by changing the coefficients and the fluctuation size to see what happens. Which training function will give you the least MSE?**\n",
        "You can also change the number of layers, if you like to play around with that. Just copy the first dense layer and paste it as a second or third or fourth layer. Remove the *input_shape* and *input_dim* options after you paste the new command lines. Don't forget to put a comma at the end of each line."
      ]
    },
    {
      "cell_type": "markdown",
      "metadata": {
        "id": "5O7gGoYGIR96"
      },
      "source": [
        "#Functions to be used"
      ]
    },
    {
      "cell_type": "code",
      "execution_count": null,
      "metadata": {
        "colab": {
          "background_save": true
        },
        "id": "uhcrXwpbIOqg"
      },
      "outputs": [],
      "source": [
        "def addrandomfluctuations_nonlinear(x,coeff,fluctuationsize):\n",
        "  import random\n",
        "\n",
        "  sum = 0\n",
        "  for j in range(len(coeff)):\n",
        "    sum += coeff[j]*np.power(x,j)\n",
        "\n",
        "  yrand = np.zeros(len(x))\n",
        "  for i in range(len(x)):\n",
        "    yrand[i] = sum[i] + fluctuationsize*(random.random()-0.5)\n",
        "  \n",
        "  return yrand"
      ]
    }
  ],
  "metadata": {
    "colab": {
      "provenance": [],
      "include_colab_link": true
    },
    "kernelspec": {
      "display_name": "Python 3",
      "name": "python3"
    },
    "language_info": {
      "name": "python"
    }
  },
  "nbformat": 4,
  "nbformat_minor": 0
}