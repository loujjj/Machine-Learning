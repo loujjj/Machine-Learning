{
  "nbformat": 4,
  "nbformat_minor": 0,
  "metadata": {
    "colab": {
      "provenance": []
    },
    "kernelspec": {
      "name": "python3",
      "display_name": "Python 3"
    },
    "language_info": {
      "name": "python"
    }
  },
  "cells": [
    {
      "cell_type": "markdown",
      "source": [
        "#Practical Coding Task 1\n",
        "Consider this non-linear relation between two variables, $x$ and $y$."
      ],
      "metadata": {
        "id": "JS92MCoYsbV1"
      }
    },
    {
      "cell_type": "code",
      "source": [
        "import numpy as np\n",
        "import matplotlib.pyplot as plt\n",
        "\n",
        "coeff = [-1,22,-3]\n",
        "\n",
        "x = np.linspace(0,5,100)\n",
        "y = addrandomfluctuations_nonlinear(x,coeff,10)\n",
        "plt.plot(x,y,'bx')\n",
        "plt.xlabel('x')\n",
        "plt.ylabel('y')\n",
        "plt.grid()"
      ],
      "metadata": {
        "id": "xUaGoEB_sscd",
        "colab": {
          "base_uri": "https://localhost:8080/",
          "height": 279
        },
        "outputId": "4b4c2133-4f6b-44a7-e712-390555401769"
      },
      "execution_count": 3,
      "outputs": [
        {
          "output_type": "display_data",
          "data": {
            "text/plain": [
              "<Figure size 432x288 with 1 Axes>"
            ],
            "image/png": "[encoded data removed]"
          },
          "metadata": {
            "needs_background": "light"
          }
        }
      ]
    },
    {
      "cell_type": "markdown",
      "source": [
        "*Figure 1.1. A polynomial data set. The computer has no idea of the order of the polynomial.*"
      ],
      "metadata": {
        "id": "x2kO4jsQvdsf"
      }
    },
    {
      "cell_type": "markdown",
      "source": [
        "##1.1 Using the polyfit function"
      ],
      "metadata": {
        "id": "GSCMBlGuZ3DJ"
      }
    },
    {
      "cell_type": "markdown",
      "source": [
        "The [polyfit()](https://numpy.org/doc/stable/reference/generated/numpy.polyfit.html) function is Python's built-in function that solves for the coefficients of the given polynomial. The first two input parameters are the x and y data sets. The third input parameter is the order of the polynomial. The output $p$ are the solved coefficients, beginning with the coefficient of $x^0$. Compare $p$ with the given coefficients? Are they as expected?"
      ],
      "metadata": {
        "id": "jQFHASSTvoLj"
      }
    },
    {
      "cell_type": "code",
      "source": [
        "p = np.polyfit(x,y,len(coeff)-1)\n",
        "print(p)\n",
        "\n",
        "ynlr = addrandomfluctuations_nonlinear(x,coeff,10)\n",
        "plt.plot(x,y,'bx')\n",
        "plt.plot(x,ynlr,'r')\n",
        "plt.xlabel('x')\n",
        "plt.ylabel('y')\n",
        "plt.grid()"
      ],
      "metadata": {
        "id": "puOc-U888bP1",
        "colab": {
          "base_uri": "https://localhost:8080/",
          "height": 296
        },
        "outputId": "bc8babf0-4d76-43d8-9c28-f3974e933626"
      },
      "execution_count": 4,
      "outputs": [
        {
          "output_type": "stream",
          "name": "stdout",
          "text": [
            "[-3.20460102 22.92911569 -1.85906238]\n"
          ]
        },
        {
          "output_type": "display_data",
          "data": {
            "text/plain": [
              "<Figure size 432x288 with 1 Axes>"
            ],
            "image/png": "[encoded data removed]"
          },
          "metadata": {
            "needs_background": "light"
          }
        }
      ]
    },
    {
      "cell_type": "markdown",
      "source": [
        "*Figure 1.2. Predicted best fit line using the nonlinear regression algorithm of Python.*"
      ],
      "metadata": {
        "id": "Cv7Rh-daA5FB"
      }
    },
    {
      "cell_type": "markdown",
      "source": [
        "###**Task 1. Solve for the mean square error between the actual result and best fit line. Display the result.**"
      ],
      "metadata": {
        "id": "FIeN_2enMvOr"
      }
    },
    {
      "cell_type": "code",
      "source": [
        "## Write your code here\n",
        "mean_sq_err1 = np.mean((ynlr - y)**2)\n",
        "print(\"mean square error is \", mean_sq_err1)"
      ],
      "metadata": {
        "id": "JO_hm3q9M3Hr",
        "colab": {
          "base_uri": "https://localhost:8080/"
        },
        "outputId": "afd66ecb-8c20-4442-b3f7-ad3fada00712"
      },
      "execution_count": 7,
      "outputs": [
        {
          "output_type": "stream",
          "name": "stdout",
          "text": [
            "mean square error is  18.399760908512445\n"
          ]
        }
      ]
    },
    {
      "cell_type": "markdown",
      "source": [
        "##1.2 How a computer determines the best fit line"
      ],
      "metadata": {
        "id": "erTDRccbaCFU"
      }
    },
    {
      "cell_type": "markdown",
      "source": [
        "I've already arranged almost everything for you to try out. The specific instructions are in Task 4. What you need to change are the:<br>\n",
        "1. The [activation function](https://www.tensorflow.org/api_docs/python/tf/keras/activations) in the first *tf.keras.layers.Dense* layer\n",
        "2. The learning rate of the Adam optimizer\n",
        "3. The number of epochs<br>"
      ],
      "metadata": {
        "id": "NBq-nIlj8bof"
      }
    },
    {
      "cell_type": "markdown",
      "source": [
        "At this time, you don't need to fully understand the [activation function](https://www.tensorflow.org/api_docs/python/tf/keras/activations). You're welcome to read about what these various activations do, but you'll also learn about them as well as the various [model optimizers](https://www.tensorflow.org/api_docs/python/tf/keras/optimizers) in a couple of weeks. Just try out the various activation functions and see which one works.<br>\n",
        "This short code is a machine learning model that will solve for the best fit line of the given data $x$ and $y$. "
      ],
      "metadata": {
        "id": "4wIaWflmWXnb"
      }
    },
    {
      "cell_type": "code",
      "source": [
        "import tensorflow as tf\n",
        "from tensorflow import keras\n",
        "from tensorflow.keras.optimizers import Adam\n",
        "\n",
        "model = tf.keras.Sequential([\n",
        "    tf.keras.layers.Dense(128, activation='tanh', input_shape=[1], input_dim=5),\n",
        "    tf.keras.layers.Dense(1, activation='linear')\n",
        "    ])\n",
        "model.compile(optimizer = Adam(learning_rate=0.001), loss = 'mean_squared_error')\n",
        "history = model.fit(x,y, epochs = 200, verbose = 0)\n",
        "plt.plot(history.history[\"loss\"])\n",
        "plt.title(\"model loss\")\n",
        "plt.xlabel(\"epoch\")\n",
        "plt.ylabel(\"loss\")\n",
        "plt.legend([\"loss\"],loc=\"upper right\")\n",
        "plt.show()"
      ],
      "metadata": {
        "id": "gXmY1UIEv0LZ",
        "colab": {
          "base_uri": "https://localhost:8080/",
          "height": 295
        },
        "outputId": "293fe777-430a-4e2d-8c7d-b1ab28324029"
      },
      "execution_count": 9,
      "outputs": [
        {
          "output_type": "display_data",
          "data": {
            "text/plain": [
              "<Figure size 432x288 with 1 Axes>"
            ],
            "image/png": "[encoded data removed]"
          },
          "metadata": {
            "needs_background": "light"
          }
        }
      ]
    },
    {
      "cell_type": "markdown",
      "source": [
        "Figure 1.3. Training progress of the model."
      ],
      "metadata": {
        "id": "tLIOQ8LIyFUx"
      }
    },
    {
      "cell_type": "markdown",
      "source": [
        "###**Task 2. Plot and compare the actual data set with the predicted data values.**"
      ],
      "metadata": {
        "id": "xCgI0lGqW9ky"
      }
    },
    {
      "cell_type": "code",
      "source": [
        "ypred = model.predict([x])\n",
        "plt.plot(x,y,'bx')\n",
        "plt.plot(x,ypred,'r')\n",
        "plt.xlabel('x')\n",
        "plt.ylabel('y')\n",
        "plt.grid()\n",
        "\n"
      ],
      "metadata": {
        "id": "7sXCZJRpA-n2",
        "colab": {
          "base_uri": "https://localhost:8080/",
          "height": 296
        },
        "outputId": "1e49cbea-a5f4-40df-869e-01d75e6a86d4"
      },
      "execution_count": 10,
      "outputs": [
        {
          "output_type": "stream",
          "name": "stdout",
          "text": [
            "4/4 [==============================] - 0s 3ms/step\n"
          ]
        },
        {
          "output_type": "display_data",
          "data": {
            "text/plain": [
              "<Figure size 432x288 with 1 Axes>"
            ],
            "image/png": "[encoded data removed]"
          },
          "metadata": {
            "needs_background": "light"
          }
        }
      ]
    },
    {
      "cell_type": "markdown",
      "source": [
        "###**Task 3. Solve for the mean square error between the actual result and best fit line. Display the result.**\n",
        "\n"
      ],
      "metadata": {
        "id": "J23M3mxe3aka"
      }
    },
    {
      "cell_type": "code",
      "source": [
        "## Write your code here\n",
        "mean_sq_err2 = np.mean((ypred - y)**2)\n",
        "print(\"mean square error is\", mean_sq_err2)"
      ],
      "metadata": {
        "id": "BRlgiM_j1VtL",
        "colab": {
          "base_uri": "https://localhost:8080/"
        },
        "outputId": "b3bb6a72-04bd-4b27-984f-7e8744d4f295"
      },
      "execution_count": null,
      "outputs": [
        {
          "output_type": "stream",
          "name": "stdout",
          "text": [
            "mean square error is 258.1507435402019\n"
          ]
        }
      ]
    },
    {
      "cell_type": "markdown",
      "source": [
        "###**Task 4. Find out which activation function gives the best best-fit line to the data set by changing the value of the activation function in the first dense layer. Then determine the best learning_rate.**\n",
        "It may not be necessary to change the number of epochs, but you may change them if you like just to see what happens."
      ],
      "metadata": {
        "id": "wK9OfBre2BOn"
      }
    },
    {
      "cell_type": "markdown",
      "source": [
        "*Answer*: The hyperbolic tangent activation function gives the best best-fit line to the given data set with 0.001 as the learning rate"
      ],
      "metadata": {
        "id": "ZdJs_enrl4ZT"
      }
    },
    {
      "cell_type": "markdown",
      "source": [
        "###**Task 5 (Optional). You may play around with this program by changing the coefficients and the fluctuation size to see what happens. Which training function will give you the least MSE?**\n",
        "You can also change the number of layers, if you like to play around with that. Just copy the first dense layer and paste it as a second or third or fourth layer. Remove the *input_shape* and *input_dim* options after you paste the new command lines. Don't forget to put a comma at the end of each line."
      ],
      "metadata": {
        "id": "jMrAiLP-3Ja9"
      }
    },
    {
      "cell_type": "markdown",
      "source": [
        "#Functions to be used"
      ],
      "metadata": {
        "id": "5O7gGoYGIR96"
      }
    },
    {
      "cell_type": "code",
      "source": [
        "def addrandomfluctuations_nonlinear(x,coeff,fluctuationsize):\n",
        "  import random\n",
        "\n",
        "  sum = 0\n",
        "  for j in range(len(coeff)):\n",
        "    sum += coeff[j]*np.power(x,j)\n",
        "\n",
        "  yrand = np.zeros(len(x))\n",
        "  for i in range(len(x)):\n",
        "    yrand[i] = sum[i] + fluctuationsize*(random.random()-0.5)\n",
        "  \n",
        "  return yrand"
      ],
      "metadata": {
        "id": "uhcrXwpbIOqg"
      },
      "execution_count": 2,
      "outputs": []
    }
  ]
}