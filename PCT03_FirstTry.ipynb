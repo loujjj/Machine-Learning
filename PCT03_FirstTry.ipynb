{
  "nbformat": 4,
  "nbformat_minor": 0,
  "metadata": {
    "colab": {
      "provenance": [],
      "include_colab_link": true
    },
    "kernelspec": {
      "name": "python3",
      "display_name": "Python 3"
    },
    "language_info": {
      "name": "python"
    }
  },
  "cells": [
    {
      "cell_type": "markdown",
      "metadata": {
        "id": "view-in-github",
        "colab_type": "text"
      },
      "source": [
        "<a href=\"https://colab.research.google.com/github/loujjj/Machine-Learning/blob/main/PCT03_FirstTry.ipynb\" target=\"_parent\"><img src=\"https://colab.research.google.com/assets/colab-badge.svg\" alt=\"Open In Colab\"/></a>"
      ]
    },
    {
      "cell_type": "markdown",
      "source": [
        "##**Classification of Walk vs Run**"
      ],
      "metadata": {
        "id": "w12W2G-6c32h"
      }
    },
    {
      "cell_type": "markdown",
      "source": [
        "####**Importing the Necessary Libraries**"
      ],
      "metadata": {
        "id": "19trjlLic6EL"
      }
    },
    {
      "cell_type": "code",
      "execution_count": null,
      "metadata": {
        "id": "XPZnl1jNcuB1"
      },
      "outputs": [],
      "source": [
        "import numpy as np\n",
        "import matplotlib.pyplot as plt\n",
        "import pandas as pd\n",
        "\n",
        "import tensorflow as tf\n",
        "from tensorflow import keras\n",
        "from tensorflow.keras.models import Sequential\n",
        "\n",
        "from sklearn import datasets\n",
        "from sklearn.preprocessing import LabelEncoder\n",
        "from sklearn.model_selection import train_test_split\n",
        "from sklearn.metrics import confusion_matrix, ConfusionMatrixDisplay"
      ]
    },
    {
      "cell_type": "markdown",
      "source": [
        "####**Importing and Preparing the Data**"
      ],
      "metadata": {
        "id": "21I4-WljdB3r"
      }
    },
    {
      "cell_type": "markdown",
      "source": [
        "#####**Importing the Data**"
      ],
      "metadata": {
        "id": "-z48xONBdGc0"
      }
    },
    {
      "cell_type": "code",
      "source": [
        "from google.colab import drive\n",
        "drive.mount('/content/gdrive/', force_remount=True)"
      ],
      "metadata": {
        "id": "a0VllYJydK2L",
        "outputId": "59f8d1de-37e9-4dac-9811-48a120fa39e8",
        "colab": {
          "base_uri": "https://localhost:8080/"
        }
      },
      "execution_count": null,
      "outputs": [
        {
          "output_type": "stream",
          "name": "stdout",
          "text": [
            "Mounted at /content/gdrive/\n"
          ]
        }
      ]
    },
    {
      "cell_type": "markdown",
      "source": [
        "**NOTE: You have to save the attached csv file to one of your subfolders in Google Drive and change the name of the subfolder below, accordingly.**"
      ],
      "metadata": {
        "id": "lUPIQIxqIfvI"
      }
    },
    {
      "cell_type": "code",
      "source": [
        "cd gdrive/MyDrive/'Colab Notebooks'/Book/Datasets"
      ],
      "metadata": {
        "id": "daYIZXyhdO0z",
        "outputId": "4249ae96-95f6-4e84-c5c5-2e27d5136e12",
        "colab": {
          "base_uri": "https://localhost:8080/"
        }
      },
      "execution_count": null,
      "outputs": [
        {
          "metadata": {
            "tags": null
          },
          "name": "stderr",
          "output_type": "stream",
          "text": [
            "ERROR:root:Internal Python error in the inspect module.\n",
            "Below is the traceback from this internal error.\n",
            "\n",
            "ERROR:root:Internal Python error in the inspect module.\n",
            "Below is the traceback from this internal error.\n",
            "\n",
            "ERROR:root:Internal Python error in the inspect module.\n",
            "Below is the traceback from this internal error.\n",
            "\n"
          ]
        },
        {
          "metadata": {
            "tags": null
          },
          "name": "stdout",
          "output_type": "stream",
          "text": [
            "Traceback (most recent call last):\n",
            "  File \"/usr/local/lib/python3.10/dist-packages/IPython/core/interactiveshell.py\", line 3553, in run_code\n",
            "    exec(code_obj, self.user_global_ns, self.user_ns)\n",
            "  File \"<ipython-input-39-f19a4b64c50b>\", line 1, in <cell line: 1>\n",
            "    get_ipython().run_line_magic('cd', \"gdrive/MyDrive/'Colab Notebooks'/Book/Datasets\")\n",
            "  File \"/usr/local/lib/python3.10/dist-packages/IPython/core/interactiveshell.py\", line 2418, in run_line_magic\n",
            "    result = fn(*args, **kwargs)\n",
            "  File \"<decorator-gen-85>\", line 2, in cd\n",
            "  File \"/usr/local/lib/python3.10/dist-packages/IPython/core/magic.py\", line 187, in <lambda>\n",
            "    call = lambda f, *a, **k: f(*a, **k)\n",
            "  File \"/usr/local/lib/python3.10/dist-packages/IPython/core/magics/osm.py\", line 342, in cd\n",
            "    oldcwd = os.getcwd()\n",
            "OSError: [Errno 107] Transport endpoint is not connected\n",
            "\n",
            "During handling of the above exception, another exception occurred:\n",
            "\n",
            "Traceback (most recent call last):\n",
            "  File \"/usr/local/lib/python3.10/dist-packages/IPython/core/interactiveshell.py\", line 2099, in showtraceback\n",
            "    stb = value._render_traceback_()\n",
            "AttributeError: 'OSError' object has no attribute '_render_traceback_'\n",
            "\n",
            "During handling of the above exception, another exception occurred:\n",
            "\n",
            "Traceback (most recent call last):\n",
            "  File \"/usr/local/lib/python3.10/dist-packages/IPython/core/ultratb.py\", line 1101, in get_records\n",
            "    return _fixed_getinnerframes(etb, number_of_lines_of_context, tb_offset)\n",
            "  File \"/usr/local/lib/python3.10/dist-packages/IPython/core/ultratb.py\", line 248, in wrapped\n",
            "    return f(*args, **kwargs)\n",
            "  File \"/usr/local/lib/python3.10/dist-packages/IPython/core/ultratb.py\", line 281, in _fixed_getinnerframes\n",
            "    records = fix_frame_records_filenames(inspect.getinnerframes(etb, context))\n",
            "  File \"/usr/lib/python3.10/inspect.py\", line 1662, in getinnerframes\n",
            "    frameinfo = (tb.tb_frame,) + getframeinfo(tb, context)\n",
            "  File \"/usr/lib/python3.10/inspect.py\", line 1620, in getframeinfo\n",
            "    filename = getsourcefile(frame) or getfile(frame)\n",
            "  File \"/usr/lib/python3.10/inspect.py\", line 829, in getsourcefile\n",
            "    module = getmodule(object, filename)\n",
            "  File \"/usr/lib/python3.10/inspect.py\", line 861, in getmodule\n",
            "    file = getabsfile(object, _filename)\n",
            "  File \"/usr/lib/python3.10/inspect.py\", line 845, in getabsfile\n",
            "    return os.path.normcase(os.path.abspath(_filename))\n",
            "  File \"/usr/lib/python3.10/posixpath.py\", line 384, in abspath\n",
            "    cwd = os.getcwd()\n",
            "OSError: [Errno 107] Transport endpoint is not connected\n",
            "Traceback (most recent call last):\n",
            "  File \"/usr/local/lib/python3.10/dist-packages/IPython/core/interactiveshell.py\", line 3553, in run_code\n",
            "    exec(code_obj, self.user_global_ns, self.user_ns)\n",
            "  File \"<ipython-input-39-f19a4b64c50b>\", line 1, in <cell line: 1>\n",
            "    get_ipython().run_line_magic('cd', \"gdrive/MyDrive/'Colab Notebooks'/Book/Datasets\")\n",
            "  File \"/usr/local/lib/python3.10/dist-packages/IPython/core/interactiveshell.py\", line 2418, in run_line_magic\n",
            "    result = fn(*args, **kwargs)\n",
            "  File \"<decorator-gen-85>\", line 2, in cd\n",
            "  File \"/usr/local/lib/python3.10/dist-packages/IPython/core/magic.py\", line 187, in <lambda>\n",
            "    call = lambda f, *a, **k: f(*a, **k)\n",
            "  File \"/usr/local/lib/python3.10/dist-packages/IPython/core/magics/osm.py\", line 342, in cd\n",
            "    oldcwd = os.getcwd()\n",
            "OSError: [Errno 107] Transport endpoint is not connected\n",
            "\n",
            "During handling of the above exception, another exception occurred:\n",
            "\n",
            "Traceback (most recent call last):\n",
            "  File \"/usr/local/lib/python3.10/dist-packages/IPython/core/interactiveshell.py\", line 2099, in showtraceback\n",
            "    stb = value._render_traceback_()\n",
            "AttributeError: 'OSError' object has no attribute '_render_traceback_'\n",
            "\n",
            "During handling of the above exception, another exception occurred:\n",
            "\n",
            "Traceback (most recent call last):\n",
            "  File \"/usr/local/lib/python3.10/dist-packages/IPython/core/interactiveshell.py\", line 3473, in run_ast_nodes\n",
            "    if (await self.run_code(code, result,  async_=asy)):\n",
            "  File \"/usr/local/lib/python3.10/dist-packages/IPython/core/interactiveshell.py\", line 3575, in run_code\n",
            "    self.showtraceback(running_compiled_code=True)\n",
            "  File \"/usr/local/lib/python3.10/dist-packages/IPython/core/interactiveshell.py\", line 2101, in showtraceback\n",
            "    stb = self.InteractiveTB.structured_traceback(etype,\n",
            "  File \"/usr/local/lib/python3.10/dist-packages/IPython/core/ultratb.py\", line 1367, in structured_traceback\n",
            "    return FormattedTB.structured_traceback(\n",
            "  File \"/usr/local/lib/python3.10/dist-packages/IPython/core/ultratb.py\", line 1267, in structured_traceback\n",
            "    return VerboseTB.structured_traceback(\n",
            "  File \"/usr/local/lib/python3.10/dist-packages/IPython/core/ultratb.py\", line 1124, in structured_traceback\n",
            "    formatted_exception = self.format_exception_as_a_whole(etype, evalue, etb, number_of_lines_of_context,\n",
            "  File \"/usr/local/lib/python3.10/dist-packages/IPython/core/ultratb.py\", line 1082, in format_exception_as_a_whole\n",
            "    last_unique, recursion_repeat = find_recursion(orig_etype, evalue, records)\n",
            "  File \"/usr/local/lib/python3.10/dist-packages/IPython/core/ultratb.py\", line 382, in find_recursion\n",
            "    return len(records), 0\n",
            "TypeError: object of type 'NoneType' has no len()\n",
            "\n",
            "During handling of the above exception, another exception occurred:\n",
            "\n",
            "Traceback (most recent call last):\n",
            "  File \"/usr/local/lib/python3.10/dist-packages/IPython/core/interactiveshell.py\", line 2099, in showtraceback\n",
            "    stb = value._render_traceback_()\n",
            "AttributeError: 'TypeError' object has no attribute '_render_traceback_'\n",
            "\n",
            "During handling of the above exception, another exception occurred:\n",
            "\n",
            "Traceback (most recent call last):\n",
            "  File \"/usr/local/lib/python3.10/dist-packages/IPython/core/ultratb.py\", line 1101, in get_records\n",
            "    return _fixed_getinnerframes(etb, number_of_lines_of_context, tb_offset)\n",
            "  File \"/usr/local/lib/python3.10/dist-packages/IPython/core/ultratb.py\", line 248, in wrapped\n",
            "    return f(*args, **kwargs)\n",
            "  File \"/usr/local/lib/python3.10/dist-packages/IPython/core/ultratb.py\", line 281, in _fixed_getinnerframes\n",
            "    records = fix_frame_records_filenames(inspect.getinnerframes(etb, context))\n",
            "  File \"/usr/lib/python3.10/inspect.py\", line 1662, in getinnerframes\n",
            "    frameinfo = (tb.tb_frame,) + getframeinfo(tb, context)\n",
            "  File \"/usr/lib/python3.10/inspect.py\", line 1620, in getframeinfo\n",
            "    filename = getsourcefile(frame) or getfile(frame)\n",
            "  File \"/usr/lib/python3.10/inspect.py\", line 829, in getsourcefile\n",
            "    module = getmodule(object, filename)\n",
            "  File \"/usr/lib/python3.10/inspect.py\", line 861, in getmodule\n",
            "    file = getabsfile(object, _filename)\n",
            "  File \"/usr/lib/python3.10/inspect.py\", line 845, in getabsfile\n",
            "    return os.path.normcase(os.path.abspath(_filename))\n",
            "  File \"/usr/lib/python3.10/posixpath.py\", line 384, in abspath\n",
            "    cwd = os.getcwd()\n",
            "OSError: [Errno 107] Transport endpoint is not connected\n",
            "Traceback (most recent call last):\n",
            "  File \"/usr/local/lib/python3.10/dist-packages/IPython/core/interactiveshell.py\", line 3553, in run_code\n",
            "    exec(code_obj, self.user_global_ns, self.user_ns)\n",
            "  File \"<ipython-input-39-f19a4b64c50b>\", line 1, in <cell line: 1>\n",
            "    get_ipython().run_line_magic('cd', \"gdrive/MyDrive/'Colab Notebooks'/Book/Datasets\")\n",
            "  File \"/usr/local/lib/python3.10/dist-packages/IPython/core/interactiveshell.py\", line 2418, in run_line_magic\n",
            "    result = fn(*args, **kwargs)\n",
            "  File \"<decorator-gen-85>\", line 2, in cd\n",
            "  File \"/usr/local/lib/python3.10/dist-packages/IPython/core/magic.py\", line 187, in <lambda>\n",
            "    call = lambda f, *a, **k: f(*a, **k)\n",
            "  File \"/usr/local/lib/python3.10/dist-packages/IPython/core/magics/osm.py\", line 342, in cd\n",
            "    oldcwd = os.getcwd()\n",
            "OSError: [Errno 107] Transport endpoint is not connected\n",
            "\n",
            "During handling of the above exception, another exception occurred:\n",
            "\n",
            "Traceback (most recent call last):\n",
            "  File \"/usr/local/lib/python3.10/dist-packages/IPython/core/interactiveshell.py\", line 2099, in showtraceback\n",
            "    stb = value._render_traceback_()\n",
            "AttributeError: 'OSError' object has no attribute '_render_traceback_'\n",
            "\n",
            "During handling of the above exception, another exception occurred:\n",
            "\n",
            "Traceback (most recent call last):\n",
            "  File \"/usr/local/lib/python3.10/dist-packages/IPython/core/interactiveshell.py\", line 3473, in run_ast_nodes\n",
            "    if (await self.run_code(code, result,  async_=asy)):\n",
            "  File \"/usr/local/lib/python3.10/dist-packages/IPython/core/interactiveshell.py\", line 3575, in run_code\n",
            "    self.showtraceback(running_compiled_code=True)\n",
            "  File \"/usr/local/lib/python3.10/dist-packages/IPython/core/interactiveshell.py\", line 2101, in showtraceback\n",
            "    stb = self.InteractiveTB.structured_traceback(etype,\n",
            "  File \"/usr/local/lib/python3.10/dist-packages/IPython/core/ultratb.py\", line 1367, in structured_traceback\n",
            "    return FormattedTB.structured_traceback(\n",
            "  File \"/usr/local/lib/python3.10/dist-packages/IPython/core/ultratb.py\", line 1267, in structured_traceback\n",
            "    return VerboseTB.structured_traceback(\n",
            "  File \"/usr/local/lib/python3.10/dist-packages/IPython/core/ultratb.py\", line 1124, in structured_traceback\n",
            "    formatted_exception = self.format_exception_as_a_whole(etype, evalue, etb, number_of_lines_of_context,\n",
            "  File \"/usr/local/lib/python3.10/dist-packages/IPython/core/ultratb.py\", line 1082, in format_exception_as_a_whole\n",
            "    last_unique, recursion_repeat = find_recursion(orig_etype, evalue, records)\n",
            "  File \"/usr/local/lib/python3.10/dist-packages/IPython/core/ultratb.py\", line 382, in find_recursion\n",
            "    return len(records), 0\n",
            "TypeError: object of type 'NoneType' has no len()\n",
            "\n",
            "During handling of the above exception, another exception occurred:\n",
            "\n",
            "Traceback (most recent call last):\n",
            "  File \"/usr/local/lib/python3.10/dist-packages/IPython/core/interactiveshell.py\", line 2099, in showtraceback\n",
            "    stb = value._render_traceback_()\n",
            "AttributeError: 'TypeError' object has no attribute '_render_traceback_'\n",
            "\n",
            "During handling of the above exception, another exception occurred:\n",
            "\n",
            "Traceback (most recent call last):\n",
            "  File \"/usr/local/lib/python3.10/dist-packages/IPython/core/interactiveshell.py\", line 3030, in _run_cell\n",
            "    return runner(coro)\n",
            "  File \"/usr/local/lib/python3.10/dist-packages/IPython/core/async_helpers.py\", line 78, in _pseudo_sync_runner\n",
            "    coro.send(None)\n",
            "  File \"/usr/local/lib/python3.10/dist-packages/IPython/core/interactiveshell.py\", line 3257, in run_cell_async\n",
            "    has_raised = await self.run_ast_nodes(code_ast.body, cell_name,\n",
            "  File \"/usr/local/lib/python3.10/dist-packages/IPython/core/interactiveshell.py\", line 3492, in run_ast_nodes\n",
            "    self.showtraceback()\n",
            "  File \"/usr/local/lib/python3.10/dist-packages/IPython/core/interactiveshell.py\", line 2101, in showtraceback\n",
            "    stb = self.InteractiveTB.structured_traceback(etype,\n",
            "  File \"/usr/local/lib/python3.10/dist-packages/IPython/core/ultratb.py\", line 1367, in structured_traceback\n",
            "    return FormattedTB.structured_traceback(\n",
            "  File \"/usr/local/lib/python3.10/dist-packages/IPython/core/ultratb.py\", line 1267, in structured_traceback\n",
            "    return VerboseTB.structured_traceback(\n",
            "  File \"/usr/local/lib/python3.10/dist-packages/IPython/core/ultratb.py\", line 1142, in structured_traceback\n",
            "    formatted_exceptions += self.format_exception_as_a_whole(etype, evalue, etb, lines_of_context,\n",
            "  File \"/usr/local/lib/python3.10/dist-packages/IPython/core/ultratb.py\", line 1082, in format_exception_as_a_whole\n",
            "    last_unique, recursion_repeat = find_recursion(orig_etype, evalue, records)\n",
            "  File \"/usr/local/lib/python3.10/dist-packages/IPython/core/ultratb.py\", line 382, in find_recursion\n",
            "    return len(records), 0\n",
            "TypeError: object of type 'NoneType' has no len()\n",
            "\n",
            "During handling of the above exception, another exception occurred:\n",
            "\n",
            "Traceback (most recent call last):\n",
            "  File \"/usr/local/lib/python3.10/dist-packages/IPython/core/interactiveshell.py\", line 2099, in showtraceback\n",
            "    stb = value._render_traceback_()\n",
            "AttributeError: 'TypeError' object has no attribute '_render_traceback_'\n",
            "\n",
            "During handling of the above exception, another exception occurred:\n",
            "\n",
            "Traceback (most recent call last):\n",
            "  File \"/usr/local/lib/python3.10/dist-packages/IPython/core/ultratb.py\", line 1101, in get_records\n",
            "    return _fixed_getinnerframes(etb, number_of_lines_of_context, tb_offset)\n",
            "  File \"/usr/local/lib/python3.10/dist-packages/IPython/core/ultratb.py\", line 248, in wrapped\n",
            "    return f(*args, **kwargs)\n",
            "  File \"/usr/local/lib/python3.10/dist-packages/IPython/core/ultratb.py\", line 281, in _fixed_getinnerframes\n",
            "    records = fix_frame_records_filenames(inspect.getinnerframes(etb, context))\n",
            "  File \"/usr/lib/python3.10/inspect.py\", line 1662, in getinnerframes\n",
            "    frameinfo = (tb.tb_frame,) + getframeinfo(tb, context)\n",
            "  File \"/usr/lib/python3.10/inspect.py\", line 1620, in getframeinfo\n",
            "    filename = getsourcefile(frame) or getfile(frame)\n",
            "  File \"/usr/lib/python3.10/inspect.py\", line 829, in getsourcefile\n",
            "    module = getmodule(object, filename)\n",
            "  File \"/usr/lib/python3.10/inspect.py\", line 861, in getmodule\n",
            "    file = getabsfile(object, _filename)\n",
            "  File \"/usr/lib/python3.10/inspect.py\", line 845, in getabsfile\n",
            "    return os.path.normcase(os.path.abspath(_filename))\n",
            "  File \"/usr/lib/python3.10/posixpath.py\", line 384, in abspath\n",
            "    cwd = os.getcwd()\n",
            "OSError: [Errno 107] Transport endpoint is not connected\n"
          ]
        }
      ]
    },
    {
      "cell_type": "code",
      "source": [
        "ls"
      ],
      "metadata": {
        "id": "R6Vx8Cz4dRf4",
        "colab": {
          "base_uri": "https://localhost:8080/"
        },
        "outputId": "30044de1-920c-474f-8098-65ba7d642f47"
      },
      "execution_count": null,
      "outputs": [
        {
          "output_type": "stream",
          "name": "stdout",
          "text": [
            "walkvsrun.csv\n"
          ]
        }
      ]
    },
    {
      "cell_type": "markdown",
      "source": [
        "The walk vs run data set."
      ],
      "metadata": {
        "id": "vRcVKbYBdUSj"
      }
    },
    {
      "cell_type": "code",
      "source": [
        "dataset = pd.read_csv('walkvsrun.csv', header=None)\n",
        "print(dataset.info())"
      ],
      "metadata": {
        "id": "u4jOD3KtdSBj",
        "colab": {
          "base_uri": "https://localhost:8080/"
        },
        "outputId": "883cca70-2fbf-476a-bc24-e309332d526a"
      },
      "execution_count": null,
      "outputs": [
        {
          "output_type": "stream",
          "name": "stdout",
          "text": [
            "<class 'pandas.core.frame.DataFrame'>\n",
            "RangeIndex: 192 entries, 0 to 191\n",
            "Columns: 5201 entries, 0 to 5200\n",
            "dtypes: float64(5200), int64(1)\n",
            "memory usage: 7.6 MB\n",
            "None\n"
          ]
        }
      ]
    },
    {
      "cell_type": "code",
      "source": [
        "print(dataset.shape)\n",
        "print(dataset.head(5))"
      ],
      "metadata": {
        "id": "EKkqqfi5gu-p",
        "colab": {
          "base_uri": "https://localhost:8080/"
        },
        "outputId": "abdfd3ca-5070-43cb-b5cc-e29851405981"
      },
      "execution_count": null,
      "outputs": [
        {
          "output_type": "stream",
          "name": "stdout",
          "text": [
            "(192, 5201)\n",
            "      0        1        2        3       4        5         6        7     \\\n",
            "0 -8.45340 -5.99020 -3.98400 -2.47060 -1.3035 -0.49068 -0.041913 -0.59172   \n",
            "1 -4.17710 -4.67900 -5.08760 -5.31620 -5.6017 -5.70730 -5.379100 -4.75640   \n",
            "2 -2.42120 -2.43750 -2.48920 -2.50000 -2.5082 -2.51100 -2.548200 -2.57450   \n",
            "3  0.26166 -0.13816 -0.22947 -0.46808 -1.0790 -1.88940 -2.691600 -3.91420   \n",
            "4 -0.63378  0.10523  0.79335  1.76780  3.7666  8.38150  8.533500  5.18550   \n",
            "\n",
            "     8        9     ...    5191    5192    5193    5194    5195    5196  \\\n",
            "0 -1.2731 -2.99890  ...  20.969  20.985  21.001  21.018  21.034  21.050   \n",
            "1 -4.1548 -3.54730  ...  20.969  20.985  21.001  21.018  21.034  21.050   \n",
            "2 -2.5625 -2.55620  ...  20.968  20.985  21.001  21.017  21.033  21.050   \n",
            "3 -5.8555 -7.46060  ...  20.968  20.984  21.001  21.017  21.033  21.049   \n",
            "4  2.0530 -0.26899  ...  20.968  20.984  21.001  21.017  21.033  21.049   \n",
            "\n",
            "     5197    5198    5199  5200  \n",
            "0  21.066  21.083  21.099     1  \n",
            "1  21.066  21.083  21.099     1  \n",
            "2  21.066  21.082  21.098     1  \n",
            "3  21.066  21.082  21.098     1  \n",
            "4  21.066  21.082  21.098     1  \n",
            "\n",
            "[5 rows x 5201 columns]\n"
          ]
        }
      ]
    },
    {
      "cell_type": "markdown",
      "source": [
        "#####**Preparing the Data**"
      ],
      "metadata": {
        "id": "gRtywxq-e_9v"
      }
    },
    {
      "cell_type": "markdown",
      "source": [
        "The first up to the second to the last columns will become our input, which we will assign to the variable $X$."
      ],
      "metadata": {
        "id": "qrWNjz33kJ-z"
      }
    },
    {
      "cell_type": "code",
      "source": [
        "X = dataset.loc[:,0:dataset.shape[1]-2]\n",
        "print(X.shape)"
      ],
      "metadata": {
        "id": "lqmUZf69fBgK",
        "colab": {
          "base_uri": "https://localhost:8080/"
        },
        "outputId": "aac6b4b7-3c1c-4c43-d1fb-af30434bad73"
      },
      "execution_count": null,
      "outputs": [
        {
          "output_type": "stream",
          "name": "stdout",
          "text": [
            "(192, 5200)\n"
          ]
        }
      ]
    },
    {
      "cell_type": "markdown",
      "source": [
        "The last column will become our label, which we will assign to the variable $y$."
      ],
      "metadata": {
        "id": "18tNHt6DkFx2"
      }
    },
    {
      "cell_type": "code",
      "source": [
        "y_dataset = dataset.loc[:,dataset.shape[1]-1]\n",
        "y_label = np.array(y_dataset)\n",
        "y = tf.keras.utils.to_categorical(y_label)\n",
        "print(y.shape)"
      ],
      "metadata": {
        "colab": {
          "base_uri": "https://localhost:8080/"
        },
        "id": "zvh1h7NTj3-C",
        "outputId": "9e9ca8c3-8003-46ee-f053-309570e69d58"
      },
      "execution_count": null,
      "outputs": [
        {
          "output_type": "stream",
          "name": "stdout",
          "text": [
            "(192, 2)\n"
          ]
        }
      ]
    },
    {
      "cell_type": "markdown",
      "source": [
        "####**Defining the model**"
      ],
      "metadata": {
        "id": "te95nwDRkTlX"
      }
    },
    {
      "cell_type": "markdown",
      "source": [
        "**Task 1.**\n",
        "\n",
        "Using the *train_test_split()* function, split the training data, validation data, and test data into 80%, 10%, and 10%, respectively.<br>\n",
        "\n",
        "Assign training input data to the *X_train* and the label input data to *y_train*. Assign validation input data to the *X_val* and the label input data to *y_val*. Assign test input data to the *X_test* and the label input data to *y_test*."
      ],
      "metadata": {
        "id": "HVR8vuULkUT-"
      }
    },
    {
      "cell_type": "code",
      "source": [
        "# Write down the values here\n",
        "trainRatio = 80/100\n",
        "valRatio = 10/100\n",
        "testRatio = 10/100\n",
        "\n",
        "# Split the training, validation and test data. Write your code below this line.\n",
        "X_train, X_test, y_train, y_test = train_test_split(X, y, test_size =  1-  trainRatio)\n",
        "X_val, X_test, y_val, y_test = train_test_split(X_test, y_test, test_size = testRatio/(testRatio + valRatio))\n"
      ],
      "metadata": {
        "id": "ZPdfqHTRkW_3"
      },
      "execution_count": null,
      "outputs": []
    },
    {
      "cell_type": "code",
      "source": [
        "print(X_val.shape)"
      ],
      "metadata": {
        "id": "Q2Blt1tOkahb",
        "colab": {
          "base_uri": "https://localhost:8080/"
        },
        "outputId": "206dec05-015a-4c56-df24-8c603b7eeff2"
      },
      "execution_count": null,
      "outputs": [
        {
          "output_type": "stream",
          "name": "stdout",
          "text": [
            "(19, 5200)\n"
          ]
        }
      ]
    },
    {
      "cell_type": "code",
      "source": [
        "print(y_val.shape)"
      ],
      "metadata": {
        "id": "btKzX34xkcdT",
        "colab": {
          "base_uri": "https://localhost:8080/"
        },
        "outputId": "2bf6dc52-02ad-4d9f-ab25-261cf7408046"
      },
      "execution_count": null,
      "outputs": [
        {
          "output_type": "stream",
          "name": "stdout",
          "text": [
            "(19, 2)\n"
          ]
        }
      ]
    },
    {
      "cell_type": "code",
      "source": [
        "print(y_test.shape)"
      ],
      "metadata": {
        "id": "2clRI5MykeKN",
        "colab": {
          "base_uri": "https://localhost:8080/"
        },
        "outputId": "8914ec3b-305e-49ed-d1c1-1f4d537dec3c"
      },
      "execution_count": null,
      "outputs": [
        {
          "output_type": "stream",
          "name": "stdout",
          "text": [
            "(20, 2)\n"
          ]
        }
      ]
    },
    {
      "cell_type": "markdown",
      "source": [
        "**Task 2.**\n",
        "<br>\n",
        "Set up your network *model*. Use three layers - an input layer, a hidden layer and an output layer. Use a reasonable number of nodes for the hidden layer. Display the summary of the model."
      ],
      "metadata": {
        "id": "_TZNpS-ZKX8y"
      }
    },
    {
      "cell_type": "code",
      "source": [
        "# Write your code here.\n",
        "model = Sequential([\n",
        "    keras.layers.Input(shape = X_train.shape[1:]),\n",
        "    keras.layers.Dense(5201, activation='sigmoid'),\n",
        "    keras.layers.Dense(2, activation='softmax')\n",
        "])\n",
        "model.summary()"
      ],
      "metadata": {
        "id": "sZr0fUfLkenX",
        "colab": {
          "base_uri": "https://localhost:8080/"
        },
        "outputId": "8022e5fd-fcf2-459e-be24-f82d4c17a012"
      },
      "execution_count": null,
      "outputs": [
        {
          "output_type": "stream",
          "name": "stdout",
          "text": [
            "Model: \"sequential_8\"\n",
            "_________________________________________________________________\n",
            " Layer (type)                Output Shape              Param #   \n",
            "=================================================================\n",
            " dense_16 (Dense)            (None, 5201)              27050401  \n",
            "                                                                 \n",
            " dense_17 (Dense)            (None, 2)                 10404     \n",
            "                                                                 \n",
            "=================================================================\n",
            "Total params: 27,060,805\n",
            "Trainable params: 27,060,805\n",
            "Non-trainable params: 0\n",
            "_________________________________________________________________\n"
          ]
        }
      ]
    },
    {
      "cell_type": "markdown",
      "source": [
        "**Task 3.**\n",
        "<br>\n",
        "Compile your model using the *compile* function, and set up the optimizer and the loss. You can find the various loss functions you can use in this [weblink](https://keras.io/api/losses/). Use 'accuracy' as the metric."
      ],
      "metadata": {
        "id": "DEtsez9XLV-q"
      }
    },
    {
      "cell_type": "code",
      "source": [
        "# Write your code here.\n",
        "model.compile(optimizer = 'adam',\n",
        "              loss = keras.losses.CategoricalCrossentropy(),\n",
        "              metrics=['accuracy'])"
      ],
      "metadata": {
        "id": "N3LFnyiilAyX"
      },
      "execution_count": null,
      "outputs": []
    },
    {
      "cell_type": "markdown",
      "source": [
        "**Task 4.**\n",
        "<br>\n",
        "Train your model using the fit function. You may select your own number of epochs. Choose verbose = 1. You will need to assign the output to the variable history, so that you'll be able to see what happens during the training."
      ],
      "metadata": {
        "id": "6YCU8ulDL4Na"
      }
    },
    {
      "cell_type": "code",
      "source": [
        "# Write your code here.\n",
        "history = model.fit(X_train, y_train, epochs=100, validation_data=(X_val, y_val), verbose=1)"
      ],
      "metadata": {
        "id": "i-mSxjX6lB-K",
        "colab": {
          "base_uri": "https://localhost:8080/"
        },
        "outputId": "35e803f9-72ab-4ff5-a935-cf952ccb3244"
      },
      "execution_count": null,
      "outputs": [
        {
          "output_type": "stream",
          "name": "stdout",
          "text": [
            "Epoch 1/100\n",
            "5/5 [==============================] - 4s 815ms/step - loss: 16.1270 - accuracy: 0.5163 - val_loss: 13.4270 - val_accuracy: 0.5263\n",
            "Epoch 2/100\n",
            "5/5 [==============================] - 3s 501ms/step - loss: 10.0195 - accuracy: 0.5294 - val_loss: 3.0970 - val_accuracy: 0.6842\n",
            "Epoch 3/100\n",
            "5/5 [==============================] - 2s 459ms/step - loss: 2.6998 - accuracy: 0.5033 - val_loss: 2.6397 - val_accuracy: 0.6316\n",
            "Epoch 4/100\n",
            "5/5 [==============================] - 2s 459ms/step - loss: 2.5274 - accuracy: 0.4967 - val_loss: 0.7322 - val_accuracy: 0.5789\n",
            "Epoch 5/100\n",
            "5/5 [==============================] - 2s 468ms/step - loss: 1.4240 - accuracy: 0.5556 - val_loss: 1.6607 - val_accuracy: 0.4737\n",
            "Epoch 6/100\n",
            "5/5 [==============================] - 3s 576ms/step - loss: 0.9355 - accuracy: 0.5817 - val_loss: 0.7587 - val_accuracy: 0.6316\n",
            "Epoch 7/100\n",
            "5/5 [==============================] - 3s 687ms/step - loss: 0.7203 - accuracy: 0.6471 - val_loss: 0.7603 - val_accuracy: 0.6316\n",
            "Epoch 8/100\n",
            "5/5 [==============================] - 2s 470ms/step - loss: 0.6129 - accuracy: 0.6471 - val_loss: 0.4364 - val_accuracy: 0.6842\n",
            "Epoch 9/100\n",
            "5/5 [==============================] - 2s 464ms/step - loss: 0.4990 - accuracy: 0.7190 - val_loss: 0.4715 - val_accuracy: 0.8421\n",
            "Epoch 10/100\n",
            "5/5 [==============================] - 2s 467ms/step - loss: 0.4453 - accuracy: 0.7386 - val_loss: 0.4775 - val_accuracy: 0.8421\n",
            "Epoch 11/100\n",
            "5/5 [==============================] - 2s 468ms/step - loss: 0.4090 - accuracy: 0.8170 - val_loss: 0.4405 - val_accuracy: 0.7368\n",
            "Epoch 12/100\n",
            "5/5 [==============================] - 4s 750ms/step - loss: 0.3939 - accuracy: 0.8301 - val_loss: 0.4593 - val_accuracy: 0.7895\n",
            "Epoch 13/100\n",
            "5/5 [==============================] - 3s 500ms/step - loss: 0.3652 - accuracy: 0.9020 - val_loss: 0.4292 - val_accuracy: 0.7368\n",
            "Epoch 14/100\n",
            "5/5 [==============================] - 2s 461ms/step - loss: 0.3540 - accuracy: 0.8693 - val_loss: 0.4488 - val_accuracy: 0.7368\n",
            "Epoch 15/100\n",
            "5/5 [==============================] - 2s 467ms/step - loss: 0.3523 - accuracy: 0.8693 - val_loss: 0.4650 - val_accuracy: 0.7895\n",
            "Epoch 16/100\n",
            "5/5 [==============================] - 2s 464ms/step - loss: 0.3336 - accuracy: 0.8627 - val_loss: 0.4396 - val_accuracy: 0.7368\n",
            "Epoch 17/100\n",
            "5/5 [==============================] - 3s 589ms/step - loss: 0.3347 - accuracy: 0.9085 - val_loss: 0.4644 - val_accuracy: 0.7368\n",
            "Epoch 18/100\n",
            "5/5 [==============================] - 3s 679ms/step - loss: 0.3261 - accuracy: 0.8758 - val_loss: 0.4502 - val_accuracy: 0.6842\n",
            "Epoch 19/100\n",
            "5/5 [==============================] - 2s 469ms/step - loss: 0.3176 - accuracy: 0.9020 - val_loss: 0.4814 - val_accuracy: 0.7895\n",
            "Epoch 20/100\n",
            "5/5 [==============================] - 2s 463ms/step - loss: 0.3124 - accuracy: 0.8693 - val_loss: 0.4653 - val_accuracy: 0.7368\n",
            "Epoch 21/100\n",
            "5/5 [==============================] - 2s 462ms/step - loss: 0.2891 - accuracy: 0.9346 - val_loss: 0.4661 - val_accuracy: 0.7368\n",
            "Epoch 22/100\n",
            "5/5 [==============================] - 2s 459ms/step - loss: 0.2649 - accuracy: 0.9412 - val_loss: 0.4639 - val_accuracy: 0.6842\n",
            "Epoch 23/100\n",
            "5/5 [==============================] - 3s 730ms/step - loss: 0.2654 - accuracy: 0.9150 - val_loss: 0.5207 - val_accuracy: 0.7895\n",
            "Epoch 24/100\n",
            "5/5 [==============================] - 3s 532ms/step - loss: 0.2726 - accuracy: 0.9542 - val_loss: 0.4695 - val_accuracy: 0.6842\n",
            "Epoch 25/100\n",
            "5/5 [==============================] - 2s 473ms/step - loss: 0.2850 - accuracy: 0.8693 - val_loss: 0.4780 - val_accuracy: 0.7895\n",
            "Epoch 26/100\n",
            "5/5 [==============================] - 2s 467ms/step - loss: 0.3150 - accuracy: 0.8431 - val_loss: 0.4869 - val_accuracy: 0.7368\n",
            "Epoch 27/100\n",
            "5/5 [==============================] - 2s 472ms/step - loss: 0.2557 - accuracy: 0.9020 - val_loss: 0.4752 - val_accuracy: 0.6842\n",
            "Epoch 28/100\n",
            "5/5 [==============================] - 3s 568ms/step - loss: 0.2599 - accuracy: 0.9412 - val_loss: 0.5095 - val_accuracy: 0.7895\n",
            "Epoch 29/100\n",
            "5/5 [==============================] - 4s 706ms/step - loss: 0.2132 - accuracy: 0.9542 - val_loss: 0.4931 - val_accuracy: 0.6842\n",
            "Epoch 30/100\n",
            "5/5 [==============================] - 2s 471ms/step - loss: 0.2484 - accuracy: 0.9150 - val_loss: 0.5270 - val_accuracy: 0.7895\n",
            "Epoch 31/100\n",
            "5/5 [==============================] - 2s 465ms/step - loss: 0.2204 - accuracy: 0.9673 - val_loss: 0.5146 - val_accuracy: 0.6842\n",
            "Epoch 32/100\n",
            "5/5 [==============================] - 2s 457ms/step - loss: 0.2207 - accuracy: 0.9412 - val_loss: 0.5161 - val_accuracy: 0.7368\n",
            "Epoch 33/100\n",
            "5/5 [==============================] - 2s 468ms/step - loss: 0.2054 - accuracy: 0.9542 - val_loss: 0.5230 - val_accuracy: 0.7368\n",
            "Epoch 34/100\n",
            "5/5 [==============================] - 4s 754ms/step - loss: 0.2087 - accuracy: 0.9281 - val_loss: 0.5248 - val_accuracy: 0.7895\n",
            "Epoch 35/100\n",
            "5/5 [==============================] - 3s 524ms/step - loss: 0.2041 - accuracy: 0.9673 - val_loss: 0.5599 - val_accuracy: 0.7895\n",
            "Epoch 36/100\n",
            "5/5 [==============================] - 2s 469ms/step - loss: 0.1989 - accuracy: 0.9477 - val_loss: 0.5514 - val_accuracy: 0.6842\n",
            "Epoch 37/100\n",
            "5/5 [==============================] - 2s 472ms/step - loss: 0.2100 - accuracy: 0.9477 - val_loss: 0.5706 - val_accuracy: 0.7895\n",
            "Epoch 38/100\n",
            "5/5 [==============================] - 2s 468ms/step - loss: 0.1762 - accuracy: 0.9542 - val_loss: 0.5524 - val_accuracy: 0.6842\n",
            "Epoch 39/100\n",
            "5/5 [==============================] - 3s 602ms/step - loss: 0.1913 - accuracy: 0.9412 - val_loss: 0.5772 - val_accuracy: 0.7895\n",
            "Epoch 40/100\n",
            "5/5 [==============================] - 4s 908ms/step - loss: 0.1831 - accuracy: 0.9673 - val_loss: 0.5623 - val_accuracy: 0.7895\n",
            "Epoch 41/100\n",
            "5/5 [==============================] - 3s 466ms/step - loss: 0.1824 - accuracy: 0.9477 - val_loss: 0.5641 - val_accuracy: 0.7368\n",
            "Epoch 42/100\n",
            "5/5 [==============================] - 2s 470ms/step - loss: 0.1732 - accuracy: 0.9608 - val_loss: 0.5611 - val_accuracy: 0.7368\n",
            "Epoch 43/100\n",
            "5/5 [==============================] - 2s 469ms/step - loss: 0.1699 - accuracy: 0.9673 - val_loss: 0.5816 - val_accuracy: 0.7895\n",
            "Epoch 44/100\n",
            "5/5 [==============================] - 3s 566ms/step - loss: 0.1683 - accuracy: 0.9673 - val_loss: 0.5769 - val_accuracy: 0.7895\n",
            "Epoch 45/100\n",
            "5/5 [==============================] - 4s 705ms/step - loss: 0.1650 - accuracy: 0.9608 - val_loss: 0.5746 - val_accuracy: 0.7895\n",
            "Epoch 46/100\n",
            "5/5 [==============================] - 2s 468ms/step - loss: 0.1629 - accuracy: 0.9542 - val_loss: 0.5826 - val_accuracy: 0.6842\n",
            "Epoch 47/100\n",
            "5/5 [==============================] - 2s 474ms/step - loss: 0.1682 - accuracy: 0.9477 - val_loss: 0.5903 - val_accuracy: 0.7895\n",
            "Epoch 48/100\n",
            "5/5 [==============================] - 2s 468ms/step - loss: 0.1540 - accuracy: 0.9673 - val_loss: 0.5866 - val_accuracy: 0.7895\n",
            "Epoch 49/100\n",
            "5/5 [==============================] - 2s 466ms/step - loss: 0.1507 - accuracy: 0.9673 - val_loss: 0.5968 - val_accuracy: 0.7895\n",
            "Epoch 50/100\n",
            "5/5 [==============================] - 4s 755ms/step - loss: 0.1503 - accuracy: 0.9608 - val_loss: 0.6035 - val_accuracy: 0.7368\n",
            "Epoch 51/100\n",
            "5/5 [==============================] - 3s 509ms/step - loss: 0.1476 - accuracy: 0.9608 - val_loss: 0.6190 - val_accuracy: 0.7895\n",
            "Epoch 52/100\n",
            "5/5 [==============================] - 2s 462ms/step - loss: 0.1422 - accuracy: 0.9739 - val_loss: 0.6171 - val_accuracy: 0.7895\n",
            "Epoch 53/100\n",
            "5/5 [==============================] - 2s 471ms/step - loss: 0.1395 - accuracy: 0.9608 - val_loss: 0.6325 - val_accuracy: 0.7895\n",
            "Epoch 54/100\n",
            "5/5 [==============================] - 2s 465ms/step - loss: 0.1352 - accuracy: 0.9673 - val_loss: 0.6476 - val_accuracy: 0.7895\n",
            "Epoch 55/100\n",
            "5/5 [==============================] - 3s 599ms/step - loss: 0.1337 - accuracy: 0.9739 - val_loss: 0.6367 - val_accuracy: 0.7895\n",
            "Epoch 56/100\n",
            "5/5 [==============================] - 3s 667ms/step - loss: 0.1413 - accuracy: 0.9608 - val_loss: 0.6587 - val_accuracy: 0.7368\n",
            "Epoch 57/100\n",
            "5/5 [==============================] - 2s 466ms/step - loss: 0.1495 - accuracy: 0.9673 - val_loss: 0.6623 - val_accuracy: 0.7895\n",
            "Epoch 58/100\n",
            "5/5 [==============================] - 2s 463ms/step - loss: 0.1510 - accuracy: 0.9608 - val_loss: 0.6578 - val_accuracy: 0.7368\n",
            "Epoch 59/100\n",
            "5/5 [==============================] - 2s 475ms/step - loss: 0.1200 - accuracy: 0.9673 - val_loss: 0.6748 - val_accuracy: 0.7895\n",
            "Epoch 60/100\n",
            "5/5 [==============================] - 2s 464ms/step - loss: 0.1320 - accuracy: 0.9739 - val_loss: 0.6783 - val_accuracy: 0.7368\n",
            "Epoch 61/100\n",
            "5/5 [==============================] - 4s 770ms/step - loss: 0.1194 - accuracy: 0.9608 - val_loss: 0.6829 - val_accuracy: 0.7368\n",
            "Epoch 62/100\n",
            "5/5 [==============================] - 3s 475ms/step - loss: 0.1167 - accuracy: 0.9673 - val_loss: 0.6806 - val_accuracy: 0.7895\n",
            "Epoch 63/100\n",
            "5/5 [==============================] - 2s 471ms/step - loss: 0.1169 - accuracy: 0.9739 - val_loss: 0.6720 - val_accuracy: 0.7368\n",
            "Epoch 64/100\n",
            "5/5 [==============================] - 2s 471ms/step - loss: 0.1148 - accuracy: 0.9739 - val_loss: 0.6775 - val_accuracy: 0.7368\n",
            "Epoch 65/100\n",
            "5/5 [==============================] - 2s 464ms/step - loss: 0.1134 - accuracy: 0.9739 - val_loss: 0.6833 - val_accuracy: 0.7368\n",
            "Epoch 66/100\n",
            "5/5 [==============================] - 3s 628ms/step - loss: 0.1135 - accuracy: 0.9739 - val_loss: 0.6931 - val_accuracy: 0.7368\n",
            "Epoch 67/100\n",
            "5/5 [==============================] - 3s 646ms/step - loss: 0.1123 - accuracy: 0.9608 - val_loss: 0.6964 - val_accuracy: 0.7368\n",
            "Epoch 68/100\n",
            "5/5 [==============================] - 2s 469ms/step - loss: 0.1074 - accuracy: 0.9673 - val_loss: 0.7045 - val_accuracy: 0.7368\n",
            "Epoch 69/100\n",
            "5/5 [==============================] - 2s 470ms/step - loss: 0.1130 - accuracy: 0.9739 - val_loss: 0.7043 - val_accuracy: 0.7368\n",
            "Epoch 70/100\n",
            "5/5 [==============================] - 2s 467ms/step - loss: 0.1186 - accuracy: 0.9673 - val_loss: 0.7251 - val_accuracy: 0.6842\n",
            "Epoch 71/100\n",
            "5/5 [==============================] - 2s 476ms/step - loss: 0.1076 - accuracy: 0.9804 - val_loss: 0.7337 - val_accuracy: 0.7368\n",
            "Epoch 72/100\n",
            "5/5 [==============================] - 4s 746ms/step - loss: 0.1064 - accuracy: 0.9673 - val_loss: 0.7397 - val_accuracy: 0.6842\n",
            "Epoch 73/100\n",
            "5/5 [==============================] - 3s 470ms/step - loss: 0.1112 - accuracy: 0.9608 - val_loss: 0.7366 - val_accuracy: 0.7368\n",
            "Epoch 74/100\n",
            "5/5 [==============================] - 2s 468ms/step - loss: 0.1092 - accuracy: 0.9739 - val_loss: 0.7337 - val_accuracy: 0.7895\n",
            "Epoch 75/100\n",
            "5/5 [==============================] - 2s 490ms/step - loss: 0.0958 - accuracy: 0.9739 - val_loss: 0.7521 - val_accuracy: 0.7368\n",
            "Epoch 76/100\n",
            "5/5 [==============================] - 3s 536ms/step - loss: 0.1027 - accuracy: 0.9673 - val_loss: 0.7405 - val_accuracy: 0.7368\n",
            "Epoch 77/100\n",
            "5/5 [==============================] - 4s 869ms/step - loss: 0.1029 - accuracy: 0.9608 - val_loss: 0.7548 - val_accuracy: 0.7368\n",
            "Epoch 78/100\n",
            "5/5 [==============================] - 3s 566ms/step - loss: 0.1017 - accuracy: 0.9673 - val_loss: 0.7426 - val_accuracy: 0.7895\n",
            "Epoch 79/100\n",
            "5/5 [==============================] - 2s 466ms/step - loss: 0.1037 - accuracy: 0.9739 - val_loss: 0.7541 - val_accuracy: 0.7368\n",
            "Epoch 80/100\n",
            "5/5 [==============================] - 2s 461ms/step - loss: 0.0986 - accuracy: 0.9739 - val_loss: 0.7577 - val_accuracy: 0.7895\n",
            "Epoch 81/100\n",
            "5/5 [==============================] - 2s 466ms/step - loss: 0.0992 - accuracy: 0.9673 - val_loss: 0.7634 - val_accuracy: 0.7368\n",
            "Epoch 82/100\n",
            "5/5 [==============================] - 3s 524ms/step - loss: 0.0982 - accuracy: 0.9804 - val_loss: 0.7630 - val_accuracy: 0.7368\n",
            "Epoch 83/100\n",
            "5/5 [==============================] - 4s 770ms/step - loss: 0.0928 - accuracy: 0.9673 - val_loss: 0.7732 - val_accuracy: 0.7368\n",
            "Epoch 84/100\n",
            "5/5 [==============================] - 2s 471ms/step - loss: 0.0950 - accuracy: 0.9739 - val_loss: 0.7633 - val_accuracy: 0.7895\n",
            "Epoch 85/100\n",
            "5/5 [==============================] - 2s 467ms/step - loss: 0.1023 - accuracy: 0.9739 - val_loss: 0.7688 - val_accuracy: 0.7895\n",
            "Epoch 86/100\n",
            "5/5 [==============================] - 2s 460ms/step - loss: 0.0919 - accuracy: 0.9739 - val_loss: 0.7804 - val_accuracy: 0.7368\n",
            "Epoch 87/100\n",
            "5/5 [==============================] - 2s 465ms/step - loss: 0.0893 - accuracy: 0.9739 - val_loss: 0.7845 - val_accuracy: 0.7368\n",
            "Epoch 88/100\n",
            "5/5 [==============================] - 3s 692ms/step - loss: 0.0962 - accuracy: 0.9673 - val_loss: 0.7848 - val_accuracy: 0.7368\n",
            "Epoch 89/100\n",
            "5/5 [==============================] - 3s 580ms/step - loss: 0.0833 - accuracy: 0.9804 - val_loss: 0.7798 - val_accuracy: 0.7895\n",
            "Epoch 90/100\n",
            "5/5 [==============================] - 2s 470ms/step - loss: 0.0945 - accuracy: 0.9739 - val_loss: 0.7859 - val_accuracy: 0.7368\n",
            "Epoch 91/100\n",
            "5/5 [==============================] - 2s 471ms/step - loss: 0.0833 - accuracy: 0.9739 - val_loss: 0.7974 - val_accuracy: 0.7368\n",
            "Epoch 92/100\n",
            "5/5 [==============================] - 2s 465ms/step - loss: 0.0881 - accuracy: 0.9739 - val_loss: 0.8084 - val_accuracy: 0.7368\n",
            "Epoch 93/100\n",
            "5/5 [==============================] - 3s 512ms/step - loss: 0.0840 - accuracy: 0.9739 - val_loss: 0.7998 - val_accuracy: 0.7368\n",
            "Epoch 94/100\n",
            "5/5 [==============================] - 4s 741ms/step - loss: 0.0836 - accuracy: 0.9804 - val_loss: 0.7973 - val_accuracy: 0.7895\n",
            "Epoch 95/100\n",
            "5/5 [==============================] - 2s 467ms/step - loss: 0.0844 - accuracy: 0.9804 - val_loss: 0.8053 - val_accuracy: 0.7368\n",
            "Epoch 96/100\n",
            "5/5 [==============================] - 2s 472ms/step - loss: 0.0830 - accuracy: 0.9739 - val_loss: 0.8098 - val_accuracy: 0.7368\n",
            "Epoch 97/100\n",
            "5/5 [==============================] - 2s 471ms/step - loss: 0.0903 - accuracy: 0.9804 - val_loss: 0.8066 - val_accuracy: 0.7895\n",
            "Epoch 98/100\n",
            "5/5 [==============================] - 2s 464ms/step - loss: 0.0871 - accuracy: 0.9804 - val_loss: 0.8222 - val_accuracy: 0.7368\n",
            "Epoch 99/100\n",
            "5/5 [==============================] - 3s 687ms/step - loss: 0.0820 - accuracy: 0.9804 - val_loss: 0.8086 - val_accuracy: 0.7895\n",
            "Epoch 100/100\n",
            "5/5 [==============================] - 3s 594ms/step - loss: 0.0792 - accuracy: 0.9804 - val_loss: 0.8120 - val_accuracy: 0.7895\n"
          ]
        }
      ]
    },
    {
      "cell_type": "markdown",
      "source": [
        "**Task 5.**\n",
        "<br>\n",
        "Evaluate your model using the test data set. Display the loss function vs the number of epochs."
      ],
      "metadata": {
        "id": "qwPOhG62OMoA"
      }
    },
    {
      "cell_type": "code",
      "source": [
        "# Write your code here.\n",
        "model.evaluate(X_test, y_test)\n",
        "\n",
        "pd.DataFrame(history.history).plot(figsize=(30,10))\n",
        "plt.grid(True)\n",
        "plt.gca().set_ylim(0,1)\n",
        "plt.show()"
      ],
      "metadata": {
        "id": "KrSjDpg6o27R",
        "colab": {
          "base_uri": "https://localhost:8080/",
          "height": 323
        },
        "outputId": "4b3e2369-59d2-4813-ec11-4ce632f40d11"
      },
      "execution_count": null,
      "outputs": [
        {
          "output_type": "stream",
          "name": "stdout",
          "text": [
            "1/1 [==============================] - 0s 117ms/step - loss: 0.7697 - accuracy: 0.7000\n"
          ]
        },
        {
          "output_type": "display_data",
          "data": {
            "text/plain": [
              "<Figure size 2160x720 with 1 Axes>"
            ],
            "image/png": "[encoded data removed]"
          },
          "metadata": {
            "needs_background": "light"
          }
        }
      ]
    },
    {
      "cell_type": "markdown",
      "source": [
        "**Task 6.**\n",
        "<br>\n",
        "Predict the output with your model with the predict function using the test input data set. Display the confusion matrix and the accuracy of your model with the test data set."
      ],
      "metadata": {
        "id": "AQF-39fEO-MB"
      }
    },
    {
      "cell_type": "code",
      "source": [
        "# Write your code here.\n",
        "prediction = model.predict(X_test)\n",
        "print(prediction)\n",
        "print(len(prediction))"
      ],
      "metadata": {
        "id": "2yI1VSOso-FT",
        "colab": {
          "base_uri": "https://localhost:8080/"
        },
        "outputId": "ee82d2d2-4b1e-4892-85fd-72b5a6d3cccf"
      },
      "execution_count": null,
      "outputs": [
        {
          "output_type": "stream",
          "name": "stdout",
          "text": [
            "1/1 [==============================] - 0s 99ms/step\n",
            "[[0.3307581  0.66924196]\n",
            " [0.61794055 0.3820595 ]\n",
            " [0.01412522 0.9858748 ]\n",
            " [0.9252479  0.07475215]\n",
            " [0.99835956 0.00164037]\n",
            " [0.0014459  0.99855405]\n",
            " [0.71039206 0.28960794]\n",
            " [0.9156228  0.08437715]\n",
            " [0.00477869 0.9952213 ]\n",
            " [0.12383839 0.87616163]\n",
            " [0.9215446  0.07845536]\n",
            " [0.91845906 0.08154091]\n",
            " [0.07212449 0.9278755 ]\n",
            " [0.92154515 0.07845481]\n",
            " [0.9985635  0.00143643]\n",
            " [0.86020315 0.13979678]\n",
            " [0.5534785  0.44652152]\n",
            " [0.9030483  0.09695168]\n",
            " [0.9156197  0.08438034]\n",
            " [0.21926093 0.78073907]]\n",
            "20\n"
          ]
        }
      ]
    },
    {
      "cell_type": "code",
      "source": [
        "print(y_test)\n",
        "print(len(y_test))"
      ],
      "metadata": {
        "colab": {
          "base_uri": "https://localhost:8080/"
        },
        "id": "SNT7Up7tEn5q",
        "outputId": "d8b52476-b5d8-4a30-b998-80a199cecac8"
      },
      "execution_count": null,
      "outputs": [
        {
          "output_type": "stream",
          "name": "stdout",
          "text": [
            "[[0. 1.]\n",
            " [0. 1.]\n",
            " [0. 1.]\n",
            " [1. 0.]\n",
            " [0. 1.]\n",
            " [0. 1.]\n",
            " [0. 1.]\n",
            " [1. 0.]\n",
            " [0. 1.]\n",
            " [1. 0.]\n",
            " [1. 0.]\n",
            " [1. 0.]\n",
            " [0. 1.]\n",
            " [1. 0.]\n",
            " [1. 0.]\n",
            " [1. 0.]\n",
            " [0. 1.]\n",
            " [1. 0.]\n",
            " [0. 1.]\n",
            " [0. 1.]]\n",
            "20\n"
          ]
        }
      ]
    },
    {
      "cell_type": "code",
      "source": [
        "cm = confusion_matrix(y_test.argmax(axis=1), prediction.argmax(axis=1))"
      ],
      "metadata": {
        "id": "9zXX_PRWIpTy"
      },
      "execution_count": null,
      "outputs": []
    },
    {
      "cell_type": "code",
      "source": [
        "disp = ConfusionMatrixDisplay(confusion_matrix=cm, display_labels = ['Walk', 'Run'])\n",
        "disp.plot()\n",
        "plt.show()"
      ],
      "metadata": {
        "colab": {
          "base_uri": "https://localhost:8080/",
          "height": 283
        },
        "id": "fn-LZESnEj7D",
        "outputId": "68b53880-dadc-4398-c56d-20117778e923"
      },
      "execution_count": null,
      "outputs": [
        {
          "output_type": "display_data",
          "data": {
            "text/plain": [
              "<Figure size 432x288 with 2 Axes>"
            ],
            "image/png": "[encoded data removed]"
          },
          "metadata": {
            "needs_background": "light"
          }
        }
      ]
    },
    {
      "cell_type": "code",
      "source": [
        "accuracy = 100*np.trace(cm)/np.sum(cm)\n",
        "print(accuracy)"
      ],
      "metadata": {
        "colab": {
          "base_uri": "https://localhost:8080/"
        },
        "id": "k-7mcpKxE7wP",
        "outputId": "45c51850-57be-4f09-ca72-a9e1e11e4b9f"
      },
      "execution_count": null,
      "outputs": [
        {
          "output_type": "stream",
          "name": "stdout",
          "text": [
            "70.0\n"
          ]
        }
      ]
    }
  ]
}