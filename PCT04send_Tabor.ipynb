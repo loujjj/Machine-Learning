{
  "nbformat": 4,
  "nbformat_minor": 0,
  "metadata": {
    "colab": {
      "provenance": [],
      "include_colab_link": true
    },
    "kernelspec": {
      "name": "python3",
      "display_name": "Python 3"
    },
    "language_info": {
      "name": "python"
    }
  },
  "cells": [
    {
      "cell_type": "markdown",
      "metadata": {
        "id": "view-in-github",
        "colab_type": "text"
      },
      "source": [
        "<a href=\"https://colab.research.google.com/github/loujjj/Machine-Learning/blob/main/PCT04send_Tabor.ipynb\" target=\"_parent\"><img src=\"https://colab.research.google.com/assets/colab-badge.svg\" alt=\"Open In Colab\"/></a>"
      ]
    },
    {
      "cell_type": "markdown",
      "source": [
        "##**Classification of Walk vs Run**"
      ],
      "metadata": {
        "id": "w12W2G-6c32h"
      }
    },
    {
      "cell_type": "markdown",
      "source": [
        "####**Importing the Necessary Libraries**"
      ],
      "metadata": {
        "id": "19trjlLic6EL"
      }
    },
    {
      "cell_type": "code",
      "execution_count": 1,
      "metadata": {
        "id": "XPZnl1jNcuB1"
      },
      "outputs": [],
      "source": [
        "import numpy as np\n",
        "import matplotlib.pyplot as plt\n",
        "import pandas as pd\n",
        "import os\n",
        "import cv2 as cv\n",
        "import fnmatch\n",
        "\n",
        "import tensorflow as tf\n",
        "from tensorflow import keras\n",
        "from tensorflow.keras.models import Sequential\n",
        "from tensorflow.keras.layers import Dense, Conv2D, Dropout, Flatten, MaxPooling2D\n",
        "\n",
        "from sklearn import datasets\n",
        "from sklearn.preprocessing import LabelEncoder\n",
        "from sklearn.model_selection import train_test_split\n",
        "from sklearn.metrics import confusion_matrix, ConfusionMatrixDisplay"
      ]
    },
    {
      "cell_type": "markdown",
      "source": [
        "####**Importing and Preparing the Data**"
      ],
      "metadata": {
        "id": "21I4-WljdB3r"
      }
    },
    {
      "cell_type": "markdown",
      "source": [
        "#####**Importing the Data**"
      ],
      "metadata": {
        "id": "-z48xONBdGc0"
      }
    },
    {
      "cell_type": "code",
      "source": [
        "from google.colab import drive\n",
        "drive.mount('/content/gdrive/', force_remount=True)"
      ],
      "metadata": {
        "id": "a0VllYJydK2L",
        "outputId": "d8036ea6-8106-4e0e-e1ab-795db185cde7",
        "colab": {
          "base_uri": "https://localhost:8080/"
        }
      },
      "execution_count": 2,
      "outputs": [
        {
          "output_type": "stream",
          "name": "stdout",
          "text": [
            "Mounted at /content/gdrive/\n"
          ]
        }
      ]
    },
    {
      "cell_type": "code",
      "source": [
        "cd gdrive/MyDrive/'Colab Notebooks'/Book/BallsDatasets"
      ],
      "metadata": {
        "colab": {
          "base_uri": "https://localhost:8080/"
        },
        "id": "ATHuKHGmGqhd",
        "outputId": "43b753a2-c92e-4c16-e757-63c3c3bddc9a"
      },
      "execution_count": 3,
      "outputs": [
        {
          "output_type": "stream",
          "name": "stdout",
          "text": [
            "/content/gdrive/MyDrive/Colab Notebooks/Book/BallsDatasets\n"
          ]
        }
      ]
    },
    {
      "cell_type": "markdown",
      "source": [
        "**NOTE: You have to save the attached csv file to one of your subfolders in Google Drive and change the name of the subfolder below, accordingly.**"
      ],
      "metadata": {
        "id": "lUPIQIxqIfvI"
      }
    },
    {
      "cell_type": "code",
      "source": [
        "ls"
      ],
      "metadata": {
        "id": "R6Vx8Cz4dRf4",
        "colab": {
          "base_uri": "https://localhost:8080/"
        },
        "outputId": "13d5966c-232c-452c-a884-e22cb514d094"
      },
      "execution_count": 4,
      "outputs": [
        {
          "output_type": "stream",
          "name": "stdout",
          "text": [
            " baseball00.jpg           bowling20.jpg          soccer29.jpg\n",
            " baseball01.jpg           bowling21.png          soccer30.jpg\n",
            " baseball02.png           bowling22.png          soccer31.jpg\n",
            " baseball03.jpg           bowling23.png          soccer32.jpg\n",
            " baseball04.jpg           bowling24.jpg          soccer33.png\n",
            " baseball05.jpg           bowling25.png          soccer34.jpg\n",
            " baseball06.png           bowling26.png          soccer36.jpg\n",
            " baseball07.jpg           bowling27.jpg          soccer37.png\n",
            " baseball08.jpeg          bowling28.jpg          soccer38.png\n",
            " baseball09.jpeg          bowling29.jpg          soccer39.png\n",
            " baseball10.jpg           bowling30.png          soccer40.jpg\n",
            " baseball11.jpg           bowling31.png          soccer41.jpg\n",
            " baseball12.jpg           bowling32.png          soccer42.jpg\n",
            " baseball13.jpg           bowling34.jpg          soccer43.jpg\n",
            " baseball14.jpg           bowling35.jpg          soccer44.jpg\n",
            " baseball15.jpg           bowling36.png          soccer45.jpg\n",
            " baseball16.jpg           bowling37.png          soccer46.png\n",
            " baseball17.jpg           bowling38.png          soccer48.jpg\n",
            " baseball18.jpg           bowling39.jpg          soccer48.png\n",
            " baseball19.jpg           bowling40.jpg          soccer49.png\n",
            " baseball20.jpg           bowling41.jpg          soccer50.jpg\n",
            " baseball21.png           bowling42.jpg          soccer51.jpeg\n",
            " baseball22.png           bowling43.jpg          soccer52.jpeg\n",
            " baseball23.png           bowling44.jpg          soccer53.jpeg\n",
            " baseball24.jpg           bowling45.jpg          tabletennis00.jpg\n",
            " baseball25.jpg           bowling46.jpg          tabletennis01.jpg\n",
            " baseball26.jpg           bowling47.jpg          tabletennis02.jpg\n",
            " baseball27.jpg           bowling48.png          tabletennis03.jpg\n",
            " baseball28.jpg           bowling49.png          tabletennis04.jpg\n",
            " baseball29.jpg           bowling50.png          tabletennis07.png\n",
            " baseball30.png           bowling51.jpeg        'tabletennis08 (1).jpeg'\n",
            " baseball31.png           bowling52.jpeg         tabletennis08.jpeg\n",
            " baseball32.png           bowling53.jpeg         tabletennis09.jpg\n",
            " baseball33.jpg           football00.jpg         tabletennis10.jpg\n",
            " baseball36.png           football01.jpg         tabletennis11.jpg\n",
            " baseball37.png           football05.jpg         tabletennis12.jpg\n",
            " baseball38.png           football06.jpg         tabletennis13.jpg\n",
            " baseball39.png           football07.jpg         tabletennis14.jpg\n",
            " baseball40.jpg          'football08 (1).jpg'    tabletennis15.jpg\n",
            " baseball41.jpg           football08.jpg         tabletennis16.jpg\n",
            " baseball42.jpg          'football09 (1).png'    tabletennis17.jpg\n",
            " baseball43.jpg           football09.png        'tabletennis18 (1).png'\n",
            " baseball44.jpg           football10.jpg         tabletennis18.png\n",
            " baseball46.jpg           football11.jpg        'tabletennis19 (1).png'\n",
            " baseball47.jpg           football12.jpg         tabletennis19.png\n",
            " baseball48.png           football13.png         tabletennis20.png\n",
            " baseball49.jpg           football14.png         tabletennis21.png\n",
            " baseball50.jpg           football15.jpg         tabletennis22.png\n",
            " baseball51.jpeg          football16.jpg         tabletennis23.png\n",
            " baseball52.jpeg          football17.jpg        'tabletennis27 (1).jpg'\n",
            " baseball53.jpeg          football18.jpg         tabletennis27.jpg\n",
            " basketball00.jpg         football19.jpg         tabletennis28.jpg\n",
            " basketball01.jpg        'football20 (1).jpg'    tabletennis29.jpg\n",
            " basketball02.png         football20.jpg         tabletennis30.jpeg\n",
            " basketball03.png        'football21 (1).png'   'tabletennis31 (1).jpg'\n",
            " basketball07.jpeg        football21.png         tabletennis31.jpg\n",
            " basketball08.jpeg       'football22 (1).jpg'   'tabletennis32 (1).png'\n",
            " basketball09.jpeg        football22.jpg         tabletennis32.png\n",
            " basketball10.jpg        'football23 (1).png'   'tabletennis33 (1).png'\n",
            " basketball11.jpg         football23.png         tabletennis33.png\n",
            " basketball12.jpg         football24.jpg         tabletennis34.png\n",
            " basketball13.png         football25.jpg         tabletennis35.jpg\n",
            " basketball14.png         football26.jpg         tabletennis36.jpg\n",
            " basketball15.jpg         football27.jpg         tabletennis37.jpg\n",
            " basketball16.png         football28.jpg         tabletennis38.png\n",
            " basketball17.jpg         football29.png         tabletennis39.png\n",
            "'basketball18 (1).jpg'    football30.png        'tabletennis40 (1).png'\n",
            "'basketball18 (2).jpg'    football31.png         tabletennis40.png\n",
            " basketball18.jpg         football32.png        'tabletennis41 (1).jpg'\n",
            "'basketball19 (1).jpg'   'football36 (1).png'    tabletennis41.jpg\n",
            "'basketball19 (2).jpg'    football36.png         tabletennis42.jpg\n",
            " basketball19.jpg        'football37 (1).png'    tabletennis43.jpg\n",
            " basketball20.jpg         football37.png         tabletennis44.jpg\n",
            " basketball21.jpg         football38.png         tabletennis45.jpg\n",
            " basketball22.png         football39.jpg         tabletennis46.jpg\n",
            " basketball23.png         football40.jpg         tabletennis47.jpg\n",
            "'basketball24 (1).jpg'    football41.jpg         tabletennis48.jpg\n",
            "'basketball24 (2).jpg'    football42.jpg         tabletennis49.jpg\n",
            " basketball24.jpg         football43.jpg         tabletennis50.jpg\n",
            " basketball25.jpg         football44.jpg        'tabletennis51 (1).jpg'\n",
            "'basketball26 (1).jpg'    football46.jpg         tabletennis51.jpg\n",
            "'basketball26 (2).jpg'    football47.jpg         tabletennis52.png\n",
            " basketball26.jpg         football48.png        'tabletennis53 (1).jpeg'\n",
            "'basketball27 (1).jpg'    football49.png         tabletennis53.jpeg\n",
            "'basketball27 (2).jpg'   'football50 (1).png'    tabletennis54.jpeg\n",
            " basketball27.jpg         football50.png         tennis00.jpg\n",
            " basketball28.jpg         football51.jpeg        tennis01.jpg\n",
            " basketball29.jpg        'football52 (1).jpeg'   tennis02.jpg\n",
            "'basketball30 (1).png'    football52.jpeg        tennis03.jpg\n",
            "'basketball30 (2).png'    football53.jpeg        tennis04.jpg\n",
            " basketball30.png         golf00.jpg             tennis05.jpg\n",
            " basketball31.png         golf01.jpg             tennis06.png\n",
            "'basketball32 (1).png'    golf02.jpg             tennis07.jpeg\n",
            "'basketball32 (2).png'    golf03.jpg             tennis08.jpg\n",
            " basketball32.png         golf04.jpg             tennis09.jpg\n",
            " basketball34.jpg         golf05.png             tennis10.jpg\n",
            " basketball35.jpg        'golf07 (1).jpeg'       tennis11.jpg\n",
            " basketball36.png        'golf07 (2).jpeg'       tennis12.jpg\n",
            " basketball37.png         golf07.jpeg            tennis13.jpg\n",
            " basketball38.png        'golf08 (1).png'        tennis14.jpg\n",
            " basketball39.jpg        'golf08 (2).png'        tennis15.jpg\n",
            "'basketball40 (1).jpg'    golf08.png             tennis16.jpg\n",
            "'basketball40 (2).jpg'   'golf09 (1).png'        tennis17.jpg\n",
            " basketball40.jpg         golf09.png             tennis18.png\n",
            "'basketball41 (1).jpg'    golf10.jpg             tennis19.png\n",
            "'basketball41 (2).jpg'    golf11.jpg             tennis20.png\n",
            " basketball41.jpg         golf12.jpg             tennis21.png\n",
            " basketball42.jpg         golf13.png             tennis22.png\n",
            " basketball43.jpg         golf14.png             tennis23.png\n",
            " basketball44.jpg         golf15.png             tennis27.jpg\n",
            " basketball45.png         golf16.jpg             tennis28.jpg\n",
            " basketball46.png         golf17.jpg             tennis29.jpg\n",
            " basketball47.png         golf18.jpg             tennis30.png\n",
            " basketball48.png         golf19.jpg             tennis31.png\n",
            " basketball49.png        'golf20 (1).jpg'        tennis32.png\n",
            " basketball50.png        'golf20 (2).jpg'        tennis33.jpg\n",
            "'basketball51 (1).jpeg'   golf20.jpg             tennis34.jpg\n",
            "'basketball51 (2).jpeg'   golf21.png             tennis36.png\n",
            " basketball51.jpeg       'golf22 (1).png'        tennis37.png\n",
            " basketball52.jpeg       'golf22 (2).png'        tennis38.png\n",
            " basketball53.jpeg        golf22.png             tennis39.jpg\n",
            " billiards00.jpg         'golf23 (1).png'        tennis40.jpg\n",
            " billiards01.png         'golf23 (2).png'        tennis41.jpg\n",
            " billiards02.jpeg         golf23.png             tennis42.jpg\n",
            " billiards03.jpeg         golf27.jpg             tennis43.jpg\n",
            " billiards07.jpg          golf28.png             tennis44.jpg\n",
            " billiards08.jpg          golf29.jpg             tennis45.jpg\n",
            " billiards09.jpg          golf30.jpg             tennis46.jpg\n",
            " billiards10.jpg          golf31.png             tennis47.jpg\n",
            " billiards11.jpg          golf32.png             tennis48.png\n",
            " billiards12.jpg          golf33.png             tennis49.png\n",
            " billiards13.png         'golf34 (1).jpg'        tennis50.jpg\n",
            " billiards14.png         'golf34 (2).jpg'        tennis51.jpeg\n",
            " billiards15.png          golf34.jpg             tennis52.jpeg\n",
            " billiards16.jpg         'golf35 (1).jpg'        tennis53.jpeg\n",
            " billiards17.jpg          golf35.jpg             volleyball00.jpg\n",
            " billiards18.webp        'golf36 (1).jpg'        volleyball01.jpg\n",
            " billiards19.jpg         'golf36 (2).jpg'        volleyball02.jpg\n",
            " billiards20.jpg          golf36.jpg             volleyball03.jpg\n",
            " billiards21.png         'golf37 (1).png'        volleyball07.jpg\n",
            " billiards22.png         'golf37 (2).png'        volleyball08.png\n",
            " billiards23.png          golf37.png             volleyball09.jpg\n",
            " billiards24.jpg          golf38.png             volleyball10.jpg\n",
            " billiards25.jpg          golf39.png             volleyball11.jpg\n",
            " billiards26.jpg          golf40.png             volleyball12.jpg\n",
            " billiards27.jpg          golf41.jpg             volleyball13.jpg\n",
            " billiards28.jpg          golf42.jpg             volleyball14.png\n",
            " billiards29.jpg         'golf43 (1).jpg'        volleyball15.jpg\n",
            " billiards30.png          golf43.jpg             volleyball16.jpg\n",
            " billiards31.png          golf44.jpg             volleyball17.jpg\n",
            " billiards32.png          golf45.jpg             volleyball18.png\n",
            " billiards33.jpeg         golf46.jpg             volleyball19.png\n",
            " billiards36.png          golf47.jpg             volleyball20.png\n",
            " billiards37.png          golf49.png             volleyball21.png\n",
            " billiards38.png          golf50.jpg             volleyball22.png\n",
            " billiards39.png         'golf51 (1).jpg'        volleyball23.png\n",
            " billiards40.jpg          golf51.jpg             volleyball27.jpg\n",
            " billiards41.jpg          golf52.jpg             volleyball28.jpg\n",
            " billiards42.jpg          golf53.jpeg            volleyball29.jpg\n",
            " billiards43.jpg          golf54.jpeg            volleyball30.jpg\n",
            " billiards44.jpg          soccer00.jpg           volleyball31.jpg\n",
            " billiards45.png          soccer01.jpg           volleyball32.jpg\n",
            " billiards46.png          soccer02.jpeg          volleyball33.png\n",
            " billiards47.png          soccer03.jpg           volleyball34.png\n",
            " billiards48.jpg          soccer04.jpg           volleyball35.png\n",
            " billiards49.png          soccer05.jpg           volleyball37.jpeg\n",
            " billiards50.png          soccer06.jpg           volleyball39.png\n",
            " billiards51.jpeg         soccer07.jpeg          volleyball40.png\n",
            " billiards52.jpeg         soccer08.jpg           volleyball41.png\n",
            " billiards53.png          soccer09.png           volleyball42.jpg\n",
            " bowling00.jpg            soccer10.jpg           volleyball43.png\n",
            " bowling01.jpg            soccer11.jpg           volleyball44.jpg\n",
            " bowling02.jpg            soccer12.jpg           volleyball45.png\n",
            " bowling03.jpg            soccer13.jpg           volleyball46.jpg\n",
            " bowling07.jpeg           soccer14.jpg           volleyball47.jpg\n",
            " bowling08.jpeg           soccer16.jpg           volleyball48.jpg\n",
            " bowling09.jpeg           soccer17.jpg           volleyball49.jpg\n",
            " bowling10.jpg            soccer18.png           volleyball50.jpg\n",
            " bowling11.jpg            soccer19.png           volleyball51.png\n",
            " bowling12.jpg            soccer20.png           volleyball52.png\n",
            " bowling13.png            soccer21.png           volleyball53.png\n",
            " bowling14.png            soccer22.png           volleyball54.png\n",
            " bowling15.png            soccer23.png           volleyball55.jpeg\n",
            " bowling17.jpg            soccer27.jpg           volleyball56.jpeg\n",
            " bowling19.jpg            soccer28.jpg\n"
          ]
        }
      ]
    },
    {
      "cell_type": "code",
      "source": [
        "organize = pd.DataFrame.from_dict(os.listdir())\n",
        "random   = organize.sample(frac=1, random_state=1).reset_index()\n",
        "data     = pd.DataFrame(random)[0].values.tolist()"
      ],
      "metadata": {
        "id": "u4jOD3KtdSBj"
      },
      "execution_count": 5,
      "outputs": []
    },
    {
      "cell_type": "code",
      "source": [
        "print(data)"
      ],
      "metadata": {
        "id": "cEhF6Cna7Svb",
        "outputId": "6b5db696-a935-4643-bbeb-54872908c6c8",
        "colab": {
          "base_uri": "https://localhost:8080/"
        }
      },
      "execution_count": 6,
      "outputs": [
        {
          "output_type": "stream",
          "name": "stdout",
          "text": [
            "['volleyball01.jpg', 'golf45.jpg', 'volleyball09.jpg', 'baseball14.jpg', 'soccer36.jpg', 'baseball37.png', 'golf19.jpg', 'tennis14.jpg', 'tennis01.jpg', 'basketball41 (1).jpg', 'basketball30 (2).png', 'basketball40.jpg', 'soccer10.jpg', 'tennis08.jpg', 'tabletennis35.jpg', 'tabletennis17.jpg', 'tennis17.jpg', 'tabletennis21.png', 'golf04.jpg', 'billiards20.jpg', 'volleyball43.png', 'basketball47.png', 'tabletennis51.jpg', 'soccer53.jpeg', 'basketball45.png', 'baseball00.jpg', 'golf35 (1).jpg', 'bowling46.jpg', 'soccer50.jpg', 'volleyball21.png', 'football47.jpg', 'football13.png', 'basketball29.jpg', 'bowling20.jpg', 'billiards01.png', 'baseball51.jpeg', 'volleyball35.png', 'football09 (1).png', 'billiards25.jpg', 'bowling07.jpeg', 'soccer48.jpg', 'golf34.jpg', 'football20.jpg', 'football10.jpg', 'golf07 (2).jpeg', 'tabletennis11.jpg', 'football26.jpg', 'baseball38.png', 'tabletennis42.jpg', 'bowling52.jpeg', 'volleyball56.jpeg', 'golf13.png', 'tennis46.jpg', 'basketball24.jpg', 'basketball35.jpg', 'football36.png', 'baseball39.png', 'volleyball20.png', 'volleyball00.jpg', 'basketball12.jpg', 'bowling39.jpg', 'billiards10.jpg', 'tabletennis45.jpg', 'basketball53.jpeg', 'football37 (1).png', 'volleyball31.jpg', 'tabletennis08.jpeg', 'soccer33.png', 'basketball40 (2).jpg', 'tennis02.jpg', 'volleyball22.png', 'tabletennis43.jpg', 'golf52.jpg', 'basketball16.png', 'bowling38.png', 'golf03.jpg', 'basketball30 (1).png', 'golf21.png', 'golf43 (1).jpg', 'billiards39.png', 'football27.jpg', 'baseball33.jpg', 'tennis38.png', 'basketball27 (2).jpg', 'bowling29.jpg', 'baseball03.jpg', 'volleyball08.png', 'baseball13.jpg', 'billiards33.jpeg', 'football23.png', 'basketball00.jpg', 'tennis52.jpeg', 'billiards43.jpg', 'tabletennis38.png', 'soccer37.png', 'golf01.jpg', 'baseball25.jpg', 'basketball41 (2).jpg', 'tabletennis34.png', 'football36 (1).png', 'bowling44.jpg', 'baseball11.jpg', 'football52.jpeg', 'baseball50.jpg', 'basketball15.jpg', 'volleyball55.jpeg', 'bowling08.jpeg', 'volleyball32.jpg', 'soccer43.jpg', 'basketball01.jpg', 'billiards48.jpg', 'football22 (1).jpg', 'billiards28.jpg', 'volleyball40.png', 'tennis34.jpg', 'football01.jpg', 'billiards24.jpg', 'golf50.jpg', 'football24.jpg', 'billiards12.jpg', 'tennis09.jpg', 'tabletennis19 (1).png', 'billiards46.png', 'tennis51.jpeg', 'basketball09.jpeg', 'tabletennis51 (1).jpg', 'basketball41.jpg', 'tabletennis28.jpg', 'basketball42.jpg', 'football00.jpg', 'soccer51.jpeg', 'golf20 (1).jpg', 'tabletennis33.png', 'basketball31.png', 'basketball17.jpg', 'billiards44.jpg', 'tabletennis29.jpg', 'basketball39.jpg', 'tennis10.jpg', 'football29.png', 'soccer27.jpg', 'baseball16.jpg', 'football39.jpg', 'tabletennis02.jpg', 'tabletennis52.png', 'golf33.png', 'bowling14.png', 'tabletennis54.jpeg', 'basketball02.png', 'billiards03.jpeg', 'basketball24 (2).jpg', 'bowling27.jpg', 'tennis22.png', 'soccer08.jpg', 'golf53.jpeg', 'volleyball51.png', 'tabletennis22.png', 'golf22.png', 'tabletennis47.jpg', 'billiards18.webp', 'tennis40.jpg', 'golf46.jpg', 'volleyball16.jpg', 'basketball38.png', 'golf00.jpg', 'bowling23.png', 'soccer11.jpg', 'soccer39.png', 'volleyball42.jpg', 'golf34 (2).jpg', 'baseball52.jpeg', 'volleyball23.png', 'baseball12.jpg', 'football08.jpg', 'golf51.jpg', 'tennis04.jpg', 'golf16.jpg', 'tabletennis50.jpg', 'soccer14.jpg', 'bowling26.png', 'basketball46.png', 'football21 (1).png', 'golf11.jpg', 'bowling36.png', 'baseball36.png', 'soccer28.jpg', 'bowling50.png', 'tabletennis32 (1).png', 'billiards14.png', 'bowling12.jpg', 'basketball36.png', 'volleyball41.png', 'tabletennis13.jpg', 'bowling22.png', 'golf34 (1).jpg', 'football48.png', 'billiards50.png', 'football18.jpg', 'soccer12.jpg', 'golf38.png', 'billiards23.png', 'soccer02.jpeg', 'tabletennis16.jpg', 'bowling01.jpg', 'bowling41.jpg', 'tabletennis08 (1).jpeg', 'billiards41.jpg', 'soccer42.jpg', 'basketball08.jpeg', 'tennis41.jpg', 'billiards07.jpg', 'golf40.png', 'football32.png', 'billiards16.jpg', 'billiards53.png', 'tennis47.jpg', 'golf42.jpg', 'basketball48.png', 'bowling45.jpg', 'football30.png', 'football31.png', 'tennis12.jpg', 'soccer13.jpg', 'baseball01.jpg', 'golf28.png', 'baseball04.jpg', 'golf17.jpg', 'baseball43.jpg', 'volleyball15.jpg', 'tennis18.png', 'golf37 (1).png', 'bowling24.jpg', 'tennis16.jpg', 'golf20 (2).jpg', 'billiards52.jpeg', 'volleyball07.jpg', 'basketball27 (1).jpg', 'golf18.jpg', 'basketball07.jpeg', 'baseball26.jpg', 'bowling25.png', 'football50 (1).png', 'tabletennis12.jpg', 'volleyball02.jpg', 'bowling53.jpeg', 'football37.png', 'soccer22.png', 'tabletennis53.jpeg', 'soccer09.png', 'football16.jpg', 'bowling00.jpg', 'basketball50.png', 'tennis48.png', 'billiards37.png', 'basketball32 (2).png', 'billiards51.jpeg', 'basketball32 (1).png', 'soccer29.jpg', 'basketball51 (1).jpeg', 'basketball44.jpg', 'tabletennis44.jpg', 'bowling28.jpg', 'bowling02.jpg', 'football51.jpeg', 'billiards40.jpg', 'golf23 (2).png', 'volleyball12.jpg', 'volleyball17.jpg', 'baseball47.jpg', 'football23 (1).png', 'tabletennis10.jpg', 'billiards13.png', 'golf07.jpeg', 'tennis43.jpg', 'football11.jpg', 'football46.jpg', 'golf32.png', 'tabletennis03.jpg', 'basketball24 (1).jpg', 'football41.jpg', 'basketball18.jpg', 'basketball51.jpeg', 'football40.jpg', 'billiards49.png', 'tennis28.jpg', 'golf47.jpg', 'bowling48.png', 'volleyball50.jpg', 'baseball19.jpg', 'golf43.jpg', 'golf20.jpg', 'football20 (1).jpg', 'golf05.png', 'soccer21.png', 'football22.jpg', 'football14.png', 'tennis31.png', 'tabletennis48.jpg', 'tabletennis49.jpg', 'bowling40.jpg', 'volleyball44.jpg', 'baseball27.jpg', 'soccer45.jpg', 'golf36 (1).jpg', 'tabletennis32.png', 'tabletennis40 (1).png', 'soccer20.png', 'volleyball46.jpg', 'tennis39.jpg', 'tennis29.jpg', 'bowling34.jpg', 'soccer05.jpg', 'tabletennis37.jpg', 'volleyball29.jpg', 'billiards17.jpg', 'volleyball03.jpg', 'golf44.jpg', 'golf08 (1).png', 'volleyball28.jpg', 'basketball52.jpeg', 'football53.jpeg', 'basketball19.jpg', 'basketball26 (2).jpg', 'basketball27.jpg', 'bowling19.jpg', 'tabletennis04.jpg', 'football07.jpg', 'golf54.jpeg', 'football12.jpg', 'golf37 (2).png', 'golf22 (2).png', 'baseball17.jpg', 'baseball31.png', 'soccer16.jpg', 'tennis13.jpg', 'golf07 (1).jpeg', 'basketball11.jpg', 'billiards00.jpg', 'baseball06.png', 'bowling11.jpg', 'baseball18.jpg', 'baseball49.jpg', 'basketball30.png', 'tennis23.png', 'tennis00.jpg', 'billiards27.jpg', 'soccer49.png', 'golf09 (1).png', 'billiards19.jpg', 'basketball43.jpg', 'tennis44.jpg', 'baseball30.png', 'football09.png', 'volleyball45.png', 'soccer41.jpg', 'tennis03.jpg', 'baseball07.jpg', 'bowling30.png', 'tabletennis09.jpg', 'football43.jpg', 'soccer31.jpg', 'basketball37.png', 'tabletennis27 (1).jpg', 'baseball53.jpeg', 'bowling35.jpg', 'football08 (1).jpg', 'volleyball33.png', 'soccer18.png', 'volleyball19.png', 'football49.png', 'baseball29.jpg', 'soccer00.jpg', 'billiards26.jpg', 'football52 (1).jpeg', 'soccer32.jpg', 'tennis32.png', 'tabletennis18 (1).png', 'basketball13.png', 'soccer03.jpg', 'bowling21.png', 'soccer23.png', 'baseball15.jpg', 'tennis05.jpg', 'golf12.jpg', 'golf22 (1).png', 'volleyball54.png', 'soccer52.jpeg', 'tennis53.jpeg', 'tennis27.jpg', 'volleyball18.png', 'golf09.png', 'baseball32.png', 'bowling43.jpg', 'tennis50.jpg', 'golf51 (1).jpg', 'basketball34.jpg', 'basketball21.jpg', 'bowling10.jpg', 'golf10.jpg', 'baseball40.jpg', 'soccer04.jpg', 'football17.jpg', 'basketball49.png', 'soccer17.jpg', 'basketball40 (1).jpg', 'tabletennis40.png', 'volleyball49.jpg', 'golf08.png', 'soccer19.png', 'basketball32.png', 'baseball23.png', 'tennis20.png', 'tabletennis41.jpg', 'tabletennis36.jpg', 'basketball23.png', 'tennis42.jpg', 'tennis33.jpg', 'basketball18 (2).jpg', 'tennis21.png', 'volleyball11.jpg', 'volleyball37.jpeg', 'bowling37.png', 'billiards32.png', 'basketball51 (2).jpeg', 'tabletennis07.png', 'billiards11.jpg', 'baseball22.png', 'billiards15.png', 'football44.jpg', 'golf14.png', 'tabletennis19.png', 'basketball19 (2).jpg', 'football38.png', 'soccer46.png', 'billiards31.png', 'golf37.png', 'tabletennis46.jpg', 'billiards02.jpeg', 'volleyball30.jpg', 'bowling17.jpg', 'golf23.png', 'golf29.jpg', 'soccer07.jpeg', 'tennis06.png', 'baseball42.jpg', 'golf36.jpg', 'baseball08.jpeg', 'baseball05.jpg', 'golf02.jpg', 'baseball48.png', 'golf31.png', 'volleyball14.png', 'tabletennis18.png', 'tennis15.jpg', 'golf30.jpg', 'tabletennis20.png', 'golf15.png', 'baseball10.jpg', 'baseball02.png', 'volleyball53.png', 'golf08 (2).png', 'football28.jpg', 'baseball44.jpg', 'basketball26.jpg', 'soccer38.png', 'baseball24.jpg', 'bowling32.png', 'billiards38.png', 'volleyball34.png', 'basketball22.png', 'baseball20.jpg', 'billiards22.png', 'golf41.jpg', 'soccer30.jpg', 'football21.png', 'volleyball13.jpg', 'golf35.jpg', 'football25.jpg', 'football50.png', 'bowling51.jpeg', 'tabletennis14.jpg', 'golf27.jpg', 'bowling15.png', 'billiards45.png', 'tabletennis30.jpeg', 'soccer40.jpg', 'billiards29.jpg', 'basketball14.png', 'football19.jpg', 'basketball10.jpg', 'volleyball52.png', 'tabletennis41 (1).jpg', 'basketball20.jpg', 'soccer34.jpg', 'golf39.png', 'soccer06.jpg', 'tennis11.jpg', 'volleyball47.jpg', 'baseball21.png', 'tabletennis31.jpg', 'soccer01.jpg', 'basketball18 (1).jpg', 'basketball19 (1).jpg', 'football06.jpg', 'tennis37.png', 'football42.jpg', 'volleyball27.jpg', 'billiards36.png', 'tabletennis00.jpg', 'tennis19.png', 'tennis07.jpeg', 'bowling03.jpg', 'billiards42.jpg', 'baseball28.jpg', 'billiards30.png', 'tabletennis01.jpg', 'bowling09.jpeg', 'billiards47.png', 'bowling47.jpg', 'tabletennis53 (1).jpeg', 'bowling49.png', 'tabletennis39.png', 'billiards08.jpg', 'golf49.png', 'tennis49.png', 'tabletennis31 (1).jpg', 'golf23 (1).png', 'tabletennis33 (1).png', 'volleyball48.jpg', 'tennis30.png', 'bowling31.png', 'basketball03.png', 'volleyball39.png', 'bowling13.png', 'tabletennis15.jpg', 'soccer44.jpg', 'soccer48.png', 'billiards21.png', 'baseball41.jpg', 'baseball46.jpg', 'basketball26 (1).jpg', 'bowling42.jpg', 'golf36 (2).jpg', 'basketball25.jpg', 'basketball28.jpg', 'tabletennis23.png', 'football05.jpg', 'tennis36.png', 'tennis45.jpg', 'volleyball10.jpg', 'football15.jpg', 'billiards09.jpg', 'tabletennis27.jpg', 'baseball09.jpeg']\n"
          ]
        }
      ]
    },
    {
      "cell_type": "code",
      "source": [
        "m = 0\n",
        "balls_folder = []\n",
        "for file in data:\n",
        "  image = cv.imread(file)\n",
        "  if image.shape == (28,28,3):\n",
        "    balls_folder.append(image)\n",
        "  else:\n",
        "    m += 1\n",
        "print(str(m) + ' images were not rescaled to 28x28 and are now excluded.')"
      ],
      "metadata": {
        "id": "Arum7jCW8Byp",
        "outputId": "010ddef2-d1ee-427b-9633-922af312fc52",
        "colab": {
          "base_uri": "https://localhost:8080/"
        }
      },
      "execution_count": 7,
      "outputs": [
        {
          "output_type": "stream",
          "name": "stdout",
          "text": [
            "1 images were not rescaled to 28x28 and are now excluded.\n"
          ]
        }
      ]
    },
    {
      "cell_type": "code",
      "source": [
        "print(balls_folder[0].shape)\n",
        "print(len(balls_folder))"
      ],
      "metadata": {
        "id": "Y-4AZAPH8ukA",
        "outputId": "c68f196d-d0c9-4238-b146-19be914f01e4",
        "colab": {
          "base_uri": "https://localhost:8080/"
        }
      },
      "execution_count": 8,
      "outputs": [
        {
          "output_type": "stream",
          "name": "stdout",
          "text": [
            "(28, 28, 3)\n",
            "553\n"
          ]
        }
      ]
    },
    {
      "cell_type": "code",
      "source": [
        "print(balls_folder[0])\n",
        "plt.matshow(balls_folder[552])"
      ],
      "metadata": {
        "id": "9fZ3hwXF9kBH",
        "outputId": "9facefd3-f93c-416d-f64d-14ea8e1c5b20",
        "colab": {
          "base_uri": "https://localhost:8080/",
          "height": 1000
        }
      },
      "execution_count": 9,
      "outputs": [
        {
          "output_type": "stream",
          "name": "stdout",
          "text": [
            "[[[255 251 255]\n",
            "  [255 250 255]\n",
            "  [255 254 255]\n",
            "  ...\n",
            "  [246 253 255]\n",
            "  [249 251 255]\n",
            "  [253 253 255]]\n",
            "\n",
            " [[255 253 255]\n",
            "  [255 253 255]\n",
            "  [251 250 252]\n",
            "  ...\n",
            "  [248 254 255]\n",
            "  [252 253 255]\n",
            "  [253 252 254]]\n",
            "\n",
            " [[255 255 251]\n",
            "  [255 255 252]\n",
            "  [255 255 255]\n",
            "  ...\n",
            "  [253 255 255]\n",
            "  [255 255 254]\n",
            "  [255 254 250]]\n",
            "\n",
            " ...\n",
            "\n",
            " [[255 251 255]\n",
            "  [255 251 255]\n",
            "  [253 255 255]\n",
            "  ...\n",
            "  [255 255 252]\n",
            "  [255 255 252]\n",
            "  [255 255 252]]\n",
            "\n",
            " [[255 252 255]\n",
            "  [255 251 255]\n",
            "  [249 251 251]\n",
            "  ...\n",
            "  [255 255 252]\n",
            "  [250 255 255]\n",
            "  [246 255 255]]\n",
            "\n",
            " [[255 252 255]\n",
            "  [255 254 255]\n",
            "  [253 255 255]\n",
            "  ...\n",
            "  [255 255 252]\n",
            "  [246 255 255]\n",
            "  [243 253 255]]]\n"
          ]
        },
        {
          "output_type": "execute_result",
          "data": {
            "text/plain": [
              "<matplotlib.image.AxesImage at 0x7f5aac464e80>"
            ]
          },
          "metadata": {},
          "execution_count": 9
        },
        {
          "output_type": "display_data",
          "data": {
            "text/plain": [
              "<Figure size 480x480 with 1 Axes>"
            ],
            "image/png": "[encoded data removed]"
          },
          "metadata": {}
        }
      ]
    },
    {
      "cell_type": "code",
      "source": [
        "balls_flat = np.stack((balls_folder[i] for i in range(len(balls_folder))))\n",
        "print(balls_flat.shape)"
      ],
      "metadata": {
        "id": "Omkhs4PL99v1",
        "outputId": "6ab83e60-05c1-4b31-e11f-cdc57b69735f",
        "colab": {
          "base_uri": "https://localhost:8080/"
        }
      },
      "execution_count": 10,
      "outputs": [
        {
          "output_type": "stream",
          "name": "stdout",
          "text": [
            "(553, 28, 28, 3)\n"
          ]
        },
        {
          "output_type": "stream",
          "name": "stderr",
          "text": [
            "/usr/local/lib/python3.10/dist-packages/IPython/core/interactiveshell.py:3473: FutureWarning: arrays to stack must be passed as a \"sequence\" type such as list or tuple. Support for non-sequence iterables such as generators is deprecated as of NumPy 1.16 and will raise an error in the future.\n",
            "  if (await self.run_code(code, result,  async_=asy)):\n"
          ]
        }
      ]
    },
    {
      "cell_type": "code",
      "source": [
        "baseballXX    = 'baseball*'\n",
        "basketballXX  = 'basketball*'\n",
        "billiardsXX   = 'billiards*'\n",
        "bowlingXX     = 'bowling*'\n",
        "footballXX    = 'football*'\n",
        "golfXX        = 'golf*'\n",
        "soccerXX      = 'soccer*'\n",
        "tabletennisXX = 'tabletennis*'\n",
        "tennisXX      = 'tennis*'\n",
        "volleyballXX  = 'volleyball*'\n",
        "s_name         = []\n",
        "for filename in data:\n",
        "  image = cv.imread(filename)\n",
        "  if image.shape == (28,28,3):\n",
        "    if fnmatch.fnmatch(filename, baseballXX) == True:\n",
        "      s_name.append(0)\n",
        "    elif fnmatch.fnmatch(filename, basketballXX) == True:\n",
        "      s_name.append(1)\n",
        "    elif fnmatch.fnmatch(filename, billiardsXX) == True:\n",
        "      s_name.append(2)\n",
        "    elif fnmatch.fnmatch(filename, bowlingXX) == True:\n",
        "      s_name.append(3)\n",
        "    elif fnmatch.fnmatch(filename, footballXX) == True:\n",
        "      s_name.append(4)\n",
        "    elif fnmatch.fnmatch(filename, golfXX) == True:\n",
        "      s_name.append(5)\n",
        "    elif fnmatch.fnmatch(filename, soccerXX) == True:\n",
        "      s_name.append(6)\n",
        "    elif fnmatch.fnmatch(filename, tabletennisXX) == True:\n",
        "      s_name.append(7)\n",
        "    elif fnmatch.fnmatch(filename, tennisXX) == True:\n",
        "      s_name.append(8)\n",
        "    elif fnmatch.fnmatch(filename, volleyballXX) == True:\n",
        "      s_name.append(9)\n",
        "    else:\n",
        "      print(filename + str(' is not accounted.'))\n",
        "\n",
        "s_name = np.reshape(s_name, (len(s_name),))\n",
        "print(s_name.shape)\n",
        "print(s_name)"
      ],
      "metadata": {
        "id": "v98LNmumCoWW",
        "outputId": "ecfb87f1-82c9-41a7-d868-f65fdd17dd50",
        "colab": {
          "base_uri": "https://localhost:8080/"
        }
      },
      "execution_count": 11,
      "outputs": [
        {
          "output_type": "stream",
          "name": "stdout",
          "text": [
            "(553,)\n",
            "[9 5 9 0 6 0 5 8 8 1 1 1 6 8 7 7 8 7 5 2 9 1 7 6 1 0 5 3 6 9 4 4 1 3 2 0 9\n",
            " 4 2 3 6 5 4 4 5 7 4 0 7 3 9 5 8 1 1 4 0 9 9 1 3 2 7 1 4 9 7 6 1 8 9 7 5 1\n",
            " 3 5 1 5 5 2 4 0 8 1 3 0 9 0 2 4 1 8 2 7 6 5 0 1 7 4 3 0 4 0 1 9 3 9 6 1 2\n",
            " 4 2 9 8 4 2 5 4 2 8 7 2 8 1 7 1 7 1 4 6 5 7 1 1 2 7 1 8 4 6 0 4 7 7 5 3 7\n",
            " 1 2 1 3 8 6 5 9 7 5 7 2 8 5 9 1 5 3 6 6 9 5 0 9 0 4 5 8 5 7 6 3 1 4 5 3 0\n",
            " 6 3 7 2 3 1 9 7 3 5 4 2 4 6 5 2 6 7 3 3 7 2 6 1 8 2 5 4 2 2 8 5 1 3 4 4 8\n",
            " 6 0 5 0 5 0 9 8 5 3 8 5 2 9 1 5 1 0 3 4 7 9 3 4 6 7 6 4 3 1 8 2 1 2 1 6 1\n",
            " 1 7 3 3 4 2 5 9 9 0 4 7 2 5 8 4 5 7 1 4 1 1 4 2 8 5 3 9 0 5 5 4 5 6 4 4 8\n",
            " 7 7 3 9 0 6 5 7 7 6 9 8 8 3 6 7 9 2 9 5 5 9 1 4 1 1 1 3 7 4 5 4 5 5 0 0 6\n",
            " 8 5 1 2 0 3 0 0 1 8 8 2 6 5 2 1 8 0 4 9 6 8 0 3 7 4 6 1 7 0 3 4 9 6 9 4 0\n",
            " 6 2 4 6 8 7 1 6 3 6 0 8 5 5 9 6 8 8 9 5 0 3 8 5 1 1 3 5 0 6 4 1 6 1 7 9 5\n",
            " 6 1 0 8 7 7 1 8 8 1 8 9 9 3 2 1 7 2 0 2 4 5 7 1 4 6 2 5 7 2 9 3 5 5 6 8 0\n",
            " 5 0 0 5 0 5 9 7 8 5 7 5 0 0 9 5 4 0 1 6 0 3 2 9 1 0 2 5 6 4 9 5 4 4 3 7 5\n",
            " 3 2 7 6 2 1 4 1 9 7 1 6 5 6 8 9 0 7 6 1 1 4 8 4 9 2 7 8 8 3 2 0 2 7 3 2 3\n",
            " 7 3 7 2 5 8 7 5 7 9 8 3 1 9 3 7 6 6 2 0 0 1 3 5 1 1 7 4 8 8 9 4 2 7 0]\n"
          ]
        }
      ]
    },
    {
      "cell_type": "code",
      "source": [
        "trainRatio = 80/100\n",
        "testRatio = 20/100\n",
        "X_train,X_test, y_train, y_test = train_test_split(balls_flat, s_name, test_size = 1 - trainRatio)"
      ],
      "metadata": {
        "id": "uNz_1ocFepy9"
      },
      "execution_count": 153,
      "outputs": []
    },
    {
      "cell_type": "code",
      "source": [
        "#trainRatio = 70/100\n",
        "#testRatio = 15/100\n",
        "#valRatio = 15/100\n",
        "#X_train,X_test,y_train, y_test = train_test_split(balls_flat, s_name, test_size = 1 - trainRatio)\n",
        "#X_val,X_test,y_val, y_test = train_test_split(balls_flat, s_name, test_size = testRatio/(testRatio+valRatio))"
      ],
      "metadata": {
        "id": "4jJcxqSsgRR7"
      },
      "execution_count": 145,
      "outputs": []
    },
    {
      "cell_type": "markdown",
      "source": [
        "#####**Preparing the Data**"
      ],
      "metadata": {
        "id": "gRtywxq-e_9v"
      }
    },
    {
      "cell_type": "code",
      "source": [
        "X_train = balls_flat/255\n",
        "X_test = balls_flat/255"
      ],
      "metadata": {
        "id": "kJYAJva4F_cS"
      },
      "execution_count": 154,
      "outputs": []
    },
    {
      "cell_type": "code",
      "source": [
        "print(X_train.shape)\n",
        "print(X_test.shape)"
      ],
      "metadata": {
        "id": "e_1wnSqjGID1",
        "outputId": "78cd5aea-bb95-4eb3-bc42-7059e4fd4cab",
        "colab": {
          "base_uri": "https://localhost:8080/"
        }
      },
      "execution_count": 147,
      "outputs": [
        {
          "output_type": "stream",
          "name": "stdout",
          "text": [
            "(553, 28, 28, 3)\n",
            "(553, 28, 28, 3)\n"
          ]
        }
      ]
    },
    {
      "cell_type": "code",
      "source": [
        "X_train_flat = X_train.reshape(len(X_train),28,28,3)\n",
        "X_test_flat = X_test.reshape(len(X_test),28,28,3)\n",
        "print(X_train_flat.shape)\n",
        "print(X_test_flat.shape)"
      ],
      "metadata": {
        "id": "705bnkYTILbA",
        "outputId": "24a68e54-6b0f-4a6e-c5bd-08578da588ae",
        "colab": {
          "base_uri": "https://localhost:8080/"
        }
      },
      "execution_count": 155,
      "outputs": [
        {
          "output_type": "stream",
          "name": "stdout",
          "text": [
            "(553, 28, 28, 3)\n",
            "(553, 28, 28, 3)\n"
          ]
        }
      ]
    },
    {
      "cell_type": "code",
      "source": [
        "print(X_train.shape)\n",
        "print(y_train.shape)"
      ],
      "metadata": {
        "id": "NhSWbd92hy1Q",
        "outputId": "c4c1ff12-a23e-41cc-d821-3ecbaa871592",
        "colab": {
          "base_uri": "https://localhost:8080/"
        }
      },
      "execution_count": 149,
      "outputs": [
        {
          "output_type": "stream",
          "name": "stdout",
          "text": [
            "(553, 28, 28, 3)\n",
            "(442,)\n"
          ]
        }
      ]
    },
    {
      "cell_type": "markdown",
      "source": [
        "####**Defining the model**"
      ],
      "metadata": {
        "id": "te95nwDRkTlX"
      }
    },
    {
      "cell_type": "code",
      "source": [
        "model = tf.keras.models.Sequential([\n",
        "    tf.keras.layers.Conv2D(64, (3,3), activation='relu', input_shape=(28,28,3)),\n",
        "    tf.keras.layers.MaxPooling2D(2,2),\n",
        "    # tf.keras.layers.Conv2D(64, (3,3), activation='relu'),\n",
        "    # tf.keras.layers.MaxPooling2D(2,2),\n",
        "    # tf.keras.layers.Conv2D(128, (3,3), activation='relu'),\n",
        "    # tf.keras.layers.MaxPooling2D(2,2),\n",
        "    # tf.keras.layers.Conv2D(128, (3,3), activation='relu'),\n",
        "    # tf.keras.layers.MaxPooling2D(2,2),\n",
        "    tf.keras.layers.Flatten(),\n",
        "    tf.keras.layers.Dropout(0.5),\n",
        "    tf.keras.layers.Dense(512, activation='relu'),\n",
        "    tf.keras.layers.Dense(10, activation='softmax')\n",
        "])"
      ],
      "metadata": {
        "id": "--pzDKGzSsq7"
      },
      "execution_count": 136,
      "outputs": []
    },
    {
      "cell_type": "code",
      "source": [
        "model.summary()"
      ],
      "metadata": {
        "id": "v8UFNkk1V_QI",
        "outputId": "018203c3-67d3-42c3-999c-3ed88e647ed1",
        "colab": {
          "base_uri": "https://localhost:8080/"
        }
      },
      "execution_count": 137,
      "outputs": [
        {
          "output_type": "stream",
          "name": "stdout",
          "text": [
            "Model: \"sequential_8\"\n",
            "_________________________________________________________________\n",
            " Layer (type)                Output Shape              Param #   \n",
            "=================================================================\n",
            " conv2d_8 (Conv2D)           (None, 26, 26, 64)        1792      \n",
            "                                                                 \n",
            " max_pooling2d_8 (MaxPooling  (None, 13, 13, 64)       0         \n",
            " 2D)                                                             \n",
            "                                                                 \n",
            " flatten_8 (Flatten)         (None, 10816)             0         \n",
            "                                                                 \n",
            " dropout_8 (Dropout)         (None, 10816)             0         \n",
            "                                                                 \n",
            " dense_16 (Dense)            (None, 512)               5538304   \n",
            "                                                                 \n",
            " dense_17 (Dense)            (None, 10)                5130      \n",
            "                                                                 \n",
            "=================================================================\n",
            "Total params: 5,545,226\n",
            "Trainable params: 5,545,226\n",
            "Non-trainable params: 0\n",
            "_________________________________________________________________\n"
          ]
        }
      ]
    },
    {
      "cell_type": "code",
      "source": [
        "model.compile(keras.optimizers.Adam(learning_rate=0.01),\n",
        "              loss = tf.keras.losses.SparseCategoricalCrossentropy(),\n",
        "              # loss = 'sparse_categorical_crossentropy',\n",
        "              metrics=['accuracy'])"
      ],
      "metadata": {
        "id": "6d43j7VSKi3w"
      },
      "execution_count": 138,
      "outputs": []
    },
    {
      "cell_type": "code",
      "source": [
        "history = model.fit(X_train_flat, y_train, epochs=50,verbose=1)"
      ],
      "metadata": {
        "id": "kWJdyNdYKmZz",
        "outputId": "8170c070-b86d-4b72-958b-8763b5369689",
        "colab": {
          "base_uri": "https://localhost:8080/",
          "height": 348
        }
      },
      "execution_count": 139,
      "outputs": [
        {
          "output_type": "error",
          "ename": "ValueError",
          "evalue": "ignored",
          "traceback": [
            "\u001b[0;31m---------------------------------------------------------------------------\u001b[0m",
            "\u001b[0;31mValueError\u001b[0m                                Traceback (most recent call last)",
            "\u001b[0;32m<ipython-input-139-37f31fb7dc1a>\u001b[0m in \u001b[0;36m<cell line: 1>\u001b[0;34m()\u001b[0m\n\u001b[0;32m----> 1\u001b[0;31m \u001b[0mhistory\u001b[0m \u001b[0;34m=\u001b[0m \u001b[0mmodel\u001b[0m\u001b[0;34m.\u001b[0m\u001b[0mfit\u001b[0m\u001b[0;34m(\u001b[0m\u001b[0mX_train_flat\u001b[0m\u001b[0;34m,\u001b[0m \u001b[0my_train\u001b[0m\u001b[0;34m,\u001b[0m \u001b[0mepochs\u001b[0m\u001b[0;34m=\u001b[0m\u001b[0;36m50\u001b[0m\u001b[0;34m,\u001b[0m\u001b[0mverbose\u001b[0m\u001b[0;34m=\u001b[0m\u001b[0;36m1\u001b[0m\u001b[0;34m)\u001b[0m\u001b[0;34m\u001b[0m\u001b[0;34m\u001b[0m\u001b[0m\n\u001b[0m",
            "\u001b[0;32m/usr/local/lib/python3.10/dist-packages/keras/utils/traceback_utils.py\u001b[0m in \u001b[0;36merror_handler\u001b[0;34m(*args, **kwargs)\u001b[0m\n\u001b[1;32m     68\u001b[0m             \u001b[0;31m# To get the full stack trace, call:\u001b[0m\u001b[0;34m\u001b[0m\u001b[0;34m\u001b[0m\u001b[0m\n\u001b[1;32m     69\u001b[0m             \u001b[0;31m# `tf.debugging.disable_traceback_filtering()`\u001b[0m\u001b[0;34m\u001b[0m\u001b[0;34m\u001b[0m\u001b[0m\n\u001b[0;32m---> 70\u001b[0;31m             \u001b[0;32mraise\u001b[0m \u001b[0me\u001b[0m\u001b[0;34m.\u001b[0m\u001b[0mwith_traceback\u001b[0m\u001b[0;34m(\u001b[0m\u001b[0mfiltered_tb\u001b[0m\u001b[0;34m)\u001b[0m \u001b[0;32mfrom\u001b[0m \u001b[0;32mNone\u001b[0m\u001b[0;34m\u001b[0m\u001b[0;34m\u001b[0m\u001b[0m\n\u001b[0m\u001b[1;32m     71\u001b[0m         \u001b[0;32mfinally\u001b[0m\u001b[0;34m:\u001b[0m\u001b[0;34m\u001b[0m\u001b[0;34m\u001b[0m\u001b[0m\n\u001b[1;32m     72\u001b[0m             \u001b[0;32mdel\u001b[0m \u001b[0mfiltered_tb\u001b[0m\u001b[0;34m\u001b[0m\u001b[0;34m\u001b[0m\u001b[0m\n",
            "\u001b[0;32m/usr/local/lib/python3.10/dist-packages/keras/engine/data_adapter.py\u001b[0m in \u001b[0;36m_check_data_cardinality\u001b[0;34m(data)\u001b[0m\n\u001b[1;32m   1850\u001b[0m             )\n\u001b[1;32m   1851\u001b[0m         \u001b[0mmsg\u001b[0m \u001b[0;34m+=\u001b[0m \u001b[0;34m\"Make sure all arrays contain the same number of samples.\"\u001b[0m\u001b[0;34m\u001b[0m\u001b[0;34m\u001b[0m\u001b[0m\n\u001b[0;32m-> 1852\u001b[0;31m         \u001b[0;32mraise\u001b[0m \u001b[0mValueError\u001b[0m\u001b[0;34m(\u001b[0m\u001b[0mmsg\u001b[0m\u001b[0;34m)\u001b[0m\u001b[0;34m\u001b[0m\u001b[0;34m\u001b[0m\u001b[0m\n\u001b[0m\u001b[1;32m   1853\u001b[0m \u001b[0;34m\u001b[0m\u001b[0m\n\u001b[1;32m   1854\u001b[0m \u001b[0;34m\u001b[0m\u001b[0m\n",
            "\u001b[0;31mValueError\u001b[0m: Data cardinality is ambiguous:\n  x sizes: 553\n  y sizes: 111\nMake sure all arrays contain the same number of samples."
          ]
        }
      ]
    },
    {
      "cell_type": "code",
      "source": [
        "model.evaluate(X_test_flat, s_name)"
      ],
      "metadata": {
        "id": "hQ3tiauHW6dT",
        "outputId": "0486ee60-2cd8-4f77-dc9b-184e2256d4ed",
        "colab": {
          "base_uri": "https://localhost:8080/"
        }
      },
      "execution_count": 51,
      "outputs": [
        {
          "output_type": "stream",
          "name": "stdout",
          "text": [
            "18/18 [==============================] - 1s 19ms/step - loss: 0.0744 - accuracy: 0.9747\n"
          ]
        },
        {
          "output_type": "execute_result",
          "data": {
            "text/plain": [
              "[0.07442255318164825, 0.9746835231781006]"
            ]
          },
          "metadata": {},
          "execution_count": 51
        }
      ]
    },
    {
      "cell_type": "code",
      "source": [
        "pd.DataFrame(history.history).plot(figsize=(5,4))\n",
        "plt.grid(True)\n",
        "plt.gca().set_ylim(0,1)\n",
        "plt.show()"
      ],
      "metadata": {
        "id": "r4y9s-v9LKdn",
        "outputId": "7b4a22b4-ddbd-4661-b9f3-5c6ff2d24ff3",
        "colab": {
          "base_uri": "https://localhost:8080/",
          "height": 372
        }
      },
      "execution_count": 52,
      "outputs": [
        {
          "output_type": "display_data",
          "data": {
            "text/plain": [
              "<Figure size 500x400 with 1 Axes>"
            ],
            "image/png": "[encoded data removed]"
          },
          "metadata": {}
        }
      ]
    },
    {
      "cell_type": "code",
      "source": [
        "prediction = model.predict(X_test_flat)\n",
        "print(prediction)"
      ],
      "metadata": {
        "id": "eZzsWgVeLn7f",
        "outputId": "238dd6d9-0b77-4a3d-d801-ce518b4b42d4",
        "colab": {
          "base_uri": "https://localhost:8080/"
        }
      },
      "execution_count": 21,
      "outputs": [
        {
          "output_type": "stream",
          "name": "stdout",
          "text": [
            "18/18 [==============================] - 0s 18ms/step\n",
            "[[1.6780485e-11 1.0171696e-06 1.2508865e-07 ... 2.4968815e-08\n",
            "  8.7074870e-10 9.9999803e-01]\n",
            " [1.5477165e-02 3.0802502e-04 1.7505374e-02 ... 2.5493583e-01\n",
            "  1.7608225e-02 1.5716888e-03]\n",
            " [1.6836390e-03 2.5721149e-05 5.4754087e-06 ... 1.4781397e-03\n",
            "  5.8934385e-01 4.0137073e-01]\n",
            " ...\n",
            " [0.0000000e+00 0.0000000e+00 9.9999994e-01 ... 0.0000000e+00\n",
            "  0.0000000e+00 2.4309333e-37]\n",
            " [8.4733557e-08 1.2771583e-04 1.2201277e-08 ... 9.9983621e-01\n",
            "  5.7185289e-06 3.9571950e-07]\n",
            " [9.9934524e-01 2.0304883e-07 5.4316566e-05 ... 4.5482423e-08\n",
            "  1.3359215e-06 2.2885021e-07]]\n"
          ]
        }
      ]
    },
    {
      "cell_type": "code",
      "source": [
        "print(prediction[1])"
      ],
      "metadata": {
        "id": "J6x-fn1vLrqD",
        "outputId": "a545e50b-3f58-4608-b8a9-7d7828e79b5b",
        "colab": {
          "base_uri": "https://localhost:8080/"
        }
      },
      "execution_count": 22,
      "outputs": [
        {
          "output_type": "stream",
          "name": "stdout",
          "text": [
            "[1.5477165e-02 3.0802502e-04 1.7505374e-02 8.0487307e-04 1.4345307e-04\n",
            " 6.9138354e-01 2.6183086e-04 2.5493583e-01 1.7608225e-02 1.5716888e-03]\n"
          ]
        }
      ]
    },
    {
      "cell_type": "code",
      "source": [
        "np.argmax(prediction[0])"
      ],
      "metadata": {
        "id": "XOFpGwj3Lvvv",
        "outputId": "3629e6db-dc57-4c0e-fdb5-6b10d42e4d56",
        "colab": {
          "base_uri": "https://localhost:8080/"
        }
      },
      "execution_count": 23,
      "outputs": [
        {
          "output_type": "execute_result",
          "data": {
            "text/plain": [
              "9"
            ]
          },
          "metadata": {},
          "execution_count": 23
        }
      ]
    },
    {
      "cell_type": "code",
      "source": [
        "plt.matshow(balls_folder[0])"
      ],
      "metadata": {
        "id": "zOPlOku7LymC",
        "outputId": "4ddcf6ec-5a04-458d-ee4f-f65724fcbf40",
        "colab": {
          "base_uri": "https://localhost:8080/",
          "height": 452
        }
      },
      "execution_count": 24,
      "outputs": [
        {
          "output_type": "execute_result",
          "data": {
            "text/plain": [
              "<matplotlib.image.AxesImage at 0x7f5aa4a32a40>"
            ]
          },
          "metadata": {},
          "execution_count": 24
        },
        {
          "output_type": "display_data",
          "data": {
            "text/plain": [
              "<Figure size 480x480 with 1 Axes>"
            ],
            "image/png": "[encoded data removed]"
          },
          "metadata": {}
        }
      ]
    },
    {
      "cell_type": "code",
      "source": [
        "predicted_labels = [np.argmax(i) for i in prediction]"
      ],
      "metadata": {
        "id": "AzD4-3i2NbfZ"
      },
      "execution_count": 25,
      "outputs": []
    },
    {
      "cell_type": "code",
      "source": [
        "cm = confusion_matrix(s_name, prediction.argmax(axis=1))\n",
        "print(cm)"
      ],
      "metadata": {
        "id": "r6HMwYehNjxu",
        "outputId": "e61eb5a9-ca1a-499c-df28-8ca32846e940",
        "colab": {
          "base_uri": "https://localhost:8080/"
        }
      },
      "execution_count": 26,
      "outputs": [
        {
          "output_type": "stream",
          "name": "stdout",
          "text": [
            "[[51  0  0  0  0  0  0  0  0  0]\n",
            " [ 0 70  0  0  0  0  0  0  0  0]\n",
            " [ 0  0 49  0  0  0  0  0  0  0]\n",
            " [ 0  0  0 48  0  0  0  0  0  0]\n",
            " [ 0  0  0  0 56  0  0  0  0  0]\n",
            " [ 0  0  0  0  0 67  0  2  0  1]\n",
            " [ 0  0  0  0  0  0 49  0  0  0]\n",
            " [ 0  0  0  0  0  0  0 60  1  0]\n",
            " [ 0  0  0  0  0  0  0  0 50  0]\n",
            " [ 0  0  0  0  0  1  0  0  1 47]]\n"
          ]
        }
      ]
    },
    {
      "cell_type": "code",
      "source": [
        "import seaborn as sn\n",
        "plt.figure(figsize = (5,5))\n",
        "sn.heatmap(cm, annot=True, fmt='d')\n",
        "plt.xlabel('Predicted Label')\n",
        "plt.ylabel('True Label')"
      ],
      "metadata": {
        "id": "YNS1gYmSN9Ie",
        "outputId": "cf3c33c4-85b2-40b8-f697-b39ab7048fb5",
        "colab": {
          "base_uri": "https://localhost:8080/",
          "height": 485
        }
      },
      "execution_count": 27,
      "outputs": [
        {
          "output_type": "execute_result",
          "data": {
            "text/plain": [
              "Text(33.22222222222222, 0.5, 'True Label')"
            ]
          },
          "metadata": {},
          "execution_count": 27
        },
        {
          "output_type": "display_data",
          "data": {
            "text/plain": [
              "<Figure size 500x500 with 2 Axes>"
            ],
            "image/png": "[encoded data removed]"
          },
          "metadata": {}
        }
      ]
    },
    {
      "cell_type": "code",
      "source": [
        "accuracy = 100*np.trace(cm)/np.sum(cm)\n",
        "print(accuracy)"
      ],
      "metadata": {
        "id": "E9levH7POD9u",
        "outputId": "bf4d1d47-92dc-409d-a7ed-87ac02f7bd54",
        "colab": {
          "base_uri": "https://localhost:8080/"
        }
      },
      "execution_count": 29,
      "outputs": [
        {
          "output_type": "stream",
          "name": "stdout",
          "text": [
            "98.91500904159132\n"
          ]
        }
      ]
    }
  ]
}