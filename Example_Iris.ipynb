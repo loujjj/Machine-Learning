{
  "nbformat": 4,
  "nbformat_minor": 0,
  "metadata": {
    "colab": {
      "provenance": [],
      "include_colab_link": true
    },
    "kernelspec": {
      "name": "python3",
      "display_name": "Python 3"
    },
    "language_info": {
      "name": "python"
    }
  },
  "cells": [
    {
      "cell_type": "markdown",
      "metadata": {
        "id": "view-in-github",
        "colab_type": "text"
      },
      "source": [
        "<a href=\"https://colab.research.google.com/github/loujjj/Machine-Learning/blob/main/Example_Iris.ipynb\" target=\"_parent\"><img src=\"https://colab.research.google.com/assets/colab-badge.svg\" alt=\"Open In Colab\"/></a>"
      ]
    },
    {
      "cell_type": "markdown",
      "source": [
        "##**Classification of Iris Species**"
      ],
      "metadata": {
        "id": "Cx-xjMmrn9YP"
      }
    },
    {
      "cell_type": "markdown",
      "source": [
        "####**Importing the Necessary Libraries**"
      ],
      "metadata": {
        "id": "SmmMWPBIoVZ6"
      }
    },
    {
      "cell_type": "code",
      "execution_count": null,
      "metadata": {
        "id": "7B78bGpln72R"
      },
      "outputs": [],
      "source": [
        "import numpy as np\n",
        "import matplotlib.pyplot as plt\n",
        "import pandas as pd\n",
        "\n",
        "import tensorflow as tf\n",
        "from tensorflow import keras\n",
        "from tensorflow.keras.models import Sequential\n",
        "\n",
        "from sklearn import datasets\n",
        "from sklearn.preprocessing import LabelEncoder\n",
        "from sklearn.model_selection import train_test_split\n",
        "from sklearn.metrics import confusion_matrix, ConfusionMatrixDisplay"
      ]
    },
    {
      "cell_type": "markdown",
      "source": [
        "####**The three iris flower species in this example.**"
      ],
      "metadata": {
        "id": "_lQlilLLp8mB"
      }
    },
    {
      "cell_type": "markdown",
      "source": [
        "#####**Accessing Google Drive**"
      ],
      "metadata": {
        "id": "PAja2SneDQPS"
      }
    },
    {
      "cell_type": "code",
      "source": [
        "from google.colab import drive\n",
        "drive.mount('/content/gdrive/', force_remount=True)"
      ],
      "metadata": {
        "colab": {
          "base_uri": "https://localhost:8080/"
        },
        "id": "mSdndJYwpICL",
        "outputId": "c26dbcc6-d243-4406-8e22-e0e5a18aa51b"
      },
      "execution_count": null,
      "outputs": [
        {
          "output_type": "stream",
          "name": "stdout",
          "text": [
            "Mounted at /content/gdrive/\n"
          ]
        }
      ]
    },
    {
      "cell_type": "code",
      "source": [
        "ls"
      ],
      "metadata": {
        "id": "UJG_n17eqr-5"
      },
      "execution_count": null,
      "outputs": []
    },
    {
      "cell_type": "code",
      "source": [
        "cd gdrive/MyDrive/'Colab Notebooks'/Book"
      ],
      "metadata": {
        "colab": {
          "base_uri": "https://localhost:8080/"
        },
        "id": "wk99wvZPqsk7",
        "outputId": "621a823e-cc7b-438b-c40c-19c81e6c49c3"
      },
      "execution_count": null,
      "outputs": [
        {
          "output_type": "stream",
          "name": "stdout",
          "text": [
            "/content/gdrive/MyDrive/Colab Notebooks/Book\n"
          ]
        }
      ]
    },
    {
      "cell_type": "code",
      "source": [
        "ls"
      ],
      "metadata": {
        "id": "htTQE8dlqznc"
      },
      "execution_count": null,
      "outputs": []
    },
    {
      "cell_type": "markdown",
      "source": [
        "#####*Iris Setosa*"
      ],
      "metadata": {
        "id": "LARESmTBHpqe"
      }
    },
    {
      "cell_type": "code",
      "source": [
        "im = plt.imread('Figures/iris-setosa.jpeg')\n",
        "plt.imshow(im)"
      ],
      "metadata": {
        "id": "4HRFTmDGHMwY"
      },
      "execution_count": null,
      "outputs": []
    },
    {
      "cell_type": "markdown",
      "source": [
        "#####*Iris Versicolor*"
      ],
      "metadata": {
        "id": "OHXhkIpNHwLz"
      }
    },
    {
      "cell_type": "code",
      "source": [
        "im = plt.imread('Figures/iris-versicolor.jpeg')\n",
        "plt.imshow(im)"
      ],
      "metadata": {
        "id": "C2sahbNnH4HX"
      },
      "execution_count": null,
      "outputs": []
    },
    {
      "cell_type": "markdown",
      "source": [
        "#####*Iris Virginica*"
      ],
      "metadata": {
        "id": "mFbo5PAMHy1m"
      }
    },
    {
      "cell_type": "code",
      "source": [
        "im = plt.imread('Figures/iris-virginica.jpeg')\n",
        "plt.imshow(im)"
      ],
      "metadata": {
        "id": "0MngtP-wH--8"
      },
      "execution_count": null,
      "outputs": []
    },
    {
      "cell_type": "markdown",
      "source": [
        "####**Importing and Preparing the Data (Option 1)**"
      ],
      "metadata": {
        "id": "Nix3KELw3LjB"
      }
    },
    {
      "cell_type": "markdown",
      "source": [
        "#####**Importing the Data**"
      ],
      "metadata": {
        "id": "4A5pLHBprK6z"
      }
    },
    {
      "cell_type": "markdown",
      "source": [
        "The Iris data set contains six columns."
      ],
      "metadata": {
        "id": "O5OP4qMpoz0S"
      }
    },
    {
      "cell_type": "code",
      "source": [
        "iris_dataset = pd.read_csv('Iris.csv', index_col=None)\n",
        "print(iris_dataset.info())"
      ],
      "metadata": {
        "id": "CN5fJ9e9q0CX"
      },
      "execution_count": null,
      "outputs": []
    },
    {
      "cell_type": "markdown",
      "source": [
        "We drop the first column, since it is just a row number."
      ],
      "metadata": {
        "id": "lGvdJOQLvDmH"
      }
    },
    {
      "cell_type": "code",
      "source": [
        "iris_dataset = iris_dataset.drop(['Id'],axis=1)\n",
        "print(iris_dataset.info())"
      ],
      "metadata": {
        "id": "5PMvhRv-utRd"
      },
      "execution_count": null,
      "outputs": []
    },
    {
      "cell_type": "markdown",
      "source": [
        "The first column correspond to the information about the sepal length (in cm), the second column about the sepal width (in cm), the third about the petal length (in cm), and the fourth the petal width (in cm). <br>\n",
        "The fifth column represent the names of each of the flower species, the *Iris-setosa*, the *Iris-versicolor*, and the *Iris-virginica*."
      ],
      "metadata": {
        "id": "naLTNyPnu3An"
      }
    },
    {
      "cell_type": "code",
      "source": [
        "print(iris_dataset.head(10))"
      ],
      "metadata": {
        "id": "XB0DVW_3rTFe"
      },
      "execution_count": null,
      "outputs": []
    },
    {
      "cell_type": "markdown",
      "source": [
        "#####**Preparing the Data**"
      ],
      "metadata": {
        "id": "AKCTYpTN0Iq8"
      }
    },
    {
      "cell_type": "markdown",
      "source": [
        "The first four columns will become our input, which we will assign to the variable $X$."
      ],
      "metadata": {
        "id": "9GGaVPugvQ5u"
      }
    },
    {
      "cell_type": "code",
      "source": [
        "X = iris_dataset.loc[:,iris_dataset.columns != 'Species']\n",
        "print(X)"
      ],
      "metadata": {
        "id": "LS8tjK8rvTdg"
      },
      "execution_count": null,
      "outputs": []
    },
    {
      "cell_type": "markdown",
      "source": [
        "The last column will become our label, which we will assign to the variable $y$."
      ],
      "metadata": {
        "id": "MQQ90JMWveE7"
      }
    },
    {
      "cell_type": "code",
      "source": [
        "y_dataset = iris_dataset.loc[:,iris_dataset.columns == 'Species']\n",
        "print(y_dataset)"
      ],
      "metadata": {
        "id": "1qYM0EYzvaoH"
      },
      "execution_count": null,
      "outputs": []
    },
    {
      "cell_type": "markdown",
      "source": [
        "We use the [LabelEncoder()](https://scikit-learn.org/stable/modules/generated/sklearn.preprocessing.LabelEncoder.html) function to encode target labels with values between 0 and $n-1$, where $n$ is the number of classes. The *fit_transform()* method returns encoded labels."
      ],
      "metadata": {
        "id": "KK1wiu6NwmWj"
      }
    },
    {
      "cell_type": "code",
      "source": [
        "y_label = LabelEncoder().fit_transform(y_dataset) \n",
        "print(y_label)"
      ],
      "metadata": {
        "id": "R81MQ7Nzwm-c"
      },
      "execution_count": null,
      "outputs": []
    },
    {
      "cell_type": "markdown",
      "source": [
        "Then, we use the [tf.keras.utils.to_categorical()](https://www.tensorflow.org/api_docs/python/tf/keras/utils/to_categorical) function to convert the class vector, $y\\_label$, to binary class matrix."
      ],
      "metadata": {
        "id": "4mGETjB-w6_J"
      }
    },
    {
      "cell_type": "code",
      "source": [
        "y = tf.keras.utils.to_categorical(y_label)\n",
        "print(y)"
      ],
      "metadata": {
        "id": "u8VbzfSixdGy"
      },
      "execution_count": null,
      "outputs": []
    },
    {
      "cell_type": "markdown",
      "source": [
        "####**Importing and Preparing the Data (Option 2)**"
      ],
      "metadata": {
        "id": "Vk2_-Q1r3lGL"
      }
    },
    {
      "cell_type": "markdown",
      "source": [
        "#####**Importing the Data**"
      ],
      "metadata": {
        "id": "liQptcm63yFb"
      }
    },
    {
      "cell_type": "code",
      "source": [
        "iris_dataset = datasets.load_iris()\n",
        "X = iris_dataset.data\n",
        "y_label = iris_dataset.target"
      ],
      "metadata": {
        "id": "diDnru9w4tDr"
      },
      "execution_count": null,
      "outputs": []
    },
    {
      "cell_type": "code",
      "source": [
        "print(X)"
      ],
      "metadata": {
        "id": "gFgCv2I25nYQ"
      },
      "execution_count": null,
      "outputs": []
    },
    {
      "cell_type": "code",
      "source": [
        "y = tf.keras.utils.to_categorical(y_label)\n",
        "print(y)"
      ],
      "metadata": {
        "id": "R8ufzapM5o9i"
      },
      "execution_count": null,
      "outputs": []
    },
    {
      "cell_type": "markdown",
      "source": [
        "####**Defining the model**"
      ],
      "metadata": {
        "id": "Gh4vWGP81zPu"
      }
    },
    {
      "cell_type": "markdown",
      "source": [
        "We split the training data, validation data, and test data into 70%, 15%, and 15%, respectively."
      ],
      "metadata": {
        "id": "LaBwobBV0eKv"
      }
    },
    {
      "cell_type": "code",
      "source": [
        "trainRatio = 70/100\n",
        "valRatio = 15/100\n",
        "testRatio = 15/100\n",
        "\n",
        "X_train, X_test, y_train, y_test = train_test_split(X, y, test_size = 1 - trainRatio)\n",
        "X_val, X_test, y_val, y_test = train_test_split(X_test, y_test, test_size = testRatio/(testRatio + valRatio))"
      ],
      "metadata": {
        "id": "cUeR-Ev0xmPM"
      },
      "execution_count": null,
      "outputs": []
    },
    {
      "cell_type": "code",
      "source": [
        "print(X_train.shape)"
      ],
      "metadata": {
        "id": "RwDA3egP1gUl"
      },
      "execution_count": null,
      "outputs": []
    },
    {
      "cell_type": "code",
      "source": [
        "print(y_train.shape)"
      ],
      "metadata": {
        "id": "fAGCUnTI1ia0"
      },
      "execution_count": null,
      "outputs": []
    },
    {
      "cell_type": "code",
      "source": [
        "print(y_test.shape)"
      ],
      "metadata": {
        "colab": {
          "base_uri": "https://localhost:8080/"
        },
        "id": "UMrWZB0o1kbq",
        "outputId": "3c0d7e3d-b6a3-4484-e54d-ed60a5dda7e2"
      },
      "execution_count": null,
      "outputs": [
        {
          "output_type": "stream",
          "name": "stdout",
          "text": [
            "(23, 3)\n"
          ]
        }
      ]
    },
    {
      "cell_type": "code",
      "source": [
        "model = Sequential([\n",
        "    keras.layers.Input(shape = X_train.shape[1:]),\n",
        "    keras.layers.Dense(4, activation='sigmoid'),\n",
        "    keras.layers.Dense(3, activation='softmax')\n",
        "])"
      ],
      "metadata": {
        "id": "kJ5wnjnx1m49"
      },
      "execution_count": null,
      "outputs": []
    },
    {
      "cell_type": "code",
      "source": [
        "model.summary()"
      ],
      "metadata": {
        "colab": {
          "base_uri": "https://localhost:8080/"
        },
        "id": "AsYkv4vh2lae",
        "outputId": "55ca20cb-1ebe-4b30-e682-6b20cc1e2a41"
      },
      "execution_count": null,
      "outputs": [
        {
          "output_type": "stream",
          "name": "stdout",
          "text": [
            "Model: \"sequential\"\n",
            "_________________________________________________________________\n",
            " Layer (type)                Output Shape              Param #   \n",
            "=================================================================\n",
            " dense (Dense)               (None, 4)                 20        \n",
            "                                                                 \n",
            " dense_1 (Dense)             (None, 3)                 15        \n",
            "                                                                 \n",
            "=================================================================\n",
            "Total params: 35\n",
            "Trainable params: 35\n",
            "Non-trainable params: 0\n",
            "_________________________________________________________________\n"
          ]
        }
      ]
    },
    {
      "cell_type": "markdown",
      "source": [
        "####**Compiling the model**"
      ],
      "metadata": {
        "id": "IMvzfBfn2wJ-"
      }
    },
    {
      "cell_type": "code",
      "source": [
        "model.compile(optimizer = 'adam',\n",
        "              loss = keras.losses.CategoricalCrossentropy(),\n",
        "              metrics=['accuracy'])"
      ],
      "metadata": {
        "id": "d1DQ29J72mmB"
      },
      "execution_count": null,
      "outputs": []
    },
    {
      "cell_type": "markdown",
      "source": [
        "####**Training the model**"
      ],
      "metadata": {
        "id": "2R3Vp3Gt2-4L"
      }
    },
    {
      "cell_type": "code",
      "source": [
        "history = model.fit(X_train, y_train, epochs=1000, validation_data=(X_val, y_val), verbose=1)"
      ],
      "metadata": {
        "id": "PguRokJt29-a"
      },
      "execution_count": null,
      "outputs": []
    },
    {
      "cell_type": "markdown",
      "source": [
        "####**Displaying the weights and biases**"
      ],
      "metadata": {
        "id": "IiM-HasUJENf"
      }
    },
    {
      "cell_type": "code",
      "source": [
        "for layer in model.layers:\n",
        "  print(layer.name, layer)"
      ],
      "metadata": {
        "id": "BgrGPs9HHdtX"
      },
      "execution_count": null,
      "outputs": []
    },
    {
      "cell_type": "code",
      "source": [
        "# the input-to-hidden layer weights\n",
        "print(model.layers[0].weights)"
      ],
      "metadata": {
        "id": "ZwxuBsUuHhEg"
      },
      "execution_count": null,
      "outputs": []
    },
    {
      "cell_type": "code",
      "source": [
        "# the hidden-to-output layer weights\n",
        "print(model.layers[1].weights)"
      ],
      "metadata": {
        "id": "X7GF1RtWJXKV"
      },
      "execution_count": null,
      "outputs": []
    },
    {
      "cell_type": "code",
      "source": [
        "# the input-to-hidden layers bias\n",
        "print(model.layers[0].bias.numpy())"
      ],
      "metadata": {
        "id": "Aru7Ht0RHo5B"
      },
      "execution_count": null,
      "outputs": []
    },
    {
      "cell_type": "code",
      "source": [
        "# the hidden-to-output layer bias\n",
        "print(model.layers[1].bias.numpy())"
      ],
      "metadata": {
        "id": "Srn8jaepJe3S"
      },
      "execution_count": null,
      "outputs": []
    },
    {
      "cell_type": "markdown",
      "source": [
        "####**Evaluating the performance**"
      ],
      "metadata": {
        "id": "ues5Uz5ZIonL"
      }
    },
    {
      "cell_type": "code",
      "source": [
        "model.evaluate(X_test, y_test)"
      ],
      "metadata": {
        "id": "9X203acY3NMQ"
      },
      "execution_count": null,
      "outputs": []
    },
    {
      "cell_type": "code",
      "source": [
        "pd.DataFrame(history.history).plot(figsize=(10,6))\n",
        "plt.grid(True)\n",
        "plt.gca().set_ylim(0,1)\n",
        "plt.show()"
      ],
      "metadata": {
        "id": "a6xt1g3Q3vUh"
      },
      "execution_count": null,
      "outputs": []
    },
    {
      "cell_type": "code",
      "source": [
        "prediction = model.predict(X_val)\n",
        "print(prediction)"
      ],
      "metadata": {
        "id": "OAsKkkq64Kg5"
      },
      "execution_count": null,
      "outputs": []
    },
    {
      "cell_type": "code",
      "source": [
        "print(y_val)"
      ],
      "metadata": {
        "id": "Q0MwJox25uyZ"
      },
      "execution_count": null,
      "outputs": []
    },
    {
      "cell_type": "code",
      "source": [
        "cm = confusion_matrix(y_test.argmax(axis=1), prediction.argmax(axis=1))"
      ],
      "metadata": {
        "id": "j1n1c5hV8DLN"
      },
      "execution_count": null,
      "outputs": []
    },
    {
      "cell_type": "code",
      "source": [
        "disp = ConfusionMatrixDisplay(confusion_matrix=cm)\n",
        "disp.plot()\n",
        "plt.show()"
      ],
      "metadata": {
        "id": "RP7lkIncBnSW"
      },
      "execution_count": null,
      "outputs": []
    },
    {
      "cell_type": "code",
      "source": [
        "accuracy = 100*np.trace(cm)/np.sum(cm)\n",
        "print(accuracy)"
      ],
      "metadata": {
        "id": "PrsS0T2TD0MI"
      },
      "execution_count": null,
      "outputs": []
    }
  ]
}