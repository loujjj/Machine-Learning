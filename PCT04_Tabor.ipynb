{
  "nbformat": 4,
  "nbformat_minor": 0,
  "metadata": {
    "colab": {
      "provenance": [],
      "include_colab_link": true
    },
    "kernelspec": {
      "name": "python3",
      "display_name": "Python 3"
    },
    "language_info": {
      "name": "python"
    }
  },
  "cells": [
    {
      "cell_type": "markdown",
      "metadata": {
        "id": "view-in-github",
        "colab_type": "text"
      },
      "source": [
        "<a href=\"https://colab.research.google.com/github/loujjj/Machine-Learning/blob/main/PCT04_Tabor.ipynb\" target=\"_parent\"><img src=\"https://colab.research.google.com/assets/colab-badge.svg\" alt=\"Open In Colab\"/></a>"
      ]
    },
    {
      "cell_type": "markdown",
      "source": [
        "##**Classification of Walk vs Run**"
      ],
      "metadata": {
        "id": "w12W2G-6c32h"
      }
    },
    {
      "cell_type": "markdown",
      "source": [
        "####**Importing the Necessary Libraries**"
      ],
      "metadata": {
        "id": "19trjlLic6EL"
      }
    },
    {
      "cell_type": "code",
      "execution_count": 1,
      "metadata": {
        "id": "XPZnl1jNcuB1"
      },
      "outputs": [],
      "source": [
        "import numpy as np\n",
        "import matplotlib.pyplot as plt\n",
        "import pandas as pd\n",
        "import os\n",
        "import cv2 as cv\n",
        "import fnmatch\n",
        "\n",
        "import tensorflow as tf\n",
        "from tensorflow import keras\n",
        "from tensorflow.keras.models import Sequential\n",
        "from tensorflow.keras.layers import Dense, Conv2D, Dropout, Flatten, MaxPooling2D\n",
        "\n",
        "from sklearn import datasets\n",
        "from sklearn.preprocessing import LabelEncoder\n",
        "from sklearn.model_selection import train_test_split\n",
        "from sklearn.metrics import confusion_matrix, ConfusionMatrixDisplay"
      ]
    },
    {
      "cell_type": "markdown",
      "source": [
        "####**Importing and Preparing the Data**"
      ],
      "metadata": {
        "id": "21I4-WljdB3r"
      }
    },
    {
      "cell_type": "markdown",
      "source": [
        "#####**Importing the Data**"
      ],
      "metadata": {
        "id": "-z48xONBdGc0"
      }
    },
    {
      "cell_type": "code",
      "source": [
        "from google.colab import drive\n",
        "drive.mount('/content/gdrive/', force_remount=True)"
      ],
      "metadata": {
        "id": "a0VllYJydK2L",
        "outputId": "8055cc45-2f27-4201-de23-15a7248c50a5",
        "colab": {
          "base_uri": "https://localhost:8080/"
        }
      },
      "execution_count": 2,
      "outputs": [
        {
          "output_type": "stream",
          "name": "stdout",
          "text": [
            "Mounted at /content/gdrive/\n"
          ]
        }
      ]
    },
    {
      "cell_type": "code",
      "source": [
        "cd gdrive/MyDrive/'Colab Notebooks'/Book/BallsDatasets"
      ],
      "metadata": {
        "colab": {
          "base_uri": "https://localhost:8080/"
        },
        "id": "ATHuKHGmGqhd",
        "outputId": "ef881e0a-db23-4634-c549-265c7c8d6ed5"
      },
      "execution_count": 3,
      "outputs": [
        {
          "output_type": "stream",
          "name": "stdout",
          "text": [
            "/content/gdrive/MyDrive/Colab Notebooks/Book/BallsDatasets\n"
          ]
        }
      ]
    },
    {
      "cell_type": "markdown",
      "source": [
        "**NOTE: You have to save the attached csv file to one of your subfolders in Google Drive and change the name of the subfolder below, accordingly.**"
      ],
      "metadata": {
        "id": "lUPIQIxqIfvI"
      }
    },
    {
      "cell_type": "code",
      "source": [
        "ls"
      ],
      "metadata": {
        "id": "R6Vx8Cz4dRf4",
        "colab": {
          "base_uri": "https://localhost:8080/"
        },
        "outputId": "bca9267b-4b71-489e-c606-112606fbb58a"
      },
      "execution_count": 4,
      "outputs": [
        {
          "output_type": "stream",
          "name": "stdout",
          "text": [
            " baseball00.jpg           bowling20.jpg          soccer29.jpg\n",
            " baseball01.jpg           bowling21.png          soccer30.jpg\n",
            " baseball02.png           bowling22.png          soccer31.jpg\n",
            " baseball03.jpg           bowling23.png          soccer32.jpg\n",
            " baseball04.jpg           bowling24.jpg          soccer33.png\n",
            " baseball05.jpg           bowling25.png          soccer34.jpg\n",
            " baseball06.png           bowling26.png          soccer36.jpg\n",
            " baseball07.jpg           bowling27.jpg          soccer37.png\n",
            " baseball08.jpeg          bowling28.jpg          soccer38.png\n",
            " baseball09.jpeg          bowling29.jpg          soccer39.png\n",
            " baseball10.jpg           bowling30.png          soccer40.jpg\n",
            " baseball11.jpg           bowling31.png          soccer41.jpg\n",
            " baseball12.jpg           bowling32.png          soccer42.jpg\n",
            " baseball13.jpg           bowling34.jpg          soccer43.jpg\n",
            " baseball14.jpg           bowling35.jpg          soccer44.jpg\n",
            " baseball15.jpg           bowling36.png          soccer45.jpg\n",
            " baseball16.jpg           bowling37.png          soccer46.png\n",
            " baseball17.jpg           bowling38.png          soccer48.jpg\n",
            " baseball18.jpg           bowling39.jpg          soccer48.png\n",
            " baseball19.jpg           bowling40.jpg          soccer49.png\n",
            " baseball20.jpg           bowling41.jpg          soccer50.jpg\n",
            " baseball21.png           bowling42.jpg          soccer51.jpeg\n",
            " baseball22.png           bowling43.jpg          soccer52.jpeg\n",
            " baseball23.png           bowling44.jpg          soccer53.jpeg\n",
            " baseball24.jpg           bowling45.jpg          tabletennis00.jpg\n",
            " baseball25.jpg           bowling46.jpg          tabletennis01.jpg\n",
            " baseball26.jpg           bowling47.jpg          tabletennis02.jpg\n",
            " baseball27.jpg           bowling48.png          tabletennis03.jpg\n",
            " baseball28.jpg           bowling49.png          tabletennis04.jpg\n",
            " baseball29.jpg           bowling50.png          tabletennis07.png\n",
            " baseball30.png           bowling51.jpeg        'tabletennis08 (1).jpeg'\n",
            " baseball31.png           bowling52.jpeg         tabletennis08.jpeg\n",
            " baseball32.png           bowling53.jpeg         tabletennis09.jpg\n",
            " baseball33.jpg           football00.jpg         tabletennis10.jpg\n",
            " baseball36.png           football01.jpg         tabletennis11.jpg\n",
            " baseball37.png           football05.jpg         tabletennis12.jpg\n",
            " baseball38.png           football06.jpg         tabletennis13.jpg\n",
            " baseball39.png           football07.jpg         tabletennis14.jpg\n",
            " baseball40.jpg          'football08 (1).jpg'    tabletennis15.jpg\n",
            " baseball41.jpg           football08.jpg         tabletennis16.jpg\n",
            " baseball42.jpg          'football09 (1).png'    tabletennis17.jpg\n",
            " baseball43.jpg           football09.png        'tabletennis18 (1).png'\n",
            " baseball44.jpg           football10.jpg         tabletennis18.png\n",
            " baseball46.jpg           football11.jpg        'tabletennis19 (1).png'\n",
            " baseball47.jpg           football12.jpg         tabletennis19.png\n",
            " baseball48.png           football13.png         tabletennis20.png\n",
            " baseball49.jpg           football14.png         tabletennis21.png\n",
            " baseball50.jpg           football15.jpg         tabletennis22.png\n",
            " baseball51.jpeg          football16.jpg         tabletennis23.png\n",
            " baseball52.jpeg          football17.jpg        'tabletennis27 (1).jpg'\n",
            " baseball53.jpeg          football18.jpg         tabletennis27.jpg\n",
            " basketball00.jpg         football19.jpg         tabletennis28.jpg\n",
            " basketball01.jpg        'football20 (1).jpg'    tabletennis29.jpg\n",
            " basketball02.png         football20.jpg         tabletennis30.jpeg\n",
            " basketball03.png        'football21 (1).png'   'tabletennis31 (1).jpg'\n",
            " basketball07.jpeg        football21.png         tabletennis31.jpg\n",
            " basketball08.jpeg       'football22 (1).jpg'   'tabletennis32 (1).png'\n",
            " basketball09.jpeg        football22.jpg         tabletennis32.png\n",
            " basketball10.jpg        'football23 (1).png'   'tabletennis33 (1).png'\n",
            " basketball11.jpg         football23.png         tabletennis33.png\n",
            " basketball12.jpg         football24.jpg         tabletennis34.png\n",
            " basketball13.png         football25.jpg         tabletennis35.jpg\n",
            " basketball14.png         football26.jpg         tabletennis36.jpg\n",
            " basketball15.jpg         football27.jpg         tabletennis37.jpg\n",
            " basketball16.png         football28.jpg         tabletennis38.png\n",
            " basketball17.jpg         football29.png         tabletennis39.png\n",
            "'basketball18 (1).jpg'    football30.png        'tabletennis40 (1).png'\n",
            "'basketball18 (2).jpg'    football31.png         tabletennis40.png\n",
            " basketball18.jpg         football32.png        'tabletennis41 (1).jpg'\n",
            "'basketball19 (1).jpg'   'football36 (1).png'    tabletennis41.jpg\n",
            "'basketball19 (2).jpg'    football36.png         tabletennis42.jpg\n",
            " basketball19.jpg        'football37 (1).png'    tabletennis43.jpg\n",
            " basketball20.jpg         football37.png         tabletennis44.jpg\n",
            " basketball21.jpg         football38.png         tabletennis45.jpg\n",
            " basketball22.png         football39.jpg         tabletennis46.jpg\n",
            " basketball23.png         football40.jpg         tabletennis47.jpg\n",
            "'basketball24 (1).jpg'    football41.jpg         tabletennis48.jpg\n",
            "'basketball24 (2).jpg'    football42.jpg         tabletennis49.jpg\n",
            " basketball24.jpg         football43.jpg         tabletennis50.jpg\n",
            " basketball25.jpg         football44.jpg        'tabletennis51 (1).jpg'\n",
            "'basketball26 (1).jpg'    football46.jpg         tabletennis51.jpg\n",
            "'basketball26 (2).jpg'    football47.jpg         tabletennis52.png\n",
            " basketball26.jpg         football48.png        'tabletennis53 (1).jpeg'\n",
            "'basketball27 (1).jpg'    football49.png         tabletennis53.jpeg\n",
            "'basketball27 (2).jpg'   'football50 (1).png'    tabletennis54.jpeg\n",
            " basketball27.jpg         football50.png         tennis00.jpg\n",
            " basketball28.jpg         football51.jpeg        tennis01.jpg\n",
            " basketball29.jpg        'football52 (1).jpeg'   tennis02.jpg\n",
            "'basketball30 (1).png'    football52.jpeg        tennis03.jpg\n",
            "'basketball30 (2).png'    football53.jpeg        tennis04.jpg\n",
            " basketball30.png         golf00.jpg             tennis05.jpg\n",
            " basketball31.png         golf01.jpg             tennis06.png\n",
            "'basketball32 (1).png'    golf02.jpg             tennis07.jpeg\n",
            "'basketball32 (2).png'    golf03.jpg             tennis08.jpg\n",
            " basketball32.png         golf04.jpg             tennis09.jpg\n",
            " basketball34.jpg         golf05.png             tennis10.jpg\n",
            " basketball35.jpg        'golf07 (1).jpeg'       tennis11.jpg\n",
            " basketball36.png        'golf07 (2).jpeg'       tennis12.jpg\n",
            " basketball37.png         golf07.jpeg            tennis13.jpg\n",
            " basketball38.png        'golf08 (1).png'        tennis14.jpg\n",
            " basketball39.jpg        'golf08 (2).png'        tennis15.jpg\n",
            "'basketball40 (1).jpg'    golf08.png             tennis16.jpg\n",
            "'basketball40 (2).jpg'   'golf09 (1).png'        tennis17.jpg\n",
            " basketball40.jpg         golf09.png             tennis18.png\n",
            "'basketball41 (1).jpg'    golf10.jpg             tennis19.png\n",
            "'basketball41 (2).jpg'    golf11.jpg             tennis20.png\n",
            " basketball41.jpg         golf12.jpg             tennis21.png\n",
            " basketball42.jpg         golf13.png             tennis22.png\n",
            " basketball43.jpg         golf14.png             tennis23.png\n",
            " basketball44.jpg         golf15.png             tennis27.jpg\n",
            " basketball45.png         golf16.jpg             tennis28.jpg\n",
            " basketball46.png         golf17.jpg             tennis29.jpg\n",
            " basketball47.png         golf18.jpg             tennis30.png\n",
            " basketball48.png         golf19.jpg             tennis31.png\n",
            " basketball49.png        'golf20 (1).jpg'        tennis32.png\n",
            " basketball50.png        'golf20 (2).jpg'        tennis33.jpg\n",
            "'basketball51 (1).jpeg'   golf20.jpg             tennis34.jpg\n",
            "'basketball51 (2).jpeg'   golf21.png             tennis36.png\n",
            " basketball51.jpeg       'golf22 (1).png'        tennis37.png\n",
            " basketball52.jpeg       'golf22 (2).png'        tennis38.png\n",
            " basketball53.jpeg        golf22.png             tennis39.jpg\n",
            " billiards00.jpg         'golf23 (1).png'        tennis40.jpg\n",
            " billiards01.png         'golf23 (2).png'        tennis41.jpg\n",
            " billiards02.jpeg         golf23.png             tennis42.jpg\n",
            " billiards03.jpeg         golf27.jpg             tennis43.jpg\n",
            " billiards07.jpg          golf28.png             tennis44.jpg\n",
            " billiards08.jpg          golf29.jpg             tennis45.jpg\n",
            " billiards09.jpg          golf30.jpg             tennis46.jpg\n",
            " billiards10.jpg          golf31.png             tennis47.jpg\n",
            " billiards11.jpg          golf32.png             tennis48.png\n",
            " billiards12.jpg          golf33.png             tennis49.png\n",
            " billiards13.png         'golf34 (1).jpg'        tennis50.jpg\n",
            " billiards14.png         'golf34 (2).jpg'        tennis51.jpeg\n",
            " billiards15.png          golf34.jpg             tennis52.jpeg\n",
            " billiards16.jpg         'golf35 (1).jpg'        tennis53.jpeg\n",
            " billiards17.jpg          golf35.jpg             volleyball00.jpg\n",
            " billiards18.webp        'golf36 (1).jpg'        volleyball01.jpg\n",
            " billiards19.jpg         'golf36 (2).jpg'        volleyball02.jpg\n",
            " billiards20.jpg          golf36.jpg             volleyball03.jpg\n",
            " billiards21.png         'golf37 (1).png'        volleyball07.jpg\n",
            " billiards22.png         'golf37 (2).png'        volleyball08.png\n",
            " billiards23.png          golf37.png             volleyball09.jpg\n",
            " billiards24.jpg          golf38.png             volleyball10.jpg\n",
            " billiards25.jpg          golf39.png             volleyball11.jpg\n",
            " billiards26.jpg          golf40.png             volleyball12.jpg\n",
            " billiards27.jpg          golf41.jpg             volleyball13.jpg\n",
            " billiards28.jpg          golf42.jpg             volleyball14.png\n",
            " billiards29.jpg         'golf43 (1).jpg'        volleyball15.jpg\n",
            " billiards30.png          golf43.jpg             volleyball16.jpg\n",
            " billiards31.png          golf44.jpg             volleyball17.jpg\n",
            " billiards32.png          golf45.jpg             volleyball18.png\n",
            " billiards33.jpeg         golf46.jpg             volleyball19.png\n",
            " billiards36.png          golf47.jpg             volleyball20.png\n",
            " billiards37.png          golf49.png             volleyball21.png\n",
            " billiards38.png          golf50.jpg             volleyball22.png\n",
            " billiards39.png         'golf51 (1).jpg'        volleyball23.png\n",
            " billiards40.jpg          golf51.jpg             volleyball27.jpg\n",
            " billiards41.jpg          golf52.jpg             volleyball28.jpg\n",
            " billiards42.jpg          golf53.jpeg            volleyball29.jpg\n",
            " billiards43.jpg          golf54.jpeg            volleyball30.jpg\n",
            " billiards44.jpg          soccer00.jpg           volleyball31.jpg\n",
            " billiards45.png          soccer01.jpg           volleyball32.jpg\n",
            " billiards46.png          soccer02.jpeg          volleyball33.png\n",
            " billiards47.png          soccer03.jpg           volleyball34.png\n",
            " billiards48.jpg          soccer04.jpg           volleyball35.png\n",
            " billiards49.png          soccer05.jpg           volleyball37.jpeg\n",
            " billiards50.png          soccer06.jpg           volleyball39.png\n",
            " billiards51.jpeg         soccer07.jpeg          volleyball40.png\n",
            " billiards52.jpeg         soccer08.jpg           volleyball41.png\n",
            " billiards53.png          soccer09.png           volleyball42.jpg\n",
            " bowling00.jpg            soccer10.jpg           volleyball43.png\n",
            " bowling01.jpg            soccer11.jpg           volleyball44.jpg\n",
            " bowling02.jpg            soccer12.jpg           volleyball45.png\n",
            " bowling03.jpg            soccer13.jpg           volleyball46.jpg\n",
            " bowling07.jpeg           soccer14.jpg           volleyball47.jpg\n",
            " bowling08.jpeg           soccer16.jpg           volleyball48.jpg\n",
            " bowling09.jpeg           soccer17.jpg           volleyball49.jpg\n",
            " bowling10.jpg            soccer18.png           volleyball50.jpg\n",
            " bowling11.jpg            soccer19.png           volleyball51.png\n",
            " bowling12.jpg            soccer20.png           volleyball52.png\n",
            " bowling13.png            soccer21.png           volleyball53.png\n",
            " bowling14.png            soccer22.png           volleyball54.png\n",
            " bowling15.png            soccer23.png           volleyball55.jpeg\n",
            " bowling17.jpg            soccer27.jpg           volleyball56.jpeg\n",
            " bowling19.jpg            soccer28.jpg\n"
          ]
        }
      ]
    },
    {
      "cell_type": "code",
      "source": [
        "organize = pd.DataFrame.from_dict(os.listdir())\n",
        "random   = organize.sample(frac=1, random_state=1).reset_index()\n",
        "data     = pd.DataFrame(random)[0].values.tolist()"
      ],
      "metadata": {
        "id": "u4jOD3KtdSBj"
      },
      "execution_count": 5,
      "outputs": []
    },
    {
      "cell_type": "code",
      "source": [
        "print(data)"
      ],
      "metadata": {
        "id": "cEhF6Cna7Svb",
        "outputId": "c578b8b2-513e-4141-a9c0-7dd97e5a1974",
        "colab": {
          "base_uri": "https://localhost:8080/"
        }
      },
      "execution_count": 6,
      "outputs": [
        {
          "output_type": "stream",
          "name": "stdout",
          "text": [
            "['volleyball01.jpg', 'golf45.jpg', 'volleyball09.jpg', 'baseball14.jpg', 'soccer36.jpg', 'baseball37.png', 'golf19.jpg', 'tennis14.jpg', 'tennis01.jpg', 'basketball41 (1).jpg', 'basketball30 (2).png', 'basketball40.jpg', 'soccer10.jpg', 'tennis08.jpg', 'tabletennis35.jpg', 'tabletennis17.jpg', 'tennis17.jpg', 'tabletennis21.png', 'golf04.jpg', 'billiards20.jpg', 'volleyball43.png', 'basketball47.png', 'tabletennis51.jpg', 'soccer53.jpeg', 'basketball45.png', 'baseball00.jpg', 'golf35 (1).jpg', 'bowling46.jpg', 'soccer50.jpg', 'volleyball21.png', 'football47.jpg', 'football13.png', 'basketball29.jpg', 'bowling20.jpg', 'billiards01.png', 'baseball51.jpeg', 'volleyball35.png', 'football09 (1).png', 'billiards25.jpg', 'bowling07.jpeg', 'soccer48.jpg', 'golf34.jpg', 'football20.jpg', 'football10.jpg', 'golf07 (2).jpeg', 'tabletennis11.jpg', 'football26.jpg', 'baseball38.png', 'tabletennis42.jpg', 'bowling52.jpeg', 'volleyball56.jpeg', 'golf13.png', 'tennis46.jpg', 'basketball24.jpg', 'basketball35.jpg', 'football36.png', 'baseball39.png', 'volleyball20.png', 'volleyball00.jpg', 'basketball12.jpg', 'bowling39.jpg', 'billiards10.jpg', 'tabletennis45.jpg', 'basketball53.jpeg', 'football37 (1).png', 'volleyball31.jpg', 'tabletennis08.jpeg', 'soccer33.png', 'basketball40 (2).jpg', 'tennis02.jpg', 'volleyball22.png', 'tabletennis43.jpg', 'golf52.jpg', 'basketball16.png', 'bowling38.png', 'golf03.jpg', 'basketball30 (1).png', 'golf21.png', 'golf43 (1).jpg', 'billiards39.png', 'football27.jpg', 'baseball33.jpg', 'tennis38.png', 'basketball27 (2).jpg', 'bowling29.jpg', 'baseball03.jpg', 'volleyball08.png', 'baseball13.jpg', 'billiards33.jpeg', 'football23.png', 'basketball00.jpg', 'tennis52.jpeg', 'billiards43.jpg', 'tabletennis38.png', 'soccer37.png', 'golf01.jpg', 'baseball25.jpg', 'basketball41 (2).jpg', 'tabletennis34.png', 'football36 (1).png', 'bowling44.jpg', 'baseball11.jpg', 'football52.jpeg', 'baseball50.jpg', 'basketball15.jpg', 'volleyball55.jpeg', 'bowling08.jpeg', 'volleyball32.jpg', 'soccer43.jpg', 'basketball01.jpg', 'billiards48.jpg', 'football22 (1).jpg', 'billiards28.jpg', 'volleyball40.png', 'tennis34.jpg', 'football01.jpg', 'billiards24.jpg', 'golf50.jpg', 'football24.jpg', 'billiards12.jpg', 'tennis09.jpg', 'tabletennis19 (1).png', 'billiards46.png', 'tennis51.jpeg', 'basketball09.jpeg', 'tabletennis51 (1).jpg', 'basketball41.jpg', 'tabletennis28.jpg', 'basketball42.jpg', 'football00.jpg', 'soccer51.jpeg', 'golf20 (1).jpg', 'tabletennis33.png', 'basketball31.png', 'basketball17.jpg', 'billiards44.jpg', 'tabletennis29.jpg', 'basketball39.jpg', 'tennis10.jpg', 'football29.png', 'soccer27.jpg', 'baseball16.jpg', 'football39.jpg', 'tabletennis02.jpg', 'tabletennis52.png', 'golf33.png', 'bowling14.png', 'tabletennis54.jpeg', 'basketball02.png', 'billiards03.jpeg', 'basketball24 (2).jpg', 'bowling27.jpg', 'tennis22.png', 'soccer08.jpg', 'golf53.jpeg', 'volleyball51.png', 'tabletennis22.png', 'golf22.png', 'tabletennis47.jpg', 'billiards18.webp', 'tennis40.jpg', 'golf46.jpg', 'volleyball16.jpg', 'basketball38.png', 'golf00.jpg', 'bowling23.png', 'soccer11.jpg', 'soccer39.png', 'volleyball42.jpg', 'golf34 (2).jpg', 'baseball52.jpeg', 'volleyball23.png', 'baseball12.jpg', 'football08.jpg', 'golf51.jpg', 'tennis04.jpg', 'golf16.jpg', 'tabletennis50.jpg', 'soccer14.jpg', 'bowling26.png', 'basketball46.png', 'football21 (1).png', 'golf11.jpg', 'bowling36.png', 'baseball36.png', 'soccer28.jpg', 'bowling50.png', 'tabletennis32 (1).png', 'billiards14.png', 'bowling12.jpg', 'basketball36.png', 'volleyball41.png', 'tabletennis13.jpg', 'bowling22.png', 'golf34 (1).jpg', 'football48.png', 'billiards50.png', 'football18.jpg', 'soccer12.jpg', 'golf38.png', 'billiards23.png', 'soccer02.jpeg', 'tabletennis16.jpg', 'bowling01.jpg', 'bowling41.jpg', 'tabletennis08 (1).jpeg', 'billiards41.jpg', 'soccer42.jpg', 'basketball08.jpeg', 'tennis41.jpg', 'billiards07.jpg', 'golf40.png', 'football32.png', 'billiards16.jpg', 'billiards53.png', 'tennis47.jpg', 'golf42.jpg', 'basketball48.png', 'bowling45.jpg', 'football30.png', 'football31.png', 'tennis12.jpg', 'soccer13.jpg', 'baseball01.jpg', 'golf28.png', 'baseball04.jpg', 'golf17.jpg', 'baseball43.jpg', 'volleyball15.jpg', 'tennis18.png', 'golf37 (1).png', 'bowling24.jpg', 'tennis16.jpg', 'golf20 (2).jpg', 'billiards52.jpeg', 'volleyball07.jpg', 'basketball27 (1).jpg', 'golf18.jpg', 'basketball07.jpeg', 'baseball26.jpg', 'bowling25.png', 'football50 (1).png', 'tabletennis12.jpg', 'volleyball02.jpg', 'bowling53.jpeg', 'football37.png', 'soccer22.png', 'tabletennis53.jpeg', 'soccer09.png', 'football16.jpg', 'bowling00.jpg', 'basketball50.png', 'tennis48.png', 'billiards37.png', 'basketball32 (2).png', 'billiards51.jpeg', 'basketball32 (1).png', 'soccer29.jpg', 'basketball51 (1).jpeg', 'basketball44.jpg', 'tabletennis44.jpg', 'bowling28.jpg', 'bowling02.jpg', 'football51.jpeg', 'billiards40.jpg', 'golf23 (2).png', 'volleyball12.jpg', 'volleyball17.jpg', 'baseball47.jpg', 'football23 (1).png', 'tabletennis10.jpg', 'billiards13.png', 'golf07.jpeg', 'tennis43.jpg', 'football11.jpg', 'football46.jpg', 'golf32.png', 'tabletennis03.jpg', 'basketball24 (1).jpg', 'football41.jpg', 'basketball18.jpg', 'basketball51.jpeg', 'football40.jpg', 'billiards49.png', 'tennis28.jpg', 'golf47.jpg', 'bowling48.png', 'volleyball50.jpg', 'baseball19.jpg', 'golf43.jpg', 'golf20.jpg', 'football20 (1).jpg', 'golf05.png', 'soccer21.png', 'football22.jpg', 'football14.png', 'tennis31.png', 'tabletennis48.jpg', 'tabletennis49.jpg', 'bowling40.jpg', 'volleyball44.jpg', 'baseball27.jpg', 'soccer45.jpg', 'golf36 (1).jpg', 'tabletennis32.png', 'tabletennis40 (1).png', 'soccer20.png', 'volleyball46.jpg', 'tennis39.jpg', 'tennis29.jpg', 'bowling34.jpg', 'soccer05.jpg', 'tabletennis37.jpg', 'volleyball29.jpg', 'billiards17.jpg', 'volleyball03.jpg', 'golf44.jpg', 'golf08 (1).png', 'volleyball28.jpg', 'basketball52.jpeg', 'football53.jpeg', 'basketball19.jpg', 'basketball26 (2).jpg', 'basketball27.jpg', 'bowling19.jpg', 'tabletennis04.jpg', 'football07.jpg', 'golf54.jpeg', 'football12.jpg', 'golf37 (2).png', 'golf22 (2).png', 'baseball17.jpg', 'baseball31.png', 'soccer16.jpg', 'tennis13.jpg', 'golf07 (1).jpeg', 'basketball11.jpg', 'billiards00.jpg', 'baseball06.png', 'bowling11.jpg', 'baseball18.jpg', 'baseball49.jpg', 'basketball30.png', 'tennis23.png', 'tennis00.jpg', 'billiards27.jpg', 'soccer49.png', 'golf09 (1).png', 'billiards19.jpg', 'basketball43.jpg', 'tennis44.jpg', 'baseball30.png', 'football09.png', 'volleyball45.png', 'soccer41.jpg', 'tennis03.jpg', 'baseball07.jpg', 'bowling30.png', 'tabletennis09.jpg', 'football43.jpg', 'soccer31.jpg', 'basketball37.png', 'tabletennis27 (1).jpg', 'baseball53.jpeg', 'bowling35.jpg', 'football08 (1).jpg', 'volleyball33.png', 'soccer18.png', 'volleyball19.png', 'football49.png', 'baseball29.jpg', 'soccer00.jpg', 'billiards26.jpg', 'football52 (1).jpeg', 'soccer32.jpg', 'tennis32.png', 'tabletennis18 (1).png', 'basketball13.png', 'soccer03.jpg', 'bowling21.png', 'soccer23.png', 'baseball15.jpg', 'tennis05.jpg', 'golf12.jpg', 'golf22 (1).png', 'volleyball54.png', 'soccer52.jpeg', 'tennis53.jpeg', 'tennis27.jpg', 'volleyball18.png', 'golf09.png', 'baseball32.png', 'bowling43.jpg', 'tennis50.jpg', 'golf51 (1).jpg', 'basketball34.jpg', 'basketball21.jpg', 'bowling10.jpg', 'golf10.jpg', 'baseball40.jpg', 'soccer04.jpg', 'football17.jpg', 'basketball49.png', 'soccer17.jpg', 'basketball40 (1).jpg', 'tabletennis40.png', 'volleyball49.jpg', 'golf08.png', 'soccer19.png', 'basketball32.png', 'baseball23.png', 'tennis20.png', 'tabletennis41.jpg', 'tabletennis36.jpg', 'basketball23.png', 'tennis42.jpg', 'tennis33.jpg', 'basketball18 (2).jpg', 'tennis21.png', 'volleyball11.jpg', 'volleyball37.jpeg', 'bowling37.png', 'billiards32.png', 'basketball51 (2).jpeg', 'tabletennis07.png', 'billiards11.jpg', 'baseball22.png', 'billiards15.png', 'football44.jpg', 'golf14.png', 'tabletennis19.png', 'basketball19 (2).jpg', 'football38.png', 'soccer46.png', 'billiards31.png', 'golf37.png', 'tabletennis46.jpg', 'billiards02.jpeg', 'volleyball30.jpg', 'bowling17.jpg', 'golf23.png', 'golf29.jpg', 'soccer07.jpeg', 'tennis06.png', 'baseball42.jpg', 'golf36.jpg', 'baseball08.jpeg', 'baseball05.jpg', 'golf02.jpg', 'baseball48.png', 'golf31.png', 'volleyball14.png', 'tabletennis18.png', 'tennis15.jpg', 'golf30.jpg', 'tabletennis20.png', 'golf15.png', 'baseball10.jpg', 'baseball02.png', 'volleyball53.png', 'golf08 (2).png', 'football28.jpg', 'baseball44.jpg', 'basketball26.jpg', 'soccer38.png', 'baseball24.jpg', 'bowling32.png', 'billiards38.png', 'volleyball34.png', 'basketball22.png', 'baseball20.jpg', 'billiards22.png', 'golf41.jpg', 'soccer30.jpg', 'football21.png', 'volleyball13.jpg', 'golf35.jpg', 'football25.jpg', 'football50.png', 'bowling51.jpeg', 'tabletennis14.jpg', 'golf27.jpg', 'bowling15.png', 'billiards45.png', 'tabletennis30.jpeg', 'soccer40.jpg', 'billiards29.jpg', 'basketball14.png', 'football19.jpg', 'basketball10.jpg', 'volleyball52.png', 'tabletennis41 (1).jpg', 'basketball20.jpg', 'soccer34.jpg', 'golf39.png', 'soccer06.jpg', 'tennis11.jpg', 'volleyball47.jpg', 'baseball21.png', 'tabletennis31.jpg', 'soccer01.jpg', 'basketball18 (1).jpg', 'basketball19 (1).jpg', 'football06.jpg', 'tennis37.png', 'football42.jpg', 'volleyball27.jpg', 'billiards36.png', 'tabletennis00.jpg', 'tennis19.png', 'tennis07.jpeg', 'bowling03.jpg', 'billiards42.jpg', 'baseball28.jpg', 'billiards30.png', 'tabletennis01.jpg', 'bowling09.jpeg', 'billiards47.png', 'bowling47.jpg', 'tabletennis53 (1).jpeg', 'bowling49.png', 'tabletennis39.png', 'billiards08.jpg', 'golf49.png', 'tennis49.png', 'tabletennis31 (1).jpg', 'golf23 (1).png', 'tabletennis33 (1).png', 'volleyball48.jpg', 'tennis30.png', 'bowling31.png', 'basketball03.png', 'volleyball39.png', 'bowling13.png', 'tabletennis15.jpg', 'soccer44.jpg', 'soccer48.png', 'billiards21.png', 'baseball41.jpg', 'baseball46.jpg', 'basketball26 (1).jpg', 'bowling42.jpg', 'golf36 (2).jpg', 'basketball25.jpg', 'basketball28.jpg', 'tabletennis23.png', 'football05.jpg', 'tennis36.png', 'tennis45.jpg', 'volleyball10.jpg', 'football15.jpg', 'billiards09.jpg', 'tabletennis27.jpg', 'baseball09.jpeg']\n"
          ]
        }
      ]
    },
    {
      "cell_type": "code",
      "source": [
        "m = 0\n",
        "balls_folder = []\n",
        "for file in data:\n",
        "  image = cv.imread(file)\n",
        "  if image.shape == (28,28,3):\n",
        "    balls_folder.append(image)\n",
        "  else:\n",
        "    m += 1\n",
        "print(str(m) + ' images were not rescaled to 28x28 and are now excluded.')"
      ],
      "metadata": {
        "id": "Arum7jCW8Byp",
        "outputId": "1b625c64-b049-46f4-ec07-2b45484b3291",
        "colab": {
          "base_uri": "https://localhost:8080/"
        }
      },
      "execution_count": 7,
      "outputs": [
        {
          "output_type": "stream",
          "name": "stdout",
          "text": [
            "1 images were not rescaled to 28x28 and are now excluded.\n"
          ]
        }
      ]
    },
    {
      "cell_type": "code",
      "source": [
        "print(balls_folder[0].shape)\n",
        "print(len(balls_folder))"
      ],
      "metadata": {
        "id": "Y-4AZAPH8ukA",
        "outputId": "f338dc5a-50a2-4108-d51d-52e8396bd394",
        "colab": {
          "base_uri": "https://localhost:8080/"
        }
      },
      "execution_count": 8,
      "outputs": [
        {
          "output_type": "stream",
          "name": "stdout",
          "text": [
            "(28, 28, 3)\n",
            "553\n"
          ]
        }
      ]
    },
    {
      "cell_type": "code",
      "source": [
        "print(balls_folder[0])\n",
        "plt.matshow(balls_folder[552])"
      ],
      "metadata": {
        "id": "9fZ3hwXF9kBH",
        "outputId": "03c18d80-8139-4ec0-e005-6008ea32ac04",
        "colab": {
          "base_uri": "https://localhost:8080/",
          "height": 1000
        }
      },
      "execution_count": 9,
      "outputs": [
        {
          "output_type": "stream",
          "name": "stdout",
          "text": [
            "[[[255 251 255]\n",
            "  [255 250 255]\n",
            "  [255 254 255]\n",
            "  ...\n",
            "  [246 253 255]\n",
            "  [249 251 255]\n",
            "  [253 253 255]]\n",
            "\n",
            " [[255 253 255]\n",
            "  [255 253 255]\n",
            "  [251 250 252]\n",
            "  ...\n",
            "  [248 254 255]\n",
            "  [252 253 255]\n",
            "  [253 252 254]]\n",
            "\n",
            " [[255 255 251]\n",
            "  [255 255 252]\n",
            "  [255 255 255]\n",
            "  ...\n",
            "  [253 255 255]\n",
            "  [255 255 254]\n",
            "  [255 254 250]]\n",
            "\n",
            " ...\n",
            "\n",
            " [[255 251 255]\n",
            "  [255 251 255]\n",
            "  [253 255 255]\n",
            "  ...\n",
            "  [255 255 252]\n",
            "  [255 255 252]\n",
            "  [255 255 252]]\n",
            "\n",
            " [[255 252 255]\n",
            "  [255 251 255]\n",
            "  [249 251 251]\n",
            "  ...\n",
            "  [255 255 252]\n",
            "  [250 255 255]\n",
            "  [246 255 255]]\n",
            "\n",
            " [[255 252 255]\n",
            "  [255 254 255]\n",
            "  [253 255 255]\n",
            "  ...\n",
            "  [255 255 252]\n",
            "  [246 255 255]\n",
            "  [243 253 255]]]\n"
          ]
        },
        {
          "output_type": "execute_result",
          "data": {
            "text/plain": [
              "<matplotlib.image.AxesImage at 0x7efffd49a260>"
            ]
          },
          "metadata": {},
          "execution_count": 9
        },
        {
          "output_type": "display_data",
          "data": {
            "text/plain": [
              "<Figure size 480x480 with 1 Axes>"
            ],
            "image/png": "[encoded data removed]"
          },
          "metadata": {}
        }
      ]
    },
    {
      "cell_type": "code",
      "source": [
        "balls_flat = np.stack((balls_folder[i] for i in range(len(balls_folder))))\n",
        "print(balls_flat.shape)"
      ],
      "metadata": {
        "id": "Omkhs4PL99v1",
        "outputId": "5022dc06-2e55-41e3-ddfc-8feb20a52e1d",
        "colab": {
          "base_uri": "https://localhost:8080/"
        }
      },
      "execution_count": 10,
      "outputs": [
        {
          "output_type": "stream",
          "name": "stdout",
          "text": [
            "(553, 28, 28, 3)\n"
          ]
        },
        {
          "output_type": "stream",
          "name": "stderr",
          "text": [
            "/usr/local/lib/python3.10/dist-packages/IPython/core/interactiveshell.py:3473: FutureWarning: arrays to stack must be passed as a \"sequence\" type such as list or tuple. Support for non-sequence iterables such as generators is deprecated as of NumPy 1.16 and will raise an error in the future.\n",
            "  if (await self.run_code(code, result,  async_=asy)):\n"
          ]
        }
      ]
    },
    {
      "cell_type": "code",
      "source": [
        "baseballXX    = 'baseball*'\n",
        "basketballXX  = 'basketball*'\n",
        "billiardsXX   = 'billiards*'\n",
        "bowlingXX     = 'bowling*'\n",
        "footballXX    = 'football*'\n",
        "golfXX        = 'golf*'\n",
        "soccerXX      = 'soccer*'\n",
        "tabletennisXX = 'tabletennis*'\n",
        "tennisXX      = 'tennis*'\n",
        "volleyballXX  = 'volleyball*'\n",
        "s_name         = []\n",
        "for filename in data:\n",
        "  image = cv.imread(filename)\n",
        "  if image.shape == (28,28,3):\n",
        "    if fnmatch.fnmatch(filename, baseballXX) == True:\n",
        "      s_name.append(0)\n",
        "    elif fnmatch.fnmatch(filename, basketballXX) == True:\n",
        "      s_name.append(1)\n",
        "    elif fnmatch.fnmatch(filename, billiardsXX) == True:\n",
        "      s_name.append(2)\n",
        "    elif fnmatch.fnmatch(filename, bowlingXX) == True:\n",
        "      s_name.append(3)\n",
        "    elif fnmatch.fnmatch(filename, footballXX) == True:\n",
        "      s_name.append(4)\n",
        "    elif fnmatch.fnmatch(filename, golfXX) == True:\n",
        "      s_name.append(5)\n",
        "    elif fnmatch.fnmatch(filename, soccerXX) == True:\n",
        "      s_name.append(6)\n",
        "    elif fnmatch.fnmatch(filename, tabletennisXX) == True:\n",
        "      s_name.append(7)\n",
        "    elif fnmatch.fnmatch(filename, tennisXX) == True:\n",
        "      s_name.append(8)\n",
        "    elif fnmatch.fnmatch(filename, volleyballXX) == True:\n",
        "      s_name.append(9)\n",
        "    else:\n",
        "      print(filename + str(' is not accounted.'))\n",
        "\n",
        "s_name = np.reshape(s_name, (len(s_name),))\n",
        "print(s_name.shape)\n",
        "print(s_name)"
      ],
      "metadata": {
        "id": "v98LNmumCoWW",
        "outputId": "69f62b74-629e-47f7-ad87-a78114afbc3c",
        "colab": {
          "base_uri": "https://localhost:8080/"
        }
      },
      "execution_count": 57,
      "outputs": [
        {
          "output_type": "stream",
          "name": "stdout",
          "text": [
            "(553,)\n",
            "[9 5 9 0 6 0 5 8 8 1 1 1 6 8 7 7 8 7 5 2 9 1 7 6 1 0 5 3 6 9 4 4 1 3 2 0 9\n",
            " 4 2 3 6 5 4 4 5 7 4 0 7 3 9 5 8 1 1 4 0 9 9 1 3 2 7 1 4 9 7 6 1 8 9 7 5 1\n",
            " 3 5 1 5 5 2 4 0 8 1 3 0 9 0 2 4 1 8 2 7 6 5 0 1 7 4 3 0 4 0 1 9 3 9 6 1 2\n",
            " 4 2 9 8 4 2 5 4 2 8 7 2 8 1 7 1 7 1 4 6 5 7 1 1 2 7 1 8 4 6 0 4 7 7 5 3 7\n",
            " 1 2 1 3 8 6 5 9 7 5 7 2 8 5 9 1 5 3 6 6 9 5 0 9 0 4 5 8 5 7 6 3 1 4 5 3 0\n",
            " 6 3 7 2 3 1 9 7 3 5 4 2 4 6 5 2 6 7 3 3 7 2 6 1 8 2 5 4 2 2 8 5 1 3 4 4 8\n",
            " 6 0 5 0 5 0 9 8 5 3 8 5 2 9 1 5 1 0 3 4 7 9 3 4 6 7 6 4 3 1 8 2 1 2 1 6 1\n",
            " 1 7 3 3 4 2 5 9 9 0 4 7 2 5 8 4 5 7 1 4 1 1 4 2 8 5 3 9 0 5 5 4 5 6 4 4 8\n",
            " 7 7 3 9 0 6 5 7 7 6 9 8 8 3 6 7 9 2 9 5 5 9 1 4 1 1 1 3 7 4 5 4 5 5 0 0 6\n",
            " 8 5 1 2 0 3 0 0 1 8 8 2 6 5 2 1 8 0 4 9 6 8 0 3 7 4 6 1 7 0 3 4 9 6 9 4 0\n",
            " 6 2 4 6 8 7 1 6 3 6 0 8 5 5 9 6 8 8 9 5 0 3 8 5 1 1 3 5 0 6 4 1 6 1 7 9 5\n",
            " 6 1 0 8 7 7 1 8 8 1 8 9 9 3 2 1 7 2 0 2 4 5 7 1 4 6 2 5 7 2 9 3 5 5 6 8 0\n",
            " 5 0 0 5 0 5 9 7 8 5 7 5 0 0 9 5 4 0 1 6 0 3 2 9 1 0 2 5 6 4 9 5 4 4 3 7 5\n",
            " 3 2 7 6 2 1 4 1 9 7 1 6 5 6 8 9 0 7 6 1 1 4 8 4 9 2 7 8 8 3 2 0 2 7 3 2 3\n",
            " 7 3 7 2 5 8 7 5 7 9 8 3 1 9 3 7 6 6 2 0 0 1 3 5 1 1 7 4 8 8 9 4 2 7 0]\n"
          ]
        }
      ]
    },
    {
      "cell_type": "markdown",
      "source": [
        "#####**Preparing the Data**"
      ],
      "metadata": {
        "id": "gRtywxq-e_9v"
      }
    },
    {
      "cell_type": "code",
      "source": [
        "trainRatio = 75/100\n",
        "testRatio = 15/100\n",
        "valRatio = 10/100\n",
        "X_train,X_test,y_train, y_test = train_test_split(balls_flat, s_name, test_size = 1 - trainRatio)\n",
        "X_val,X_test,y_val, y_test = train_test_split(balls_flat, s_name, test_size = testRatio/(testRatio+valRatio))\n",
        "\n",
        "#trainRatio = 80/100\n",
        "#testRatio = 20/100\n",
        "#X_train,X_test, y_train, y_test = train_test_split(balls_flat, s_name, test_size = 1 - trainRatio)"
      ],
      "metadata": {
        "id": "T6yCmuVfrR8t"
      },
      "execution_count": 248,
      "outputs": []
    },
    {
      "cell_type": "code",
      "source": [
        "X_train = X_train/255\n",
        "X_test = X_test/255\n",
        "\n",
        "print(X_train.shape)\n",
        "print(X_test.shape)"
      ],
      "metadata": {
        "colab": {
          "base_uri": "https://localhost:8080/"
        },
        "id": "zSJpg4iLStf7",
        "outputId": "ad0f3db3-0d1f-47d5-b339-7d2abe27df90"
      },
      "execution_count": 249,
      "outputs": [
        {
          "output_type": "stream",
          "name": "stdout",
          "text": [
            "(414, 28, 28, 3)\n",
            "(332, 28, 28, 3)\n"
          ]
        }
      ]
    },
    {
      "cell_type": "code",
      "source": [
        "X_train_flat = X_train.reshape(len(X_train),28,28,3)\n",
        "X_test_flat = X_test.reshape(len(X_test),28,28,3)\n",
        "print(X_train_flat.shape)\n",
        "print(X_test_flat.shape)"
      ],
      "metadata": {
        "id": "705bnkYTILbA",
        "colab": {
          "base_uri": "https://localhost:8080/"
        },
        "outputId": "1aa38bad-a3d3-4767-b9cc-ac01b88fe3e9"
      },
      "execution_count": 250,
      "outputs": [
        {
          "output_type": "stream",
          "name": "stdout",
          "text": [
            "(414, 28, 28, 3)\n",
            "(332, 28, 28, 3)\n"
          ]
        }
      ]
    },
    {
      "cell_type": "code",
      "source": [
        "print(X_train.shape)\n",
        "print(y_train.shape)"
      ],
      "metadata": {
        "colab": {
          "base_uri": "https://localhost:8080/"
        },
        "id": "NhSWbd92hy1Q",
        "outputId": "2973b928-6f75-4425-ff61-4adf13d72f49"
      },
      "execution_count": 251,
      "outputs": [
        {
          "output_type": "stream",
          "name": "stdout",
          "text": [
            "(414, 28, 28, 3)\n",
            "(414,)\n"
          ]
        }
      ]
    },
    {
      "cell_type": "markdown",
      "source": [
        "####**Defining the model**"
      ],
      "metadata": {
        "id": "te95nwDRkTlX"
      }
    },
    {
      "cell_type": "code",
      "source": [
        "model = tf.keras.models.Sequential([\n",
        "    tf.keras.layers.Conv2D(64, (3,3), activation='relu', input_shape=(28,28,3)),\n",
        "    tf.keras.layers.MaxPooling2D(2,2),\n",
        "\n",
        "    tf.keras.layers.Conv2D(128, (3,3), activation='relu'),\n",
        "    tf.keras.layers.MaxPooling2D(2,2),\n",
        "\n",
        "    tf.keras.layers.Conv2D(128, (3,3), activation='relu'),\n",
        "    tf.keras.layers.MaxPooling2D(2,2),\n",
        "  \n",
        "    tf.keras.layers.Dropout(0.5),\n",
        "    tf.keras.layers.Flatten(),   \n",
        "\n",
        "    tf.keras.layers.Dense(64, activation='relu'),\n",
        "    tf.keras.layers.Dropout(0.5),\n",
        "    tf.keras.layers.Dense(10, activation='softmax')\n",
        "])\n",
        "model.summary()"
      ],
      "metadata": {
        "id": "--pzDKGzSsq7",
        "outputId": "dcb70f58-dae5-4be6-ed74-777c89d92766",
        "colab": {
          "base_uri": "https://localhost:8080/"
        }
      },
      "execution_count": 252,
      "outputs": [
        {
          "output_type": "stream",
          "name": "stdout",
          "text": [
            "Model: \"sequential_47\"\n",
            "_________________________________________________________________\n",
            " Layer (type)                Output Shape              Param #   \n",
            "=================================================================\n",
            " conv2d_142 (Conv2D)         (None, 26, 26, 64)        1792      \n",
            "                                                                 \n",
            " max_pooling2d_139 (MaxPooli  (None, 13, 13, 64)       0         \n",
            " ng2D)                                                           \n",
            "                                                                 \n",
            " conv2d_143 (Conv2D)         (None, 11, 11, 128)       73856     \n",
            "                                                                 \n",
            " max_pooling2d_140 (MaxPooli  (None, 5, 5, 128)        0         \n",
            " ng2D)                                                           \n",
            "                                                                 \n",
            " conv2d_144 (Conv2D)         (None, 3, 3, 128)         147584    \n",
            "                                                                 \n",
            " max_pooling2d_141 (MaxPooli  (None, 1, 1, 128)        0         \n",
            " ng2D)                                                           \n",
            "                                                                 \n",
            " dropout_143 (Dropout)       (None, 1, 1, 128)         0         \n",
            "                                                                 \n",
            " flatten_41 (Flatten)        (None, 128)               0         \n",
            "                                                                 \n",
            " dense_96 (Dense)            (None, 64)                8256      \n",
            "                                                                 \n",
            " dropout_144 (Dropout)       (None, 64)                0         \n",
            "                                                                 \n",
            " dense_97 (Dense)            (None, 10)                650       \n",
            "                                                                 \n",
            "=================================================================\n",
            "Total params: 232,138\n",
            "Trainable params: 232,138\n",
            "Non-trainable params: 0\n",
            "_________________________________________________________________\n"
          ]
        }
      ]
    },
    {
      "cell_type": "code",
      "source": [
        "model.compile(keras.optimizers.Adam(learning_rate=0.001),\n",
        "              loss = tf.keras.losses.SparseCategoricalCrossentropy(),\n",
        "              # loss = 'sparse_categorical_crossentropy',\n",
        "              metrics=['accuracy'])\n"
      ],
      "metadata": {
        "id": "6d43j7VSKi3w"
      },
      "execution_count": 256,
      "outputs": []
    },
    {
      "cell_type": "code",
      "source": [
        "history = model.fit(X_train, y_train, epochs=300, validation_data=(X_val, y_val), verbose=1)"
      ],
      "metadata": {
        "id": "ozgUZqSq_WBp",
        "colab": {
          "base_uri": "https://localhost:8080/"
        },
        "outputId": "bcf9b1d1-8049-4491-b00e-e4cec201158a"
      },
      "execution_count": 257,
      "outputs": [
        {
          "output_type": "stream",
          "name": "stdout",
          "text": [
            "Epoch 1/300\n",
            "13/13 [==============================] - 3s 128ms/step - loss: 0.5855 - accuracy: 0.7971 - val_loss: 1521.7179 - val_accuracy: 0.3303\n",
            "Epoch 2/300\n",
            "13/13 [==============================] - 1s 103ms/step - loss: 0.6078 - accuracy: 0.7802 - val_loss: 1534.4176 - val_accuracy: 0.3258\n",
            "Epoch 3/300\n",
            "13/13 [==============================] - 1s 98ms/step - loss: 0.5644 - accuracy: 0.7995 - val_loss: 1570.4166 - val_accuracy: 0.3167\n",
            "Epoch 4/300\n",
            "13/13 [==============================] - 2s 143ms/step - loss: 0.5656 - accuracy: 0.7923 - val_loss: 1581.1635 - val_accuracy: 0.3213\n",
            "Epoch 5/300\n",
            "13/13 [==============================] - 2s 180ms/step - loss: 0.5387 - accuracy: 0.8188 - val_loss: 1543.1738 - val_accuracy: 0.3122\n",
            "Epoch 6/300\n",
            "13/13 [==============================] - 1s 99ms/step - loss: 0.5781 - accuracy: 0.8116 - val_loss: 1636.5114 - val_accuracy: 0.3122\n",
            "Epoch 7/300\n",
            "13/13 [==============================] - 1s 98ms/step - loss: 0.5118 - accuracy: 0.8261 - val_loss: 1731.6919 - val_accuracy: 0.2986\n",
            "Epoch 8/300\n",
            "13/13 [==============================] - 1s 113ms/step - loss: 0.5600 - accuracy: 0.7923 - val_loss: 1747.6090 - val_accuracy: 0.2986\n",
            "Epoch 9/300\n",
            "13/13 [==============================] - 1s 98ms/step - loss: 0.5216 - accuracy: 0.8092 - val_loss: 1761.9324 - val_accuracy: 0.3077\n",
            "Epoch 10/300\n",
            "13/13 [==============================] - 1s 99ms/step - loss: 0.4618 - accuracy: 0.8213 - val_loss: 1747.8264 - val_accuracy: 0.3032\n",
            "Epoch 11/300\n",
            "13/13 [==============================] - 1s 99ms/step - loss: 0.5179 - accuracy: 0.8140 - val_loss: 1752.8329 - val_accuracy: 0.3032\n",
            "Epoch 12/300\n",
            "13/13 [==============================] - 1s 97ms/step - loss: 0.4495 - accuracy: 0.8237 - val_loss: 1831.3608 - val_accuracy: 0.3077\n",
            "Epoch 13/300\n",
            "13/13 [==============================] - 1s 117ms/step - loss: 0.4934 - accuracy: 0.7971 - val_loss: 1847.1583 - val_accuracy: 0.3122\n",
            "Epoch 14/300\n",
            "13/13 [==============================] - 2s 176ms/step - loss: 0.5142 - accuracy: 0.8140 - val_loss: 1842.1011 - val_accuracy: 0.3122\n",
            "Epoch 15/300\n",
            "13/13 [==============================] - 2s 122ms/step - loss: 0.5116 - accuracy: 0.7947 - val_loss: 1865.6140 - val_accuracy: 0.2986\n",
            "Epoch 16/300\n",
            "13/13 [==============================] - 1s 98ms/step - loss: 0.5129 - accuracy: 0.8213 - val_loss: 1945.9766 - val_accuracy: 0.3213\n",
            "Epoch 17/300\n",
            "13/13 [==============================] - 1s 97ms/step - loss: 0.4703 - accuracy: 0.8309 - val_loss: 1867.5779 - val_accuracy: 0.3032\n",
            "Epoch 18/300\n",
            "13/13 [==============================] - 1s 99ms/step - loss: 0.5292 - accuracy: 0.8019 - val_loss: 1759.7268 - val_accuracy: 0.2986\n",
            "Epoch 19/300\n",
            "13/13 [==============================] - 1s 99ms/step - loss: 0.4965 - accuracy: 0.8285 - val_loss: 1766.9873 - val_accuracy: 0.3077\n",
            "Epoch 20/300\n",
            "13/13 [==============================] - 1s 102ms/step - loss: 0.4247 - accuracy: 0.8478 - val_loss: 1813.3580 - val_accuracy: 0.3077\n",
            "Epoch 21/300\n",
            "13/13 [==============================] - 1s 99ms/step - loss: 0.4138 - accuracy: 0.8382 - val_loss: 1900.2466 - val_accuracy: 0.2941\n",
            "Epoch 22/300\n",
            "13/13 [==============================] - 1s 111ms/step - loss: 0.4632 - accuracy: 0.8309 - val_loss: 1936.8813 - val_accuracy: 0.3077\n",
            "Epoch 23/300\n",
            "13/13 [==============================] - 2s 171ms/step - loss: 0.4704 - accuracy: 0.8213 - val_loss: 2004.9319 - val_accuracy: 0.2941\n",
            "Epoch 24/300\n",
            "13/13 [==============================] - 2s 165ms/step - loss: 0.4884 - accuracy: 0.8188 - val_loss: 2034.0758 - val_accuracy: 0.3122\n",
            "Epoch 25/300\n",
            "13/13 [==============================] - 1s 99ms/step - loss: 0.4482 - accuracy: 0.8309 - val_loss: 1973.6260 - val_accuracy: 0.3122\n",
            "Epoch 26/300\n",
            "13/13 [==============================] - 1s 98ms/step - loss: 0.4518 - accuracy: 0.8188 - val_loss: 2020.4113 - val_accuracy: 0.3122\n",
            "Epoch 27/300\n",
            "13/13 [==============================] - 1s 114ms/step - loss: 0.3918 - accuracy: 0.8551 - val_loss: 2066.4597 - val_accuracy: 0.3122\n",
            "Epoch 28/300\n",
            "13/13 [==============================] - 1s 100ms/step - loss: 0.4136 - accuracy: 0.8502 - val_loss: 2127.4980 - val_accuracy: 0.3077\n",
            "Epoch 29/300\n",
            "13/13 [==============================] - 1s 97ms/step - loss: 0.4666 - accuracy: 0.8116 - val_loss: 2086.8354 - val_accuracy: 0.3122\n",
            "Epoch 30/300\n",
            "13/13 [==============================] - 1s 98ms/step - loss: 0.4366 - accuracy: 0.8140 - val_loss: 2013.1940 - val_accuracy: 0.3122\n",
            "Epoch 31/300\n",
            "13/13 [==============================] - 1s 98ms/step - loss: 0.3913 - accuracy: 0.8527 - val_loss: 2020.0325 - val_accuracy: 0.2941\n",
            "Epoch 32/300\n",
            "13/13 [==============================] - 2s 149ms/step - loss: 0.5180 - accuracy: 0.8164 - val_loss: 2036.3284 - val_accuracy: 0.2986\n",
            "Epoch 33/300\n",
            "13/13 [==============================] - 2s 176ms/step - loss: 0.4179 - accuracy: 0.8382 - val_loss: 2039.4729 - val_accuracy: 0.2986\n",
            "Epoch 34/300\n",
            "13/13 [==============================] - 1s 99ms/step - loss: 0.4296 - accuracy: 0.8454 - val_loss: 2119.2314 - val_accuracy: 0.3077\n",
            "Epoch 35/300\n",
            "13/13 [==============================] - 1s 99ms/step - loss: 0.3944 - accuracy: 0.8696 - val_loss: 2175.0818 - val_accuracy: 0.3258\n",
            "Epoch 36/300\n",
            "13/13 [==============================] - 1s 97ms/step - loss: 0.4202 - accuracy: 0.8357 - val_loss: 2186.5266 - val_accuracy: 0.3167\n",
            "Epoch 37/300\n",
            "13/13 [==============================] - 1s 100ms/step - loss: 0.3944 - accuracy: 0.8261 - val_loss: 2188.8225 - val_accuracy: 0.3122\n",
            "Epoch 38/300\n",
            "13/13 [==============================] - 1s 96ms/step - loss: 0.4819 - accuracy: 0.8213 - val_loss: 2207.0725 - val_accuracy: 0.3122\n",
            "Epoch 39/300\n",
            "13/13 [==============================] - 1s 99ms/step - loss: 0.3573 - accuracy: 0.8816 - val_loss: 2197.8374 - val_accuracy: 0.3213\n",
            "Epoch 40/300\n",
            "13/13 [==============================] - 1s 98ms/step - loss: 0.4323 - accuracy: 0.8188 - val_loss: 2189.3672 - val_accuracy: 0.3167\n",
            "Epoch 41/300\n",
            "13/13 [==============================] - 1s 117ms/step - loss: 0.4508 - accuracy: 0.8261 - val_loss: 2337.7595 - val_accuracy: 0.3122\n",
            "Epoch 42/300\n",
            "13/13 [==============================] - 2s 170ms/step - loss: 0.4728 - accuracy: 0.8382 - val_loss: 2429.3499 - val_accuracy: 0.3077\n",
            "Epoch 43/300\n",
            "13/13 [==============================] - 2s 131ms/step - loss: 0.4312 - accuracy: 0.8261 - val_loss: 2482.2144 - val_accuracy: 0.3077\n",
            "Epoch 44/300\n",
            "13/13 [==============================] - 1s 113ms/step - loss: 0.4250 - accuracy: 0.8430 - val_loss: 2379.4058 - val_accuracy: 0.3167\n",
            "Epoch 45/300\n",
            "13/13 [==============================] - 1s 100ms/step - loss: 0.4018 - accuracy: 0.8647 - val_loss: 2344.2649 - val_accuracy: 0.3167\n",
            "Epoch 46/300\n",
            "13/13 [==============================] - 1s 97ms/step - loss: 0.4547 - accuracy: 0.8285 - val_loss: 2370.7617 - val_accuracy: 0.3122\n",
            "Epoch 47/300\n",
            "13/13 [==============================] - 1s 98ms/step - loss: 0.4180 - accuracy: 0.8454 - val_loss: 2328.3767 - val_accuracy: 0.3077\n",
            "Epoch 48/300\n",
            "13/13 [==============================] - 1s 99ms/step - loss: 0.4714 - accuracy: 0.8261 - val_loss: 2331.8645 - val_accuracy: 0.3122\n",
            "Epoch 49/300\n",
            "13/13 [==============================] - 1s 99ms/step - loss: 0.3959 - accuracy: 0.8382 - val_loss: 2317.1167 - val_accuracy: 0.3122\n",
            "Epoch 50/300\n",
            "13/13 [==============================] - 1s 100ms/step - loss: 0.4058 - accuracy: 0.8333 - val_loss: 2287.5542 - val_accuracy: 0.3122\n",
            "Epoch 51/300\n",
            "13/13 [==============================] - 2s 168ms/step - loss: 0.4010 - accuracy: 0.8430 - val_loss: 2297.0938 - val_accuracy: 0.3122\n",
            "Epoch 52/300\n",
            "13/13 [==============================] - 2s 154ms/step - loss: 0.4220 - accuracy: 0.8357 - val_loss: 2353.9373 - val_accuracy: 0.3077\n",
            "Epoch 53/300\n",
            "13/13 [==============================] - 1s 100ms/step - loss: 0.3598 - accuracy: 0.8527 - val_loss: 2361.0933 - val_accuracy: 0.3077\n",
            "Epoch 54/300\n",
            "13/13 [==============================] - 1s 98ms/step - loss: 0.4598 - accuracy: 0.8406 - val_loss: 2325.1536 - val_accuracy: 0.3122\n",
            "Epoch 55/300\n",
            "13/13 [==============================] - 1s 97ms/step - loss: 0.4430 - accuracy: 0.8140 - val_loss: 2355.7097 - val_accuracy: 0.3032\n",
            "Epoch 56/300\n",
            "13/13 [==============================] - 1s 99ms/step - loss: 0.3571 - accuracy: 0.8671 - val_loss: 2321.6445 - val_accuracy: 0.3122\n",
            "Epoch 57/300\n",
            "13/13 [==============================] - 1s 99ms/step - loss: 0.4540 - accuracy: 0.8382 - val_loss: 2323.9805 - val_accuracy: 0.3077\n",
            "Epoch 58/300\n",
            "13/13 [==============================] - 1s 111ms/step - loss: 0.4093 - accuracy: 0.8647 - val_loss: 2320.9971 - val_accuracy: 0.3213\n",
            "Epoch 59/300\n",
            "13/13 [==============================] - 1s 99ms/step - loss: 0.4225 - accuracy: 0.8454 - val_loss: 2345.9390 - val_accuracy: 0.3122\n",
            "Epoch 60/300\n",
            "13/13 [==============================] - 2s 134ms/step - loss: 0.4082 - accuracy: 0.8430 - val_loss: 2375.5256 - val_accuracy: 0.3032\n",
            "Epoch 61/300\n",
            "13/13 [==============================] - 2s 178ms/step - loss: 0.4413 - accuracy: 0.8285 - val_loss: 2326.9087 - val_accuracy: 0.3122\n",
            "Epoch 62/300\n",
            "13/13 [==============================] - 1s 109ms/step - loss: 0.3773 - accuracy: 0.8575 - val_loss: 2322.5273 - val_accuracy: 0.3077\n",
            "Epoch 63/300\n",
            "13/13 [==============================] - 1s 100ms/step - loss: 0.4180 - accuracy: 0.8502 - val_loss: 2300.7444 - val_accuracy: 0.3077\n",
            "Epoch 64/300\n",
            "13/13 [==============================] - 1s 99ms/step - loss: 0.4038 - accuracy: 0.8768 - val_loss: 2240.5210 - val_accuracy: 0.3032\n",
            "Epoch 65/300\n",
            "13/13 [==============================] - 1s 100ms/step - loss: 0.3713 - accuracy: 0.8551 - val_loss: 2213.1389 - val_accuracy: 0.3032\n",
            "Epoch 66/300\n",
            "13/13 [==============================] - 1s 99ms/step - loss: 0.4103 - accuracy: 0.8502 - val_loss: 2268.1274 - val_accuracy: 0.2941\n",
            "Epoch 67/300\n",
            "13/13 [==============================] - 1s 99ms/step - loss: 0.4297 - accuracy: 0.8382 - val_loss: 2287.3013 - val_accuracy: 0.2896\n",
            "Epoch 68/300\n",
            "13/13 [==============================] - 1s 98ms/step - loss: 0.4424 - accuracy: 0.8430 - val_loss: 2333.3567 - val_accuracy: 0.2896\n",
            "Epoch 69/300\n",
            "13/13 [==============================] - 1s 100ms/step - loss: 0.3968 - accuracy: 0.8502 - val_loss: 2330.4353 - val_accuracy: 0.2986\n",
            "Epoch 70/300\n",
            "13/13 [==============================] - 2s 176ms/step - loss: 0.4108 - accuracy: 0.8430 - val_loss: 2350.8538 - val_accuracy: 0.3032\n",
            "Epoch 71/300\n",
            "13/13 [==============================] - 2s 160ms/step - loss: 0.3825 - accuracy: 0.8502 - val_loss: 2412.3755 - val_accuracy: 0.2986\n",
            "Epoch 72/300\n",
            "13/13 [==============================] - 1s 99ms/step - loss: 0.3794 - accuracy: 0.8551 - val_loss: 2408.8621 - val_accuracy: 0.2986\n",
            "Epoch 73/300\n",
            "13/13 [==============================] - 1s 99ms/step - loss: 0.3846 - accuracy: 0.8478 - val_loss: 2415.1328 - val_accuracy: 0.3032\n",
            "Epoch 74/300\n",
            "13/13 [==============================] - 1s 98ms/step - loss: 0.4237 - accuracy: 0.8213 - val_loss: 2417.8162 - val_accuracy: 0.3077\n",
            "Epoch 75/300\n",
            "13/13 [==============================] - 1s 98ms/step - loss: 0.4181 - accuracy: 0.8382 - val_loss: 2378.1648 - val_accuracy: 0.3077\n",
            "Epoch 76/300\n",
            "13/13 [==============================] - 1s 99ms/step - loss: 0.3911 - accuracy: 0.8527 - val_loss: 2447.1506 - val_accuracy: 0.3032\n",
            "Epoch 77/300\n",
            "13/13 [==============================] - 1s 99ms/step - loss: 0.3856 - accuracy: 0.8478 - val_loss: 2587.0774 - val_accuracy: 0.3077\n",
            "Epoch 78/300\n",
            "13/13 [==============================] - 1s 98ms/step - loss: 0.3810 - accuracy: 0.8599 - val_loss: 2603.0872 - val_accuracy: 0.3077\n",
            "Epoch 79/300\n",
            "13/13 [==============================] - 2s 151ms/step - loss: 0.4084 - accuracy: 0.8478 - val_loss: 2597.2466 - val_accuracy: 0.3032\n",
            "Epoch 80/300\n",
            "13/13 [==============================] - 2s 180ms/step - loss: 0.3785 - accuracy: 0.8478 - val_loss: 2462.7837 - val_accuracy: 0.2986\n",
            "Epoch 81/300\n",
            "13/13 [==============================] - 1s 100ms/step - loss: 0.3813 - accuracy: 0.8647 - val_loss: 2398.0359 - val_accuracy: 0.2986\n",
            "Epoch 82/300\n",
            "13/13 [==============================] - 1s 100ms/step - loss: 0.3701 - accuracy: 0.8575 - val_loss: 2303.5632 - val_accuracy: 0.2986\n",
            "Epoch 83/300\n",
            "13/13 [==============================] - 1s 113ms/step - loss: 0.4051 - accuracy: 0.8454 - val_loss: 2314.1404 - val_accuracy: 0.3077\n",
            "Epoch 84/300\n",
            "13/13 [==============================] - 1s 99ms/step - loss: 0.3742 - accuracy: 0.8623 - val_loss: 2266.2605 - val_accuracy: 0.3032\n",
            "Epoch 85/300\n",
            "13/13 [==============================] - 1s 100ms/step - loss: 0.4015 - accuracy: 0.8406 - val_loss: 2275.6826 - val_accuracy: 0.3122\n",
            "Epoch 86/300\n",
            "13/13 [==============================] - 1s 100ms/step - loss: 0.3925 - accuracy: 0.8527 - val_loss: 2278.2886 - val_accuracy: 0.3077\n",
            "Epoch 87/300\n",
            "13/13 [==============================] - 1s 98ms/step - loss: 0.3603 - accuracy: 0.8696 - val_loss: 2309.4956 - val_accuracy: 0.3077\n",
            "Epoch 88/300\n",
            "13/13 [==============================] - 2s 131ms/step - loss: 0.4583 - accuracy: 0.8285 - val_loss: 2336.7971 - val_accuracy: 0.3032\n",
            "Epoch 89/300\n",
            "13/13 [==============================] - 2s 178ms/step - loss: 0.4048 - accuracy: 0.8575 - val_loss: 2361.6377 - val_accuracy: 0.3077\n",
            "Epoch 90/300\n",
            "13/13 [==============================] - 1s 108ms/step - loss: 0.4090 - accuracy: 0.8527 - val_loss: 2366.3237 - val_accuracy: 0.3077\n",
            "Epoch 91/300\n",
            "13/13 [==============================] - 1s 100ms/step - loss: 0.3996 - accuracy: 0.8478 - val_loss: 2293.2258 - val_accuracy: 0.3077\n",
            "Epoch 92/300\n",
            "13/13 [==============================] - 1s 98ms/step - loss: 0.3537 - accuracy: 0.8696 - val_loss: 2270.7385 - val_accuracy: 0.2986\n",
            "Epoch 93/300\n",
            "13/13 [==============================] - 1s 100ms/step - loss: 0.3711 - accuracy: 0.8696 - val_loss: 2287.3611 - val_accuracy: 0.2941\n",
            "Epoch 94/300\n",
            "13/13 [==============================] - 1s 99ms/step - loss: 0.3849 - accuracy: 0.8478 - val_loss: 2256.4534 - val_accuracy: 0.3032\n",
            "Epoch 95/300\n",
            "13/13 [==============================] - 1s 100ms/step - loss: 0.3669 - accuracy: 0.8527 - val_loss: 2319.4202 - val_accuracy: 0.2896\n",
            "Epoch 96/300\n",
            "13/13 [==============================] - 1s 98ms/step - loss: 0.4009 - accuracy: 0.8527 - val_loss: 2356.6121 - val_accuracy: 0.2986\n",
            "Epoch 97/300\n",
            "13/13 [==============================] - 1s 98ms/step - loss: 0.5294 - accuracy: 0.8623 - val_loss: 2420.4700 - val_accuracy: 0.2896\n",
            "Epoch 98/300\n",
            "13/13 [==============================] - 2s 176ms/step - loss: 0.3886 - accuracy: 0.8623 - val_loss: 2650.8291 - val_accuracy: 0.3032\n",
            "Epoch 99/300\n",
            "13/13 [==============================] - 2s 143ms/step - loss: 0.3819 - accuracy: 0.8575 - val_loss: 2680.7959 - val_accuracy: 0.2896\n",
            "Epoch 100/300\n",
            "13/13 [==============================] - 1s 99ms/step - loss: 0.4027 - accuracy: 0.8478 - val_loss: 2597.1250 - val_accuracy: 0.2986\n",
            "Epoch 101/300\n",
            "13/13 [==============================] - 1s 100ms/step - loss: 0.3580 - accuracy: 0.8478 - val_loss: 2566.1143 - val_accuracy: 0.2986\n",
            "Epoch 102/300\n",
            "13/13 [==============================] - 1s 98ms/step - loss: 0.3868 - accuracy: 0.8527 - val_loss: 2616.9893 - val_accuracy: 0.2941\n",
            "Epoch 103/300\n",
            "13/13 [==============================] - 1s 114ms/step - loss: 0.4422 - accuracy: 0.8527 - val_loss: 2440.4185 - val_accuracy: 0.3032\n",
            "Epoch 104/300\n",
            "13/13 [==============================] - 1s 97ms/step - loss: 0.3814 - accuracy: 0.8502 - val_loss: 2361.8298 - val_accuracy: 0.2986\n",
            "Epoch 105/300\n",
            "13/13 [==============================] - 1s 100ms/step - loss: 0.4010 - accuracy: 0.8551 - val_loss: 2409.0203 - val_accuracy: 0.2986\n",
            "Epoch 106/300\n",
            "13/13 [==============================] - 1s 99ms/step - loss: 0.3514 - accuracy: 0.8792 - val_loss: 2490.4917 - val_accuracy: 0.2941\n",
            "Epoch 107/300\n",
            "13/13 [==============================] - 2s 154ms/step - loss: 0.3612 - accuracy: 0.8551 - val_loss: 2519.6030 - val_accuracy: 0.3032\n",
            "Epoch 108/300\n",
            "13/13 [==============================] - 2s 170ms/step - loss: 0.3867 - accuracy: 0.8382 - val_loss: 2565.9663 - val_accuracy: 0.2986\n",
            "Epoch 109/300\n",
            "13/13 [==============================] - 1s 99ms/step - loss: 0.3799 - accuracy: 0.8454 - val_loss: 2659.9958 - val_accuracy: 0.2851\n",
            "Epoch 110/300\n",
            "13/13 [==============================] - 1s 99ms/step - loss: 0.3652 - accuracy: 0.8599 - val_loss: 2765.5105 - val_accuracy: 0.2851\n",
            "Epoch 111/300\n",
            "13/13 [==============================] - 1s 99ms/step - loss: 0.3630 - accuracy: 0.8599 - val_loss: 2604.1780 - val_accuracy: 0.2941\n",
            "Epoch 112/300\n",
            "13/13 [==============================] - 1s 99ms/step - loss: 0.3546 - accuracy: 0.8623 - val_loss: 2543.7480 - val_accuracy: 0.2896\n",
            "Epoch 113/300\n",
            "13/13 [==============================] - 1s 98ms/step - loss: 0.3517 - accuracy: 0.8575 - val_loss: 2516.4829 - val_accuracy: 0.2941\n",
            "Epoch 114/300\n",
            "13/13 [==============================] - 1s 101ms/step - loss: 0.3631 - accuracy: 0.8623 - val_loss: 2487.0361 - val_accuracy: 0.2986\n",
            "Epoch 115/300\n",
            "13/13 [==============================] - 1s 98ms/step - loss: 0.3372 - accuracy: 0.8768 - val_loss: 2431.6404 - val_accuracy: 0.2986\n",
            "Epoch 116/300\n",
            "13/13 [==============================] - 2s 122ms/step - loss: 0.3589 - accuracy: 0.8647 - val_loss: 2479.8823 - val_accuracy: 0.2986\n",
            "Epoch 117/300\n",
            "13/13 [==============================] - 2s 178ms/step - loss: 0.3454 - accuracy: 0.8720 - val_loss: 2491.2478 - val_accuracy: 0.2986\n",
            "Epoch 118/300\n",
            "13/13 [==============================] - 2s 125ms/step - loss: 0.4370 - accuracy: 0.8213 - val_loss: 2359.4731 - val_accuracy: 0.3032\n",
            "Epoch 119/300\n",
            "13/13 [==============================] - 1s 98ms/step - loss: 0.3352 - accuracy: 0.8768 - val_loss: 2288.9363 - val_accuracy: 0.3077\n",
            "Epoch 120/300\n",
            "13/13 [==============================] - 1s 100ms/step - loss: 0.3497 - accuracy: 0.8696 - val_loss: 2312.1899 - val_accuracy: 0.2986\n",
            "Epoch 121/300\n",
            "13/13 [==============================] - 1s 100ms/step - loss: 0.4437 - accuracy: 0.8333 - val_loss: 2441.6155 - val_accuracy: 0.2896\n",
            "Epoch 122/300\n",
            "13/13 [==============================] - 1s 100ms/step - loss: 0.3853 - accuracy: 0.8527 - val_loss: 2529.6582 - val_accuracy: 0.2941\n",
            "Epoch 123/300\n",
            "13/13 [==============================] - 1s 99ms/step - loss: 0.3882 - accuracy: 0.8551 - val_loss: 2478.4907 - val_accuracy: 0.2941\n",
            "Epoch 124/300\n",
            "13/13 [==============================] - 1s 102ms/step - loss: 0.3621 - accuracy: 0.8647 - val_loss: 2453.3120 - val_accuracy: 0.2986\n",
            "Epoch 125/300\n",
            "13/13 [==============================] - 1s 99ms/step - loss: 0.3358 - accuracy: 0.8575 - val_loss: 2501.0886 - val_accuracy: 0.2986\n",
            "Epoch 126/300\n",
            "13/13 [==============================] - 2s 171ms/step - loss: 0.3427 - accuracy: 0.8696 - val_loss: 2559.2085 - val_accuracy: 0.2986\n",
            "Epoch 127/300\n",
            "13/13 [==============================] - 2s 156ms/step - loss: 0.3696 - accuracy: 0.8478 - val_loss: 2523.0735 - val_accuracy: 0.3032\n",
            "Epoch 128/300\n",
            "13/13 [==============================] - 1s 101ms/step - loss: 0.3595 - accuracy: 0.8599 - val_loss: 2505.7595 - val_accuracy: 0.2986\n",
            "Epoch 129/300\n",
            "13/13 [==============================] - 1s 101ms/step - loss: 0.3438 - accuracy: 0.8768 - val_loss: 2515.3684 - val_accuracy: 0.3077\n",
            "Epoch 130/300\n",
            "13/13 [==============================] - 1s 98ms/step - loss: 0.3791 - accuracy: 0.8478 - val_loss: 2508.1548 - val_accuracy: 0.3032\n",
            "Epoch 131/300\n",
            "13/13 [==============================] - 1s 101ms/step - loss: 0.3960 - accuracy: 0.8478 - val_loss: 2543.1306 - val_accuracy: 0.2941\n",
            "Epoch 132/300\n",
            "13/13 [==============================] - 1s 98ms/step - loss: 0.4032 - accuracy: 0.8575 - val_loss: 2568.8672 - val_accuracy: 0.2986\n",
            "Epoch 133/300\n",
            "13/13 [==============================] - 1s 102ms/step - loss: 0.3647 - accuracy: 0.8599 - val_loss: 2573.1287 - val_accuracy: 0.2986\n",
            "Epoch 134/300\n",
            "13/13 [==============================] - 1s 100ms/step - loss: 0.3756 - accuracy: 0.8478 - val_loss: 2483.1667 - val_accuracy: 0.2986\n",
            "Epoch 135/300\n",
            "13/13 [==============================] - 2s 140ms/step - loss: 0.3584 - accuracy: 0.8647 - val_loss: 2543.5835 - val_accuracy: 0.3032\n",
            "Epoch 136/300\n",
            "13/13 [==============================] - 2s 174ms/step - loss: 0.3425 - accuracy: 0.8599 - val_loss: 2717.9626 - val_accuracy: 0.3032\n",
            "Epoch 137/300\n",
            "13/13 [==============================] - 1s 107ms/step - loss: 0.3371 - accuracy: 0.8792 - val_loss: 2794.7534 - val_accuracy: 0.2986\n",
            "Epoch 138/300\n",
            "13/13 [==============================] - 1s 101ms/step - loss: 0.3407 - accuracy: 0.8744 - val_loss: 2781.7126 - val_accuracy: 0.2986\n",
            "Epoch 139/300\n",
            "13/13 [==============================] - 1s 98ms/step - loss: 0.3735 - accuracy: 0.8720 - val_loss: 2719.1611 - val_accuracy: 0.3032\n",
            "Epoch 140/300\n",
            "13/13 [==============================] - 1s 100ms/step - loss: 0.3792 - accuracy: 0.8623 - val_loss: 2672.1592 - val_accuracy: 0.2941\n",
            "Epoch 141/300\n",
            "13/13 [==============================] - 1s 98ms/step - loss: 0.3475 - accuracy: 0.8647 - val_loss: 2714.4695 - val_accuracy: 0.2941\n",
            "Epoch 142/300\n",
            "13/13 [==============================] - 1s 98ms/step - loss: 0.3730 - accuracy: 0.8527 - val_loss: 2677.7209 - val_accuracy: 0.3032\n",
            "Epoch 143/300\n",
            "13/13 [==============================] - 1s 100ms/step - loss: 0.3919 - accuracy: 0.8382 - val_loss: 2648.8342 - val_accuracy: 0.2986\n",
            "Epoch 144/300\n",
            "13/13 [==============================] - 1s 113ms/step - loss: 0.3819 - accuracy: 0.8575 - val_loss: 2614.9043 - val_accuracy: 0.2986\n",
            "Epoch 145/300\n",
            "13/13 [==============================] - 2s 179ms/step - loss: 0.3717 - accuracy: 0.8478 - val_loss: 2628.5869 - val_accuracy: 0.3032\n",
            "Epoch 146/300\n",
            "13/13 [==============================] - 2s 130ms/step - loss: 0.3565 - accuracy: 0.8623 - val_loss: 2626.8650 - val_accuracy: 0.2986\n",
            "Epoch 147/300\n",
            "13/13 [==============================] - 1s 100ms/step - loss: 0.3503 - accuracy: 0.8647 - val_loss: 2536.0623 - val_accuracy: 0.3077\n",
            "Epoch 148/300\n",
            "13/13 [==============================] - 1s 99ms/step - loss: 0.3491 - accuracy: 0.8527 - val_loss: 2349.1892 - val_accuracy: 0.3077\n",
            "Epoch 149/300\n",
            "13/13 [==============================] - 1s 99ms/step - loss: 0.3707 - accuracy: 0.8720 - val_loss: 2394.7468 - val_accuracy: 0.2986\n",
            "Epoch 150/300\n",
            "13/13 [==============================] - 1s 101ms/step - loss: 0.3795 - accuracy: 0.8816 - val_loss: 2449.7234 - val_accuracy: 0.2986\n",
            "Epoch 151/300\n",
            "13/13 [==============================] - 1s 99ms/step - loss: 0.4086 - accuracy: 0.8309 - val_loss: 2494.9556 - val_accuracy: 0.3032\n",
            "Epoch 152/300\n",
            "13/13 [==============================] - 1s 100ms/step - loss: 0.4465 - accuracy: 0.8527 - val_loss: 2558.5203 - val_accuracy: 0.3077\n",
            "Epoch 153/300\n",
            "13/13 [==============================] - 1s 101ms/step - loss: 0.4315 - accuracy: 0.8599 - val_loss: 2563.9448 - val_accuracy: 0.2986\n",
            "Epoch 154/300\n",
            "13/13 [==============================] - 2s 155ms/step - loss: 0.3626 - accuracy: 0.8575 - val_loss: 2503.8647 - val_accuracy: 0.3077\n",
            "Epoch 155/300\n",
            "13/13 [==============================] - 2s 180ms/step - loss: 0.3797 - accuracy: 0.8720 - val_loss: 2509.1528 - val_accuracy: 0.2986\n",
            "Epoch 156/300\n",
            "13/13 [==============================] - 1s 99ms/step - loss: 0.3765 - accuracy: 0.8720 - val_loss: 2492.5186 - val_accuracy: 0.3077\n",
            "Epoch 157/300\n",
            "13/13 [==============================] - 1s 100ms/step - loss: 0.3322 - accuracy: 0.8744 - val_loss: 2457.0566 - val_accuracy: 0.3077\n",
            "Epoch 158/300\n",
            "13/13 [==============================] - 1s 114ms/step - loss: 0.3438 - accuracy: 0.8816 - val_loss: 2445.8254 - val_accuracy: 0.3077\n",
            "Epoch 159/300\n",
            "13/13 [==============================] - 1s 102ms/step - loss: 0.4204 - accuracy: 0.8599 - val_loss: 2459.4702 - val_accuracy: 0.3122\n",
            "Epoch 160/300\n",
            "13/13 [==============================] - 1s 101ms/step - loss: 0.3952 - accuracy: 0.8502 - val_loss: 2460.5237 - val_accuracy: 0.3077\n",
            "Epoch 161/300\n",
            "13/13 [==============================] - 1s 100ms/step - loss: 0.3800 - accuracy: 0.8599 - val_loss: 2411.9988 - val_accuracy: 0.3032\n",
            "Epoch 162/300\n",
            "13/13 [==============================] - 1s 99ms/step - loss: 0.3274 - accuracy: 0.8889 - val_loss: 2430.5488 - val_accuracy: 0.3032\n",
            "Epoch 163/300\n",
            "13/13 [==============================] - 2s 134ms/step - loss: 0.3442 - accuracy: 0.8865 - val_loss: 2471.0186 - val_accuracy: 0.2941\n",
            "Epoch 164/300\n",
            "13/13 [==============================] - 2s 173ms/step - loss: 0.3377 - accuracy: 0.8768 - val_loss: 2498.9309 - val_accuracy: 0.3032\n",
            "Epoch 165/300\n",
            "13/13 [==============================] - 2s 114ms/step - loss: 0.3324 - accuracy: 0.8720 - val_loss: 2515.6912 - val_accuracy: 0.3032\n",
            "Epoch 166/300\n",
            "13/13 [==============================] - 1s 99ms/step - loss: 0.3332 - accuracy: 0.8647 - val_loss: 2567.3899 - val_accuracy: 0.2941\n",
            "Epoch 167/300\n",
            "13/13 [==============================] - 1s 101ms/step - loss: 0.3240 - accuracy: 0.8841 - val_loss: 2641.1987 - val_accuracy: 0.2941\n",
            "Epoch 168/300\n",
            "13/13 [==============================] - 1s 115ms/step - loss: 0.3598 - accuracy: 0.8768 - val_loss: 2661.0127 - val_accuracy: 0.2896\n",
            "Epoch 169/300\n",
            "13/13 [==============================] - 1s 100ms/step - loss: 0.3869 - accuracy: 0.8575 - val_loss: 2645.7578 - val_accuracy: 0.2896\n",
            "Epoch 170/300\n",
            "13/13 [==============================] - 1s 101ms/step - loss: 0.3687 - accuracy: 0.8623 - val_loss: 2670.7979 - val_accuracy: 0.2986\n",
            "Epoch 171/300\n",
            "13/13 [==============================] - 1s 99ms/step - loss: 0.3424 - accuracy: 0.8744 - val_loss: 2663.2336 - val_accuracy: 0.2986\n",
            "Epoch 172/300\n",
            "13/13 [==============================] - 1s 110ms/step - loss: 0.3409 - accuracy: 0.8599 - val_loss: 2506.0356 - val_accuracy: 0.3032\n",
            "Epoch 173/300\n",
            "13/13 [==============================] - 2s 171ms/step - loss: 0.3558 - accuracy: 0.8647 - val_loss: 2529.6548 - val_accuracy: 0.3032\n",
            "Epoch 174/300\n",
            "13/13 [==============================] - 2s 139ms/step - loss: 0.3540 - accuracy: 0.8623 - val_loss: 2558.8499 - val_accuracy: 0.2986\n",
            "Epoch 175/300\n",
            "13/13 [==============================] - 1s 99ms/step - loss: 0.3459 - accuracy: 0.8720 - val_loss: 2607.3108 - val_accuracy: 0.2986\n",
            "Epoch 176/300\n",
            "13/13 [==============================] - 1s 99ms/step - loss: 0.3337 - accuracy: 0.8744 - val_loss: 2667.1978 - val_accuracy: 0.2941\n",
            "Epoch 177/300\n",
            "13/13 [==============================] - 1s 102ms/step - loss: 0.3419 - accuracy: 0.8671 - val_loss: 2671.3452 - val_accuracy: 0.2986\n",
            "Epoch 178/300\n",
            "13/13 [==============================] - 1s 100ms/step - loss: 0.3845 - accuracy: 0.8382 - val_loss: 2677.3323 - val_accuracy: 0.3077\n",
            "Epoch 179/300\n",
            "13/13 [==============================] - 1s 99ms/step - loss: 0.3698 - accuracy: 0.8527 - val_loss: 2674.1538 - val_accuracy: 0.3077\n",
            "Epoch 180/300\n",
            "13/13 [==============================] - 1s 101ms/step - loss: 0.3333 - accuracy: 0.8792 - val_loss: 2648.6592 - val_accuracy: 0.3122\n",
            "Epoch 181/300\n",
            "13/13 [==============================] - 1s 100ms/step - loss: 0.3441 - accuracy: 0.8671 - val_loss: 2654.3049 - val_accuracy: 0.3077\n",
            "Epoch 182/300\n",
            "13/13 [==============================] - 2s 161ms/step - loss: 0.3464 - accuracy: 0.8696 - val_loss: 2657.1555 - val_accuracy: 0.3077\n",
            "Epoch 183/300\n",
            "13/13 [==============================] - 2s 176ms/step - loss: 0.3245 - accuracy: 0.8696 - val_loss: 2624.2961 - val_accuracy: 0.3077\n",
            "Epoch 184/300\n",
            "13/13 [==============================] - 1s 100ms/step - loss: 0.3593 - accuracy: 0.8720 - val_loss: 2614.5889 - val_accuracy: 0.3122\n",
            "Epoch 185/300\n",
            "13/13 [==============================] - 1s 100ms/step - loss: 0.3280 - accuracy: 0.8696 - val_loss: 2642.0947 - val_accuracy: 0.3122\n",
            "Epoch 186/300\n",
            "13/13 [==============================] - 1s 102ms/step - loss: 0.3370 - accuracy: 0.8889 - val_loss: 2654.0879 - val_accuracy: 0.3122\n",
            "Epoch 187/300\n",
            "13/13 [==============================] - 1s 100ms/step - loss: 0.3268 - accuracy: 0.8744 - val_loss: 2612.1892 - val_accuracy: 0.3122\n",
            "Epoch 188/300\n",
            "13/13 [==============================] - 1s 102ms/step - loss: 0.3472 - accuracy: 0.8792 - val_loss: 2638.8718 - val_accuracy: 0.3122\n",
            "Epoch 189/300\n",
            "13/13 [==============================] - 1s 101ms/step - loss: 0.3692 - accuracy: 0.8720 - val_loss: 2622.2024 - val_accuracy: 0.2986\n",
            "Epoch 190/300\n",
            "13/13 [==============================] - 1s 101ms/step - loss: 0.3383 - accuracy: 0.8623 - val_loss: 2648.4067 - val_accuracy: 0.3077\n",
            "Epoch 191/300\n",
            "13/13 [==============================] - 2s 131ms/step - loss: 0.3197 - accuracy: 0.8744 - val_loss: 2680.4888 - val_accuracy: 0.2986\n",
            "Epoch 192/300\n",
            "13/13 [==============================] - 2s 180ms/step - loss: 0.3439 - accuracy: 0.8575 - val_loss: 2769.5515 - val_accuracy: 0.3032\n",
            "Epoch 193/300\n",
            "13/13 [==============================] - 1s 113ms/step - loss: 0.4140 - accuracy: 0.8720 - val_loss: 2835.6101 - val_accuracy: 0.2986\n",
            "Epoch 194/300\n",
            "13/13 [==============================] - 1s 101ms/step - loss: 0.3717 - accuracy: 0.8454 - val_loss: 2804.9697 - val_accuracy: 0.3032\n",
            "Epoch 195/300\n",
            "13/13 [==============================] - 1s 100ms/step - loss: 0.4088 - accuracy: 0.8406 - val_loss: 2697.3445 - val_accuracy: 0.2986\n",
            "Epoch 196/300\n",
            "13/13 [==============================] - 1s 112ms/step - loss: 0.3131 - accuracy: 0.8720 - val_loss: 2662.8501 - val_accuracy: 0.2986\n",
            "Epoch 197/300\n",
            "13/13 [==============================] - 1s 100ms/step - loss: 0.3738 - accuracy: 0.8671 - val_loss: 2676.6125 - val_accuracy: 0.2986\n",
            "Epoch 198/300\n",
            "13/13 [==============================] - 1s 101ms/step - loss: 0.3404 - accuracy: 0.8696 - val_loss: 2693.4084 - val_accuracy: 0.2941\n",
            "Epoch 199/300\n",
            "13/13 [==============================] - 1s 101ms/step - loss: 0.3583 - accuracy: 0.8744 - val_loss: 2770.5090 - val_accuracy: 0.3032\n",
            "Epoch 200/300\n",
            "13/13 [==============================] - 2s 119ms/step - loss: 0.4002 - accuracy: 0.8671 - val_loss: 2733.4067 - val_accuracy: 0.3077\n",
            "Epoch 201/300\n",
            "13/13 [==============================] - 2s 179ms/step - loss: 0.3387 - accuracy: 0.8671 - val_loss: 2627.4558 - val_accuracy: 0.2986\n",
            "Epoch 202/300\n",
            "13/13 [==============================] - 2s 125ms/step - loss: 0.3363 - accuracy: 0.8623 - val_loss: 2665.4304 - val_accuracy: 0.3032\n",
            "Epoch 203/300\n",
            "13/13 [==============================] - 1s 103ms/step - loss: 0.3174 - accuracy: 0.8720 - val_loss: 2686.0347 - val_accuracy: 0.3077\n",
            "Epoch 204/300\n",
            "13/13 [==============================] - 1s 101ms/step - loss: 0.3561 - accuracy: 0.8599 - val_loss: 2648.4092 - val_accuracy: 0.3077\n",
            "Epoch 205/300\n",
            "13/13 [==============================] - 1s 101ms/step - loss: 0.3388 - accuracy: 0.8865 - val_loss: 2671.4014 - val_accuracy: 0.3122\n",
            "Epoch 206/300\n",
            "13/13 [==============================] - 1s 99ms/step - loss: 0.3275 - accuracy: 0.8623 - val_loss: 2741.7485 - val_accuracy: 0.3032\n",
            "Epoch 207/300\n",
            "13/13 [==============================] - 1s 101ms/step - loss: 0.3371 - accuracy: 0.8623 - val_loss: 2692.2341 - val_accuracy: 0.3077\n",
            "Epoch 208/300\n",
            "13/13 [==============================] - 1s 112ms/step - loss: 0.3060 - accuracy: 0.8841 - val_loss: 2683.9270 - val_accuracy: 0.3077\n",
            "Epoch 209/300\n",
            "13/13 [==============================] - 1s 100ms/step - loss: 0.3715 - accuracy: 0.8744 - val_loss: 2737.6912 - val_accuracy: 0.2986\n",
            "Epoch 210/300\n",
            "13/13 [==============================] - 2s 178ms/step - loss: 0.3244 - accuracy: 0.8841 - val_loss: 2784.5881 - val_accuracy: 0.3077\n",
            "Epoch 211/300\n",
            "13/13 [==============================] - 2s 144ms/step - loss: 0.3304 - accuracy: 0.8647 - val_loss: 2757.8850 - val_accuracy: 0.3077\n",
            "Epoch 212/300\n",
            "13/13 [==============================] - 1s 101ms/step - loss: 0.3387 - accuracy: 0.8768 - val_loss: 2736.7036 - val_accuracy: 0.3077\n",
            "Epoch 213/300\n",
            "13/13 [==============================] - 1s 100ms/step - loss: 0.3114 - accuracy: 0.8889 - val_loss: 2720.5215 - val_accuracy: 0.3167\n",
            "Epoch 214/300\n",
            "13/13 [==============================] - 1s 101ms/step - loss: 0.3106 - accuracy: 0.8913 - val_loss: 2736.7305 - val_accuracy: 0.3077\n",
            "Epoch 215/300\n",
            "13/13 [==============================] - 1s 100ms/step - loss: 0.3443 - accuracy: 0.8454 - val_loss: 2758.1592 - val_accuracy: 0.3032\n",
            "Epoch 216/300\n",
            "13/13 [==============================] - 1s 102ms/step - loss: 0.3317 - accuracy: 0.8792 - val_loss: 2814.8342 - val_accuracy: 0.2941\n",
            "Epoch 217/300\n",
            "13/13 [==============================] - 1s 102ms/step - loss: 0.3631 - accuracy: 0.8671 - val_loss: 2827.3965 - val_accuracy: 0.2941\n",
            "Epoch 218/300\n",
            "13/13 [==============================] - 1s 101ms/step - loss: 0.3551 - accuracy: 0.8720 - val_loss: 2732.7139 - val_accuracy: 0.2986\n",
            "Epoch 219/300\n",
            "13/13 [==============================] - 2s 156ms/step - loss: 0.3577 - accuracy: 0.8792 - val_loss: 2704.2971 - val_accuracy: 0.3077\n",
            "Epoch 220/300\n",
            "13/13 [==============================] - 2s 179ms/step - loss: 0.3224 - accuracy: 0.8720 - val_loss: 2743.6638 - val_accuracy: 0.3077\n",
            "Epoch 221/300\n",
            "13/13 [==============================] - 1s 100ms/step - loss: 0.3556 - accuracy: 0.8768 - val_loss: 2802.8271 - val_accuracy: 0.3032\n",
            "Epoch 222/300\n",
            "13/13 [==============================] - 1s 101ms/step - loss: 0.3533 - accuracy: 0.8768 - val_loss: 2861.1279 - val_accuracy: 0.3077\n",
            "Epoch 223/300\n",
            "13/13 [==============================] - 3s 204ms/step - loss: 0.3228 - accuracy: 0.8816 - val_loss: 2891.4734 - val_accuracy: 0.3077\n",
            "Epoch 224/300\n",
            "13/13 [==============================] - 2s 130ms/step - loss: 0.3570 - accuracy: 0.8744 - val_loss: 2904.0977 - val_accuracy: 0.2986\n",
            "Epoch 225/300\n",
            "13/13 [==============================] - 2s 118ms/step - loss: 0.3137 - accuracy: 0.8816 - val_loss: 2882.6733 - val_accuracy: 0.2986\n",
            "Epoch 226/300\n",
            "13/13 [==============================] - 2s 131ms/step - loss: 0.3413 - accuracy: 0.8720 - val_loss: 2805.5249 - val_accuracy: 0.2986\n",
            "Epoch 227/300\n",
            "13/13 [==============================] - 3s 210ms/step - loss: 0.3376 - accuracy: 0.8913 - val_loss: 2787.9607 - val_accuracy: 0.3032\n",
            "Epoch 228/300\n",
            "13/13 [==============================] - 2s 193ms/step - loss: 0.3794 - accuracy: 0.8792 - val_loss: 2760.1079 - val_accuracy: 0.3077\n",
            "Epoch 229/300\n",
            "13/13 [==============================] - 1s 112ms/step - loss: 0.3484 - accuracy: 0.8768 - val_loss: 2840.5735 - val_accuracy: 0.3032\n",
            "Epoch 230/300\n",
            "13/13 [==============================] - 1s 100ms/step - loss: 0.2866 - accuracy: 0.8961 - val_loss: 2928.8840 - val_accuracy: 0.3077\n",
            "Epoch 231/300\n",
            "13/13 [==============================] - 1s 102ms/step - loss: 0.3503 - accuracy: 0.8720 - val_loss: 2898.9932 - val_accuracy: 0.3122\n",
            "Epoch 232/300\n",
            "13/13 [==============================] - 1s 101ms/step - loss: 0.3556 - accuracy: 0.8647 - val_loss: 2836.3970 - val_accuracy: 0.3032\n",
            "Epoch 233/300\n",
            "13/13 [==============================] - 1s 102ms/step - loss: 0.3066 - accuracy: 0.8792 - val_loss: 2756.6646 - val_accuracy: 0.3077\n",
            "Epoch 234/300\n",
            "13/13 [==============================] - 1s 101ms/step - loss: 0.2855 - accuracy: 0.8792 - val_loss: 2726.5671 - val_accuracy: 0.3077\n",
            "Epoch 235/300\n",
            "13/13 [==============================] - 1s 100ms/step - loss: 0.3439 - accuracy: 0.8720 - val_loss: 2761.6692 - val_accuracy: 0.3077\n",
            "Epoch 236/300\n",
            "13/13 [==============================] - 2s 120ms/step - loss: 0.3013 - accuracy: 0.8720 - val_loss: 2847.2708 - val_accuracy: 0.3077\n",
            "Epoch 237/300\n",
            "13/13 [==============================] - 2s 179ms/step - loss: 0.3117 - accuracy: 0.8720 - val_loss: 2883.7178 - val_accuracy: 0.3032\n",
            "Epoch 238/300\n",
            "13/13 [==============================] - 2s 127ms/step - loss: 0.3362 - accuracy: 0.8623 - val_loss: 2888.3472 - val_accuracy: 0.3032\n",
            "Epoch 239/300\n",
            "13/13 [==============================] - 1s 101ms/step - loss: 0.3199 - accuracy: 0.8865 - val_loss: 2901.0671 - val_accuracy: 0.3077\n",
            "Epoch 240/300\n",
            "13/13 [==============================] - 1s 102ms/step - loss: 0.3531 - accuracy: 0.8599 - val_loss: 2899.2371 - val_accuracy: 0.2941\n",
            "Epoch 241/300\n",
            "13/13 [==============================] - 1s 101ms/step - loss: 0.3147 - accuracy: 0.8889 - val_loss: 2914.4304 - val_accuracy: 0.2986\n",
            "Epoch 242/300\n",
            "13/13 [==============================] - 1s 101ms/step - loss: 0.3043 - accuracy: 0.8720 - val_loss: 2912.8552 - val_accuracy: 0.3032\n",
            "Epoch 243/300\n",
            "13/13 [==============================] - 1s 102ms/step - loss: 0.3039 - accuracy: 0.8768 - val_loss: 2848.6611 - val_accuracy: 0.3077\n",
            "Epoch 244/300\n",
            "13/13 [==============================] - 1s 101ms/step - loss: 0.3357 - accuracy: 0.8551 - val_loss: 2833.4221 - val_accuracy: 0.2986\n",
            "Epoch 245/300\n",
            "13/13 [==============================] - 1s 101ms/step - loss: 0.4035 - accuracy: 0.8671 - val_loss: 2902.0110 - val_accuracy: 0.3032\n",
            "Epoch 246/300\n",
            "13/13 [==============================] - 2s 167ms/step - loss: 0.3540 - accuracy: 0.8623 - val_loss: 2940.1619 - val_accuracy: 0.3077\n",
            "Epoch 247/300\n",
            "13/13 [==============================] - 2s 165ms/step - loss: 0.3365 - accuracy: 0.8816 - val_loss: 2918.2336 - val_accuracy: 0.3077\n",
            "Epoch 248/300\n",
            "13/13 [==============================] - 1s 101ms/step - loss: 0.3695 - accuracy: 0.8623 - val_loss: 2825.2820 - val_accuracy: 0.3122\n",
            "Epoch 249/300\n",
            "13/13 [==============================] - 1s 101ms/step - loss: 0.3336 - accuracy: 0.8744 - val_loss: 2853.1477 - val_accuracy: 0.3077\n",
            "Epoch 250/300\n",
            "13/13 [==============================] - 1s 102ms/step - loss: 0.3116 - accuracy: 0.8913 - val_loss: 2743.5605 - val_accuracy: 0.3122\n",
            "Epoch 251/300\n",
            "13/13 [==============================] - 1s 103ms/step - loss: 0.3295 - accuracy: 0.8841 - val_loss: 2729.7014 - val_accuracy: 0.3032\n",
            "Epoch 252/300\n",
            "13/13 [==============================] - 1s 103ms/step - loss: 0.3416 - accuracy: 0.8792 - val_loss: 2718.2534 - val_accuracy: 0.3077\n",
            "Epoch 253/300\n",
            "13/13 [==============================] - 1s 102ms/step - loss: 0.3628 - accuracy: 0.8768 - val_loss: 2703.9319 - val_accuracy: 0.3077\n",
            "Epoch 254/300\n",
            "13/13 [==============================] - 1s 103ms/step - loss: 0.3062 - accuracy: 0.8768 - val_loss: 2771.4744 - val_accuracy: 0.3122\n",
            "Epoch 255/300\n",
            "13/13 [==============================] - 2s 143ms/step - loss: 0.3137 - accuracy: 0.8961 - val_loss: 2799.1868 - val_accuracy: 0.3167\n",
            "Epoch 256/300\n",
            "13/13 [==============================] - 2s 179ms/step - loss: 0.3059 - accuracy: 0.8744 - val_loss: 2780.3538 - val_accuracy: 0.3122\n",
            "Epoch 257/300\n",
            "13/13 [==============================] - 1s 107ms/step - loss: 0.4059 - accuracy: 0.8599 - val_loss: 2795.1960 - val_accuracy: 0.3122\n",
            "Epoch 258/300\n",
            "13/13 [==============================] - 1s 102ms/step - loss: 0.3559 - accuracy: 0.8720 - val_loss: 2788.3096 - val_accuracy: 0.3122\n",
            "Epoch 259/300\n",
            "13/13 [==============================] - 1s 101ms/step - loss: 0.2812 - accuracy: 0.8961 - val_loss: 2716.2944 - val_accuracy: 0.3122\n",
            "Epoch 260/300\n",
            "13/13 [==============================] - 1s 103ms/step - loss: 0.3515 - accuracy: 0.8816 - val_loss: 2715.6394 - val_accuracy: 0.3122\n",
            "Epoch 261/300\n",
            "13/13 [==============================] - 1s 102ms/step - loss: 0.3509 - accuracy: 0.8792 - val_loss: 2762.5745 - val_accuracy: 0.3032\n",
            "Epoch 262/300\n",
            "13/13 [==============================] - 1s 101ms/step - loss: 0.3656 - accuracy: 0.8478 - val_loss: 2721.9600 - val_accuracy: 0.3122\n",
            "Epoch 263/300\n",
            "13/13 [==============================] - 1s 103ms/step - loss: 0.2815 - accuracy: 0.8961 - val_loss: 2705.0610 - val_accuracy: 0.3167\n",
            "Epoch 264/300\n",
            "13/13 [==============================] - 2s 125ms/step - loss: 0.3403 - accuracy: 0.8816 - val_loss: 2823.8538 - val_accuracy: 0.3077\n",
            "Epoch 265/300\n",
            "13/13 [==============================] - 2s 175ms/step - loss: 0.2902 - accuracy: 0.8768 - val_loss: 2909.5662 - val_accuracy: 0.3077\n",
            "Epoch 266/300\n",
            "13/13 [==============================] - 2s 128ms/step - loss: 0.3334 - accuracy: 0.8599 - val_loss: 2943.3928 - val_accuracy: 0.3122\n",
            "Epoch 267/300\n",
            "13/13 [==============================] - 1s 101ms/step - loss: 0.3184 - accuracy: 0.8841 - val_loss: 2919.1624 - val_accuracy: 0.3077\n",
            "Epoch 268/300\n",
            "13/13 [==============================] - 1s 101ms/step - loss: 0.3409 - accuracy: 0.8623 - val_loss: 2930.2014 - val_accuracy: 0.3077\n",
            "Epoch 269/300\n",
            "13/13 [==============================] - 1s 102ms/step - loss: 0.3214 - accuracy: 0.8792 - val_loss: 3094.0811 - val_accuracy: 0.3032\n",
            "Epoch 270/300\n",
            "13/13 [==============================] - 1s 101ms/step - loss: 0.3362 - accuracy: 0.8744 - val_loss: 3048.9380 - val_accuracy: 0.3032\n",
            "Epoch 271/300\n",
            "13/13 [==============================] - 1s 102ms/step - loss: 0.3455 - accuracy: 0.8696 - val_loss: 3010.0610 - val_accuracy: 0.3077\n",
            "Epoch 272/300\n",
            "13/13 [==============================] - 1s 103ms/step - loss: 0.3281 - accuracy: 0.8986 - val_loss: 3023.7297 - val_accuracy: 0.3032\n",
            "Epoch 273/300\n",
            "13/13 [==============================] - 1s 116ms/step - loss: 0.3128 - accuracy: 0.8696 - val_loss: 3015.8054 - val_accuracy: 0.3077\n",
            "Epoch 274/300\n",
            "13/13 [==============================] - 2s 180ms/step - loss: 0.3487 - accuracy: 0.8816 - val_loss: 3001.5610 - val_accuracy: 0.3077\n",
            "Epoch 275/300\n",
            "13/13 [==============================] - 2s 132ms/step - loss: 0.3119 - accuracy: 0.8768 - val_loss: 2951.5825 - val_accuracy: 0.3077\n",
            "Epoch 276/300\n",
            "13/13 [==============================] - 1s 101ms/step - loss: 0.3176 - accuracy: 0.8792 - val_loss: 2895.9397 - val_accuracy: 0.3077\n",
            "Epoch 277/300\n",
            "13/13 [==============================] - 1s 103ms/step - loss: 0.3305 - accuracy: 0.8744 - val_loss: 2948.6118 - val_accuracy: 0.3032\n",
            "Epoch 278/300\n",
            "13/13 [==============================] - 1s 104ms/step - loss: 0.3482 - accuracy: 0.8696 - val_loss: 2949.2031 - val_accuracy: 0.3077\n",
            "Epoch 279/300\n",
            "13/13 [==============================] - 1s 102ms/step - loss: 0.3256 - accuracy: 0.8671 - val_loss: 2956.8975 - val_accuracy: 0.3077\n",
            "Epoch 280/300\n",
            "13/13 [==============================] - 1s 104ms/step - loss: 0.2923 - accuracy: 0.8744 - val_loss: 2980.0945 - val_accuracy: 0.3167\n",
            "Epoch 281/300\n",
            "13/13 [==============================] - 1s 115ms/step - loss: 0.3035 - accuracy: 0.8768 - val_loss: 3019.3286 - val_accuracy: 0.3167\n",
            "Epoch 282/300\n",
            "13/13 [==============================] - 2s 118ms/step - loss: 0.3025 - accuracy: 0.8913 - val_loss: 3002.2122 - val_accuracy: 0.3122\n",
            "Epoch 283/300\n",
            "13/13 [==============================] - 2s 183ms/step - loss: 0.3068 - accuracy: 0.8889 - val_loss: 3016.3811 - val_accuracy: 0.3077\n",
            "Epoch 284/300\n",
            "13/13 [==============================] - 2s 129ms/step - loss: 0.3169 - accuracy: 0.8816 - val_loss: 3047.9297 - val_accuracy: 0.3077\n",
            "Epoch 285/300\n",
            "13/13 [==============================] - 1s 104ms/step - loss: 0.2613 - accuracy: 0.9034 - val_loss: 2992.7568 - val_accuracy: 0.3077\n",
            "Epoch 286/300\n",
            "13/13 [==============================] - 1s 105ms/step - loss: 0.3480 - accuracy: 0.8816 - val_loss: 2938.9873 - val_accuracy: 0.3032\n",
            "Epoch 287/300\n",
            "13/13 [==============================] - 1s 102ms/step - loss: 0.3092 - accuracy: 0.8696 - val_loss: 2959.0840 - val_accuracy: 0.3122\n",
            "Epoch 288/300\n",
            "13/13 [==============================] - 1s 105ms/step - loss: 0.3426 - accuracy: 0.8768 - val_loss: 3049.5493 - val_accuracy: 0.3167\n",
            "Epoch 289/300\n",
            "13/13 [==============================] - 1s 117ms/step - loss: 0.3393 - accuracy: 0.8575 - val_loss: 3140.7983 - val_accuracy: 0.3077\n",
            "Epoch 290/300\n",
            "13/13 [==============================] - 1s 103ms/step - loss: 0.3642 - accuracy: 0.8696 - val_loss: 3150.1853 - val_accuracy: 0.3122\n",
            "Epoch 291/300\n",
            "13/13 [==============================] - 2s 118ms/step - loss: 0.3026 - accuracy: 0.8841 - val_loss: 3082.0269 - val_accuracy: 0.3077\n",
            "Epoch 292/300\n",
            "13/13 [==============================] - 2s 175ms/step - loss: 0.3436 - accuracy: 0.8647 - val_loss: 3030.5784 - val_accuracy: 0.3167\n",
            "Epoch 293/300\n",
            "13/13 [==============================] - 2s 132ms/step - loss: 0.3216 - accuracy: 0.8720 - val_loss: 3058.2344 - val_accuracy: 0.3167\n",
            "Epoch 294/300\n",
            "13/13 [==============================] - 1s 102ms/step - loss: 0.3267 - accuracy: 0.8768 - val_loss: 3077.1606 - val_accuracy: 0.3077\n",
            "Epoch 295/300\n",
            "13/13 [==============================] - 1s 102ms/step - loss: 0.2945 - accuracy: 0.8937 - val_loss: 3118.2236 - val_accuracy: 0.3167\n",
            "Epoch 296/300\n",
            "13/13 [==============================] - 1s 102ms/step - loss: 0.3238 - accuracy: 0.8937 - val_loss: 3189.1917 - val_accuracy: 0.3077\n",
            "Epoch 297/300\n",
            "13/13 [==============================] - 1s 102ms/step - loss: 0.3770 - accuracy: 0.8599 - val_loss: 2930.0532 - val_accuracy: 0.3122\n",
            "Epoch 298/300\n",
            "13/13 [==============================] - 1s 104ms/step - loss: 0.2970 - accuracy: 0.8792 - val_loss: 2806.7844 - val_accuracy: 0.3122\n",
            "Epoch 299/300\n",
            "13/13 [==============================] - 1s 101ms/step - loss: 0.3230 - accuracy: 0.8623 - val_loss: 2798.7703 - val_accuracy: 0.3122\n",
            "Epoch 300/300\n",
            "13/13 [==============================] - 1s 103ms/step - loss: 0.3077 - accuracy: 0.8889 - val_loss: 2813.6072 - val_accuracy: 0.3077\n"
          ]
        }
      ]
    },
    {
      "cell_type": "code",
      "source": [
        "model.evaluate(X_test, y_test)"
      ],
      "metadata": {
        "id": "hQ3tiauHW6dT",
        "outputId": "b112d734-cc03-488b-e77d-74ef07df5138",
        "colab": {
          "base_uri": "https://localhost:8080/"
        }
      },
      "execution_count": 258,
      "outputs": [
        {
          "output_type": "stream",
          "name": "stdout",
          "text": [
            "11/11 [==============================] - 0s 21ms/step - loss: 0.5968 - accuracy: 0.8765\n"
          ]
        },
        {
          "output_type": "execute_result",
          "data": {
            "text/plain": [
              "[0.5968127846717834, 0.8765060305595398]"
            ]
          },
          "metadata": {},
          "execution_count": 258
        }
      ]
    },
    {
      "cell_type": "code",
      "source": [
        "pd.DataFrame(history.history).plot(figsize=(5,4))\n",
        "plt.grid(True)\n",
        "plt.gca().set_ylim(0,1)\n",
        "plt.show()"
      ],
      "metadata": {
        "id": "r4y9s-v9LKdn",
        "outputId": "e8b5871f-47cc-4075-9a4b-af116aab8887",
        "colab": {
          "base_uri": "https://localhost:8080/",
          "height": 372
        }
      },
      "execution_count": 259,
      "outputs": [
        {
          "output_type": "display_data",
          "data": {
            "text/plain": [
              "<Figure size 500x400 with 1 Axes>"
            ],
            "image/png": "[encoded data removed]"
          },
          "metadata": {}
        }
      ]
    },
    {
      "cell_type": "code",
      "source": [
        "prediction = model.predict(X_test_flat)\n",
        "print(prediction)"
      ],
      "metadata": {
        "id": "eZzsWgVeLn7f",
        "outputId": "b7aa4fb7-3b81-4f86-bc92-8c9ec60d5e2a",
        "colab": {
          "base_uri": "https://localhost:8080/"
        }
      },
      "execution_count": 261,
      "outputs": [
        {
          "output_type": "stream",
          "name": "stdout",
          "text": [
            "11/11 [==============================] - 0s 19ms/step\n",
            "[[1.1364797e-13 9.9671817e-01 2.6925042e-08 ... 3.3009140e-08\n",
            "  1.3479566e-13 4.0645991e-06]\n",
            " [6.4456757e-13 7.6468716e-09 2.4225819e-11 ... 4.4013876e-11\n",
            "  6.5061451e-22 3.3877548e-06]\n",
            " [7.3258613e-12 2.9541292e-08 1.6678355e-10 ... 5.7134836e-10\n",
            "  6.5921448e-20 9.4566494e-06]\n",
            " ...\n",
            " [5.7761257e-18 9.9854016e-01 1.0689558e-09 ... 2.4852673e-10\n",
            "  5.2379419e-17 4.7938494e-07]\n",
            " [2.6942944e-04 9.0061343e-01 2.1641101e-03 ... 4.6032313e-03\n",
            "  2.6240217e-04 5.3847414e-03]\n",
            " [0.0000000e+00 0.0000000e+00 0.0000000e+00 ... 0.0000000e+00\n",
            "  0.0000000e+00 1.0000000e+00]]\n"
          ]
        }
      ]
    },
    {
      "cell_type": "code",
      "source": [
        "print(prediction[1])"
      ],
      "metadata": {
        "id": "J6x-fn1vLrqD",
        "outputId": "74295926-f64b-4fcf-f38a-d5361d5aa12f",
        "colab": {
          "base_uri": "https://localhost:8080/"
        }
      },
      "execution_count": 262,
      "outputs": [
        {
          "output_type": "stream",
          "name": "stdout",
          "text": [
            "[6.4456757e-13 7.6468716e-09 2.4225819e-11 2.1715046e-08 9.9999374e-01\n",
            " 3.8445937e-11 2.8452685e-06 4.4013876e-11 6.5061451e-22 3.3877548e-06]\n"
          ]
        }
      ]
    },
    {
      "cell_type": "code",
      "source": [
        "np.argmax(prediction[0])"
      ],
      "metadata": {
        "id": "XOFpGwj3Lvvv",
        "outputId": "c7372862-86b2-436b-d404-7edd979aed4f",
        "colab": {
          "base_uri": "https://localhost:8080/"
        }
      },
      "execution_count": 263,
      "outputs": [
        {
          "output_type": "execute_result",
          "data": {
            "text/plain": [
              "1"
            ]
          },
          "metadata": {},
          "execution_count": 263
        }
      ]
    },
    {
      "cell_type": "code",
      "source": [
        "plt.matshow(balls_folder[0])"
      ],
      "metadata": {
        "id": "zOPlOku7LymC",
        "outputId": "34938a5f-d5d4-4334-ab4f-47ebb765bc14",
        "colab": {
          "base_uri": "https://localhost:8080/",
          "height": 452
        }
      },
      "execution_count": 264,
      "outputs": [
        {
          "output_type": "execute_result",
          "data": {
            "text/plain": [
              "<matplotlib.image.AxesImage at 0x7effc7c25d20>"
            ]
          },
          "metadata": {},
          "execution_count": 264
        },
        {
          "output_type": "display_data",
          "data": {
            "text/plain": [
              "<Figure size 480x480 with 1 Axes>"
            ],
            "image/png": "[encoded data removed]"
          },
          "metadata": {}
        }
      ]
    },
    {
      "cell_type": "code",
      "source": [
        "predicted_labels = [np.argmax(i) for i in prediction]"
      ],
      "metadata": {
        "id": "AzD4-3i2NbfZ"
      },
      "execution_count": 265,
      "outputs": []
    },
    {
      "cell_type": "code",
      "source": [
        "cm = confusion_matrix(y_test, prediction.argmax(axis=1))\n",
        "print(cm)"
      ],
      "metadata": {
        "id": "r6HMwYehNjxu",
        "outputId": "906dbdf8-08ca-4521-cffc-d15c30d37b73",
        "colab": {
          "base_uri": "https://localhost:8080/"
        }
      },
      "execution_count": 266,
      "outputs": [
        {
          "output_type": "stream",
          "name": "stdout",
          "text": [
            "[[19  0  0  0  0 11  1  0  1  0]\n",
            " [ 0 48  0  0  0  0  0  1  0  0]\n",
            " [ 0  0 28  1  0  1  0  0  0  0]\n",
            " [ 0  1  0 24  0  1  0  0  0  0]\n",
            " [ 0  0  0  0 29  0  0  0  0  0]\n",
            " [ 2  0  0  0  0 37  0  1  2  0]\n",
            " [ 1  0  0  0  0  1 25  0  0  0]\n",
            " [ 2  0  0  0  0  6  0 28  1  0]\n",
            " [ 0  0  0  0  0  1  0  0 32  0]\n",
            " [ 0  0  1  0  0  3  0  1  1 21]]\n"
          ]
        }
      ]
    },
    {
      "cell_type": "code",
      "source": [
        "import seaborn as sn\n",
        "plt.figure(figsize = (5,5))\n",
        "sn.heatmap(cm, annot=True, fmt='d')\n",
        "plt.xlabel('Predicted Label')\n",
        "plt.ylabel('True Label')"
      ],
      "metadata": {
        "id": "YNS1gYmSN9Ie",
        "outputId": "bf563c9b-3f2e-42d5-b629-edc1d331bcb3",
        "colab": {
          "base_uri": "https://localhost:8080/",
          "height": 481
        }
      },
      "execution_count": 267,
      "outputs": [
        {
          "output_type": "execute_result",
          "data": {
            "text/plain": [
              "Text(33.22222222222222, 0.5, 'True Label')"
            ]
          },
          "metadata": {},
          "execution_count": 267
        },
        {
          "output_type": "display_data",
          "data": {
            "text/plain": [
              "<Figure size 500x500 with 2 Axes>"
            ],
            "image/png": "[encoded data removed]"
          },
          "metadata": {}
        }
      ]
    },
    {
      "cell_type": "code",
      "source": [
        "accuracy = 100*np.trace(cm)/np.sum(cm)\n",
        "print(accuracy)"
      ],
      "metadata": {
        "id": "E9levH7POD9u",
        "outputId": "410e21f7-8b15-4744-bbe8-5b0dff892b06",
        "colab": {
          "base_uri": "https://localhost:8080/"
        }
      },
      "execution_count": 269,
      "outputs": [
        {
          "output_type": "stream",
          "name": "stdout",
          "text": [
            "87.65060240963855\n"
          ]
        }
      ]
    }
  ]
}