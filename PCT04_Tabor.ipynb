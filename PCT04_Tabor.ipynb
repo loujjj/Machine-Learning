{
  "nbformat": 4,
  "nbformat_minor": 0,
  "metadata": {
    "colab": {
      "provenance": [],
      "include_colab_link": true
    },
    "kernelspec": {
      "name": "python3",
      "display_name": "Python 3"
    },
    "language_info": {
      "name": "python"
    }
  },
  "cells": [
    {
      "cell_type": "markdown",
      "metadata": {
        "id": "view-in-github",
        "colab_type": "text"
      },
      "source": [
        "<a href=\"https://colab.research.google.com/github/loujjj/Machine-Learning/blob/main/PCT04_Tabor.ipynb\" target=\"_parent\"><img src=\"https://colab.research.google.com/assets/colab-badge.svg\" alt=\"Open In Colab\"/></a>"
      ]
    },
    {
      "cell_type": "markdown",
      "source": [
        "##**Classification of Walk vs Run**"
      ],
      "metadata": {
        "id": "w12W2G-6c32h"
      }
    },
    {
      "cell_type": "markdown",
      "source": [
        "####**Importing the Necessary Libraries**"
      ],
      "metadata": {
        "id": "19trjlLic6EL"
      }
    },
    {
      "cell_type": "code",
      "execution_count": 1,
      "metadata": {
        "id": "XPZnl1jNcuB1"
      },
      "outputs": [],
      "source": [
        "import numpy as np\n",
        "import matplotlib.pyplot as plt\n",
        "import pandas as pd\n",
        "import os\n",
        "import cv2 as cv\n",
        "import fnmatch\n",
        "\n",
        "import tensorflow as tf\n",
        "from tensorflow import keras\n",
        "from tensorflow.keras.models import Sequential\n",
        "from tensorflow.keras.layers import Dense, Conv2D, Dropout, Flatten, MaxPooling2D\n",
        "\n",
        "from sklearn import datasets\n",
        "from sklearn.preprocessing import LabelEncoder\n",
        "from sklearn.model_selection import train_test_split\n",
        "from sklearn.metrics import confusion_matrix, ConfusionMatrixDisplay"
      ]
    },
    {
      "cell_type": "markdown",
      "source": [
        "####**Importing and Preparing the Data**"
      ],
      "metadata": {
        "id": "21I4-WljdB3r"
      }
    },
    {
      "cell_type": "markdown",
      "source": [
        "#####**Importing the Data**"
      ],
      "metadata": {
        "id": "-z48xONBdGc0"
      }
    },
    {
      "cell_type": "code",
      "source": [
        "from google.colab import drive\n",
        "drive.mount('/content/gdrive/', force_remount=True)"
      ],
      "metadata": {
        "id": "a0VllYJydK2L",
        "outputId": "8055cc45-2f27-4201-de23-15a7248c50a5",
        "colab": {
          "base_uri": "https://localhost:8080/"
        }
      },
      "execution_count": 2,
      "outputs": [
        {
          "output_type": "stream",
          "name": "stdout",
          "text": [
            "Mounted at /content/gdrive/\n"
          ]
        }
      ]
    },
    {
      "cell_type": "code",
      "source": [
        "cd gdrive/MyDrive/'Colab Notebooks'/Book/BallsDatasets"
      ],
      "metadata": {
        "colab": {
          "base_uri": "https://localhost:8080/"
        },
        "id": "ATHuKHGmGqhd",
        "outputId": "ef881e0a-db23-4634-c549-265c7c8d6ed5"
      },
      "execution_count": 3,
      "outputs": [
        {
          "output_type": "stream",
          "name": "stdout",
          "text": [
            "/content/gdrive/MyDrive/Colab Notebooks/Book/BallsDatasets\n"
          ]
        }
      ]
    },
    {
      "cell_type": "markdown",
      "source": [
        "**NOTE: You have to save the attached csv file to one of your subfolders in Google Drive and change the name of the subfolder below, accordingly.**"
      ],
      "metadata": {
        "id": "lUPIQIxqIfvI"
      }
    },
    {
      "cell_type": "code",
      "source": [
        "ls"
      ],
      "metadata": {
        "id": "R6Vx8Cz4dRf4",
        "colab": {
          "base_uri": "https://localhost:8080/"
        },
        "outputId": "bca9267b-4b71-489e-c606-112606fbb58a"
      },
      "execution_count": 4,
      "outputs": [
        {
          "output_type": "stream",
          "name": "stdout",
          "text": [
            " baseball00.jpg           bowling20.jpg          soccer29.jpg\n",
            " baseball01.jpg           bowling21.png          soccer30.jpg\n",
            " baseball02.png           bowling22.png          soccer31.jpg\n",
            " baseball03.jpg           bowling23.png          soccer32.jpg\n",
            " baseball04.jpg           bowling24.jpg          soccer33.png\n",
            " baseball05.jpg           bowling25.png          soccer34.jpg\n",
            " baseball06.png           bowling26.png          soccer36.jpg\n",
            " baseball07.jpg           bowling27.jpg          soccer37.png\n",
            " baseball08.jpeg          bowling28.jpg          soccer38.png\n",
            " baseball09.jpeg          bowling29.jpg          soccer39.png\n",
            " baseball10.jpg           bowling30.png          soccer40.jpg\n",
            " baseball11.jpg           bowling31.png          soccer41.jpg\n",
            " baseball12.jpg           bowling32.png          soccer42.jpg\n",
            " baseball13.jpg           bowling34.jpg          soccer43.jpg\n",
            " baseball14.jpg           bowling35.jpg          soccer44.jpg\n",
            " baseball15.jpg           bowling36.png          soccer45.jpg\n",
            " baseball16.jpg           bowling37.png          soccer46.png\n",
            " baseball17.jpg           bowling38.png          soccer48.jpg\n",
            " baseball18.jpg           bowling39.jpg          soccer48.png\n",
            " baseball19.jpg           bowling40.jpg          soccer49.png\n",
            " baseball20.jpg           bowling41.jpg          soccer50.jpg\n",
            " baseball21.png           bowling42.jpg          soccer51.jpeg\n",
            " baseball22.png           bowling43.jpg          soccer52.jpeg\n",
            " baseball23.png           bowling44.jpg          soccer53.jpeg\n",
            " baseball24.jpg           bowling45.jpg          tabletennis00.jpg\n",
            " baseball25.jpg           bowling46.jpg          tabletennis01.jpg\n",
            " baseball26.jpg           bowling47.jpg          tabletennis02.jpg\n",
            " baseball27.jpg           bowling48.png          tabletennis03.jpg\n",
            " baseball28.jpg           bowling49.png          tabletennis04.jpg\n",
            " baseball29.jpg           bowling50.png          tabletennis07.png\n",
            " baseball30.png           bowling51.jpeg        'tabletennis08 (1).jpeg'\n",
            " baseball31.png           bowling52.jpeg         tabletennis08.jpeg\n",
            " baseball32.png           bowling53.jpeg         tabletennis09.jpg\n",
            " baseball33.jpg           football00.jpg         tabletennis10.jpg\n",
            " baseball36.png           football01.jpg         tabletennis11.jpg\n",
            " baseball37.png           football05.jpg         tabletennis12.jpg\n",
            " baseball38.png           football06.jpg         tabletennis13.jpg\n",
            " baseball39.png           football07.jpg         tabletennis14.jpg\n",
            " baseball40.jpg          'football08 (1).jpg'    tabletennis15.jpg\n",
            " baseball41.jpg           football08.jpg         tabletennis16.jpg\n",
            " baseball42.jpg          'football09 (1).png'    tabletennis17.jpg\n",
            " baseball43.jpg           football09.png        'tabletennis18 (1).png'\n",
            " baseball44.jpg           football10.jpg         tabletennis18.png\n",
            " baseball46.jpg           football11.jpg        'tabletennis19 (1).png'\n",
            " baseball47.jpg           football12.jpg         tabletennis19.png\n",
            " baseball48.png           football13.png         tabletennis20.png\n",
            " baseball49.jpg           football14.png         tabletennis21.png\n",
            " baseball50.jpg           football15.jpg         tabletennis22.png\n",
            " baseball51.jpeg          football16.jpg         tabletennis23.png\n",
            " baseball52.jpeg          football17.jpg        'tabletennis27 (1).jpg'\n",
            " baseball53.jpeg          football18.jpg         tabletennis27.jpg\n",
            " basketball00.jpg         football19.jpg         tabletennis28.jpg\n",
            " basketball01.jpg        'football20 (1).jpg'    tabletennis29.jpg\n",
            " basketball02.png         football20.jpg         tabletennis30.jpeg\n",
            " basketball03.png        'football21 (1).png'   'tabletennis31 (1).jpg'\n",
            " basketball07.jpeg        football21.png         tabletennis31.jpg\n",
            " basketball08.jpeg       'football22 (1).jpg'   'tabletennis32 (1).png'\n",
            " basketball09.jpeg        football22.jpg         tabletennis32.png\n",
            " basketball10.jpg        'football23 (1).png'   'tabletennis33 (1).png'\n",
            " basketball11.jpg         football23.png         tabletennis33.png\n",
            " basketball12.jpg         football24.jpg         tabletennis34.png\n",
            " basketball13.png         football25.jpg         tabletennis35.jpg\n",
            " basketball14.png         football26.jpg         tabletennis36.jpg\n",
            " basketball15.jpg         football27.jpg         tabletennis37.jpg\n",
            " basketball16.png         football28.jpg         tabletennis38.png\n",
            " basketball17.jpg         football29.png         tabletennis39.png\n",
            "'basketball18 (1).jpg'    football30.png        'tabletennis40 (1).png'\n",
            "'basketball18 (2).jpg'    football31.png         tabletennis40.png\n",
            " basketball18.jpg         football32.png        'tabletennis41 (1).jpg'\n",
            "'basketball19 (1).jpg'   'football36 (1).png'    tabletennis41.jpg\n",
            "'basketball19 (2).jpg'    football36.png         tabletennis42.jpg\n",
            " basketball19.jpg        'football37 (1).png'    tabletennis43.jpg\n",
            " basketball20.jpg         football37.png         tabletennis44.jpg\n",
            " basketball21.jpg         football38.png         tabletennis45.jpg\n",
            " basketball22.png         football39.jpg         tabletennis46.jpg\n",
            " basketball23.png         football40.jpg         tabletennis47.jpg\n",
            "'basketball24 (1).jpg'    football41.jpg         tabletennis48.jpg\n",
            "'basketball24 (2).jpg'    football42.jpg         tabletennis49.jpg\n",
            " basketball24.jpg         football43.jpg         tabletennis50.jpg\n",
            " basketball25.jpg         football44.jpg        'tabletennis51 (1).jpg'\n",
            "'basketball26 (1).jpg'    football46.jpg         tabletennis51.jpg\n",
            "'basketball26 (2).jpg'    football47.jpg         tabletennis52.png\n",
            " basketball26.jpg         football48.png        'tabletennis53 (1).jpeg'\n",
            "'basketball27 (1).jpg'    football49.png         tabletennis53.jpeg\n",
            "'basketball27 (2).jpg'   'football50 (1).png'    tabletennis54.jpeg\n",
            " basketball27.jpg         football50.png         tennis00.jpg\n",
            " basketball28.jpg         football51.jpeg        tennis01.jpg\n",
            " basketball29.jpg        'football52 (1).jpeg'   tennis02.jpg\n",
            "'basketball30 (1).png'    football52.jpeg        tennis03.jpg\n",
            "'basketball30 (2).png'    football53.jpeg        tennis04.jpg\n",
            " basketball30.png         golf00.jpg             tennis05.jpg\n",
            " basketball31.png         golf01.jpg             tennis06.png\n",
            "'basketball32 (1).png'    golf02.jpg             tennis07.jpeg\n",
            "'basketball32 (2).png'    golf03.jpg             tennis08.jpg\n",
            " basketball32.png         golf04.jpg             tennis09.jpg\n",
            " basketball34.jpg         golf05.png             tennis10.jpg\n",
            " basketball35.jpg        'golf07 (1).jpeg'       tennis11.jpg\n",
            " basketball36.png        'golf07 (2).jpeg'       tennis12.jpg\n",
            " basketball37.png         golf07.jpeg            tennis13.jpg\n",
            " basketball38.png        'golf08 (1).png'        tennis14.jpg\n",
            " basketball39.jpg        'golf08 (2).png'        tennis15.jpg\n",
            "'basketball40 (1).jpg'    golf08.png             tennis16.jpg\n",
            "'basketball40 (2).jpg'   'golf09 (1).png'        tennis17.jpg\n",
            " basketball40.jpg         golf09.png             tennis18.png\n",
            "'basketball41 (1).jpg'    golf10.jpg             tennis19.png\n",
            "'basketball41 (2).jpg'    golf11.jpg             tennis20.png\n",
            " basketball41.jpg         golf12.jpg             tennis21.png\n",
            " basketball42.jpg         golf13.png             tennis22.png\n",
            " basketball43.jpg         golf14.png             tennis23.png\n",
            " basketball44.jpg         golf15.png             tennis27.jpg\n",
            " basketball45.png         golf16.jpg             tennis28.jpg\n",
            " basketball46.png         golf17.jpg             tennis29.jpg\n",
            " basketball47.png         golf18.jpg             tennis30.png\n",
            " basketball48.png         golf19.jpg             tennis31.png\n",
            " basketball49.png        'golf20 (1).jpg'        tennis32.png\n",
            " basketball50.png        'golf20 (2).jpg'        tennis33.jpg\n",
            "'basketball51 (1).jpeg'   golf20.jpg             tennis34.jpg\n",
            "'basketball51 (2).jpeg'   golf21.png             tennis36.png\n",
            " basketball51.jpeg       'golf22 (1).png'        tennis37.png\n",
            " basketball52.jpeg       'golf22 (2).png'        tennis38.png\n",
            " basketball53.jpeg        golf22.png             tennis39.jpg\n",
            " billiards00.jpg         'golf23 (1).png'        tennis40.jpg\n",
            " billiards01.png         'golf23 (2).png'        tennis41.jpg\n",
            " billiards02.jpeg         golf23.png             tennis42.jpg\n",
            " billiards03.jpeg         golf27.jpg             tennis43.jpg\n",
            " billiards07.jpg          golf28.png             tennis44.jpg\n",
            " billiards08.jpg          golf29.jpg             tennis45.jpg\n",
            " billiards09.jpg          golf30.jpg             tennis46.jpg\n",
            " billiards10.jpg          golf31.png             tennis47.jpg\n",
            " billiards11.jpg          golf32.png             tennis48.png\n",
            " billiards12.jpg          golf33.png             tennis49.png\n",
            " billiards13.png         'golf34 (1).jpg'        tennis50.jpg\n",
            " billiards14.png         'golf34 (2).jpg'        tennis51.jpeg\n",
            " billiards15.png          golf34.jpg             tennis52.jpeg\n",
            " billiards16.jpg         'golf35 (1).jpg'        tennis53.jpeg\n",
            " billiards17.jpg          golf35.jpg             volleyball00.jpg\n",
            " billiards18.webp        'golf36 (1).jpg'        volleyball01.jpg\n",
            " billiards19.jpg         'golf36 (2).jpg'        volleyball02.jpg\n",
            " billiards20.jpg          golf36.jpg             volleyball03.jpg\n",
            " billiards21.png         'golf37 (1).png'        volleyball07.jpg\n",
            " billiards22.png         'golf37 (2).png'        volleyball08.png\n",
            " billiards23.png          golf37.png             volleyball09.jpg\n",
            " billiards24.jpg          golf38.png             volleyball10.jpg\n",
            " billiards25.jpg          golf39.png             volleyball11.jpg\n",
            " billiards26.jpg          golf40.png             volleyball12.jpg\n",
            " billiards27.jpg          golf41.jpg             volleyball13.jpg\n",
            " billiards28.jpg          golf42.jpg             volleyball14.png\n",
            " billiards29.jpg         'golf43 (1).jpg'        volleyball15.jpg\n",
            " billiards30.png          golf43.jpg             volleyball16.jpg\n",
            " billiards31.png          golf44.jpg             volleyball17.jpg\n",
            " billiards32.png          golf45.jpg             volleyball18.png\n",
            " billiards33.jpeg         golf46.jpg             volleyball19.png\n",
            " billiards36.png          golf47.jpg             volleyball20.png\n",
            " billiards37.png          golf49.png             volleyball21.png\n",
            " billiards38.png          golf50.jpg             volleyball22.png\n",
            " billiards39.png         'golf51 (1).jpg'        volleyball23.png\n",
            " billiards40.jpg          golf51.jpg             volleyball27.jpg\n",
            " billiards41.jpg          golf52.jpg             volleyball28.jpg\n",
            " billiards42.jpg          golf53.jpeg            volleyball29.jpg\n",
            " billiards43.jpg          golf54.jpeg            volleyball30.jpg\n",
            " billiards44.jpg          soccer00.jpg           volleyball31.jpg\n",
            " billiards45.png          soccer01.jpg           volleyball32.jpg\n",
            " billiards46.png          soccer02.jpeg          volleyball33.png\n",
            " billiards47.png          soccer03.jpg           volleyball34.png\n",
            " billiards48.jpg          soccer04.jpg           volleyball35.png\n",
            " billiards49.png          soccer05.jpg           volleyball37.jpeg\n",
            " billiards50.png          soccer06.jpg           volleyball39.png\n",
            " billiards51.jpeg         soccer07.jpeg          volleyball40.png\n",
            " billiards52.jpeg         soccer08.jpg           volleyball41.png\n",
            " billiards53.png          soccer09.png           volleyball42.jpg\n",
            " bowling00.jpg            soccer10.jpg           volleyball43.png\n",
            " bowling01.jpg            soccer11.jpg           volleyball44.jpg\n",
            " bowling02.jpg            soccer12.jpg           volleyball45.png\n",
            " bowling03.jpg            soccer13.jpg           volleyball46.jpg\n",
            " bowling07.jpeg           soccer14.jpg           volleyball47.jpg\n",
            " bowling08.jpeg           soccer16.jpg           volleyball48.jpg\n",
            " bowling09.jpeg           soccer17.jpg           volleyball49.jpg\n",
            " bowling10.jpg            soccer18.png           volleyball50.jpg\n",
            " bowling11.jpg            soccer19.png           volleyball51.png\n",
            " bowling12.jpg            soccer20.png           volleyball52.png\n",
            " bowling13.png            soccer21.png           volleyball53.png\n",
            " bowling14.png            soccer22.png           volleyball54.png\n",
            " bowling15.png            soccer23.png           volleyball55.jpeg\n",
            " bowling17.jpg            soccer27.jpg           volleyball56.jpeg\n",
            " bowling19.jpg            soccer28.jpg\n"
          ]
        }
      ]
    },
    {
      "cell_type": "code",
      "source": [
        "organize = pd.DataFrame.from_dict(os.listdir())\n",
        "random   = organize.sample(frac=1, random_state=1).reset_index()\n",
        "data     = pd.DataFrame(random)[0].values.tolist()"
      ],
      "metadata": {
        "id": "u4jOD3KtdSBj"
      },
      "execution_count": 5,
      "outputs": []
    },
    {
      "cell_type": "code",
      "source": [
        "print(data)"
      ],
      "metadata": {
        "id": "cEhF6Cna7Svb",
        "outputId": "c578b8b2-513e-4141-a9c0-7dd97e5a1974",
        "colab": {
          "base_uri": "https://localhost:8080/"
        }
      },
      "execution_count": 6,
      "outputs": [
        {
          "output_type": "stream",
          "name": "stdout",
          "text": [
            "['volleyball01.jpg', 'golf45.jpg', 'volleyball09.jpg', 'baseball14.jpg', 'soccer36.jpg', 'baseball37.png', 'golf19.jpg', 'tennis14.jpg', 'tennis01.jpg', 'basketball41 (1).jpg', 'basketball30 (2).png', 'basketball40.jpg', 'soccer10.jpg', 'tennis08.jpg', 'tabletennis35.jpg', 'tabletennis17.jpg', 'tennis17.jpg', 'tabletennis21.png', 'golf04.jpg', 'billiards20.jpg', 'volleyball43.png', 'basketball47.png', 'tabletennis51.jpg', 'soccer53.jpeg', 'basketball45.png', 'baseball00.jpg', 'golf35 (1).jpg', 'bowling46.jpg', 'soccer50.jpg', 'volleyball21.png', 'football47.jpg', 'football13.png', 'basketball29.jpg', 'bowling20.jpg', 'billiards01.png', 'baseball51.jpeg', 'volleyball35.png', 'football09 (1).png', 'billiards25.jpg', 'bowling07.jpeg', 'soccer48.jpg', 'golf34.jpg', 'football20.jpg', 'football10.jpg', 'golf07 (2).jpeg', 'tabletennis11.jpg', 'football26.jpg', 'baseball38.png', 'tabletennis42.jpg', 'bowling52.jpeg', 'volleyball56.jpeg', 'golf13.png', 'tennis46.jpg', 'basketball24.jpg', 'basketball35.jpg', 'football36.png', 'baseball39.png', 'volleyball20.png', 'volleyball00.jpg', 'basketball12.jpg', 'bowling39.jpg', 'billiards10.jpg', 'tabletennis45.jpg', 'basketball53.jpeg', 'football37 (1).png', 'volleyball31.jpg', 'tabletennis08.jpeg', 'soccer33.png', 'basketball40 (2).jpg', 'tennis02.jpg', 'volleyball22.png', 'tabletennis43.jpg', 'golf52.jpg', 'basketball16.png', 'bowling38.png', 'golf03.jpg', 'basketball30 (1).png', 'golf21.png', 'golf43 (1).jpg', 'billiards39.png', 'football27.jpg', 'baseball33.jpg', 'tennis38.png', 'basketball27 (2).jpg', 'bowling29.jpg', 'baseball03.jpg', 'volleyball08.png', 'baseball13.jpg', 'billiards33.jpeg', 'football23.png', 'basketball00.jpg', 'tennis52.jpeg', 'billiards43.jpg', 'tabletennis38.png', 'soccer37.png', 'golf01.jpg', 'baseball25.jpg', 'basketball41 (2).jpg', 'tabletennis34.png', 'football36 (1).png', 'bowling44.jpg', 'baseball11.jpg', 'football52.jpeg', 'baseball50.jpg', 'basketball15.jpg', 'volleyball55.jpeg', 'bowling08.jpeg', 'volleyball32.jpg', 'soccer43.jpg', 'basketball01.jpg', 'billiards48.jpg', 'football22 (1).jpg', 'billiards28.jpg', 'volleyball40.png', 'tennis34.jpg', 'football01.jpg', 'billiards24.jpg', 'golf50.jpg', 'football24.jpg', 'billiards12.jpg', 'tennis09.jpg', 'tabletennis19 (1).png', 'billiards46.png', 'tennis51.jpeg', 'basketball09.jpeg', 'tabletennis51 (1).jpg', 'basketball41.jpg', 'tabletennis28.jpg', 'basketball42.jpg', 'football00.jpg', 'soccer51.jpeg', 'golf20 (1).jpg', 'tabletennis33.png', 'basketball31.png', 'basketball17.jpg', 'billiards44.jpg', 'tabletennis29.jpg', 'basketball39.jpg', 'tennis10.jpg', 'football29.png', 'soccer27.jpg', 'baseball16.jpg', 'football39.jpg', 'tabletennis02.jpg', 'tabletennis52.png', 'golf33.png', 'bowling14.png', 'tabletennis54.jpeg', 'basketball02.png', 'billiards03.jpeg', 'basketball24 (2).jpg', 'bowling27.jpg', 'tennis22.png', 'soccer08.jpg', 'golf53.jpeg', 'volleyball51.png', 'tabletennis22.png', 'golf22.png', 'tabletennis47.jpg', 'billiards18.webp', 'tennis40.jpg', 'golf46.jpg', 'volleyball16.jpg', 'basketball38.png', 'golf00.jpg', 'bowling23.png', 'soccer11.jpg', 'soccer39.png', 'volleyball42.jpg', 'golf34 (2).jpg', 'baseball52.jpeg', 'volleyball23.png', 'baseball12.jpg', 'football08.jpg', 'golf51.jpg', 'tennis04.jpg', 'golf16.jpg', 'tabletennis50.jpg', 'soccer14.jpg', 'bowling26.png', 'basketball46.png', 'football21 (1).png', 'golf11.jpg', 'bowling36.png', 'baseball36.png', 'soccer28.jpg', 'bowling50.png', 'tabletennis32 (1).png', 'billiards14.png', 'bowling12.jpg', 'basketball36.png', 'volleyball41.png', 'tabletennis13.jpg', 'bowling22.png', 'golf34 (1).jpg', 'football48.png', 'billiards50.png', 'football18.jpg', 'soccer12.jpg', 'golf38.png', 'billiards23.png', 'soccer02.jpeg', 'tabletennis16.jpg', 'bowling01.jpg', 'bowling41.jpg', 'tabletennis08 (1).jpeg', 'billiards41.jpg', 'soccer42.jpg', 'basketball08.jpeg', 'tennis41.jpg', 'billiards07.jpg', 'golf40.png', 'football32.png', 'billiards16.jpg', 'billiards53.png', 'tennis47.jpg', 'golf42.jpg', 'basketball48.png', 'bowling45.jpg', 'football30.png', 'football31.png', 'tennis12.jpg', 'soccer13.jpg', 'baseball01.jpg', 'golf28.png', 'baseball04.jpg', 'golf17.jpg', 'baseball43.jpg', 'volleyball15.jpg', 'tennis18.png', 'golf37 (1).png', 'bowling24.jpg', 'tennis16.jpg', 'golf20 (2).jpg', 'billiards52.jpeg', 'volleyball07.jpg', 'basketball27 (1).jpg', 'golf18.jpg', 'basketball07.jpeg', 'baseball26.jpg', 'bowling25.png', 'football50 (1).png', 'tabletennis12.jpg', 'volleyball02.jpg', 'bowling53.jpeg', 'football37.png', 'soccer22.png', 'tabletennis53.jpeg', 'soccer09.png', 'football16.jpg', 'bowling00.jpg', 'basketball50.png', 'tennis48.png', 'billiards37.png', 'basketball32 (2).png', 'billiards51.jpeg', 'basketball32 (1).png', 'soccer29.jpg', 'basketball51 (1).jpeg', 'basketball44.jpg', 'tabletennis44.jpg', 'bowling28.jpg', 'bowling02.jpg', 'football51.jpeg', 'billiards40.jpg', 'golf23 (2).png', 'volleyball12.jpg', 'volleyball17.jpg', 'baseball47.jpg', 'football23 (1).png', 'tabletennis10.jpg', 'billiards13.png', 'golf07.jpeg', 'tennis43.jpg', 'football11.jpg', 'football46.jpg', 'golf32.png', 'tabletennis03.jpg', 'basketball24 (1).jpg', 'football41.jpg', 'basketball18.jpg', 'basketball51.jpeg', 'football40.jpg', 'billiards49.png', 'tennis28.jpg', 'golf47.jpg', 'bowling48.png', 'volleyball50.jpg', 'baseball19.jpg', 'golf43.jpg', 'golf20.jpg', 'football20 (1).jpg', 'golf05.png', 'soccer21.png', 'football22.jpg', 'football14.png', 'tennis31.png', 'tabletennis48.jpg', 'tabletennis49.jpg', 'bowling40.jpg', 'volleyball44.jpg', 'baseball27.jpg', 'soccer45.jpg', 'golf36 (1).jpg', 'tabletennis32.png', 'tabletennis40 (1).png', 'soccer20.png', 'volleyball46.jpg', 'tennis39.jpg', 'tennis29.jpg', 'bowling34.jpg', 'soccer05.jpg', 'tabletennis37.jpg', 'volleyball29.jpg', 'billiards17.jpg', 'volleyball03.jpg', 'golf44.jpg', 'golf08 (1).png', 'volleyball28.jpg', 'basketball52.jpeg', 'football53.jpeg', 'basketball19.jpg', 'basketball26 (2).jpg', 'basketball27.jpg', 'bowling19.jpg', 'tabletennis04.jpg', 'football07.jpg', 'golf54.jpeg', 'football12.jpg', 'golf37 (2).png', 'golf22 (2).png', 'baseball17.jpg', 'baseball31.png', 'soccer16.jpg', 'tennis13.jpg', 'golf07 (1).jpeg', 'basketball11.jpg', 'billiards00.jpg', 'baseball06.png', 'bowling11.jpg', 'baseball18.jpg', 'baseball49.jpg', 'basketball30.png', 'tennis23.png', 'tennis00.jpg', 'billiards27.jpg', 'soccer49.png', 'golf09 (1).png', 'billiards19.jpg', 'basketball43.jpg', 'tennis44.jpg', 'baseball30.png', 'football09.png', 'volleyball45.png', 'soccer41.jpg', 'tennis03.jpg', 'baseball07.jpg', 'bowling30.png', 'tabletennis09.jpg', 'football43.jpg', 'soccer31.jpg', 'basketball37.png', 'tabletennis27 (1).jpg', 'baseball53.jpeg', 'bowling35.jpg', 'football08 (1).jpg', 'volleyball33.png', 'soccer18.png', 'volleyball19.png', 'football49.png', 'baseball29.jpg', 'soccer00.jpg', 'billiards26.jpg', 'football52 (1).jpeg', 'soccer32.jpg', 'tennis32.png', 'tabletennis18 (1).png', 'basketball13.png', 'soccer03.jpg', 'bowling21.png', 'soccer23.png', 'baseball15.jpg', 'tennis05.jpg', 'golf12.jpg', 'golf22 (1).png', 'volleyball54.png', 'soccer52.jpeg', 'tennis53.jpeg', 'tennis27.jpg', 'volleyball18.png', 'golf09.png', 'baseball32.png', 'bowling43.jpg', 'tennis50.jpg', 'golf51 (1).jpg', 'basketball34.jpg', 'basketball21.jpg', 'bowling10.jpg', 'golf10.jpg', 'baseball40.jpg', 'soccer04.jpg', 'football17.jpg', 'basketball49.png', 'soccer17.jpg', 'basketball40 (1).jpg', 'tabletennis40.png', 'volleyball49.jpg', 'golf08.png', 'soccer19.png', 'basketball32.png', 'baseball23.png', 'tennis20.png', 'tabletennis41.jpg', 'tabletennis36.jpg', 'basketball23.png', 'tennis42.jpg', 'tennis33.jpg', 'basketball18 (2).jpg', 'tennis21.png', 'volleyball11.jpg', 'volleyball37.jpeg', 'bowling37.png', 'billiards32.png', 'basketball51 (2).jpeg', 'tabletennis07.png', 'billiards11.jpg', 'baseball22.png', 'billiards15.png', 'football44.jpg', 'golf14.png', 'tabletennis19.png', 'basketball19 (2).jpg', 'football38.png', 'soccer46.png', 'billiards31.png', 'golf37.png', 'tabletennis46.jpg', 'billiards02.jpeg', 'volleyball30.jpg', 'bowling17.jpg', 'golf23.png', 'golf29.jpg', 'soccer07.jpeg', 'tennis06.png', 'baseball42.jpg', 'golf36.jpg', 'baseball08.jpeg', 'baseball05.jpg', 'golf02.jpg', 'baseball48.png', 'golf31.png', 'volleyball14.png', 'tabletennis18.png', 'tennis15.jpg', 'golf30.jpg', 'tabletennis20.png', 'golf15.png', 'baseball10.jpg', 'baseball02.png', 'volleyball53.png', 'golf08 (2).png', 'football28.jpg', 'baseball44.jpg', 'basketball26.jpg', 'soccer38.png', 'baseball24.jpg', 'bowling32.png', 'billiards38.png', 'volleyball34.png', 'basketball22.png', 'baseball20.jpg', 'billiards22.png', 'golf41.jpg', 'soccer30.jpg', 'football21.png', 'volleyball13.jpg', 'golf35.jpg', 'football25.jpg', 'football50.png', 'bowling51.jpeg', 'tabletennis14.jpg', 'golf27.jpg', 'bowling15.png', 'billiards45.png', 'tabletennis30.jpeg', 'soccer40.jpg', 'billiards29.jpg', 'basketball14.png', 'football19.jpg', 'basketball10.jpg', 'volleyball52.png', 'tabletennis41 (1).jpg', 'basketball20.jpg', 'soccer34.jpg', 'golf39.png', 'soccer06.jpg', 'tennis11.jpg', 'volleyball47.jpg', 'baseball21.png', 'tabletennis31.jpg', 'soccer01.jpg', 'basketball18 (1).jpg', 'basketball19 (1).jpg', 'football06.jpg', 'tennis37.png', 'football42.jpg', 'volleyball27.jpg', 'billiards36.png', 'tabletennis00.jpg', 'tennis19.png', 'tennis07.jpeg', 'bowling03.jpg', 'billiards42.jpg', 'baseball28.jpg', 'billiards30.png', 'tabletennis01.jpg', 'bowling09.jpeg', 'billiards47.png', 'bowling47.jpg', 'tabletennis53 (1).jpeg', 'bowling49.png', 'tabletennis39.png', 'billiards08.jpg', 'golf49.png', 'tennis49.png', 'tabletennis31 (1).jpg', 'golf23 (1).png', 'tabletennis33 (1).png', 'volleyball48.jpg', 'tennis30.png', 'bowling31.png', 'basketball03.png', 'volleyball39.png', 'bowling13.png', 'tabletennis15.jpg', 'soccer44.jpg', 'soccer48.png', 'billiards21.png', 'baseball41.jpg', 'baseball46.jpg', 'basketball26 (1).jpg', 'bowling42.jpg', 'golf36 (2).jpg', 'basketball25.jpg', 'basketball28.jpg', 'tabletennis23.png', 'football05.jpg', 'tennis36.png', 'tennis45.jpg', 'volleyball10.jpg', 'football15.jpg', 'billiards09.jpg', 'tabletennis27.jpg', 'baseball09.jpeg']\n"
          ]
        }
      ]
    },
    {
      "cell_type": "code",
      "source": [
        "m = 0\n",
        "balls_folder = []\n",
        "for file in data:\n",
        "  image = cv.imread(file)\n",
        "  if image.shape == (28,28,3):\n",
        "    balls_folder.append(image)\n",
        "  else:\n",
        "    m += 1\n",
        "print(str(m) + ' images were not rescaled to 28x28 and are now excluded.')"
      ],
      "metadata": {
        "id": "Arum7jCW8Byp",
        "outputId": "1b625c64-b049-46f4-ec07-2b45484b3291",
        "colab": {
          "base_uri": "https://localhost:8080/"
        }
      },
      "execution_count": 7,
      "outputs": [
        {
          "output_type": "stream",
          "name": "stdout",
          "text": [
            "1 images were not rescaled to 28x28 and are now excluded.\n"
          ]
        }
      ]
    },
    {
      "cell_type": "code",
      "source": [
        "print(balls_folder[0].shape)\n",
        "print(len(balls_folder))"
      ],
      "metadata": {
        "id": "Y-4AZAPH8ukA",
        "outputId": "f338dc5a-50a2-4108-d51d-52e8396bd394",
        "colab": {
          "base_uri": "https://localhost:8080/"
        }
      },
      "execution_count": 8,
      "outputs": [
        {
          "output_type": "stream",
          "name": "stdout",
          "text": [
            "(28, 28, 3)\n",
            "553\n"
          ]
        }
      ]
    },
    {
      "cell_type": "code",
      "source": [
        "print(balls_folder[0])\n",
        "plt.matshow(balls_folder[552])"
      ],
      "metadata": {
        "id": "9fZ3hwXF9kBH",
        "outputId": "03c18d80-8139-4ec0-e005-6008ea32ac04",
        "colab": {
          "base_uri": "https://localhost:8080/",
          "height": 1000
        }
      },
      "execution_count": 9,
      "outputs": [
        {
          "output_type": "stream",
          "name": "stdout",
          "text": [
            "[[[255 251 255]\n",
            "  [255 250 255]\n",
            "  [255 254 255]\n",
            "  ...\n",
            "  [246 253 255]\n",
            "  [249 251 255]\n",
            "  [253 253 255]]\n",
            "\n",
            " [[255 253 255]\n",
            "  [255 253 255]\n",
            "  [251 250 252]\n",
            "  ...\n",
            "  [248 254 255]\n",
            "  [252 253 255]\n",
            "  [253 252 254]]\n",
            "\n",
            " [[255 255 251]\n",
            "  [255 255 252]\n",
            "  [255 255 255]\n",
            "  ...\n",
            "  [253 255 255]\n",
            "  [255 255 254]\n",
            "  [255 254 250]]\n",
            "\n",
            " ...\n",
            "\n",
            " [[255 251 255]\n",
            "  [255 251 255]\n",
            "  [253 255 255]\n",
            "  ...\n",
            "  [255 255 252]\n",
            "  [255 255 252]\n",
            "  [255 255 252]]\n",
            "\n",
            " [[255 252 255]\n",
            "  [255 251 255]\n",
            "  [249 251 251]\n",
            "  ...\n",
            "  [255 255 252]\n",
            "  [250 255 255]\n",
            "  [246 255 255]]\n",
            "\n",
            " [[255 252 255]\n",
            "  [255 254 255]\n",
            "  [253 255 255]\n",
            "  ...\n",
            "  [255 255 252]\n",
            "  [246 255 255]\n",
            "  [243 253 255]]]\n"
          ]
        },
        {
          "output_type": "execute_result",
          "data": {
            "text/plain": [
              "<matplotlib.image.AxesImage at 0x7efffd49a260>"
            ]
          },
          "metadata": {},
          "execution_count": 9
        },
        {
          "output_type": "display_data",
          "data": {
            "text/plain": [
              "<Figure size 480x480 with 1 Axes>"
            ],
            "image/png": "[encoded data removed]"
          },
          "metadata": {}
        }
      ]
    },
    {
      "cell_type": "code",
      "source": [
        "balls_flat = np.stack((balls_folder[i] for i in range(len(balls_folder))))\n",
        "print(balls_flat.shape)"
      ],
      "metadata": {
        "id": "Omkhs4PL99v1",
        "outputId": "5022dc06-2e55-41e3-ddfc-8feb20a52e1d",
        "colab": {
          "base_uri": "https://localhost:8080/"
        }
      },
      "execution_count": 10,
      "outputs": [
        {
          "output_type": "stream",
          "name": "stdout",
          "text": [
            "(553, 28, 28, 3)\n"
          ]
        },
        {
          "output_type": "stream",
          "name": "stderr",
          "text": [
            "/usr/local/lib/python3.10/dist-packages/IPython/core/interactiveshell.py:3473: FutureWarning: arrays to stack must be passed as a \"sequence\" type such as list or tuple. Support for non-sequence iterables such as generators is deprecated as of NumPy 1.16 and will raise an error in the future.\n",
            "  if (await self.run_code(code, result,  async_=asy)):\n"
          ]
        }
      ]
    },
    {
      "cell_type": "code",
      "source": [
        "baseballXX    = 'baseball*'\n",
        "basketballXX  = 'basketball*'\n",
        "billiardsXX   = 'billiards*'\n",
        "bowlingXX     = 'bowling*'\n",
        "footballXX    = 'football*'\n",
        "golfXX        = 'golf*'\n",
        "soccerXX      = 'soccer*'\n",
        "tabletennisXX = 'tabletennis*'\n",
        "tennisXX      = 'tennis*'\n",
        "volleyballXX  = 'volleyball*'\n",
        "s_name         = []\n",
        "for filename in data:\n",
        "  image = cv.imread(filename)\n",
        "  if image.shape == (28,28,3):\n",
        "    if fnmatch.fnmatch(filename, baseballXX) == True:\n",
        "      s_name.append(0)\n",
        "    elif fnmatch.fnmatch(filename, basketballXX) == True:\n",
        "      s_name.append(1)\n",
        "    elif fnmatch.fnmatch(filename, billiardsXX) == True:\n",
        "      s_name.append(2)\n",
        "    elif fnmatch.fnmatch(filename, bowlingXX) == True:\n",
        "      s_name.append(3)\n",
        "    elif fnmatch.fnmatch(filename, footballXX) == True:\n",
        "      s_name.append(4)\n",
        "    elif fnmatch.fnmatch(filename, golfXX) == True:\n",
        "      s_name.append(5)\n",
        "    elif fnmatch.fnmatch(filename, soccerXX) == True:\n",
        "      s_name.append(6)\n",
        "    elif fnmatch.fnmatch(filename, tabletennisXX) == True:\n",
        "      s_name.append(7)\n",
        "    elif fnmatch.fnmatch(filename, tennisXX) == True:\n",
        "      s_name.append(8)\n",
        "    elif fnmatch.fnmatch(filename, volleyballXX) == True:\n",
        "      s_name.append(9)\n",
        "    else:\n",
        "      print(filename + str(' is not accounted.'))\n",
        "\n",
        "s_name = np.reshape(s_name, (len(s_name),))\n",
        "print(s_name.shape)\n",
        "print(s_name)"
      ],
      "metadata": {
        "id": "v98LNmumCoWW",
        "outputId": "69f62b74-629e-47f7-ad87-a78114afbc3c",
        "colab": {
          "base_uri": "https://localhost:8080/"
        }
      },
      "execution_count": 57,
      "outputs": [
        {
          "output_type": "stream",
          "name": "stdout",
          "text": [
            "(553,)\n",
            "[9 5 9 0 6 0 5 8 8 1 1 1 6 8 7 7 8 7 5 2 9 1 7 6 1 0 5 3 6 9 4 4 1 3 2 0 9\n",
            " 4 2 3 6 5 4 4 5 7 4 0 7 3 9 5 8 1 1 4 0 9 9 1 3 2 7 1 4 9 7 6 1 8 9 7 5 1\n",
            " 3 5 1 5 5 2 4 0 8 1 3 0 9 0 2 4 1 8 2 7 6 5 0 1 7 4 3 0 4 0 1 9 3 9 6 1 2\n",
            " 4 2 9 8 4 2 5 4 2 8 7 2 8 1 7 1 7 1 4 6 5 7 1 1 2 7 1 8 4 6 0 4 7 7 5 3 7\n",
            " 1 2 1 3 8 6 5 9 7 5 7 2 8 5 9 1 5 3 6 6 9 5 0 9 0 4 5 8 5 7 6 3 1 4 5 3 0\n",
            " 6 3 7 2 3 1 9 7 3 5 4 2 4 6 5 2 6 7 3 3 7 2 6 1 8 2 5 4 2 2 8 5 1 3 4 4 8\n",
            " 6 0 5 0 5 0 9 8 5 3 8 5 2 9 1 5 1 0 3 4 7 9 3 4 6 7 6 4 3 1 8 2 1 2 1 6 1\n",
            " 1 7 3 3 4 2 5 9 9 0 4 7 2 5 8 4 5 7 1 4 1 1 4 2 8 5 3 9 0 5 5 4 5 6 4 4 8\n",
            " 7 7 3 9 0 6 5 7 7 6 9 8 8 3 6 7 9 2 9 5 5 9 1 4 1 1 1 3 7 4 5 4 5 5 0 0 6\n",
            " 8 5 1 2 0 3 0 0 1 8 8 2 6 5 2 1 8 0 4 9 6 8 0 3 7 4 6 1 7 0 3 4 9 6 9 4 0\n",
            " 6 2 4 6 8 7 1 6 3 6 0 8 5 5 9 6 8 8 9 5 0 3 8 5 1 1 3 5 0 6 4 1 6 1 7 9 5\n",
            " 6 1 0 8 7 7 1 8 8 1 8 9 9 3 2 1 7 2 0 2 4 5 7 1 4 6 2 5 7 2 9 3 5 5 6 8 0\n",
            " 5 0 0 5 0 5 9 7 8 5 7 5 0 0 9 5 4 0 1 6 0 3 2 9 1 0 2 5 6 4 9 5 4 4 3 7 5\n",
            " 3 2 7 6 2 1 4 1 9 7 1 6 5 6 8 9 0 7 6 1 1 4 8 4 9 2 7 8 8 3 2 0 2 7 3 2 3\n",
            " 7 3 7 2 5 8 7 5 7 9 8 3 1 9 3 7 6 6 2 0 0 1 3 5 1 1 7 4 8 8 9 4 2 7 0]\n"
          ]
        }
      ]
    },
    {
      "cell_type": "markdown",
      "source": [
        "#####**Preparing the Data**"
      ],
      "metadata": {
        "id": "gRtywxq-e_9v"
      }
    },
    {
      "cell_type": "code",
      "source": [
        "trainRatio = 70/100\n",
        "testRatio = 15/100\n",
        "valRatio = 15/100\n",
        "X_train,X_test,y_train, y_test = train_test_split(balls_flat, s_name, test_size = 1 - trainRatio)\n",
        "X_val,X_test,y_val, y_test = train_test_split(balls_flat, s_name, test_size = testRatio/(testRatio+valRatio))\n",
        "\n",
        "#trainRatio = 80/100\n",
        "#testRatio = 20/100\n",
        "#X_train,X_test, y_train, y_test = train_test_split(balls_flat, s_name, test_size = 1 - trainRatio)"
      ],
      "metadata": {
        "id": "T6yCmuVfrR8t"
      },
      "execution_count": 178,
      "outputs": []
    },
    {
      "cell_type": "code",
      "source": [
        "X_train = X_train/255\n",
        "X_test = X_test/255\n",
        "\n",
        "print(X_train.shape)\n",
        "print(X_test.shape)"
      ],
      "metadata": {
        "id": "zSJpg4iLStf7",
        "outputId": "96d37aee-d7ff-4bf8-9d91-3116c02c93d3",
        "colab": {
          "base_uri": "https://localhost:8080/"
        }
      },
      "execution_count": 179,
      "outputs": [
        {
          "output_type": "stream",
          "name": "stdout",
          "text": [
            "(387, 28, 28, 3)\n",
            "(277, 28, 28, 3)\n"
          ]
        }
      ]
    },
    {
      "cell_type": "code",
      "source": [
        "X_train_flat = X_train.reshape(len(X_train),28,28,3)\n",
        "X_test_flat = X_test.reshape(len(X_test),28,28,3)\n",
        "print(X_train_flat.shape)\n",
        "print(X_test_flat.shape)"
      ],
      "metadata": {
        "id": "705bnkYTILbA",
        "outputId": "9a710b36-2f0d-452f-e3f0-ce36fb1867f6",
        "colab": {
          "base_uri": "https://localhost:8080/"
        }
      },
      "execution_count": 180,
      "outputs": [
        {
          "output_type": "stream",
          "name": "stdout",
          "text": [
            "(387, 28, 28, 3)\n",
            "(277, 28, 28, 3)\n"
          ]
        }
      ]
    },
    {
      "cell_type": "code",
      "source": [
        "print(X_train.shape)\n",
        "print(y_train.shape)"
      ],
      "metadata": {
        "colab": {
          "base_uri": "https://localhost:8080/"
        },
        "id": "NhSWbd92hy1Q",
        "outputId": "ff2231be-8acf-49b4-d682-f22af1e2805a"
      },
      "execution_count": 150,
      "outputs": [
        {
          "output_type": "stream",
          "name": "stdout",
          "text": [
            "(442, 28, 28, 3)\n",
            "(442,)\n"
          ]
        }
      ]
    },
    {
      "cell_type": "markdown",
      "source": [
        "####**Defining the model**"
      ],
      "metadata": {
        "id": "te95nwDRkTlX"
      }
    },
    {
      "cell_type": "code",
      "source": [
        "model = tf.keras.models.Sequential([\n",
        "    tf.keras.layers.Conv2D(64, (3,3), activation='relu', input_shape=(28,28,3)),\n",
        "    tf.keras.layers.MaxPooling2D(2,2),\n",
        "\n",
        "    tf.keras.layers.Conv2D(128, (3,3), activation='relu'),\n",
        "    tf.keras.layers.MaxPooling2D(2,2),\n",
        "    \n",
        "    tf.keras.layers.Conv2D(128, (3,3), activation='relu'),\n",
        "    tf.keras.layers.MaxPooling2D(2,2),\n",
        "  \n",
        "    tf.keras.layers.Flatten(),\n",
        "    tf.keras.layers.Dropout(0.5),\n",
        "    \n",
        "\n",
        "    tf.keras.layers.Dense(64, activation='relu'),\n",
        "    tf.keras.layers.Dropout(0.5),\n",
        "    tf.keras.layers.Dense(10, activation='softmax')\n",
        "])\n",
        "model.summary()"
      ],
      "metadata": {
        "id": "--pzDKGzSsq7",
        "outputId": "cf62b604-3899-4ac4-c823-6bc79860da35",
        "colab": {
          "base_uri": "https://localhost:8080/"
        }
      },
      "execution_count": 190,
      "outputs": [
        {
          "output_type": "stream",
          "name": "stdout",
          "text": [
            "Model: \"sequential_32\"\n",
            "_________________________________________________________________\n",
            " Layer (type)                Output Shape              Param #   \n",
            "=================================================================\n",
            " conv2d_93 (Conv2D)          (None, 26, 26, 64)        1792      \n",
            "                                                                 \n",
            " max_pooling2d_90 (MaxPoolin  (None, 13, 13, 64)       0         \n",
            " g2D)                                                            \n",
            "                                                                 \n",
            " conv2d_94 (Conv2D)          (None, 11, 11, 128)       73856     \n",
            "                                                                 \n",
            " max_pooling2d_91 (MaxPoolin  (None, 5, 5, 128)        0         \n",
            " g2D)                                                            \n",
            "                                                                 \n",
            " conv2d_95 (Conv2D)          (None, 3, 3, 128)         147584    \n",
            "                                                                 \n",
            " max_pooling2d_92 (MaxPoolin  (None, 1, 1, 128)        0         \n",
            " g2D)                                                            \n",
            "                                                                 \n",
            " flatten_26 (Flatten)        (None, 128)               0         \n",
            "                                                                 \n",
            " dropout_109 (Dropout)       (None, 128)               0         \n",
            "                                                                 \n",
            " dense_66 (Dense)            (None, 64)                8256      \n",
            "                                                                 \n",
            " dropout_110 (Dropout)       (None, 64)                0         \n",
            "                                                                 \n",
            " dense_67 (Dense)            (None, 10)                650       \n",
            "                                                                 \n",
            "=================================================================\n",
            "Total params: 232,138\n",
            "Trainable params: 232,138\n",
            "Non-trainable params: 0\n",
            "_________________________________________________________________\n"
          ]
        }
      ]
    },
    {
      "cell_type": "code",
      "source": [
        "model.compile(keras.optimizers.Adam(learning_rate=0.01),\n",
        "              loss = tf.keras.losses.SparseCategoricalCrossentropy(),\n",
        "              # loss = 'sparse_categorical_crossentropy',\n",
        "              metrics=['accuracy'])\n"
      ],
      "metadata": {
        "id": "6d43j7VSKi3w"
      },
      "execution_count": 191,
      "outputs": []
    },
    {
      "cell_type": "code",
      "source": [
        "history = model.fit(X_train, y_train, epochs=300, validation_data=(X_val, y_val), verbose=1)"
      ],
      "metadata": {
        "id": "ozgUZqSq_WBp",
        "outputId": "6a30e8d2-7b52-48cd-8abb-29984169a90f",
        "colab": {
          "base_uri": "https://localhost:8080/"
        }
      },
      "execution_count": 192,
      "outputs": [
        {
          "output_type": "stream",
          "name": "stdout",
          "text": [
            "Epoch 1/300\n",
            "13/13 [==============================] - 3s 189ms/step - loss: 2.7283 - accuracy: 0.1085 - val_loss: 10.1434 - val_accuracy: 0.1014\n",
            "Epoch 2/300\n",
            "13/13 [==============================] - 2s 169ms/step - loss: 2.3001 - accuracy: 0.1214 - val_loss: 5.1266 - val_accuracy: 0.1449\n",
            "Epoch 3/300\n",
            "13/13 [==============================] - 2s 119ms/step - loss: 2.2959 - accuracy: 0.1111 - val_loss: 11.8873 - val_accuracy: 0.1486\n",
            "Epoch 4/300\n",
            "13/13 [==============================] - 1s 96ms/step - loss: 2.2956 - accuracy: 0.1266 - val_loss: 18.5718 - val_accuracy: 0.1232\n",
            "Epoch 5/300\n",
            "13/13 [==============================] - 1s 97ms/step - loss: 2.2450 - accuracy: 0.1628 - val_loss: 86.9760 - val_accuracy: 0.1087\n",
            "Epoch 6/300\n",
            "13/13 [==============================] - 1s 105ms/step - loss: 2.2476 - accuracy: 0.1550 - val_loss: 48.5617 - val_accuracy: 0.1413\n",
            "Epoch 7/300\n",
            "13/13 [==============================] - 1s 105ms/step - loss: 2.2012 - accuracy: 0.1550 - val_loss: 66.9098 - val_accuracy: 0.1123\n",
            "Epoch 8/300\n",
            "13/13 [==============================] - 1s 106ms/step - loss: 2.1966 - accuracy: 0.1680 - val_loss: 47.7602 - val_accuracy: 0.1667\n",
            "Epoch 9/300\n",
            "13/13 [==============================] - 1s 105ms/step - loss: 2.2335 - accuracy: 0.1550 - val_loss: 18.7376 - val_accuracy: 0.2283\n",
            "Epoch 10/300\n",
            "13/13 [==============================] - 1s 107ms/step - loss: 2.2451 - accuracy: 0.1525 - val_loss: 61.4878 - val_accuracy: 0.1775\n",
            "Epoch 11/300\n",
            "13/13 [==============================] - 2s 195ms/step - loss: 2.2302 - accuracy: 0.1628 - val_loss: 73.2209 - val_accuracy: 0.1812\n",
            "Epoch 12/300\n",
            "13/13 [==============================] - 2s 146ms/step - loss: 2.1293 - accuracy: 0.2119 - val_loss: 98.8621 - val_accuracy: 0.1667\n",
            "Epoch 13/300\n",
            "13/13 [==============================] - 1s 106ms/step - loss: 2.0696 - accuracy: 0.2119 - val_loss: 106.8079 - val_accuracy: 0.1884\n",
            "Epoch 14/300\n",
            "13/13 [==============================] - 1s 94ms/step - loss: 2.0584 - accuracy: 0.1990 - val_loss: 134.6059 - val_accuracy: 0.1594\n",
            "Epoch 15/300\n",
            "13/13 [==============================] - 1s 107ms/step - loss: 2.0042 - accuracy: 0.2300 - val_loss: 173.3500 - val_accuracy: 0.1957\n",
            "Epoch 16/300\n",
            "13/13 [==============================] - 1s 105ms/step - loss: 1.9835 - accuracy: 0.2558 - val_loss: 304.7802 - val_accuracy: 0.1558\n",
            "Epoch 17/300\n",
            "13/13 [==============================] - 1s 93ms/step - loss: 2.0664 - accuracy: 0.2558 - val_loss: 209.5986 - val_accuracy: 0.1413\n",
            "Epoch 18/300\n",
            "13/13 [==============================] - 1s 96ms/step - loss: 1.9672 - accuracy: 0.2351 - val_loss: 175.0026 - val_accuracy: 0.1667\n",
            "Epoch 19/300\n",
            "13/13 [==============================] - 1s 106ms/step - loss: 1.9926 - accuracy: 0.2171 - val_loss: 217.5022 - val_accuracy: 0.2138\n",
            "Epoch 20/300\n",
            "13/13 [==============================] - 2s 158ms/step - loss: 1.9013 - accuracy: 0.2791 - val_loss: 154.2829 - val_accuracy: 0.2101\n",
            "Epoch 21/300\n",
            "13/13 [==============================] - 2s 168ms/step - loss: 1.8773 - accuracy: 0.2868 - val_loss: 233.6168 - val_accuracy: 0.1775\n",
            "Epoch 22/300\n",
            "13/13 [==============================] - 2s 135ms/step - loss: 1.8688 - accuracy: 0.2972 - val_loss: 233.8887 - val_accuracy: 0.1486\n",
            "Epoch 23/300\n",
            "13/13 [==============================] - 1s 94ms/step - loss: 1.8574 - accuracy: 0.2713 - val_loss: 315.5123 - val_accuracy: 0.1377\n",
            "Epoch 24/300\n",
            "13/13 [==============================] - 1s 107ms/step - loss: 2.0384 - accuracy: 0.2713 - val_loss: 110.0058 - val_accuracy: 0.1957\n",
            "Epoch 25/300\n",
            "13/13 [==============================] - 1s 94ms/step - loss: 1.9117 - accuracy: 0.2429 - val_loss: 259.3465 - val_accuracy: 0.1558\n",
            "Epoch 26/300\n",
            "13/13 [==============================] - 1s 93ms/step - loss: 1.7972 - accuracy: 0.2997 - val_loss: 199.4698 - val_accuracy: 0.1558\n",
            "Epoch 27/300\n",
            "13/13 [==============================] - 1s 107ms/step - loss: 1.7621 - accuracy: 0.3721 - val_loss: 193.2902 - val_accuracy: 0.2029\n",
            "Epoch 28/300\n",
            "13/13 [==============================] - 1s 94ms/step - loss: 1.8235 - accuracy: 0.3282 - val_loss: 275.8183 - val_accuracy: 0.1522\n",
            "Epoch 29/300\n",
            "13/13 [==============================] - 1s 106ms/step - loss: 1.7507 - accuracy: 0.3307 - val_loss: 360.7384 - val_accuracy: 0.1667\n",
            "Epoch 30/300\n",
            "13/13 [==============================] - 2s 153ms/step - loss: 1.6429 - accuracy: 0.3876 - val_loss: 202.9409 - val_accuracy: 0.1957\n",
            "Epoch 31/300\n",
            "13/13 [==============================] - 2s 194ms/step - loss: 1.5977 - accuracy: 0.3824 - val_loss: 283.1568 - val_accuracy: 0.1920\n",
            "Epoch 32/300\n",
            "13/13 [==============================] - 2s 116ms/step - loss: 1.6007 - accuracy: 0.3902 - val_loss: 260.8731 - val_accuracy: 0.2101\n",
            "Epoch 33/300\n",
            "13/13 [==============================] - 1s 106ms/step - loss: 1.5542 - accuracy: 0.4160 - val_loss: 250.6640 - val_accuracy: 0.1812\n",
            "Epoch 34/300\n",
            "13/13 [==============================] - 1s 106ms/step - loss: 1.6067 - accuracy: 0.4315 - val_loss: 404.6587 - val_accuracy: 0.1703\n",
            "Epoch 35/300\n",
            "13/13 [==============================] - 1s 97ms/step - loss: 1.5285 - accuracy: 0.4212 - val_loss: 359.5963 - val_accuracy: 0.1703\n",
            "Epoch 36/300\n",
            "13/13 [==============================] - 1s 107ms/step - loss: 1.4047 - accuracy: 0.4522 - val_loss: 599.1476 - val_accuracy: 0.1522\n",
            "Epoch 37/300\n",
            "13/13 [==============================] - 1s 96ms/step - loss: 1.4333 - accuracy: 0.4419 - val_loss: 704.5529 - val_accuracy: 0.1522\n",
            "Epoch 38/300\n",
            "13/13 [==============================] - 1s 95ms/step - loss: 1.3784 - accuracy: 0.4677 - val_loss: 560.6759 - val_accuracy: 0.1667\n",
            "Epoch 39/300\n",
            "13/13 [==============================] - 1s 106ms/step - loss: 1.3795 - accuracy: 0.4858 - val_loss: 551.6745 - val_accuracy: 0.1703\n",
            "Epoch 40/300\n",
            "13/13 [==============================] - 2s 165ms/step - loss: 1.4525 - accuracy: 0.4057 - val_loss: 571.3362 - val_accuracy: 0.1486\n",
            "Epoch 41/300\n",
            "13/13 [==============================] - 2s 168ms/step - loss: 1.5316 - accuracy: 0.4109 - val_loss: 313.4130 - val_accuracy: 0.2174\n",
            "Epoch 42/300\n",
            "13/13 [==============================] - 1s 93ms/step - loss: 1.4932 - accuracy: 0.4057 - val_loss: 374.9993 - val_accuracy: 0.3080\n",
            "Epoch 43/300\n",
            "13/13 [==============================] - 1s 105ms/step - loss: 1.3565 - accuracy: 0.4703 - val_loss: 427.5702 - val_accuracy: 0.2899\n",
            "Epoch 44/300\n",
            "13/13 [==============================] - 2s 163ms/step - loss: 1.3147 - accuracy: 0.4729 - val_loss: 830.3758 - val_accuracy: 0.1486\n",
            "Epoch 45/300\n",
            "13/13 [==============================] - 1s 107ms/step - loss: 1.3729 - accuracy: 0.4677 - val_loss: 593.3783 - val_accuracy: 0.1449\n",
            "Epoch 46/300\n",
            "13/13 [==============================] - 1s 95ms/step - loss: 1.3078 - accuracy: 0.5065 - val_loss: 587.7130 - val_accuracy: 0.2065\n",
            "Epoch 47/300\n",
            "13/13 [==============================] - 1s 106ms/step - loss: 1.3188 - accuracy: 0.5142 - val_loss: 450.7307 - val_accuracy: 0.2464\n",
            "Epoch 48/300\n",
            "13/13 [==============================] - 1s 106ms/step - loss: 1.2246 - accuracy: 0.5116 - val_loss: 855.0754 - val_accuracy: 0.1594\n",
            "Epoch 49/300\n",
            "13/13 [==============================] - 2s 186ms/step - loss: 1.2245 - accuracy: 0.5401 - val_loss: 588.8018 - val_accuracy: 0.1667\n",
            "Epoch 50/300\n",
            "13/13 [==============================] - 2s 166ms/step - loss: 1.1482 - accuracy: 0.5633 - val_loss: 718.1690 - val_accuracy: 0.1957\n",
            "Epoch 51/300\n",
            "13/13 [==============================] - 1s 95ms/step - loss: 1.1272 - accuracy: 0.5530 - val_loss: 395.5489 - val_accuracy: 0.2536\n",
            "Epoch 52/300\n",
            "13/13 [==============================] - 1s 107ms/step - loss: 1.3276 - accuracy: 0.5220 - val_loss: 1457.6132 - val_accuracy: 0.1341\n",
            "Epoch 53/300\n",
            "13/13 [==============================] - 1s 94ms/step - loss: 1.2372 - accuracy: 0.5142 - val_loss: 741.4232 - val_accuracy: 0.1957\n",
            "Epoch 54/300\n",
            "13/13 [==============================] - 1s 106ms/step - loss: 1.4459 - accuracy: 0.4755 - val_loss: 831.3044 - val_accuracy: 0.1486\n",
            "Epoch 55/300\n",
            "13/13 [==============================] - 1s 108ms/step - loss: 1.4360 - accuracy: 0.4574 - val_loss: 1448.1394 - val_accuracy: 0.1051\n",
            "Epoch 56/300\n",
            "13/13 [==============================] - 1s 108ms/step - loss: 1.4782 - accuracy: 0.4935 - val_loss: 1662.6318 - val_accuracy: 0.1123\n",
            "Epoch 57/300\n",
            "13/13 [==============================] - 1s 106ms/step - loss: 1.2652 - accuracy: 0.5375 - val_loss: 1427.2598 - val_accuracy: 0.1377\n",
            "Epoch 58/300\n",
            "13/13 [==============================] - 2s 119ms/step - loss: 1.2349 - accuracy: 0.5065 - val_loss: 1306.2805 - val_accuracy: 0.1304\n",
            "Epoch 59/300\n",
            "13/13 [==============================] - 2s 194ms/step - loss: 1.1888 - accuracy: 0.5245 - val_loss: 1841.6129 - val_accuracy: 0.1051\n",
            "Epoch 60/300\n",
            "13/13 [==============================] - 2s 146ms/step - loss: 1.1529 - accuracy: 0.5840 - val_loss: 818.2842 - val_accuracy: 0.1920\n",
            "Epoch 61/300\n",
            "13/13 [==============================] - 1s 107ms/step - loss: 1.1769 - accuracy: 0.5375 - val_loss: 1327.0984 - val_accuracy: 0.1232\n",
            "Epoch 62/300\n",
            "13/13 [==============================] - 1s 105ms/step - loss: 1.0827 - accuracy: 0.6021 - val_loss: 1804.9851 - val_accuracy: 0.1123\n",
            "Epoch 63/300\n",
            "13/13 [==============================] - 1s 106ms/step - loss: 1.1634 - accuracy: 0.5556 - val_loss: 1462.6910 - val_accuracy: 0.1558\n",
            "Epoch 64/300\n",
            "13/13 [==============================] - 1s 96ms/step - loss: 1.0554 - accuracy: 0.5840 - val_loss: 1373.2694 - val_accuracy: 0.1775\n",
            "Epoch 65/300\n",
            "13/13 [==============================] - 1s 95ms/step - loss: 1.0403 - accuracy: 0.5943 - val_loss: 1528.9336 - val_accuracy: 0.1486\n",
            "Epoch 66/300\n",
            "13/13 [==============================] - 1s 94ms/step - loss: 1.0850 - accuracy: 0.5711 - val_loss: 1734.4148 - val_accuracy: 0.1522\n",
            "Epoch 67/300\n",
            "13/13 [==============================] - 1s 95ms/step - loss: 0.9969 - accuracy: 0.6253 - val_loss: 2197.3787 - val_accuracy: 0.1341\n",
            "Epoch 68/300\n",
            "13/13 [==============================] - 2s 146ms/step - loss: 1.0229 - accuracy: 0.6357 - val_loss: 1255.1785 - val_accuracy: 0.1667\n",
            "Epoch 69/300\n",
            "13/13 [==============================] - 2s 193ms/step - loss: 0.9900 - accuracy: 0.6098 - val_loss: 1508.0663 - val_accuracy: 0.1812\n",
            "Epoch 70/300\n",
            "13/13 [==============================] - 2s 122ms/step - loss: 0.9458 - accuracy: 0.6408 - val_loss: 1497.1964 - val_accuracy: 0.1594\n",
            "Epoch 71/300\n",
            "13/13 [==============================] - 2s 151ms/step - loss: 0.9231 - accuracy: 0.6357 - val_loss: 1501.9196 - val_accuracy: 0.1630\n",
            "Epoch 72/300\n",
            "13/13 [==============================] - 2s 160ms/step - loss: 1.0020 - accuracy: 0.6279 - val_loss: 1828.9070 - val_accuracy: 0.1630\n",
            "Epoch 73/300\n",
            "13/13 [==============================] - 1s 107ms/step - loss: 1.0931 - accuracy: 0.6021 - val_loss: 1703.2554 - val_accuracy: 0.1522\n",
            "Epoch 74/300\n",
            "13/13 [==============================] - 1s 97ms/step - loss: 0.9947 - accuracy: 0.6382 - val_loss: 1375.8494 - val_accuracy: 0.1594\n",
            "Epoch 75/300\n",
            "13/13 [==============================] - 1s 95ms/step - loss: 0.9594 - accuracy: 0.6589 - val_loss: 1695.9882 - val_accuracy: 0.1486\n",
            "Epoch 76/300\n",
            "13/13 [==============================] - 1s 95ms/step - loss: 0.9896 - accuracy: 0.6150 - val_loss: 1308.9922 - val_accuracy: 0.1703\n",
            "Epoch 77/300\n",
            "13/13 [==============================] - 2s 166ms/step - loss: 0.9369 - accuracy: 0.6408 - val_loss: 1343.5060 - val_accuracy: 0.1957\n",
            "Epoch 78/300\n",
            "13/13 [==============================] - 2s 169ms/step - loss: 1.1671 - accuracy: 0.6047 - val_loss: 1150.6052 - val_accuracy: 0.1920\n",
            "Epoch 79/300\n",
            "13/13 [==============================] - 2s 115ms/step - loss: 1.0788 - accuracy: 0.5917 - val_loss: 1685.5042 - val_accuracy: 0.1486\n",
            "Epoch 80/300\n",
            "13/13 [==============================] - 1s 94ms/step - loss: 1.1390 - accuracy: 0.5685 - val_loss: 1714.7710 - val_accuracy: 0.1377\n",
            "Epoch 81/300\n",
            "13/13 [==============================] - 1s 95ms/step - loss: 1.3559 - accuracy: 0.5401 - val_loss: 3623.3455 - val_accuracy: 0.1014\n",
            "Epoch 82/300\n",
            "13/13 [==============================] - 1s 106ms/step - loss: 1.2381 - accuracy: 0.5401 - val_loss: 1223.9751 - val_accuracy: 0.1703\n",
            "Epoch 83/300\n",
            "13/13 [==============================] - 1s 105ms/step - loss: 1.1891 - accuracy: 0.5711 - val_loss: 1371.5547 - val_accuracy: 0.1812\n",
            "Epoch 84/300\n",
            "13/13 [==============================] - 1s 106ms/step - loss: 1.1929 - accuracy: 0.5840 - val_loss: 1242.0863 - val_accuracy: 0.1848\n",
            "Epoch 85/300\n",
            "13/13 [==============================] - 1s 94ms/step - loss: 1.0997 - accuracy: 0.6434 - val_loss: 2090.9900 - val_accuracy: 0.1341\n",
            "Epoch 86/300\n",
            "13/13 [==============================] - 1s 106ms/step - loss: 1.0306 - accuracy: 0.6150 - val_loss: 1475.3422 - val_accuracy: 0.1522\n",
            "Epoch 87/300\n",
            "13/13 [==============================] - 2s 166ms/step - loss: 1.1755 - accuracy: 0.5711 - val_loss: 900.6596 - val_accuracy: 0.2101\n",
            "Epoch 88/300\n",
            "13/13 [==============================] - 2s 167ms/step - loss: 1.0902 - accuracy: 0.5969 - val_loss: 1272.2106 - val_accuracy: 0.1630\n",
            "Epoch 89/300\n",
            "13/13 [==============================] - 1s 109ms/step - loss: 1.1338 - accuracy: 0.6176 - val_loss: 1830.1249 - val_accuracy: 0.1594\n",
            "Epoch 90/300\n",
            "13/13 [==============================] - 1s 106ms/step - loss: 1.0995 - accuracy: 0.5788 - val_loss: 1622.1394 - val_accuracy: 0.1594\n",
            "Epoch 91/300\n",
            "13/13 [==============================] - 1s 106ms/step - loss: 1.0282 - accuracy: 0.6253 - val_loss: 1219.6458 - val_accuracy: 0.1775\n",
            "Epoch 92/300\n",
            "13/13 [==============================] - 1s 106ms/step - loss: 1.0602 - accuracy: 0.5917 - val_loss: 1356.9097 - val_accuracy: 0.1558\n",
            "Epoch 93/300\n",
            "13/13 [==============================] - 1s 107ms/step - loss: 0.9861 - accuracy: 0.6305 - val_loss: 1244.8125 - val_accuracy: 0.1739\n",
            "Epoch 94/300\n",
            "13/13 [==============================] - 1s 96ms/step - loss: 0.9645 - accuracy: 0.6382 - val_loss: 1125.7057 - val_accuracy: 0.2029\n",
            "Epoch 95/300\n",
            "13/13 [==============================] - 1s 106ms/step - loss: 0.9219 - accuracy: 0.6408 - val_loss: 1781.8263 - val_accuracy: 0.1594\n",
            "Epoch 96/300\n",
            "13/13 [==============================] - 2s 128ms/step - loss: 0.9281 - accuracy: 0.6563 - val_loss: 1395.8325 - val_accuracy: 0.1594\n",
            "Epoch 97/300\n",
            "13/13 [==============================] - 2s 192ms/step - loss: 0.9789 - accuracy: 0.6047 - val_loss: 1630.4513 - val_accuracy: 0.1594\n",
            "Epoch 98/300\n",
            "13/13 [==============================] - 2s 130ms/step - loss: 0.9309 - accuracy: 0.6382 - val_loss: 1522.8195 - val_accuracy: 0.1703\n",
            "Epoch 99/300\n",
            "13/13 [==============================] - 1s 97ms/step - loss: 0.9041 - accuracy: 0.6072 - val_loss: 1337.2373 - val_accuracy: 0.1703\n",
            "Epoch 100/300\n",
            "13/13 [==============================] - 1s 94ms/step - loss: 0.9358 - accuracy: 0.6047 - val_loss: 1419.5388 - val_accuracy: 0.1703\n",
            "Epoch 101/300\n",
            "13/13 [==============================] - 1s 107ms/step - loss: 0.8843 - accuracy: 0.6434 - val_loss: 2045.1259 - val_accuracy: 0.1486\n",
            "Epoch 102/300\n",
            "13/13 [==============================] - 1s 105ms/step - loss: 0.8660 - accuracy: 0.6512 - val_loss: 2021.4656 - val_accuracy: 0.1413\n",
            "Epoch 103/300\n",
            "13/13 [==============================] - 1s 96ms/step - loss: 0.7595 - accuracy: 0.6925 - val_loss: 1621.8317 - val_accuracy: 0.1667\n",
            "Epoch 104/300\n",
            "13/13 [==============================] - 1s 106ms/step - loss: 0.7758 - accuracy: 0.6770 - val_loss: 1519.2321 - val_accuracy: 0.1848\n",
            "Epoch 105/300\n",
            "13/13 [==============================] - 1s 106ms/step - loss: 0.8625 - accuracy: 0.6667 - val_loss: 2334.4797 - val_accuracy: 0.1341\n",
            "Epoch 106/300\n",
            "13/13 [==============================] - 2s 153ms/step - loss: 0.7909 - accuracy: 0.7054 - val_loss: 2102.5830 - val_accuracy: 0.1449\n",
            "Epoch 107/300\n",
            "13/13 [==============================] - 2s 191ms/step - loss: 0.7611 - accuracy: 0.7003 - val_loss: 1622.0630 - val_accuracy: 0.1594\n",
            "Epoch 108/300\n",
            "13/13 [==============================] - 1s 108ms/step - loss: 0.7184 - accuracy: 0.7054 - val_loss: 1338.1075 - val_accuracy: 0.1884\n",
            "Epoch 109/300\n",
            "13/13 [==============================] - 1s 98ms/step - loss: 0.8374 - accuracy: 0.6460 - val_loss: 1480.3914 - val_accuracy: 0.1812\n",
            "Epoch 110/300\n",
            "13/13 [==============================] - 1s 95ms/step - loss: 0.7988 - accuracy: 0.6822 - val_loss: 1412.8540 - val_accuracy: 0.2065\n",
            "Epoch 111/300\n",
            "13/13 [==============================] - 1s 108ms/step - loss: 0.8180 - accuracy: 0.6434 - val_loss: 1758.3491 - val_accuracy: 0.1486\n",
            "Epoch 112/300\n",
            "13/13 [==============================] - 1s 95ms/step - loss: 0.7494 - accuracy: 0.7028 - val_loss: 1624.7505 - val_accuracy: 0.1486\n",
            "Epoch 113/300\n",
            "13/13 [==============================] - 1s 106ms/step - loss: 0.7541 - accuracy: 0.6977 - val_loss: 2351.1401 - val_accuracy: 0.1449\n",
            "Epoch 114/300\n",
            "13/13 [==============================] - 1s 109ms/step - loss: 0.7377 - accuracy: 0.7132 - val_loss: 2617.5386 - val_accuracy: 0.1377\n",
            "Epoch 115/300\n",
            "13/13 [==============================] - 1s 105ms/step - loss: 0.9128 - accuracy: 0.6641 - val_loss: 2343.0144 - val_accuracy: 0.1486\n",
            "Epoch 116/300\n",
            "13/13 [==============================] - 2s 167ms/step - loss: 0.8820 - accuracy: 0.6615 - val_loss: 1288.8657 - val_accuracy: 0.1377\n",
            "Epoch 117/300\n",
            "13/13 [==============================] - 2s 168ms/step - loss: 0.7845 - accuracy: 0.7080 - val_loss: 1793.5570 - val_accuracy: 0.1486\n",
            "Epoch 118/300\n",
            "13/13 [==============================] - 1s 106ms/step - loss: 0.8245 - accuracy: 0.6873 - val_loss: 1697.2123 - val_accuracy: 0.1449\n",
            "Epoch 119/300\n",
            "13/13 [==============================] - 1s 107ms/step - loss: 1.2370 - accuracy: 0.5917 - val_loss: 1487.4598 - val_accuracy: 0.1123\n",
            "Epoch 120/300\n",
            "13/13 [==============================] - 1s 96ms/step - loss: 1.1029 - accuracy: 0.6021 - val_loss: 1191.2072 - val_accuracy: 0.1486\n",
            "Epoch 121/300\n",
            "13/13 [==============================] - 1s 95ms/step - loss: 1.1152 - accuracy: 0.6021 - val_loss: 2492.5251 - val_accuracy: 0.1377\n",
            "Epoch 122/300\n",
            "13/13 [==============================] - 1s 95ms/step - loss: 0.9672 - accuracy: 0.6408 - val_loss: 1734.9609 - val_accuracy: 0.1775\n",
            "Epoch 123/300\n",
            "13/13 [==============================] - 1s 96ms/step - loss: 1.0084 - accuracy: 0.6098 - val_loss: 1565.7904 - val_accuracy: 0.1703\n",
            "Epoch 124/300\n",
            "13/13 [==============================] - 1s 105ms/step - loss: 0.8807 - accuracy: 0.6718 - val_loss: 950.9489 - val_accuracy: 0.2681\n",
            "Epoch 125/300\n",
            "13/13 [==============================] - 1s 96ms/step - loss: 0.9150 - accuracy: 0.6460 - val_loss: 951.4091 - val_accuracy: 0.2754\n",
            "Epoch 126/300\n",
            "13/13 [==============================] - 2s 168ms/step - loss: 0.8771 - accuracy: 0.6951 - val_loss: 939.8179 - val_accuracy: 0.2283\n",
            "Epoch 127/300\n",
            "13/13 [==============================] - 2s 169ms/step - loss: 0.7760 - accuracy: 0.7209 - val_loss: 951.0826 - val_accuracy: 0.2536\n",
            "Epoch 128/300\n",
            "13/13 [==============================] - 2s 121ms/step - loss: 0.9841 - accuracy: 0.6848 - val_loss: 809.3733 - val_accuracy: 0.2971\n",
            "Epoch 129/300\n",
            "13/13 [==============================] - 1s 106ms/step - loss: 0.8084 - accuracy: 0.6693 - val_loss: 986.4962 - val_accuracy: 0.2717\n",
            "Epoch 130/300\n",
            "13/13 [==============================] - 1s 95ms/step - loss: 0.7386 - accuracy: 0.7106 - val_loss: 1084.4253 - val_accuracy: 0.2609\n",
            "Epoch 131/300\n",
            "13/13 [==============================] - 1s 95ms/step - loss: 0.9383 - accuracy: 0.6796 - val_loss: 843.9734 - val_accuracy: 0.2754\n",
            "Epoch 132/300\n",
            "13/13 [==============================] - 1s 97ms/step - loss: 1.4337 - accuracy: 0.5633 - val_loss: 1145.9287 - val_accuracy: 0.2391\n",
            "Epoch 133/300\n",
            "13/13 [==============================] - 1s 107ms/step - loss: 1.4003 - accuracy: 0.5581 - val_loss: 1148.0555 - val_accuracy: 0.2862\n",
            "Epoch 134/300\n",
            "13/13 [==============================] - 1s 109ms/step - loss: 1.1690 - accuracy: 0.5633 - val_loss: 1008.7642 - val_accuracy: 0.2355\n",
            "Epoch 135/300\n",
            "13/13 [==============================] - 1s 100ms/step - loss: 1.0072 - accuracy: 0.6486 - val_loss: 1008.7612 - val_accuracy: 0.2428\n",
            "Epoch 136/300\n",
            "13/13 [==============================] - 2s 161ms/step - loss: 0.9857 - accuracy: 0.6150 - val_loss: 1374.9834 - val_accuracy: 0.1920\n",
            "Epoch 137/300\n",
            "13/13 [==============================] - 3s 199ms/step - loss: 0.9152 - accuracy: 0.6744 - val_loss: 651.3967 - val_accuracy: 0.2609\n",
            "Epoch 138/300\n",
            "13/13 [==============================] - 1s 95ms/step - loss: 0.9334 - accuracy: 0.6512 - val_loss: 1215.3724 - val_accuracy: 0.1993\n",
            "Epoch 139/300\n",
            "13/13 [==============================] - 1s 108ms/step - loss: 0.9002 - accuracy: 0.6873 - val_loss: 769.0950 - val_accuracy: 0.2826\n",
            "Epoch 140/300\n",
            "13/13 [==============================] - 1s 98ms/step - loss: 0.8902 - accuracy: 0.7106 - val_loss: 909.4822 - val_accuracy: 0.2717\n",
            "Epoch 141/300\n",
            "13/13 [==============================] - 1s 107ms/step - loss: 0.7968 - accuracy: 0.7054 - val_loss: 1199.9897 - val_accuracy: 0.2391\n",
            "Epoch 142/300\n",
            "13/13 [==============================] - 1s 107ms/step - loss: 0.8692 - accuracy: 0.6822 - val_loss: 833.4526 - val_accuracy: 0.2681\n",
            "Epoch 143/300\n",
            "13/13 [==============================] - 1s 107ms/step - loss: 0.7579 - accuracy: 0.7313 - val_loss: 1089.9834 - val_accuracy: 0.2283\n",
            "Epoch 144/300\n",
            "13/13 [==============================] - 1s 108ms/step - loss: 0.7517 - accuracy: 0.7106 - val_loss: 1442.5747 - val_accuracy: 0.2355\n",
            "Epoch 145/300\n",
            "13/13 [==============================] - 2s 166ms/step - loss: 1.3988 - accuracy: 0.5814 - val_loss: 1086.5375 - val_accuracy: 0.1884\n",
            "Epoch 146/300\n",
            "13/13 [==============================] - 2s 195ms/step - loss: 1.0364 - accuracy: 0.6227 - val_loss: 1168.8754 - val_accuracy: 0.1884\n",
            "Epoch 147/300\n",
            "13/13 [==============================] - 1s 110ms/step - loss: 1.0337 - accuracy: 0.6460 - val_loss: 1066.6620 - val_accuracy: 0.2572\n",
            "Epoch 148/300\n",
            "13/13 [==============================] - 1s 95ms/step - loss: 0.9284 - accuracy: 0.6718 - val_loss: 763.0653 - val_accuracy: 0.3116\n",
            "Epoch 149/300\n",
            "13/13 [==============================] - 1s 95ms/step - loss: 0.8584 - accuracy: 0.6589 - val_loss: 1125.3750 - val_accuracy: 0.2464\n",
            "Epoch 150/300\n",
            "13/13 [==============================] - 1s 94ms/step - loss: 0.7887 - accuracy: 0.7080 - val_loss: 1390.9421 - val_accuracy: 0.2319\n",
            "Epoch 151/300\n",
            "13/13 [==============================] - 1s 97ms/step - loss: 0.9743 - accuracy: 0.6977 - val_loss: 1757.5414 - val_accuracy: 0.1739\n",
            "Epoch 152/300\n",
            "13/13 [==============================] - 1s 94ms/step - loss: 0.7514 - accuracy: 0.7390 - val_loss: 2139.6382 - val_accuracy: 0.1486\n",
            "Epoch 153/300\n",
            "13/13 [==============================] - 1s 95ms/step - loss: 0.8342 - accuracy: 0.6951 - val_loss: 1173.7250 - val_accuracy: 0.2029\n",
            "Epoch 154/300\n",
            "13/13 [==============================] - 1s 106ms/step - loss: 0.8086 - accuracy: 0.6977 - val_loss: 1737.4569 - val_accuracy: 0.1775\n",
            "Epoch 155/300\n",
            "13/13 [==============================] - 2s 166ms/step - loss: 0.9264 - accuracy: 0.6305 - val_loss: 1309.8259 - val_accuracy: 0.2174\n",
            "Epoch 156/300\n",
            "13/13 [==============================] - 2s 169ms/step - loss: 0.7622 - accuracy: 0.7183 - val_loss: 2052.6106 - val_accuracy: 0.1667\n",
            "Epoch 157/300\n",
            "13/13 [==============================] - 2s 120ms/step - loss: 0.6637 - accuracy: 0.7416 - val_loss: 2247.2678 - val_accuracy: 0.1703\n",
            "Epoch 158/300\n",
            "13/13 [==============================] - 1s 107ms/step - loss: 0.7287 - accuracy: 0.7209 - val_loss: 2121.0920 - val_accuracy: 0.1558\n",
            "Epoch 159/300\n",
            "13/13 [==============================] - 1s 95ms/step - loss: 0.9321 - accuracy: 0.7003 - val_loss: 1412.7115 - val_accuracy: 0.1920\n",
            "Epoch 160/300\n",
            "13/13 [==============================] - 1s 95ms/step - loss: 0.8299 - accuracy: 0.6770 - val_loss: 1715.9465 - val_accuracy: 0.1739\n",
            "Epoch 161/300\n",
            "13/13 [==============================] - 1s 95ms/step - loss: 0.9230 - accuracy: 0.6899 - val_loss: 943.5922 - val_accuracy: 0.3478\n",
            "Epoch 162/300\n",
            "13/13 [==============================] - 1s 108ms/step - loss: 0.8851 - accuracy: 0.6925 - val_loss: 1089.3964 - val_accuracy: 0.2790\n",
            "Epoch 163/300\n",
            "13/13 [==============================] - 1s 95ms/step - loss: 0.7721 - accuracy: 0.7028 - val_loss: 1170.3761 - val_accuracy: 0.2717\n",
            "Epoch 164/300\n",
            "13/13 [==============================] - 1s 107ms/step - loss: 0.7329 - accuracy: 0.7080 - val_loss: 1161.8265 - val_accuracy: 0.2681\n",
            "Epoch 165/300\n",
            "13/13 [==============================] - 2s 167ms/step - loss: 0.7195 - accuracy: 0.7390 - val_loss: 1354.3346 - val_accuracy: 0.2101\n",
            "Epoch 166/300\n",
            "13/13 [==============================] - 2s 195ms/step - loss: 0.7258 - accuracy: 0.7364 - val_loss: 1133.5959 - val_accuracy: 0.3152\n",
            "Epoch 167/300\n",
            "13/13 [==============================] - 1s 108ms/step - loss: 0.7500 - accuracy: 0.7106 - val_loss: 1050.5695 - val_accuracy: 0.3261\n",
            "Epoch 168/300\n",
            "13/13 [==============================] - 1s 107ms/step - loss: 0.7213 - accuracy: 0.7416 - val_loss: 1029.4658 - val_accuracy: 0.3080\n",
            "Epoch 169/300\n",
            "13/13 [==============================] - 1s 106ms/step - loss: 0.7441 - accuracy: 0.7183 - val_loss: 664.2550 - val_accuracy: 0.3659\n",
            "Epoch 170/300\n",
            "13/13 [==============================] - 1s 97ms/step - loss: 0.7793 - accuracy: 0.7209 - val_loss: 895.9133 - val_accuracy: 0.3406\n",
            "Epoch 171/300\n",
            "13/13 [==============================] - 1s 108ms/step - loss: 0.7738 - accuracy: 0.7287 - val_loss: 918.2355 - val_accuracy: 0.3297\n",
            "Epoch 172/300\n",
            "13/13 [==============================] - 1s 97ms/step - loss: 0.6663 - accuracy: 0.7545 - val_loss: 1550.2789 - val_accuracy: 0.2500\n",
            "Epoch 173/300\n",
            "13/13 [==============================] - 1s 96ms/step - loss: 0.7529 - accuracy: 0.7390 - val_loss: 794.2518 - val_accuracy: 0.3587\n",
            "Epoch 174/300\n",
            "13/13 [==============================] - 2s 160ms/step - loss: 0.8619 - accuracy: 0.7080 - val_loss: 972.4582 - val_accuracy: 0.3478\n",
            "Epoch 175/300\n",
            "13/13 [==============================] - 2s 165ms/step - loss: 0.8994 - accuracy: 0.6770 - val_loss: 2062.1882 - val_accuracy: 0.1957\n",
            "Epoch 176/300\n",
            "13/13 [==============================] - 2s 131ms/step - loss: 0.8707 - accuracy: 0.7054 - val_loss: 1179.6034 - val_accuracy: 0.2862\n",
            "Epoch 177/300\n",
            "13/13 [==============================] - 1s 106ms/step - loss: 0.9663 - accuracy: 0.7209 - val_loss: 1152.8400 - val_accuracy: 0.2572\n",
            "Epoch 178/300\n",
            "13/13 [==============================] - 1s 96ms/step - loss: 0.7308 - accuracy: 0.7158 - val_loss: 1180.9806 - val_accuracy: 0.3043\n",
            "Epoch 179/300\n",
            "13/13 [==============================] - 1s 107ms/step - loss: 0.6655 - accuracy: 0.7339 - val_loss: 1923.0444 - val_accuracy: 0.2065\n",
            "Epoch 180/300\n",
            "13/13 [==============================] - 1s 107ms/step - loss: 0.7134 - accuracy: 0.7468 - val_loss: 1135.9298 - val_accuracy: 0.2899\n",
            "Epoch 181/300\n",
            "13/13 [==============================] - 1s 108ms/step - loss: 0.6481 - accuracy: 0.7700 - val_loss: 1073.5479 - val_accuracy: 0.3152\n",
            "Epoch 182/300\n",
            "13/13 [==============================] - 1s 99ms/step - loss: 0.6150 - accuracy: 0.7649 - val_loss: 1219.5037 - val_accuracy: 0.3043\n",
            "Epoch 183/300\n",
            "13/13 [==============================] - 1s 96ms/step - loss: 0.6104 - accuracy: 0.7597 - val_loss: 1584.8906 - val_accuracy: 0.2681\n",
            "Epoch 184/300\n",
            "13/13 [==============================] - 2s 160ms/step - loss: 0.6971 - accuracy: 0.7519 - val_loss: 1880.5151 - val_accuracy: 0.2138\n",
            "Epoch 185/300\n",
            "13/13 [==============================] - 2s 168ms/step - loss: 1.5025 - accuracy: 0.5788 - val_loss: 670.2123 - val_accuracy: 0.2971\n",
            "Epoch 186/300\n",
            "13/13 [==============================] - 2s 131ms/step - loss: 1.0916 - accuracy: 0.6305 - val_loss: 1381.0844 - val_accuracy: 0.1630\n",
            "Epoch 187/300\n",
            "13/13 [==============================] - 1s 107ms/step - loss: 0.8716 - accuracy: 0.6770 - val_loss: 952.5071 - val_accuracy: 0.1957\n",
            "Epoch 188/300\n",
            "13/13 [==============================] - 1s 96ms/step - loss: 0.8325 - accuracy: 0.7003 - val_loss: 568.6730 - val_accuracy: 0.3043\n",
            "Epoch 189/300\n",
            "13/13 [==============================] - 1s 97ms/step - loss: 0.7436 - accuracy: 0.7287 - val_loss: 827.9344 - val_accuracy: 0.1884\n",
            "Epoch 190/300\n",
            "13/13 [==============================] - 1s 108ms/step - loss: 0.7077 - accuracy: 0.7287 - val_loss: 805.6785 - val_accuracy: 0.2138\n",
            "Epoch 191/300\n",
            "13/13 [==============================] - 1s 107ms/step - loss: 0.6864 - accuracy: 0.7339 - val_loss: 934.9493 - val_accuracy: 0.2536\n",
            "Epoch 192/300\n",
            "13/13 [==============================] - 1s 107ms/step - loss: 0.6251 - accuracy: 0.7442 - val_loss: 1018.8898 - val_accuracy: 0.2174\n",
            "Epoch 193/300\n",
            "13/13 [==============================] - 1s 104ms/step - loss: 0.6815 - accuracy: 0.7364 - val_loss: 923.3762 - val_accuracy: 0.2283\n",
            "Epoch 194/300\n",
            "13/13 [==============================] - 2s 165ms/step - loss: 0.6564 - accuracy: 0.7700 - val_loss: 1122.1996 - val_accuracy: 0.2065\n",
            "Epoch 195/300\n",
            "13/13 [==============================] - 2s 168ms/step - loss: 0.6308 - accuracy: 0.7726 - val_loss: 1001.8827 - val_accuracy: 0.2500\n",
            "Epoch 196/300\n",
            "13/13 [==============================] - 1s 106ms/step - loss: 0.6598 - accuracy: 0.7494 - val_loss: 1052.6497 - val_accuracy: 0.2500\n",
            "Epoch 197/300\n",
            "13/13 [==============================] - 1s 107ms/step - loss: 0.5860 - accuracy: 0.7778 - val_loss: 1041.4680 - val_accuracy: 0.2826\n",
            "Epoch 198/300\n",
            "13/13 [==============================] - 1s 108ms/step - loss: 0.7711 - accuracy: 0.7442 - val_loss: 899.0912 - val_accuracy: 0.2283\n",
            "Epoch 199/300\n",
            "13/13 [==============================] - 1s 97ms/step - loss: 0.8192 - accuracy: 0.7364 - val_loss: 798.1829 - val_accuracy: 0.2935\n",
            "Epoch 200/300\n",
            "13/13 [==============================] - 1s 96ms/step - loss: 0.6606 - accuracy: 0.7674 - val_loss: 1025.0870 - val_accuracy: 0.2862\n",
            "Epoch 201/300\n",
            "13/13 [==============================] - 1s 96ms/step - loss: 0.6755 - accuracy: 0.7416 - val_loss: 1091.6514 - val_accuracy: 0.1993\n",
            "Epoch 202/300\n",
            "13/13 [==============================] - 1s 107ms/step - loss: 0.6815 - accuracy: 0.7519 - val_loss: 876.5511 - val_accuracy: 0.2572\n",
            "Epoch 203/300\n",
            "13/13 [==============================] - 1s 100ms/step - loss: 0.6340 - accuracy: 0.7829 - val_loss: 1234.5182 - val_accuracy: 0.2065\n",
            "Epoch 204/300\n",
            "13/13 [==============================] - 2s 167ms/step - loss: 0.6959 - accuracy: 0.7545 - val_loss: 896.3444 - val_accuracy: 0.2536\n",
            "Epoch 205/300\n",
            "13/13 [==============================] - 2s 167ms/step - loss: 0.7792 - accuracy: 0.7519 - val_loss: 1116.4840 - val_accuracy: 0.2428\n",
            "Epoch 206/300\n",
            "13/13 [==============================] - 1s 106ms/step - loss: 0.6815 - accuracy: 0.7674 - val_loss: 739.0477 - val_accuracy: 0.2899\n",
            "Epoch 207/300\n",
            "13/13 [==============================] - 1s 109ms/step - loss: 0.6682 - accuracy: 0.7442 - val_loss: 739.0156 - val_accuracy: 0.2790\n",
            "Epoch 208/300\n",
            "13/13 [==============================] - 1s 106ms/step - loss: 0.8740 - accuracy: 0.7003 - val_loss: 737.0215 - val_accuracy: 0.2826\n",
            "Epoch 209/300\n",
            "13/13 [==============================] - 1s 95ms/step - loss: 0.9383 - accuracy: 0.6977 - val_loss: 1131.8275 - val_accuracy: 0.2572\n",
            "Epoch 210/300\n",
            "13/13 [==============================] - 1s 96ms/step - loss: 0.7641 - accuracy: 0.7313 - val_loss: 979.6090 - val_accuracy: 0.3587\n",
            "Epoch 211/300\n",
            "13/13 [==============================] - 1s 96ms/step - loss: 0.9949 - accuracy: 0.7209 - val_loss: 976.9561 - val_accuracy: 0.2319\n",
            "Epoch 212/300\n",
            "13/13 [==============================] - 1s 108ms/step - loss: 0.9073 - accuracy: 0.6589 - val_loss: 585.0647 - val_accuracy: 0.2862\n",
            "Epoch 213/300\n",
            "13/13 [==============================] - 1s 108ms/step - loss: 0.8959 - accuracy: 0.7080 - val_loss: 994.1223 - val_accuracy: 0.2899\n",
            "Epoch 214/300\n",
            "13/13 [==============================] - 2s 168ms/step - loss: 0.9462 - accuracy: 0.7132 - val_loss: 1004.1021 - val_accuracy: 0.2826\n",
            "Epoch 215/300\n",
            "13/13 [==============================] - 2s 169ms/step - loss: 0.8334 - accuracy: 0.7003 - val_loss: 646.8041 - val_accuracy: 0.3659\n",
            "Epoch 216/300\n",
            "13/13 [==============================] - 1s 109ms/step - loss: 0.8549 - accuracy: 0.7313 - val_loss: 668.3293 - val_accuracy: 0.3116\n",
            "Epoch 217/300\n",
            "13/13 [==============================] - 1s 96ms/step - loss: 0.7096 - accuracy: 0.7519 - val_loss: 696.6158 - val_accuracy: 0.3116\n",
            "Epoch 218/300\n",
            "13/13 [==============================] - 1s 96ms/step - loss: 0.6604 - accuracy: 0.7700 - val_loss: 849.2037 - val_accuracy: 0.3043\n",
            "Epoch 219/300\n",
            "13/13 [==============================] - 1s 107ms/step - loss: 0.6155 - accuracy: 0.7804 - val_loss: 811.6551 - val_accuracy: 0.2826\n",
            "Epoch 220/300\n",
            "13/13 [==============================] - 1s 108ms/step - loss: 0.6613 - accuracy: 0.7649 - val_loss: 752.0025 - val_accuracy: 0.3551\n",
            "Epoch 221/300\n",
            "13/13 [==============================] - 1s 96ms/step - loss: 1.1330 - accuracy: 0.6744 - val_loss: 778.8100 - val_accuracy: 0.3080\n",
            "Epoch 222/300\n",
            "13/13 [==============================] - 1s 108ms/step - loss: 0.8049 - accuracy: 0.7054 - val_loss: 760.2012 - val_accuracy: 0.3659\n",
            "Epoch 223/300\n",
            "13/13 [==============================] - 1s 114ms/step - loss: 0.7160 - accuracy: 0.7623 - val_loss: 817.2073 - val_accuracy: 0.3406\n",
            "Epoch 224/300\n",
            "13/13 [==============================] - 2s 166ms/step - loss: 0.6351 - accuracy: 0.7752 - val_loss: 801.9707 - val_accuracy: 0.3225\n",
            "Epoch 225/300\n",
            "13/13 [==============================] - 2s 167ms/step - loss: 0.7246 - accuracy: 0.7494 - val_loss: 904.8512 - val_accuracy: 0.2754\n",
            "Epoch 226/300\n",
            "13/13 [==============================] - 1s 107ms/step - loss: 0.7022 - accuracy: 0.7390 - val_loss: 871.7259 - val_accuracy: 0.3152\n",
            "Epoch 227/300\n",
            "13/13 [==============================] - 1s 98ms/step - loss: 0.7467 - accuracy: 0.7494 - val_loss: 890.8024 - val_accuracy: 0.2790\n",
            "Epoch 228/300\n",
            "13/13 [==============================] - 1s 97ms/step - loss: 0.8169 - accuracy: 0.7235 - val_loss: 1099.0444 - val_accuracy: 0.2500\n",
            "Epoch 229/300\n",
            "13/13 [==============================] - 1s 109ms/step - loss: 0.7475 - accuracy: 0.7726 - val_loss: 850.1578 - val_accuracy: 0.3043\n",
            "Epoch 230/300\n",
            "13/13 [==============================] - 1s 108ms/step - loss: 0.6341 - accuracy: 0.7881 - val_loss: 692.7030 - val_accuracy: 0.3768\n",
            "Epoch 231/300\n",
            "13/13 [==============================] - 1s 107ms/step - loss: 0.7210 - accuracy: 0.7390 - val_loss: 831.6871 - val_accuracy: 0.3297\n",
            "Epoch 232/300\n",
            "13/13 [==============================] - 1s 95ms/step - loss: 0.6222 - accuracy: 0.7700 - val_loss: 1021.5032 - val_accuracy: 0.2935\n",
            "Epoch 233/300\n",
            "13/13 [==============================] - 2s 156ms/step - loss: 0.6348 - accuracy: 0.7726 - val_loss: 993.1152 - val_accuracy: 0.2681\n",
            "Epoch 234/300\n",
            "13/13 [==============================] - 2s 167ms/step - loss: 0.5413 - accuracy: 0.8062 - val_loss: 930.5627 - val_accuracy: 0.2826\n",
            "Epoch 235/300\n",
            "13/13 [==============================] - 2s 136ms/step - loss: 0.5247 - accuracy: 0.8036 - val_loss: 1228.0764 - val_accuracy: 0.2790\n",
            "Epoch 236/300\n",
            "13/13 [==============================] - 1s 96ms/step - loss: 0.6373 - accuracy: 0.7804 - val_loss: 744.4470 - val_accuracy: 0.3152\n",
            "Epoch 237/300\n",
            "13/13 [==============================] - 1s 108ms/step - loss: 0.6134 - accuracy: 0.7778 - val_loss: 677.9837 - val_accuracy: 0.3225\n",
            "Epoch 238/300\n",
            "13/13 [==============================] - 1s 97ms/step - loss: 0.6000 - accuracy: 0.7674 - val_loss: 891.2191 - val_accuracy: 0.2754\n",
            "Epoch 239/300\n",
            "13/13 [==============================] - 1s 98ms/step - loss: 0.6775 - accuracy: 0.7597 - val_loss: 854.1669 - val_accuracy: 0.2645\n",
            "Epoch 240/300\n",
            "13/13 [==============================] - 1s 107ms/step - loss: 0.8625 - accuracy: 0.7209 - val_loss: 972.5379 - val_accuracy: 0.3623\n",
            "Epoch 241/300\n",
            "13/13 [==============================] - 1s 95ms/step - loss: 0.7623 - accuracy: 0.7494 - val_loss: 896.0239 - val_accuracy: 0.3152\n",
            "Epoch 242/300\n",
            "13/13 [==============================] - 1s 109ms/step - loss: 0.8744 - accuracy: 0.7028 - val_loss: 856.6625 - val_accuracy: 0.2826\n",
            "Epoch 243/300\n",
            "13/13 [==============================] - 2s 175ms/step - loss: 0.9259 - accuracy: 0.6796 - val_loss: 748.9307 - val_accuracy: 0.3370\n",
            "Epoch 244/300\n",
            "13/13 [==============================] - 2s 169ms/step - loss: 0.8016 - accuracy: 0.7235 - val_loss: 601.9312 - val_accuracy: 0.4058\n",
            "Epoch 245/300\n",
            "13/13 [==============================] - 1s 107ms/step - loss: 0.6804 - accuracy: 0.7907 - val_loss: 622.7647 - val_accuracy: 0.3696\n",
            "Epoch 246/300\n",
            "13/13 [==============================] - 1s 108ms/step - loss: 0.5844 - accuracy: 0.7829 - val_loss: 696.5566 - val_accuracy: 0.3225\n",
            "Epoch 247/300\n",
            "13/13 [==============================] - 1s 108ms/step - loss: 0.7379 - accuracy: 0.7571 - val_loss: 758.4720 - val_accuracy: 0.3116\n",
            "Epoch 248/300\n",
            "13/13 [==============================] - 1s 107ms/step - loss: 0.6363 - accuracy: 0.7674 - val_loss: 658.4389 - val_accuracy: 0.3478\n",
            "Epoch 249/300\n",
            "13/13 [==============================] - 1s 99ms/step - loss: 0.5764 - accuracy: 0.7959 - val_loss: 648.8591 - val_accuracy: 0.3478\n",
            "Epoch 250/300\n",
            "13/13 [==============================] - 1s 97ms/step - loss: 0.7128 - accuracy: 0.7700 - val_loss: 807.8364 - val_accuracy: 0.2935\n",
            "Epoch 251/300\n",
            "13/13 [==============================] - 1s 97ms/step - loss: 0.5463 - accuracy: 0.8010 - val_loss: 754.4720 - val_accuracy: 0.3370\n",
            "Epoch 252/300\n",
            "13/13 [==============================] - 1s 108ms/step - loss: 0.5713 - accuracy: 0.8165 - val_loss: 836.8903 - val_accuracy: 0.3514\n",
            "Epoch 253/300\n",
            "13/13 [==============================] - 2s 167ms/step - loss: 0.5040 - accuracy: 0.8010 - val_loss: 889.2325 - val_accuracy: 0.3406\n",
            "Epoch 254/300\n",
            "13/13 [==============================] - 2s 169ms/step - loss: 0.5500 - accuracy: 0.8243 - val_loss: 1032.7793 - val_accuracy: 0.2935\n",
            "Epoch 255/300\n",
            "13/13 [==============================] - 1s 102ms/step - loss: 0.5451 - accuracy: 0.8217 - val_loss: 1174.7172 - val_accuracy: 0.3116\n",
            "Epoch 256/300\n",
            "13/13 [==============================] - 1s 98ms/step - loss: 0.5225 - accuracy: 0.8217 - val_loss: 1027.3302 - val_accuracy: 0.3188\n",
            "Epoch 257/300\n",
            "13/13 [==============================] - 1s 109ms/step - loss: 0.5124 - accuracy: 0.7907 - val_loss: 1042.2386 - val_accuracy: 0.2862\n",
            "Epoch 258/300\n",
            "13/13 [==============================] - 1s 98ms/step - loss: 0.4326 - accuracy: 0.8346 - val_loss: 896.8777 - val_accuracy: 0.3116\n",
            "Epoch 259/300\n",
            "13/13 [==============================] - 1s 97ms/step - loss: 0.4254 - accuracy: 0.8553 - val_loss: 999.1303 - val_accuracy: 0.2899\n",
            "Epoch 260/300\n",
            "13/13 [==============================] - 1s 97ms/step - loss: 0.4940 - accuracy: 0.8217 - val_loss: 929.7215 - val_accuracy: 0.3152\n",
            "Epoch 261/300\n",
            "13/13 [==============================] - 1s 96ms/step - loss: 0.5627 - accuracy: 0.8036 - val_loss: 858.5497 - val_accuracy: 0.2935\n",
            "Epoch 262/300\n",
            "13/13 [==============================] - 1s 110ms/step - loss: 0.5397 - accuracy: 0.7855 - val_loss: 1021.1166 - val_accuracy: 0.2391\n",
            "Epoch 263/300\n",
            "13/13 [==============================] - 2s 192ms/step - loss: 0.6160 - accuracy: 0.8217 - val_loss: 838.3695 - val_accuracy: 0.3007\n",
            "Epoch 264/300\n",
            "13/13 [==============================] - 2s 166ms/step - loss: 0.6789 - accuracy: 0.7829 - val_loss: 1011.2650 - val_accuracy: 0.2246\n",
            "Epoch 265/300\n",
            "13/13 [==============================] - 1s 98ms/step - loss: 0.8741 - accuracy: 0.7390 - val_loss: 1326.0240 - val_accuracy: 0.2428\n",
            "Epoch 266/300\n",
            "13/13 [==============================] - 1s 108ms/step - loss: 0.7886 - accuracy: 0.7106 - val_loss: 1265.8473 - val_accuracy: 0.2246\n",
            "Epoch 267/300\n",
            "13/13 [==============================] - 1s 111ms/step - loss: 0.7211 - accuracy: 0.7390 - val_loss: 995.7946 - val_accuracy: 0.2283\n",
            "Epoch 268/300\n",
            "13/13 [==============================] - 1s 108ms/step - loss: 0.5787 - accuracy: 0.7804 - val_loss: 1225.5858 - val_accuracy: 0.1848\n",
            "Epoch 269/300\n",
            "13/13 [==============================] - 1s 98ms/step - loss: 0.6626 - accuracy: 0.7881 - val_loss: 1366.3870 - val_accuracy: 0.1920\n",
            "Epoch 270/300\n",
            "13/13 [==============================] - 1s 97ms/step - loss: 0.5852 - accuracy: 0.7959 - val_loss: 1265.8835 - val_accuracy: 0.1920\n",
            "Epoch 271/300\n",
            "13/13 [==============================] - 1s 98ms/step - loss: 0.7307 - accuracy: 0.7700 - val_loss: 864.6182 - val_accuracy: 0.2681\n",
            "Epoch 272/300\n",
            "13/13 [==============================] - 2s 166ms/step - loss: 0.6459 - accuracy: 0.7649 - val_loss: 918.7939 - val_accuracy: 0.2790\n",
            "Epoch 273/300\n",
            "13/13 [==============================] - 2s 170ms/step - loss: 0.5046 - accuracy: 0.8036 - val_loss: 1012.2982 - val_accuracy: 0.2681\n",
            "Epoch 274/300\n",
            "13/13 [==============================] - 2s 135ms/step - loss: 0.5873 - accuracy: 0.7752 - val_loss: 1031.9497 - val_accuracy: 0.2500\n",
            "Epoch 275/300\n",
            "13/13 [==============================] - 1s 100ms/step - loss: 0.5518 - accuracy: 0.8036 - val_loss: 1053.4385 - val_accuracy: 0.2355\n",
            "Epoch 276/300\n",
            "13/13 [==============================] - 1s 109ms/step - loss: 0.6440 - accuracy: 0.7494 - val_loss: 1026.5199 - val_accuracy: 0.2935\n",
            "Epoch 277/300\n",
            "13/13 [==============================] - 1s 109ms/step - loss: 0.5442 - accuracy: 0.7933 - val_loss: 1350.8032 - val_accuracy: 0.2935\n",
            "Epoch 278/300\n",
            "13/13 [==============================] - 1s 110ms/step - loss: 0.5318 - accuracy: 0.8450 - val_loss: 1057.7211 - val_accuracy: 0.3188\n",
            "Epoch 279/300\n",
            "13/13 [==============================] - 1s 108ms/step - loss: 0.9328 - accuracy: 0.7959 - val_loss: 1608.0823 - val_accuracy: 0.2355\n",
            "Epoch 280/300\n",
            "13/13 [==============================] - 1s 98ms/step - loss: 0.9916 - accuracy: 0.7442 - val_loss: 1746.5312 - val_accuracy: 0.1848\n",
            "Epoch 281/300\n",
            "13/13 [==============================] - 1s 115ms/step - loss: 0.8143 - accuracy: 0.7416 - val_loss: 1363.1039 - val_accuracy: 0.2029\n",
            "Epoch 282/300\n",
            "13/13 [==============================] - 2s 171ms/step - loss: 0.7163 - accuracy: 0.7416 - val_loss: 1158.6812 - val_accuracy: 0.2464\n",
            "Epoch 283/300\n",
            "13/13 [==============================] - 2s 172ms/step - loss: 0.8888 - accuracy: 0.7080 - val_loss: 1079.7384 - val_accuracy: 0.3623\n",
            "Epoch 284/300\n",
            "13/13 [==============================] - 1s 109ms/step - loss: 0.6560 - accuracy: 0.7933 - val_loss: 1165.6764 - val_accuracy: 0.3442\n",
            "Epoch 285/300\n",
            "13/13 [==============================] - 1s 110ms/step - loss: 0.6397 - accuracy: 0.7726 - val_loss: 1241.7944 - val_accuracy: 0.3225\n",
            "Epoch 286/300\n",
            "13/13 [==============================] - 1s 109ms/step - loss: 1.6000 - accuracy: 0.5814 - val_loss: 1134.5198 - val_accuracy: 0.1884\n",
            "Epoch 287/300\n",
            "13/13 [==============================] - 1s 111ms/step - loss: 1.5830 - accuracy: 0.4987 - val_loss: 849.3338 - val_accuracy: 0.2428\n",
            "Epoch 288/300\n",
            "13/13 [==============================] - 1s 99ms/step - loss: 1.0241 - accuracy: 0.6693 - val_loss: 1574.2649 - val_accuracy: 0.1739\n",
            "Epoch 289/300\n",
            "13/13 [==============================] - 1s 99ms/step - loss: 1.2189 - accuracy: 0.6460 - val_loss: 1139.9390 - val_accuracy: 0.2971\n",
            "Epoch 290/300\n",
            "13/13 [==============================] - 1s 109ms/step - loss: 1.3707 - accuracy: 0.5788 - val_loss: 1450.5045 - val_accuracy: 0.2464\n",
            "Epoch 291/300\n",
            "13/13 [==============================] - 2s 176ms/step - loss: 1.3669 - accuracy: 0.5917 - val_loss: 640.3632 - val_accuracy: 0.3188\n",
            "Epoch 292/300\n",
            "13/13 [==============================] - 2s 167ms/step - loss: 1.0390 - accuracy: 0.6460 - val_loss: 444.2333 - val_accuracy: 0.3659\n",
            "Epoch 293/300\n",
            "13/13 [==============================] - 2s 126ms/step - loss: 1.1346 - accuracy: 0.6486 - val_loss: 549.5464 - val_accuracy: 0.3261\n",
            "Epoch 294/300\n",
            "13/13 [==============================] - 1s 110ms/step - loss: 1.1574 - accuracy: 0.6331 - val_loss: 902.8465 - val_accuracy: 0.2681\n",
            "Epoch 295/300\n",
            "13/13 [==============================] - 1s 109ms/step - loss: 0.9405 - accuracy: 0.6615 - val_loss: 740.8597 - val_accuracy: 0.3406\n",
            "Epoch 296/300\n",
            "13/13 [==============================] - 1s 98ms/step - loss: 0.7417 - accuracy: 0.7416 - val_loss: 501.0310 - val_accuracy: 0.4312\n",
            "Epoch 297/300\n",
            "13/13 [==============================] - 1s 100ms/step - loss: 0.7838 - accuracy: 0.7571 - val_loss: 607.5110 - val_accuracy: 0.4203\n",
            "Epoch 298/300\n",
            "13/13 [==============================] - 1s 98ms/step - loss: 0.5773 - accuracy: 0.7855 - val_loss: 796.3496 - val_accuracy: 0.3514\n",
            "Epoch 299/300\n",
            "13/13 [==============================] - 1s 110ms/step - loss: 0.5317 - accuracy: 0.8320 - val_loss: 939.4734 - val_accuracy: 0.3442\n",
            "Epoch 300/300\n",
            "13/13 [==============================] - 1s 115ms/step - loss: 0.5981 - accuracy: 0.7984 - val_loss: 1133.1133 - val_accuracy: 0.3188\n"
          ]
        }
      ]
    },
    {
      "cell_type": "code",
      "source": [
        "model.evaluate(X_test, y_test)"
      ],
      "metadata": {
        "id": "hQ3tiauHW6dT",
        "outputId": "046c8900-ce13-41af-d053-b7a22ae1d08e",
        "colab": {
          "base_uri": "https://localhost:8080/"
        }
      },
      "execution_count": 193,
      "outputs": [
        {
          "output_type": "stream",
          "name": "stdout",
          "text": [
            "9/9 [==============================] - 0s 20ms/step - loss: 0.5882 - accuracy: 0.8592\n"
          ]
        },
        {
          "output_type": "execute_result",
          "data": {
            "text/plain": [
              "[0.5881949663162231, 0.8592057824134827]"
            ]
          },
          "metadata": {},
          "execution_count": 193
        }
      ]
    },
    {
      "cell_type": "code",
      "source": [
        "pd.DataFrame(history.history).plot(figsize=(5,4))\n",
        "plt.grid(True)\n",
        "plt.gca().set_ylim(0,1)\n",
        "plt.show()"
      ],
      "metadata": {
        "id": "r4y9s-v9LKdn",
        "outputId": "7d3f0135-6719-4be6-80e5-52d3673651dc",
        "colab": {
          "base_uri": "https://localhost:8080/",
          "height": 372
        }
      },
      "execution_count": 194,
      "outputs": [
        {
          "output_type": "display_data",
          "data": {
            "text/plain": [
              "<Figure size 500x400 with 1 Axes>"
            ],
            "image/png": "[encoded data removed]"
          },
          "metadata": {}
        }
      ]
    },
    {
      "cell_type": "code",
      "source": [
        "prediction = model.predict(X_test_flat)\n",
        "print(prediction)"
      ],
      "metadata": {
        "id": "eZzsWgVeLn7f",
        "outputId": "8c289361-8031-4c40-ec23-51f68e077fe6",
        "colab": {
          "base_uri": "https://localhost:8080/"
        }
      },
      "execution_count": 195,
      "outputs": [
        {
          "output_type": "stream",
          "name": "stdout",
          "text": [
            "9/9 [==============================] - 0s 19ms/step\n",
            "[[4.30185825e-01 4.73855287e-02 1.21597148e-01 ... 1.85096741e-01\n",
            "  5.06745763e-02 4.93848212e-02]\n",
            " [3.10606410e-15 7.69613107e-05 1.37987885e-10 ... 2.76740415e-20\n",
            "  3.24216451e-15 8.89303976e-07]\n",
            " [1.20119471e-02 1.66176714e-03 1.05554274e-04 ... 2.65675217e-01\n",
            "  6.75747812e-01 6.72439625e-03]\n",
            " ...\n",
            " [4.74610709e-20 6.41075851e-25 1.76259018e-14 ... 5.32872466e-13\n",
            "  4.65571891e-17 1.63931160e-18]\n",
            " [2.00682064e-03 7.53671154e-02 2.58974353e-04 ... 4.28885251e-04\n",
            "  5.32927988e-05 7.89445080e-03]\n",
            " [9.22671333e-02 6.99819211e-05 6.91278419e-03 ... 7.15700746e-01\n",
            "  1.04100823e-01 1.56629155e-03]]\n"
          ]
        }
      ]
    },
    {
      "cell_type": "code",
      "source": [
        "print(prediction[1])"
      ],
      "metadata": {
        "id": "J6x-fn1vLrqD",
        "outputId": "c4c0db4b-7147-465b-82e4-5586d7da7405",
        "colab": {
          "base_uri": "https://localhost:8080/"
        }
      },
      "execution_count": 196,
      "outputs": [
        {
          "output_type": "stream",
          "name": "stdout",
          "text": [
            "[3.1060641e-15 7.6961311e-05 1.3798789e-10 3.0020688e-13 9.9992210e-01\n",
            " 6.0982530e-12 3.4205216e-09 2.7674041e-20 3.2421645e-15 8.8930398e-07]\n"
          ]
        }
      ]
    },
    {
      "cell_type": "code",
      "source": [
        "np.argmax(prediction[0])"
      ],
      "metadata": {
        "id": "XOFpGwj3Lvvv",
        "outputId": "eb0317ad-5b2c-4bfd-a65f-5a6aa4f71240",
        "colab": {
          "base_uri": "https://localhost:8080/"
        }
      },
      "execution_count": 197,
      "outputs": [
        {
          "output_type": "execute_result",
          "data": {
            "text/plain": [
              "0"
            ]
          },
          "metadata": {},
          "execution_count": 197
        }
      ]
    },
    {
      "cell_type": "code",
      "source": [
        "plt.matshow(balls_folder[0])"
      ],
      "metadata": {
        "id": "zOPlOku7LymC",
        "outputId": "cc99f105-c208-473d-e244-fe212bd9366a",
        "colab": {
          "base_uri": "https://localhost:8080/",
          "height": 452
        }
      },
      "execution_count": 198,
      "outputs": [
        {
          "output_type": "execute_result",
          "data": {
            "text/plain": [
              "<matplotlib.image.AxesImage at 0x7efff0cf1a80>"
            ]
          },
          "metadata": {},
          "execution_count": 198
        },
        {
          "output_type": "display_data",
          "data": {
            "text/plain": [
              "<Figure size 480x480 with 1 Axes>"
            ],
            "image/png": "[encoded data removed]"
          },
          "metadata": {}
        }
      ]
    },
    {
      "cell_type": "code",
      "source": [
        "predicted_labels = [np.argmax(i) for i in prediction]"
      ],
      "metadata": {
        "id": "AzD4-3i2NbfZ"
      },
      "execution_count": 199,
      "outputs": []
    },
    {
      "cell_type": "code",
      "source": [
        "cm = confusion_matrix(y_test, prediction.argmax(axis=1))\n",
        "print(cm)"
      ],
      "metadata": {
        "id": "r6HMwYehNjxu",
        "outputId": "c6ea0efe-0174-494f-d82c-32281b9d8fc7",
        "colab": {
          "base_uri": "https://localhost:8080/"
        }
      },
      "execution_count": 202,
      "outputs": [
        {
          "output_type": "stream",
          "name": "stdout",
          "text": [
            "[[19  0  0  0  0  0  0  4  0  1]\n",
            " [ 0 32  1  0  0  0  0  2  0  0]\n",
            " [ 0  0 22  1  0  1  0  1  0  0]\n",
            " [ 0  3  0 22  0  0  0  0  0  0]\n",
            " [ 0  3  0  0 28  0  2  0  0  1]\n",
            " [ 0  0  0  1  0 22  0  1  1  0]\n",
            " [ 0  1  0  0  0  0 29  0  0  0]\n",
            " [ 0  0  0  0  0  3  0 22  2  0]\n",
            " [ 0  0  0  0  0  1  0  2 22  1]\n",
            " [ 0  0  0  0  0  0  3  1  2 20]]\n"
          ]
        }
      ]
    },
    {
      "cell_type": "code",
      "source": [
        "import seaborn as sn\n",
        "plt.figure(figsize = (5,5))\n",
        "sn.heatmap(cm, annot=True, fmt='d')\n",
        "plt.xlabel('Predicted Label')\n",
        "plt.ylabel('True Label')"
      ],
      "metadata": {
        "id": "YNS1gYmSN9Ie",
        "outputId": "5172df58-885b-443d-8d95-359f2cd5e170",
        "colab": {
          "base_uri": "https://localhost:8080/",
          "height": 481
        }
      },
      "execution_count": 203,
      "outputs": [
        {
          "output_type": "execute_result",
          "data": {
            "text/plain": [
              "Text(33.22222222222222, 0.5, 'True Label')"
            ]
          },
          "metadata": {},
          "execution_count": 203
        },
        {
          "output_type": "display_data",
          "data": {
            "text/plain": [
              "<Figure size 500x500 with 2 Axes>"
            ],
            "image/png": "[encoded data removed]"
          },
          "metadata": {}
        }
      ]
    },
    {
      "cell_type": "code",
      "source": [
        "accuracy = 100*np.trace(cm)/np.sum(cm)\n",
        "print(accuracy)"
      ],
      "metadata": {
        "id": "E9levH7POD9u",
        "outputId": "c94f6eaa-c434-4306-c492-9083d5c3d7be",
        "colab": {
          "base_uri": "https://localhost:8080/"
        }
      },
      "execution_count": 204,
      "outputs": [
        {
          "output_type": "stream",
          "name": "stdout",
          "text": [
            "85.92057761732852\n"
          ]
        }
      ]
    }
  ]
}