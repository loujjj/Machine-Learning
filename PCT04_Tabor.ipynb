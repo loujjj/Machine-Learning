{
  "nbformat": 4,
  "nbformat_minor": 0,
  "metadata": {
    "colab": {
      "provenance": [],
      "include_colab_link": true
    },
    "kernelspec": {
      "name": "python3",
      "display_name": "Python 3"
    },
    "language_info": {
      "name": "python"
    }
  },
  "cells": [
    {
      "cell_type": "markdown",
      "metadata": {
        "id": "view-in-github",
        "colab_type": "text"
      },
      "source": [
        "<a href=\"https://colab.research.google.com/github/loujjj/Machine-Learning/blob/main/PCT04_Tabor.ipynb\" target=\"_parent\"><img src=\"https://colab.research.google.com/assets/colab-badge.svg\" alt=\"Open In Colab\"/></a>"
      ]
    },
    {
      "cell_type": "markdown",
      "source": [
        "##**Classification of Walk vs Run**"
      ],
      "metadata": {
        "id": "w12W2G-6c32h"
      }
    },
    {
      "cell_type": "markdown",
      "source": [
        "####**Importing the Necessary Libraries**"
      ],
      "metadata": {
        "id": "19trjlLic6EL"
      }
    },
    {
      "cell_type": "code",
      "execution_count": 1,
      "metadata": {
        "id": "XPZnl1jNcuB1"
      },
      "outputs": [],
      "source": [
        "import numpy as np\n",
        "import matplotlib.pyplot as plt\n",
        "import pandas as pd\n",
        "import os\n",
        "import cv2 as cv\n",
        "import fnmatch\n",
        "\n",
        "import tensorflow as tf\n",
        "from tensorflow import keras\n",
        "from tensorflow.keras.models import Sequential\n",
        "from tensorflow.keras.layers import Dense, Conv2D, Dropout, Flatten, MaxPooling2D\n",
        "\n",
        "from sklearn import datasets\n",
        "from sklearn.preprocessing import LabelEncoder\n",
        "from sklearn.model_selection import train_test_split\n",
        "from sklearn.metrics import confusion_matrix, ConfusionMatrixDisplay"
      ]
    },
    {
      "cell_type": "markdown",
      "source": [
        "####**Importing and Preparing the Data**"
      ],
      "metadata": {
        "id": "21I4-WljdB3r"
      }
    },
    {
      "cell_type": "markdown",
      "source": [
        "#####**Importing the Data**"
      ],
      "metadata": {
        "id": "-z48xONBdGc0"
      }
    },
    {
      "cell_type": "code",
      "source": [
        "from google.colab import drive\n",
        "drive.mount('/content/gdrive/', force_remount=True)"
      ],
      "metadata": {
        "id": "a0VllYJydK2L",
        "outputId": "805b1727-782d-4c09-9ca2-61b07fceec70",
        "colab": {
          "base_uri": "https://localhost:8080/"
        }
      },
      "execution_count": 2,
      "outputs": [
        {
          "output_type": "stream",
          "name": "stdout",
          "text": [
            "Mounted at /content/gdrive/\n"
          ]
        }
      ]
    },
    {
      "cell_type": "code",
      "source": [
        "cd gdrive/MyDrive/'Colab Notebooks'/Book/BallsDatasets"
      ],
      "metadata": {
        "colab": {
          "base_uri": "https://localhost:8080/"
        },
        "id": "ATHuKHGmGqhd",
        "outputId": "53e7fcf3-eed9-4681-aa98-1370473f5fef"
      },
      "execution_count": 3,
      "outputs": [
        {
          "output_type": "stream",
          "name": "stdout",
          "text": [
            "/content/gdrive/MyDrive/Colab Notebooks/Book/BallsDatasets\n"
          ]
        }
      ]
    },
    {
      "cell_type": "markdown",
      "source": [
        "**NOTE: You have to save the attached csv file to one of your subfolders in Google Drive and change the name of the subfolder below, accordingly.**"
      ],
      "metadata": {
        "id": "lUPIQIxqIfvI"
      }
    },
    {
      "cell_type": "code",
      "source": [
        "ls"
      ],
      "metadata": {
        "id": "R6Vx8Cz4dRf4",
        "colab": {
          "base_uri": "https://localhost:8080/"
        },
        "outputId": "34484ba8-a5d4-4041-aaf1-d87a6766678d"
      },
      "execution_count": 4,
      "outputs": [
        {
          "output_type": "stream",
          "name": "stdout",
          "text": [
            " baseball00.jpg           bowling20.jpg          soccer29.jpg\n",
            " baseball01.jpg           bowling21.png          soccer30.jpg\n",
            " baseball02.png           bowling22.png          soccer31.jpg\n",
            " baseball03.jpg           bowling23.png          soccer32.jpg\n",
            " baseball04.jpg           bowling24.jpg          soccer33.png\n",
            " baseball05.jpg           bowling25.png          soccer34.jpg\n",
            " baseball06.png           bowling26.png          soccer36.jpg\n",
            " baseball07.jpg           bowling27.jpg          soccer37.png\n",
            " baseball08.jpeg          bowling28.jpg          soccer38.png\n",
            " baseball09.jpeg          bowling29.jpg          soccer39.png\n",
            " baseball10.jpg           bowling30.png          soccer40.jpg\n",
            " baseball11.jpg           bowling31.png          soccer41.jpg\n",
            " baseball12.jpg           bowling32.png          soccer42.jpg\n",
            " baseball13.jpg           bowling34.jpg          soccer43.jpg\n",
            " baseball14.jpg           bowling35.jpg          soccer44.jpg\n",
            " baseball15.jpg           bowling36.png          soccer45.jpg\n",
            " baseball16.jpg           bowling37.png          soccer46.png\n",
            " baseball17.jpg           bowling38.png          soccer48.jpg\n",
            " baseball18.jpg           bowling39.jpg          soccer48.png\n",
            " baseball19.jpg           bowling40.jpg          soccer49.png\n",
            " baseball20.jpg           bowling41.jpg          soccer50.jpg\n",
            " baseball21.png           bowling42.jpg          soccer51.jpeg\n",
            " baseball22.png           bowling43.jpg          soccer52.jpeg\n",
            " baseball23.png           bowling44.jpg          soccer53.jpeg\n",
            " baseball24.jpg           bowling45.jpg          tabletennis00.jpg\n",
            " baseball25.jpg           bowling46.jpg          tabletennis01.jpg\n",
            " baseball26.jpg           bowling47.jpg          tabletennis02.jpg\n",
            " baseball27.jpg           bowling48.png          tabletennis03.jpg\n",
            " baseball28.jpg           bowling49.png          tabletennis04.jpg\n",
            " baseball29.jpg           bowling50.png          tabletennis07.png\n",
            " baseball30.png           bowling51.jpeg        'tabletennis08 (1).jpeg'\n",
            " baseball31.png           bowling52.jpeg         tabletennis08.jpeg\n",
            " baseball32.png           bowling53.jpeg         tabletennis09.jpg\n",
            " baseball33.jpg           football00.jpg         tabletennis10.jpg\n",
            " baseball36.png           football01.jpg         tabletennis11.jpg\n",
            " baseball37.png           football05.jpg         tabletennis12.jpg\n",
            " baseball38.png           football06.jpg         tabletennis13.jpg\n",
            " baseball39.png           football07.jpg         tabletennis14.jpg\n",
            " baseball40.jpg          'football08 (1).jpg'    tabletennis15.jpg\n",
            " baseball41.jpg           football08.jpg         tabletennis16.jpg\n",
            " baseball42.jpg          'football09 (1).png'    tabletennis17.jpg\n",
            " baseball43.jpg           football09.png        'tabletennis18 (1).png'\n",
            " baseball44.jpg           football10.jpg         tabletennis18.png\n",
            " baseball46.jpg           football11.jpg        'tabletennis19 (1).png'\n",
            " baseball47.jpg           football12.jpg         tabletennis19.png\n",
            " baseball48.png           football13.png         tabletennis20.png\n",
            " baseball49.jpg           football14.png         tabletennis21.png\n",
            " baseball50.jpg           football15.jpg         tabletennis22.png\n",
            " baseball51.jpeg          football16.jpg         tabletennis23.png\n",
            " baseball52.jpeg          football17.jpg        'tabletennis27 (1).jpg'\n",
            " baseball53.jpeg          football18.jpg         tabletennis27.jpg\n",
            " basketball00.jpg         football19.jpg         tabletennis28.jpg\n",
            " basketball01.jpg        'football20 (1).jpg'    tabletennis29.jpg\n",
            " basketball02.png         football20.jpg         tabletennis30.jpeg\n",
            " basketball03.png        'football21 (1).png'   'tabletennis31 (1).jpg'\n",
            " basketball07.jpeg        football21.png         tabletennis31.jpg\n",
            " basketball08.jpeg       'football22 (1).jpg'   'tabletennis32 (1).png'\n",
            " basketball09.jpeg        football22.jpg         tabletennis32.png\n",
            " basketball10.jpg        'football23 (1).png'   'tabletennis33 (1).png'\n",
            " basketball11.jpg         football23.png         tabletennis33.png\n",
            " basketball12.jpg         football24.jpg         tabletennis34.png\n",
            " basketball13.png         football25.jpg         tabletennis35.jpg\n",
            " basketball14.png         football26.jpg         tabletennis36.jpg\n",
            " basketball15.jpg         football27.jpg         tabletennis37.jpg\n",
            " basketball16.png         football28.jpg         tabletennis38.png\n",
            " basketball17.jpg         football29.png         tabletennis39.png\n",
            "'basketball18 (1).jpg'    football30.png        'tabletennis40 (1).png'\n",
            "'basketball18 (2).jpg'    football31.png         tabletennis40.png\n",
            " basketball18.jpg         football32.png        'tabletennis41 (1).jpg'\n",
            "'basketball19 (1).jpg'   'football36 (1).png'    tabletennis41.jpg\n",
            "'basketball19 (2).jpg'    football36.png         tabletennis42.jpg\n",
            " basketball19.jpg        'football37 (1).png'    tabletennis43.jpg\n",
            " basketball20.jpg         football37.png         tabletennis44.jpg\n",
            " basketball21.jpg         football38.png         tabletennis45.jpg\n",
            " basketball22.png         football39.jpg         tabletennis46.jpg\n",
            " basketball23.png         football40.jpg         tabletennis47.jpg\n",
            "'basketball24 (1).jpg'    football41.jpg         tabletennis48.jpg\n",
            "'basketball24 (2).jpg'    football42.jpg         tabletennis49.jpg\n",
            " basketball24.jpg         football43.jpg         tabletennis50.jpg\n",
            " basketball25.jpg         football44.jpg        'tabletennis51 (1).jpg'\n",
            "'basketball26 (1).jpg'    football46.jpg         tabletennis51.jpg\n",
            "'basketball26 (2).jpg'    football47.jpg         tabletennis52.png\n",
            " basketball26.jpg         football48.png        'tabletennis53 (1).jpeg'\n",
            "'basketball27 (1).jpg'    football49.png         tabletennis53.jpeg\n",
            "'basketball27 (2).jpg'   'football50 (1).png'    tabletennis54.jpeg\n",
            " basketball27.jpg         football50.png         tennis00.jpg\n",
            " basketball28.jpg         football51.jpeg        tennis01.jpg\n",
            " basketball29.jpg        'football52 (1).jpeg'   tennis02.jpg\n",
            "'basketball30 (1).png'    football52.jpeg        tennis03.jpg\n",
            "'basketball30 (2).png'    football53.jpeg        tennis04.jpg\n",
            " basketball30.png         golf00.jpg             tennis05.jpg\n",
            " basketball31.png         golf01.jpg             tennis06.png\n",
            "'basketball32 (1).png'    golf02.jpg             tennis07.jpeg\n",
            "'basketball32 (2).png'    golf03.jpg             tennis08.jpg\n",
            " basketball32.png         golf04.jpg             tennis09.jpg\n",
            " basketball34.jpg         golf05.png             tennis10.jpg\n",
            " basketball35.jpg        'golf07 (1).jpeg'       tennis11.jpg\n",
            " basketball36.png        'golf07 (2).jpeg'       tennis12.jpg\n",
            " basketball37.png         golf07.jpeg            tennis13.jpg\n",
            " basketball38.png        'golf08 (1).png'        tennis14.jpg\n",
            " basketball39.jpg        'golf08 (2).png'        tennis15.jpg\n",
            "'basketball40 (1).jpg'    golf08.png             tennis16.jpg\n",
            "'basketball40 (2).jpg'   'golf09 (1).png'        tennis17.jpg\n",
            " basketball40.jpg         golf09.png             tennis18.png\n",
            "'basketball41 (1).jpg'    golf10.jpg             tennis19.png\n",
            "'basketball41 (2).jpg'    golf11.jpg             tennis20.png\n",
            " basketball41.jpg         golf12.jpg             tennis21.png\n",
            " basketball42.jpg         golf13.png             tennis22.png\n",
            " basketball43.jpg         golf14.png             tennis23.png\n",
            " basketball44.jpg         golf15.png             tennis27.jpg\n",
            " basketball45.png         golf16.jpg             tennis28.jpg\n",
            " basketball46.png         golf17.jpg             tennis29.jpg\n",
            " basketball47.png         golf18.jpg             tennis30.png\n",
            " basketball48.png         golf19.jpg             tennis31.png\n",
            " basketball49.png        'golf20 (1).jpg'        tennis32.png\n",
            " basketball50.png        'golf20 (2).jpg'        tennis33.jpg\n",
            "'basketball51 (1).jpeg'   golf20.jpg             tennis34.jpg\n",
            "'basketball51 (2).jpeg'   golf21.png             tennis36.png\n",
            " basketball51.jpeg       'golf22 (1).png'        tennis37.png\n",
            " basketball52.jpeg       'golf22 (2).png'        tennis38.png\n",
            " basketball53.jpeg        golf22.png             tennis39.jpg\n",
            " billiards00.jpg         'golf23 (1).png'        tennis40.jpg\n",
            " billiards01.png         'golf23 (2).png'        tennis41.jpg\n",
            " billiards02.jpeg         golf23.png             tennis42.jpg\n",
            " billiards03.jpeg         golf27.jpg             tennis43.jpg\n",
            " billiards07.jpg          golf28.png             tennis44.jpg\n",
            " billiards08.jpg          golf29.jpg             tennis45.jpg\n",
            " billiards09.jpg          golf30.jpg             tennis46.jpg\n",
            " billiards10.jpg          golf31.png             tennis47.jpg\n",
            " billiards11.jpg          golf32.png             tennis48.png\n",
            " billiards12.jpg          golf33.png             tennis49.png\n",
            " billiards13.png         'golf34 (1).jpg'        tennis50.jpg\n",
            " billiards14.png         'golf34 (2).jpg'        tennis51.jpeg\n",
            " billiards15.png          golf34.jpg             tennis52.jpeg\n",
            " billiards16.jpg         'golf35 (1).jpg'        tennis53.jpeg\n",
            " billiards17.jpg          golf35.jpg             volleyball00.jpg\n",
            " billiards18.webp        'golf36 (1).jpg'        volleyball01.jpg\n",
            " billiards19.jpg         'golf36 (2).jpg'        volleyball02.jpg\n",
            " billiards20.jpg          golf36.jpg             volleyball03.jpg\n",
            " billiards21.png         'golf37 (1).png'        volleyball07.jpg\n",
            " billiards22.png         'golf37 (2).png'        volleyball08.png\n",
            " billiards23.png          golf37.png             volleyball09.jpg\n",
            " billiards24.jpg          golf38.png             volleyball10.jpg\n",
            " billiards25.jpg          golf39.png             volleyball11.jpg\n",
            " billiards26.jpg          golf40.png             volleyball12.jpg\n",
            " billiards27.jpg          golf41.jpg             volleyball13.jpg\n",
            " billiards28.jpg          golf42.jpg             volleyball14.png\n",
            " billiards29.jpg         'golf43 (1).jpg'        volleyball15.jpg\n",
            " billiards30.png          golf43.jpg             volleyball16.jpg\n",
            " billiards31.png          golf44.jpg             volleyball17.jpg\n",
            " billiards32.png          golf45.jpg             volleyball18.png\n",
            " billiards33.jpeg         golf46.jpg             volleyball19.png\n",
            " billiards36.png          golf47.jpg             volleyball20.png\n",
            " billiards37.png          golf49.png             volleyball21.png\n",
            " billiards38.png          golf50.jpg             volleyball22.png\n",
            " billiards39.png         'golf51 (1).jpg'        volleyball23.png\n",
            " billiards40.jpg          golf51.jpg             volleyball27.jpg\n",
            " billiards41.jpg          golf52.jpg             volleyball28.jpg\n",
            " billiards42.jpg          golf53.jpeg            volleyball29.jpg\n",
            " billiards43.jpg          golf54.jpeg            volleyball30.jpg\n",
            " billiards44.jpg          soccer00.jpg           volleyball31.jpg\n",
            " billiards45.png          soccer01.jpg           volleyball32.jpg\n",
            " billiards46.png          soccer02.jpeg          volleyball33.png\n",
            " billiards47.png          soccer03.jpg           volleyball34.png\n",
            " billiards48.jpg          soccer04.jpg           volleyball35.png\n",
            " billiards49.png          soccer05.jpg           volleyball37.jpeg\n",
            " billiards50.png          soccer06.jpg           volleyball39.png\n",
            " billiards51.jpeg         soccer07.jpeg          volleyball40.png\n",
            " billiards52.jpeg         soccer08.jpg           volleyball41.png\n",
            " billiards53.png          soccer09.png           volleyball42.jpg\n",
            " bowling00.jpg            soccer10.jpg           volleyball43.png\n",
            " bowling01.jpg            soccer11.jpg           volleyball44.jpg\n",
            " bowling02.jpg            soccer12.jpg           volleyball45.png\n",
            " bowling03.jpg            soccer13.jpg           volleyball46.jpg\n",
            " bowling07.jpeg           soccer14.jpg           volleyball47.jpg\n",
            " bowling08.jpeg           soccer16.jpg           volleyball48.jpg\n",
            " bowling09.jpeg           soccer17.jpg           volleyball49.jpg\n",
            " bowling10.jpg            soccer18.png           volleyball50.jpg\n",
            " bowling11.jpg            soccer19.png           volleyball51.png\n",
            " bowling12.jpg            soccer20.png           volleyball52.png\n",
            " bowling13.png            soccer21.png           volleyball53.png\n",
            " bowling14.png            soccer22.png           volleyball54.png\n",
            " bowling15.png            soccer23.png           volleyball55.jpeg\n",
            " bowling17.jpg            soccer27.jpg           volleyball56.jpeg\n",
            " bowling19.jpg            soccer28.jpg\n"
          ]
        }
      ]
    },
    {
      "cell_type": "code",
      "source": [
        "organize = pd.DataFrame.from_dict(os.listdir())\n",
        "random   = organize.sample(frac=1, random_state=1).reset_index()\n",
        "data     = pd.DataFrame(random)[0].values.tolist()"
      ],
      "metadata": {
        "id": "u4jOD3KtdSBj"
      },
      "execution_count": 5,
      "outputs": []
    },
    {
      "cell_type": "code",
      "source": [
        "print(data)"
      ],
      "metadata": {
        "id": "cEhF6Cna7Svb",
        "outputId": "91532f63-484b-42bc-e430-958c61f501eb",
        "colab": {
          "base_uri": "https://localhost:8080/"
        }
      },
      "execution_count": 6,
      "outputs": [
        {
          "output_type": "stream",
          "name": "stdout",
          "text": [
            "['volleyball01.jpg', 'golf45.jpg', 'volleyball09.jpg', 'baseball14.jpg', 'soccer36.jpg', 'baseball37.png', 'golf19.jpg', 'tennis14.jpg', 'tennis01.jpg', 'basketball41 (1).jpg', 'basketball30 (2).png', 'basketball40.jpg', 'soccer10.jpg', 'tennis08.jpg', 'tabletennis35.jpg', 'tabletennis17.jpg', 'tennis17.jpg', 'tabletennis21.png', 'golf04.jpg', 'billiards20.jpg', 'volleyball43.png', 'basketball47.png', 'tabletennis51.jpg', 'soccer53.jpeg', 'basketball45.png', 'baseball00.jpg', 'golf35 (1).jpg', 'bowling46.jpg', 'soccer50.jpg', 'volleyball21.png', 'football47.jpg', 'football13.png', 'basketball29.jpg', 'bowling20.jpg', 'billiards01.png', 'baseball51.jpeg', 'volleyball35.png', 'football09 (1).png', 'billiards25.jpg', 'bowling07.jpeg', 'soccer48.jpg', 'golf34.jpg', 'football20.jpg', 'football10.jpg', 'golf07 (2).jpeg', 'tabletennis11.jpg', 'football26.jpg', 'baseball38.png', 'tabletennis42.jpg', 'bowling52.jpeg', 'volleyball56.jpeg', 'golf13.png', 'tennis46.jpg', 'basketball24.jpg', 'basketball35.jpg', 'football36.png', 'baseball39.png', 'volleyball20.png', 'volleyball00.jpg', 'basketball12.jpg', 'bowling39.jpg', 'billiards10.jpg', 'tabletennis45.jpg', 'basketball53.jpeg', 'football37 (1).png', 'volleyball31.jpg', 'tabletennis08.jpeg', 'soccer33.png', 'basketball40 (2).jpg', 'tennis02.jpg', 'volleyball22.png', 'tabletennis43.jpg', 'golf52.jpg', 'basketball16.png', 'bowling38.png', 'golf03.jpg', 'basketball30 (1).png', 'golf21.png', 'golf43 (1).jpg', 'billiards39.png', 'football27.jpg', 'baseball33.jpg', 'tennis38.png', 'basketball27 (2).jpg', 'bowling29.jpg', 'baseball03.jpg', 'volleyball08.png', 'baseball13.jpg', 'billiards33.jpeg', 'football23.png', 'basketball00.jpg', 'tennis52.jpeg', 'billiards43.jpg', 'tabletennis38.png', 'soccer37.png', 'golf01.jpg', 'baseball25.jpg', 'basketball41 (2).jpg', 'tabletennis34.png', 'football36 (1).png', 'bowling44.jpg', 'baseball11.jpg', 'football52.jpeg', 'baseball50.jpg', 'basketball15.jpg', 'volleyball55.jpeg', 'bowling08.jpeg', 'volleyball32.jpg', 'soccer43.jpg', 'basketball01.jpg', 'billiards48.jpg', 'football22 (1).jpg', 'billiards28.jpg', 'volleyball40.png', 'tennis34.jpg', 'football01.jpg', 'billiards24.jpg', 'golf50.jpg', 'football24.jpg', 'billiards12.jpg', 'tennis09.jpg', 'tabletennis19 (1).png', 'billiards46.png', 'tennis51.jpeg', 'basketball09.jpeg', 'tabletennis51 (1).jpg', 'basketball41.jpg', 'tabletennis28.jpg', 'basketball42.jpg', 'football00.jpg', 'soccer51.jpeg', 'golf20 (1).jpg', 'tabletennis33.png', 'basketball31.png', 'basketball17.jpg', 'billiards44.jpg', 'tabletennis29.jpg', 'basketball39.jpg', 'tennis10.jpg', 'football29.png', 'soccer27.jpg', 'baseball16.jpg', 'football39.jpg', 'tabletennis02.jpg', 'tabletennis52.png', 'golf33.png', 'bowling14.png', 'tabletennis54.jpeg', 'basketball02.png', 'billiards03.jpeg', 'basketball24 (2).jpg', 'bowling27.jpg', 'tennis22.png', 'soccer08.jpg', 'golf53.jpeg', 'volleyball51.png', 'tabletennis22.png', 'golf22.png', 'tabletennis47.jpg', 'billiards18.webp', 'tennis40.jpg', 'golf46.jpg', 'volleyball16.jpg', 'basketball38.png', 'golf00.jpg', 'bowling23.png', 'soccer11.jpg', 'soccer39.png', 'volleyball42.jpg', 'golf34 (2).jpg', 'baseball52.jpeg', 'volleyball23.png', 'baseball12.jpg', 'football08.jpg', 'golf51.jpg', 'tennis04.jpg', 'golf16.jpg', 'tabletennis50.jpg', 'soccer14.jpg', 'bowling26.png', 'basketball46.png', 'football21 (1).png', 'golf11.jpg', 'bowling36.png', 'baseball36.png', 'soccer28.jpg', 'bowling50.png', 'tabletennis32 (1).png', 'billiards14.png', 'bowling12.jpg', 'basketball36.png', 'volleyball41.png', 'tabletennis13.jpg', 'bowling22.png', 'golf34 (1).jpg', 'football48.png', 'billiards50.png', 'football18.jpg', 'soccer12.jpg', 'golf38.png', 'billiards23.png', 'soccer02.jpeg', 'tabletennis16.jpg', 'bowling01.jpg', 'bowling41.jpg', 'tabletennis08 (1).jpeg', 'billiards41.jpg', 'soccer42.jpg', 'basketball08.jpeg', 'tennis41.jpg', 'billiards07.jpg', 'golf40.png', 'football32.png', 'billiards16.jpg', 'billiards53.png', 'tennis47.jpg', 'golf42.jpg', 'basketball48.png', 'bowling45.jpg', 'football30.png', 'football31.png', 'tennis12.jpg', 'soccer13.jpg', 'baseball01.jpg', 'golf28.png', 'baseball04.jpg', 'golf17.jpg', 'baseball43.jpg', 'volleyball15.jpg', 'tennis18.png', 'golf37 (1).png', 'bowling24.jpg', 'tennis16.jpg', 'golf20 (2).jpg', 'billiards52.jpeg', 'volleyball07.jpg', 'basketball27 (1).jpg', 'golf18.jpg', 'basketball07.jpeg', 'baseball26.jpg', 'bowling25.png', 'football50 (1).png', 'tabletennis12.jpg', 'volleyball02.jpg', 'bowling53.jpeg', 'football37.png', 'soccer22.png', 'tabletennis53.jpeg', 'soccer09.png', 'football16.jpg', 'bowling00.jpg', 'basketball50.png', 'tennis48.png', 'billiards37.png', 'basketball32 (2).png', 'billiards51.jpeg', 'basketball32 (1).png', 'soccer29.jpg', 'basketball51 (1).jpeg', 'basketball44.jpg', 'tabletennis44.jpg', 'bowling28.jpg', 'bowling02.jpg', 'football51.jpeg', 'billiards40.jpg', 'golf23 (2).png', 'volleyball12.jpg', 'volleyball17.jpg', 'baseball47.jpg', 'football23 (1).png', 'tabletennis10.jpg', 'billiards13.png', 'golf07.jpeg', 'tennis43.jpg', 'football11.jpg', 'football46.jpg', 'golf32.png', 'tabletennis03.jpg', 'basketball24 (1).jpg', 'football41.jpg', 'basketball18.jpg', 'basketball51.jpeg', 'football40.jpg', 'billiards49.png', 'tennis28.jpg', 'golf47.jpg', 'bowling48.png', 'volleyball50.jpg', 'baseball19.jpg', 'golf43.jpg', 'golf20.jpg', 'football20 (1).jpg', 'golf05.png', 'soccer21.png', 'football22.jpg', 'football14.png', 'tennis31.png', 'tabletennis48.jpg', 'tabletennis49.jpg', 'bowling40.jpg', 'volleyball44.jpg', 'baseball27.jpg', 'soccer45.jpg', 'golf36 (1).jpg', 'tabletennis32.png', 'tabletennis40 (1).png', 'soccer20.png', 'volleyball46.jpg', 'tennis39.jpg', 'tennis29.jpg', 'bowling34.jpg', 'soccer05.jpg', 'tabletennis37.jpg', 'volleyball29.jpg', 'billiards17.jpg', 'volleyball03.jpg', 'golf44.jpg', 'golf08 (1).png', 'volleyball28.jpg', 'basketball52.jpeg', 'football53.jpeg', 'basketball19.jpg', 'basketball26 (2).jpg', 'basketball27.jpg', 'bowling19.jpg', 'tabletennis04.jpg', 'football07.jpg', 'golf54.jpeg', 'football12.jpg', 'golf37 (2).png', 'golf22 (2).png', 'baseball17.jpg', 'baseball31.png', 'soccer16.jpg', 'tennis13.jpg', 'golf07 (1).jpeg', 'basketball11.jpg', 'billiards00.jpg', 'baseball06.png', 'bowling11.jpg', 'baseball18.jpg', 'baseball49.jpg', 'basketball30.png', 'tennis23.png', 'tennis00.jpg', 'billiards27.jpg', 'soccer49.png', 'golf09 (1).png', 'billiards19.jpg', 'basketball43.jpg', 'tennis44.jpg', 'baseball30.png', 'football09.png', 'volleyball45.png', 'soccer41.jpg', 'tennis03.jpg', 'baseball07.jpg', 'bowling30.png', 'tabletennis09.jpg', 'football43.jpg', 'soccer31.jpg', 'basketball37.png', 'tabletennis27 (1).jpg', 'baseball53.jpeg', 'bowling35.jpg', 'football08 (1).jpg', 'volleyball33.png', 'soccer18.png', 'volleyball19.png', 'football49.png', 'baseball29.jpg', 'soccer00.jpg', 'billiards26.jpg', 'football52 (1).jpeg', 'soccer32.jpg', 'tennis32.png', 'tabletennis18 (1).png', 'basketball13.png', 'soccer03.jpg', 'bowling21.png', 'soccer23.png', 'baseball15.jpg', 'tennis05.jpg', 'golf12.jpg', 'golf22 (1).png', 'volleyball54.png', 'soccer52.jpeg', 'tennis53.jpeg', 'tennis27.jpg', 'volleyball18.png', 'golf09.png', 'baseball32.png', 'bowling43.jpg', 'tennis50.jpg', 'golf51 (1).jpg', 'basketball34.jpg', 'basketball21.jpg', 'bowling10.jpg', 'golf10.jpg', 'baseball40.jpg', 'soccer04.jpg', 'football17.jpg', 'basketball49.png', 'soccer17.jpg', 'basketball40 (1).jpg', 'tabletennis40.png', 'volleyball49.jpg', 'golf08.png', 'soccer19.png', 'basketball32.png', 'baseball23.png', 'tennis20.png', 'tabletennis41.jpg', 'tabletennis36.jpg', 'basketball23.png', 'tennis42.jpg', 'tennis33.jpg', 'basketball18 (2).jpg', 'tennis21.png', 'volleyball11.jpg', 'volleyball37.jpeg', 'bowling37.png', 'billiards32.png', 'basketball51 (2).jpeg', 'tabletennis07.png', 'billiards11.jpg', 'baseball22.png', 'billiards15.png', 'football44.jpg', 'golf14.png', 'tabletennis19.png', 'basketball19 (2).jpg', 'football38.png', 'soccer46.png', 'billiards31.png', 'golf37.png', 'tabletennis46.jpg', 'billiards02.jpeg', 'volleyball30.jpg', 'bowling17.jpg', 'golf23.png', 'golf29.jpg', 'soccer07.jpeg', 'tennis06.png', 'baseball42.jpg', 'golf36.jpg', 'baseball08.jpeg', 'baseball05.jpg', 'golf02.jpg', 'baseball48.png', 'golf31.png', 'volleyball14.png', 'tabletennis18.png', 'tennis15.jpg', 'golf30.jpg', 'tabletennis20.png', 'golf15.png', 'baseball10.jpg', 'baseball02.png', 'volleyball53.png', 'golf08 (2).png', 'football28.jpg', 'baseball44.jpg', 'basketball26.jpg', 'soccer38.png', 'baseball24.jpg', 'bowling32.png', 'billiards38.png', 'volleyball34.png', 'basketball22.png', 'baseball20.jpg', 'billiards22.png', 'golf41.jpg', 'soccer30.jpg', 'football21.png', 'volleyball13.jpg', 'golf35.jpg', 'football25.jpg', 'football50.png', 'bowling51.jpeg', 'tabletennis14.jpg', 'golf27.jpg', 'bowling15.png', 'billiards45.png', 'tabletennis30.jpeg', 'soccer40.jpg', 'billiards29.jpg', 'basketball14.png', 'football19.jpg', 'basketball10.jpg', 'volleyball52.png', 'tabletennis41 (1).jpg', 'basketball20.jpg', 'soccer34.jpg', 'golf39.png', 'soccer06.jpg', 'tennis11.jpg', 'volleyball47.jpg', 'baseball21.png', 'tabletennis31.jpg', 'soccer01.jpg', 'basketball18 (1).jpg', 'basketball19 (1).jpg', 'football06.jpg', 'tennis37.png', 'football42.jpg', 'volleyball27.jpg', 'billiards36.png', 'tabletennis00.jpg', 'tennis19.png', 'tennis07.jpeg', 'bowling03.jpg', 'billiards42.jpg', 'baseball28.jpg', 'billiards30.png', 'tabletennis01.jpg', 'bowling09.jpeg', 'billiards47.png', 'bowling47.jpg', 'tabletennis53 (1).jpeg', 'bowling49.png', 'tabletennis39.png', 'billiards08.jpg', 'golf49.png', 'tennis49.png', 'tabletennis31 (1).jpg', 'golf23 (1).png', 'tabletennis33 (1).png', 'volleyball48.jpg', 'tennis30.png', 'bowling31.png', 'basketball03.png', 'volleyball39.png', 'bowling13.png', 'tabletennis15.jpg', 'soccer44.jpg', 'soccer48.png', 'billiards21.png', 'baseball41.jpg', 'baseball46.jpg', 'basketball26 (1).jpg', 'bowling42.jpg', 'golf36 (2).jpg', 'basketball25.jpg', 'basketball28.jpg', 'tabletennis23.png', 'football05.jpg', 'tennis36.png', 'tennis45.jpg', 'volleyball10.jpg', 'football15.jpg', 'billiards09.jpg', 'tabletennis27.jpg', 'baseball09.jpeg']\n"
          ]
        }
      ]
    },
    {
      "cell_type": "code",
      "source": [
        "m = 0\n",
        "balls_folder = []\n",
        "for file in data:\n",
        "  image = cv.imread(file)\n",
        "  if image.shape == (28,28,3):\n",
        "    balls_folder.append(image)\n",
        "  else:\n",
        "    m += 1\n",
        "print(str(m) + ' images were not rescaled to 28x28 and are now excluded.')"
      ],
      "metadata": {
        "id": "Arum7jCW8Byp",
        "outputId": "6bff762f-3476-4ca5-f7a4-dad53ff3c838",
        "colab": {
          "base_uri": "https://localhost:8080/"
        }
      },
      "execution_count": 7,
      "outputs": [
        {
          "output_type": "stream",
          "name": "stdout",
          "text": [
            "1 images were not rescaled to 28x28 and are now excluded.\n"
          ]
        }
      ]
    },
    {
      "cell_type": "code",
      "source": [
        "print(balls_folder[0].shape)\n",
        "print(len(balls_folder))"
      ],
      "metadata": {
        "id": "Y-4AZAPH8ukA",
        "outputId": "3df99687-a3c5-4b50-b977-c5432bc1bdb4",
        "colab": {
          "base_uri": "https://localhost:8080/"
        }
      },
      "execution_count": 8,
      "outputs": [
        {
          "output_type": "stream",
          "name": "stdout",
          "text": [
            "(28, 28, 3)\n",
            "553\n"
          ]
        }
      ]
    },
    {
      "cell_type": "code",
      "source": [
        "print(balls_folder[0])\n",
        "plt.matshow(balls_folder[552]) #sample ball image"
      ],
      "metadata": {
        "id": "9fZ3hwXF9kBH",
        "outputId": "4c5d118a-7114-4a40-f8e3-e9cea35c4e5c",
        "colab": {
          "base_uri": "https://localhost:8080/",
          "height": 1000
        }
      },
      "execution_count": 10,
      "outputs": [
        {
          "output_type": "stream",
          "name": "stdout",
          "text": [
            "[[[255 251 255]\n",
            "  [255 250 255]\n",
            "  [255 254 255]\n",
            "  ...\n",
            "  [246 253 255]\n",
            "  [249 251 255]\n",
            "  [253 253 255]]\n",
            "\n",
            " [[255 253 255]\n",
            "  [255 253 255]\n",
            "  [251 250 252]\n",
            "  ...\n",
            "  [248 254 255]\n",
            "  [252 253 255]\n",
            "  [253 252 254]]\n",
            "\n",
            " [[255 255 251]\n",
            "  [255 255 252]\n",
            "  [255 255 255]\n",
            "  ...\n",
            "  [253 255 255]\n",
            "  [255 255 254]\n",
            "  [255 254 250]]\n",
            "\n",
            " ...\n",
            "\n",
            " [[255 251 255]\n",
            "  [255 251 255]\n",
            "  [253 255 255]\n",
            "  ...\n",
            "  [255 255 252]\n",
            "  [255 255 252]\n",
            "  [255 255 252]]\n",
            "\n",
            " [[255 252 255]\n",
            "  [255 251 255]\n",
            "  [249 251 251]\n",
            "  ...\n",
            "  [255 255 252]\n",
            "  [250 255 255]\n",
            "  [246 255 255]]\n",
            "\n",
            " [[255 252 255]\n",
            "  [255 254 255]\n",
            "  [253 255 255]\n",
            "  ...\n",
            "  [255 255 252]\n",
            "  [246 255 255]\n",
            "  [243 253 255]]]\n"
          ]
        },
        {
          "output_type": "execute_result",
          "data": {
            "text/plain": [
              "<matplotlib.image.AxesImage at 0x7f756f2fa740>"
            ]
          },
          "metadata": {},
          "execution_count": 10
        },
        {
          "output_type": "display_data",
          "data": {
            "text/plain": [
              "<Figure size 480x480 with 1 Axes>"
            ],
            "image/png": "[encoded data removed]"
          },
          "metadata": {}
        }
      ]
    },
    {
      "cell_type": "code",
      "source": [
        "balls_flat = np.stack((balls_folder[i] for i in range(len(balls_folder))))\n",
        "print(balls_flat.shape)"
      ],
      "metadata": {
        "id": "Omkhs4PL99v1",
        "outputId": "f0ef5f25-e45d-49d8-c9c0-8bd841153aa6",
        "colab": {
          "base_uri": "https://localhost:8080/"
        }
      },
      "execution_count": 11,
      "outputs": [
        {
          "output_type": "stream",
          "name": "stdout",
          "text": [
            "(553, 28, 28, 3)\n"
          ]
        },
        {
          "output_type": "stream",
          "name": "stderr",
          "text": [
            "/usr/local/lib/python3.10/dist-packages/IPython/core/interactiveshell.py:3473: FutureWarning: arrays to stack must be passed as a \"sequence\" type such as list or tuple. Support for non-sequence iterables such as generators is deprecated as of NumPy 1.16 and will raise an error in the future.\n",
            "  if (await self.run_code(code, result,  async_=asy)):\n"
          ]
        }
      ]
    },
    {
      "cell_type": "code",
      "source": [
        "baseballXX    = 'baseball*'\n",
        "basketballXX  = 'basketball*'\n",
        "billiardsXX   = 'billiards*'\n",
        "bowlingXX     = 'bowling*'\n",
        "footballXX    = 'football*'\n",
        "golfXX        = 'golf*'\n",
        "soccerXX      = 'soccer*'\n",
        "tabletennisXX = 'tabletennis*'\n",
        "tennisXX      = 'tennis*'\n",
        "volleyballXX  = 'volleyball*'\n",
        "s_name         = []\n",
        "for filename in data:\n",
        "  image = cv.imread(filename)\n",
        "  if image.shape == (28,28,3):\n",
        "    if fnmatch.fnmatch(filename, baseballXX) == True:\n",
        "      s_name.append(0)\n",
        "    elif fnmatch.fnmatch(filename, basketballXX) == True:\n",
        "      s_name.append(1)\n",
        "    elif fnmatch.fnmatch(filename, billiardsXX) == True:\n",
        "      s_name.append(2)\n",
        "    elif fnmatch.fnmatch(filename, bowlingXX) == True:\n",
        "      s_name.append(3)\n",
        "    elif fnmatch.fnmatch(filename, footballXX) == True:\n",
        "      s_name.append(4)\n",
        "    elif fnmatch.fnmatch(filename, golfXX) == True:\n",
        "      s_name.append(5)\n",
        "    elif fnmatch.fnmatch(filename, soccerXX) == True:\n",
        "      s_name.append(6)\n",
        "    elif fnmatch.fnmatch(filename, tabletennisXX) == True:\n",
        "      s_name.append(7)\n",
        "    elif fnmatch.fnmatch(filename, tennisXX) == True:\n",
        "      s_name.append(8)\n",
        "    elif fnmatch.fnmatch(filename, volleyballXX) == True:\n",
        "      s_name.append(9)\n",
        "    else:\n",
        "      print(filename + str(' is not accounted.'))\n",
        "\n",
        "s_name = np.reshape(s_name, (len(s_name),))\n",
        "print(s_name.shape)\n",
        "print(s_name)"
      ],
      "metadata": {
        "id": "v98LNmumCoWW",
        "outputId": "f49f9e63-4459-4494-dd92-dbc9b7d38532",
        "colab": {
          "base_uri": "https://localhost:8080/"
        }
      },
      "execution_count": 12,
      "outputs": [
        {
          "output_type": "stream",
          "name": "stdout",
          "text": [
            "(553,)\n",
            "[9 5 9 0 6 0 5 8 8 1 1 1 6 8 7 7 8 7 5 2 9 1 7 6 1 0 5 3 6 9 4 4 1 3 2 0 9\n",
            " 4 2 3 6 5 4 4 5 7 4 0 7 3 9 5 8 1 1 4 0 9 9 1 3 2 7 1 4 9 7 6 1 8 9 7 5 1\n",
            " 3 5 1 5 5 2 4 0 8 1 3 0 9 0 2 4 1 8 2 7 6 5 0 1 7 4 3 0 4 0 1 9 3 9 6 1 2\n",
            " 4 2 9 8 4 2 5 4 2 8 7 2 8 1 7 1 7 1 4 6 5 7 1 1 2 7 1 8 4 6 0 4 7 7 5 3 7\n",
            " 1 2 1 3 8 6 5 9 7 5 7 2 8 5 9 1 5 3 6 6 9 5 0 9 0 4 5 8 5 7 6 3 1 4 5 3 0\n",
            " 6 3 7 2 3 1 9 7 3 5 4 2 4 6 5 2 6 7 3 3 7 2 6 1 8 2 5 4 2 2 8 5 1 3 4 4 8\n",
            " 6 0 5 0 5 0 9 8 5 3 8 5 2 9 1 5 1 0 3 4 7 9 3 4 6 7 6 4 3 1 8 2 1 2 1 6 1\n",
            " 1 7 3 3 4 2 5 9 9 0 4 7 2 5 8 4 5 7 1 4 1 1 4 2 8 5 3 9 0 5 5 4 5 6 4 4 8\n",
            " 7 7 3 9 0 6 5 7 7 6 9 8 8 3 6 7 9 2 9 5 5 9 1 4 1 1 1 3 7 4 5 4 5 5 0 0 6\n",
            " 8 5 1 2 0 3 0 0 1 8 8 2 6 5 2 1 8 0 4 9 6 8 0 3 7 4 6 1 7 0 3 4 9 6 9 4 0\n",
            " 6 2 4 6 8 7 1 6 3 6 0 8 5 5 9 6 8 8 9 5 0 3 8 5 1 1 3 5 0 6 4 1 6 1 7 9 5\n",
            " 6 1 0 8 7 7 1 8 8 1 8 9 9 3 2 1 7 2 0 2 4 5 7 1 4 6 2 5 7 2 9 3 5 5 6 8 0\n",
            " 5 0 0 5 0 5 9 7 8 5 7 5 0 0 9 5 4 0 1 6 0 3 2 9 1 0 2 5 6 4 9 5 4 4 3 7 5\n",
            " 3 2 7 6 2 1 4 1 9 7 1 6 5 6 8 9 0 7 6 1 1 4 8 4 9 2 7 8 8 3 2 0 2 7 3 2 3\n",
            " 7 3 7 2 5 8 7 5 7 9 8 3 1 9 3 7 6 6 2 0 0 1 3 5 1 1 7 4 8 8 9 4 2 7 0]\n"
          ]
        }
      ]
    },
    {
      "cell_type": "markdown",
      "source": [
        "#####**Preparing the Data**"
      ],
      "metadata": {
        "id": "gRtywxq-e_9v"
      }
    },
    {
      "cell_type": "code",
      "source": [
        "trainRatio = 75/100\n",
        "testRatio = 15/100\n",
        "valRatio = 10/100\n",
        "X_train,X_test,y_train, y_test = train_test_split(balls_flat, s_name, test_size = 1 - trainRatio)\n",
        "X_val,X_test,y_val, y_test = train_test_split(balls_flat, s_name, test_size = testRatio/(testRatio+valRatio))\n",
        "\n",
        "#trainRatio = 80/100\n",
        "#testRatio = 20/100\n",
        "#X_train,X_test, y_train, y_test = train_test_split(balls_flat, s_name, test_size = 1 - trainRatio)"
      ],
      "metadata": {
        "id": "T6yCmuVfrR8t"
      },
      "execution_count": 13,
      "outputs": []
    },
    {
      "cell_type": "code",
      "source": [
        "X_train = X_train/255\n",
        "X_test = X_test/255\n",
        "\n",
        "print(X_train.shape)\n",
        "print(X_test.shape)"
      ],
      "metadata": {
        "colab": {
          "base_uri": "https://localhost:8080/"
        },
        "id": "zSJpg4iLStf7",
        "outputId": "ba87109a-04b3-4409-94d6-d2100e9fad21"
      },
      "execution_count": 14,
      "outputs": [
        {
          "output_type": "stream",
          "name": "stdout",
          "text": [
            "(414, 28, 28, 3)\n",
            "(332, 28, 28, 3)\n"
          ]
        }
      ]
    },
    {
      "cell_type": "code",
      "source": [
        "X_train_flat = X_train.reshape(len(X_train),28,28,3)\n",
        "X_test_flat = X_test.reshape(len(X_test),28,28,3)\n",
        "print(X_train_flat.shape)\n",
        "print(X_test_flat.shape)"
      ],
      "metadata": {
        "id": "705bnkYTILbA",
        "colab": {
          "base_uri": "https://localhost:8080/"
        },
        "outputId": "b1966eca-74ad-4a8a-8c27-96fa63b9a44d"
      },
      "execution_count": 15,
      "outputs": [
        {
          "output_type": "stream",
          "name": "stdout",
          "text": [
            "(414, 28, 28, 3)\n",
            "(332, 28, 28, 3)\n"
          ]
        }
      ]
    },
    {
      "cell_type": "code",
      "source": [
        "print(X_train.shape)\n",
        "print(y_train.shape)"
      ],
      "metadata": {
        "colab": {
          "base_uri": "https://localhost:8080/"
        },
        "id": "NhSWbd92hy1Q",
        "outputId": "3d575918-be25-4d0f-dd74-d6a34bdec12f"
      },
      "execution_count": 16,
      "outputs": [
        {
          "output_type": "stream",
          "name": "stdout",
          "text": [
            "(414, 28, 28, 3)\n",
            "(414,)\n"
          ]
        }
      ]
    },
    {
      "cell_type": "markdown",
      "source": [
        "####**Defining the model**"
      ],
      "metadata": {
        "id": "te95nwDRkTlX"
      }
    },
    {
      "cell_type": "code",
      "source": [
        "model = tf.keras.models.Sequential([\n",
        "    tf.keras.layers.Conv2D(64, (3,3), activation='relu', input_shape=(28,28,3)),\n",
        "    tf.keras.layers.MaxPooling2D(2,2),\n",
        "    tf.keras.layers.Dropout(0.5),\n",
        "\n",
        "    tf.keras.layers.Conv2D(128, (3,3), activation='relu'),\n",
        "    tf.keras.layers.MaxPooling2D(2,2),\n",
        "    tf.keras.layers.Dropout(0.5),\n",
        "\n",
        "    tf.keras.layers.Conv2D(128, (3,3), activation='relu'),\n",
        "    tf.keras.layers.MaxPooling2D(2,2),\n",
        "  \n",
        "    tf.keras.layers.Dropout(0.5),\n",
        "    tf.keras.layers.Flatten(),   \n",
        "\n",
        "    tf.keras.layers.Dense(64, activation='relu'),\n",
        "    tf.keras.layers.Dropout(0.5),\n",
        "    tf.keras.layers.Dense(10, activation='softmax')\n",
        "])\n",
        "model.summary()"
      ],
      "metadata": {
        "id": "--pzDKGzSsq7",
        "outputId": "90624276-114c-472a-cbd1-ec9845ed9794",
        "colab": {
          "base_uri": "https://localhost:8080/"
        }
      },
      "execution_count": 25,
      "outputs": [
        {
          "output_type": "stream",
          "name": "stdout",
          "text": [
            "Model: \"sequential_2\"\n",
            "_________________________________________________________________\n",
            " Layer (type)                Output Shape              Param #   \n",
            "=================================================================\n",
            " conv2d_6 (Conv2D)           (None, 26, 26, 64)        1792      \n",
            "                                                                 \n",
            " max_pooling2d_6 (MaxPooling  (None, 13, 13, 64)       0         \n",
            " 2D)                                                             \n",
            "                                                                 \n",
            " dropout_8 (Dropout)         (None, 13, 13, 64)        0         \n",
            "                                                                 \n",
            " conv2d_7 (Conv2D)           (None, 11, 11, 128)       73856     \n",
            "                                                                 \n",
            " max_pooling2d_7 (MaxPooling  (None, 5, 5, 128)        0         \n",
            " 2D)                                                             \n",
            "                                                                 \n",
            " dropout_9 (Dropout)         (None, 5, 5, 128)         0         \n",
            "                                                                 \n",
            " conv2d_8 (Conv2D)           (None, 3, 3, 128)         147584    \n",
            "                                                                 \n",
            " max_pooling2d_8 (MaxPooling  (None, 1, 1, 128)        0         \n",
            " 2D)                                                             \n",
            "                                                                 \n",
            " dropout_10 (Dropout)        (None, 1, 1, 128)         0         \n",
            "                                                                 \n",
            " flatten_2 (Flatten)         (None, 128)               0         \n",
            "                                                                 \n",
            " dense_4 (Dense)             (None, 64)                8256      \n",
            "                                                                 \n",
            " dropout_11 (Dropout)        (None, 64)                0         \n",
            "                                                                 \n",
            " dense_5 (Dense)             (None, 10)                650       \n",
            "                                                                 \n",
            "=================================================================\n",
            "Total params: 232,138\n",
            "Trainable params: 232,138\n",
            "Non-trainable params: 0\n",
            "_________________________________________________________________\n"
          ]
        }
      ]
    },
    {
      "cell_type": "code",
      "source": [
        "model.compile(keras.optimizers.Adam(learning_rate=0.001),\n",
        "              loss = tf.keras.losses.SparseCategoricalCrossentropy(),\n",
        "              # loss = 'sparse_categorical_crossentropy',\n",
        "              metrics=['accuracy'])\n"
      ],
      "metadata": {
        "id": "6d43j7VSKi3w"
      },
      "execution_count": 26,
      "outputs": []
    },
    {
      "cell_type": "code",
      "source": [
        "history = model.fit(X_train, y_train, epochs=400, validation_data=(X_val, y_val), verbose=1)"
      ],
      "metadata": {
        "id": "ozgUZqSq_WBp",
        "colab": {
          "base_uri": "https://localhost:8080/"
        },
        "outputId": "1b795cd0-5a8b-4b19-a005-6e098bc957b0"
      },
      "execution_count": 27,
      "outputs": [
        {
          "output_type": "stream",
          "name": "stdout",
          "text": [
            "Epoch 1/400\n",
            "13/13 [==============================] - 3s 140ms/step - loss: 2.3715 - accuracy: 0.0942 - val_loss: 9.2239 - val_accuracy: 0.1810\n",
            "Epoch 2/400\n",
            "13/13 [==============================] - 2s 125ms/step - loss: 2.3010 - accuracy: 0.1329 - val_loss: 10.8494 - val_accuracy: 0.1765\n",
            "Epoch 3/400\n",
            "13/13 [==============================] - 1s 110ms/step - loss: 2.2708 - accuracy: 0.1425 - val_loss: 14.1092 - val_accuracy: 0.2670\n",
            "Epoch 4/400\n",
            "13/13 [==============================] - 1s 110ms/step - loss: 2.2770 - accuracy: 0.1618 - val_loss: 22.5897 - val_accuracy: 0.2624\n",
            "Epoch 5/400\n",
            "13/13 [==============================] - 1s 108ms/step - loss: 2.2485 - accuracy: 0.1908 - val_loss: 28.5638 - val_accuracy: 0.3032\n",
            "Epoch 6/400\n",
            "13/13 [==============================] - 1s 108ms/step - loss: 2.2224 - accuracy: 0.2029 - val_loss: 32.6699 - val_accuracy: 0.2851\n",
            "Epoch 7/400\n",
            "13/13 [==============================] - 2s 184ms/step - loss: 2.1569 - accuracy: 0.2488 - val_loss: 49.0337 - val_accuracy: 0.3665\n",
            "Epoch 8/400\n",
            "13/13 [==============================] - 3s 202ms/step - loss: 2.1216 - accuracy: 0.2923 - val_loss: 41.1528 - val_accuracy: 0.4480\n",
            "Epoch 9/400\n",
            "13/13 [==============================] - 2s 123ms/step - loss: 1.9840 - accuracy: 0.2826 - val_loss: 72.3120 - val_accuracy: 0.4072\n",
            "Epoch 10/400\n",
            "13/13 [==============================] - 1s 112ms/step - loss: 1.9628 - accuracy: 0.3261 - val_loss: 73.9452 - val_accuracy: 0.4344\n",
            "Epoch 11/400\n",
            "13/13 [==============================] - 1s 109ms/step - loss: 1.8822 - accuracy: 0.3382 - val_loss: 101.2999 - val_accuracy: 0.3801\n",
            "Epoch 12/400\n",
            "13/13 [==============================] - 1s 110ms/step - loss: 1.8131 - accuracy: 0.3647 - val_loss: 89.9529 - val_accuracy: 0.4887\n",
            "Epoch 13/400\n",
            "13/13 [==============================] - 1s 110ms/step - loss: 1.8585 - accuracy: 0.3237 - val_loss: 64.9610 - val_accuracy: 0.5158\n",
            "Epoch 14/400\n",
            "13/13 [==============================] - 2s 122ms/step - loss: 1.7914 - accuracy: 0.3913 - val_loss: 109.6476 - val_accuracy: 0.4072\n",
            "Epoch 15/400\n",
            "13/13 [==============================] - 2s 124ms/step - loss: 1.7325 - accuracy: 0.4058 - val_loss: 136.3468 - val_accuracy: 0.3891\n",
            "Epoch 16/400\n",
            "13/13 [==============================] - 2s 192ms/step - loss: 1.6968 - accuracy: 0.4227 - val_loss: 135.8151 - val_accuracy: 0.4027\n",
            "Epoch 17/400\n",
            "13/13 [==============================] - 2s 176ms/step - loss: 1.6859 - accuracy: 0.4275 - val_loss: 156.6456 - val_accuracy: 0.3937\n",
            "Epoch 18/400\n",
            "13/13 [==============================] - 1s 111ms/step - loss: 1.5941 - accuracy: 0.4396 - val_loss: 142.6415 - val_accuracy: 0.4344\n",
            "Epoch 19/400\n",
            "13/13 [==============================] - 2s 124ms/step - loss: 1.6549 - accuracy: 0.4227 - val_loss: 118.8546 - val_accuracy: 0.4615\n",
            "Epoch 20/400\n",
            "13/13 [==============================] - 1s 112ms/step - loss: 1.5068 - accuracy: 0.4614 - val_loss: 115.0410 - val_accuracy: 0.4751\n",
            "Epoch 21/400\n",
            "13/13 [==============================] - 2s 118ms/step - loss: 1.5310 - accuracy: 0.4807 - val_loss: 121.6006 - val_accuracy: 0.5113\n",
            "Epoch 22/400\n",
            "13/13 [==============================] - 1s 113ms/step - loss: 1.4787 - accuracy: 0.5072 - val_loss: 87.1687 - val_accuracy: 0.5475\n",
            "Epoch 23/400\n",
            "13/13 [==============================] - 2s 128ms/step - loss: 1.4369 - accuracy: 0.5121 - val_loss: 119.7348 - val_accuracy: 0.5294\n",
            "Epoch 24/400\n",
            "13/13 [==============================] - 2s 166ms/step - loss: 1.3990 - accuracy: 0.5097 - val_loss: 112.1062 - val_accuracy: 0.5294\n",
            "Epoch 25/400\n",
            "13/13 [==============================] - 3s 196ms/step - loss: 1.3959 - accuracy: 0.5193 - val_loss: 103.6512 - val_accuracy: 0.5339\n",
            "Epoch 26/400\n",
            "13/13 [==============================] - 2s 139ms/step - loss: 1.3782 - accuracy: 0.5097 - val_loss: 93.1970 - val_accuracy: 0.5566\n",
            "Epoch 27/400\n",
            "13/13 [==============================] - 2s 133ms/step - loss: 1.3554 - accuracy: 0.5072 - val_loss: 112.7936 - val_accuracy: 0.5566\n",
            "Epoch 28/400\n",
            "13/13 [==============================] - 2s 120ms/step - loss: 1.2763 - accuracy: 0.5870 - val_loss: 78.8138 - val_accuracy: 0.5747\n",
            "Epoch 29/400\n",
            "13/13 [==============================] - 2s 119ms/step - loss: 1.2885 - accuracy: 0.5435 - val_loss: 119.4395 - val_accuracy: 0.5204\n",
            "Epoch 30/400\n",
            "13/13 [==============================] - 1s 113ms/step - loss: 1.2412 - accuracy: 0.5797 - val_loss: 104.1439 - val_accuracy: 0.5747\n",
            "Epoch 31/400\n",
            "13/13 [==============================] - 1s 108ms/step - loss: 1.2896 - accuracy: 0.5580 - val_loss: 102.2985 - val_accuracy: 0.5566\n",
            "Epoch 32/400\n",
            "13/13 [==============================] - 2s 123ms/step - loss: 1.2257 - accuracy: 0.5894 - val_loss: 109.2734 - val_accuracy: 0.5701\n",
            "Epoch 33/400\n",
            "13/13 [==============================] - 3s 196ms/step - loss: 1.2741 - accuracy: 0.5507 - val_loss: 155.2523 - val_accuracy: 0.4977\n",
            "Epoch 34/400\n",
            "13/13 [==============================] - 2s 173ms/step - loss: 1.2507 - accuracy: 0.5845 - val_loss: 103.3226 - val_accuracy: 0.5204\n",
            "Epoch 35/400\n",
            "13/13 [==============================] - 2s 194ms/step - loss: 1.2522 - accuracy: 0.5821 - val_loss: 95.0816 - val_accuracy: 0.5792\n",
            "Epoch 36/400\n",
            "13/13 [==============================] - 1s 111ms/step - loss: 1.1610 - accuracy: 0.6377 - val_loss: 106.1062 - val_accuracy: 0.5475\n",
            "Epoch 37/400\n",
            "13/13 [==============================] - 1s 110ms/step - loss: 1.1912 - accuracy: 0.6208 - val_loss: 121.0611 - val_accuracy: 0.5204\n",
            "Epoch 38/400\n",
            "13/13 [==============================] - 1s 109ms/step - loss: 1.1612 - accuracy: 0.6039 - val_loss: 80.6879 - val_accuracy: 0.6244\n",
            "Epoch 39/400\n",
            "13/13 [==============================] - 1s 109ms/step - loss: 1.1280 - accuracy: 0.6111 - val_loss: 113.4622 - val_accuracy: 0.5475\n",
            "Epoch 40/400\n",
            "13/13 [==============================] - 1s 111ms/step - loss: 1.0865 - accuracy: 0.6304 - val_loss: 162.8982 - val_accuracy: 0.4842\n",
            "Epoch 41/400\n",
            "13/13 [==============================] - 2s 186ms/step - loss: 1.0878 - accuracy: 0.6256 - val_loss: 99.8227 - val_accuracy: 0.5385\n",
            "Epoch 42/400\n",
            "13/13 [==============================] - 3s 196ms/step - loss: 1.0753 - accuracy: 0.5918 - val_loss: 105.9968 - val_accuracy: 0.5837\n",
            "Epoch 43/400\n",
            "13/13 [==============================] - 1s 111ms/step - loss: 1.0638 - accuracy: 0.6087 - val_loss: 96.1967 - val_accuracy: 0.6154\n",
            "Epoch 44/400\n",
            "13/13 [==============================] - 1s 110ms/step - loss: 1.0741 - accuracy: 0.6401 - val_loss: 98.9718 - val_accuracy: 0.6018\n",
            "Epoch 45/400\n",
            "13/13 [==============================] - 1s 112ms/step - loss: 1.0978 - accuracy: 0.6546 - val_loss: 79.0729 - val_accuracy: 0.6380\n",
            "Epoch 46/400\n",
            "13/13 [==============================] - 1s 114ms/step - loss: 1.1061 - accuracy: 0.6208 - val_loss: 89.4700 - val_accuracy: 0.5928\n",
            "Epoch 47/400\n",
            "13/13 [==============================] - 1s 108ms/step - loss: 0.9924 - accuracy: 0.6522 - val_loss: 91.3927 - val_accuracy: 0.6425\n",
            "Epoch 48/400\n",
            "13/13 [==============================] - 1s 111ms/step - loss: 1.0061 - accuracy: 0.6522 - val_loss: 102.6279 - val_accuracy: 0.5928\n",
            "Epoch 49/400\n",
            "13/13 [==============================] - 1s 110ms/step - loss: 0.9730 - accuracy: 0.6812 - val_loss: 83.2850 - val_accuracy: 0.6516\n",
            "Epoch 50/400\n",
            "13/13 [==============================] - 2s 194ms/step - loss: 1.0256 - accuracy: 0.6498 - val_loss: 76.1555 - val_accuracy: 0.6290\n",
            "Epoch 51/400\n",
            "13/13 [==============================] - 3s 201ms/step - loss: 1.0261 - accuracy: 0.6860 - val_loss: 86.3709 - val_accuracy: 0.5520\n",
            "Epoch 52/400\n",
            "13/13 [==============================] - 1s 111ms/step - loss: 0.9887 - accuracy: 0.6860 - val_loss: 104.9166 - val_accuracy: 0.6018\n",
            "Epoch 53/400\n",
            "13/13 [==============================] - 1s 111ms/step - loss: 0.9692 - accuracy: 0.6667 - val_loss: 99.7402 - val_accuracy: 0.5882\n",
            "Epoch 54/400\n",
            "13/13 [==============================] - 1s 111ms/step - loss: 0.9949 - accuracy: 0.6594 - val_loss: 88.3553 - val_accuracy: 0.5837\n",
            "Epoch 55/400\n",
            "13/13 [==============================] - 1s 114ms/step - loss: 0.9517 - accuracy: 0.6594 - val_loss: 80.1084 - val_accuracy: 0.6471\n",
            "Epoch 56/400\n",
            "13/13 [==============================] - 2s 122ms/step - loss: 0.8746 - accuracy: 0.6932 - val_loss: 81.1544 - val_accuracy: 0.6244\n",
            "Epoch 57/400\n",
            "13/13 [==============================] - 1s 110ms/step - loss: 0.8413 - accuracy: 0.6932 - val_loss: 106.1932 - val_accuracy: 0.5792\n",
            "Epoch 58/400\n",
            "13/13 [==============================] - 2s 130ms/step - loss: 0.8391 - accuracy: 0.6981 - val_loss: 95.7339 - val_accuracy: 0.6154\n",
            "Epoch 59/400\n",
            "13/13 [==============================] - 2s 192ms/step - loss: 0.8844 - accuracy: 0.7053 - val_loss: 101.1271 - val_accuracy: 0.6199\n",
            "Epoch 60/400\n",
            "13/13 [==============================] - 4s 288ms/step - loss: 0.7982 - accuracy: 0.7343 - val_loss: 78.8121 - val_accuracy: 0.6109\n",
            "Epoch 61/400\n",
            "13/13 [==============================] - 1s 109ms/step - loss: 0.8782 - accuracy: 0.6981 - val_loss: 122.3728 - val_accuracy: 0.5520\n",
            "Epoch 62/400\n",
            "13/13 [==============================] - 1s 112ms/step - loss: 0.8441 - accuracy: 0.7101 - val_loss: 107.1733 - val_accuracy: 0.5973\n",
            "Epoch 63/400\n",
            "13/13 [==============================] - 1s 112ms/step - loss: 0.7968 - accuracy: 0.7198 - val_loss: 80.2159 - val_accuracy: 0.6561\n",
            "Epoch 64/400\n",
            "13/13 [==============================] - 1s 109ms/step - loss: 0.8198 - accuracy: 0.7029 - val_loss: 93.6423 - val_accuracy: 0.6199\n",
            "Epoch 65/400\n",
            "13/13 [==============================] - 1s 107ms/step - loss: 0.8949 - accuracy: 0.7029 - val_loss: 87.0068 - val_accuracy: 0.5837\n",
            "Epoch 66/400\n",
            "13/13 [==============================] - 2s 131ms/step - loss: 0.7825 - accuracy: 0.7367 - val_loss: 80.7200 - val_accuracy: 0.5882\n",
            "Epoch 67/400\n",
            "13/13 [==============================] - 2s 187ms/step - loss: 0.8294 - accuracy: 0.7319 - val_loss: 78.3423 - val_accuracy: 0.6471\n",
            "Epoch 68/400\n",
            "13/13 [==============================] - 2s 183ms/step - loss: 0.7701 - accuracy: 0.7271 - val_loss: 99.6054 - val_accuracy: 0.6199\n",
            "Epoch 69/400\n",
            "13/13 [==============================] - 1s 109ms/step - loss: 0.8032 - accuracy: 0.7343 - val_loss: 82.1110 - val_accuracy: 0.6697\n",
            "Epoch 70/400\n",
            "13/13 [==============================] - 1s 110ms/step - loss: 0.7754 - accuracy: 0.7150 - val_loss: 100.4866 - val_accuracy: 0.5928\n",
            "Epoch 71/400\n",
            "13/13 [==============================] - 1s 112ms/step - loss: 0.7912 - accuracy: 0.7077 - val_loss: 78.0844 - val_accuracy: 0.6787\n",
            "Epoch 72/400\n",
            "13/13 [==============================] - 1s 111ms/step - loss: 0.8068 - accuracy: 0.7150 - val_loss: 99.6983 - val_accuracy: 0.5882\n",
            "Epoch 73/400\n",
            "13/13 [==============================] - 1s 111ms/step - loss: 0.7385 - accuracy: 0.7343 - val_loss: 94.1191 - val_accuracy: 0.6380\n",
            "Epoch 74/400\n",
            "13/13 [==============================] - 1s 109ms/step - loss: 0.7366 - accuracy: 0.7560 - val_loss: 100.9093 - val_accuracy: 0.6109\n",
            "Epoch 75/400\n",
            "13/13 [==============================] - 2s 138ms/step - loss: 0.6369 - accuracy: 0.8092 - val_loss: 100.9106 - val_accuracy: 0.6109\n",
            "Epoch 76/400\n",
            "13/13 [==============================] - 3s 196ms/step - loss: 0.6471 - accuracy: 0.7826 - val_loss: 102.3228 - val_accuracy: 0.6380\n",
            "Epoch 77/400\n",
            "13/13 [==============================] - 2s 156ms/step - loss: 0.6705 - accuracy: 0.7633 - val_loss: 97.1945 - val_accuracy: 0.6199\n",
            "Epoch 78/400\n",
            "13/13 [==============================] - 1s 110ms/step - loss: 0.6333 - accuracy: 0.8092 - val_loss: 84.2199 - val_accuracy: 0.6652\n",
            "Epoch 79/400\n",
            "13/13 [==============================] - 1s 109ms/step - loss: 0.6830 - accuracy: 0.7560 - val_loss: 93.8483 - val_accuracy: 0.6154\n",
            "Epoch 80/400\n",
            "13/13 [==============================] - 1s 113ms/step - loss: 0.6524 - accuracy: 0.7585 - val_loss: 92.0253 - val_accuracy: 0.6923\n",
            "Epoch 81/400\n",
            "13/13 [==============================] - 1s 113ms/step - loss: 0.6800 - accuracy: 0.7729 - val_loss: 104.3137 - val_accuracy: 0.6516\n",
            "Epoch 82/400\n",
            "13/13 [==============================] - 1s 110ms/step - loss: 0.6609 - accuracy: 0.7729 - val_loss: 107.9947 - val_accuracy: 0.6290\n",
            "Epoch 83/400\n",
            "13/13 [==============================] - 1s 110ms/step - loss: 0.6444 - accuracy: 0.7850 - val_loss: 105.8690 - val_accuracy: 0.6154\n",
            "Epoch 84/400\n",
            "13/13 [==============================] - 2s 143ms/step - loss: 0.6345 - accuracy: 0.7874 - val_loss: 99.4026 - val_accuracy: 0.6471\n",
            "Epoch 85/400\n",
            "13/13 [==============================] - 2s 194ms/step - loss: 0.6339 - accuracy: 0.7923 - val_loss: 106.3261 - val_accuracy: 0.6425\n",
            "Epoch 86/400\n",
            "13/13 [==============================] - 2s 152ms/step - loss: 0.6426 - accuracy: 0.7874 - val_loss: 90.3232 - val_accuracy: 0.6561\n",
            "Epoch 87/400\n",
            "13/13 [==============================] - 1s 110ms/step - loss: 0.6068 - accuracy: 0.7923 - val_loss: 96.9064 - val_accuracy: 0.6380\n",
            "Epoch 88/400\n",
            "13/13 [==============================] - 1s 112ms/step - loss: 0.6046 - accuracy: 0.8116 - val_loss: 95.4427 - val_accuracy: 0.6154\n",
            "Epoch 89/400\n",
            "13/13 [==============================] - 2s 123ms/step - loss: 0.6280 - accuracy: 0.7923 - val_loss: 84.3763 - val_accuracy: 0.7149\n",
            "Epoch 90/400\n",
            "13/13 [==============================] - 2s 129ms/step - loss: 0.7259 - accuracy: 0.7488 - val_loss: 87.4389 - val_accuracy: 0.6380\n",
            "Epoch 91/400\n",
            "13/13 [==============================] - 1s 111ms/step - loss: 0.6290 - accuracy: 0.7995 - val_loss: 110.3855 - val_accuracy: 0.6109\n",
            "Epoch 92/400\n",
            "13/13 [==============================] - 1s 109ms/step - loss: 0.6321 - accuracy: 0.7923 - val_loss: 95.3437 - val_accuracy: 0.6606\n",
            "Epoch 93/400\n",
            "13/13 [==============================] - 2s 176ms/step - loss: 0.6575 - accuracy: 0.7729 - val_loss: 100.4737 - val_accuracy: 0.6244\n",
            "Epoch 94/400\n",
            "13/13 [==============================] - 2s 190ms/step - loss: 0.6077 - accuracy: 0.8019 - val_loss: 98.6808 - val_accuracy: 0.6335\n",
            "Epoch 95/400\n",
            "13/13 [==============================] - 2s 128ms/step - loss: 0.6104 - accuracy: 0.7850 - val_loss: 81.0010 - val_accuracy: 0.6923\n",
            "Epoch 96/400\n",
            "13/13 [==============================] - 2s 128ms/step - loss: 0.5723 - accuracy: 0.8092 - val_loss: 103.9097 - val_accuracy: 0.6471\n",
            "Epoch 97/400\n",
            "13/13 [==============================] - 1s 111ms/step - loss: 0.5753 - accuracy: 0.7995 - val_loss: 99.5764 - val_accuracy: 0.6561\n",
            "Epoch 98/400\n",
            "13/13 [==============================] - 1s 113ms/step - loss: 0.5464 - accuracy: 0.8237 - val_loss: 82.3961 - val_accuracy: 0.7557\n",
            "Epoch 99/400\n",
            "13/13 [==============================] - 1s 109ms/step - loss: 0.5796 - accuracy: 0.8068 - val_loss: 117.5480 - val_accuracy: 0.6199\n",
            "Epoch 100/400\n",
            "13/13 [==============================] - 1s 110ms/step - loss: 0.5488 - accuracy: 0.8237 - val_loss: 120.7407 - val_accuracy: 0.6606\n",
            "Epoch 101/400\n",
            "13/13 [==============================] - 1s 109ms/step - loss: 0.5573 - accuracy: 0.8068 - val_loss: 137.8159 - val_accuracy: 0.6063\n",
            "Epoch 102/400\n",
            "13/13 [==============================] - 2s 193ms/step - loss: 0.4929 - accuracy: 0.8237 - val_loss: 142.1028 - val_accuracy: 0.6244\n",
            "Epoch 103/400\n",
            "13/13 [==============================] - 2s 193ms/step - loss: 0.5759 - accuracy: 0.8237 - val_loss: 113.1502 - val_accuracy: 0.6516\n",
            "Epoch 104/400\n",
            "13/13 [==============================] - 1s 109ms/step - loss: 0.5269 - accuracy: 0.8237 - val_loss: 100.8780 - val_accuracy: 0.6787\n",
            "Epoch 105/400\n",
            "13/13 [==============================] - 1s 109ms/step - loss: 0.5283 - accuracy: 0.8188 - val_loss: 112.1665 - val_accuracy: 0.6652\n",
            "Epoch 106/400\n",
            "13/13 [==============================] - 2s 124ms/step - loss: 0.5875 - accuracy: 0.8140 - val_loss: 98.9441 - val_accuracy: 0.6923\n",
            "Epoch 107/400\n",
            "13/13 [==============================] - 2s 124ms/step - loss: 0.5432 - accuracy: 0.8309 - val_loss: 147.8334 - val_accuracy: 0.5973\n",
            "Epoch 108/400\n",
            "13/13 [==============================] - 2s 118ms/step - loss: 0.5478 - accuracy: 0.8261 - val_loss: 122.2451 - val_accuracy: 0.6561\n",
            "Epoch 109/400\n",
            "13/13 [==============================] - 1s 110ms/step - loss: 0.5485 - accuracy: 0.8092 - val_loss: 83.6449 - val_accuracy: 0.7104\n",
            "Epoch 110/400\n",
            "13/13 [==============================] - 2s 127ms/step - loss: 0.5202 - accuracy: 0.8454 - val_loss: 109.1115 - val_accuracy: 0.6697\n",
            "Epoch 111/400\n",
            "13/13 [==============================] - 3s 199ms/step - loss: 0.5205 - accuracy: 0.8406 - val_loss: 105.0675 - val_accuracy: 0.6787\n",
            "Epoch 112/400\n",
            "13/13 [==============================] - 2s 171ms/step - loss: 0.5158 - accuracy: 0.8478 - val_loss: 109.8746 - val_accuracy: 0.6425\n",
            "Epoch 113/400\n",
            "13/13 [==============================] - 1s 111ms/step - loss: 0.4754 - accuracy: 0.8357 - val_loss: 108.9128 - val_accuracy: 0.7014\n",
            "Epoch 114/400\n",
            "13/13 [==============================] - 1s 110ms/step - loss: 0.4953 - accuracy: 0.8430 - val_loss: 117.7904 - val_accuracy: 0.6742\n",
            "Epoch 115/400\n",
            "13/13 [==============================] - 2s 126ms/step - loss: 0.4772 - accuracy: 0.8406 - val_loss: 132.1724 - val_accuracy: 0.6787\n",
            "Epoch 116/400\n",
            "13/13 [==============================] - 1s 115ms/step - loss: 0.4743 - accuracy: 0.8478 - val_loss: 141.2400 - val_accuracy: 0.6335\n",
            "Epoch 117/400\n",
            "13/13 [==============================] - 1s 112ms/step - loss: 0.5198 - accuracy: 0.8382 - val_loss: 145.6358 - val_accuracy: 0.6290\n",
            "Epoch 118/400\n",
            "13/13 [==============================] - 1s 114ms/step - loss: 0.4714 - accuracy: 0.8357 - val_loss: 151.0488 - val_accuracy: 0.6109\n",
            "Epoch 119/400\n",
            "13/13 [==============================] - 2s 152ms/step - loss: 0.4756 - accuracy: 0.8333 - val_loss: 108.1807 - val_accuracy: 0.6833\n",
            "Epoch 120/400\n",
            "13/13 [==============================] - 3s 200ms/step - loss: 0.4353 - accuracy: 0.8551 - val_loss: 131.9754 - val_accuracy: 0.6290\n",
            "Epoch 121/400\n",
            "13/13 [==============================] - 2s 146ms/step - loss: 0.4312 - accuracy: 0.8527 - val_loss: 136.8840 - val_accuracy: 0.6697\n",
            "Epoch 122/400\n",
            "13/13 [==============================] - 1s 112ms/step - loss: 0.4289 - accuracy: 0.8551 - val_loss: 124.3478 - val_accuracy: 0.6923\n",
            "Epoch 123/400\n",
            "13/13 [==============================] - 1s 111ms/step - loss: 0.4541 - accuracy: 0.8454 - val_loss: 118.4122 - val_accuracy: 0.7104\n",
            "Epoch 124/400\n",
            "13/13 [==============================] - 1s 114ms/step - loss: 0.5525 - accuracy: 0.8237 - val_loss: 115.2902 - val_accuracy: 0.6606\n",
            "Epoch 125/400\n",
            "13/13 [==============================] - 1s 112ms/step - loss: 0.4401 - accuracy: 0.8502 - val_loss: 136.1997 - val_accuracy: 0.6923\n",
            "Epoch 126/400\n",
            "13/13 [==============================] - 1s 111ms/step - loss: 0.4636 - accuracy: 0.8454 - val_loss: 102.2534 - val_accuracy: 0.6923\n",
            "Epoch 127/400\n",
            "13/13 [==============================] - 1s 110ms/step - loss: 0.4423 - accuracy: 0.8502 - val_loss: 137.5956 - val_accuracy: 0.7059\n",
            "Epoch 128/400\n",
            "13/13 [==============================] - 2s 163ms/step - loss: 0.4815 - accuracy: 0.8430 - val_loss: 112.2808 - val_accuracy: 0.7059\n",
            "Epoch 129/400\n",
            "13/13 [==============================] - 2s 194ms/step - loss: 0.4405 - accuracy: 0.8478 - val_loss: 121.4065 - val_accuracy: 0.6290\n",
            "Epoch 130/400\n",
            "13/13 [==============================] - 2s 138ms/step - loss: 0.5101 - accuracy: 0.8188 - val_loss: 146.0027 - val_accuracy: 0.6652\n",
            "Epoch 131/400\n",
            "13/13 [==============================] - 2s 125ms/step - loss: 0.4127 - accuracy: 0.8841 - val_loss: 143.4376 - val_accuracy: 0.6516\n",
            "Epoch 132/400\n",
            "13/13 [==============================] - 2s 124ms/step - loss: 0.4383 - accuracy: 0.8671 - val_loss: 117.7734 - val_accuracy: 0.6878\n",
            "Epoch 133/400\n",
            "13/13 [==============================] - 1s 112ms/step - loss: 0.4257 - accuracy: 0.8551 - val_loss: 108.3671 - val_accuracy: 0.7195\n",
            "Epoch 134/400\n",
            "13/13 [==============================] - 2s 128ms/step - loss: 0.5097 - accuracy: 0.8285 - val_loss: 155.8694 - val_accuracy: 0.6199\n",
            "Epoch 135/400\n",
            "13/13 [==============================] - 1s 111ms/step - loss: 0.4028 - accuracy: 0.8792 - val_loss: 105.6668 - val_accuracy: 0.7421\n",
            "Epoch 136/400\n",
            "13/13 [==============================] - 2s 125ms/step - loss: 0.4408 - accuracy: 0.8720 - val_loss: 107.7228 - val_accuracy: 0.7149\n",
            "Epoch 137/400\n",
            "13/13 [==============================] - 3s 198ms/step - loss: 0.4111 - accuracy: 0.8527 - val_loss: 109.3680 - val_accuracy: 0.7240\n",
            "Epoch 138/400\n",
            "13/13 [==============================] - 2s 174ms/step - loss: 0.4032 - accuracy: 0.8671 - val_loss: 154.9550 - val_accuracy: 0.6606\n",
            "Epoch 139/400\n",
            "13/13 [==============================] - 2s 125ms/step - loss: 0.3792 - accuracy: 0.8720 - val_loss: 122.0860 - val_accuracy: 0.6878\n",
            "Epoch 140/400\n",
            "13/13 [==============================] - 1s 112ms/step - loss: 0.4373 - accuracy: 0.8551 - val_loss: 102.3190 - val_accuracy: 0.7195\n",
            "Epoch 141/400\n",
            "13/13 [==============================] - 1s 112ms/step - loss: 0.3784 - accuracy: 0.8913 - val_loss: 129.5013 - val_accuracy: 0.6787\n",
            "Epoch 142/400\n",
            "13/13 [==============================] - 1s 111ms/step - loss: 0.3796 - accuracy: 0.8623 - val_loss: 128.3114 - val_accuracy: 0.7104\n",
            "Epoch 143/400\n",
            "13/13 [==============================] - 2s 125ms/step - loss: 0.4160 - accuracy: 0.8696 - val_loss: 141.2405 - val_accuracy: 0.6425\n",
            "Epoch 144/400\n",
            "13/13 [==============================] - 1s 112ms/step - loss: 0.3923 - accuracy: 0.8696 - val_loss: 143.9278 - val_accuracy: 0.6742\n",
            "Epoch 145/400\n",
            "13/13 [==============================] - 2s 156ms/step - loss: 0.4435 - accuracy: 0.8720 - val_loss: 151.3475 - val_accuracy: 0.6471\n",
            "Epoch 146/400\n",
            "13/13 [==============================] - 3s 199ms/step - loss: 0.4132 - accuracy: 0.8599 - val_loss: 151.0083 - val_accuracy: 0.6516\n",
            "Epoch 147/400\n",
            "13/13 [==============================] - 2s 138ms/step - loss: 0.4435 - accuracy: 0.8792 - val_loss: 169.4074 - val_accuracy: 0.6380\n",
            "Epoch 148/400\n",
            "13/13 [==============================] - 1s 115ms/step - loss: 0.4353 - accuracy: 0.8720 - val_loss: 121.9891 - val_accuracy: 0.6787\n",
            "Epoch 149/400\n",
            "13/13 [==============================] - 1s 111ms/step - loss: 0.3984 - accuracy: 0.8599 - val_loss: 136.1865 - val_accuracy: 0.6652\n",
            "Epoch 150/400\n",
            "13/13 [==============================] - 1s 113ms/step - loss: 0.4123 - accuracy: 0.8889 - val_loss: 108.7018 - val_accuracy: 0.7149\n",
            "Epoch 151/400\n",
            "13/13 [==============================] - 2s 125ms/step - loss: 0.4125 - accuracy: 0.8575 - val_loss: 142.6448 - val_accuracy: 0.6516\n",
            "Epoch 152/400\n",
            "13/13 [==============================] - 1s 114ms/step - loss: 0.4121 - accuracy: 0.8792 - val_loss: 100.9651 - val_accuracy: 0.7285\n",
            "Epoch 153/400\n",
            "13/13 [==============================] - 1s 114ms/step - loss: 0.3642 - accuracy: 0.8937 - val_loss: 168.1064 - val_accuracy: 0.6425\n",
            "Epoch 154/400\n",
            "13/13 [==============================] - 2s 188ms/step - loss: 0.4516 - accuracy: 0.8430 - val_loss: 105.5028 - val_accuracy: 0.7421\n",
            "Epoch 155/400\n",
            "13/13 [==============================] - 3s 199ms/step - loss: 0.4360 - accuracy: 0.8696 - val_loss: 109.7067 - val_accuracy: 0.7466\n",
            "Epoch 156/400\n",
            "13/13 [==============================] - 2s 114ms/step - loss: 0.3914 - accuracy: 0.8696 - val_loss: 127.2262 - val_accuracy: 0.6471\n",
            "Epoch 157/400\n",
            "13/13 [==============================] - 1s 114ms/step - loss: 0.4048 - accuracy: 0.8696 - val_loss: 108.1667 - val_accuracy: 0.7104\n",
            "Epoch 158/400\n",
            "13/13 [==============================] - 2s 125ms/step - loss: 0.4264 - accuracy: 0.8647 - val_loss: 166.2414 - val_accuracy: 0.6244\n",
            "Epoch 159/400\n",
            "13/13 [==============================] - 1s 115ms/step - loss: 0.3630 - accuracy: 0.8816 - val_loss: 129.5531 - val_accuracy: 0.6787\n",
            "Epoch 160/400\n",
            "13/13 [==============================] - 2s 118ms/step - loss: 0.3634 - accuracy: 0.8744 - val_loss: 126.1202 - val_accuracy: 0.7285\n",
            "Epoch 161/400\n",
            "13/13 [==============================] - 1s 114ms/step - loss: 0.3655 - accuracy: 0.8768 - val_loss: 137.4267 - val_accuracy: 0.6742\n",
            "Epoch 162/400\n",
            "13/13 [==============================] - 2s 128ms/step - loss: 0.3746 - accuracy: 0.8696 - val_loss: 133.0222 - val_accuracy: 0.6833\n",
            "Epoch 163/400\n",
            "13/13 [==============================] - 3s 201ms/step - loss: 0.3767 - accuracy: 0.8816 - val_loss: 132.9608 - val_accuracy: 0.6923\n",
            "Epoch 164/400\n",
            "13/13 [==============================] - 2s 177ms/step - loss: 0.3511 - accuracy: 0.8913 - val_loss: 149.0254 - val_accuracy: 0.6697\n",
            "Epoch 165/400\n",
            "13/13 [==============================] - 1s 116ms/step - loss: 0.3405 - accuracy: 0.8841 - val_loss: 149.4554 - val_accuracy: 0.6697\n",
            "Epoch 166/400\n",
            "13/13 [==============================] - 2s 117ms/step - loss: 0.3701 - accuracy: 0.8816 - val_loss: 129.1742 - val_accuracy: 0.7059\n",
            "Epoch 167/400\n",
            "13/13 [==============================] - 1s 116ms/step - loss: 0.3634 - accuracy: 0.9106 - val_loss: 135.4140 - val_accuracy: 0.6833\n",
            "Epoch 168/400\n",
            "13/13 [==============================] - 1s 113ms/step - loss: 0.2970 - accuracy: 0.8889 - val_loss: 175.4423 - val_accuracy: 0.6290\n",
            "Epoch 169/400\n",
            "13/13 [==============================] - 2s 129ms/step - loss: 0.3197 - accuracy: 0.9082 - val_loss: 136.8701 - val_accuracy: 0.6697\n",
            "Epoch 170/400\n",
            "13/13 [==============================] - 2s 129ms/step - loss: 0.3011 - accuracy: 0.9010 - val_loss: 143.2170 - val_accuracy: 0.6787\n",
            "Epoch 171/400\n",
            "13/13 [==============================] - 2s 179ms/step - loss: 0.3655 - accuracy: 0.8961 - val_loss: 181.3907 - val_accuracy: 0.6154\n",
            "Epoch 172/400\n",
            "13/13 [==============================] - 3s 201ms/step - loss: 0.3761 - accuracy: 0.8744 - val_loss: 167.3454 - val_accuracy: 0.6380\n",
            "Epoch 173/400\n",
            "13/13 [==============================] - 2s 143ms/step - loss: 0.3587 - accuracy: 0.8792 - val_loss: 191.3970 - val_accuracy: 0.5882\n",
            "Epoch 174/400\n",
            "13/13 [==============================] - 1s 116ms/step - loss: 0.2958 - accuracy: 0.9034 - val_loss: 126.7552 - val_accuracy: 0.7240\n",
            "Epoch 175/400\n",
            "13/13 [==============================] - 1s 116ms/step - loss: 0.3208 - accuracy: 0.9058 - val_loss: 194.4993 - val_accuracy: 0.6063\n",
            "Epoch 176/400\n",
            "13/13 [==============================] - 1s 116ms/step - loss: 0.3340 - accuracy: 0.8889 - val_loss: 171.6445 - val_accuracy: 0.6335\n",
            "Epoch 177/400\n",
            "13/13 [==============================] - 2s 135ms/step - loss: 0.3227 - accuracy: 0.8841 - val_loss: 163.3276 - val_accuracy: 0.6244\n",
            "Epoch 178/400\n",
            "13/13 [==============================] - 2s 118ms/step - loss: 0.3062 - accuracy: 0.9034 - val_loss: 142.7977 - val_accuracy: 0.7014\n",
            "Epoch 179/400\n",
            "13/13 [==============================] - 2s 144ms/step - loss: 0.2766 - accuracy: 0.9010 - val_loss: 151.4238 - val_accuracy: 0.6787\n",
            "Epoch 180/400\n",
            "13/13 [==============================] - 3s 213ms/step - loss: 0.2807 - accuracy: 0.9058 - val_loss: 181.9303 - val_accuracy: 0.6561\n",
            "Epoch 181/400\n",
            "13/13 [==============================] - 2s 172ms/step - loss: 0.3278 - accuracy: 0.8889 - val_loss: 144.7215 - val_accuracy: 0.6968\n",
            "Epoch 182/400\n",
            "13/13 [==============================] - 2s 118ms/step - loss: 0.3221 - accuracy: 0.9058 - val_loss: 168.6509 - val_accuracy: 0.6787\n",
            "Epoch 183/400\n",
            "13/13 [==============================] - 2s 121ms/step - loss: 0.3380 - accuracy: 0.8986 - val_loss: 116.3957 - val_accuracy: 0.6697\n",
            "Epoch 184/400\n",
            "13/13 [==============================] - 2s 119ms/step - loss: 0.2997 - accuracy: 0.8961 - val_loss: 137.7836 - val_accuracy: 0.6606\n",
            "Epoch 185/400\n",
            "13/13 [==============================] - 2s 131ms/step - loss: 0.3464 - accuracy: 0.8937 - val_loss: 172.4123 - val_accuracy: 0.6878\n",
            "Epoch 186/400\n",
            "13/13 [==============================] - 2s 118ms/step - loss: 0.3378 - accuracy: 0.8792 - val_loss: 144.5758 - val_accuracy: 0.6878\n",
            "Epoch 187/400\n",
            "13/13 [==============================] - 2s 119ms/step - loss: 0.3082 - accuracy: 0.9082 - val_loss: 127.7004 - val_accuracy: 0.6787\n",
            "Epoch 188/400\n",
            "13/13 [==============================] - 3s 203ms/step - loss: 0.3455 - accuracy: 0.8913 - val_loss: 129.2875 - val_accuracy: 0.7014\n",
            "Epoch 189/400\n",
            "13/13 [==============================] - 3s 201ms/step - loss: 0.3195 - accuracy: 0.8986 - val_loss: 129.7343 - val_accuracy: 0.6878\n",
            "Epoch 190/400\n",
            "13/13 [==============================] - 1s 115ms/step - loss: 0.3405 - accuracy: 0.8913 - val_loss: 148.0963 - val_accuracy: 0.6742\n",
            "Epoch 191/400\n",
            "13/13 [==============================] - 2s 117ms/step - loss: 0.3088 - accuracy: 0.8961 - val_loss: 152.4214 - val_accuracy: 0.6652\n",
            "Epoch 192/400\n",
            "13/13 [==============================] - 1s 115ms/step - loss: 0.3006 - accuracy: 0.8841 - val_loss: 152.9560 - val_accuracy: 0.6968\n",
            "Epoch 193/400\n",
            "13/13 [==============================] - 2s 118ms/step - loss: 0.2872 - accuracy: 0.9106 - val_loss: 229.7873 - val_accuracy: 0.6380\n",
            "Epoch 194/400\n",
            "13/13 [==============================] - 2s 129ms/step - loss: 0.3299 - accuracy: 0.8913 - val_loss: 162.2557 - val_accuracy: 0.7059\n",
            "Epoch 195/400\n",
            "13/13 [==============================] - 2s 127ms/step - loss: 0.2480 - accuracy: 0.9155 - val_loss: 207.3156 - val_accuracy: 0.6199\n",
            "Epoch 196/400\n",
            "13/13 [==============================] - 2s 163ms/step - loss: 0.2953 - accuracy: 0.9106 - val_loss: 174.1540 - val_accuracy: 0.6516\n",
            "Epoch 197/400\n",
            "13/13 [==============================] - 3s 203ms/step - loss: 0.4001 - accuracy: 0.8986 - val_loss: 216.9480 - val_accuracy: 0.6425\n",
            "Epoch 198/400\n",
            "13/13 [==============================] - 2s 138ms/step - loss: 0.3515 - accuracy: 0.8841 - val_loss: 165.2379 - val_accuracy: 0.6516\n",
            "Epoch 199/400\n",
            "13/13 [==============================] - 1s 114ms/step - loss: 0.2828 - accuracy: 0.9034 - val_loss: 185.7861 - val_accuracy: 0.6516\n",
            "Epoch 200/400\n",
            "13/13 [==============================] - 1s 113ms/step - loss: 0.3449 - accuracy: 0.8720 - val_loss: 196.3755 - val_accuracy: 0.6154\n",
            "Epoch 201/400\n",
            "13/13 [==============================] - 1s 115ms/step - loss: 0.3173 - accuracy: 0.9106 - val_loss: 152.5409 - val_accuracy: 0.6516\n",
            "Epoch 202/400\n",
            "13/13 [==============================] - 1s 114ms/step - loss: 0.3138 - accuracy: 0.8986 - val_loss: 183.9763 - val_accuracy: 0.6335\n",
            "Epoch 203/400\n",
            "13/13 [==============================] - 2s 117ms/step - loss: 0.3364 - accuracy: 0.8865 - val_loss: 122.9164 - val_accuracy: 0.7466\n",
            "Epoch 204/400\n",
            "13/13 [==============================] - 2s 128ms/step - loss: 0.2894 - accuracy: 0.9058 - val_loss: 119.5831 - val_accuracy: 0.7511\n",
            "Epoch 205/400\n",
            "13/13 [==============================] - 3s 199ms/step - loss: 0.3518 - accuracy: 0.9034 - val_loss: 137.0746 - val_accuracy: 0.7285\n",
            "Epoch 206/400\n",
            "13/13 [==============================] - 3s 203ms/step - loss: 0.2741 - accuracy: 0.9300 - val_loss: 128.9035 - val_accuracy: 0.7421\n",
            "Epoch 207/400\n",
            "13/13 [==============================] - 1s 113ms/step - loss: 0.3181 - accuracy: 0.8816 - val_loss: 130.1615 - val_accuracy: 0.7421\n",
            "Epoch 208/400\n",
            "13/13 [==============================] - 1s 115ms/step - loss: 0.2920 - accuracy: 0.9058 - val_loss: 129.1815 - val_accuracy: 0.7149\n",
            "Epoch 209/400\n",
            "13/13 [==============================] - 1s 113ms/step - loss: 0.3566 - accuracy: 0.8768 - val_loss: 155.8913 - val_accuracy: 0.6154\n",
            "Epoch 210/400\n",
            "13/13 [==============================] - 1s 116ms/step - loss: 0.3041 - accuracy: 0.9034 - val_loss: 158.3068 - val_accuracy: 0.6244\n",
            "Epoch 211/400\n",
            "13/13 [==============================] - 2s 130ms/step - loss: 0.2888 - accuracy: 0.9058 - val_loss: 148.0955 - val_accuracy: 0.6697\n",
            "Epoch 212/400\n",
            "13/13 [==============================] - 1s 114ms/step - loss: 0.2460 - accuracy: 0.9300 - val_loss: 121.8811 - val_accuracy: 0.7059\n",
            "Epoch 213/400\n",
            "13/13 [==============================] - 2s 144ms/step - loss: 0.3005 - accuracy: 0.8937 - val_loss: 124.4684 - val_accuracy: 0.7014\n",
            "Epoch 214/400\n",
            "13/13 [==============================] - 3s 201ms/step - loss: 0.3053 - accuracy: 0.9106 - val_loss: 191.3184 - val_accuracy: 0.5837\n",
            "Epoch 215/400\n",
            "13/13 [==============================] - 2s 158ms/step - loss: 0.2442 - accuracy: 0.9155 - val_loss: 153.8082 - val_accuracy: 0.6109\n",
            "Epoch 216/400\n",
            "13/13 [==============================] - 2s 127ms/step - loss: 0.2492 - accuracy: 0.9275 - val_loss: 129.0498 - val_accuracy: 0.6833\n",
            "Epoch 217/400\n",
            "13/13 [==============================] - 1s 114ms/step - loss: 0.3014 - accuracy: 0.9010 - val_loss: 130.7640 - val_accuracy: 0.7149\n",
            "Epoch 218/400\n",
            "13/13 [==============================] - 1s 115ms/step - loss: 0.3205 - accuracy: 0.8937 - val_loss: 131.3046 - val_accuracy: 0.6968\n",
            "Epoch 219/400\n",
            "13/13 [==============================] - 1s 113ms/step - loss: 0.2790 - accuracy: 0.9203 - val_loss: 146.7176 - val_accuracy: 0.6652\n",
            "Epoch 220/400\n",
            "13/13 [==============================] - 1s 114ms/step - loss: 0.2666 - accuracy: 0.9203 - val_loss: 126.1779 - val_accuracy: 0.7014\n",
            "Epoch 221/400\n",
            "13/13 [==============================] - 2s 128ms/step - loss: 0.2912 - accuracy: 0.8986 - val_loss: 144.8518 - val_accuracy: 0.6471\n",
            "Epoch 222/400\n",
            "13/13 [==============================] - 2s 185ms/step - loss: 0.2822 - accuracy: 0.9130 - val_loss: 123.8171 - val_accuracy: 0.6335\n",
            "Epoch 223/400\n",
            "13/13 [==============================] - 3s 198ms/step - loss: 0.3226 - accuracy: 0.9082 - val_loss: 111.0390 - val_accuracy: 0.7602\n",
            "Epoch 224/400\n",
            "13/13 [==============================] - 2s 132ms/step - loss: 0.2783 - accuracy: 0.9251 - val_loss: 131.6975 - val_accuracy: 0.6697\n",
            "Epoch 225/400\n",
            "13/13 [==============================] - 2s 125ms/step - loss: 0.2485 - accuracy: 0.9227 - val_loss: 171.8284 - val_accuracy: 0.5973\n",
            "Epoch 226/400\n",
            "13/13 [==============================] - 1s 114ms/step - loss: 0.2605 - accuracy: 0.9179 - val_loss: 145.7008 - val_accuracy: 0.7240\n",
            "Epoch 227/400\n",
            "13/13 [==============================] - 2s 128ms/step - loss: 0.2649 - accuracy: 0.9130 - val_loss: 135.2150 - val_accuracy: 0.7828\n",
            "Epoch 228/400\n",
            "13/13 [==============================] - 2s 137ms/step - loss: 0.2693 - accuracy: 0.9203 - val_loss: 155.7500 - val_accuracy: 0.7285\n",
            "Epoch 229/400\n",
            "13/13 [==============================] - 1s 113ms/step - loss: 0.3055 - accuracy: 0.8913 - val_loss: 196.8660 - val_accuracy: 0.6425\n",
            "Epoch 230/400\n",
            "13/13 [==============================] - 2s 161ms/step - loss: 0.3475 - accuracy: 0.9130 - val_loss: 178.8129 - val_accuracy: 0.6154\n",
            "Epoch 231/400\n",
            "13/13 [==============================] - 3s 202ms/step - loss: 0.2929 - accuracy: 0.9155 - val_loss: 192.0077 - val_accuracy: 0.6335\n",
            "Epoch 232/400\n",
            "13/13 [==============================] - 2s 149ms/step - loss: 0.3259 - accuracy: 0.8961 - val_loss: 208.1138 - val_accuracy: 0.5928\n",
            "Epoch 233/400\n",
            "13/13 [==============================] - 1s 114ms/step - loss: 0.2854 - accuracy: 0.9058 - val_loss: 157.7719 - val_accuracy: 0.6380\n",
            "Epoch 234/400\n",
            "13/13 [==============================] - 2s 127ms/step - loss: 0.2578 - accuracy: 0.9130 - val_loss: 121.4735 - val_accuracy: 0.7285\n",
            "Epoch 235/400\n",
            "13/13 [==============================] - 1s 112ms/step - loss: 0.2323 - accuracy: 0.9203 - val_loss: 160.5846 - val_accuracy: 0.6425\n",
            "Epoch 236/400\n",
            "13/13 [==============================] - 1s 111ms/step - loss: 0.1994 - accuracy: 0.9444 - val_loss: 159.0994 - val_accuracy: 0.6787\n",
            "Epoch 237/400\n",
            "13/13 [==============================] - 1s 112ms/step - loss: 0.2585 - accuracy: 0.9203 - val_loss: 146.2357 - val_accuracy: 0.7014\n",
            "Epoch 238/400\n",
            "13/13 [==============================] - 1s 113ms/step - loss: 0.3007 - accuracy: 0.8986 - val_loss: 187.8353 - val_accuracy: 0.6425\n",
            "Epoch 239/400\n",
            "13/13 [==============================] - 3s 199ms/step - loss: 0.2806 - accuracy: 0.8986 - val_loss: 126.0036 - val_accuracy: 0.7602\n",
            "Epoch 240/400\n",
            "13/13 [==============================] - 2s 190ms/step - loss: 0.2419 - accuracy: 0.9251 - val_loss: 138.6096 - val_accuracy: 0.6652\n",
            "Epoch 241/400\n",
            "13/13 [==============================] - 2s 125ms/step - loss: 0.2408 - accuracy: 0.9179 - val_loss: 168.4629 - val_accuracy: 0.6787\n",
            "Epoch 242/400\n",
            "13/13 [==============================] - 1s 114ms/step - loss: 0.2635 - accuracy: 0.9203 - val_loss: 188.2252 - val_accuracy: 0.5973\n",
            "Epoch 243/400\n",
            "13/13 [==============================] - 1s 113ms/step - loss: 0.2362 - accuracy: 0.9275 - val_loss: 136.7360 - val_accuracy: 0.6833\n",
            "Epoch 244/400\n",
            "13/13 [==============================] - 1s 112ms/step - loss: 0.2579 - accuracy: 0.9275 - val_loss: 146.6109 - val_accuracy: 0.6833\n",
            "Epoch 245/400\n",
            "13/13 [==============================] - 1s 113ms/step - loss: 0.2697 - accuracy: 0.9348 - val_loss: 202.4343 - val_accuracy: 0.5882\n",
            "Epoch 246/400\n",
            "13/13 [==============================] - 1s 113ms/step - loss: 0.2102 - accuracy: 0.9396 - val_loss: 141.6913 - val_accuracy: 0.6968\n",
            "Epoch 247/400\n",
            "13/13 [==============================] - 2s 128ms/step - loss: 0.1978 - accuracy: 0.9348 - val_loss: 141.3625 - val_accuracy: 0.6606\n",
            "Epoch 248/400\n",
            "13/13 [==============================] - 3s 197ms/step - loss: 0.2372 - accuracy: 0.9155 - val_loss: 132.2406 - val_accuracy: 0.6923\n",
            "Epoch 249/400\n",
            "13/13 [==============================] - 2s 176ms/step - loss: 0.2756 - accuracy: 0.9251 - val_loss: 180.2880 - val_accuracy: 0.6109\n",
            "Epoch 250/400\n",
            "13/13 [==============================] - 2s 129ms/step - loss: 0.2403 - accuracy: 0.9275 - val_loss: 168.7859 - val_accuracy: 0.6606\n",
            "Epoch 251/400\n",
            "13/13 [==============================] - 1s 113ms/step - loss: 0.2178 - accuracy: 0.9348 - val_loss: 194.8942 - val_accuracy: 0.6109\n",
            "Epoch 252/400\n",
            "13/13 [==============================] - 1s 112ms/step - loss: 0.2226 - accuracy: 0.9324 - val_loss: 185.6864 - val_accuracy: 0.6561\n",
            "Epoch 253/400\n",
            "13/13 [==============================] - 1s 116ms/step - loss: 0.2542 - accuracy: 0.9155 - val_loss: 140.1161 - val_accuracy: 0.6652\n",
            "Epoch 254/400\n",
            "13/13 [==============================] - 1s 110ms/step - loss: 0.2106 - accuracy: 0.9300 - val_loss: 159.8254 - val_accuracy: 0.6697\n",
            "Epoch 255/400\n",
            "13/13 [==============================] - 1s 112ms/step - loss: 0.2346 - accuracy: 0.9348 - val_loss: 207.0149 - val_accuracy: 0.6335\n",
            "Epoch 256/400\n",
            "13/13 [==============================] - 2s 153ms/step - loss: 0.2614 - accuracy: 0.9179 - val_loss: 155.9854 - val_accuracy: 0.6787\n",
            "Epoch 257/400\n",
            "13/13 [==============================] - 3s 202ms/step - loss: 0.3049 - accuracy: 0.9082 - val_loss: 177.4618 - val_accuracy: 0.5928\n",
            "Epoch 258/400\n",
            "13/13 [==============================] - 2s 147ms/step - loss: 0.2656 - accuracy: 0.9106 - val_loss: 111.3935 - val_accuracy: 0.7466\n",
            "Epoch 259/400\n",
            "13/13 [==============================] - 1s 114ms/step - loss: 0.3127 - accuracy: 0.9227 - val_loss: 109.2747 - val_accuracy: 0.7240\n",
            "Epoch 260/400\n",
            "13/13 [==============================] - 1s 114ms/step - loss: 0.2854 - accuracy: 0.9155 - val_loss: 149.6788 - val_accuracy: 0.6244\n",
            "Epoch 261/400\n",
            "13/13 [==============================] - 1s 114ms/step - loss: 0.2406 - accuracy: 0.9300 - val_loss: 128.9746 - val_accuracy: 0.7014\n",
            "Epoch 262/400\n",
            "13/13 [==============================] - 1s 115ms/step - loss: 0.2389 - accuracy: 0.9251 - val_loss: 190.0990 - val_accuracy: 0.5837\n",
            "Epoch 263/400\n",
            "13/13 [==============================] - 2s 119ms/step - loss: 0.2932 - accuracy: 0.9058 - val_loss: 132.6135 - val_accuracy: 0.7466\n",
            "Epoch 264/400\n",
            "13/13 [==============================] - 1s 114ms/step - loss: 0.2128 - accuracy: 0.9251 - val_loss: 150.2486 - val_accuracy: 0.6878\n",
            "Epoch 265/400\n",
            "13/13 [==============================] - 2s 181ms/step - loss: 0.2350 - accuracy: 0.9300 - val_loss: 180.4828 - val_accuracy: 0.6561\n",
            "Epoch 266/400\n",
            "13/13 [==============================] - 3s 199ms/step - loss: 0.2031 - accuracy: 0.9324 - val_loss: 129.2394 - val_accuracy: 0.6833\n",
            "Epoch 267/400\n",
            "13/13 [==============================] - 2s 135ms/step - loss: 0.2598 - accuracy: 0.9155 - val_loss: 155.3058 - val_accuracy: 0.6199\n",
            "Epoch 268/400\n",
            "13/13 [==============================] - 1s 113ms/step - loss: 0.2141 - accuracy: 0.9324 - val_loss: 172.6485 - val_accuracy: 0.6516\n",
            "Epoch 269/400\n",
            "13/13 [==============================] - 2s 128ms/step - loss: 0.2254 - accuracy: 0.9372 - val_loss: 164.3432 - val_accuracy: 0.6606\n",
            "Epoch 270/400\n",
            "13/13 [==============================] - 1s 114ms/step - loss: 0.1901 - accuracy: 0.9372 - val_loss: 183.5270 - val_accuracy: 0.6606\n",
            "Epoch 271/400\n",
            "13/13 [==============================] - 2s 127ms/step - loss: 0.1905 - accuracy: 0.9444 - val_loss: 167.6712 - val_accuracy: 0.6697\n",
            "Epoch 272/400\n",
            "13/13 [==============================] - 1s 116ms/step - loss: 0.1733 - accuracy: 0.9444 - val_loss: 168.6357 - val_accuracy: 0.6968\n",
            "Epoch 273/400\n",
            "13/13 [==============================] - 2s 143ms/step - loss: 0.1751 - accuracy: 0.9444 - val_loss: 196.8600 - val_accuracy: 0.6244\n",
            "Epoch 274/400\n",
            "13/13 [==============================] - 3s 196ms/step - loss: 0.2342 - accuracy: 0.9227 - val_loss: 156.9859 - val_accuracy: 0.7059\n",
            "Epoch 275/400\n",
            "13/13 [==============================] - 2s 163ms/step - loss: 0.2753 - accuracy: 0.9203 - val_loss: 194.4876 - val_accuracy: 0.6199\n",
            "Epoch 276/400\n",
            "13/13 [==============================] - 1s 113ms/step - loss: 0.2156 - accuracy: 0.9324 - val_loss: 177.3251 - val_accuracy: 0.6425\n",
            "Epoch 277/400\n",
            "13/13 [==============================] - 2s 129ms/step - loss: 0.2587 - accuracy: 0.9251 - val_loss: 183.5672 - val_accuracy: 0.6199\n",
            "Epoch 278/400\n",
            "13/13 [==============================] - 1s 115ms/step - loss: 0.1967 - accuracy: 0.9396 - val_loss: 150.5260 - val_accuracy: 0.6833\n",
            "Epoch 279/400\n",
            "13/13 [==============================] - 1s 112ms/step - loss: 0.1723 - accuracy: 0.9420 - val_loss: 171.8529 - val_accuracy: 0.6652\n",
            "Epoch 280/400\n",
            "13/13 [==============================] - 1s 114ms/step - loss: 0.1657 - accuracy: 0.9372 - val_loss: 210.8213 - val_accuracy: 0.6244\n",
            "Epoch 281/400\n",
            "13/13 [==============================] - 1s 113ms/step - loss: 0.1628 - accuracy: 0.9565 - val_loss: 168.8434 - val_accuracy: 0.6652\n",
            "Epoch 282/400\n",
            "13/13 [==============================] - 2s 173ms/step - loss: 0.1915 - accuracy: 0.9372 - val_loss: 162.3164 - val_accuracy: 0.6471\n",
            "Epoch 283/400\n",
            "13/13 [==============================] - 3s 198ms/step - loss: 0.1931 - accuracy: 0.9396 - val_loss: 166.5932 - val_accuracy: 0.6018\n",
            "Epoch 284/400\n",
            "13/13 [==============================] - 2s 127ms/step - loss: 0.1720 - accuracy: 0.9469 - val_loss: 180.6567 - val_accuracy: 0.6063\n",
            "Epoch 285/400\n",
            "13/13 [==============================] - 1s 116ms/step - loss: 0.2408 - accuracy: 0.9227 - val_loss: 185.2803 - val_accuracy: 0.6199\n",
            "Epoch 286/400\n",
            "13/13 [==============================] - 1s 115ms/step - loss: 0.1776 - accuracy: 0.9324 - val_loss: 147.3272 - val_accuracy: 0.7195\n",
            "Epoch 287/400\n",
            "13/13 [==============================] - 2s 129ms/step - loss: 0.2301 - accuracy: 0.9300 - val_loss: 162.1229 - val_accuracy: 0.7104\n",
            "Epoch 288/400\n",
            "13/13 [==============================] - 1s 114ms/step - loss: 0.1827 - accuracy: 0.9517 - val_loss: 186.0475 - val_accuracy: 0.6652\n",
            "Epoch 289/400\n",
            "13/13 [==============================] - 1s 115ms/step - loss: 0.1965 - accuracy: 0.9300 - val_loss: 151.6436 - val_accuracy: 0.6923\n",
            "Epoch 290/400\n",
            "13/13 [==============================] - 1s 117ms/step - loss: 0.2836 - accuracy: 0.9010 - val_loss: 153.5883 - val_accuracy: 0.7149\n",
            "Epoch 291/400\n",
            "13/13 [==============================] - 2s 193ms/step - loss: 0.2125 - accuracy: 0.9324 - val_loss: 216.8803 - val_accuracy: 0.6516\n",
            "Epoch 292/400\n",
            "13/13 [==============================] - 2s 193ms/step - loss: 0.2443 - accuracy: 0.9348 - val_loss: 166.5504 - val_accuracy: 0.6787\n",
            "Epoch 293/400\n",
            "13/13 [==============================] - 1s 113ms/step - loss: 0.1889 - accuracy: 0.9324 - val_loss: 145.6591 - val_accuracy: 0.6742\n",
            "Epoch 294/400\n",
            "13/13 [==============================] - 1s 115ms/step - loss: 0.2017 - accuracy: 0.9324 - val_loss: 197.3785 - val_accuracy: 0.6244\n",
            "Epoch 295/400\n",
            "13/13 [==============================] - 1s 112ms/step - loss: 0.2391 - accuracy: 0.9275 - val_loss: 206.7573 - val_accuracy: 0.6335\n",
            "Epoch 296/400\n",
            "13/13 [==============================] - 1s 113ms/step - loss: 0.2543 - accuracy: 0.9251 - val_loss: 130.3666 - val_accuracy: 0.7104\n",
            "Epoch 297/400\n",
            "13/13 [==============================] - 1s 113ms/step - loss: 0.1987 - accuracy: 0.9372 - val_loss: 159.2865 - val_accuracy: 0.6516\n",
            "Epoch 298/400\n",
            "13/13 [==============================] - 1s 114ms/step - loss: 0.1594 - accuracy: 0.9517 - val_loss: 231.7266 - val_accuracy: 0.5882\n",
            "Epoch 299/400\n",
            "13/13 [==============================] - 2s 125ms/step - loss: 0.2387 - accuracy: 0.9348 - val_loss: 170.4142 - val_accuracy: 0.6425\n",
            "Epoch 300/400\n",
            "13/13 [==============================] - 3s 201ms/step - loss: 0.2396 - accuracy: 0.9203 - val_loss: 132.9108 - val_accuracy: 0.7647\n",
            "Epoch 301/400\n",
            "13/13 [==============================] - 2s 175ms/step - loss: 0.2624 - accuracy: 0.9155 - val_loss: 167.2785 - val_accuracy: 0.6244\n",
            "Epoch 302/400\n",
            "13/13 [==============================] - 1s 114ms/step - loss: 0.2315 - accuracy: 0.9179 - val_loss: 122.6630 - val_accuracy: 0.7466\n",
            "Epoch 303/400\n",
            "13/13 [==============================] - 1s 113ms/step - loss: 0.2020 - accuracy: 0.9396 - val_loss: 145.3824 - val_accuracy: 0.6923\n",
            "Epoch 304/400\n",
            "13/13 [==============================] - 1s 116ms/step - loss: 0.1754 - accuracy: 0.9324 - val_loss: 128.4902 - val_accuracy: 0.7104\n",
            "Epoch 305/400\n",
            "13/13 [==============================] - 1s 112ms/step - loss: 0.2395 - accuracy: 0.9300 - val_loss: 193.3354 - val_accuracy: 0.6199\n",
            "Epoch 306/400\n",
            "13/13 [==============================] - 2s 118ms/step - loss: 0.2488 - accuracy: 0.9420 - val_loss: 123.6649 - val_accuracy: 0.7285\n",
            "Epoch 307/400\n",
            "13/13 [==============================] - 1s 112ms/step - loss: 0.2518 - accuracy: 0.9251 - val_loss: 127.2747 - val_accuracy: 0.7104\n",
            "Epoch 308/400\n",
            "13/13 [==============================] - 2s 145ms/step - loss: 0.1950 - accuracy: 0.9300 - val_loss: 130.3294 - val_accuracy: 0.6561\n",
            "Epoch 309/400\n",
            "13/13 [==============================] - 3s 200ms/step - loss: 0.2067 - accuracy: 0.9275 - val_loss: 155.1994 - val_accuracy: 0.6380\n",
            "Epoch 310/400\n",
            "13/13 [==============================] - 2s 159ms/step - loss: 0.2307 - accuracy: 0.9251 - val_loss: 139.7433 - val_accuracy: 0.7195\n",
            "Epoch 311/400\n",
            "13/13 [==============================] - 1s 113ms/step - loss: 0.1774 - accuracy: 0.9444 - val_loss: 164.4409 - val_accuracy: 0.6109\n",
            "Epoch 312/400\n",
            "13/13 [==============================] - 1s 113ms/step - loss: 0.1678 - accuracy: 0.9517 - val_loss: 141.7539 - val_accuracy: 0.6923\n",
            "Epoch 313/400\n",
            "13/13 [==============================] - 1s 112ms/step - loss: 0.1859 - accuracy: 0.9420 - val_loss: 187.2192 - val_accuracy: 0.6154\n",
            "Epoch 314/400\n",
            "13/13 [==============================] - 1s 113ms/step - loss: 0.2051 - accuracy: 0.9275 - val_loss: 139.0590 - val_accuracy: 0.6697\n",
            "Epoch 315/400\n",
            "13/13 [==============================] - 1s 112ms/step - loss: 0.2103 - accuracy: 0.9420 - val_loss: 178.5286 - val_accuracy: 0.6290\n",
            "Epoch 316/400\n",
            "13/13 [==============================] - 1s 115ms/step - loss: 0.1947 - accuracy: 0.9300 - val_loss: 115.9440 - val_accuracy: 0.7195\n",
            "Epoch 317/400\n",
            "13/13 [==============================] - 2s 154ms/step - loss: 0.1869 - accuracy: 0.9444 - val_loss: 155.9447 - val_accuracy: 0.6154\n",
            "Epoch 318/400\n",
            "13/13 [==============================] - 3s 197ms/step - loss: 0.1901 - accuracy: 0.9420 - val_loss: 151.6365 - val_accuracy: 0.6561\n",
            "Epoch 319/400\n",
            "13/13 [==============================] - 2s 145ms/step - loss: 0.2737 - accuracy: 0.9324 - val_loss: 175.1853 - val_accuracy: 0.6561\n",
            "Epoch 320/400\n",
            "13/13 [==============================] - 1s 115ms/step - loss: 0.2271 - accuracy: 0.9396 - val_loss: 119.4153 - val_accuracy: 0.7602\n",
            "Epoch 321/400\n",
            "13/13 [==============================] - 1s 114ms/step - loss: 0.1559 - accuracy: 0.9517 - val_loss: 168.1340 - val_accuracy: 0.6606\n",
            "Epoch 322/400\n",
            "13/13 [==============================] - 1s 116ms/step - loss: 0.1793 - accuracy: 0.9469 - val_loss: 175.1097 - val_accuracy: 0.6516\n",
            "Epoch 323/400\n",
            "13/13 [==============================] - 2s 117ms/step - loss: 0.1766 - accuracy: 0.9324 - val_loss: 135.9796 - val_accuracy: 0.7285\n",
            "Epoch 324/400\n",
            "13/13 [==============================] - 1s 115ms/step - loss: 0.2187 - accuracy: 0.9251 - val_loss: 153.8671 - val_accuracy: 0.6878\n",
            "Epoch 325/400\n",
            "13/13 [==============================] - 2s 128ms/step - loss: 0.1853 - accuracy: 0.9469 - val_loss: 137.4303 - val_accuracy: 0.6878\n",
            "Epoch 326/400\n",
            "13/13 [==============================] - 2s 192ms/step - loss: 0.1624 - accuracy: 0.9493 - val_loss: 163.7353 - val_accuracy: 0.6516\n",
            "Epoch 327/400\n",
            "13/13 [==============================] - 3s 196ms/step - loss: 0.1678 - accuracy: 0.9396 - val_loss: 117.0354 - val_accuracy: 0.7149\n",
            "Epoch 328/400\n",
            "13/13 [==============================] - 2s 119ms/step - loss: 0.1933 - accuracy: 0.9517 - val_loss: 220.2716 - val_accuracy: 0.6380\n",
            "Epoch 329/400\n",
            "13/13 [==============================] - 1s 115ms/step - loss: 0.1835 - accuracy: 0.9469 - val_loss: 156.1110 - val_accuracy: 0.6787\n",
            "Epoch 330/400\n",
            "13/13 [==============================] - 1s 114ms/step - loss: 0.1647 - accuracy: 0.9396 - val_loss: 132.6801 - val_accuracy: 0.7240\n",
            "Epoch 331/400\n",
            "13/13 [==============================] - 2s 129ms/step - loss: 0.1903 - accuracy: 0.9348 - val_loss: 170.2104 - val_accuracy: 0.6742\n",
            "Epoch 332/400\n",
            "13/13 [==============================] - 1s 115ms/step - loss: 0.2166 - accuracy: 0.9420 - val_loss: 125.9878 - val_accuracy: 0.7240\n",
            "Epoch 333/400\n",
            "13/13 [==============================] - 1s 116ms/step - loss: 0.2069 - accuracy: 0.9300 - val_loss: 178.6855 - val_accuracy: 0.6063\n",
            "Epoch 334/400\n",
            "13/13 [==============================] - 2s 137ms/step - loss: 0.1702 - accuracy: 0.9517 - val_loss: 152.7903 - val_accuracy: 0.6697\n",
            "Epoch 335/400\n",
            "13/13 [==============================] - 3s 199ms/step - loss: 0.1865 - accuracy: 0.9493 - val_loss: 157.9672 - val_accuracy: 0.6606\n",
            "Epoch 336/400\n",
            "13/13 [==============================] - 2s 179ms/step - loss: 0.1748 - accuracy: 0.9372 - val_loss: 138.5901 - val_accuracy: 0.6833\n",
            "Epoch 337/400\n",
            "13/13 [==============================] - 2s 130ms/step - loss: 0.2090 - accuracy: 0.9372 - val_loss: 177.3886 - val_accuracy: 0.6425\n",
            "Epoch 338/400\n",
            "13/13 [==============================] - 1s 116ms/step - loss: 0.2392 - accuracy: 0.9372 - val_loss: 164.9669 - val_accuracy: 0.6878\n",
            "Epoch 339/400\n",
            "13/13 [==============================] - 2s 117ms/step - loss: 0.2007 - accuracy: 0.9348 - val_loss: 173.9774 - val_accuracy: 0.6606\n",
            "Epoch 340/400\n",
            "13/13 [==============================] - 2s 131ms/step - loss: 0.2056 - accuracy: 0.9227 - val_loss: 183.9931 - val_accuracy: 0.6561\n",
            "Epoch 341/400\n",
            "13/13 [==============================] - 1s 115ms/step - loss: 0.2208 - accuracy: 0.9300 - val_loss: 147.2118 - val_accuracy: 0.6878\n",
            "Epoch 342/400\n",
            "13/13 [==============================] - 1s 114ms/step - loss: 0.1637 - accuracy: 0.9420 - val_loss: 171.4742 - val_accuracy: 0.6561\n",
            "Epoch 343/400\n",
            "13/13 [==============================] - 2s 191ms/step - loss: 0.1439 - accuracy: 0.9565 - val_loss: 159.9411 - val_accuracy: 0.6833\n",
            "Epoch 344/400\n",
            "13/13 [==============================] - 3s 197ms/step - loss: 0.1787 - accuracy: 0.9469 - val_loss: 151.1794 - val_accuracy: 0.6923\n",
            "Epoch 345/400\n",
            "13/13 [==============================] - 2s 120ms/step - loss: 0.1649 - accuracy: 0.9469 - val_loss: 165.3469 - val_accuracy: 0.6787\n",
            "Epoch 346/400\n",
            "13/13 [==============================] - 1s 117ms/step - loss: 0.1942 - accuracy: 0.9444 - val_loss: 209.1433 - val_accuracy: 0.6290\n",
            "Epoch 347/400\n",
            "13/13 [==============================] - 1s 114ms/step - loss: 0.1781 - accuracy: 0.9396 - val_loss: 214.2093 - val_accuracy: 0.6652\n",
            "Epoch 348/400\n",
            "13/13 [==============================] - 1s 114ms/step - loss: 0.1563 - accuracy: 0.9396 - val_loss: 221.4251 - val_accuracy: 0.6380\n",
            "Epoch 349/400\n",
            "13/13 [==============================] - 1s 116ms/step - loss: 0.1957 - accuracy: 0.9396 - val_loss: 176.0117 - val_accuracy: 0.6697\n",
            "Epoch 350/400\n",
            "13/13 [==============================] - 1s 115ms/step - loss: 0.2206 - accuracy: 0.9348 - val_loss: 181.1401 - val_accuracy: 0.6606\n",
            "Epoch 351/400\n",
            "13/13 [==============================] - 2s 131ms/step - loss: 0.1534 - accuracy: 0.9469 - val_loss: 188.3778 - val_accuracy: 0.6561\n",
            "Epoch 352/400\n",
            "13/13 [==============================] - 3s 200ms/step - loss: 0.1478 - accuracy: 0.9589 - val_loss: 159.1328 - val_accuracy: 0.6968\n",
            "Epoch 353/400\n",
            "13/13 [==============================] - 2s 177ms/step - loss: 0.1433 - accuracy: 0.9517 - val_loss: 165.9935 - val_accuracy: 0.7014\n",
            "Epoch 354/400\n",
            "13/13 [==============================] - 1s 115ms/step - loss: 0.1603 - accuracy: 0.9493 - val_loss: 181.0608 - val_accuracy: 0.6652\n",
            "Epoch 355/400\n",
            "13/13 [==============================] - 1s 115ms/step - loss: 0.1811 - accuracy: 0.9372 - val_loss: 204.9875 - val_accuracy: 0.6380\n",
            "Epoch 356/400\n",
            "13/13 [==============================] - 1s 114ms/step - loss: 0.1843 - accuracy: 0.9469 - val_loss: 149.4258 - val_accuracy: 0.7014\n",
            "Epoch 357/400\n",
            "13/13 [==============================] - 1s 114ms/step - loss: 0.1137 - accuracy: 0.9638 - val_loss: 195.7941 - val_accuracy: 0.6471\n",
            "Epoch 358/400\n",
            "13/13 [==============================] - 1s 115ms/step - loss: 0.1770 - accuracy: 0.9469 - val_loss: 160.8978 - val_accuracy: 0.7149\n",
            "Epoch 359/400\n",
            "13/13 [==============================] - 1s 115ms/step - loss: 0.1897 - accuracy: 0.9420 - val_loss: 161.1885 - val_accuracy: 0.6833\n",
            "Epoch 360/400\n",
            "13/13 [==============================] - 2s 153ms/step - loss: 0.1832 - accuracy: 0.9517 - val_loss: 150.8782 - val_accuracy: 0.6561\n",
            "Epoch 361/400\n",
            "13/13 [==============================] - 2s 195ms/step - loss: 0.2165 - accuracy: 0.9300 - val_loss: 231.2049 - val_accuracy: 0.5928\n",
            "Epoch 362/400\n",
            "13/13 [==============================] - 2s 160ms/step - loss: 0.1881 - accuracy: 0.9420 - val_loss: 131.5730 - val_accuracy: 0.6787\n",
            "Epoch 363/400\n",
            "13/13 [==============================] - 1s 116ms/step - loss: 0.1310 - accuracy: 0.9638 - val_loss: 128.9651 - val_accuracy: 0.7104\n",
            "Epoch 364/400\n",
            "13/13 [==============================] - 1s 114ms/step - loss: 0.1390 - accuracy: 0.9565 - val_loss: 172.3443 - val_accuracy: 0.6787\n",
            "Epoch 365/400\n",
            "13/13 [==============================] - 2s 130ms/step - loss: 0.1521 - accuracy: 0.9469 - val_loss: 143.8368 - val_accuracy: 0.7149\n",
            "Epoch 366/400\n",
            "13/13 [==============================] - 1s 114ms/step - loss: 0.1273 - accuracy: 0.9541 - val_loss: 155.4930 - val_accuracy: 0.7330\n",
            "Epoch 367/400\n",
            "13/13 [==============================] - 2s 117ms/step - loss: 0.1519 - accuracy: 0.9541 - val_loss: 193.0765 - val_accuracy: 0.6833\n",
            "Epoch 368/400\n",
            "13/13 [==============================] - 1s 116ms/step - loss: 0.1884 - accuracy: 0.9469 - val_loss: 153.3947 - val_accuracy: 0.7240\n",
            "Epoch 369/400\n",
            "13/13 [==============================] - 2s 182ms/step - loss: 0.1451 - accuracy: 0.9541 - val_loss: 148.2329 - val_accuracy: 0.7149\n",
            "Epoch 370/400\n",
            "13/13 [==============================] - 2s 191ms/step - loss: 0.1774 - accuracy: 0.9444 - val_loss: 179.2517 - val_accuracy: 0.6335\n",
            "Epoch 371/400\n",
            "13/13 [==============================] - 2s 133ms/step - loss: 0.1838 - accuracy: 0.9469 - val_loss: 206.5748 - val_accuracy: 0.6244\n",
            "Epoch 372/400\n",
            "13/13 [==============================] - 2s 119ms/step - loss: 0.1221 - accuracy: 0.9517 - val_loss: 185.6173 - val_accuracy: 0.6606\n",
            "Epoch 373/400\n",
            "13/13 [==============================] - 2s 117ms/step - loss: 0.1746 - accuracy: 0.9469 - val_loss: 216.0829 - val_accuracy: 0.6335\n",
            "Epoch 374/400\n",
            "13/13 [==============================] - 2s 119ms/step - loss: 0.1442 - accuracy: 0.9565 - val_loss: 204.1973 - val_accuracy: 0.6380\n",
            "Epoch 375/400\n",
            "13/13 [==============================] - 2s 129ms/step - loss: 0.1625 - accuracy: 0.9493 - val_loss: 235.2680 - val_accuracy: 0.5792\n",
            "Epoch 376/400\n",
            "13/13 [==============================] - 2s 116ms/step - loss: 0.1569 - accuracy: 0.9565 - val_loss: 188.0441 - val_accuracy: 0.6380\n",
            "Epoch 377/400\n",
            "13/13 [==============================] - 2s 138ms/step - loss: 0.1164 - accuracy: 0.9614 - val_loss: 186.2445 - val_accuracy: 0.6471\n",
            "Epoch 378/400\n",
            "13/13 [==============================] - 2s 194ms/step - loss: 0.1442 - accuracy: 0.9541 - val_loss: 202.9953 - val_accuracy: 0.6109\n",
            "Epoch 379/400\n",
            "13/13 [==============================] - 2s 191ms/step - loss: 0.1577 - accuracy: 0.9444 - val_loss: 152.0744 - val_accuracy: 0.6923\n",
            "Epoch 380/400\n",
            "13/13 [==============================] - 2s 120ms/step - loss: 0.1500 - accuracy: 0.9517 - val_loss: 220.7283 - val_accuracy: 0.6290\n",
            "Epoch 381/400\n",
            "13/13 [==============================] - 2s 119ms/step - loss: 0.1408 - accuracy: 0.9469 - val_loss: 176.2012 - val_accuracy: 0.7285\n",
            "Epoch 382/400\n",
            "13/13 [==============================] - 1s 115ms/step - loss: 0.1611 - accuracy: 0.9517 - val_loss: 158.8075 - val_accuracy: 0.6787\n",
            "Epoch 383/400\n",
            "13/13 [==============================] - 1s 116ms/step - loss: 0.1825 - accuracy: 0.9469 - val_loss: 229.4570 - val_accuracy: 0.6380\n",
            "Epoch 384/400\n",
            "13/13 [==============================] - 2s 120ms/step - loss: 0.1485 - accuracy: 0.9614 - val_loss: 213.9984 - val_accuracy: 0.7104\n",
            "Epoch 385/400\n",
            "13/13 [==============================] - 1s 114ms/step - loss: 0.1892 - accuracy: 0.9444 - val_loss: 172.8927 - val_accuracy: 0.7330\n",
            "Epoch 386/400\n",
            "13/13 [==============================] - 2s 161ms/step - loss: 0.1376 - accuracy: 0.9469 - val_loss: 190.8151 - val_accuracy: 0.6742\n",
            "Epoch 387/400\n",
            "13/13 [==============================] - 3s 200ms/step - loss: 0.1726 - accuracy: 0.9493 - val_loss: 177.1246 - val_accuracy: 0.6923\n",
            "Epoch 388/400\n",
            "13/13 [==============================] - 2s 149ms/step - loss: 0.1530 - accuracy: 0.9517 - val_loss: 206.5995 - val_accuracy: 0.6516\n",
            "Epoch 389/400\n",
            "13/13 [==============================] - 2s 133ms/step - loss: 0.1906 - accuracy: 0.9396 - val_loss: 139.5970 - val_accuracy: 0.7511\n",
            "Epoch 390/400\n",
            "13/13 [==============================] - 2s 118ms/step - loss: 0.1648 - accuracy: 0.9541 - val_loss: 259.0373 - val_accuracy: 0.5973\n",
            "Epoch 391/400\n",
            "13/13 [==============================] - 2s 116ms/step - loss: 0.1970 - accuracy: 0.9420 - val_loss: 175.8308 - val_accuracy: 0.6833\n",
            "Epoch 392/400\n",
            "13/13 [==============================] - 2s 119ms/step - loss: 0.1614 - accuracy: 0.9469 - val_loss: 171.1884 - val_accuracy: 0.6968\n",
            "Epoch 393/400\n",
            "13/13 [==============================] - 2s 119ms/step - loss: 0.1568 - accuracy: 0.9565 - val_loss: 163.0612 - val_accuracy: 0.7059\n",
            "Epoch 394/400\n",
            "13/13 [==============================] - 2s 133ms/step - loss: 0.1684 - accuracy: 0.9420 - val_loss: 172.2522 - val_accuracy: 0.6833\n",
            "Epoch 395/400\n",
            "13/13 [==============================] - 3s 200ms/step - loss: 0.1673 - accuracy: 0.9348 - val_loss: 213.3463 - val_accuracy: 0.6923\n",
            "Epoch 396/400\n",
            "13/13 [==============================] - 3s 196ms/step - loss: 0.2116 - accuracy: 0.9300 - val_loss: 137.8982 - val_accuracy: 0.7692\n",
            "Epoch 397/400\n",
            "13/13 [==============================] - 2s 120ms/step - loss: 0.1576 - accuracy: 0.9469 - val_loss: 124.0692 - val_accuracy: 0.7195\n",
            "Epoch 398/400\n",
            "13/13 [==============================] - 2s 122ms/step - loss: 0.1833 - accuracy: 0.9396 - val_loss: 159.7173 - val_accuracy: 0.6833\n",
            "Epoch 399/400\n",
            "13/13 [==============================] - 2s 116ms/step - loss: 0.2132 - accuracy: 0.9372 - val_loss: 151.9162 - val_accuracy: 0.7195\n",
            "Epoch 400/400\n",
            "13/13 [==============================] - 2s 131ms/step - loss: 0.1123 - accuracy: 0.9638 - val_loss: 142.5688 - val_accuracy: 0.7149\n"
          ]
        }
      ]
    },
    {
      "cell_type": "code",
      "source": [
        "model.evaluate(X_test, y_test)"
      ],
      "metadata": {
        "id": "hQ3tiauHW6dT",
        "outputId": "4d4e3bae-f46b-4b2d-a4a3-5fbd998669da",
        "colab": {
          "base_uri": "https://localhost:8080/"
        }
      },
      "execution_count": 28,
      "outputs": [
        {
          "output_type": "stream",
          "name": "stdout",
          "text": [
            "11/11 [==============================] - 0s 20ms/step - loss: 0.3331 - accuracy: 0.9367\n"
          ]
        },
        {
          "output_type": "execute_result",
          "data": {
            "text/plain": [
              "[0.33308225870132446, 0.9367470145225525]"
            ]
          },
          "metadata": {},
          "execution_count": 28
        }
      ]
    },
    {
      "cell_type": "code",
      "source": [
        "pd.DataFrame(history.history).plot(figsize=(5,4))\n",
        "plt.grid(True)\n",
        "plt.gca().set_ylim(0,1)\n",
        "plt.show()"
      ],
      "metadata": {
        "id": "r4y9s-v9LKdn",
        "outputId": "edfe5ac6-3879-4c7d-9609-ed3683246ff7",
        "colab": {
          "base_uri": "https://localhost:8080/",
          "height": 372
        }
      },
      "execution_count": 29,
      "outputs": [
        {
          "output_type": "display_data",
          "data": {
            "text/plain": [
              "<Figure size 500x400 with 1 Axes>"
            ],
            "image/png": "[encoded data removed]"
          },
          "metadata": {}
        }
      ]
    },
    {
      "cell_type": "code",
      "source": [
        "prediction = model.predict(X_test_flat)\n",
        "print(prediction)"
      ],
      "metadata": {
        "id": "eZzsWgVeLn7f",
        "outputId": "ea0f1887-def2-4c73-beb8-d19ca6a0c80e",
        "colab": {
          "base_uri": "https://localhost:8080/"
        }
      },
      "execution_count": 31,
      "outputs": [
        {
          "output_type": "stream",
          "name": "stdout",
          "text": [
            "11/11 [==============================] - 0s 20ms/step\n",
            "[[2.5554623e-08 4.5016475e-07 1.3638527e-07 ... 9.9965584e-01\n",
            "  4.8348356e-05 9.9381787e-06]\n",
            " [1.5209228e-17 9.9999911e-01 3.6113088e-11 ... 1.0356046e-08\n",
            "  1.3266720e-12 9.9236208e-10]\n",
            " [9.9424392e-01 1.1278496e-07 4.8377908e-05 ... 2.1113400e-04\n",
            "  9.9510455e-10 4.5399345e-04]\n",
            " ...\n",
            " [5.4327828e-30 1.7842525e-13 3.6474962e-22 ... 1.5204384e-30\n",
            "  6.5350348e-31 2.3306208e-29]\n",
            " [2.2355707e-08 6.6302852e-14 5.4406595e-09 ... 3.0147856e-08\n",
            "  9.0560189e-16 8.3410123e-09]\n",
            " [9.3240219e-01 3.4849277e-06 2.8568640e-04 ... 1.9842947e-03\n",
            "  3.0476048e-08 1.1708150e-03]]\n"
          ]
        }
      ]
    },
    {
      "cell_type": "code",
      "source": [
        "print(prediction[0])"
      ],
      "metadata": {
        "id": "J6x-fn1vLrqD",
        "outputId": "26ecfcd7-a357-4f09-ea24-39960e41760a",
        "colab": {
          "base_uri": "https://localhost:8080/"
        }
      },
      "execution_count": 37,
      "outputs": [
        {
          "output_type": "stream",
          "name": "stdout",
          "text": [
            "[2.5554623e-08 4.5016475e-07 1.3638527e-07 2.4097125e-07 2.7310096e-09\n",
            " 2.8498570e-04 1.2315508e-07 9.9965584e-01 4.8348356e-05 9.9381787e-06]\n"
          ]
        }
      ]
    },
    {
      "cell_type": "code",
      "source": [
        "np.argmax(prediction[0])"
      ],
      "metadata": {
        "id": "XOFpGwj3Lvvv",
        "outputId": "a37d1887-1665-4f2a-8fdb-9c696f6d9690",
        "colab": {
          "base_uri": "https://localhost:8080/"
        }
      },
      "execution_count": 38,
      "outputs": [
        {
          "output_type": "execute_result",
          "data": {
            "text/plain": [
              "7"
            ]
          },
          "metadata": {},
          "execution_count": 38
        }
      ]
    },
    {
      "cell_type": "code",
      "source": [
        "plt.matshow(balls_folder[0])"
      ],
      "metadata": {
        "id": "zOPlOku7LymC",
        "outputId": "8c9cc50c-5636-4dac-a11a-5e10b1879818",
        "colab": {
          "base_uri": "https://localhost:8080/",
          "height": 452
        }
      },
      "execution_count": 39,
      "outputs": [
        {
          "output_type": "execute_result",
          "data": {
            "text/plain": [
              "<matplotlib.image.AxesImage at 0x7f75662abf10>"
            ]
          },
          "metadata": {},
          "execution_count": 39
        },
        {
          "output_type": "display_data",
          "data": {
            "text/plain": [
              "<Figure size 480x480 with 1 Axes>"
            ],
            "image/png": "[encoded data removed]"
          },
          "metadata": {}
        }
      ]
    },
    {
      "cell_type": "code",
      "source": [
        "predicted_labels = [np.argmax(i) for i in prediction]"
      ],
      "metadata": {
        "id": "AzD4-3i2NbfZ"
      },
      "execution_count": 40,
      "outputs": []
    },
    {
      "cell_type": "code",
      "source": [
        "cm = confusion_matrix(y_test, prediction.argmax(axis=1))\n",
        "print(cm)"
      ],
      "metadata": {
        "id": "r6HMwYehNjxu",
        "outputId": "bde15aa6-ae8a-4e61-868d-01364d263ed8",
        "colab": {
          "base_uri": "https://localhost:8080/"
        }
      },
      "execution_count": 41,
      "outputs": [
        {
          "output_type": "stream",
          "name": "stdout",
          "text": [
            "[[30  1  0  0  0  1  0  0  0  1]\n",
            " [ 0 36  0  0  0  0  0  0  0  0]\n",
            " [ 1  0 29  0  0  1  0  0  0  0]\n",
            " [ 0  0  0 30  0  0  0  0  0  0]\n",
            " [ 1  0  0  0 33  0  0  0  0  0]\n",
            " [ 1  0  0  0  0 36  0  0  2  0]\n",
            " [ 0  0  0  1  0  0 27  0  0  0]\n",
            " [ 1  0  0  0  0  1  0 38  0  1]\n",
            " [ 0  0  0  0  0  0  0  1 28  0]\n",
            " [ 1  0  0  0  0  4  1  1  0 24]]\n"
          ]
        }
      ]
    },
    {
      "cell_type": "code",
      "source": [
        "import seaborn as sn\n",
        "plt.figure(figsize = (5,5))\n",
        "sn.heatmap(cm, annot=True, fmt='d')\n",
        "plt.xlabel('Predicted Label')\n",
        "plt.ylabel('True Label')"
      ],
      "metadata": {
        "id": "YNS1gYmSN9Ie",
        "outputId": "43267d7b-06fb-43f5-b5d3-c26ae71b64c3",
        "colab": {
          "base_uri": "https://localhost:8080/",
          "height": 481
        }
      },
      "execution_count": 43,
      "outputs": [
        {
          "output_type": "execute_result",
          "data": {
            "text/plain": [
              "Text(33.22222222222222, 0.5, 'True Label')"
            ]
          },
          "metadata": {},
          "execution_count": 43
        },
        {
          "output_type": "display_data",
          "data": {
            "text/plain": [
              "<Figure size 500x500 with 2 Axes>"
            ],
            "image/png": "[encoded data removed]"
          },
          "metadata": {}
        }
      ]
    },
    {
      "cell_type": "code",
      "source": [
        "accuracy = 100*np.trace(cm)/np.sum(cm)\n",
        "print(accuracy)"
      ],
      "metadata": {
        "id": "E9levH7POD9u",
        "outputId": "3d4ac854-27f1-4824-d4fa-865caf19db35",
        "colab": {
          "base_uri": "https://localhost:8080/"
        }
      },
      "execution_count": 44,
      "outputs": [
        {
          "output_type": "stream",
          "name": "stdout",
          "text": [
            "93.67469879518072\n"
          ]
        }
      ]
    }
  ]
}