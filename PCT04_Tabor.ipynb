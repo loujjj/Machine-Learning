{
  "nbformat": 4,
  "nbformat_minor": 0,
  "metadata": {
    "colab": {
      "provenance": [],
      "include_colab_link": true
    },
    "kernelspec": {
      "name": "python3",
      "display_name": "Python 3"
    },
    "language_info": {
      "name": "python"
    }
  },
  "cells": [
    {
      "cell_type": "markdown",
      "metadata": {
        "id": "view-in-github",
        "colab_type": "text"
      },
      "source": [
        "<a href=\"https://colab.research.google.com/github/loujjj/Machine-Learning/blob/main/PCT04_Tabor.ipynb\" target=\"_parent\"><img src=\"https://colab.research.google.com/assets/colab-badge.svg\" alt=\"Open In Colab\"/></a>"
      ]
    },
    {
      "cell_type": "markdown",
      "source": [
        "##**Classification of Walk vs Run**"
      ],
      "metadata": {
        "id": "w12W2G-6c32h"
      }
    },
    {
      "cell_type": "markdown",
      "source": [
        "####**Importing the Necessary Libraries**"
      ],
      "metadata": {
        "id": "19trjlLic6EL"
      }
    },
    {
      "cell_type": "code",
      "execution_count": 1,
      "metadata": {
        "id": "XPZnl1jNcuB1"
      },
      "outputs": [],
      "source": [
        "import numpy as np\n",
        "import matplotlib.pyplot as plt\n",
        "import pandas as pd\n",
        "import os\n",
        "import cv2 as cv\n",
        "import fnmatch\n",
        "\n",
        "import tensorflow as tf\n",
        "from tensorflow import keras\n",
        "from tensorflow.keras.models import Sequential\n",
        "from tensorflow.keras.layers import Dense, Conv2D, Dropout, Flatten, MaxPooling2D\n",
        "\n",
        "from sklearn import datasets\n",
        "from sklearn.preprocessing import LabelEncoder\n",
        "from sklearn.model_selection import train_test_split\n",
        "from sklearn.metrics import confusion_matrix, ConfusionMatrixDisplay"
      ]
    },
    {
      "cell_type": "markdown",
      "source": [
        "####**Importing and Preparing the Data**"
      ],
      "metadata": {
        "id": "21I4-WljdB3r"
      }
    },
    {
      "cell_type": "markdown",
      "source": [
        "#####**Importing the Data**"
      ],
      "metadata": {
        "id": "-z48xONBdGc0"
      }
    },
    {
      "cell_type": "code",
      "source": [
        "from google.colab import drive\n",
        "drive.mount('/content/gdrive/', force_remount=True)"
      ],
      "metadata": {
        "id": "a0VllYJydK2L",
        "outputId": "805b1727-782d-4c09-9ca2-61b07fceec70",
        "colab": {
          "base_uri": "https://localhost:8080/"
        }
      },
      "execution_count": 2,
      "outputs": [
        {
          "output_type": "stream",
          "name": "stdout",
          "text": [
            "Mounted at /content/gdrive/\n"
          ]
        }
      ]
    },
    {
      "cell_type": "code",
      "source": [
        "cd gdrive/MyDrive/'Colab Notebooks'/Book/BallsDatasets"
      ],
      "metadata": {
        "colab": {
          "base_uri": "https://localhost:8080/"
        },
        "id": "ATHuKHGmGqhd",
        "outputId": "53e7fcf3-eed9-4681-aa98-1370473f5fef"
      },
      "execution_count": 3,
      "outputs": [
        {
          "output_type": "stream",
          "name": "stdout",
          "text": [
            "/content/gdrive/MyDrive/Colab Notebooks/Book/BallsDatasets\n"
          ]
        }
      ]
    },
    {
      "cell_type": "markdown",
      "source": [
        "**NOTE: You have to save the attached csv file to one of your subfolders in Google Drive and change the name of the subfolder below, accordingly.**"
      ],
      "metadata": {
        "id": "lUPIQIxqIfvI"
      }
    },
    {
      "cell_type": "code",
      "source": [
        "ls"
      ],
      "metadata": {
        "id": "R6Vx8Cz4dRf4",
        "colab": {
          "base_uri": "https://localhost:8080/"
        },
        "outputId": "34484ba8-a5d4-4041-aaf1-d87a6766678d"
      },
      "execution_count": 4,
      "outputs": [
        {
          "output_type": "stream",
          "name": "stdout",
          "text": [
            " baseball00.jpg           bowling20.jpg          soccer29.jpg\n",
            " baseball01.jpg           bowling21.png          soccer30.jpg\n",
            " baseball02.png           bowling22.png          soccer31.jpg\n",
            " baseball03.jpg           bowling23.png          soccer32.jpg\n",
            " baseball04.jpg           bowling24.jpg          soccer33.png\n",
            " baseball05.jpg           bowling25.png          soccer34.jpg\n",
            " baseball06.png           bowling26.png          soccer36.jpg\n",
            " baseball07.jpg           bowling27.jpg          soccer37.png\n",
            " baseball08.jpeg          bowling28.jpg          soccer38.png\n",
            " baseball09.jpeg          bowling29.jpg          soccer39.png\n",
            " baseball10.jpg           bowling30.png          soccer40.jpg\n",
            " baseball11.jpg           bowling31.png          soccer41.jpg\n",
            " baseball12.jpg           bowling32.png          soccer42.jpg\n",
            " baseball13.jpg           bowling34.jpg          soccer43.jpg\n",
            " baseball14.jpg           bowling35.jpg          soccer44.jpg\n",
            " baseball15.jpg           bowling36.png          soccer45.jpg\n",
            " baseball16.jpg           bowling37.png          soccer46.png\n",
            " baseball17.jpg           bowling38.png          soccer48.jpg\n",
            " baseball18.jpg           bowling39.jpg          soccer48.png\n",
            " baseball19.jpg           bowling40.jpg          soccer49.png\n",
            " baseball20.jpg           bowling41.jpg          soccer50.jpg\n",
            " baseball21.png           bowling42.jpg          soccer51.jpeg\n",
            " baseball22.png           bowling43.jpg          soccer52.jpeg\n",
            " baseball23.png           bowling44.jpg          soccer53.jpeg\n",
            " baseball24.jpg           bowling45.jpg          tabletennis00.jpg\n",
            " baseball25.jpg           bowling46.jpg          tabletennis01.jpg\n",
            " baseball26.jpg           bowling47.jpg          tabletennis02.jpg\n",
            " baseball27.jpg           bowling48.png          tabletennis03.jpg\n",
            " baseball28.jpg           bowling49.png          tabletennis04.jpg\n",
            " baseball29.jpg           bowling50.png          tabletennis07.png\n",
            " baseball30.png           bowling51.jpeg        'tabletennis08 (1).jpeg'\n",
            " baseball31.png           bowling52.jpeg         tabletennis08.jpeg\n",
            " baseball32.png           bowling53.jpeg         tabletennis09.jpg\n",
            " baseball33.jpg           football00.jpg         tabletennis10.jpg\n",
            " baseball36.png           football01.jpg         tabletennis11.jpg\n",
            " baseball37.png           football05.jpg         tabletennis12.jpg\n",
            " baseball38.png           football06.jpg         tabletennis13.jpg\n",
            " baseball39.png           football07.jpg         tabletennis14.jpg\n",
            " baseball40.jpg          'football08 (1).jpg'    tabletennis15.jpg\n",
            " baseball41.jpg           football08.jpg         tabletennis16.jpg\n",
            " baseball42.jpg          'football09 (1).png'    tabletennis17.jpg\n",
            " baseball43.jpg           football09.png        'tabletennis18 (1).png'\n",
            " baseball44.jpg           football10.jpg         tabletennis18.png\n",
            " baseball46.jpg           football11.jpg        'tabletennis19 (1).png'\n",
            " baseball47.jpg           football12.jpg         tabletennis19.png\n",
            " baseball48.png           football13.png         tabletennis20.png\n",
            " baseball49.jpg           football14.png         tabletennis21.png\n",
            " baseball50.jpg           football15.jpg         tabletennis22.png\n",
            " baseball51.jpeg          football16.jpg         tabletennis23.png\n",
            " baseball52.jpeg          football17.jpg        'tabletennis27 (1).jpg'\n",
            " baseball53.jpeg          football18.jpg         tabletennis27.jpg\n",
            " basketball00.jpg         football19.jpg         tabletennis28.jpg\n",
            " basketball01.jpg        'football20 (1).jpg'    tabletennis29.jpg\n",
            " basketball02.png         football20.jpg         tabletennis30.jpeg\n",
            " basketball03.png        'football21 (1).png'   'tabletennis31 (1).jpg'\n",
            " basketball07.jpeg        football21.png         tabletennis31.jpg\n",
            " basketball08.jpeg       'football22 (1).jpg'   'tabletennis32 (1).png'\n",
            " basketball09.jpeg        football22.jpg         tabletennis32.png\n",
            " basketball10.jpg        'football23 (1).png'   'tabletennis33 (1).png'\n",
            " basketball11.jpg         football23.png         tabletennis33.png\n",
            " basketball12.jpg         football24.jpg         tabletennis34.png\n",
            " basketball13.png         football25.jpg         tabletennis35.jpg\n",
            " basketball14.png         football26.jpg         tabletennis36.jpg\n",
            " basketball15.jpg         football27.jpg         tabletennis37.jpg\n",
            " basketball16.png         football28.jpg         tabletennis38.png\n",
            " basketball17.jpg         football29.png         tabletennis39.png\n",
            "'basketball18 (1).jpg'    football30.png        'tabletennis40 (1).png'\n",
            "'basketball18 (2).jpg'    football31.png         tabletennis40.png\n",
            " basketball18.jpg         football32.png        'tabletennis41 (1).jpg'\n",
            "'basketball19 (1).jpg'   'football36 (1).png'    tabletennis41.jpg\n",
            "'basketball19 (2).jpg'    football36.png         tabletennis42.jpg\n",
            " basketball19.jpg        'football37 (1).png'    tabletennis43.jpg\n",
            " basketball20.jpg         football37.png         tabletennis44.jpg\n",
            " basketball21.jpg         football38.png         tabletennis45.jpg\n",
            " basketball22.png         football39.jpg         tabletennis46.jpg\n",
            " basketball23.png         football40.jpg         tabletennis47.jpg\n",
            "'basketball24 (1).jpg'    football41.jpg         tabletennis48.jpg\n",
            "'basketball24 (2).jpg'    football42.jpg         tabletennis49.jpg\n",
            " basketball24.jpg         football43.jpg         tabletennis50.jpg\n",
            " basketball25.jpg         football44.jpg        'tabletennis51 (1).jpg'\n",
            "'basketball26 (1).jpg'    football46.jpg         tabletennis51.jpg\n",
            "'basketball26 (2).jpg'    football47.jpg         tabletennis52.png\n",
            " basketball26.jpg         football48.png        'tabletennis53 (1).jpeg'\n",
            "'basketball27 (1).jpg'    football49.png         tabletennis53.jpeg\n",
            "'basketball27 (2).jpg'   'football50 (1).png'    tabletennis54.jpeg\n",
            " basketball27.jpg         football50.png         tennis00.jpg\n",
            " basketball28.jpg         football51.jpeg        tennis01.jpg\n",
            " basketball29.jpg        'football52 (1).jpeg'   tennis02.jpg\n",
            "'basketball30 (1).png'    football52.jpeg        tennis03.jpg\n",
            "'basketball30 (2).png'    football53.jpeg        tennis04.jpg\n",
            " basketball30.png         golf00.jpg             tennis05.jpg\n",
            " basketball31.png         golf01.jpg             tennis06.png\n",
            "'basketball32 (1).png'    golf02.jpg             tennis07.jpeg\n",
            "'basketball32 (2).png'    golf03.jpg             tennis08.jpg\n",
            " basketball32.png         golf04.jpg             tennis09.jpg\n",
            " basketball34.jpg         golf05.png             tennis10.jpg\n",
            " basketball35.jpg        'golf07 (1).jpeg'       tennis11.jpg\n",
            " basketball36.png        'golf07 (2).jpeg'       tennis12.jpg\n",
            " basketball37.png         golf07.jpeg            tennis13.jpg\n",
            " basketball38.png        'golf08 (1).png'        tennis14.jpg\n",
            " basketball39.jpg        'golf08 (2).png'        tennis15.jpg\n",
            "'basketball40 (1).jpg'    golf08.png             tennis16.jpg\n",
            "'basketball40 (2).jpg'   'golf09 (1).png'        tennis17.jpg\n",
            " basketball40.jpg         golf09.png             tennis18.png\n",
            "'basketball41 (1).jpg'    golf10.jpg             tennis19.png\n",
            "'basketball41 (2).jpg'    golf11.jpg             tennis20.png\n",
            " basketball41.jpg         golf12.jpg             tennis21.png\n",
            " basketball42.jpg         golf13.png             tennis22.png\n",
            " basketball43.jpg         golf14.png             tennis23.png\n",
            " basketball44.jpg         golf15.png             tennis27.jpg\n",
            " basketball45.png         golf16.jpg             tennis28.jpg\n",
            " basketball46.png         golf17.jpg             tennis29.jpg\n",
            " basketball47.png         golf18.jpg             tennis30.png\n",
            " basketball48.png         golf19.jpg             tennis31.png\n",
            " basketball49.png        'golf20 (1).jpg'        tennis32.png\n",
            " basketball50.png        'golf20 (2).jpg'        tennis33.jpg\n",
            "'basketball51 (1).jpeg'   golf20.jpg             tennis34.jpg\n",
            "'basketball51 (2).jpeg'   golf21.png             tennis36.png\n",
            " basketball51.jpeg       'golf22 (1).png'        tennis37.png\n",
            " basketball52.jpeg       'golf22 (2).png'        tennis38.png\n",
            " basketball53.jpeg        golf22.png             tennis39.jpg\n",
            " billiards00.jpg         'golf23 (1).png'        tennis40.jpg\n",
            " billiards01.png         'golf23 (2).png'        tennis41.jpg\n",
            " billiards02.jpeg         golf23.png             tennis42.jpg\n",
            " billiards03.jpeg         golf27.jpg             tennis43.jpg\n",
            " billiards07.jpg          golf28.png             tennis44.jpg\n",
            " billiards08.jpg          golf29.jpg             tennis45.jpg\n",
            " billiards09.jpg          golf30.jpg             tennis46.jpg\n",
            " billiards10.jpg          golf31.png             tennis47.jpg\n",
            " billiards11.jpg          golf32.png             tennis48.png\n",
            " billiards12.jpg          golf33.png             tennis49.png\n",
            " billiards13.png         'golf34 (1).jpg'        tennis50.jpg\n",
            " billiards14.png         'golf34 (2).jpg'        tennis51.jpeg\n",
            " billiards15.png          golf34.jpg             tennis52.jpeg\n",
            " billiards16.jpg         'golf35 (1).jpg'        tennis53.jpeg\n",
            " billiards17.jpg          golf35.jpg             volleyball00.jpg\n",
            " billiards18.webp        'golf36 (1).jpg'        volleyball01.jpg\n",
            " billiards19.jpg         'golf36 (2).jpg'        volleyball02.jpg\n",
            " billiards20.jpg          golf36.jpg             volleyball03.jpg\n",
            " billiards21.png         'golf37 (1).png'        volleyball07.jpg\n",
            " billiards22.png         'golf37 (2).png'        volleyball08.png\n",
            " billiards23.png          golf37.png             volleyball09.jpg\n",
            " billiards24.jpg          golf38.png             volleyball10.jpg\n",
            " billiards25.jpg          golf39.png             volleyball11.jpg\n",
            " billiards26.jpg          golf40.png             volleyball12.jpg\n",
            " billiards27.jpg          golf41.jpg             volleyball13.jpg\n",
            " billiards28.jpg          golf42.jpg             volleyball14.png\n",
            " billiards29.jpg         'golf43 (1).jpg'        volleyball15.jpg\n",
            " billiards30.png          golf43.jpg             volleyball16.jpg\n",
            " billiards31.png          golf44.jpg             volleyball17.jpg\n",
            " billiards32.png          golf45.jpg             volleyball18.png\n",
            " billiards33.jpeg         golf46.jpg             volleyball19.png\n",
            " billiards36.png          golf47.jpg             volleyball20.png\n",
            " billiards37.png          golf49.png             volleyball21.png\n",
            " billiards38.png          golf50.jpg             volleyball22.png\n",
            " billiards39.png         'golf51 (1).jpg'        volleyball23.png\n",
            " billiards40.jpg          golf51.jpg             volleyball27.jpg\n",
            " billiards41.jpg          golf52.jpg             volleyball28.jpg\n",
            " billiards42.jpg          golf53.jpeg            volleyball29.jpg\n",
            " billiards43.jpg          golf54.jpeg            volleyball30.jpg\n",
            " billiards44.jpg          soccer00.jpg           volleyball31.jpg\n",
            " billiards45.png          soccer01.jpg           volleyball32.jpg\n",
            " billiards46.png          soccer02.jpeg          volleyball33.png\n",
            " billiards47.png          soccer03.jpg           volleyball34.png\n",
            " billiards48.jpg          soccer04.jpg           volleyball35.png\n",
            " billiards49.png          soccer05.jpg           volleyball37.jpeg\n",
            " billiards50.png          soccer06.jpg           volleyball39.png\n",
            " billiards51.jpeg         soccer07.jpeg          volleyball40.png\n",
            " billiards52.jpeg         soccer08.jpg           volleyball41.png\n",
            " billiards53.png          soccer09.png           volleyball42.jpg\n",
            " bowling00.jpg            soccer10.jpg           volleyball43.png\n",
            " bowling01.jpg            soccer11.jpg           volleyball44.jpg\n",
            " bowling02.jpg            soccer12.jpg           volleyball45.png\n",
            " bowling03.jpg            soccer13.jpg           volleyball46.jpg\n",
            " bowling07.jpeg           soccer14.jpg           volleyball47.jpg\n",
            " bowling08.jpeg           soccer16.jpg           volleyball48.jpg\n",
            " bowling09.jpeg           soccer17.jpg           volleyball49.jpg\n",
            " bowling10.jpg            soccer18.png           volleyball50.jpg\n",
            " bowling11.jpg            soccer19.png           volleyball51.png\n",
            " bowling12.jpg            soccer20.png           volleyball52.png\n",
            " bowling13.png            soccer21.png           volleyball53.png\n",
            " bowling14.png            soccer22.png           volleyball54.png\n",
            " bowling15.png            soccer23.png           volleyball55.jpeg\n",
            " bowling17.jpg            soccer27.jpg           volleyball56.jpeg\n",
            " bowling19.jpg            soccer28.jpg\n"
          ]
        }
      ]
    },
    {
      "cell_type": "code",
      "source": [
        "organize = pd.DataFrame.from_dict(os.listdir())\n",
        "random   = organize.sample(frac=1, random_state=1).reset_index()\n",
        "data     = pd.DataFrame(random)[0].values.tolist()"
      ],
      "metadata": {
        "id": "u4jOD3KtdSBj"
      },
      "execution_count": 5,
      "outputs": []
    },
    {
      "cell_type": "code",
      "source": [
        "print(data)"
      ],
      "metadata": {
        "id": "cEhF6Cna7Svb",
        "outputId": "91532f63-484b-42bc-e430-958c61f501eb",
        "colab": {
          "base_uri": "https://localhost:8080/"
        }
      },
      "execution_count": 6,
      "outputs": [
        {
          "output_type": "stream",
          "name": "stdout",
          "text": [
            "['volleyball01.jpg', 'golf45.jpg', 'volleyball09.jpg', 'baseball14.jpg', 'soccer36.jpg', 'baseball37.png', 'golf19.jpg', 'tennis14.jpg', 'tennis01.jpg', 'basketball41 (1).jpg', 'basketball30 (2).png', 'basketball40.jpg', 'soccer10.jpg', 'tennis08.jpg', 'tabletennis35.jpg', 'tabletennis17.jpg', 'tennis17.jpg', 'tabletennis21.png', 'golf04.jpg', 'billiards20.jpg', 'volleyball43.png', 'basketball47.png', 'tabletennis51.jpg', 'soccer53.jpeg', 'basketball45.png', 'baseball00.jpg', 'golf35 (1).jpg', 'bowling46.jpg', 'soccer50.jpg', 'volleyball21.png', 'football47.jpg', 'football13.png', 'basketball29.jpg', 'bowling20.jpg', 'billiards01.png', 'baseball51.jpeg', 'volleyball35.png', 'football09 (1).png', 'billiards25.jpg', 'bowling07.jpeg', 'soccer48.jpg', 'golf34.jpg', 'football20.jpg', 'football10.jpg', 'golf07 (2).jpeg', 'tabletennis11.jpg', 'football26.jpg', 'baseball38.png', 'tabletennis42.jpg', 'bowling52.jpeg', 'volleyball56.jpeg', 'golf13.png', 'tennis46.jpg', 'basketball24.jpg', 'basketball35.jpg', 'football36.png', 'baseball39.png', 'volleyball20.png', 'volleyball00.jpg', 'basketball12.jpg', 'bowling39.jpg', 'billiards10.jpg', 'tabletennis45.jpg', 'basketball53.jpeg', 'football37 (1).png', 'volleyball31.jpg', 'tabletennis08.jpeg', 'soccer33.png', 'basketball40 (2).jpg', 'tennis02.jpg', 'volleyball22.png', 'tabletennis43.jpg', 'golf52.jpg', 'basketball16.png', 'bowling38.png', 'golf03.jpg', 'basketball30 (1).png', 'golf21.png', 'golf43 (1).jpg', 'billiards39.png', 'football27.jpg', 'baseball33.jpg', 'tennis38.png', 'basketball27 (2).jpg', 'bowling29.jpg', 'baseball03.jpg', 'volleyball08.png', 'baseball13.jpg', 'billiards33.jpeg', 'football23.png', 'basketball00.jpg', 'tennis52.jpeg', 'billiards43.jpg', 'tabletennis38.png', 'soccer37.png', 'golf01.jpg', 'baseball25.jpg', 'basketball41 (2).jpg', 'tabletennis34.png', 'football36 (1).png', 'bowling44.jpg', 'baseball11.jpg', 'football52.jpeg', 'baseball50.jpg', 'basketball15.jpg', 'volleyball55.jpeg', 'bowling08.jpeg', 'volleyball32.jpg', 'soccer43.jpg', 'basketball01.jpg', 'billiards48.jpg', 'football22 (1).jpg', 'billiards28.jpg', 'volleyball40.png', 'tennis34.jpg', 'football01.jpg', 'billiards24.jpg', 'golf50.jpg', 'football24.jpg', 'billiards12.jpg', 'tennis09.jpg', 'tabletennis19 (1).png', 'billiards46.png', 'tennis51.jpeg', 'basketball09.jpeg', 'tabletennis51 (1).jpg', 'basketball41.jpg', 'tabletennis28.jpg', 'basketball42.jpg', 'football00.jpg', 'soccer51.jpeg', 'golf20 (1).jpg', 'tabletennis33.png', 'basketball31.png', 'basketball17.jpg', 'billiards44.jpg', 'tabletennis29.jpg', 'basketball39.jpg', 'tennis10.jpg', 'football29.png', 'soccer27.jpg', 'baseball16.jpg', 'football39.jpg', 'tabletennis02.jpg', 'tabletennis52.png', 'golf33.png', 'bowling14.png', 'tabletennis54.jpeg', 'basketball02.png', 'billiards03.jpeg', 'basketball24 (2).jpg', 'bowling27.jpg', 'tennis22.png', 'soccer08.jpg', 'golf53.jpeg', 'volleyball51.png', 'tabletennis22.png', 'golf22.png', 'tabletennis47.jpg', 'billiards18.webp', 'tennis40.jpg', 'golf46.jpg', 'volleyball16.jpg', 'basketball38.png', 'golf00.jpg', 'bowling23.png', 'soccer11.jpg', 'soccer39.png', 'volleyball42.jpg', 'golf34 (2).jpg', 'baseball52.jpeg', 'volleyball23.png', 'baseball12.jpg', 'football08.jpg', 'golf51.jpg', 'tennis04.jpg', 'golf16.jpg', 'tabletennis50.jpg', 'soccer14.jpg', 'bowling26.png', 'basketball46.png', 'football21 (1).png', 'golf11.jpg', 'bowling36.png', 'baseball36.png', 'soccer28.jpg', 'bowling50.png', 'tabletennis32 (1).png', 'billiards14.png', 'bowling12.jpg', 'basketball36.png', 'volleyball41.png', 'tabletennis13.jpg', 'bowling22.png', 'golf34 (1).jpg', 'football48.png', 'billiards50.png', 'football18.jpg', 'soccer12.jpg', 'golf38.png', 'billiards23.png', 'soccer02.jpeg', 'tabletennis16.jpg', 'bowling01.jpg', 'bowling41.jpg', 'tabletennis08 (1).jpeg', 'billiards41.jpg', 'soccer42.jpg', 'basketball08.jpeg', 'tennis41.jpg', 'billiards07.jpg', 'golf40.png', 'football32.png', 'billiards16.jpg', 'billiards53.png', 'tennis47.jpg', 'golf42.jpg', 'basketball48.png', 'bowling45.jpg', 'football30.png', 'football31.png', 'tennis12.jpg', 'soccer13.jpg', 'baseball01.jpg', 'golf28.png', 'baseball04.jpg', 'golf17.jpg', 'baseball43.jpg', 'volleyball15.jpg', 'tennis18.png', 'golf37 (1).png', 'bowling24.jpg', 'tennis16.jpg', 'golf20 (2).jpg', 'billiards52.jpeg', 'volleyball07.jpg', 'basketball27 (1).jpg', 'golf18.jpg', 'basketball07.jpeg', 'baseball26.jpg', 'bowling25.png', 'football50 (1).png', 'tabletennis12.jpg', 'volleyball02.jpg', 'bowling53.jpeg', 'football37.png', 'soccer22.png', 'tabletennis53.jpeg', 'soccer09.png', 'football16.jpg', 'bowling00.jpg', 'basketball50.png', 'tennis48.png', 'billiards37.png', 'basketball32 (2).png', 'billiards51.jpeg', 'basketball32 (1).png', 'soccer29.jpg', 'basketball51 (1).jpeg', 'basketball44.jpg', 'tabletennis44.jpg', 'bowling28.jpg', 'bowling02.jpg', 'football51.jpeg', 'billiards40.jpg', 'golf23 (2).png', 'volleyball12.jpg', 'volleyball17.jpg', 'baseball47.jpg', 'football23 (1).png', 'tabletennis10.jpg', 'billiards13.png', 'golf07.jpeg', 'tennis43.jpg', 'football11.jpg', 'football46.jpg', 'golf32.png', 'tabletennis03.jpg', 'basketball24 (1).jpg', 'football41.jpg', 'basketball18.jpg', 'basketball51.jpeg', 'football40.jpg', 'billiards49.png', 'tennis28.jpg', 'golf47.jpg', 'bowling48.png', 'volleyball50.jpg', 'baseball19.jpg', 'golf43.jpg', 'golf20.jpg', 'football20 (1).jpg', 'golf05.png', 'soccer21.png', 'football22.jpg', 'football14.png', 'tennis31.png', 'tabletennis48.jpg', 'tabletennis49.jpg', 'bowling40.jpg', 'volleyball44.jpg', 'baseball27.jpg', 'soccer45.jpg', 'golf36 (1).jpg', 'tabletennis32.png', 'tabletennis40 (1).png', 'soccer20.png', 'volleyball46.jpg', 'tennis39.jpg', 'tennis29.jpg', 'bowling34.jpg', 'soccer05.jpg', 'tabletennis37.jpg', 'volleyball29.jpg', 'billiards17.jpg', 'volleyball03.jpg', 'golf44.jpg', 'golf08 (1).png', 'volleyball28.jpg', 'basketball52.jpeg', 'football53.jpeg', 'basketball19.jpg', 'basketball26 (2).jpg', 'basketball27.jpg', 'bowling19.jpg', 'tabletennis04.jpg', 'football07.jpg', 'golf54.jpeg', 'football12.jpg', 'golf37 (2).png', 'golf22 (2).png', 'baseball17.jpg', 'baseball31.png', 'soccer16.jpg', 'tennis13.jpg', 'golf07 (1).jpeg', 'basketball11.jpg', 'billiards00.jpg', 'baseball06.png', 'bowling11.jpg', 'baseball18.jpg', 'baseball49.jpg', 'basketball30.png', 'tennis23.png', 'tennis00.jpg', 'billiards27.jpg', 'soccer49.png', 'golf09 (1).png', 'billiards19.jpg', 'basketball43.jpg', 'tennis44.jpg', 'baseball30.png', 'football09.png', 'volleyball45.png', 'soccer41.jpg', 'tennis03.jpg', 'baseball07.jpg', 'bowling30.png', 'tabletennis09.jpg', 'football43.jpg', 'soccer31.jpg', 'basketball37.png', 'tabletennis27 (1).jpg', 'baseball53.jpeg', 'bowling35.jpg', 'football08 (1).jpg', 'volleyball33.png', 'soccer18.png', 'volleyball19.png', 'football49.png', 'baseball29.jpg', 'soccer00.jpg', 'billiards26.jpg', 'football52 (1).jpeg', 'soccer32.jpg', 'tennis32.png', 'tabletennis18 (1).png', 'basketball13.png', 'soccer03.jpg', 'bowling21.png', 'soccer23.png', 'baseball15.jpg', 'tennis05.jpg', 'golf12.jpg', 'golf22 (1).png', 'volleyball54.png', 'soccer52.jpeg', 'tennis53.jpeg', 'tennis27.jpg', 'volleyball18.png', 'golf09.png', 'baseball32.png', 'bowling43.jpg', 'tennis50.jpg', 'golf51 (1).jpg', 'basketball34.jpg', 'basketball21.jpg', 'bowling10.jpg', 'golf10.jpg', 'baseball40.jpg', 'soccer04.jpg', 'football17.jpg', 'basketball49.png', 'soccer17.jpg', 'basketball40 (1).jpg', 'tabletennis40.png', 'volleyball49.jpg', 'golf08.png', 'soccer19.png', 'basketball32.png', 'baseball23.png', 'tennis20.png', 'tabletennis41.jpg', 'tabletennis36.jpg', 'basketball23.png', 'tennis42.jpg', 'tennis33.jpg', 'basketball18 (2).jpg', 'tennis21.png', 'volleyball11.jpg', 'volleyball37.jpeg', 'bowling37.png', 'billiards32.png', 'basketball51 (2).jpeg', 'tabletennis07.png', 'billiards11.jpg', 'baseball22.png', 'billiards15.png', 'football44.jpg', 'golf14.png', 'tabletennis19.png', 'basketball19 (2).jpg', 'football38.png', 'soccer46.png', 'billiards31.png', 'golf37.png', 'tabletennis46.jpg', 'billiards02.jpeg', 'volleyball30.jpg', 'bowling17.jpg', 'golf23.png', 'golf29.jpg', 'soccer07.jpeg', 'tennis06.png', 'baseball42.jpg', 'golf36.jpg', 'baseball08.jpeg', 'baseball05.jpg', 'golf02.jpg', 'baseball48.png', 'golf31.png', 'volleyball14.png', 'tabletennis18.png', 'tennis15.jpg', 'golf30.jpg', 'tabletennis20.png', 'golf15.png', 'baseball10.jpg', 'baseball02.png', 'volleyball53.png', 'golf08 (2).png', 'football28.jpg', 'baseball44.jpg', 'basketball26.jpg', 'soccer38.png', 'baseball24.jpg', 'bowling32.png', 'billiards38.png', 'volleyball34.png', 'basketball22.png', 'baseball20.jpg', 'billiards22.png', 'golf41.jpg', 'soccer30.jpg', 'football21.png', 'volleyball13.jpg', 'golf35.jpg', 'football25.jpg', 'football50.png', 'bowling51.jpeg', 'tabletennis14.jpg', 'golf27.jpg', 'bowling15.png', 'billiards45.png', 'tabletennis30.jpeg', 'soccer40.jpg', 'billiards29.jpg', 'basketball14.png', 'football19.jpg', 'basketball10.jpg', 'volleyball52.png', 'tabletennis41 (1).jpg', 'basketball20.jpg', 'soccer34.jpg', 'golf39.png', 'soccer06.jpg', 'tennis11.jpg', 'volleyball47.jpg', 'baseball21.png', 'tabletennis31.jpg', 'soccer01.jpg', 'basketball18 (1).jpg', 'basketball19 (1).jpg', 'football06.jpg', 'tennis37.png', 'football42.jpg', 'volleyball27.jpg', 'billiards36.png', 'tabletennis00.jpg', 'tennis19.png', 'tennis07.jpeg', 'bowling03.jpg', 'billiards42.jpg', 'baseball28.jpg', 'billiards30.png', 'tabletennis01.jpg', 'bowling09.jpeg', 'billiards47.png', 'bowling47.jpg', 'tabletennis53 (1).jpeg', 'bowling49.png', 'tabletennis39.png', 'billiards08.jpg', 'golf49.png', 'tennis49.png', 'tabletennis31 (1).jpg', 'golf23 (1).png', 'tabletennis33 (1).png', 'volleyball48.jpg', 'tennis30.png', 'bowling31.png', 'basketball03.png', 'volleyball39.png', 'bowling13.png', 'tabletennis15.jpg', 'soccer44.jpg', 'soccer48.png', 'billiards21.png', 'baseball41.jpg', 'baseball46.jpg', 'basketball26 (1).jpg', 'bowling42.jpg', 'golf36 (2).jpg', 'basketball25.jpg', 'basketball28.jpg', 'tabletennis23.png', 'football05.jpg', 'tennis36.png', 'tennis45.jpg', 'volleyball10.jpg', 'football15.jpg', 'billiards09.jpg', 'tabletennis27.jpg', 'baseball09.jpeg']\n"
          ]
        }
      ]
    },
    {
      "cell_type": "code",
      "source": [
        "m = 0\n",
        "balls_folder = []\n",
        "for file in data:\n",
        "  image = cv.imread(file)\n",
        "  if image.shape == (28,28,3):\n",
        "    balls_folder.append(image)\n",
        "  else:\n",
        "    m += 1\n",
        "print(str(m) + ' images were not rescaled to 28x28 and are now excluded.')"
      ],
      "metadata": {
        "id": "Arum7jCW8Byp",
        "outputId": "6bff762f-3476-4ca5-f7a4-dad53ff3c838",
        "colab": {
          "base_uri": "https://localhost:8080/"
        }
      },
      "execution_count": 7,
      "outputs": [
        {
          "output_type": "stream",
          "name": "stdout",
          "text": [
            "1 images were not rescaled to 28x28 and are now excluded.\n"
          ]
        }
      ]
    },
    {
      "cell_type": "code",
      "source": [
        "print(balls_folder[0].shape)\n",
        "print(len(balls_folder))"
      ],
      "metadata": {
        "id": "Y-4AZAPH8ukA",
        "outputId": "3df99687-a3c5-4b50-b977-c5432bc1bdb4",
        "colab": {
          "base_uri": "https://localhost:8080/"
        }
      },
      "execution_count": 8,
      "outputs": [
        {
          "output_type": "stream",
          "name": "stdout",
          "text": [
            "(28, 28, 3)\n",
            "553\n"
          ]
        }
      ]
    },
    {
      "cell_type": "code",
      "source": [
        "print(balls_folder[0])\n",
        "plt.matshow(balls_folder[552]) #sample ball image"
      ],
      "metadata": {
        "id": "9fZ3hwXF9kBH",
        "outputId": "4c5d118a-7114-4a40-f8e3-e9cea35c4e5c",
        "colab": {
          "base_uri": "https://localhost:8080/",
          "height": 1000
        }
      },
      "execution_count": 10,
      "outputs": [
        {
          "output_type": "stream",
          "name": "stdout",
          "text": [
            "[[[255 251 255]\n",
            "  [255 250 255]\n",
            "  [255 254 255]\n",
            "  ...\n",
            "  [246 253 255]\n",
            "  [249 251 255]\n",
            "  [253 253 255]]\n",
            "\n",
            " [[255 253 255]\n",
            "  [255 253 255]\n",
            "  [251 250 252]\n",
            "  ...\n",
            "  [248 254 255]\n",
            "  [252 253 255]\n",
            "  [253 252 254]]\n",
            "\n",
            " [[255 255 251]\n",
            "  [255 255 252]\n",
            "  [255 255 255]\n",
            "  ...\n",
            "  [253 255 255]\n",
            "  [255 255 254]\n",
            "  [255 254 250]]\n",
            "\n",
            " ...\n",
            "\n",
            " [[255 251 255]\n",
            "  [255 251 255]\n",
            "  [253 255 255]\n",
            "  ...\n",
            "  [255 255 252]\n",
            "  [255 255 252]\n",
            "  [255 255 252]]\n",
            "\n",
            " [[255 252 255]\n",
            "  [255 251 255]\n",
            "  [249 251 251]\n",
            "  ...\n",
            "  [255 255 252]\n",
            "  [250 255 255]\n",
            "  [246 255 255]]\n",
            "\n",
            " [[255 252 255]\n",
            "  [255 254 255]\n",
            "  [253 255 255]\n",
            "  ...\n",
            "  [255 255 252]\n",
            "  [246 255 255]\n",
            "  [243 253 255]]]\n"
          ]
        },
        {
          "output_type": "execute_result",
          "data": {
            "text/plain": [
              "<matplotlib.image.AxesImage at 0x7f756f2fa740>"
            ]
          },
          "metadata": {},
          "execution_count": 10
        },
        {
          "output_type": "display_data",
          "data": {
            "text/plain": [
              "<Figure size 480x480 with 1 Axes>"
            ],
            "image/png": "[encoded data removed]"
          },
          "metadata": {}
        }
      ]
    },
    {
      "cell_type": "code",
      "source": [
        "balls_flat = np.stack((balls_folder[i] for i in range(len(balls_folder))))\n",
        "print(balls_flat.shape)"
      ],
      "metadata": {
        "id": "Omkhs4PL99v1",
        "outputId": "f0ef5f25-e45d-49d8-c9c0-8bd841153aa6",
        "colab": {
          "base_uri": "https://localhost:8080/"
        }
      },
      "execution_count": 11,
      "outputs": [
        {
          "output_type": "stream",
          "name": "stdout",
          "text": [
            "(553, 28, 28, 3)\n"
          ]
        },
        {
          "output_type": "stream",
          "name": "stderr",
          "text": [
            "/usr/local/lib/python3.10/dist-packages/IPython/core/interactiveshell.py:3473: FutureWarning: arrays to stack must be passed as a \"sequence\" type such as list or tuple. Support for non-sequence iterables such as generators is deprecated as of NumPy 1.16 and will raise an error in the future.\n",
            "  if (await self.run_code(code, result,  async_=asy)):\n"
          ]
        }
      ]
    },
    {
      "cell_type": "code",
      "source": [
        "baseballXX    = 'baseball*'\n",
        "basketballXX  = 'basketball*'\n",
        "billiardsXX   = 'billiards*'\n",
        "bowlingXX     = 'bowling*'\n",
        "footballXX    = 'football*'\n",
        "golfXX        = 'golf*'\n",
        "soccerXX      = 'soccer*'\n",
        "tabletennisXX = 'tabletennis*'\n",
        "tennisXX      = 'tennis*'\n",
        "volleyballXX  = 'volleyball*'\n",
        "s_name         = []\n",
        "for filename in data:\n",
        "  image = cv.imread(filename)\n",
        "  if image.shape == (28,28,3):\n",
        "    if fnmatch.fnmatch(filename, baseballXX) == True:\n",
        "      s_name.append(0)\n",
        "    elif fnmatch.fnmatch(filename, basketballXX) == True:\n",
        "      s_name.append(1)\n",
        "    elif fnmatch.fnmatch(filename, billiardsXX) == True:\n",
        "      s_name.append(2)\n",
        "    elif fnmatch.fnmatch(filename, bowlingXX) == True:\n",
        "      s_name.append(3)\n",
        "    elif fnmatch.fnmatch(filename, footballXX) == True:\n",
        "      s_name.append(4)\n",
        "    elif fnmatch.fnmatch(filename, golfXX) == True:\n",
        "      s_name.append(5)\n",
        "    elif fnmatch.fnmatch(filename, soccerXX) == True:\n",
        "      s_name.append(6)\n",
        "    elif fnmatch.fnmatch(filename, tabletennisXX) == True:\n",
        "      s_name.append(7)\n",
        "    elif fnmatch.fnmatch(filename, tennisXX) == True:\n",
        "      s_name.append(8)\n",
        "    elif fnmatch.fnmatch(filename, volleyballXX) == True:\n",
        "      s_name.append(9)\n",
        "    else:\n",
        "      print(filename + str(' is not accounted.'))\n",
        "\n",
        "s_name = np.reshape(s_name, (len(s_name),))\n",
        "print(s_name.shape)\n",
        "print(s_name)"
      ],
      "metadata": {
        "id": "v98LNmumCoWW",
        "outputId": "f49f9e63-4459-4494-dd92-dbc9b7d38532",
        "colab": {
          "base_uri": "https://localhost:8080/"
        }
      },
      "execution_count": 12,
      "outputs": [
        {
          "output_type": "stream",
          "name": "stdout",
          "text": [
            "(553,)\n",
            "[9 5 9 0 6 0 5 8 8 1 1 1 6 8 7 7 8 7 5 2 9 1 7 6 1 0 5 3 6 9 4 4 1 3 2 0 9\n",
            " 4 2 3 6 5 4 4 5 7 4 0 7 3 9 5 8 1 1 4 0 9 9 1 3 2 7 1 4 9 7 6 1 8 9 7 5 1\n",
            " 3 5 1 5 5 2 4 0 8 1 3 0 9 0 2 4 1 8 2 7 6 5 0 1 7 4 3 0 4 0 1 9 3 9 6 1 2\n",
            " 4 2 9 8 4 2 5 4 2 8 7 2 8 1 7 1 7 1 4 6 5 7 1 1 2 7 1 8 4 6 0 4 7 7 5 3 7\n",
            " 1 2 1 3 8 6 5 9 7 5 7 2 8 5 9 1 5 3 6 6 9 5 0 9 0 4 5 8 5 7 6 3 1 4 5 3 0\n",
            " 6 3 7 2 3 1 9 7 3 5 4 2 4 6 5 2 6 7 3 3 7 2 6 1 8 2 5 4 2 2 8 5 1 3 4 4 8\n",
            " 6 0 5 0 5 0 9 8 5 3 8 5 2 9 1 5 1 0 3 4 7 9 3 4 6 7 6 4 3 1 8 2 1 2 1 6 1\n",
            " 1 7 3 3 4 2 5 9 9 0 4 7 2 5 8 4 5 7 1 4 1 1 4 2 8 5 3 9 0 5 5 4 5 6 4 4 8\n",
            " 7 7 3 9 0 6 5 7 7 6 9 8 8 3 6 7 9 2 9 5 5 9 1 4 1 1 1 3 7 4 5 4 5 5 0 0 6\n",
            " 8 5 1 2 0 3 0 0 1 8 8 2 6 5 2 1 8 0 4 9 6 8 0 3 7 4 6 1 7 0 3 4 9 6 9 4 0\n",
            " 6 2 4 6 8 7 1 6 3 6 0 8 5 5 9 6 8 8 9 5 0 3 8 5 1 1 3 5 0 6 4 1 6 1 7 9 5\n",
            " 6 1 0 8 7 7 1 8 8 1 8 9 9 3 2 1 7 2 0 2 4 5 7 1 4 6 2 5 7 2 9 3 5 5 6 8 0\n",
            " 5 0 0 5 0 5 9 7 8 5 7 5 0 0 9 5 4 0 1 6 0 3 2 9 1 0 2 5 6 4 9 5 4 4 3 7 5\n",
            " 3 2 7 6 2 1 4 1 9 7 1 6 5 6 8 9 0 7 6 1 1 4 8 4 9 2 7 8 8 3 2 0 2 7 3 2 3\n",
            " 7 3 7 2 5 8 7 5 7 9 8 3 1 9 3 7 6 6 2 0 0 1 3 5 1 1 7 4 8 8 9 4 2 7 0]\n"
          ]
        }
      ]
    },
    {
      "cell_type": "markdown",
      "source": [
        "#####**Preparing the Data**"
      ],
      "metadata": {
        "id": "gRtywxq-e_9v"
      }
    },
    {
      "cell_type": "code",
      "source": [
        "trainRatio = 75/100\n",
        "testRatio = 15/100\n",
        "valRatio = 10/100\n",
        "X_train,X_test,y_train, y_test = train_test_split(balls_flat, s_name, test_size = 1 - trainRatio)\n",
        "X_val,X_test,y_val, y_test = train_test_split(balls_flat, s_name, test_size = testRatio/(testRatio+valRatio))\n",
        "\n",
        "#trainRatio = 80/100\n",
        "#testRatio = 20/100\n",
        "#X_train,X_test, y_train, y_test = train_test_split(balls_flat, s_name, test_size = 1 - trainRatio)"
      ],
      "metadata": {
        "id": "T6yCmuVfrR8t"
      },
      "execution_count": 13,
      "outputs": []
    },
    {
      "cell_type": "code",
      "source": [
        "X_train = X_train/255\n",
        "X_test = X_test/255\n",
        "\n",
        "print(X_train.shape)\n",
        "print(X_test.shape)"
      ],
      "metadata": {
        "colab": {
          "base_uri": "https://localhost:8080/"
        },
        "id": "zSJpg4iLStf7",
        "outputId": "ba87109a-04b3-4409-94d6-d2100e9fad21"
      },
      "execution_count": 14,
      "outputs": [
        {
          "output_type": "stream",
          "name": "stdout",
          "text": [
            "(414, 28, 28, 3)\n",
            "(332, 28, 28, 3)\n"
          ]
        }
      ]
    },
    {
      "cell_type": "code",
      "source": [
        "X_train_flat = X_train.reshape(len(X_train),28,28,3)\n",
        "X_test_flat = X_test.reshape(len(X_test),28,28,3)\n",
        "print(X_train_flat.shape)\n",
        "print(X_test_flat.shape)"
      ],
      "metadata": {
        "id": "705bnkYTILbA",
        "colab": {
          "base_uri": "https://localhost:8080/"
        },
        "outputId": "b1966eca-74ad-4a8a-8c27-96fa63b9a44d"
      },
      "execution_count": 15,
      "outputs": [
        {
          "output_type": "stream",
          "name": "stdout",
          "text": [
            "(414, 28, 28, 3)\n",
            "(332, 28, 28, 3)\n"
          ]
        }
      ]
    },
    {
      "cell_type": "code",
      "source": [
        "print(X_train.shape)\n",
        "print(y_train.shape)"
      ],
      "metadata": {
        "colab": {
          "base_uri": "https://localhost:8080/"
        },
        "id": "NhSWbd92hy1Q",
        "outputId": "3d575918-be25-4d0f-dd74-d6a34bdec12f"
      },
      "execution_count": 16,
      "outputs": [
        {
          "output_type": "stream",
          "name": "stdout",
          "text": [
            "(414, 28, 28, 3)\n",
            "(414,)\n"
          ]
        }
      ]
    },
    {
      "cell_type": "markdown",
      "source": [
        "####**Defining the model**"
      ],
      "metadata": {
        "id": "te95nwDRkTlX"
      }
    },
    {
      "cell_type": "code",
      "source": [
        "model = tf.keras.models.Sequential([\n",
        "    tf.keras.layers.Conv2D(64, (3,3), activation='relu', input_shape=(28,28,3)),\n",
        "    tf.keras.layers.MaxPooling2D(2,2),\n",
        "\n",
        "    tf.keras.layers.Conv2D(128, (3,3), activation='relu'),\n",
        "    tf.keras.layers.MaxPooling2D(2,2),\n",
        "\n",
        "    tf.keras.layers.Conv2D(128, (3,3), activation='relu'),\n",
        "    tf.keras.layers.MaxPooling2D(2,2),\n",
        "  \n",
        "    tf.keras.layers.Dropout(0.5),\n",
        "    tf.keras.layers.Flatten(),   \n",
        "\n",
        "    tf.keras.layers.Dense(64, activation='relu'),\n",
        "    tf.keras.layers.Dropout(0.5),\n",
        "    tf.keras.layers.Dense(10, activation='softmax')\n",
        "])\n",
        "model.summary()"
      ],
      "metadata": {
        "id": "--pzDKGzSsq7",
        "outputId": "3d730ef0-b283-45d0-f4f5-d45715195653",
        "colab": {
          "base_uri": "https://localhost:8080/"
        }
      },
      "execution_count": 53,
      "outputs": [
        {
          "output_type": "stream",
          "name": "stdout",
          "text": [
            "Model: \"sequential_5\"\n",
            "_________________________________________________________________\n",
            " Layer (type)                Output Shape              Param #   \n",
            "=================================================================\n",
            " conv2d_15 (Conv2D)          (None, 26, 26, 64)        1792      \n",
            "                                                                 \n",
            " max_pooling2d_15 (MaxPoolin  (None, 13, 13, 64)       0         \n",
            " g2D)                                                            \n",
            "                                                                 \n",
            " conv2d_16 (Conv2D)          (None, 11, 11, 128)       73856     \n",
            "                                                                 \n",
            " max_pooling2d_16 (MaxPoolin  (None, 5, 5, 128)        0         \n",
            " g2D)                                                            \n",
            "                                                                 \n",
            " conv2d_17 (Conv2D)          (None, 3, 3, 128)         147584    \n",
            "                                                                 \n",
            " max_pooling2d_17 (MaxPoolin  (None, 1, 1, 128)        0         \n",
            " g2D)                                                            \n",
            "                                                                 \n",
            " dropout_17 (Dropout)        (None, 1, 1, 128)         0         \n",
            "                                                                 \n",
            " flatten_5 (Flatten)         (None, 128)               0         \n",
            "                                                                 \n",
            " dense_10 (Dense)            (None, 64)                8256      \n",
            "                                                                 \n",
            " dropout_18 (Dropout)        (None, 64)                0         \n",
            "                                                                 \n",
            " dense_11 (Dense)            (None, 10)                650       \n",
            "                                                                 \n",
            "=================================================================\n",
            "Total params: 232,138\n",
            "Trainable params: 232,138\n",
            "Non-trainable params: 0\n",
            "_________________________________________________________________\n"
          ]
        }
      ]
    },
    {
      "cell_type": "code",
      "source": [
        "model.compile(keras.optimizers.Adam(learning_rate=0.001),\n",
        "              loss = tf.keras.losses.SparseCategoricalCrossentropy(),\n",
        "              # loss = 'sparse_categorical_crossentropy',\n",
        "              metrics=['accuracy'])\n"
      ],
      "metadata": {
        "id": "6d43j7VSKi3w"
      },
      "execution_count": 54,
      "outputs": []
    },
    {
      "cell_type": "code",
      "source": [
        "history = model.fit(X_train, y_train, epochs=300, validation_data=(X_val, y_val), verbose=1)"
      ],
      "metadata": {
        "id": "ozgUZqSq_WBp",
        "colab": {
          "base_uri": "https://localhost:8080/"
        },
        "outputId": "eb3db471-8543-43c0-d56d-56c20281c59b"
      },
      "execution_count": 55,
      "outputs": [
        {
          "output_type": "stream",
          "name": "stdout",
          "text": [
            "Epoch 1/300\n",
            "13/13 [==============================] - 3s 135ms/step - loss: 2.3182 - accuracy: 0.1014 - val_loss: 46.9987 - val_accuracy: 0.0905\n",
            "Epoch 2/300\n",
            "13/13 [==============================] - 1s 101ms/step - loss: 2.2910 - accuracy: 0.1401 - val_loss: 26.4128 - val_accuracy: 0.1991\n",
            "Epoch 3/300\n",
            "13/13 [==============================] - 2s 119ms/step - loss: 2.2666 - accuracy: 0.1691 - val_loss: 28.2144 - val_accuracy: 0.2986\n",
            "Epoch 4/300\n",
            "13/13 [==============================] - 1s 106ms/step - loss: 2.1997 - accuracy: 0.2126 - val_loss: 47.0938 - val_accuracy: 0.3937\n",
            "Epoch 5/300\n",
            "13/13 [==============================] - 2s 118ms/step - loss: 2.1298 - accuracy: 0.2295 - val_loss: 60.6762 - val_accuracy: 0.3756\n",
            "Epoch 6/300\n",
            "13/13 [==============================] - 2s 182ms/step - loss: 1.9966 - accuracy: 0.3019 - val_loss: 108.9800 - val_accuracy: 0.3529\n",
            "Epoch 7/300\n",
            "13/13 [==============================] - 2s 186ms/step - loss: 1.9904 - accuracy: 0.3188 - val_loss: 138.6169 - val_accuracy: 0.2986\n",
            "Epoch 8/300\n",
            "13/13 [==============================] - 1s 111ms/step - loss: 1.8894 - accuracy: 0.3454 - val_loss: 97.9912 - val_accuracy: 0.4842\n",
            "Epoch 9/300\n",
            "13/13 [==============================] - 1s 108ms/step - loss: 1.7772 - accuracy: 0.3792 - val_loss: 88.8222 - val_accuracy: 0.4932\n",
            "Epoch 10/300\n",
            "13/13 [==============================] - 1s 116ms/step - loss: 1.7530 - accuracy: 0.4106 - val_loss: 135.8398 - val_accuracy: 0.4887\n",
            "Epoch 11/300\n",
            "13/13 [==============================] - 2s 120ms/step - loss: 1.6561 - accuracy: 0.4758 - val_loss: 124.4177 - val_accuracy: 0.5023\n",
            "Epoch 12/300\n",
            "13/13 [==============================] - 1s 108ms/step - loss: 1.6309 - accuracy: 0.4251 - val_loss: 118.9369 - val_accuracy: 0.4887\n",
            "Epoch 13/300\n",
            "13/13 [==============================] - 1s 108ms/step - loss: 1.5435 - accuracy: 0.4638 - val_loss: 115.5386 - val_accuracy: 0.5566\n",
            "Epoch 14/300\n",
            "13/13 [==============================] - 2s 119ms/step - loss: 1.3924 - accuracy: 0.5048 - val_loss: 124.0576 - val_accuracy: 0.5294\n",
            "Epoch 15/300\n",
            "13/13 [==============================] - 2s 185ms/step - loss: 1.3937 - accuracy: 0.5338 - val_loss: 119.9819 - val_accuracy: 0.5611\n",
            "Epoch 16/300\n",
            "13/13 [==============================] - 2s 188ms/step - loss: 1.3761 - accuracy: 0.5411 - val_loss: 100.9170 - val_accuracy: 0.6018\n",
            "Epoch 17/300\n",
            "13/13 [==============================] - 1s 109ms/step - loss: 1.3007 - accuracy: 0.5266 - val_loss: 116.9988 - val_accuracy: 0.6018\n",
            "Epoch 18/300\n",
            "13/13 [==============================] - 2s 118ms/step - loss: 1.2931 - accuracy: 0.5797 - val_loss: 115.3582 - val_accuracy: 0.6063\n",
            "Epoch 19/300\n",
            "13/13 [==============================] - 1s 103ms/step - loss: 1.2367 - accuracy: 0.5556 - val_loss: 124.7729 - val_accuracy: 0.5928\n",
            "Epoch 20/300\n",
            "13/13 [==============================] - 2s 118ms/step - loss: 1.1870 - accuracy: 0.6159 - val_loss: 128.5855 - val_accuracy: 0.6018\n",
            "Epoch 21/300\n",
            "13/13 [==============================] - 1s 106ms/step - loss: 1.1881 - accuracy: 0.5942 - val_loss: 125.9252 - val_accuracy: 0.5928\n",
            "Epoch 22/300\n",
            "13/13 [==============================] - 1s 105ms/step - loss: 1.2008 - accuracy: 0.6184 - val_loss: 115.5241 - val_accuracy: 0.5928\n",
            "Epoch 23/300\n",
            "13/13 [==============================] - 1s 107ms/step - loss: 1.1684 - accuracy: 0.6208 - val_loss: 146.7890 - val_accuracy: 0.5430\n",
            "Epoch 24/300\n",
            "13/13 [==============================] - 2s 165ms/step - loss: 1.1475 - accuracy: 0.6425 - val_loss: 86.7372 - val_accuracy: 0.6652\n",
            "Epoch 25/300\n",
            "13/13 [==============================] - 2s 185ms/step - loss: 1.0906 - accuracy: 0.6522 - val_loss: 135.1127 - val_accuracy: 0.6018\n",
            "Epoch 26/300\n",
            "13/13 [==============================] - 2s 126ms/step - loss: 1.0614 - accuracy: 0.6570 - val_loss: 141.6164 - val_accuracy: 0.5837\n",
            "Epoch 27/300\n",
            "13/13 [==============================] - 1s 103ms/step - loss: 1.0407 - accuracy: 0.6498 - val_loss: 164.4303 - val_accuracy: 0.5520\n",
            "Epoch 28/300\n",
            "13/13 [==============================] - 1s 105ms/step - loss: 1.0497 - accuracy: 0.6329 - val_loss: 112.1295 - val_accuracy: 0.6697\n",
            "Epoch 29/300\n",
            "13/13 [==============================] - 1s 103ms/step - loss: 0.9460 - accuracy: 0.6715 - val_loss: 101.8747 - val_accuracy: 0.6697\n",
            "Epoch 30/300\n",
            "13/13 [==============================] - 1s 104ms/step - loss: 0.9410 - accuracy: 0.7005 - val_loss: 95.2323 - val_accuracy: 0.6968\n",
            "Epoch 31/300\n",
            "13/13 [==============================] - 1s 104ms/step - loss: 0.9055 - accuracy: 0.6957 - val_loss: 113.6965 - val_accuracy: 0.6787\n",
            "Epoch 32/300\n",
            "13/13 [==============================] - 1s 106ms/step - loss: 0.8827 - accuracy: 0.6691 - val_loss: 110.5773 - val_accuracy: 0.6652\n",
            "Epoch 33/300\n",
            "13/13 [==============================] - 2s 127ms/step - loss: 0.8708 - accuracy: 0.6957 - val_loss: 102.0976 - val_accuracy: 0.6742\n",
            "Epoch 34/300\n",
            "13/13 [==============================] - 2s 192ms/step - loss: 0.8693 - accuracy: 0.7053 - val_loss: 86.7598 - val_accuracy: 0.7285\n",
            "Epoch 35/300\n",
            "13/13 [==============================] - 2s 165ms/step - loss: 0.8250 - accuracy: 0.7367 - val_loss: 99.2304 - val_accuracy: 0.6833\n",
            "Epoch 36/300\n",
            "13/13 [==============================] - 1s 103ms/step - loss: 0.8109 - accuracy: 0.7343 - val_loss: 97.5380 - val_accuracy: 0.7149\n",
            "Epoch 37/300\n",
            "13/13 [==============================] - 1s 103ms/step - loss: 0.8291 - accuracy: 0.7536 - val_loss: 127.4810 - val_accuracy: 0.6697\n",
            "Epoch 38/300\n",
            "13/13 [==============================] - 1s 103ms/step - loss: 0.8402 - accuracy: 0.7391 - val_loss: 119.9582 - val_accuracy: 0.6697\n",
            "Epoch 39/300\n",
            "13/13 [==============================] - 1s 104ms/step - loss: 0.8207 - accuracy: 0.7077 - val_loss: 100.6161 - val_accuracy: 0.6923\n",
            "Epoch 40/300\n",
            "13/13 [==============================] - 1s 106ms/step - loss: 0.7283 - accuracy: 0.7560 - val_loss: 81.7188 - val_accuracy: 0.7421\n",
            "Epoch 41/300\n",
            "13/13 [==============================] - 1s 107ms/step - loss: 0.7294 - accuracy: 0.7681 - val_loss: 119.5293 - val_accuracy: 0.6742\n",
            "Epoch 42/300\n",
            "13/13 [==============================] - 1s 106ms/step - loss: 0.7397 - accuracy: 0.7343 - val_loss: 113.7203 - val_accuracy: 0.6833\n",
            "Epoch 43/300\n",
            "13/13 [==============================] - 2s 173ms/step - loss: 0.7024 - accuracy: 0.7754 - val_loss: 130.1977 - val_accuracy: 0.6425\n",
            "Epoch 44/300\n",
            "13/13 [==============================] - 2s 182ms/step - loss: 0.6766 - accuracy: 0.7899 - val_loss: 99.8740 - val_accuracy: 0.7014\n",
            "Epoch 45/300\n",
            "13/13 [==============================] - 2s 126ms/step - loss: 0.6300 - accuracy: 0.7923 - val_loss: 96.4717 - val_accuracy: 0.7149\n",
            "Epoch 46/300\n",
            "13/13 [==============================] - 1s 105ms/step - loss: 0.6538 - accuracy: 0.7947 - val_loss: 118.8049 - val_accuracy: 0.6742\n",
            "Epoch 47/300\n",
            "13/13 [==============================] - 1s 108ms/step - loss: 0.6078 - accuracy: 0.8164 - val_loss: 138.3140 - val_accuracy: 0.6697\n",
            "Epoch 48/300\n",
            "13/13 [==============================] - 1s 108ms/step - loss: 0.6060 - accuracy: 0.7850 - val_loss: 84.8496 - val_accuracy: 0.7376\n",
            "Epoch 49/300\n",
            "13/13 [==============================] - 2s 120ms/step - loss: 0.6619 - accuracy: 0.7609 - val_loss: 94.1684 - val_accuracy: 0.7421\n",
            "Epoch 50/300\n",
            "13/13 [==============================] - 2s 119ms/step - loss: 0.7040 - accuracy: 0.7585 - val_loss: 126.5001 - val_accuracy: 0.6697\n",
            "Epoch 51/300\n",
            "13/13 [==============================] - 1s 106ms/step - loss: 0.6648 - accuracy: 0.7585 - val_loss: 112.9603 - val_accuracy: 0.6833\n",
            "Epoch 52/300\n",
            "13/13 [==============================] - 2s 168ms/step - loss: 0.5272 - accuracy: 0.8430 - val_loss: 103.5837 - val_accuracy: 0.7557\n",
            "Epoch 53/300\n",
            "13/13 [==============================] - 2s 189ms/step - loss: 0.5972 - accuracy: 0.7995 - val_loss: 150.8919 - val_accuracy: 0.6697\n",
            "Epoch 54/300\n",
            "13/13 [==============================] - 2s 129ms/step - loss: 0.5769 - accuracy: 0.7995 - val_loss: 146.3639 - val_accuracy: 0.6652\n",
            "Epoch 55/300\n",
            "13/13 [==============================] - 1s 105ms/step - loss: 0.5565 - accuracy: 0.8333 - val_loss: 111.5324 - val_accuracy: 0.6968\n",
            "Epoch 56/300\n",
            "13/13 [==============================] - 1s 108ms/step - loss: 0.5123 - accuracy: 0.8406 - val_loss: 122.7555 - val_accuracy: 0.7466\n",
            "Epoch 57/300\n",
            "13/13 [==============================] - 1s 104ms/step - loss: 0.5473 - accuracy: 0.8164 - val_loss: 104.6882 - val_accuracy: 0.7557\n",
            "Epoch 58/300\n",
            "13/13 [==============================] - 1s 105ms/step - loss: 0.5241 - accuracy: 0.8140 - val_loss: 117.7457 - val_accuracy: 0.7511\n",
            "Epoch 59/300\n",
            "13/13 [==============================] - 1s 104ms/step - loss: 0.5012 - accuracy: 0.8551 - val_loss: 138.9633 - val_accuracy: 0.6833\n",
            "Epoch 60/300\n",
            "13/13 [==============================] - 1s 105ms/step - loss: 0.5054 - accuracy: 0.8406 - val_loss: 205.5396 - val_accuracy: 0.6154\n",
            "Epoch 61/300\n",
            "13/13 [==============================] - 2s 129ms/step - loss: 0.4918 - accuracy: 0.8382 - val_loss: 124.7718 - val_accuracy: 0.7421\n",
            "Epoch 62/300\n",
            "13/13 [==============================] - 2s 186ms/step - loss: 0.4855 - accuracy: 0.8237 - val_loss: 117.6553 - val_accuracy: 0.7014\n",
            "Epoch 63/300\n",
            "13/13 [==============================] - 2s 169ms/step - loss: 0.4590 - accuracy: 0.8551 - val_loss: 178.3941 - val_accuracy: 0.6833\n",
            "Epoch 64/300\n",
            "13/13 [==============================] - 1s 105ms/step - loss: 0.4349 - accuracy: 0.8527 - val_loss: 172.8902 - val_accuracy: 0.6652\n",
            "Epoch 65/300\n",
            "13/13 [==============================] - 1s 106ms/step - loss: 0.4978 - accuracy: 0.8382 - val_loss: 184.4926 - val_accuracy: 0.6652\n",
            "Epoch 66/300\n",
            "13/13 [==============================] - 1s 104ms/step - loss: 0.4156 - accuracy: 0.8527 - val_loss: 141.0495 - val_accuracy: 0.7059\n",
            "Epoch 67/300\n",
            "13/13 [==============================] - 1s 106ms/step - loss: 0.4461 - accuracy: 0.8647 - val_loss: 131.5658 - val_accuracy: 0.7330\n",
            "Epoch 68/300\n",
            "13/13 [==============================] - 2s 121ms/step - loss: 0.4591 - accuracy: 0.8406 - val_loss: 115.4207 - val_accuracy: 0.7602\n",
            "Epoch 69/300\n",
            "13/13 [==============================] - 2s 118ms/step - loss: 0.4249 - accuracy: 0.8671 - val_loss: 170.6949 - val_accuracy: 0.6787\n",
            "Epoch 70/300\n",
            "13/13 [==============================] - 2s 120ms/step - loss: 0.4398 - accuracy: 0.8744 - val_loss: 122.4243 - val_accuracy: 0.7738\n",
            "Epoch 71/300\n",
            "13/13 [==============================] - 2s 188ms/step - loss: 0.3993 - accuracy: 0.8792 - val_loss: 153.9180 - val_accuracy: 0.7104\n",
            "Epoch 72/300\n",
            "13/13 [==============================] - 2s 177ms/step - loss: 0.4007 - accuracy: 0.8696 - val_loss: 146.9976 - val_accuracy: 0.6923\n",
            "Epoch 73/300\n",
            "13/13 [==============================] - 1s 107ms/step - loss: 0.3844 - accuracy: 0.8647 - val_loss: 139.9080 - val_accuracy: 0.7376\n",
            "Epoch 74/300\n",
            "13/13 [==============================] - 1s 105ms/step - loss: 0.4389 - accuracy: 0.8599 - val_loss: 125.4384 - val_accuracy: 0.7195\n",
            "Epoch 75/300\n",
            "13/13 [==============================] - 1s 107ms/step - loss: 0.4860 - accuracy: 0.8309 - val_loss: 176.5429 - val_accuracy: 0.7195\n",
            "Epoch 76/300\n",
            "13/13 [==============================] - 1s 107ms/step - loss: 0.4240 - accuracy: 0.8575 - val_loss: 143.8051 - val_accuracy: 0.7195\n",
            "Epoch 77/300\n",
            "13/13 [==============================] - 1s 107ms/step - loss: 0.4103 - accuracy: 0.8792 - val_loss: 134.3597 - val_accuracy: 0.7557\n",
            "Epoch 78/300\n",
            "13/13 [==============================] - 1s 107ms/step - loss: 0.3968 - accuracy: 0.8599 - val_loss: 169.4519 - val_accuracy: 0.7240\n",
            "Epoch 79/300\n",
            "13/13 [==============================] - 2s 120ms/step - loss: 0.3662 - accuracy: 0.8913 - val_loss: 139.7418 - val_accuracy: 0.7557\n",
            "Epoch 80/300\n",
            "13/13 [==============================] - 2s 186ms/step - loss: 0.3609 - accuracy: 0.8889 - val_loss: 149.5912 - val_accuracy: 0.7602\n",
            "Epoch 81/300\n",
            "13/13 [==============================] - 2s 187ms/step - loss: 0.3485 - accuracy: 0.8913 - val_loss: 160.0250 - val_accuracy: 0.7104\n",
            "Epoch 82/300\n",
            "13/13 [==============================] - 2s 130ms/step - loss: 0.2873 - accuracy: 0.8961 - val_loss: 206.2310 - val_accuracy: 0.7240\n",
            "Epoch 83/300\n",
            "13/13 [==============================] - 1s 110ms/step - loss: 0.3597 - accuracy: 0.8768 - val_loss: 119.7106 - val_accuracy: 0.7873\n",
            "Epoch 84/300\n",
            "13/13 [==============================] - 1s 103ms/step - loss: 0.3776 - accuracy: 0.8792 - val_loss: 186.0179 - val_accuracy: 0.6335\n",
            "Epoch 85/300\n",
            "13/13 [==============================] - 1s 107ms/step - loss: 0.3807 - accuracy: 0.8841 - val_loss: 137.6186 - val_accuracy: 0.7285\n",
            "Epoch 86/300\n",
            "13/13 [==============================] - 1s 109ms/step - loss: 0.3831 - accuracy: 0.8696 - val_loss: 167.6833 - val_accuracy: 0.6923\n",
            "Epoch 87/300\n",
            "13/13 [==============================] - 1s 113ms/step - loss: 0.3562 - accuracy: 0.8696 - val_loss: 188.7874 - val_accuracy: 0.6878\n",
            "Epoch 88/300\n",
            "13/13 [==============================] - 1s 107ms/step - loss: 0.3643 - accuracy: 0.8816 - val_loss: 151.1557 - val_accuracy: 0.7511\n",
            "Epoch 89/300\n",
            "13/13 [==============================] - 2s 169ms/step - loss: 0.3749 - accuracy: 0.8937 - val_loss: 149.7516 - val_accuracy: 0.7240\n",
            "Epoch 90/300\n",
            "13/13 [==============================] - 2s 191ms/step - loss: 0.3466 - accuracy: 0.8816 - val_loss: 128.9196 - val_accuracy: 0.7964\n",
            "Epoch 91/300\n",
            "13/13 [==============================] - 2s 134ms/step - loss: 0.2960 - accuracy: 0.9130 - val_loss: 230.1950 - val_accuracy: 0.6652\n",
            "Epoch 92/300\n",
            "13/13 [==============================] - 2s 119ms/step - loss: 0.3161 - accuracy: 0.8986 - val_loss: 144.6368 - val_accuracy: 0.7692\n",
            "Epoch 93/300\n",
            "13/13 [==============================] - 1s 107ms/step - loss: 0.3095 - accuracy: 0.8816 - val_loss: 165.6812 - val_accuracy: 0.7104\n",
            "Epoch 94/300\n",
            "13/13 [==============================] - 1s 105ms/step - loss: 0.2967 - accuracy: 0.9203 - val_loss: 151.6107 - val_accuracy: 0.7330\n",
            "Epoch 95/300\n",
            "13/13 [==============================] - 2s 118ms/step - loss: 0.3221 - accuracy: 0.9058 - val_loss: 214.3675 - val_accuracy: 0.6516\n",
            "Epoch 96/300\n",
            "13/13 [==============================] - 1s 104ms/step - loss: 0.3448 - accuracy: 0.8720 - val_loss: 196.0839 - val_accuracy: 0.6787\n",
            "Epoch 97/300\n",
            "13/13 [==============================] - 1s 104ms/step - loss: 0.3497 - accuracy: 0.8841 - val_loss: 199.4159 - val_accuracy: 0.6833\n",
            "Epoch 98/300\n",
            "13/13 [==============================] - 2s 152ms/step - loss: 0.3295 - accuracy: 0.8889 - val_loss: 244.1996 - val_accuracy: 0.6154\n",
            "Epoch 99/300\n",
            "13/13 [==============================] - 2s 184ms/step - loss: 0.2549 - accuracy: 0.9155 - val_loss: 199.7555 - val_accuracy: 0.6471\n",
            "Epoch 100/300\n",
            "13/13 [==============================] - 2s 147ms/step - loss: 0.2688 - accuracy: 0.9227 - val_loss: 156.0361 - val_accuracy: 0.7738\n",
            "Epoch 101/300\n",
            "13/13 [==============================] - 1s 104ms/step - loss: 0.2667 - accuracy: 0.9300 - val_loss: 173.8209 - val_accuracy: 0.7240\n",
            "Epoch 102/300\n",
            "13/13 [==============================] - 1s 105ms/step - loss: 0.2755 - accuracy: 0.9082 - val_loss: 263.9504 - val_accuracy: 0.6606\n",
            "Epoch 103/300\n",
            "13/13 [==============================] - 1s 104ms/step - loss: 0.2810 - accuracy: 0.8961 - val_loss: 177.9765 - val_accuracy: 0.7602\n",
            "Epoch 104/300\n",
            "13/13 [==============================] - 1s 105ms/step - loss: 0.2659 - accuracy: 0.9106 - val_loss: 189.1266 - val_accuracy: 0.7285\n",
            "Epoch 105/300\n",
            "13/13 [==============================] - 2s 118ms/step - loss: 0.2570 - accuracy: 0.9251 - val_loss: 217.1432 - val_accuracy: 0.6787\n",
            "Epoch 106/300\n",
            "13/13 [==============================] - 1s 104ms/step - loss: 0.2783 - accuracy: 0.8865 - val_loss: 223.9400 - val_accuracy: 0.7104\n",
            "Epoch 107/300\n",
            "13/13 [==============================] - 1s 115ms/step - loss: 0.2724 - accuracy: 0.9155 - val_loss: 235.4671 - val_accuracy: 0.6968\n",
            "Epoch 108/300\n",
            "13/13 [==============================] - 2s 188ms/step - loss: 0.2810 - accuracy: 0.9010 - val_loss: 197.0812 - val_accuracy: 0.7104\n",
            "Epoch 109/300\n",
            "13/13 [==============================] - 2s 174ms/step - loss: 0.2916 - accuracy: 0.9082 - val_loss: 209.4450 - val_accuracy: 0.6425\n",
            "Epoch 110/300\n",
            "13/13 [==============================] - 1s 105ms/step - loss: 0.3047 - accuracy: 0.9058 - val_loss: 220.8159 - val_accuracy: 0.6787\n",
            "Epoch 111/300\n",
            "13/13 [==============================] - 1s 105ms/step - loss: 0.2742 - accuracy: 0.8961 - val_loss: 171.9981 - val_accuracy: 0.7602\n",
            "Epoch 112/300\n",
            "13/13 [==============================] - 1s 106ms/step - loss: 0.2043 - accuracy: 0.9251 - val_loss: 216.4767 - val_accuracy: 0.6697\n",
            "Epoch 113/300\n",
            "13/13 [==============================] - 1s 105ms/step - loss: 0.2312 - accuracy: 0.9275 - val_loss: 207.9131 - val_accuracy: 0.7240\n",
            "Epoch 114/300\n",
            "13/13 [==============================] - 1s 104ms/step - loss: 0.2360 - accuracy: 0.9227 - val_loss: 282.7550 - val_accuracy: 0.6923\n",
            "Epoch 115/300\n",
            "13/13 [==============================] - 1s 107ms/step - loss: 0.2407 - accuracy: 0.9324 - val_loss: 265.5787 - val_accuracy: 0.6968\n",
            "Epoch 116/300\n",
            "13/13 [==============================] - 1s 104ms/step - loss: 0.2593 - accuracy: 0.9372 - val_loss: 176.8613 - val_accuracy: 0.7240\n",
            "Epoch 117/300\n",
            "13/13 [==============================] - 2s 167ms/step - loss: 0.2528 - accuracy: 0.9179 - val_loss: 251.1104 - val_accuracy: 0.7285\n",
            "Epoch 118/300\n",
            "13/13 [==============================] - 2s 186ms/step - loss: 0.2530 - accuracy: 0.9348 - val_loss: 219.7899 - val_accuracy: 0.7376\n",
            "Epoch 119/300\n",
            "13/13 [==============================] - 2s 126ms/step - loss: 0.2517 - accuracy: 0.9251 - val_loss: 276.7750 - val_accuracy: 0.7059\n",
            "Epoch 120/300\n",
            "13/13 [==============================] - 1s 103ms/step - loss: 0.2206 - accuracy: 0.9275 - val_loss: 235.3948 - val_accuracy: 0.6833\n",
            "Epoch 121/300\n",
            "13/13 [==============================] - 1s 105ms/step - loss: 0.2698 - accuracy: 0.9106 - val_loss: 225.0524 - val_accuracy: 0.7195\n",
            "Epoch 122/300\n",
            "13/13 [==============================] - 1s 106ms/step - loss: 0.2303 - accuracy: 0.9324 - val_loss: 213.3458 - val_accuracy: 0.7195\n",
            "Epoch 123/300\n",
            "13/13 [==============================] - 1s 107ms/step - loss: 0.1899 - accuracy: 0.9324 - val_loss: 183.5885 - val_accuracy: 0.7557\n",
            "Epoch 124/300\n",
            "13/13 [==============================] - 1s 106ms/step - loss: 0.2217 - accuracy: 0.9275 - val_loss: 281.2476 - val_accuracy: 0.6606\n",
            "Epoch 125/300\n",
            "13/13 [==============================] - 1s 107ms/step - loss: 0.2003 - accuracy: 0.9396 - val_loss: 262.4623 - val_accuracy: 0.7330\n",
            "Epoch 126/300\n",
            "13/13 [==============================] - 2s 130ms/step - loss: 0.1855 - accuracy: 0.9444 - val_loss: 210.3432 - val_accuracy: 0.7602\n",
            "Epoch 127/300\n",
            "13/13 [==============================] - 2s 187ms/step - loss: 0.1800 - accuracy: 0.9372 - val_loss: 376.1315 - val_accuracy: 0.6878\n",
            "Epoch 128/300\n",
            "13/13 [==============================] - 2s 166ms/step - loss: 0.1645 - accuracy: 0.9493 - val_loss: 224.8937 - val_accuracy: 0.7421\n",
            "Epoch 129/300\n",
            "13/13 [==============================] - 1s 103ms/step - loss: 0.2618 - accuracy: 0.9130 - val_loss: 233.7612 - val_accuracy: 0.7059\n",
            "Epoch 130/300\n",
            "13/13 [==============================] - 2s 119ms/step - loss: 0.2555 - accuracy: 0.9251 - val_loss: 224.7648 - val_accuracy: 0.7059\n",
            "Epoch 131/300\n",
            "13/13 [==============================] - 1s 104ms/step - loss: 0.2151 - accuracy: 0.9275 - val_loss: 401.9836 - val_accuracy: 0.6742\n",
            "Epoch 132/300\n",
            "13/13 [==============================] - 1s 105ms/step - loss: 0.2116 - accuracy: 0.9348 - val_loss: 201.9827 - val_accuracy: 0.7602\n",
            "Epoch 133/300\n",
            "13/13 [==============================] - 1s 106ms/step - loss: 0.2365 - accuracy: 0.9203 - val_loss: 381.5166 - val_accuracy: 0.6606\n",
            "Epoch 134/300\n",
            "13/13 [==============================] - 1s 106ms/step - loss: 0.2106 - accuracy: 0.9251 - val_loss: 234.7345 - val_accuracy: 0.7421\n",
            "Epoch 135/300\n",
            "13/13 [==============================] - 1s 107ms/step - loss: 0.1706 - accuracy: 0.9396 - val_loss: 259.8172 - val_accuracy: 0.7104\n",
            "Epoch 136/300\n",
            "13/13 [==============================] - 2s 184ms/step - loss: 0.2181 - accuracy: 0.9275 - val_loss: 328.1783 - val_accuracy: 0.6697\n",
            "Epoch 137/300\n",
            "13/13 [==============================] - 2s 182ms/step - loss: 0.2387 - accuracy: 0.9227 - val_loss: 136.9445 - val_accuracy: 0.8190\n",
            "Epoch 138/300\n",
            "13/13 [==============================] - 1s 111ms/step - loss: 0.2341 - accuracy: 0.9372 - val_loss: 304.9705 - val_accuracy: 0.6742\n",
            "Epoch 139/300\n",
            "13/13 [==============================] - 1s 106ms/step - loss: 0.2189 - accuracy: 0.9179 - val_loss: 201.9189 - val_accuracy: 0.7104\n",
            "Epoch 140/300\n",
            "13/13 [==============================] - 1s 102ms/step - loss: 0.2227 - accuracy: 0.9251 - val_loss: 261.0877 - val_accuracy: 0.7195\n",
            "Epoch 141/300\n",
            "13/13 [==============================] - 1s 105ms/step - loss: 0.1841 - accuracy: 0.9324 - val_loss: 209.5418 - val_accuracy: 0.7240\n",
            "Epoch 142/300\n",
            "13/13 [==============================] - 1s 109ms/step - loss: 0.1879 - accuracy: 0.9348 - val_loss: 222.4130 - val_accuracy: 0.7466\n",
            "Epoch 143/300\n",
            "13/13 [==============================] - 1s 104ms/step - loss: 0.2074 - accuracy: 0.9203 - val_loss: 241.1906 - val_accuracy: 0.7285\n",
            "Epoch 144/300\n",
            "13/13 [==============================] - 1s 105ms/step - loss: 0.2139 - accuracy: 0.9420 - val_loss: 150.5853 - val_accuracy: 0.7964\n",
            "Epoch 145/300\n",
            "13/13 [==============================] - 2s 146ms/step - loss: 0.3041 - accuracy: 0.9082 - val_loss: 361.1931 - val_accuracy: 0.6742\n",
            "Epoch 146/300\n",
            "13/13 [==============================] - 2s 189ms/step - loss: 0.3078 - accuracy: 0.9010 - val_loss: 169.7838 - val_accuracy: 0.7330\n",
            "Epoch 147/300\n",
            "13/13 [==============================] - 2s 143ms/step - loss: 0.2349 - accuracy: 0.9275 - val_loss: 168.3152 - val_accuracy: 0.7873\n",
            "Epoch 148/300\n",
            "13/13 [==============================] - 2s 119ms/step - loss: 0.1918 - accuracy: 0.9372 - val_loss: 175.6136 - val_accuracy: 0.7828\n",
            "Epoch 149/300\n",
            "13/13 [==============================] - 2s 119ms/step - loss: 0.1639 - accuracy: 0.9469 - val_loss: 256.2942 - val_accuracy: 0.6968\n",
            "Epoch 150/300\n",
            "13/13 [==============================] - 1s 103ms/step - loss: 0.1733 - accuracy: 0.9493 - val_loss: 187.0336 - val_accuracy: 0.7919\n",
            "Epoch 151/300\n",
            "13/13 [==============================] - 1s 105ms/step - loss: 0.1573 - accuracy: 0.9493 - val_loss: 252.6857 - val_accuracy: 0.7511\n",
            "Epoch 152/300\n",
            "13/13 [==============================] - 1s 107ms/step - loss: 0.1659 - accuracy: 0.9469 - val_loss: 256.9575 - val_accuracy: 0.7149\n",
            "Epoch 153/300\n",
            "13/13 [==============================] - 1s 106ms/step - loss: 0.1638 - accuracy: 0.9469 - val_loss: 223.6879 - val_accuracy: 0.7104\n",
            "Epoch 154/300\n",
            "13/13 [==============================] - 2s 132ms/step - loss: 0.1873 - accuracy: 0.9372 - val_loss: 187.7757 - val_accuracy: 0.7421\n",
            "Epoch 155/300\n",
            "13/13 [==============================] - 2s 192ms/step - loss: 0.1539 - accuracy: 0.9541 - val_loss: 232.6177 - val_accuracy: 0.7285\n",
            "Epoch 156/300\n",
            "13/13 [==============================] - 2s 158ms/step - loss: 0.1870 - accuracy: 0.9348 - val_loss: 165.1169 - val_accuracy: 0.7964\n",
            "Epoch 157/300\n",
            "13/13 [==============================] - 1s 107ms/step - loss: 0.1248 - accuracy: 0.9662 - val_loss: 262.4529 - val_accuracy: 0.7195\n",
            "Epoch 158/300\n",
            "13/13 [==============================] - 1s 104ms/step - loss: 0.1495 - accuracy: 0.9565 - val_loss: 209.9486 - val_accuracy: 0.7738\n",
            "Epoch 159/300\n",
            "13/13 [==============================] - 1s 107ms/step - loss: 0.1226 - accuracy: 0.9614 - val_loss: 343.2102 - val_accuracy: 0.6878\n",
            "Epoch 160/300\n",
            "13/13 [==============================] - 1s 105ms/step - loss: 0.1656 - accuracy: 0.9444 - val_loss: 288.8100 - val_accuracy: 0.7240\n",
            "Epoch 161/300\n",
            "13/13 [==============================] - 1s 109ms/step - loss: 0.1920 - accuracy: 0.9565 - val_loss: 251.6220 - val_accuracy: 0.7240\n",
            "Epoch 162/300\n",
            "13/13 [==============================] - 1s 105ms/step - loss: 0.1782 - accuracy: 0.9493 - val_loss: 303.9362 - val_accuracy: 0.6923\n",
            "Epoch 163/300\n",
            "13/13 [==============================] - 1s 107ms/step - loss: 0.1927 - accuracy: 0.9372 - val_loss: 384.6168 - val_accuracy: 0.6652\n",
            "Epoch 164/300\n",
            "13/13 [==============================] - 2s 188ms/step - loss: 0.1557 - accuracy: 0.9589 - val_loss: 393.0441 - val_accuracy: 0.6878\n",
            "Epoch 165/300\n",
            "13/13 [==============================] - 2s 185ms/step - loss: 0.1153 - accuracy: 0.9686 - val_loss: 339.8944 - val_accuracy: 0.7149\n",
            "Epoch 166/300\n",
            "13/13 [==============================] - 1s 110ms/step - loss: 0.1353 - accuracy: 0.9565 - val_loss: 281.7126 - val_accuracy: 0.7421\n",
            "Epoch 167/300\n",
            "13/13 [==============================] - 1s 107ms/step - loss: 0.1566 - accuracy: 0.9493 - val_loss: 373.8733 - val_accuracy: 0.6833\n",
            "Epoch 168/300\n",
            "13/13 [==============================] - 1s 107ms/step - loss: 0.1853 - accuracy: 0.9444 - val_loss: 308.8806 - val_accuracy: 0.7149\n",
            "Epoch 169/300\n",
            "13/13 [==============================] - 1s 107ms/step - loss: 0.1070 - accuracy: 0.9710 - val_loss: 314.9612 - val_accuracy: 0.7149\n",
            "Epoch 170/300\n",
            "13/13 [==============================] - 2s 120ms/step - loss: 0.1397 - accuracy: 0.9469 - val_loss: 224.1891 - val_accuracy: 0.7285\n",
            "Epoch 171/300\n",
            "13/13 [==============================] - 1s 106ms/step - loss: 0.1303 - accuracy: 0.9469 - val_loss: 328.7585 - val_accuracy: 0.6968\n",
            "Epoch 172/300\n",
            "13/13 [==============================] - 1s 108ms/step - loss: 0.1651 - accuracy: 0.9517 - val_loss: 212.6955 - val_accuracy: 0.7602\n",
            "Epoch 173/300\n",
            "13/13 [==============================] - 2s 173ms/step - loss: 0.1319 - accuracy: 0.9565 - val_loss: 288.3228 - val_accuracy: 0.6923\n",
            "Epoch 174/300\n",
            "13/13 [==============================] - 2s 192ms/step - loss: 0.1384 - accuracy: 0.9589 - val_loss: 240.9358 - val_accuracy: 0.7873\n",
            "Epoch 175/300\n",
            "13/13 [==============================] - 2s 128ms/step - loss: 0.1353 - accuracy: 0.9614 - val_loss: 418.0139 - val_accuracy: 0.6335\n",
            "Epoch 176/300\n",
            "13/13 [==============================] - 1s 105ms/step - loss: 0.1655 - accuracy: 0.9493 - val_loss: 351.3596 - val_accuracy: 0.6833\n",
            "Epoch 177/300\n",
            "13/13 [==============================] - 2s 122ms/step - loss: 0.1616 - accuracy: 0.9420 - val_loss: 226.5399 - val_accuracy: 0.7466\n",
            "Epoch 178/300\n",
            "13/13 [==============================] - 1s 108ms/step - loss: 0.1189 - accuracy: 0.9565 - val_loss: 316.5344 - val_accuracy: 0.7195\n",
            "Epoch 179/300\n",
            "13/13 [==============================] - 1s 110ms/step - loss: 0.1357 - accuracy: 0.9541 - val_loss: 270.4752 - val_accuracy: 0.7240\n",
            "Epoch 180/300\n",
            "13/13 [==============================] - 1s 111ms/step - loss: 0.1348 - accuracy: 0.9614 - val_loss: 349.7958 - val_accuracy: 0.6697\n",
            "Epoch 181/300\n",
            "13/13 [==============================] - 1s 107ms/step - loss: 0.1317 - accuracy: 0.9614 - val_loss: 252.1588 - val_accuracy: 0.8009\n",
            "Epoch 182/300\n",
            "13/13 [==============================] - 2s 160ms/step - loss: 0.1371 - accuracy: 0.9444 - val_loss: 357.1158 - val_accuracy: 0.6968\n",
            "Epoch 183/300\n",
            "13/13 [==============================] - 2s 180ms/step - loss: 0.1341 - accuracy: 0.9589 - val_loss: 417.2654 - val_accuracy: 0.6878\n",
            "Epoch 184/300\n",
            "13/13 [==============================] - 2s 138ms/step - loss: 0.1566 - accuracy: 0.9469 - val_loss: 300.8936 - val_accuracy: 0.7511\n",
            "Epoch 185/300\n",
            "13/13 [==============================] - 1s 105ms/step - loss: 0.1547 - accuracy: 0.9614 - val_loss: 293.1503 - val_accuracy: 0.7466\n",
            "Epoch 186/300\n",
            "13/13 [==============================] - 1s 106ms/step - loss: 0.1594 - accuracy: 0.9493 - val_loss: 320.6986 - val_accuracy: 0.6923\n",
            "Epoch 187/300\n",
            "13/13 [==============================] - 1s 105ms/step - loss: 0.1482 - accuracy: 0.9565 - val_loss: 425.4814 - val_accuracy: 0.6968\n",
            "Epoch 188/300\n",
            "13/13 [==============================] - 1s 107ms/step - loss: 0.1486 - accuracy: 0.9541 - val_loss: 361.9583 - val_accuracy: 0.6516\n",
            "Epoch 189/300\n",
            "13/13 [==============================] - 1s 110ms/step - loss: 0.1516 - accuracy: 0.9638 - val_loss: 278.9639 - val_accuracy: 0.7330\n",
            "Epoch 190/300\n",
            "13/13 [==============================] - 1s 106ms/step - loss: 0.1340 - accuracy: 0.9541 - val_loss: 339.4084 - val_accuracy: 0.6787\n",
            "Epoch 191/300\n",
            "13/13 [==============================] - 2s 129ms/step - loss: 0.1637 - accuracy: 0.9420 - val_loss: 434.2322 - val_accuracy: 0.6787\n",
            "Epoch 192/300\n",
            "13/13 [==============================] - 2s 188ms/step - loss: 0.0809 - accuracy: 0.9783 - val_loss: 459.1004 - val_accuracy: 0.7014\n",
            "Epoch 193/300\n",
            "13/13 [==============================] - 2s 175ms/step - loss: 0.1164 - accuracy: 0.9517 - val_loss: 369.2077 - val_accuracy: 0.6923\n",
            "Epoch 194/300\n",
            "13/13 [==============================] - 2s 120ms/step - loss: 0.1205 - accuracy: 0.9589 - val_loss: 368.5303 - val_accuracy: 0.6561\n",
            "Epoch 195/300\n",
            "13/13 [==============================] - 1s 107ms/step - loss: 0.1309 - accuracy: 0.9638 - val_loss: 323.3691 - val_accuracy: 0.7059\n",
            "Epoch 196/300\n",
            "13/13 [==============================] - 1s 106ms/step - loss: 0.1266 - accuracy: 0.9589 - val_loss: 379.3290 - val_accuracy: 0.7059\n",
            "Epoch 197/300\n",
            "13/13 [==============================] - 1s 107ms/step - loss: 0.1019 - accuracy: 0.9734 - val_loss: 306.0980 - val_accuracy: 0.7557\n",
            "Epoch 198/300\n",
            "13/13 [==============================] - 1s 109ms/step - loss: 0.0950 - accuracy: 0.9855 - val_loss: 385.4745 - val_accuracy: 0.6561\n",
            "Epoch 199/300\n",
            "13/13 [==============================] - 1s 108ms/step - loss: 0.1243 - accuracy: 0.9686 - val_loss: 411.4882 - val_accuracy: 0.7195\n",
            "Epoch 200/300\n",
            "13/13 [==============================] - 1s 109ms/step - loss: 0.1317 - accuracy: 0.9565 - val_loss: 268.5595 - val_accuracy: 0.7511\n",
            "Epoch 201/300\n",
            "13/13 [==============================] - 2s 190ms/step - loss: 0.1676 - accuracy: 0.9396 - val_loss: 299.0805 - val_accuracy: 0.7557\n",
            "Epoch 202/300\n",
            "13/13 [==============================] - 2s 189ms/step - loss: 0.1166 - accuracy: 0.9589 - val_loss: 364.4594 - val_accuracy: 0.7059\n",
            "Epoch 203/300\n",
            "13/13 [==============================] - 1s 107ms/step - loss: 0.0998 - accuracy: 0.9565 - val_loss: 483.1266 - val_accuracy: 0.6697\n",
            "Epoch 204/300\n",
            "13/13 [==============================] - 1s 107ms/step - loss: 0.1331 - accuracy: 0.9469 - val_loss: 399.6708 - val_accuracy: 0.6742\n",
            "Epoch 205/300\n",
            "13/13 [==============================] - 1s 106ms/step - loss: 0.1051 - accuracy: 0.9638 - val_loss: 392.1733 - val_accuracy: 0.7104\n",
            "Epoch 206/300\n",
            "13/13 [==============================] - 1s 104ms/step - loss: 0.1093 - accuracy: 0.9614 - val_loss: 431.6226 - val_accuracy: 0.7149\n",
            "Epoch 207/300\n",
            "13/13 [==============================] - 1s 106ms/step - loss: 0.1345 - accuracy: 0.9565 - val_loss: 382.6825 - val_accuracy: 0.6697\n",
            "Epoch 208/300\n",
            "13/13 [==============================] - 1s 106ms/step - loss: 0.1736 - accuracy: 0.9493 - val_loss: 328.1453 - val_accuracy: 0.6968\n",
            "Epoch 209/300\n",
            "13/13 [==============================] - 1s 107ms/step - loss: 0.1915 - accuracy: 0.9493 - val_loss: 352.4016 - val_accuracy: 0.7014\n",
            "Epoch 210/300\n",
            "13/13 [==============================] - 2s 161ms/step - loss: 0.2691 - accuracy: 0.9179 - val_loss: 320.9931 - val_accuracy: 0.7195\n",
            "Epoch 211/300\n",
            "13/13 [==============================] - 2s 180ms/step - loss: 0.1245 - accuracy: 0.9662 - val_loss: 363.9889 - val_accuracy: 0.6606\n",
            "Epoch 212/300\n",
            "13/13 [==============================] - 2s 142ms/step - loss: 0.1603 - accuracy: 0.9589 - val_loss: 323.5893 - val_accuracy: 0.7149\n",
            "Epoch 213/300\n",
            "13/13 [==============================] - 1s 106ms/step - loss: 0.1542 - accuracy: 0.9493 - val_loss: 234.8164 - val_accuracy: 0.7919\n",
            "Epoch 214/300\n",
            "13/13 [==============================] - 1s 105ms/step - loss: 0.1181 - accuracy: 0.9710 - val_loss: 401.7922 - val_accuracy: 0.6833\n",
            "Epoch 215/300\n",
            "13/13 [==============================] - 1s 106ms/step - loss: 0.1032 - accuracy: 0.9638 - val_loss: 310.3943 - val_accuracy: 0.7014\n",
            "Epoch 216/300\n",
            "13/13 [==============================] - 2s 120ms/step - loss: 0.1303 - accuracy: 0.9589 - val_loss: 369.5069 - val_accuracy: 0.6606\n",
            "Epoch 217/300\n",
            "13/13 [==============================] - 1s 107ms/step - loss: 0.1078 - accuracy: 0.9686 - val_loss: 350.3637 - val_accuracy: 0.6833\n",
            "Epoch 218/300\n",
            "13/13 [==============================] - 1s 106ms/step - loss: 0.1831 - accuracy: 0.9493 - val_loss: 307.9504 - val_accuracy: 0.7059\n",
            "Epoch 219/300\n",
            "13/13 [==============================] - 2s 127ms/step - loss: 0.1385 - accuracy: 0.9614 - val_loss: 250.1578 - val_accuracy: 0.7557\n",
            "Epoch 220/300\n",
            "13/13 [==============================] - 2s 185ms/step - loss: 0.1206 - accuracy: 0.9662 - val_loss: 367.3687 - val_accuracy: 0.7149\n",
            "Epoch 221/300\n",
            "13/13 [==============================] - 2s 172ms/step - loss: 0.1094 - accuracy: 0.9686 - val_loss: 289.7314 - val_accuracy: 0.7330\n",
            "Epoch 222/300\n",
            "13/13 [==============================] - 1s 106ms/step - loss: 0.0950 - accuracy: 0.9734 - val_loss: 277.2657 - val_accuracy: 0.7602\n",
            "Epoch 223/300\n",
            "13/13 [==============================] - 1s 106ms/step - loss: 0.1043 - accuracy: 0.9614 - val_loss: 436.0076 - val_accuracy: 0.6516\n",
            "Epoch 224/300\n",
            "13/13 [==============================] - 2s 119ms/step - loss: 0.0939 - accuracy: 0.9710 - val_loss: 369.7540 - val_accuracy: 0.7285\n",
            "Epoch 225/300\n",
            "13/13 [==============================] - 1s 105ms/step - loss: 0.0962 - accuracy: 0.9662 - val_loss: 384.1482 - val_accuracy: 0.7014\n",
            "Epoch 226/300\n",
            "13/13 [==============================] - 1s 107ms/step - loss: 0.1132 - accuracy: 0.9469 - val_loss: 321.1679 - val_accuracy: 0.7692\n",
            "Epoch 227/300\n",
            "13/13 [==============================] - 1s 106ms/step - loss: 0.1148 - accuracy: 0.9541 - val_loss: 403.7940 - val_accuracy: 0.6833\n",
            "Epoch 228/300\n",
            "13/13 [==============================] - 1s 105ms/step - loss: 0.1640 - accuracy: 0.9493 - val_loss: 288.2022 - val_accuracy: 0.7240\n",
            "Epoch 229/300\n",
            "13/13 [==============================] - 2s 186ms/step - loss: 0.1824 - accuracy: 0.9469 - val_loss: 471.4714 - val_accuracy: 0.6787\n",
            "Epoch 230/300\n",
            "13/13 [==============================] - 2s 184ms/step - loss: 0.1103 - accuracy: 0.9662 - val_loss: 464.2484 - val_accuracy: 0.7511\n",
            "Epoch 231/300\n",
            "13/13 [==============================] - 2s 112ms/step - loss: 0.1484 - accuracy: 0.9493 - val_loss: 315.8582 - val_accuracy: 0.7602\n",
            "Epoch 232/300\n",
            "13/13 [==============================] - 1s 110ms/step - loss: 0.1167 - accuracy: 0.9614 - val_loss: 312.0128 - val_accuracy: 0.7738\n",
            "Epoch 233/300\n",
            "13/13 [==============================] - 1s 106ms/step - loss: 0.0961 - accuracy: 0.9686 - val_loss: 410.7623 - val_accuracy: 0.7195\n",
            "Epoch 234/300\n",
            "13/13 [==============================] - 1s 108ms/step - loss: 0.1248 - accuracy: 0.9589 - val_loss: 356.2412 - val_accuracy: 0.7602\n",
            "Epoch 235/300\n",
            "13/13 [==============================] - 2s 121ms/step - loss: 0.1775 - accuracy: 0.9493 - val_loss: 204.0906 - val_accuracy: 0.8326\n",
            "Epoch 236/300\n",
            "13/13 [==============================] - 1s 109ms/step - loss: 0.2114 - accuracy: 0.9444 - val_loss: 307.5181 - val_accuracy: 0.6154\n",
            "Epoch 237/300\n",
            "13/13 [==============================] - 1s 106ms/step - loss: 0.1572 - accuracy: 0.9396 - val_loss: 237.7782 - val_accuracy: 0.7466\n",
            "Epoch 238/300\n",
            "13/13 [==============================] - 2s 173ms/step - loss: 0.1108 - accuracy: 0.9565 - val_loss: 358.1488 - val_accuracy: 0.7330\n",
            "Epoch 239/300\n",
            "13/13 [==============================] - 2s 187ms/step - loss: 0.1047 - accuracy: 0.9710 - val_loss: 296.1881 - val_accuracy: 0.7285\n",
            "Epoch 240/300\n",
            "13/13 [==============================] - 2s 123ms/step - loss: 0.0877 - accuracy: 0.9758 - val_loss: 293.2064 - val_accuracy: 0.7692\n",
            "Epoch 241/300\n",
            "13/13 [==============================] - 2s 120ms/step - loss: 0.0951 - accuracy: 0.9589 - val_loss: 362.4662 - val_accuracy: 0.7466\n",
            "Epoch 242/300\n",
            "13/13 [==============================] - 1s 112ms/step - loss: 0.1071 - accuracy: 0.9614 - val_loss: 291.4441 - val_accuracy: 0.7557\n",
            "Epoch 243/300\n",
            "13/13 [==============================] - 1s 106ms/step - loss: 0.0909 - accuracy: 0.9734 - val_loss: 526.9802 - val_accuracy: 0.6697\n",
            "Epoch 244/300\n",
            "13/13 [==============================] - 1s 109ms/step - loss: 0.0989 - accuracy: 0.9662 - val_loss: 442.9632 - val_accuracy: 0.7149\n",
            "Epoch 245/300\n",
            "13/13 [==============================] - 1s 108ms/step - loss: 0.0861 - accuracy: 0.9662 - val_loss: 438.4818 - val_accuracy: 0.6923\n",
            "Epoch 246/300\n",
            "13/13 [==============================] - 1s 107ms/step - loss: 0.1869 - accuracy: 0.9493 - val_loss: 495.0660 - val_accuracy: 0.6923\n",
            "Epoch 247/300\n",
            "13/13 [==============================] - 2s 154ms/step - loss: 0.1142 - accuracy: 0.9710 - val_loss: 271.8938 - val_accuracy: 0.7828\n",
            "Epoch 248/300\n",
            "13/13 [==============================] - 2s 188ms/step - loss: 0.1224 - accuracy: 0.9589 - val_loss: 398.7605 - val_accuracy: 0.7376\n",
            "Epoch 249/300\n",
            "13/13 [==============================] - 2s 146ms/step - loss: 0.1239 - accuracy: 0.9541 - val_loss: 414.9345 - val_accuracy: 0.7059\n",
            "Epoch 250/300\n",
            "13/13 [==============================] - 1s 105ms/step - loss: 0.1171 - accuracy: 0.9589 - val_loss: 380.2677 - val_accuracy: 0.7014\n",
            "Epoch 251/300\n",
            "13/13 [==============================] - 1s 106ms/step - loss: 0.1436 - accuracy: 0.9517 - val_loss: 244.1533 - val_accuracy: 0.7783\n",
            "Epoch 252/300\n",
            "13/13 [==============================] - 1s 107ms/step - loss: 0.1430 - accuracy: 0.9589 - val_loss: 247.1488 - val_accuracy: 0.7828\n",
            "Epoch 253/300\n",
            "13/13 [==============================] - 1s 109ms/step - loss: 0.1388 - accuracy: 0.9469 - val_loss: 311.7686 - val_accuracy: 0.6923\n",
            "Epoch 254/300\n",
            "13/13 [==============================] - 2s 119ms/step - loss: 0.1084 - accuracy: 0.9589 - val_loss: 273.1404 - val_accuracy: 0.7511\n",
            "Epoch 255/300\n",
            "13/13 [==============================] - 2s 121ms/step - loss: 0.1235 - accuracy: 0.9614 - val_loss: 282.7035 - val_accuracy: 0.7692\n",
            "Epoch 256/300\n",
            "13/13 [==============================] - 2s 138ms/step - loss: 0.1047 - accuracy: 0.9710 - val_loss: 360.6091 - val_accuracy: 0.7195\n",
            "Epoch 257/300\n",
            "13/13 [==============================] - 2s 191ms/step - loss: 0.1131 - accuracy: 0.9638 - val_loss: 226.0746 - val_accuracy: 0.7828\n",
            "Epoch 258/300\n",
            "13/13 [==============================] - 2s 160ms/step - loss: 0.0935 - accuracy: 0.9710 - val_loss: 338.3622 - val_accuracy: 0.7511\n",
            "Epoch 259/300\n",
            "13/13 [==============================] - 1s 106ms/step - loss: 0.1097 - accuracy: 0.9734 - val_loss: 356.6281 - val_accuracy: 0.7692\n",
            "Epoch 260/300\n",
            "13/13 [==============================] - 1s 108ms/step - loss: 0.0961 - accuracy: 0.9710 - val_loss: 318.3423 - val_accuracy: 0.7873\n",
            "Epoch 261/300\n",
            "13/13 [==============================] - 1s 105ms/step - loss: 0.0812 - accuracy: 0.9710 - val_loss: 292.8460 - val_accuracy: 0.7285\n",
            "Epoch 262/300\n",
            "13/13 [==============================] - 1s 108ms/step - loss: 0.0892 - accuracy: 0.9758 - val_loss: 321.3146 - val_accuracy: 0.7466\n",
            "Epoch 263/300\n",
            "13/13 [==============================] - 1s 107ms/step - loss: 0.0878 - accuracy: 0.9710 - val_loss: 401.1171 - val_accuracy: 0.7376\n",
            "Epoch 264/300\n",
            "13/13 [==============================] - 1s 109ms/step - loss: 0.0839 - accuracy: 0.9758 - val_loss: 476.0498 - val_accuracy: 0.6742\n",
            "Epoch 265/300\n",
            "13/13 [==============================] - 2s 119ms/step - loss: 0.0921 - accuracy: 0.9686 - val_loss: 289.9023 - val_accuracy: 0.7602\n",
            "Epoch 266/300\n",
            "13/13 [==============================] - 2s 180ms/step - loss: 0.0654 - accuracy: 0.9879 - val_loss: 371.3441 - val_accuracy: 0.7330\n",
            "Epoch 267/300\n",
            "13/13 [==============================] - 2s 187ms/step - loss: 0.0886 - accuracy: 0.9758 - val_loss: 451.2487 - val_accuracy: 0.7014\n",
            "Epoch 268/300\n",
            "13/13 [==============================] - 1s 107ms/step - loss: 0.0887 - accuracy: 0.9638 - val_loss: 397.9860 - val_accuracy: 0.7421\n",
            "Epoch 269/300\n",
            "13/13 [==============================] - 1s 107ms/step - loss: 0.0878 - accuracy: 0.9686 - val_loss: 508.3651 - val_accuracy: 0.7149\n",
            "Epoch 270/300\n",
            "13/13 [==============================] - 1s 107ms/step - loss: 0.0853 - accuracy: 0.9686 - val_loss: 457.3528 - val_accuracy: 0.7149\n",
            "Epoch 271/300\n",
            "13/13 [==============================] - 1s 108ms/step - loss: 0.0648 - accuracy: 0.9855 - val_loss: 397.8780 - val_accuracy: 0.7149\n",
            "Epoch 272/300\n",
            "13/13 [==============================] - 1s 110ms/step - loss: 0.0756 - accuracy: 0.9758 - val_loss: 479.7710 - val_accuracy: 0.6923\n",
            "Epoch 273/300\n",
            "13/13 [==============================] - 1s 109ms/step - loss: 0.1095 - accuracy: 0.9734 - val_loss: 321.9737 - val_accuracy: 0.7964\n",
            "Epoch 274/300\n",
            "13/13 [==============================] - 1s 106ms/step - loss: 0.1312 - accuracy: 0.9541 - val_loss: 377.5016 - val_accuracy: 0.6923\n",
            "Epoch 275/300\n",
            "13/13 [==============================] - 2s 168ms/step - loss: 0.2033 - accuracy: 0.9517 - val_loss: 208.5328 - val_accuracy: 0.8054\n",
            "Epoch 276/300\n",
            "13/13 [==============================] - 2s 185ms/step - loss: 0.1928 - accuracy: 0.9420 - val_loss: 348.3049 - val_accuracy: 0.7421\n",
            "Epoch 277/300\n",
            "13/13 [==============================] - 2s 132ms/step - loss: 0.1227 - accuracy: 0.9565 - val_loss: 191.9123 - val_accuracy: 0.8100\n",
            "Epoch 278/300\n",
            "13/13 [==============================] - 2s 121ms/step - loss: 0.1224 - accuracy: 0.9662 - val_loss: 266.2828 - val_accuracy: 0.7511\n",
            "Epoch 279/300\n",
            "13/13 [==============================] - 1s 107ms/step - loss: 0.0924 - accuracy: 0.9710 - val_loss: 239.8071 - val_accuracy: 0.8145\n",
            "Epoch 280/300\n",
            "13/13 [==============================] - 1s 106ms/step - loss: 0.0827 - accuracy: 0.9710 - val_loss: 259.1860 - val_accuracy: 0.7602\n",
            "Epoch 281/300\n",
            "13/13 [==============================] - 1s 111ms/step - loss: 0.0962 - accuracy: 0.9758 - val_loss: 320.8647 - val_accuracy: 0.7330\n",
            "Epoch 282/300\n",
            "13/13 [==============================] - 1s 109ms/step - loss: 0.0958 - accuracy: 0.9734 - val_loss: 313.3623 - val_accuracy: 0.7647\n",
            "Epoch 283/300\n",
            "13/13 [==============================] - 1s 107ms/step - loss: 0.0795 - accuracy: 0.9758 - val_loss: 276.3450 - val_accuracy: 0.7873\n",
            "Epoch 284/300\n",
            "13/13 [==============================] - 2s 150ms/step - loss: 0.0629 - accuracy: 0.9783 - val_loss: 341.3485 - val_accuracy: 0.7738\n",
            "Epoch 285/300\n",
            "13/13 [==============================] - 2s 189ms/step - loss: 0.0915 - accuracy: 0.9614 - val_loss: 315.7319 - val_accuracy: 0.7647\n",
            "Epoch 286/300\n",
            "13/13 [==============================] - 2s 148ms/step - loss: 0.0586 - accuracy: 0.9783 - val_loss: 272.5820 - val_accuracy: 0.7738\n",
            "Epoch 287/300\n",
            "13/13 [==============================] - 1s 109ms/step - loss: 0.0629 - accuracy: 0.9734 - val_loss: 292.4857 - val_accuracy: 0.7783\n",
            "Epoch 288/300\n",
            "13/13 [==============================] - 1s 108ms/step - loss: 0.1037 - accuracy: 0.9662 - val_loss: 378.5276 - val_accuracy: 0.7014\n",
            "Epoch 289/300\n",
            "13/13 [==============================] - 2s 120ms/step - loss: 0.0695 - accuracy: 0.9783 - val_loss: 328.2403 - val_accuracy: 0.7738\n",
            "Epoch 290/300\n",
            "13/13 [==============================] - 1s 109ms/step - loss: 0.0757 - accuracy: 0.9734 - val_loss: 395.4361 - val_accuracy: 0.6561\n",
            "Epoch 291/300\n",
            "13/13 [==============================] - 1s 112ms/step - loss: 0.1114 - accuracy: 0.9614 - val_loss: 295.1556 - val_accuracy: 0.7511\n",
            "Epoch 292/300\n",
            "13/13 [==============================] - 1s 109ms/step - loss: 0.0904 - accuracy: 0.9638 - val_loss: 242.2849 - val_accuracy: 0.7919\n",
            "Epoch 293/300\n",
            "13/13 [==============================] - 2s 145ms/step - loss: 0.0966 - accuracy: 0.9710 - val_loss: 367.2698 - val_accuracy: 0.6606\n",
            "Epoch 294/300\n",
            "13/13 [==============================] - 2s 184ms/step - loss: 0.1443 - accuracy: 0.9493 - val_loss: 309.4996 - val_accuracy: 0.7330\n",
            "Epoch 295/300\n",
            "13/13 [==============================] - 2s 162ms/step - loss: 0.1262 - accuracy: 0.9686 - val_loss: 586.9247 - val_accuracy: 0.6244\n",
            "Epoch 296/300\n",
            "13/13 [==============================] - 1s 108ms/step - loss: 0.1113 - accuracy: 0.9614 - val_loss: 298.5187 - val_accuracy: 0.8009\n",
            "Epoch 297/300\n",
            "13/13 [==============================] - 2s 122ms/step - loss: 0.0835 - accuracy: 0.9662 - val_loss: 369.8509 - val_accuracy: 0.6968\n",
            "Epoch 298/300\n",
            "13/13 [==============================] - 1s 104ms/step - loss: 0.1047 - accuracy: 0.9662 - val_loss: 411.9055 - val_accuracy: 0.7195\n",
            "Epoch 299/300\n",
            "13/13 [==============================] - 1s 108ms/step - loss: 0.0934 - accuracy: 0.9638 - val_loss: 360.1844 - val_accuracy: 0.7466\n",
            "Epoch 300/300\n",
            "13/13 [==============================] - 1s 109ms/step - loss: 0.0714 - accuracy: 0.9758 - val_loss: 322.2782 - val_accuracy: 0.7828\n"
          ]
        }
      ]
    },
    {
      "cell_type": "code",
      "source": [
        "model.evaluate(X_test, y_test)"
      ],
      "metadata": {
        "id": "hQ3tiauHW6dT",
        "outputId": "c5461f69-4184-4f84-fcb8-689cb0f49974",
        "colab": {
          "base_uri": "https://localhost:8080/"
        }
      },
      "execution_count": 57,
      "outputs": [
        {
          "output_type": "stream",
          "name": "stdout",
          "text": [
            "11/11 [==============================] - 0s 37ms/step - loss: 0.5592 - accuracy: 0.9337\n"
          ]
        },
        {
          "output_type": "execute_result",
          "data": {
            "text/plain": [
              "[0.5592038631439209, 0.9337349534034729]"
            ]
          },
          "metadata": {},
          "execution_count": 57
        }
      ]
    },
    {
      "cell_type": "code",
      "source": [
        "pd.DataFrame(history.history).plot(figsize=(5,4))\n",
        "plt.grid(True)\n",
        "plt.gca().set_ylim(0,1)\n",
        "plt.show()"
      ],
      "metadata": {
        "id": "r4y9s-v9LKdn",
        "outputId": "b03642c9-6e03-4f02-9752-67fcb89b47fe",
        "colab": {
          "base_uri": "https://localhost:8080/",
          "height": 372
        }
      },
      "execution_count": 59,
      "outputs": [
        {
          "output_type": "display_data",
          "data": {
            "text/plain": [
              "<Figure size 500x400 with 1 Axes>"
            ],
            "image/png": "[encoded data removed]"
          },
          "metadata": {}
        }
      ]
    },
    {
      "cell_type": "code",
      "source": [
        "prediction = model.predict(X_test_flat)\n",
        "print(prediction)"
      ],
      "metadata": {
        "id": "eZzsWgVeLn7f",
        "outputId": "9d9f14e4-4178-4360-b852-e27aedf9374d",
        "colab": {
          "base_uri": "https://localhost:8080/"
        }
      },
      "execution_count": 60,
      "outputs": [
        {
          "output_type": "stream",
          "name": "stdout",
          "text": [
            "11/11 [==============================] - 0s 21ms/step\n",
            "[[4.2545603e-13 3.8113067e-12 5.4165461e-12 ... 9.9999994e-01\n",
            "  5.3337151e-10 1.4733652e-10]\n",
            " [1.0175260e-18 9.9999982e-01 4.6184150e-12 ... 4.7810514e-12\n",
            "  9.7955731e-19 1.5882423e-10]\n",
            " [9.9998087e-01 4.4073218e-14 4.7507729e-08 ... 4.9846562e-09\n",
            "  2.7327324e-12 7.2202924e-09]\n",
            " ...\n",
            " [3.5438667e-27 1.5005816e-16 4.2609871e-23 ... 9.2693856e-26\n",
            "  4.8950429e-29 2.1870423e-24]\n",
            " [7.6829532e-10 9.0483166e-24 1.5602932e-15 ... 8.0687015e-17\n",
            "  3.1931193e-17 4.4933271e-16]\n",
            " [9.9990940e-01 3.1089825e-11 2.8284369e-06 ... 2.0808579e-06\n",
            "  2.3990590e-09 1.1228791e-06]]\n"
          ]
        }
      ]
    },
    {
      "cell_type": "code",
      "source": [
        "print(prediction[0])"
      ],
      "metadata": {
        "id": "J6x-fn1vLrqD",
        "outputId": "5b9a3f94-5d00-473a-ead3-6cb20acce1c4",
        "colab": {
          "base_uri": "https://localhost:8080/"
        }
      },
      "execution_count": 61,
      "outputs": [
        {
          "output_type": "stream",
          "name": "stdout",
          "text": [
            "[4.2545603e-13 3.8113067e-12 5.4165461e-12 1.3497958e-15 7.6031889e-12\n",
            " 8.2302769e-09 3.0756422e-12 9.9999994e-01 5.3337151e-10 1.4733652e-10]\n"
          ]
        }
      ]
    },
    {
      "cell_type": "code",
      "source": [
        "np.argmax(prediction[0])"
      ],
      "metadata": {
        "id": "XOFpGwj3Lvvv",
        "outputId": "049d930d-f636-47a5-8a2f-e2de5a1fc887",
        "colab": {
          "base_uri": "https://localhost:8080/"
        }
      },
      "execution_count": 62,
      "outputs": [
        {
          "output_type": "execute_result",
          "data": {
            "text/plain": [
              "7"
            ]
          },
          "metadata": {},
          "execution_count": 62
        }
      ]
    },
    {
      "cell_type": "code",
      "source": [
        "plt.matshow(balls_folder[0])"
      ],
      "metadata": {
        "id": "zOPlOku7LymC",
        "outputId": "3fa5b2a5-432d-4812-e0fa-5311f2992872",
        "colab": {
          "base_uri": "https://localhost:8080/",
          "height": 452
        }
      },
      "execution_count": 63,
      "outputs": [
        {
          "output_type": "execute_result",
          "data": {
            "text/plain": [
              "<matplotlib.image.AxesImage at 0x7f7552de9870>"
            ]
          },
          "metadata": {},
          "execution_count": 63
        },
        {
          "output_type": "display_data",
          "data": {
            "text/plain": [
              "<Figure size 480x480 with 1 Axes>"
            ],
            "image/png": "[encoded data removed]"
          },
          "metadata": {}
        }
      ]
    },
    {
      "cell_type": "code",
      "source": [
        "predicted_labels = [np.argmax(i) for i in prediction]"
      ],
      "metadata": {
        "id": "AzD4-3i2NbfZ"
      },
      "execution_count": 64,
      "outputs": []
    },
    {
      "cell_type": "code",
      "source": [
        "cm = confusion_matrix(y_test, prediction.argmax(axis=1))\n",
        "print(cm)"
      ],
      "metadata": {
        "id": "r6HMwYehNjxu",
        "outputId": "3bdf8f9c-e053-46ce-df6a-53949df2265d",
        "colab": {
          "base_uri": "https://localhost:8080/"
        }
      },
      "execution_count": 65,
      "outputs": [
        {
          "output_type": "stream",
          "name": "stdout",
          "text": [
            "[[32  1  0  0  0  0  0  0  0  0]\n",
            " [ 0 36  0  0  0  0  0  0  0  0]\n",
            " [ 0  1 27  0  2  1  0  0  0  0]\n",
            " [ 0  0  0 30  0  0  0  0  0  0]\n",
            " [ 1  0  0  0 33  0  0  0  0  0]\n",
            " [ 2  0  0  0  0 35  0  0  2  0]\n",
            " [ 0  0  0  1  0  0 27  0  0  0]\n",
            " [ 1  0  0  0  0  1  1 37  0  1]\n",
            " [ 0  0  0  0  0  0  0  1 28  0]\n",
            " [ 1  1  1  0  0  1  2  0  0 25]]\n"
          ]
        }
      ]
    },
    {
      "cell_type": "code",
      "source": [
        "import seaborn as sn\n",
        "plt.figure(figsize = (5,5))\n",
        "sn.heatmap(cm, annot=True, fmt='d')\n",
        "plt.xlabel('Predicted Label')\n",
        "plt.ylabel('True Label')"
      ],
      "metadata": {
        "id": "YNS1gYmSN9Ie",
        "outputId": "86658788-cac5-423c-bb0c-bd797360be15",
        "colab": {
          "base_uri": "https://localhost:8080/",
          "height": 481
        }
      },
      "execution_count": 66,
      "outputs": [
        {
          "output_type": "execute_result",
          "data": {
            "text/plain": [
              "Text(33.22222222222222, 0.5, 'True Label')"
            ]
          },
          "metadata": {},
          "execution_count": 66
        },
        {
          "output_type": "display_data",
          "data": {
            "text/plain": [
              "<Figure size 500x500 with 2 Axes>"
            ],
            "image/png": "[encoded data removed]"
          },
          "metadata": {}
        }
      ]
    },
    {
      "cell_type": "code",
      "source": [
        "accuracy = 100*np.trace(cm)/np.sum(cm)\n",
        "print(accuracy)"
      ],
      "metadata": {
        "id": "E9levH7POD9u",
        "outputId": "3bb3d220-9f6d-45a9-da47-b9b6da41ec51",
        "colab": {
          "base_uri": "https://localhost:8080/"
        }
      },
      "execution_count": 67,
      "outputs": [
        {
          "output_type": "stream",
          "name": "stdout",
          "text": [
            "93.37349397590361\n"
          ]
        }
      ]
    }
  ]
}