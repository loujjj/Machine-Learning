{
  "nbformat": 4,
  "nbformat_minor": 0,
  "metadata": {
    "colab": {
      "provenance": [],
      "include_colab_link": true
    },
    "kernelspec": {
      "name": "python3",
      "display_name": "Python 3"
    },
    "language_info": {
      "name": "python"
    }
  },
  "cells": [
    {
      "cell_type": "markdown",
      "metadata": {
        "id": "view-in-github",
        "colab_type": "text"
      },
      "source": [
        "<a href=\"https://colab.research.google.com/github/loujjj/Machine-Learning/blob/main/PCT04_Tabor.ipynb\" target=\"_parent\"><img src=\"https://colab.research.google.com/assets/colab-badge.svg\" alt=\"Open In Colab\"/></a>"
      ]
    },
    {
      "cell_type": "markdown",
      "source": [
        "##**Classification of 10 Different Balls**"
      ],
      "metadata": {
        "id": "w12W2G-6c32h"
      }
    },
    {
      "cell_type": "markdown",
      "source": [
        "####**Importing the Necessary Libraries**"
      ],
      "metadata": {
        "id": "19trjlLic6EL"
      }
    },
    {
      "cell_type": "code",
      "execution_count": 1,
      "metadata": {
        "id": "XPZnl1jNcuB1"
      },
      "outputs": [],
      "source": [
        "import numpy as np\n",
        "import matplotlib.pyplot as plt\n",
        "import pandas as pd\n",
        "import os\n",
        "import cv2 as cv\n",
        "import fnmatch\n",
        "\n",
        "import tensorflow as tf\n",
        "from tensorflow import keras\n",
        "from tensorflow.keras.models import Sequential\n",
        "from tensorflow.keras.layers import Dense, Conv2D, Dropout, Flatten, MaxPooling2D\n",
        "\n",
        "from sklearn import datasets\n",
        "from sklearn.preprocessing import LabelEncoder\n",
        "from sklearn.model_selection import train_test_split\n",
        "from sklearn.metrics import confusion_matrix, ConfusionMatrixDisplay"
      ]
    },
    {
      "cell_type": "markdown",
      "source": [
        "####**Importing and Preparing the Data**"
      ],
      "metadata": {
        "id": "21I4-WljdB3r"
      }
    },
    {
      "cell_type": "markdown",
      "source": [
        "#####**Importing the Data**"
      ],
      "metadata": {
        "id": "-z48xONBdGc0"
      }
    },
    {
      "cell_type": "code",
      "source": [
        "from google.colab import drive\n",
        "drive.mount('/content/gdrive/', force_remount=True)"
      ],
      "metadata": {
        "id": "a0VllYJydK2L",
        "outputId": "805b1727-782d-4c09-9ca2-61b07fceec70",
        "colab": {
          "base_uri": "https://localhost:8080/"
        }
      },
      "execution_count": 2,
      "outputs": [
        {
          "output_type": "stream",
          "name": "stdout",
          "text": [
            "Mounted at /content/gdrive/\n"
          ]
        }
      ]
    },
    {
      "cell_type": "code",
      "source": [
        "cd gdrive/MyDrive/'Colab Notebooks'/Book/BallsDatasets"
      ],
      "metadata": {
        "colab": {
          "base_uri": "https://localhost:8080/"
        },
        "id": "ATHuKHGmGqhd",
        "outputId": "53e7fcf3-eed9-4681-aa98-1370473f5fef"
      },
      "execution_count": 3,
      "outputs": [
        {
          "output_type": "stream",
          "name": "stdout",
          "text": [
            "/content/gdrive/MyDrive/Colab Notebooks/Book/BallsDatasets\n"
          ]
        }
      ]
    },
    {
      "cell_type": "markdown",
      "source": [
        "**NOTE: You have to save the attached csv file to one of your subfolders in Google Drive and change the name of the subfolder below, accordingly.**"
      ],
      "metadata": {
        "id": "lUPIQIxqIfvI"
      }
    },
    {
      "cell_type": "code",
      "source": [
        "ls"
      ],
      "metadata": {
        "id": "R6Vx8Cz4dRf4",
        "colab": {
          "base_uri": "https://localhost:8080/"
        },
        "outputId": "34484ba8-a5d4-4041-aaf1-d87a6766678d"
      },
      "execution_count": 4,
      "outputs": [
        {
          "output_type": "stream",
          "name": "stdout",
          "text": [
            " baseball00.jpg           bowling20.jpg          soccer29.jpg\n",
            " baseball01.jpg           bowling21.png          soccer30.jpg\n",
            " baseball02.png           bowling22.png          soccer31.jpg\n",
            " baseball03.jpg           bowling23.png          soccer32.jpg\n",
            " baseball04.jpg           bowling24.jpg          soccer33.png\n",
            " baseball05.jpg           bowling25.png          soccer34.jpg\n",
            " baseball06.png           bowling26.png          soccer36.jpg\n",
            " baseball07.jpg           bowling27.jpg          soccer37.png\n",
            " baseball08.jpeg          bowling28.jpg          soccer38.png\n",
            " baseball09.jpeg          bowling29.jpg          soccer39.png\n",
            " baseball10.jpg           bowling30.png          soccer40.jpg\n",
            " baseball11.jpg           bowling31.png          soccer41.jpg\n",
            " baseball12.jpg           bowling32.png          soccer42.jpg\n",
            " baseball13.jpg           bowling34.jpg          soccer43.jpg\n",
            " baseball14.jpg           bowling35.jpg          soccer44.jpg\n",
            " baseball15.jpg           bowling36.png          soccer45.jpg\n",
            " baseball16.jpg           bowling37.png          soccer46.png\n",
            " baseball17.jpg           bowling38.png          soccer48.jpg\n",
            " baseball18.jpg           bowling39.jpg          soccer48.png\n",
            " baseball19.jpg           bowling40.jpg          soccer49.png\n",
            " baseball20.jpg           bowling41.jpg          soccer50.jpg\n",
            " baseball21.png           bowling42.jpg          soccer51.jpeg\n",
            " baseball22.png           bowling43.jpg          soccer52.jpeg\n",
            " baseball23.png           bowling44.jpg          soccer53.jpeg\n",
            " baseball24.jpg           bowling45.jpg          tabletennis00.jpg\n",
            " baseball25.jpg           bowling46.jpg          tabletennis01.jpg\n",
            " baseball26.jpg           bowling47.jpg          tabletennis02.jpg\n",
            " baseball27.jpg           bowling48.png          tabletennis03.jpg\n",
            " baseball28.jpg           bowling49.png          tabletennis04.jpg\n",
            " baseball29.jpg           bowling50.png          tabletennis07.png\n",
            " baseball30.png           bowling51.jpeg        'tabletennis08 (1).jpeg'\n",
            " baseball31.png           bowling52.jpeg         tabletennis08.jpeg\n",
            " baseball32.png           bowling53.jpeg         tabletennis09.jpg\n",
            " baseball33.jpg           football00.jpg         tabletennis10.jpg\n",
            " baseball36.png           football01.jpg         tabletennis11.jpg\n",
            " baseball37.png           football05.jpg         tabletennis12.jpg\n",
            " baseball38.png           football06.jpg         tabletennis13.jpg\n",
            " baseball39.png           football07.jpg         tabletennis14.jpg\n",
            " baseball40.jpg          'football08 (1).jpg'    tabletennis15.jpg\n",
            " baseball41.jpg           football08.jpg         tabletennis16.jpg\n",
            " baseball42.jpg          'football09 (1).png'    tabletennis17.jpg\n",
            " baseball43.jpg           football09.png        'tabletennis18 (1).png'\n",
            " baseball44.jpg           football10.jpg         tabletennis18.png\n",
            " baseball46.jpg           football11.jpg        'tabletennis19 (1).png'\n",
            " baseball47.jpg           football12.jpg         tabletennis19.png\n",
            " baseball48.png           football13.png         tabletennis20.png\n",
            " baseball49.jpg           football14.png         tabletennis21.png\n",
            " baseball50.jpg           football15.jpg         tabletennis22.png\n",
            " baseball51.jpeg          football16.jpg         tabletennis23.png\n",
            " baseball52.jpeg          football17.jpg        'tabletennis27 (1).jpg'\n",
            " baseball53.jpeg          football18.jpg         tabletennis27.jpg\n",
            " basketball00.jpg         football19.jpg         tabletennis28.jpg\n",
            " basketball01.jpg        'football20 (1).jpg'    tabletennis29.jpg\n",
            " basketball02.png         football20.jpg         tabletennis30.jpeg\n",
            " basketball03.png        'football21 (1).png'   'tabletennis31 (1).jpg'\n",
            " basketball07.jpeg        football21.png         tabletennis31.jpg\n",
            " basketball08.jpeg       'football22 (1).jpg'   'tabletennis32 (1).png'\n",
            " basketball09.jpeg        football22.jpg         tabletennis32.png\n",
            " basketball10.jpg        'football23 (1).png'   'tabletennis33 (1).png'\n",
            " basketball11.jpg         football23.png         tabletennis33.png\n",
            " basketball12.jpg         football24.jpg         tabletennis34.png\n",
            " basketball13.png         football25.jpg         tabletennis35.jpg\n",
            " basketball14.png         football26.jpg         tabletennis36.jpg\n",
            " basketball15.jpg         football27.jpg         tabletennis37.jpg\n",
            " basketball16.png         football28.jpg         tabletennis38.png\n",
            " basketball17.jpg         football29.png         tabletennis39.png\n",
            "'basketball18 (1).jpg'    football30.png        'tabletennis40 (1).png'\n",
            "'basketball18 (2).jpg'    football31.png         tabletennis40.png\n",
            " basketball18.jpg         football32.png        'tabletennis41 (1).jpg'\n",
            "'basketball19 (1).jpg'   'football36 (1).png'    tabletennis41.jpg\n",
            "'basketball19 (2).jpg'    football36.png         tabletennis42.jpg\n",
            " basketball19.jpg        'football37 (1).png'    tabletennis43.jpg\n",
            " basketball20.jpg         football37.png         tabletennis44.jpg\n",
            " basketball21.jpg         football38.png         tabletennis45.jpg\n",
            " basketball22.png         football39.jpg         tabletennis46.jpg\n",
            " basketball23.png         football40.jpg         tabletennis47.jpg\n",
            "'basketball24 (1).jpg'    football41.jpg         tabletennis48.jpg\n",
            "'basketball24 (2).jpg'    football42.jpg         tabletennis49.jpg\n",
            " basketball24.jpg         football43.jpg         tabletennis50.jpg\n",
            " basketball25.jpg         football44.jpg        'tabletennis51 (1).jpg'\n",
            "'basketball26 (1).jpg'    football46.jpg         tabletennis51.jpg\n",
            "'basketball26 (2).jpg'    football47.jpg         tabletennis52.png\n",
            " basketball26.jpg         football48.png        'tabletennis53 (1).jpeg'\n",
            "'basketball27 (1).jpg'    football49.png         tabletennis53.jpeg\n",
            "'basketball27 (2).jpg'   'football50 (1).png'    tabletennis54.jpeg\n",
            " basketball27.jpg         football50.png         tennis00.jpg\n",
            " basketball28.jpg         football51.jpeg        tennis01.jpg\n",
            " basketball29.jpg        'football52 (1).jpeg'   tennis02.jpg\n",
            "'basketball30 (1).png'    football52.jpeg        tennis03.jpg\n",
            "'basketball30 (2).png'    football53.jpeg        tennis04.jpg\n",
            " basketball30.png         golf00.jpg             tennis05.jpg\n",
            " basketball31.png         golf01.jpg             tennis06.png\n",
            "'basketball32 (1).png'    golf02.jpg             tennis07.jpeg\n",
            "'basketball32 (2).png'    golf03.jpg             tennis08.jpg\n",
            " basketball32.png         golf04.jpg             tennis09.jpg\n",
            " basketball34.jpg         golf05.png             tennis10.jpg\n",
            " basketball35.jpg        'golf07 (1).jpeg'       tennis11.jpg\n",
            " basketball36.png        'golf07 (2).jpeg'       tennis12.jpg\n",
            " basketball37.png         golf07.jpeg            tennis13.jpg\n",
            " basketball38.png        'golf08 (1).png'        tennis14.jpg\n",
            " basketball39.jpg        'golf08 (2).png'        tennis15.jpg\n",
            "'basketball40 (1).jpg'    golf08.png             tennis16.jpg\n",
            "'basketball40 (2).jpg'   'golf09 (1).png'        tennis17.jpg\n",
            " basketball40.jpg         golf09.png             tennis18.png\n",
            "'basketball41 (1).jpg'    golf10.jpg             tennis19.png\n",
            "'basketball41 (2).jpg'    golf11.jpg             tennis20.png\n",
            " basketball41.jpg         golf12.jpg             tennis21.png\n",
            " basketball42.jpg         golf13.png             tennis22.png\n",
            " basketball43.jpg         golf14.png             tennis23.png\n",
            " basketball44.jpg         golf15.png             tennis27.jpg\n",
            " basketball45.png         golf16.jpg             tennis28.jpg\n",
            " basketball46.png         golf17.jpg             tennis29.jpg\n",
            " basketball47.png         golf18.jpg             tennis30.png\n",
            " basketball48.png         golf19.jpg             tennis31.png\n",
            " basketball49.png        'golf20 (1).jpg'        tennis32.png\n",
            " basketball50.png        'golf20 (2).jpg'        tennis33.jpg\n",
            "'basketball51 (1).jpeg'   golf20.jpg             tennis34.jpg\n",
            "'basketball51 (2).jpeg'   golf21.png             tennis36.png\n",
            " basketball51.jpeg       'golf22 (1).png'        tennis37.png\n",
            " basketball52.jpeg       'golf22 (2).png'        tennis38.png\n",
            " basketball53.jpeg        golf22.png             tennis39.jpg\n",
            " billiards00.jpg         'golf23 (1).png'        tennis40.jpg\n",
            " billiards01.png         'golf23 (2).png'        tennis41.jpg\n",
            " billiards02.jpeg         golf23.png             tennis42.jpg\n",
            " billiards03.jpeg         golf27.jpg             tennis43.jpg\n",
            " billiards07.jpg          golf28.png             tennis44.jpg\n",
            " billiards08.jpg          golf29.jpg             tennis45.jpg\n",
            " billiards09.jpg          golf30.jpg             tennis46.jpg\n",
            " billiards10.jpg          golf31.png             tennis47.jpg\n",
            " billiards11.jpg          golf32.png             tennis48.png\n",
            " billiards12.jpg          golf33.png             tennis49.png\n",
            " billiards13.png         'golf34 (1).jpg'        tennis50.jpg\n",
            " billiards14.png         'golf34 (2).jpg'        tennis51.jpeg\n",
            " billiards15.png          golf34.jpg             tennis52.jpeg\n",
            " billiards16.jpg         'golf35 (1).jpg'        tennis53.jpeg\n",
            " billiards17.jpg          golf35.jpg             volleyball00.jpg\n",
            " billiards18.webp        'golf36 (1).jpg'        volleyball01.jpg\n",
            " billiards19.jpg         'golf36 (2).jpg'        volleyball02.jpg\n",
            " billiards20.jpg          golf36.jpg             volleyball03.jpg\n",
            " billiards21.png         'golf37 (1).png'        volleyball07.jpg\n",
            " billiards22.png         'golf37 (2).png'        volleyball08.png\n",
            " billiards23.png          golf37.png             volleyball09.jpg\n",
            " billiards24.jpg          golf38.png             volleyball10.jpg\n",
            " billiards25.jpg          golf39.png             volleyball11.jpg\n",
            " billiards26.jpg          golf40.png             volleyball12.jpg\n",
            " billiards27.jpg          golf41.jpg             volleyball13.jpg\n",
            " billiards28.jpg          golf42.jpg             volleyball14.png\n",
            " billiards29.jpg         'golf43 (1).jpg'        volleyball15.jpg\n",
            " billiards30.png          golf43.jpg             volleyball16.jpg\n",
            " billiards31.png          golf44.jpg             volleyball17.jpg\n",
            " billiards32.png          golf45.jpg             volleyball18.png\n",
            " billiards33.jpeg         golf46.jpg             volleyball19.png\n",
            " billiards36.png          golf47.jpg             volleyball20.png\n",
            " billiards37.png          golf49.png             volleyball21.png\n",
            " billiards38.png          golf50.jpg             volleyball22.png\n",
            " billiards39.png         'golf51 (1).jpg'        volleyball23.png\n",
            " billiards40.jpg          golf51.jpg             volleyball27.jpg\n",
            " billiards41.jpg          golf52.jpg             volleyball28.jpg\n",
            " billiards42.jpg          golf53.jpeg            volleyball29.jpg\n",
            " billiards43.jpg          golf54.jpeg            volleyball30.jpg\n",
            " billiards44.jpg          soccer00.jpg           volleyball31.jpg\n",
            " billiards45.png          soccer01.jpg           volleyball32.jpg\n",
            " billiards46.png          soccer02.jpeg          volleyball33.png\n",
            " billiards47.png          soccer03.jpg           volleyball34.png\n",
            " billiards48.jpg          soccer04.jpg           volleyball35.png\n",
            " billiards49.png          soccer05.jpg           volleyball37.jpeg\n",
            " billiards50.png          soccer06.jpg           volleyball39.png\n",
            " billiards51.jpeg         soccer07.jpeg          volleyball40.png\n",
            " billiards52.jpeg         soccer08.jpg           volleyball41.png\n",
            " billiards53.png          soccer09.png           volleyball42.jpg\n",
            " bowling00.jpg            soccer10.jpg           volleyball43.png\n",
            " bowling01.jpg            soccer11.jpg           volleyball44.jpg\n",
            " bowling02.jpg            soccer12.jpg           volleyball45.png\n",
            " bowling03.jpg            soccer13.jpg           volleyball46.jpg\n",
            " bowling07.jpeg           soccer14.jpg           volleyball47.jpg\n",
            " bowling08.jpeg           soccer16.jpg           volleyball48.jpg\n",
            " bowling09.jpeg           soccer17.jpg           volleyball49.jpg\n",
            " bowling10.jpg            soccer18.png           volleyball50.jpg\n",
            " bowling11.jpg            soccer19.png           volleyball51.png\n",
            " bowling12.jpg            soccer20.png           volleyball52.png\n",
            " bowling13.png            soccer21.png           volleyball53.png\n",
            " bowling14.png            soccer22.png           volleyball54.png\n",
            " bowling15.png            soccer23.png           volleyball55.jpeg\n",
            " bowling17.jpg            soccer27.jpg           volleyball56.jpeg\n",
            " bowling19.jpg            soccer28.jpg\n"
          ]
        }
      ]
    },
    {
      "cell_type": "code",
      "source": [
        "organize = pd.DataFrame.from_dict(os.listdir())\n",
        "random   = organize.sample(frac=1, random_state=1).reset_index()\n",
        "data     = pd.DataFrame(random)[0].values.tolist()"
      ],
      "metadata": {
        "id": "u4jOD3KtdSBj"
      },
      "execution_count": 5,
      "outputs": []
    },
    {
      "cell_type": "code",
      "source": [
        "print(data)"
      ],
      "metadata": {
        "id": "cEhF6Cna7Svb",
        "outputId": "91532f63-484b-42bc-e430-958c61f501eb",
        "colab": {
          "base_uri": "https://localhost:8080/"
        }
      },
      "execution_count": 6,
      "outputs": [
        {
          "output_type": "stream",
          "name": "stdout",
          "text": [
            "['volleyball01.jpg', 'golf45.jpg', 'volleyball09.jpg', 'baseball14.jpg', 'soccer36.jpg', 'baseball37.png', 'golf19.jpg', 'tennis14.jpg', 'tennis01.jpg', 'basketball41 (1).jpg', 'basketball30 (2).png', 'basketball40.jpg', 'soccer10.jpg', 'tennis08.jpg', 'tabletennis35.jpg', 'tabletennis17.jpg', 'tennis17.jpg', 'tabletennis21.png', 'golf04.jpg', 'billiards20.jpg', 'volleyball43.png', 'basketball47.png', 'tabletennis51.jpg', 'soccer53.jpeg', 'basketball45.png', 'baseball00.jpg', 'golf35 (1).jpg', 'bowling46.jpg', 'soccer50.jpg', 'volleyball21.png', 'football47.jpg', 'football13.png', 'basketball29.jpg', 'bowling20.jpg', 'billiards01.png', 'baseball51.jpeg', 'volleyball35.png', 'football09 (1).png', 'billiards25.jpg', 'bowling07.jpeg', 'soccer48.jpg', 'golf34.jpg', 'football20.jpg', 'football10.jpg', 'golf07 (2).jpeg', 'tabletennis11.jpg', 'football26.jpg', 'baseball38.png', 'tabletennis42.jpg', 'bowling52.jpeg', 'volleyball56.jpeg', 'golf13.png', 'tennis46.jpg', 'basketball24.jpg', 'basketball35.jpg', 'football36.png', 'baseball39.png', 'volleyball20.png', 'volleyball00.jpg', 'basketball12.jpg', 'bowling39.jpg', 'billiards10.jpg', 'tabletennis45.jpg', 'basketball53.jpeg', 'football37 (1).png', 'volleyball31.jpg', 'tabletennis08.jpeg', 'soccer33.png', 'basketball40 (2).jpg', 'tennis02.jpg', 'volleyball22.png', 'tabletennis43.jpg', 'golf52.jpg', 'basketball16.png', 'bowling38.png', 'golf03.jpg', 'basketball30 (1).png', 'golf21.png', 'golf43 (1).jpg', 'billiards39.png', 'football27.jpg', 'baseball33.jpg', 'tennis38.png', 'basketball27 (2).jpg', 'bowling29.jpg', 'baseball03.jpg', 'volleyball08.png', 'baseball13.jpg', 'billiards33.jpeg', 'football23.png', 'basketball00.jpg', 'tennis52.jpeg', 'billiards43.jpg', 'tabletennis38.png', 'soccer37.png', 'golf01.jpg', 'baseball25.jpg', 'basketball41 (2).jpg', 'tabletennis34.png', 'football36 (1).png', 'bowling44.jpg', 'baseball11.jpg', 'football52.jpeg', 'baseball50.jpg', 'basketball15.jpg', 'volleyball55.jpeg', 'bowling08.jpeg', 'volleyball32.jpg', 'soccer43.jpg', 'basketball01.jpg', 'billiards48.jpg', 'football22 (1).jpg', 'billiards28.jpg', 'volleyball40.png', 'tennis34.jpg', 'football01.jpg', 'billiards24.jpg', 'golf50.jpg', 'football24.jpg', 'billiards12.jpg', 'tennis09.jpg', 'tabletennis19 (1).png', 'billiards46.png', 'tennis51.jpeg', 'basketball09.jpeg', 'tabletennis51 (1).jpg', 'basketball41.jpg', 'tabletennis28.jpg', 'basketball42.jpg', 'football00.jpg', 'soccer51.jpeg', 'golf20 (1).jpg', 'tabletennis33.png', 'basketball31.png', 'basketball17.jpg', 'billiards44.jpg', 'tabletennis29.jpg', 'basketball39.jpg', 'tennis10.jpg', 'football29.png', 'soccer27.jpg', 'baseball16.jpg', 'football39.jpg', 'tabletennis02.jpg', 'tabletennis52.png', 'golf33.png', 'bowling14.png', 'tabletennis54.jpeg', 'basketball02.png', 'billiards03.jpeg', 'basketball24 (2).jpg', 'bowling27.jpg', 'tennis22.png', 'soccer08.jpg', 'golf53.jpeg', 'volleyball51.png', 'tabletennis22.png', 'golf22.png', 'tabletennis47.jpg', 'billiards18.webp', 'tennis40.jpg', 'golf46.jpg', 'volleyball16.jpg', 'basketball38.png', 'golf00.jpg', 'bowling23.png', 'soccer11.jpg', 'soccer39.png', 'volleyball42.jpg', 'golf34 (2).jpg', 'baseball52.jpeg', 'volleyball23.png', 'baseball12.jpg', 'football08.jpg', 'golf51.jpg', 'tennis04.jpg', 'golf16.jpg', 'tabletennis50.jpg', 'soccer14.jpg', 'bowling26.png', 'basketball46.png', 'football21 (1).png', 'golf11.jpg', 'bowling36.png', 'baseball36.png', 'soccer28.jpg', 'bowling50.png', 'tabletennis32 (1).png', 'billiards14.png', 'bowling12.jpg', 'basketball36.png', 'volleyball41.png', 'tabletennis13.jpg', 'bowling22.png', 'golf34 (1).jpg', 'football48.png', 'billiards50.png', 'football18.jpg', 'soccer12.jpg', 'golf38.png', 'billiards23.png', 'soccer02.jpeg', 'tabletennis16.jpg', 'bowling01.jpg', 'bowling41.jpg', 'tabletennis08 (1).jpeg', 'billiards41.jpg', 'soccer42.jpg', 'basketball08.jpeg', 'tennis41.jpg', 'billiards07.jpg', 'golf40.png', 'football32.png', 'billiards16.jpg', 'billiards53.png', 'tennis47.jpg', 'golf42.jpg', 'basketball48.png', 'bowling45.jpg', 'football30.png', 'football31.png', 'tennis12.jpg', 'soccer13.jpg', 'baseball01.jpg', 'golf28.png', 'baseball04.jpg', 'golf17.jpg', 'baseball43.jpg', 'volleyball15.jpg', 'tennis18.png', 'golf37 (1).png', 'bowling24.jpg', 'tennis16.jpg', 'golf20 (2).jpg', 'billiards52.jpeg', 'volleyball07.jpg', 'basketball27 (1).jpg', 'golf18.jpg', 'basketball07.jpeg', 'baseball26.jpg', 'bowling25.png', 'football50 (1).png', 'tabletennis12.jpg', 'volleyball02.jpg', 'bowling53.jpeg', 'football37.png', 'soccer22.png', 'tabletennis53.jpeg', 'soccer09.png', 'football16.jpg', 'bowling00.jpg', 'basketball50.png', 'tennis48.png', 'billiards37.png', 'basketball32 (2).png', 'billiards51.jpeg', 'basketball32 (1).png', 'soccer29.jpg', 'basketball51 (1).jpeg', 'basketball44.jpg', 'tabletennis44.jpg', 'bowling28.jpg', 'bowling02.jpg', 'football51.jpeg', 'billiards40.jpg', 'golf23 (2).png', 'volleyball12.jpg', 'volleyball17.jpg', 'baseball47.jpg', 'football23 (1).png', 'tabletennis10.jpg', 'billiards13.png', 'golf07.jpeg', 'tennis43.jpg', 'football11.jpg', 'football46.jpg', 'golf32.png', 'tabletennis03.jpg', 'basketball24 (1).jpg', 'football41.jpg', 'basketball18.jpg', 'basketball51.jpeg', 'football40.jpg', 'billiards49.png', 'tennis28.jpg', 'golf47.jpg', 'bowling48.png', 'volleyball50.jpg', 'baseball19.jpg', 'golf43.jpg', 'golf20.jpg', 'football20 (1).jpg', 'golf05.png', 'soccer21.png', 'football22.jpg', 'football14.png', 'tennis31.png', 'tabletennis48.jpg', 'tabletennis49.jpg', 'bowling40.jpg', 'volleyball44.jpg', 'baseball27.jpg', 'soccer45.jpg', 'golf36 (1).jpg', 'tabletennis32.png', 'tabletennis40 (1).png', 'soccer20.png', 'volleyball46.jpg', 'tennis39.jpg', 'tennis29.jpg', 'bowling34.jpg', 'soccer05.jpg', 'tabletennis37.jpg', 'volleyball29.jpg', 'billiards17.jpg', 'volleyball03.jpg', 'golf44.jpg', 'golf08 (1).png', 'volleyball28.jpg', 'basketball52.jpeg', 'football53.jpeg', 'basketball19.jpg', 'basketball26 (2).jpg', 'basketball27.jpg', 'bowling19.jpg', 'tabletennis04.jpg', 'football07.jpg', 'golf54.jpeg', 'football12.jpg', 'golf37 (2).png', 'golf22 (2).png', 'baseball17.jpg', 'baseball31.png', 'soccer16.jpg', 'tennis13.jpg', 'golf07 (1).jpeg', 'basketball11.jpg', 'billiards00.jpg', 'baseball06.png', 'bowling11.jpg', 'baseball18.jpg', 'baseball49.jpg', 'basketball30.png', 'tennis23.png', 'tennis00.jpg', 'billiards27.jpg', 'soccer49.png', 'golf09 (1).png', 'billiards19.jpg', 'basketball43.jpg', 'tennis44.jpg', 'baseball30.png', 'football09.png', 'volleyball45.png', 'soccer41.jpg', 'tennis03.jpg', 'baseball07.jpg', 'bowling30.png', 'tabletennis09.jpg', 'football43.jpg', 'soccer31.jpg', 'basketball37.png', 'tabletennis27 (1).jpg', 'baseball53.jpeg', 'bowling35.jpg', 'football08 (1).jpg', 'volleyball33.png', 'soccer18.png', 'volleyball19.png', 'football49.png', 'baseball29.jpg', 'soccer00.jpg', 'billiards26.jpg', 'football52 (1).jpeg', 'soccer32.jpg', 'tennis32.png', 'tabletennis18 (1).png', 'basketball13.png', 'soccer03.jpg', 'bowling21.png', 'soccer23.png', 'baseball15.jpg', 'tennis05.jpg', 'golf12.jpg', 'golf22 (1).png', 'volleyball54.png', 'soccer52.jpeg', 'tennis53.jpeg', 'tennis27.jpg', 'volleyball18.png', 'golf09.png', 'baseball32.png', 'bowling43.jpg', 'tennis50.jpg', 'golf51 (1).jpg', 'basketball34.jpg', 'basketball21.jpg', 'bowling10.jpg', 'golf10.jpg', 'baseball40.jpg', 'soccer04.jpg', 'football17.jpg', 'basketball49.png', 'soccer17.jpg', 'basketball40 (1).jpg', 'tabletennis40.png', 'volleyball49.jpg', 'golf08.png', 'soccer19.png', 'basketball32.png', 'baseball23.png', 'tennis20.png', 'tabletennis41.jpg', 'tabletennis36.jpg', 'basketball23.png', 'tennis42.jpg', 'tennis33.jpg', 'basketball18 (2).jpg', 'tennis21.png', 'volleyball11.jpg', 'volleyball37.jpeg', 'bowling37.png', 'billiards32.png', 'basketball51 (2).jpeg', 'tabletennis07.png', 'billiards11.jpg', 'baseball22.png', 'billiards15.png', 'football44.jpg', 'golf14.png', 'tabletennis19.png', 'basketball19 (2).jpg', 'football38.png', 'soccer46.png', 'billiards31.png', 'golf37.png', 'tabletennis46.jpg', 'billiards02.jpeg', 'volleyball30.jpg', 'bowling17.jpg', 'golf23.png', 'golf29.jpg', 'soccer07.jpeg', 'tennis06.png', 'baseball42.jpg', 'golf36.jpg', 'baseball08.jpeg', 'baseball05.jpg', 'golf02.jpg', 'baseball48.png', 'golf31.png', 'volleyball14.png', 'tabletennis18.png', 'tennis15.jpg', 'golf30.jpg', 'tabletennis20.png', 'golf15.png', 'baseball10.jpg', 'baseball02.png', 'volleyball53.png', 'golf08 (2).png', 'football28.jpg', 'baseball44.jpg', 'basketball26.jpg', 'soccer38.png', 'baseball24.jpg', 'bowling32.png', 'billiards38.png', 'volleyball34.png', 'basketball22.png', 'baseball20.jpg', 'billiards22.png', 'golf41.jpg', 'soccer30.jpg', 'football21.png', 'volleyball13.jpg', 'golf35.jpg', 'football25.jpg', 'football50.png', 'bowling51.jpeg', 'tabletennis14.jpg', 'golf27.jpg', 'bowling15.png', 'billiards45.png', 'tabletennis30.jpeg', 'soccer40.jpg', 'billiards29.jpg', 'basketball14.png', 'football19.jpg', 'basketball10.jpg', 'volleyball52.png', 'tabletennis41 (1).jpg', 'basketball20.jpg', 'soccer34.jpg', 'golf39.png', 'soccer06.jpg', 'tennis11.jpg', 'volleyball47.jpg', 'baseball21.png', 'tabletennis31.jpg', 'soccer01.jpg', 'basketball18 (1).jpg', 'basketball19 (1).jpg', 'football06.jpg', 'tennis37.png', 'football42.jpg', 'volleyball27.jpg', 'billiards36.png', 'tabletennis00.jpg', 'tennis19.png', 'tennis07.jpeg', 'bowling03.jpg', 'billiards42.jpg', 'baseball28.jpg', 'billiards30.png', 'tabletennis01.jpg', 'bowling09.jpeg', 'billiards47.png', 'bowling47.jpg', 'tabletennis53 (1).jpeg', 'bowling49.png', 'tabletennis39.png', 'billiards08.jpg', 'golf49.png', 'tennis49.png', 'tabletennis31 (1).jpg', 'golf23 (1).png', 'tabletennis33 (1).png', 'volleyball48.jpg', 'tennis30.png', 'bowling31.png', 'basketball03.png', 'volleyball39.png', 'bowling13.png', 'tabletennis15.jpg', 'soccer44.jpg', 'soccer48.png', 'billiards21.png', 'baseball41.jpg', 'baseball46.jpg', 'basketball26 (1).jpg', 'bowling42.jpg', 'golf36 (2).jpg', 'basketball25.jpg', 'basketball28.jpg', 'tabletennis23.png', 'football05.jpg', 'tennis36.png', 'tennis45.jpg', 'volleyball10.jpg', 'football15.jpg', 'billiards09.jpg', 'tabletennis27.jpg', 'baseball09.jpeg']\n"
          ]
        }
      ]
    },
    {
      "cell_type": "code",
      "source": [
        "m = 0\n",
        "balls_folder = []\n",
        "for file in data:\n",
        "  image = cv.imread(file)\n",
        "  if image.shape == (28,28,3):\n",
        "    balls_folder.append(image)\n",
        "  else:\n",
        "    m += 1\n",
        "print(str(m) + ' images were not rescaled to 28x28 and are now excluded.')"
      ],
      "metadata": {
        "id": "Arum7jCW8Byp",
        "outputId": "6bff762f-3476-4ca5-f7a4-dad53ff3c838",
        "colab": {
          "base_uri": "https://localhost:8080/"
        }
      },
      "execution_count": 7,
      "outputs": [
        {
          "output_type": "stream",
          "name": "stdout",
          "text": [
            "1 images were not rescaled to 28x28 and are now excluded.\n"
          ]
        }
      ]
    },
    {
      "cell_type": "code",
      "source": [
        "print(balls_folder[0].shape)\n",
        "print(len(balls_folder))"
      ],
      "metadata": {
        "id": "Y-4AZAPH8ukA",
        "outputId": "3df99687-a3c5-4b50-b977-c5432bc1bdb4",
        "colab": {
          "base_uri": "https://localhost:8080/"
        }
      },
      "execution_count": 8,
      "outputs": [
        {
          "output_type": "stream",
          "name": "stdout",
          "text": [
            "(28, 28, 3)\n",
            "553\n"
          ]
        }
      ]
    },
    {
      "cell_type": "code",
      "source": [
        "print(balls_folder[0])\n",
        "plt.matshow(balls_folder[552]) #sample ball image"
      ],
      "metadata": {
        "id": "9fZ3hwXF9kBH",
        "outputId": "4c5d118a-7114-4a40-f8e3-e9cea35c4e5c",
        "colab": {
          "base_uri": "https://localhost:8080/",
          "height": 1000
        }
      },
      "execution_count": 10,
      "outputs": [
        {
          "output_type": "stream",
          "name": "stdout",
          "text": [
            "[[[255 251 255]\n",
            "  [255 250 255]\n",
            "  [255 254 255]\n",
            "  ...\n",
            "  [246 253 255]\n",
            "  [249 251 255]\n",
            "  [253 253 255]]\n",
            "\n",
            " [[255 253 255]\n",
            "  [255 253 255]\n",
            "  [251 250 252]\n",
            "  ...\n",
            "  [248 254 255]\n",
            "  [252 253 255]\n",
            "  [253 252 254]]\n",
            "\n",
            " [[255 255 251]\n",
            "  [255 255 252]\n",
            "  [255 255 255]\n",
            "  ...\n",
            "  [253 255 255]\n",
            "  [255 255 254]\n",
            "  [255 254 250]]\n",
            "\n",
            " ...\n",
            "\n",
            " [[255 251 255]\n",
            "  [255 251 255]\n",
            "  [253 255 255]\n",
            "  ...\n",
            "  [255 255 252]\n",
            "  [255 255 252]\n",
            "  [255 255 252]]\n",
            "\n",
            " [[255 252 255]\n",
            "  [255 251 255]\n",
            "  [249 251 251]\n",
            "  ...\n",
            "  [255 255 252]\n",
            "  [250 255 255]\n",
            "  [246 255 255]]\n",
            "\n",
            " [[255 252 255]\n",
            "  [255 254 255]\n",
            "  [253 255 255]\n",
            "  ...\n",
            "  [255 255 252]\n",
            "  [246 255 255]\n",
            "  [243 253 255]]]\n"
          ]
        },
        {
          "output_type": "execute_result",
          "data": {
            "text/plain": [
              "<matplotlib.image.AxesImage at 0x7f756f2fa740>"
            ]
          },
          "metadata": {},
          "execution_count": 10
        },
        {
          "output_type": "display_data",
          "data": {
            "text/plain": [
              "<Figure size 480x480 with 1 Axes>"
            ],
            "image/png": "[encoded data removed]"
          },
          "metadata": {}
        }
      ]
    },
    {
      "cell_type": "code",
      "source": [
        "balls_flat = np.stack((balls_folder[i] for i in range(len(balls_folder))))\n",
        "print(balls_flat.shape)"
      ],
      "metadata": {
        "id": "Omkhs4PL99v1",
        "outputId": "f0ef5f25-e45d-49d8-c9c0-8bd841153aa6",
        "colab": {
          "base_uri": "https://localhost:8080/"
        }
      },
      "execution_count": 11,
      "outputs": [
        {
          "output_type": "stream",
          "name": "stdout",
          "text": [
            "(553, 28, 28, 3)\n"
          ]
        },
        {
          "output_type": "stream",
          "name": "stderr",
          "text": [
            "/usr/local/lib/python3.10/dist-packages/IPython/core/interactiveshell.py:3473: FutureWarning: arrays to stack must be passed as a \"sequence\" type such as list or tuple. Support for non-sequence iterables such as generators is deprecated as of NumPy 1.16 and will raise an error in the future.\n",
            "  if (await self.run_code(code, result,  async_=asy)):\n"
          ]
        }
      ]
    },
    {
      "cell_type": "code",
      "source": [
        "baseballXX    = 'baseball*'\n",
        "basketballXX  = 'basketball*'\n",
        "billiardsXX   = 'billiards*'\n",
        "bowlingXX     = 'bowling*'\n",
        "footballXX    = 'football*'\n",
        "golfXX        = 'golf*'\n",
        "soccerXX      = 'soccer*'\n",
        "tabletennisXX = 'tabletennis*'\n",
        "tennisXX      = 'tennis*'\n",
        "volleyballXX  = 'volleyball*'\n",
        "s_name         = []\n",
        "for filename in data:\n",
        "  image = cv.imread(filename)\n",
        "  if image.shape == (28,28,3):\n",
        "    if fnmatch.fnmatch(filename, baseballXX) == True:\n",
        "      s_name.append(0)\n",
        "    elif fnmatch.fnmatch(filename, basketballXX) == True:\n",
        "      s_name.append(1)\n",
        "    elif fnmatch.fnmatch(filename, billiardsXX) == True:\n",
        "      s_name.append(2)\n",
        "    elif fnmatch.fnmatch(filename, bowlingXX) == True:\n",
        "      s_name.append(3)\n",
        "    elif fnmatch.fnmatch(filename, footballXX) == True:\n",
        "      s_name.append(4)\n",
        "    elif fnmatch.fnmatch(filename, golfXX) == True:\n",
        "      s_name.append(5)\n",
        "    elif fnmatch.fnmatch(filename, soccerXX) == True:\n",
        "      s_name.append(6)\n",
        "    elif fnmatch.fnmatch(filename, tabletennisXX) == True:\n",
        "      s_name.append(7)\n",
        "    elif fnmatch.fnmatch(filename, tennisXX) == True:\n",
        "      s_name.append(8)\n",
        "    elif fnmatch.fnmatch(filename, volleyballXX) == True:\n",
        "      s_name.append(9)\n",
        "    else:\n",
        "      print(filename + str(' is not accounted.'))\n",
        "\n",
        "s_name = np.reshape(s_name, (len(s_name),))\n",
        "print(s_name.shape)\n",
        "print(s_name)"
      ],
      "metadata": {
        "id": "v98LNmumCoWW",
        "outputId": "f49f9e63-4459-4494-dd92-dbc9b7d38532",
        "colab": {
          "base_uri": "https://localhost:8080/"
        }
      },
      "execution_count": 12,
      "outputs": [
        {
          "output_type": "stream",
          "name": "stdout",
          "text": [
            "(553,)\n",
            "[9 5 9 0 6 0 5 8 8 1 1 1 6 8 7 7 8 7 5 2 9 1 7 6 1 0 5 3 6 9 4 4 1 3 2 0 9\n",
            " 4 2 3 6 5 4 4 5 7 4 0 7 3 9 5 8 1 1 4 0 9 9 1 3 2 7 1 4 9 7 6 1 8 9 7 5 1\n",
            " 3 5 1 5 5 2 4 0 8 1 3 0 9 0 2 4 1 8 2 7 6 5 0 1 7 4 3 0 4 0 1 9 3 9 6 1 2\n",
            " 4 2 9 8 4 2 5 4 2 8 7 2 8 1 7 1 7 1 4 6 5 7 1 1 2 7 1 8 4 6 0 4 7 7 5 3 7\n",
            " 1 2 1 3 8 6 5 9 7 5 7 2 8 5 9 1 5 3 6 6 9 5 0 9 0 4 5 8 5 7 6 3 1 4 5 3 0\n",
            " 6 3 7 2 3 1 9 7 3 5 4 2 4 6 5 2 6 7 3 3 7 2 6 1 8 2 5 4 2 2 8 5 1 3 4 4 8\n",
            " 6 0 5 0 5 0 9 8 5 3 8 5 2 9 1 5 1 0 3 4 7 9 3 4 6 7 6 4 3 1 8 2 1 2 1 6 1\n",
            " 1 7 3 3 4 2 5 9 9 0 4 7 2 5 8 4 5 7 1 4 1 1 4 2 8 5 3 9 0 5 5 4 5 6 4 4 8\n",
            " 7 7 3 9 0 6 5 7 7 6 9 8 8 3 6 7 9 2 9 5 5 9 1 4 1 1 1 3 7 4 5 4 5 5 0 0 6\n",
            " 8 5 1 2 0 3 0 0 1 8 8 2 6 5 2 1 8 0 4 9 6 8 0 3 7 4 6 1 7 0 3 4 9 6 9 4 0\n",
            " 6 2 4 6 8 7 1 6 3 6 0 8 5 5 9 6 8 8 9 5 0 3 8 5 1 1 3 5 0 6 4 1 6 1 7 9 5\n",
            " 6 1 0 8 7 7 1 8 8 1 8 9 9 3 2 1 7 2 0 2 4 5 7 1 4 6 2 5 7 2 9 3 5 5 6 8 0\n",
            " 5 0 0 5 0 5 9 7 8 5 7 5 0 0 9 5 4 0 1 6 0 3 2 9 1 0 2 5 6 4 9 5 4 4 3 7 5\n",
            " 3 2 7 6 2 1 4 1 9 7 1 6 5 6 8 9 0 7 6 1 1 4 8 4 9 2 7 8 8 3 2 0 2 7 3 2 3\n",
            " 7 3 7 2 5 8 7 5 7 9 8 3 1 9 3 7 6 6 2 0 0 1 3 5 1 1 7 4 8 8 9 4 2 7 0]\n"
          ]
        }
      ]
    },
    {
      "cell_type": "markdown",
      "source": [
        "#####**Preparing the Data**"
      ],
      "metadata": {
        "id": "gRtywxq-e_9v"
      }
    },
    {
      "cell_type": "code",
      "source": [
        "trainRatio = 75/100\n",
        "testRatio = 15/100\n",
        "valRatio = 10/100\n",
        "X_train,X_test,y_train, y_test = train_test_split(balls_flat, s_name, test_size = 1 - trainRatio)\n",
        "X_val,X_test,y_val, y_test = train_test_split(balls_flat, s_name, test_size = testRatio/(testRatio+valRatio))\n",
        "\n",
        "#trainRatio = 80/100\n",
        "#testRatio = 20/100\n",
        "#X_train,X_test, y_train, y_test = train_test_split(balls_flat, s_name, test_size = 1 - trainRatio)"
      ],
      "metadata": {
        "id": "T6yCmuVfrR8t"
      },
      "execution_count": 13,
      "outputs": []
    },
    {
      "cell_type": "code",
      "source": [
        "X_train = X_train/255\n",
        "X_test = X_test/255\n",
        "\n",
        "print(X_train.shape)\n",
        "print(X_test.shape)"
      ],
      "metadata": {
        "colab": {
          "base_uri": "https://localhost:8080/"
        },
        "id": "zSJpg4iLStf7",
        "outputId": "ba87109a-04b3-4409-94d6-d2100e9fad21"
      },
      "execution_count": 14,
      "outputs": [
        {
          "output_type": "stream",
          "name": "stdout",
          "text": [
            "(414, 28, 28, 3)\n",
            "(332, 28, 28, 3)\n"
          ]
        }
      ]
    },
    {
      "cell_type": "code",
      "source": [
        "X_train_flat = X_train.reshape(len(X_train),28,28,3)\n",
        "X_test_flat = X_test.reshape(len(X_test),28,28,3)\n",
        "print(X_train_flat.shape)\n",
        "print(X_test_flat.shape)"
      ],
      "metadata": {
        "id": "705bnkYTILbA",
        "colab": {
          "base_uri": "https://localhost:8080/"
        },
        "outputId": "b1966eca-74ad-4a8a-8c27-96fa63b9a44d"
      },
      "execution_count": 15,
      "outputs": [
        {
          "output_type": "stream",
          "name": "stdout",
          "text": [
            "(414, 28, 28, 3)\n",
            "(332, 28, 28, 3)\n"
          ]
        }
      ]
    },
    {
      "cell_type": "code",
      "source": [
        "print(X_train.shape)\n",
        "print(y_train.shape)"
      ],
      "metadata": {
        "colab": {
          "base_uri": "https://localhost:8080/"
        },
        "id": "NhSWbd92hy1Q",
        "outputId": "3d575918-be25-4d0f-dd74-d6a34bdec12f"
      },
      "execution_count": 16,
      "outputs": [
        {
          "output_type": "stream",
          "name": "stdout",
          "text": [
            "(414, 28, 28, 3)\n",
            "(414,)\n"
          ]
        }
      ]
    },
    {
      "cell_type": "markdown",
      "source": [
        "####**Defining the model**"
      ],
      "metadata": {
        "id": "te95nwDRkTlX"
      }
    },
    {
      "cell_type": "code",
      "source": [
        "model = tf.keras.models.Sequential([\n",
        "    tf.keras.layers.Conv2D(64, (3,3), activation='relu', input_shape=(28,28,3)),\n",
        "    tf.keras.layers.MaxPooling2D(2,2),\n",
        "    tf.keras.layers.Dropout(0.5),\n",
        "\n",
        "    tf.keras.layers.Conv2D(128, (3,3), activation='relu'),\n",
        "    tf.keras.layers.MaxPooling2D(2,2),\n",
        "    tf.keras.layers.Dropout(0.5),\n",
        "\n",
        "    tf.keras.layers.Conv2D(128, (3,3), activation='relu'),\n",
        "    tf.keras.layers.MaxPooling2D(2,2),\n",
        "  \n",
        "    tf.keras.layers.Dropout(0.5),\n",
        "    tf.keras.layers.Flatten(),   \n",
        "\n",
        "    tf.keras.layers.Dense(128, activation='relu'),\n",
        "    tf.keras.layers.Dense(10, activation='softmax')\n",
        "])\n",
        "model.summary()"
      ],
      "metadata": {
        "id": "--pzDKGzSsq7",
        "outputId": "976c8f6f-fa3b-4c4a-ba8e-cf64c36c79e3",
        "colab": {
          "base_uri": "https://localhost:8080/"
        }
      },
      "execution_count": 77,
      "outputs": [
        {
          "output_type": "stream",
          "name": "stdout",
          "text": [
            "Model: \"sequential_8\"\n",
            "_________________________________________________________________\n",
            " Layer (type)                Output Shape              Param #   \n",
            "=================================================================\n",
            " conv2d_25 (Conv2D)          (None, 26, 26, 64)        1792      \n",
            "                                                                 \n",
            " max_pooling2d_25 (MaxPoolin  (None, 13, 13, 64)       0         \n",
            " g2D)                                                            \n",
            "                                                                 \n",
            " dropout_24 (Dropout)        (None, 13, 13, 64)        0         \n",
            "                                                                 \n",
            " conv2d_26 (Conv2D)          (None, 11, 11, 128)       73856     \n",
            "                                                                 \n",
            " max_pooling2d_26 (MaxPoolin  (None, 5, 5, 128)        0         \n",
            " g2D)                                                            \n",
            "                                                                 \n",
            " dropout_25 (Dropout)        (None, 5, 5, 128)         0         \n",
            "                                                                 \n",
            " conv2d_27 (Conv2D)          (None, 3, 3, 128)         147584    \n",
            "                                                                 \n",
            " max_pooling2d_27 (MaxPoolin  (None, 1, 1, 128)        0         \n",
            " g2D)                                                            \n",
            "                                                                 \n",
            " dropout_26 (Dropout)        (None, 1, 1, 128)         0         \n",
            "                                                                 \n",
            " flatten_8 (Flatten)         (None, 128)               0         \n",
            "                                                                 \n",
            " dense_16 (Dense)            (None, 128)               16512     \n",
            "                                                                 \n",
            " dense_17 (Dense)            (None, 10)                1290      \n",
            "                                                                 \n",
            "=================================================================\n",
            "Total params: 241,034\n",
            "Trainable params: 241,034\n",
            "Non-trainable params: 0\n",
            "_________________________________________________________________\n"
          ]
        }
      ]
    },
    {
      "cell_type": "code",
      "source": [
        "model.compile(keras.optimizers.Adam(learning_rate=0.001),\n",
        "              loss = tf.keras.losses.SparseCategoricalCrossentropy(),\n",
        "              # loss = 'sparse_categorical_crossentropy',\n",
        "              metrics=['accuracy'])\n"
      ],
      "metadata": {
        "id": "6d43j7VSKi3w"
      },
      "execution_count": 78,
      "outputs": []
    },
    {
      "cell_type": "code",
      "source": [
        "history = model.fit(X_train, y_train, epochs=300, validation_data=(X_val, y_val), verbose=1)"
      ],
      "metadata": {
        "id": "ozgUZqSq_WBp",
        "colab": {
          "base_uri": "https://localhost:8080/"
        },
        "outputId": "66d4c6ee-c69f-4c40-f7de-280ac64aab15"
      },
      "execution_count": 79,
      "outputs": [
        {
          "output_type": "stream",
          "name": "stdout",
          "text": [
            "Epoch 1/300\n",
            "13/13 [==============================] - 3s 155ms/step - loss: 2.3398 - accuracy: 0.1063 - val_loss: 28.5905 - val_accuracy: 0.1538\n",
            "Epoch 2/300\n",
            "13/13 [==============================] - 3s 205ms/step - loss: 2.2691 - accuracy: 0.1473 - val_loss: 24.0782 - val_accuracy: 0.1176\n",
            "Epoch 3/300\n",
            "13/13 [==============================] - 2s 163ms/step - loss: 2.2654 - accuracy: 0.1643 - val_loss: 28.3584 - val_accuracy: 0.1674\n",
            "Epoch 4/300\n",
            "13/13 [==============================] - 1s 112ms/step - loss: 2.2101 - accuracy: 0.1981 - val_loss: 37.3607 - val_accuracy: 0.2534\n",
            "Epoch 5/300\n",
            "13/13 [==============================] - 2s 128ms/step - loss: 2.1294 - accuracy: 0.2246 - val_loss: 73.6357 - val_accuracy: 0.3529\n",
            "Epoch 6/300\n",
            "13/13 [==============================] - 1s 112ms/step - loss: 1.9792 - accuracy: 0.3309 - val_loss: 72.5073 - val_accuracy: 0.4118\n",
            "Epoch 7/300\n",
            "13/13 [==============================] - 1s 113ms/step - loss: 1.8934 - accuracy: 0.3406 - val_loss: 85.8563 - val_accuracy: 0.3665\n",
            "Epoch 8/300\n",
            "13/13 [==============================] - 1s 111ms/step - loss: 1.7557 - accuracy: 0.3575 - val_loss: 98.6910 - val_accuracy: 0.4525\n",
            "Epoch 9/300\n",
            "13/13 [==============================] - 2s 126ms/step - loss: 1.7280 - accuracy: 0.3865 - val_loss: 69.7522 - val_accuracy: 0.5294\n",
            "Epoch 10/300\n",
            "13/13 [==============================] - 2s 182ms/step - loss: 1.6313 - accuracy: 0.4541 - val_loss: 92.9683 - val_accuracy: 0.4389\n",
            "Epoch 11/300\n",
            "13/13 [==============================] - 3s 204ms/step - loss: 1.5474 - accuracy: 0.4783 - val_loss: 85.1649 - val_accuracy: 0.5113\n",
            "Epoch 12/300\n",
            "13/13 [==============================] - 2s 130ms/step - loss: 1.4930 - accuracy: 0.5121 - val_loss: 107.8221 - val_accuracy: 0.4434\n",
            "Epoch 13/300\n",
            "13/13 [==============================] - 1s 111ms/step - loss: 1.4104 - accuracy: 0.5266 - val_loss: 110.1708 - val_accuracy: 0.4434\n",
            "Epoch 14/300\n",
            "13/13 [==============================] - 1s 113ms/step - loss: 1.4066 - accuracy: 0.5435 - val_loss: 84.3594 - val_accuracy: 0.5339\n",
            "Epoch 15/300\n",
            "13/13 [==============================] - 1s 112ms/step - loss: 1.3422 - accuracy: 0.5362 - val_loss: 72.0780 - val_accuracy: 0.5430\n",
            "Epoch 16/300\n",
            "13/13 [==============================] - 1s 113ms/step - loss: 1.2859 - accuracy: 0.5435 - val_loss: 93.7228 - val_accuracy: 0.5158\n",
            "Epoch 17/300\n",
            "13/13 [==============================] - 1s 114ms/step - loss: 1.2527 - accuracy: 0.5870 - val_loss: 105.7393 - val_accuracy: 0.4842\n",
            "Epoch 18/300\n",
            "13/13 [==============================] - 2s 125ms/step - loss: 1.2114 - accuracy: 0.5870 - val_loss: 185.7574 - val_accuracy: 0.4072\n",
            "Epoch 19/300\n",
            "13/13 [==============================] - 3s 194ms/step - loss: 1.2150 - accuracy: 0.5821 - val_loss: 142.4014 - val_accuracy: 0.4615\n",
            "Epoch 20/300\n",
            "13/13 [==============================] - 2s 190ms/step - loss: 1.1701 - accuracy: 0.6208 - val_loss: 121.5706 - val_accuracy: 0.5158\n",
            "Epoch 21/300\n",
            "13/13 [==============================] - 1s 112ms/step - loss: 1.1097 - accuracy: 0.6232 - val_loss: 88.5719 - val_accuracy: 0.5837\n",
            "Epoch 22/300\n",
            "13/13 [==============================] - 1s 110ms/step - loss: 1.1819 - accuracy: 0.5870 - val_loss: 143.4830 - val_accuracy: 0.4977\n",
            "Epoch 23/300\n",
            "13/13 [==============================] - 1s 112ms/step - loss: 1.0584 - accuracy: 0.6473 - val_loss: 157.4206 - val_accuracy: 0.5023\n",
            "Epoch 24/300\n",
            "13/13 [==============================] - 1s 109ms/step - loss: 1.0187 - accuracy: 0.6449 - val_loss: 95.3942 - val_accuracy: 0.6199\n",
            "Epoch 25/300\n",
            "13/13 [==============================] - 2s 160ms/step - loss: 1.0149 - accuracy: 0.6691 - val_loss: 82.3538 - val_accuracy: 0.6335\n",
            "Epoch 26/300\n",
            "13/13 [==============================] - 2s 174ms/step - loss: 1.0124 - accuracy: 0.6546 - val_loss: 101.1703 - val_accuracy: 0.6063\n",
            "Epoch 27/300\n",
            "13/13 [==============================] - 3s 199ms/step - loss: 0.9364 - accuracy: 0.6594 - val_loss: 113.5328 - val_accuracy: 0.6018\n",
            "Epoch 28/300\n",
            "13/13 [==============================] - 2s 175ms/step - loss: 0.9349 - accuracy: 0.6739 - val_loss: 83.1493 - val_accuracy: 0.6606\n",
            "Epoch 29/300\n",
            "13/13 [==============================] - 1s 112ms/step - loss: 0.9778 - accuracy: 0.6618 - val_loss: 90.3164 - val_accuracy: 0.6109\n",
            "Epoch 30/300\n",
            "13/13 [==============================] - 1s 112ms/step - loss: 0.9259 - accuracy: 0.6787 - val_loss: 160.3926 - val_accuracy: 0.5158\n",
            "Epoch 31/300\n",
            "13/13 [==============================] - 1s 111ms/step - loss: 0.8980 - accuracy: 0.6739 - val_loss: 154.2228 - val_accuracy: 0.5158\n",
            "Epoch 32/300\n",
            "13/13 [==============================] - 1s 111ms/step - loss: 0.9373 - accuracy: 0.6787 - val_loss: 169.5073 - val_accuracy: 0.5023\n",
            "Epoch 33/300\n",
            "13/13 [==============================] - 1s 114ms/step - loss: 0.8928 - accuracy: 0.6981 - val_loss: 153.2802 - val_accuracy: 0.5339\n",
            "Epoch 34/300\n",
            "13/13 [==============================] - 2s 125ms/step - loss: 0.9391 - accuracy: 0.6836 - val_loss: 130.1371 - val_accuracy: 0.5747\n",
            "Epoch 35/300\n",
            "13/13 [==============================] - 2s 145ms/step - loss: 0.8236 - accuracy: 0.7077 - val_loss: 140.5199 - val_accuracy: 0.5973\n",
            "Epoch 36/300\n",
            "13/13 [==============================] - 3s 203ms/step - loss: 0.8075 - accuracy: 0.7271 - val_loss: 131.4449 - val_accuracy: 0.5792\n",
            "Epoch 37/300\n",
            "13/13 [==============================] - 2s 183ms/step - loss: 0.8496 - accuracy: 0.7126 - val_loss: 103.2170 - val_accuracy: 0.6471\n",
            "Epoch 38/300\n",
            "13/13 [==============================] - 1s 111ms/step - loss: 0.8003 - accuracy: 0.7198 - val_loss: 64.3759 - val_accuracy: 0.7149\n",
            "Epoch 39/300\n",
            "13/13 [==============================] - 2s 123ms/step - loss: 0.7451 - accuracy: 0.7512 - val_loss: 82.0636 - val_accuracy: 0.6878\n",
            "Epoch 40/300\n",
            "13/13 [==============================] - 1s 112ms/step - loss: 0.7854 - accuracy: 0.7464 - val_loss: 81.2895 - val_accuracy: 0.7014\n",
            "Epoch 41/300\n",
            "13/13 [==============================] - 1s 111ms/step - loss: 0.7191 - accuracy: 0.7633 - val_loss: 119.6876 - val_accuracy: 0.6516\n",
            "Epoch 42/300\n",
            "13/13 [==============================] - 1s 110ms/step - loss: 0.7511 - accuracy: 0.7729 - val_loss: 101.7762 - val_accuracy: 0.6380\n",
            "Epoch 43/300\n",
            "13/13 [==============================] - 1s 112ms/step - loss: 0.6991 - accuracy: 0.7705 - val_loss: 110.9703 - val_accuracy: 0.6742\n",
            "Epoch 44/300\n",
            "13/13 [==============================] - 2s 188ms/step - loss: 0.6560 - accuracy: 0.7754 - val_loss: 108.3107 - val_accuracy: 0.6697\n",
            "Epoch 45/300\n",
            "13/13 [==============================] - 3s 205ms/step - loss: 0.6808 - accuracy: 0.7705 - val_loss: 113.2885 - val_accuracy: 0.6516\n",
            "Epoch 46/300\n",
            "13/13 [==============================] - 2s 129ms/step - loss: 0.6963 - accuracy: 0.7536 - val_loss: 139.3297 - val_accuracy: 0.6516\n",
            "Epoch 47/300\n",
            "13/13 [==============================] - 1s 113ms/step - loss: 0.6454 - accuracy: 0.7850 - val_loss: 93.5083 - val_accuracy: 0.7104\n",
            "Epoch 48/300\n",
            "13/13 [==============================] - 2s 128ms/step - loss: 0.6798 - accuracy: 0.7729 - val_loss: 102.4779 - val_accuracy: 0.6968\n",
            "Epoch 49/300\n",
            "13/13 [==============================] - 1s 117ms/step - loss: 0.6273 - accuracy: 0.7899 - val_loss: 131.4080 - val_accuracy: 0.6244\n",
            "Epoch 50/300\n",
            "13/13 [==============================] - 2s 128ms/step - loss: 0.6184 - accuracy: 0.7923 - val_loss: 124.5225 - val_accuracy: 0.6471\n",
            "Epoch 51/300\n",
            "13/13 [==============================] - 1s 114ms/step - loss: 0.6291 - accuracy: 0.7923 - val_loss: 122.8150 - val_accuracy: 0.6606\n",
            "Epoch 52/300\n",
            "13/13 [==============================] - 2s 161ms/step - loss: 0.5414 - accuracy: 0.8164 - val_loss: 177.7130 - val_accuracy: 0.6199\n",
            "Epoch 53/300\n",
            "13/13 [==============================] - 3s 196ms/step - loss: 0.5947 - accuracy: 0.8213 - val_loss: 143.4191 - val_accuracy: 0.6199\n",
            "Epoch 54/300\n",
            "13/13 [==============================] - 2s 148ms/step - loss: 0.6485 - accuracy: 0.7657 - val_loss: 154.7163 - val_accuracy: 0.6018\n",
            "Epoch 55/300\n",
            "13/13 [==============================] - 2s 170ms/step - loss: 0.5828 - accuracy: 0.7971 - val_loss: 114.4595 - val_accuracy: 0.6968\n",
            "Epoch 56/300\n",
            "13/13 [==============================] - 2s 129ms/step - loss: 0.5799 - accuracy: 0.8188 - val_loss: 107.6602 - val_accuracy: 0.6968\n",
            "Epoch 57/300\n",
            "13/13 [==============================] - 1s 108ms/step - loss: 0.5336 - accuracy: 0.8213 - val_loss: 146.4784 - val_accuracy: 0.5973\n",
            "Epoch 58/300\n",
            "13/13 [==============================] - 1s 113ms/step - loss: 0.5494 - accuracy: 0.8140 - val_loss: 117.0607 - val_accuracy: 0.6697\n",
            "Epoch 59/300\n",
            "13/13 [==============================] - 1s 115ms/step - loss: 0.5672 - accuracy: 0.7947 - val_loss: 130.0272 - val_accuracy: 0.6606\n",
            "Epoch 60/300\n",
            "13/13 [==============================] - 2s 131ms/step - loss: 0.5294 - accuracy: 0.8357 - val_loss: 134.4422 - val_accuracy: 0.6561\n",
            "Epoch 61/300\n",
            "13/13 [==============================] - 3s 203ms/step - loss: 0.5280 - accuracy: 0.8213 - val_loss: 126.5967 - val_accuracy: 0.6742\n",
            "Epoch 62/300\n",
            "13/13 [==============================] - 2s 171ms/step - loss: 0.4628 - accuracy: 0.8599 - val_loss: 163.0147 - val_accuracy: 0.6063\n",
            "Epoch 63/300\n",
            "13/13 [==============================] - 1s 115ms/step - loss: 0.4817 - accuracy: 0.8551 - val_loss: 161.9843 - val_accuracy: 0.6652\n",
            "Epoch 64/300\n",
            "13/13 [==============================] - 1s 114ms/step - loss: 0.5379 - accuracy: 0.7923 - val_loss: 131.1743 - val_accuracy: 0.6968\n",
            "Epoch 65/300\n",
            "13/13 [==============================] - 1s 111ms/step - loss: 0.4584 - accuracy: 0.8454 - val_loss: 132.4411 - val_accuracy: 0.6606\n",
            "Epoch 66/300\n",
            "13/13 [==============================] - 1s 112ms/step - loss: 0.5009 - accuracy: 0.8309 - val_loss: 158.3039 - val_accuracy: 0.6425\n",
            "Epoch 67/300\n",
            "13/13 [==============================] - 2s 133ms/step - loss: 0.4394 - accuracy: 0.8237 - val_loss: 179.4719 - val_accuracy: 0.6063\n",
            "Epoch 68/300\n",
            "13/13 [==============================] - 2s 119ms/step - loss: 0.4335 - accuracy: 0.8551 - val_loss: 122.4082 - val_accuracy: 0.7059\n",
            "Epoch 69/300\n",
            "13/13 [==============================] - 2s 172ms/step - loss: 0.4615 - accuracy: 0.8285 - val_loss: 193.2964 - val_accuracy: 0.6471\n",
            "Epoch 70/300\n",
            "13/13 [==============================] - 3s 204ms/step - loss: 0.5148 - accuracy: 0.8502 - val_loss: 101.9500 - val_accuracy: 0.7240\n",
            "Epoch 71/300\n",
            "13/13 [==============================] - 2s 147ms/step - loss: 0.4959 - accuracy: 0.8164 - val_loss: 144.5013 - val_accuracy: 0.6380\n",
            "Epoch 72/300\n",
            "13/13 [==============================] - 1s 113ms/step - loss: 0.4540 - accuracy: 0.8382 - val_loss: 131.6893 - val_accuracy: 0.6199\n",
            "Epoch 73/300\n",
            "13/13 [==============================] - 2s 119ms/step - loss: 0.4391 - accuracy: 0.8478 - val_loss: 123.7422 - val_accuracy: 0.6833\n",
            "Epoch 74/300\n",
            "13/13 [==============================] - 1s 112ms/step - loss: 0.4040 - accuracy: 0.8599 - val_loss: 181.2043 - val_accuracy: 0.6471\n",
            "Epoch 75/300\n",
            "13/13 [==============================] - 1s 111ms/step - loss: 0.4319 - accuracy: 0.8551 - val_loss: 161.7164 - val_accuracy: 0.6109\n",
            "Epoch 76/300\n",
            "13/13 [==============================] - 2s 127ms/step - loss: 0.3734 - accuracy: 0.8671 - val_loss: 204.4934 - val_accuracy: 0.6380\n",
            "Epoch 77/300\n",
            "13/13 [==============================] - 2s 119ms/step - loss: 0.3936 - accuracy: 0.8744 - val_loss: 174.8504 - val_accuracy: 0.6516\n",
            "Epoch 78/300\n",
            "13/13 [==============================] - 3s 202ms/step - loss: 0.3748 - accuracy: 0.8623 - val_loss: 232.5181 - val_accuracy: 0.5882\n",
            "Epoch 79/300\n",
            "13/13 [==============================] - 4s 296ms/step - loss: 0.3757 - accuracy: 0.8671 - val_loss: 135.9954 - val_accuracy: 0.6968\n",
            "Epoch 80/300\n",
            "13/13 [==============================] - 1s 113ms/step - loss: 0.3899 - accuracy: 0.8671 - val_loss: 144.5956 - val_accuracy: 0.7104\n",
            "Epoch 81/300\n",
            "13/13 [==============================] - 2s 126ms/step - loss: 0.3612 - accuracy: 0.8792 - val_loss: 186.7724 - val_accuracy: 0.6244\n",
            "Epoch 82/300\n",
            "13/13 [==============================] - 1s 113ms/step - loss: 0.3805 - accuracy: 0.8623 - val_loss: 183.6293 - val_accuracy: 0.6109\n",
            "Epoch 83/300\n",
            "13/13 [==============================] - 1s 112ms/step - loss: 0.3666 - accuracy: 0.8768 - val_loss: 146.9444 - val_accuracy: 0.6833\n",
            "Epoch 84/300\n",
            "13/13 [==============================] - 1s 111ms/step - loss: 0.3401 - accuracy: 0.8720 - val_loss: 170.0148 - val_accuracy: 0.6697\n",
            "Epoch 85/300\n",
            "13/13 [==============================] - 2s 145ms/step - loss: 0.3494 - accuracy: 0.8816 - val_loss: 220.2637 - val_accuracy: 0.6018\n",
            "Epoch 86/300\n",
            "13/13 [==============================] - 3s 205ms/step - loss: 0.3766 - accuracy: 0.8816 - val_loss: 136.5012 - val_accuracy: 0.6787\n",
            "Epoch 87/300\n",
            "13/13 [==============================] - 2s 163ms/step - loss: 0.3264 - accuracy: 0.8986 - val_loss: 146.8826 - val_accuracy: 0.6968\n",
            "Epoch 88/300\n",
            "13/13 [==============================] - 1s 112ms/step - loss: 0.3762 - accuracy: 0.8744 - val_loss: 157.4539 - val_accuracy: 0.6833\n",
            "Epoch 89/300\n",
            "13/13 [==============================] - 2s 126ms/step - loss: 0.3355 - accuracy: 0.8671 - val_loss: 165.9784 - val_accuracy: 0.6606\n",
            "Epoch 90/300\n",
            "13/13 [==============================] - 1s 111ms/step - loss: 0.2905 - accuracy: 0.9058 - val_loss: 215.7941 - val_accuracy: 0.6244\n",
            "Epoch 91/300\n",
            "13/13 [==============================] - 1s 111ms/step - loss: 0.3354 - accuracy: 0.8720 - val_loss: 171.5557 - val_accuracy: 0.6561\n",
            "Epoch 92/300\n",
            "13/13 [==============================] - 1s 112ms/step - loss: 0.3590 - accuracy: 0.8720 - val_loss: 170.4404 - val_accuracy: 0.6878\n",
            "Epoch 93/300\n",
            "13/13 [==============================] - 1s 115ms/step - loss: 0.3590 - accuracy: 0.8744 - val_loss: 198.0661 - val_accuracy: 0.6199\n",
            "Epoch 94/300\n",
            "13/13 [==============================] - 2s 171ms/step - loss: 0.3706 - accuracy: 0.8841 - val_loss: 190.3858 - val_accuracy: 0.6425\n",
            "Epoch 95/300\n",
            "13/13 [==============================] - 3s 203ms/step - loss: 0.3102 - accuracy: 0.9010 - val_loss: 186.9651 - val_accuracy: 0.6606\n",
            "Epoch 96/300\n",
            "13/13 [==============================] - 2s 145ms/step - loss: 0.3367 - accuracy: 0.8961 - val_loss: 146.7275 - val_accuracy: 0.6697\n",
            "Epoch 97/300\n",
            "13/13 [==============================] - 1s 114ms/step - loss: 0.3029 - accuracy: 0.9106 - val_loss: 162.3810 - val_accuracy: 0.7149\n",
            "Epoch 98/300\n",
            "13/13 [==============================] - 1s 113ms/step - loss: 0.2581 - accuracy: 0.9034 - val_loss: 188.1912 - val_accuracy: 0.6290\n",
            "Epoch 99/300\n",
            "13/13 [==============================] - 2s 126ms/step - loss: 0.2933 - accuracy: 0.9106 - val_loss: 148.9674 - val_accuracy: 0.7014\n",
            "Epoch 100/300\n",
            "13/13 [==============================] - 1s 113ms/step - loss: 0.3081 - accuracy: 0.9106 - val_loss: 193.9764 - val_accuracy: 0.6561\n",
            "Epoch 101/300\n",
            "13/13 [==============================] - 1s 113ms/step - loss: 0.3455 - accuracy: 0.8720 - val_loss: 194.9327 - val_accuracy: 0.6199\n",
            "Epoch 102/300\n",
            "13/13 [==============================] - 2s 130ms/step - loss: 0.3012 - accuracy: 0.8913 - val_loss: 178.6450 - val_accuracy: 0.6516\n",
            "Epoch 103/300\n",
            "13/13 [==============================] - 3s 197ms/step - loss: 0.3092 - accuracy: 0.8841 - val_loss: 147.4601 - val_accuracy: 0.7195\n",
            "Epoch 104/300\n",
            "13/13 [==============================] - 2s 175ms/step - loss: 0.2639 - accuracy: 0.9106 - val_loss: 189.2145 - val_accuracy: 0.6652\n",
            "Epoch 105/300\n",
            "13/13 [==============================] - 1s 112ms/step - loss: 0.2731 - accuracy: 0.9082 - val_loss: 161.3920 - val_accuracy: 0.7014\n",
            "Epoch 106/300\n",
            "13/13 [==============================] - 1s 112ms/step - loss: 0.2573 - accuracy: 0.9155 - val_loss: 201.1437 - val_accuracy: 0.6787\n",
            "Epoch 107/300\n",
            "13/13 [==============================] - 1s 115ms/step - loss: 0.2567 - accuracy: 0.9082 - val_loss: 206.1057 - val_accuracy: 0.6561\n",
            "Epoch 108/300\n",
            "13/13 [==============================] - 1s 114ms/step - loss: 0.2860 - accuracy: 0.9179 - val_loss: 212.7582 - val_accuracy: 0.6606\n",
            "Epoch 109/300\n",
            "13/13 [==============================] - 2s 134ms/step - loss: 0.3065 - accuracy: 0.9082 - val_loss: 247.7942 - val_accuracy: 0.5792\n",
            "Epoch 110/300\n",
            "13/13 [==============================] - 1s 112ms/step - loss: 0.3267 - accuracy: 0.8961 - val_loss: 225.1394 - val_accuracy: 0.6290\n",
            "Epoch 111/300\n",
            "13/13 [==============================] - 2s 160ms/step - loss: 0.2981 - accuracy: 0.8913 - val_loss: 199.7091 - val_accuracy: 0.6471\n",
            "Epoch 112/300\n",
            "13/13 [==============================] - 3s 203ms/step - loss: 0.2762 - accuracy: 0.9058 - val_loss: 177.0729 - val_accuracy: 0.6290\n",
            "Epoch 113/300\n",
            "13/13 [==============================] - 2s 142ms/step - loss: 0.2440 - accuracy: 0.9227 - val_loss: 260.2852 - val_accuracy: 0.5430\n",
            "Epoch 114/300\n",
            "13/13 [==============================] - 2s 129ms/step - loss: 0.2409 - accuracy: 0.9130 - val_loss: 255.6143 - val_accuracy: 0.6109\n",
            "Epoch 115/300\n",
            "13/13 [==============================] - 1s 111ms/step - loss: 0.2266 - accuracy: 0.9251 - val_loss: 208.0318 - val_accuracy: 0.6561\n",
            "Epoch 116/300\n",
            "13/13 [==============================] - 2s 126ms/step - loss: 0.2565 - accuracy: 0.9106 - val_loss: 214.4979 - val_accuracy: 0.6652\n",
            "Epoch 117/300\n",
            "13/13 [==============================] - 1s 116ms/step - loss: 0.1814 - accuracy: 0.9372 - val_loss: 251.8544 - val_accuracy: 0.6380\n",
            "Epoch 118/300\n",
            "13/13 [==============================] - 1s 114ms/step - loss: 0.2304 - accuracy: 0.9155 - val_loss: 216.7277 - val_accuracy: 0.6742\n",
            "Epoch 119/300\n",
            "13/13 [==============================] - 1s 114ms/step - loss: 0.2473 - accuracy: 0.9130 - val_loss: 284.1108 - val_accuracy: 0.6154\n",
            "Epoch 120/300\n",
            "13/13 [==============================] - 3s 201ms/step - loss: 0.2586 - accuracy: 0.9058 - val_loss: 253.7979 - val_accuracy: 0.5747\n",
            "Epoch 121/300\n",
            "13/13 [==============================] - 2s 191ms/step - loss: 0.3030 - accuracy: 0.8913 - val_loss: 226.1313 - val_accuracy: 0.5973\n",
            "Epoch 122/300\n",
            "13/13 [==============================] - 1s 113ms/step - loss: 0.2615 - accuracy: 0.9155 - val_loss: 233.2122 - val_accuracy: 0.6425\n",
            "Epoch 123/300\n",
            "13/13 [==============================] - 1s 113ms/step - loss: 0.2725 - accuracy: 0.9082 - val_loss: 231.9704 - val_accuracy: 0.6154\n",
            "Epoch 124/300\n",
            "13/13 [==============================] - 1s 112ms/step - loss: 0.2229 - accuracy: 0.9130 - val_loss: 184.2706 - val_accuracy: 0.6471\n",
            "Epoch 125/300\n",
            "13/13 [==============================] - 1s 113ms/step - loss: 0.1994 - accuracy: 0.9396 - val_loss: 246.7399 - val_accuracy: 0.6063\n",
            "Epoch 126/300\n",
            "13/13 [==============================] - 1s 114ms/step - loss: 0.2283 - accuracy: 0.9227 - val_loss: 267.8453 - val_accuracy: 0.5928\n",
            "Epoch 127/300\n",
            "13/13 [==============================] - 1s 115ms/step - loss: 0.2268 - accuracy: 0.9227 - val_loss: 220.1797 - val_accuracy: 0.6109\n",
            "Epoch 128/300\n",
            "13/13 [==============================] - 2s 129ms/step - loss: 0.2250 - accuracy: 0.9179 - val_loss: 245.6354 - val_accuracy: 0.6109\n",
            "Epoch 129/300\n",
            "13/13 [==============================] - 3s 198ms/step - loss: 0.2149 - accuracy: 0.9275 - val_loss: 232.9474 - val_accuracy: 0.6154\n",
            "Epoch 130/300\n",
            "13/13 [==============================] - 2s 180ms/step - loss: 0.2345 - accuracy: 0.9179 - val_loss: 222.4458 - val_accuracy: 0.6335\n",
            "Epoch 131/300\n",
            "13/13 [==============================] - 1s 116ms/step - loss: 0.2615 - accuracy: 0.9010 - val_loss: 253.0876 - val_accuracy: 0.6561\n",
            "Epoch 132/300\n",
            "13/13 [==============================] - 1s 117ms/step - loss: 0.2337 - accuracy: 0.9155 - val_loss: 235.4199 - val_accuracy: 0.6199\n",
            "Epoch 133/300\n",
            "13/13 [==============================] - 1s 112ms/step - loss: 0.2069 - accuracy: 0.9275 - val_loss: 240.2890 - val_accuracy: 0.6652\n",
            "Epoch 134/300\n",
            "13/13 [==============================] - 1s 113ms/step - loss: 0.2036 - accuracy: 0.9372 - val_loss: 188.3818 - val_accuracy: 0.7149\n",
            "Epoch 135/300\n",
            "13/13 [==============================] - 1s 113ms/step - loss: 0.2357 - accuracy: 0.9420 - val_loss: 254.3015 - val_accuracy: 0.6516\n",
            "Epoch 136/300\n",
            "13/13 [==============================] - 1s 113ms/step - loss: 0.1991 - accuracy: 0.9203 - val_loss: 200.8912 - val_accuracy: 0.6833\n",
            "Epoch 137/300\n",
            "13/13 [==============================] - 2s 146ms/step - loss: 0.2460 - accuracy: 0.9082 - val_loss: 197.7778 - val_accuracy: 0.7149\n",
            "Epoch 138/300\n",
            "13/13 [==============================] - 3s 205ms/step - loss: 0.2713 - accuracy: 0.9058 - val_loss: 280.0656 - val_accuracy: 0.6154\n",
            "Epoch 139/300\n",
            "13/13 [==============================] - 2s 155ms/step - loss: 0.2054 - accuracy: 0.9300 - val_loss: 199.2815 - val_accuracy: 0.6652\n",
            "Epoch 140/300\n",
            "13/13 [==============================] - 1s 110ms/step - loss: 0.2029 - accuracy: 0.9348 - val_loss: 170.8417 - val_accuracy: 0.7149\n",
            "Epoch 141/300\n",
            "13/13 [==============================] - 1s 111ms/step - loss: 0.2063 - accuracy: 0.9300 - val_loss: 311.9073 - val_accuracy: 0.6018\n",
            "Epoch 142/300\n",
            "13/13 [==============================] - 1s 111ms/step - loss: 0.2104 - accuracy: 0.9348 - val_loss: 167.5758 - val_accuracy: 0.7149\n",
            "Epoch 143/300\n",
            "13/13 [==============================] - 1s 111ms/step - loss: 0.2089 - accuracy: 0.9275 - val_loss: 255.8864 - val_accuracy: 0.6561\n",
            "Epoch 144/300\n",
            "13/13 [==============================] - 1s 113ms/step - loss: 0.2535 - accuracy: 0.9227 - val_loss: 265.2985 - val_accuracy: 0.6833\n",
            "Epoch 145/300\n",
            "13/13 [==============================] - 1s 111ms/step - loss: 0.2736 - accuracy: 0.9034 - val_loss: 216.4203 - val_accuracy: 0.6968\n",
            "Epoch 146/300\n",
            "13/13 [==============================] - 2s 159ms/step - loss: 0.2030 - accuracy: 0.9275 - val_loss: 185.7876 - val_accuracy: 0.6787\n",
            "Epoch 147/300\n",
            "13/13 [==============================] - 3s 202ms/step - loss: 0.2409 - accuracy: 0.9106 - val_loss: 178.4753 - val_accuracy: 0.6742\n",
            "Epoch 148/300\n",
            "13/13 [==============================] - 2s 143ms/step - loss: 0.1988 - accuracy: 0.9420 - val_loss: 237.6631 - val_accuracy: 0.6833\n",
            "Epoch 149/300\n",
            "13/13 [==============================] - 2s 127ms/step - loss: 0.2045 - accuracy: 0.9275 - val_loss: 187.5894 - val_accuracy: 0.7285\n",
            "Epoch 150/300\n",
            "13/13 [==============================] - 1s 112ms/step - loss: 0.1822 - accuracy: 0.9324 - val_loss: 201.1530 - val_accuracy: 0.6878\n",
            "Epoch 151/300\n",
            "13/13 [==============================] - 1s 113ms/step - loss: 0.2133 - accuracy: 0.9155 - val_loss: 201.7068 - val_accuracy: 0.6742\n",
            "Epoch 152/300\n",
            "13/13 [==============================] - 1s 113ms/step - loss: 0.1831 - accuracy: 0.9324 - val_loss: 216.9397 - val_accuracy: 0.6244\n",
            "Epoch 153/300\n",
            "13/13 [==============================] - 1s 113ms/step - loss: 0.1937 - accuracy: 0.9348 - val_loss: 305.5860 - val_accuracy: 0.5973\n",
            "Epoch 154/300\n",
            "13/13 [==============================] - 1s 114ms/step - loss: 0.2300 - accuracy: 0.9203 - val_loss: 228.6949 - val_accuracy: 0.6923\n",
            "Epoch 155/300\n",
            "13/13 [==============================] - 2s 180ms/step - loss: 0.1825 - accuracy: 0.9372 - val_loss: 267.0618 - val_accuracy: 0.6063\n",
            "Epoch 156/300\n",
            "13/13 [==============================] - 3s 200ms/step - loss: 0.2078 - accuracy: 0.9324 - val_loss: 303.4918 - val_accuracy: 0.5656\n",
            "Epoch 157/300\n",
            "13/13 [==============================] - 2s 120ms/step - loss: 0.1598 - accuracy: 0.9348 - val_loss: 258.9902 - val_accuracy: 0.6290\n",
            "Epoch 158/300\n",
            "13/13 [==============================] - 2s 127ms/step - loss: 0.1961 - accuracy: 0.9227 - val_loss: 314.4964 - val_accuracy: 0.5973\n",
            "Epoch 159/300\n",
            "13/13 [==============================] - 1s 113ms/step - loss: 0.1783 - accuracy: 0.9493 - val_loss: 238.6782 - val_accuracy: 0.6244\n",
            "Epoch 160/300\n",
            "13/13 [==============================] - 1s 113ms/step - loss: 0.1577 - accuracy: 0.9396 - val_loss: 229.8269 - val_accuracy: 0.6199\n",
            "Epoch 161/300\n",
            "13/13 [==============================] - 1s 112ms/step - loss: 0.1897 - accuracy: 0.9348 - val_loss: 224.2380 - val_accuracy: 0.6923\n",
            "Epoch 162/300\n",
            "13/13 [==============================] - 1s 115ms/step - loss: 0.1915 - accuracy: 0.9444 - val_loss: 320.1589 - val_accuracy: 0.5792\n",
            "Epoch 163/300\n",
            "13/13 [==============================] - 2s 126ms/step - loss: 0.2114 - accuracy: 0.9300 - val_loss: 294.9358 - val_accuracy: 0.6380\n",
            "Epoch 164/300\n",
            "13/13 [==============================] - 2s 192ms/step - loss: 0.1662 - accuracy: 0.9324 - val_loss: 242.5771 - val_accuracy: 0.6833\n",
            "Epoch 165/300\n",
            "13/13 [==============================] - 3s 194ms/step - loss: 0.1584 - accuracy: 0.9565 - val_loss: 232.4769 - val_accuracy: 0.6561\n",
            "Epoch 166/300\n",
            "13/13 [==============================] - 1s 111ms/step - loss: 0.1431 - accuracy: 0.9541 - val_loss: 341.7663 - val_accuracy: 0.6018\n",
            "Epoch 167/300\n",
            "13/13 [==============================] - 2s 129ms/step - loss: 0.2704 - accuracy: 0.9203 - val_loss: 239.1224 - val_accuracy: 0.6923\n",
            "Epoch 168/300\n",
            "13/13 [==============================] - 2s 124ms/step - loss: 0.1867 - accuracy: 0.9420 - val_loss: 204.2571 - val_accuracy: 0.6923\n",
            "Epoch 169/300\n",
            "13/13 [==============================] - 2s 129ms/step - loss: 0.1873 - accuracy: 0.9348 - val_loss: 215.3249 - val_accuracy: 0.6742\n",
            "Epoch 170/300\n",
            "13/13 [==============================] - 2s 130ms/step - loss: 0.1345 - accuracy: 0.9565 - val_loss: 276.0961 - val_accuracy: 0.6425\n",
            "Epoch 171/300\n",
            "13/13 [==============================] - 1s 113ms/step - loss: 0.1564 - accuracy: 0.9493 - val_loss: 168.9102 - val_accuracy: 0.7195\n",
            "Epoch 172/300\n",
            "13/13 [==============================] - 2s 200ms/step - loss: 0.1377 - accuracy: 0.9614 - val_loss: 267.6979 - val_accuracy: 0.6335\n",
            "Epoch 173/300\n",
            "13/13 [==============================] - 3s 196ms/step - loss: 0.1626 - accuracy: 0.9469 - val_loss: 225.6640 - val_accuracy: 0.6923\n",
            "Epoch 174/300\n",
            "13/13 [==============================] - 1s 111ms/step - loss: 0.1569 - accuracy: 0.9420 - val_loss: 308.3360 - val_accuracy: 0.6471\n",
            "Epoch 175/300\n",
            "13/13 [==============================] - 1s 114ms/step - loss: 0.2355 - accuracy: 0.9227 - val_loss: 271.5739 - val_accuracy: 0.6561\n",
            "Epoch 176/300\n",
            "13/13 [==============================] - 2s 129ms/step - loss: 0.1870 - accuracy: 0.9348 - val_loss: 207.4407 - val_accuracy: 0.7059\n",
            "Epoch 177/300\n",
            "13/13 [==============================] - 2s 126ms/step - loss: 0.1864 - accuracy: 0.9469 - val_loss: 196.3369 - val_accuracy: 0.7104\n",
            "Epoch 178/300\n",
            "13/13 [==============================] - 1s 115ms/step - loss: 0.1435 - accuracy: 0.9565 - val_loss: 251.0170 - val_accuracy: 0.6742\n",
            "Epoch 179/300\n",
            "13/13 [==============================] - 1s 112ms/step - loss: 0.1287 - accuracy: 0.9589 - val_loss: 269.1639 - val_accuracy: 0.6380\n",
            "Epoch 180/300\n",
            "13/13 [==============================] - 2s 155ms/step - loss: 0.1606 - accuracy: 0.9372 - val_loss: 268.0192 - val_accuracy: 0.6742\n",
            "Epoch 181/300\n",
            "13/13 [==============================] - 3s 200ms/step - loss: 0.1340 - accuracy: 0.9517 - val_loss: 268.4003 - val_accuracy: 0.6380\n",
            "Epoch 182/300\n",
            "13/13 [==============================] - 2s 164ms/step - loss: 0.1797 - accuracy: 0.9420 - val_loss: 300.3628 - val_accuracy: 0.6199\n",
            "Epoch 183/300\n",
            "13/13 [==============================] - 2s 131ms/step - loss: 0.1553 - accuracy: 0.9517 - val_loss: 285.9342 - val_accuracy: 0.6606\n",
            "Epoch 184/300\n",
            "13/13 [==============================] - 2s 127ms/step - loss: 0.1796 - accuracy: 0.9348 - val_loss: 229.0173 - val_accuracy: 0.6742\n",
            "Epoch 185/300\n",
            "13/13 [==============================] - 1s 113ms/step - loss: 0.1637 - accuracy: 0.9444 - val_loss: 237.8767 - val_accuracy: 0.6833\n",
            "Epoch 186/300\n",
            "13/13 [==============================] - 1s 114ms/step - loss: 0.1317 - accuracy: 0.9614 - val_loss: 249.5606 - val_accuracy: 0.6787\n",
            "Epoch 187/300\n",
            "13/13 [==============================] - 2s 123ms/step - loss: 0.1303 - accuracy: 0.9638 - val_loss: 328.9051 - val_accuracy: 0.5928\n",
            "Epoch 188/300\n",
            "13/13 [==============================] - 2s 130ms/step - loss: 0.1108 - accuracy: 0.9662 - val_loss: 270.6326 - val_accuracy: 0.6923\n",
            "Epoch 189/300\n",
            "13/13 [==============================] - 3s 197ms/step - loss: 0.1480 - accuracy: 0.9638 - val_loss: 354.7079 - val_accuracy: 0.6199\n",
            "Epoch 190/300\n",
            "13/13 [==============================] - 2s 179ms/step - loss: 0.1933 - accuracy: 0.9396 - val_loss: 377.4735 - val_accuracy: 0.6290\n",
            "Epoch 191/300\n",
            "13/13 [==============================] - 2s 125ms/step - loss: 0.1229 - accuracy: 0.9565 - val_loss: 287.9931 - val_accuracy: 0.6652\n",
            "Epoch 192/300\n",
            "13/13 [==============================] - 1s 113ms/step - loss: 0.1337 - accuracy: 0.9614 - val_loss: 366.9889 - val_accuracy: 0.6018\n",
            "Epoch 193/300\n",
            "13/13 [==============================] - 1s 114ms/step - loss: 0.0952 - accuracy: 0.9662 - val_loss: 359.3764 - val_accuracy: 0.5973\n",
            "Epoch 194/300\n",
            "13/13 [==============================] - 1s 109ms/step - loss: 0.1629 - accuracy: 0.9324 - val_loss: 356.1403 - val_accuracy: 0.6109\n",
            "Epoch 195/300\n",
            "13/13 [==============================] - 1s 111ms/step - loss: 0.2297 - accuracy: 0.9300 - val_loss: 379.5865 - val_accuracy: 0.5611\n",
            "Epoch 196/300\n",
            "13/13 [==============================] - 1s 112ms/step - loss: 0.1680 - accuracy: 0.9517 - val_loss: 408.4124 - val_accuracy: 0.5204\n",
            "Epoch 197/300\n",
            "13/13 [==============================] - 2s 148ms/step - loss: 0.2339 - accuracy: 0.9179 - val_loss: 467.8523 - val_accuracy: 0.5204\n",
            "Epoch 198/300\n",
            "13/13 [==============================] - 3s 202ms/step - loss: 0.2593 - accuracy: 0.9227 - val_loss: 352.5746 - val_accuracy: 0.6380\n",
            "Epoch 199/300\n",
            "13/13 [==============================] - 2s 150ms/step - loss: 0.2128 - accuracy: 0.9179 - val_loss: 391.5655 - val_accuracy: 0.6335\n",
            "Epoch 200/300\n",
            "13/13 [==============================] - 1s 113ms/step - loss: 0.1920 - accuracy: 0.9300 - val_loss: 215.7942 - val_accuracy: 0.7285\n",
            "Epoch 201/300\n",
            "13/13 [==============================] - 1s 113ms/step - loss: 0.1785 - accuracy: 0.9372 - val_loss: 265.3341 - val_accuracy: 0.6697\n",
            "Epoch 202/300\n",
            "13/13 [==============================] - 1s 114ms/step - loss: 0.1177 - accuracy: 0.9589 - val_loss: 185.9847 - val_accuracy: 0.7330\n",
            "Epoch 203/300\n",
            "13/13 [==============================] - 1s 111ms/step - loss: 0.1530 - accuracy: 0.9372 - val_loss: 188.2479 - val_accuracy: 0.7285\n",
            "Epoch 204/300\n",
            "13/13 [==============================] - 1s 114ms/step - loss: 0.1547 - accuracy: 0.9444 - val_loss: 179.9293 - val_accuracy: 0.7285\n",
            "Epoch 205/300\n",
            "13/13 [==============================] - 1s 116ms/step - loss: 0.1411 - accuracy: 0.9589 - val_loss: 244.9215 - val_accuracy: 0.6742\n",
            "Epoch 206/300\n",
            "13/13 [==============================] - 2s 171ms/step - loss: 0.1422 - accuracy: 0.9517 - val_loss: 204.7859 - val_accuracy: 0.7376\n",
            "Epoch 207/300\n",
            "13/13 [==============================] - 3s 204ms/step - loss: 0.1572 - accuracy: 0.9396 - val_loss: 252.5848 - val_accuracy: 0.6742\n",
            "Epoch 208/300\n",
            "13/13 [==============================] - 2s 134ms/step - loss: 0.1613 - accuracy: 0.9469 - val_loss: 257.7509 - val_accuracy: 0.6652\n",
            "Epoch 209/300\n",
            "13/13 [==============================] - 1s 112ms/step - loss: 0.1391 - accuracy: 0.9541 - val_loss: 209.0540 - val_accuracy: 0.7376\n",
            "Epoch 210/300\n",
            "13/13 [==============================] - 1s 113ms/step - loss: 0.1296 - accuracy: 0.9517 - val_loss: 237.1344 - val_accuracy: 0.7285\n",
            "Epoch 211/300\n",
            "13/13 [==============================] - 1s 113ms/step - loss: 0.1481 - accuracy: 0.9444 - val_loss: 245.9814 - val_accuracy: 0.6833\n",
            "Epoch 212/300\n",
            "13/13 [==============================] - 1s 111ms/step - loss: 0.1591 - accuracy: 0.9324 - val_loss: 264.0375 - val_accuracy: 0.6652\n",
            "Epoch 213/300\n",
            "13/13 [==============================] - 1s 114ms/step - loss: 0.1855 - accuracy: 0.9324 - val_loss: 274.3131 - val_accuracy: 0.6561\n",
            "Epoch 214/300\n",
            "13/13 [==============================] - 1s 114ms/step - loss: 0.1505 - accuracy: 0.9469 - val_loss: 283.9971 - val_accuracy: 0.6425\n",
            "Epoch 215/300\n",
            "13/13 [==============================] - 2s 191ms/step - loss: 0.1335 - accuracy: 0.9541 - val_loss: 279.6683 - val_accuracy: 0.6787\n",
            "Epoch 216/300\n",
            "13/13 [==============================] - 3s 203ms/step - loss: 0.1466 - accuracy: 0.9541 - val_loss: 269.9106 - val_accuracy: 0.6968\n",
            "Epoch 217/300\n",
            "13/13 [==============================] - 2s 114ms/step - loss: 0.1430 - accuracy: 0.9517 - val_loss: 347.4560 - val_accuracy: 0.6290\n",
            "Epoch 218/300\n",
            "13/13 [==============================] - 2s 125ms/step - loss: 0.1331 - accuracy: 0.9565 - val_loss: 297.4264 - val_accuracy: 0.6833\n",
            "Epoch 219/300\n",
            "13/13 [==============================] - 1s 113ms/step - loss: 0.1293 - accuracy: 0.9565 - val_loss: 384.8852 - val_accuracy: 0.6109\n",
            "Epoch 220/300\n",
            "13/13 [==============================] - 2s 129ms/step - loss: 0.1475 - accuracy: 0.9444 - val_loss: 266.9873 - val_accuracy: 0.7285\n",
            "Epoch 221/300\n",
            "13/13 [==============================] - 2s 128ms/step - loss: 0.1538 - accuracy: 0.9372 - val_loss: 280.1266 - val_accuracy: 0.6923\n",
            "Epoch 222/300\n",
            "13/13 [==============================] - 1s 116ms/step - loss: 0.1388 - accuracy: 0.9517 - val_loss: 406.7856 - val_accuracy: 0.5656\n",
            "Epoch 223/300\n",
            "13/13 [==============================] - 2s 152ms/step - loss: 0.1503 - accuracy: 0.9493 - val_loss: 237.2688 - val_accuracy: 0.7104\n",
            "Epoch 224/300\n",
            "13/13 [==============================] - 3s 200ms/step - loss: 0.1316 - accuracy: 0.9493 - val_loss: 309.9089 - val_accuracy: 0.6290\n",
            "Epoch 225/300\n",
            "13/13 [==============================] - 2s 150ms/step - loss: 0.0920 - accuracy: 0.9710 - val_loss: 242.8069 - val_accuracy: 0.6923\n",
            "Epoch 226/300\n",
            "13/13 [==============================] - 1s 114ms/step - loss: 0.1685 - accuracy: 0.9372 - val_loss: 344.7791 - val_accuracy: 0.6425\n",
            "Epoch 227/300\n",
            "13/13 [==============================] - 1s 117ms/step - loss: 0.1515 - accuracy: 0.9541 - val_loss: 255.9436 - val_accuracy: 0.7195\n",
            "Epoch 228/300\n",
            "13/13 [==============================] - 1s 116ms/step - loss: 0.1556 - accuracy: 0.9469 - val_loss: 471.5152 - val_accuracy: 0.5385\n",
            "Epoch 229/300\n",
            "13/13 [==============================] - 1s 113ms/step - loss: 0.1371 - accuracy: 0.9517 - val_loss: 204.3943 - val_accuracy: 0.7285\n",
            "Epoch 230/300\n",
            "13/13 [==============================] - 1s 115ms/step - loss: 0.1675 - accuracy: 0.9300 - val_loss: 331.5090 - val_accuracy: 0.6244\n",
            "Epoch 231/300\n",
            "13/13 [==============================] - 1s 116ms/step - loss: 0.1129 - accuracy: 0.9686 - val_loss: 286.1557 - val_accuracy: 0.6742\n",
            "Epoch 232/300\n",
            "13/13 [==============================] - 2s 182ms/step - loss: 0.1353 - accuracy: 0.9565 - val_loss: 278.5465 - val_accuracy: 0.6787\n",
            "Epoch 233/300\n",
            "13/13 [==============================] - 3s 200ms/step - loss: 0.1273 - accuracy: 0.9493 - val_loss: 317.1936 - val_accuracy: 0.6606\n",
            "Epoch 234/300\n",
            "13/13 [==============================] - 2s 122ms/step - loss: 0.1363 - accuracy: 0.9565 - val_loss: 345.4093 - val_accuracy: 0.6290\n",
            "Epoch 235/300\n",
            "13/13 [==============================] - 1s 116ms/step - loss: 0.1585 - accuracy: 0.9541 - val_loss: 236.9396 - val_accuracy: 0.7240\n",
            "Epoch 236/300\n",
            "13/13 [==============================] - 2s 128ms/step - loss: 0.1872 - accuracy: 0.9420 - val_loss: 219.4911 - val_accuracy: 0.7195\n",
            "Epoch 237/300\n",
            "13/13 [==============================] - 2s 119ms/step - loss: 0.1820 - accuracy: 0.9469 - val_loss: 191.4339 - val_accuracy: 0.7104\n",
            "Epoch 238/300\n",
            "13/13 [==============================] - 1s 115ms/step - loss: 0.1421 - accuracy: 0.9565 - val_loss: 200.3298 - val_accuracy: 0.7059\n",
            "Epoch 239/300\n",
            "13/13 [==============================] - 2s 133ms/step - loss: 0.1594 - accuracy: 0.9420 - val_loss: 213.3355 - val_accuracy: 0.6968\n",
            "Epoch 240/300\n",
            "13/13 [==============================] - 2s 148ms/step - loss: 0.1389 - accuracy: 0.9493 - val_loss: 263.9536 - val_accuracy: 0.6516\n",
            "Epoch 241/300\n",
            "13/13 [==============================] - 3s 196ms/step - loss: 0.1530 - accuracy: 0.9493 - val_loss: 296.2863 - val_accuracy: 0.6425\n",
            "Epoch 242/300\n",
            "13/13 [==============================] - 2s 161ms/step - loss: 0.1238 - accuracy: 0.9493 - val_loss: 199.9572 - val_accuracy: 0.7240\n",
            "Epoch 243/300\n",
            "13/13 [==============================] - 1s 113ms/step - loss: 0.1500 - accuracy: 0.9517 - val_loss: 226.5744 - val_accuracy: 0.7014\n",
            "Epoch 244/300\n",
            "13/13 [==============================] - 1s 113ms/step - loss: 0.1314 - accuracy: 0.9493 - val_loss: 215.7578 - val_accuracy: 0.7014\n",
            "Epoch 245/300\n",
            "13/13 [==============================] - 1s 117ms/step - loss: 0.1304 - accuracy: 0.9541 - val_loss: 243.6971 - val_accuracy: 0.7149\n",
            "Epoch 246/300\n",
            "13/13 [==============================] - 1s 111ms/step - loss: 0.0965 - accuracy: 0.9614 - val_loss: 316.5196 - val_accuracy: 0.6290\n",
            "Epoch 247/300\n",
            "13/13 [==============================] - 2s 129ms/step - loss: 0.1174 - accuracy: 0.9614 - val_loss: 267.7215 - val_accuracy: 0.6923\n",
            "Epoch 248/300\n",
            "13/13 [==============================] - 1s 113ms/step - loss: 0.1428 - accuracy: 0.9469 - val_loss: 297.3902 - val_accuracy: 0.6471\n",
            "Epoch 249/300\n",
            "13/13 [==============================] - 2s 174ms/step - loss: 0.1642 - accuracy: 0.9517 - val_loss: 297.9853 - val_accuracy: 0.6244\n",
            "Epoch 250/300\n",
            "13/13 [==============================] - 3s 199ms/step - loss: 0.1390 - accuracy: 0.9493 - val_loss: 249.5895 - val_accuracy: 0.7285\n",
            "Epoch 251/300\n",
            "13/13 [==============================] - 2s 129ms/step - loss: 0.1404 - accuracy: 0.9493 - val_loss: 266.0485 - val_accuracy: 0.6833\n",
            "Epoch 252/300\n",
            "13/13 [==============================] - 1s 113ms/step - loss: 0.0959 - accuracy: 0.9686 - val_loss: 257.5525 - val_accuracy: 0.6833\n",
            "Epoch 253/300\n",
            "13/13 [==============================] - 1s 113ms/step - loss: 0.0820 - accuracy: 0.9831 - val_loss: 284.0456 - val_accuracy: 0.6606\n",
            "Epoch 254/300\n",
            "13/13 [==============================] - 1s 112ms/step - loss: 0.1088 - accuracy: 0.9565 - val_loss: 210.4020 - val_accuracy: 0.6923\n",
            "Epoch 255/300\n",
            "13/13 [==============================] - 1s 114ms/step - loss: 0.0839 - accuracy: 0.9734 - val_loss: 292.4621 - val_accuracy: 0.6380\n",
            "Epoch 256/300\n",
            "13/13 [==============================] - 1s 116ms/step - loss: 0.1175 - accuracy: 0.9614 - val_loss: 296.8290 - val_accuracy: 0.6516\n",
            "Epoch 257/300\n",
            "13/13 [==============================] - 2s 127ms/step - loss: 0.0859 - accuracy: 0.9734 - val_loss: 277.9930 - val_accuracy: 0.6697\n",
            "Epoch 258/300\n",
            "13/13 [==============================] - 2s 193ms/step - loss: 0.1032 - accuracy: 0.9710 - val_loss: 291.5926 - val_accuracy: 0.6606\n",
            "Epoch 259/300\n",
            "13/13 [==============================] - 3s 198ms/step - loss: 0.0849 - accuracy: 0.9734 - val_loss: 277.4910 - val_accuracy: 0.6787\n",
            "Epoch 260/300\n",
            "13/13 [==============================] - 1s 113ms/step - loss: 0.0844 - accuracy: 0.9710 - val_loss: 337.7165 - val_accuracy: 0.6516\n",
            "Epoch 261/300\n",
            "13/13 [==============================] - 1s 114ms/step - loss: 0.0998 - accuracy: 0.9614 - val_loss: 263.4022 - val_accuracy: 0.7014\n",
            "Epoch 262/300\n",
            "13/13 [==============================] - 2s 128ms/step - loss: 0.1388 - accuracy: 0.9493 - val_loss: 313.5822 - val_accuracy: 0.6471\n",
            "Epoch 263/300\n",
            "13/13 [==============================] - 1s 115ms/step - loss: 0.1195 - accuracy: 0.9614 - val_loss: 270.5260 - val_accuracy: 0.6787\n",
            "Epoch 264/300\n",
            "13/13 [==============================] - 1s 113ms/step - loss: 0.0950 - accuracy: 0.9710 - val_loss: 252.2208 - val_accuracy: 0.7104\n",
            "Epoch 265/300\n",
            "13/13 [==============================] - 1s 117ms/step - loss: 0.1073 - accuracy: 0.9589 - val_loss: 236.6550 - val_accuracy: 0.7195\n",
            "Epoch 266/300\n",
            "13/13 [==============================] - 2s 132ms/step - loss: 0.0878 - accuracy: 0.9734 - val_loss: 269.7458 - val_accuracy: 0.6968\n",
            "Epoch 267/300\n",
            "13/13 [==============================] - 3s 198ms/step - loss: 0.1082 - accuracy: 0.9686 - val_loss: 258.9690 - val_accuracy: 0.6787\n",
            "Epoch 268/300\n",
            "13/13 [==============================] - 2s 175ms/step - loss: 0.1640 - accuracy: 0.9541 - val_loss: 301.8934 - val_accuracy: 0.6833\n",
            "Epoch 269/300\n",
            "13/13 [==============================] - 2s 125ms/step - loss: 0.1607 - accuracy: 0.9517 - val_loss: 282.3833 - val_accuracy: 0.6968\n",
            "Epoch 270/300\n",
            "13/13 [==============================] - 1s 116ms/step - loss: 0.1223 - accuracy: 0.9565 - val_loss: 372.4161 - val_accuracy: 0.5882\n",
            "Epoch 271/300\n",
            "13/13 [==============================] - 1s 113ms/step - loss: 0.1075 - accuracy: 0.9662 - val_loss: 289.3347 - val_accuracy: 0.6923\n",
            "Epoch 272/300\n",
            "13/13 [==============================] - 1s 115ms/step - loss: 0.1272 - accuracy: 0.9420 - val_loss: 296.2614 - val_accuracy: 0.6199\n",
            "Epoch 273/300\n",
            "13/13 [==============================] - 2s 148ms/step - loss: 0.1261 - accuracy: 0.9589 - val_loss: 291.1248 - val_accuracy: 0.6787\n",
            "Epoch 274/300\n",
            "13/13 [==============================] - 2s 147ms/step - loss: 0.1551 - accuracy: 0.9348 - val_loss: 273.1867 - val_accuracy: 0.6787\n",
            "Epoch 275/300\n",
            "13/13 [==============================] - 3s 223ms/step - loss: 0.0990 - accuracy: 0.9758 - val_loss: 321.5431 - val_accuracy: 0.6063\n",
            "Epoch 276/300\n",
            "13/13 [==============================] - 3s 261ms/step - loss: 0.1034 - accuracy: 0.9589 - val_loss: 278.0506 - val_accuracy: 0.6561\n",
            "Epoch 277/300\n",
            "13/13 [==============================] - 2s 170ms/step - loss: 0.2040 - accuracy: 0.9396 - val_loss: 296.8288 - val_accuracy: 0.6787\n",
            "Epoch 278/300\n",
            "13/13 [==============================] - 1s 115ms/step - loss: 0.1388 - accuracy: 0.9565 - val_loss: 389.5175 - val_accuracy: 0.5611\n",
            "Epoch 279/300\n",
            "13/13 [==============================] - 1s 115ms/step - loss: 0.2000 - accuracy: 0.9444 - val_loss: 253.8060 - val_accuracy: 0.6787\n",
            "Epoch 280/300\n",
            "13/13 [==============================] - 1s 115ms/step - loss: 0.1377 - accuracy: 0.9614 - val_loss: 270.0665 - val_accuracy: 0.6787\n",
            "Epoch 281/300\n",
            "13/13 [==============================] - 2s 126ms/step - loss: 0.1397 - accuracy: 0.9541 - val_loss: 258.8862 - val_accuracy: 0.7014\n",
            "Epoch 282/300\n",
            "13/13 [==============================] - 1s 116ms/step - loss: 0.0938 - accuracy: 0.9710 - val_loss: 345.3190 - val_accuracy: 0.6380\n",
            "Epoch 283/300\n",
            "13/13 [==============================] - 2s 121ms/step - loss: 0.1341 - accuracy: 0.9662 - val_loss: 372.7068 - val_accuracy: 0.6244\n",
            "Epoch 284/300\n",
            "13/13 [==============================] - 2s 184ms/step - loss: 0.1776 - accuracy: 0.9444 - val_loss: 258.0728 - val_accuracy: 0.7014\n",
            "Epoch 285/300\n",
            "13/13 [==============================] - 3s 197ms/step - loss: 0.1732 - accuracy: 0.9493 - val_loss: 260.0009 - val_accuracy: 0.7104\n",
            "Epoch 286/300\n",
            "13/13 [==============================] - 2s 131ms/step - loss: 0.0920 - accuracy: 0.9734 - val_loss: 383.5364 - val_accuracy: 0.6335\n",
            "Epoch 287/300\n",
            "13/13 [==============================] - 1s 113ms/step - loss: 0.1034 - accuracy: 0.9614 - val_loss: 319.0144 - val_accuracy: 0.6561\n",
            "Epoch 288/300\n",
            "13/13 [==============================] - 1s 116ms/step - loss: 0.1119 - accuracy: 0.9517 - val_loss: 324.5970 - val_accuracy: 0.6471\n",
            "Epoch 289/300\n",
            "13/13 [==============================] - 1s 116ms/step - loss: 0.1072 - accuracy: 0.9638 - val_loss: 255.1846 - val_accuracy: 0.7330\n",
            "Epoch 290/300\n",
            "13/13 [==============================] - 1s 116ms/step - loss: 0.1177 - accuracy: 0.9469 - val_loss: 263.6279 - val_accuracy: 0.6697\n",
            "Epoch 291/300\n",
            "13/13 [==============================] - 1s 115ms/step - loss: 0.1191 - accuracy: 0.9589 - val_loss: 318.1293 - val_accuracy: 0.6425\n",
            "Epoch 292/300\n",
            "13/13 [==============================] - 2s 142ms/step - loss: 0.0716 - accuracy: 0.9734 - val_loss: 301.1784 - val_accuracy: 0.6968\n",
            "Epoch 293/300\n",
            "13/13 [==============================] - 3s 195ms/step - loss: 0.1104 - accuracy: 0.9517 - val_loss: 313.2907 - val_accuracy: 0.7014\n",
            "Epoch 294/300\n",
            "13/13 [==============================] - 2s 186ms/step - loss: 0.1391 - accuracy: 0.9517 - val_loss: 365.8315 - val_accuracy: 0.6652\n",
            "Epoch 295/300\n",
            "13/13 [==============================] - 1s 116ms/step - loss: 0.0823 - accuracy: 0.9686 - val_loss: 225.9585 - val_accuracy: 0.7647\n",
            "Epoch 296/300\n",
            "13/13 [==============================] - 1s 113ms/step - loss: 0.1256 - accuracy: 0.9565 - val_loss: 421.8862 - val_accuracy: 0.6335\n",
            "Epoch 297/300\n",
            "13/13 [==============================] - 2s 117ms/step - loss: 0.1656 - accuracy: 0.9469 - val_loss: 250.7312 - val_accuracy: 0.7240\n",
            "Epoch 298/300\n",
            "13/13 [==============================] - 1s 116ms/step - loss: 0.0865 - accuracy: 0.9807 - val_loss: 485.7033 - val_accuracy: 0.5204\n",
            "Epoch 299/300\n",
            "13/13 [==============================] - 2s 115ms/step - loss: 0.1478 - accuracy: 0.9541 - val_loss: 226.6279 - val_accuracy: 0.7240\n",
            "Epoch 300/300\n",
            "13/13 [==============================] - 1s 116ms/step - loss: 0.1345 - accuracy: 0.9589 - val_loss: 294.7136 - val_accuracy: 0.6697\n"
          ]
        }
      ]
    },
    {
      "cell_type": "code",
      "source": [
        "model.evaluate(X_test_flat, y_test)"
      ],
      "metadata": {
        "colab": {
          "base_uri": "https://localhost:8080/"
        },
        "id": "5rzRdznFHhRb",
        "outputId": "81f4e34d-934c-4060-8e30-ba449fd0cbcd"
      },
      "execution_count": 80,
      "outputs": [
        {
          "output_type": "stream",
          "name": "stdout",
          "text": [
            "11/11 [==============================] - 1s 39ms/step - loss: 0.3923 - accuracy: 0.9458\n"
          ]
        },
        {
          "output_type": "execute_result",
          "data": {
            "text/plain": [
              "[0.3922939598560333, 0.9457831382751465]"
            ]
          },
          "metadata": {},
          "execution_count": 80
        }
      ]
    },
    {
      "cell_type": "code",
      "source": [
        "pd.DataFrame(history.history).plot(figsize=(5,4))\n",
        "plt.grid(True)\n",
        "plt.gca().set_ylim(0,1)\n",
        "plt.show()"
      ],
      "metadata": {
        "id": "r4y9s-v9LKdn",
        "outputId": "08bb7b2f-8edc-4efc-a04f-9f6d18412324",
        "colab": {
          "base_uri": "https://localhost:8080/",
          "height": 372
        }
      },
      "execution_count": 81,
      "outputs": [
        {
          "output_type": "display_data",
          "data": {
            "text/plain": [
              "<Figure size 500x400 with 1 Axes>"
            ],
            "image/png": "[encoded data removed]"
          },
          "metadata": {}
        }
      ]
    },
    {
      "cell_type": "code",
      "source": [
        "prediction = model.predict(X_test_flat)\n",
        "print(prediction)"
      ],
      "metadata": {
        "id": "eZzsWgVeLn7f",
        "outputId": "07f56515-8171-4b9c-a67f-c10d1ab76332",
        "colab": {
          "base_uri": "https://localhost:8080/"
        }
      },
      "execution_count": 82,
      "outputs": [
        {
          "output_type": "stream",
          "name": "stdout",
          "text": [
            "11/11 [==============================] - 1s 36ms/step\n",
            "[[2.4581039e-05 2.0065097e-07 1.3923524e-05 ... 9.9928570e-01\n",
            "  4.0788858e-05 4.1148619e-04]\n",
            " [2.2276285e-09 9.9975276e-01 1.7647800e-06 ... 1.3746167e-06\n",
            "  6.2997191e-10 1.1994068e-06]\n",
            " [9.9965835e-01 1.6564492e-08 2.5127079e-05 ... 6.3843123e-05\n",
            "  3.4315850e-08 1.3628044e-05]\n",
            " ...\n",
            " [5.8219666e-16 8.1474527e-16 1.5019632e-14 ... 4.0085762e-21\n",
            "  2.0955569e-21 2.2147241e-15]\n",
            " [4.7900710e-07 4.7375781e-15 2.5979259e-11 ... 9.4461883e-10\n",
            "  4.6269605e-18 1.0989495e-10]\n",
            " [9.9613094e-01 4.8550614e-08 1.1711645e-05 ... 2.6639469e-04\n",
            "  1.2453855e-08 3.4052712e-06]]\n"
          ]
        }
      ]
    },
    {
      "cell_type": "code",
      "source": [
        "print(prediction[0])"
      ],
      "metadata": {
        "id": "J6x-fn1vLrqD",
        "outputId": "f903b1d6-27db-4d29-c22a-9d4529bdf7cc",
        "colab": {
          "base_uri": "https://localhost:8080/"
        }
      },
      "execution_count": 83,
      "outputs": [
        {
          "output_type": "stream",
          "name": "stdout",
          "text": [
            "[2.4581039e-05 2.0065097e-07 1.3923524e-05 5.8454052e-08 5.8245307e-05\n",
            " 1.5793325e-04 7.1783311e-06 9.9928570e-01 4.0788858e-05 4.1148619e-04]\n"
          ]
        }
      ]
    },
    {
      "cell_type": "code",
      "source": [
        "np.argmax(prediction[0])"
      ],
      "metadata": {
        "id": "XOFpGwj3Lvvv",
        "outputId": "c68e1655-ee87-4354-e6f7-482b4d239cc7",
        "colab": {
          "base_uri": "https://localhost:8080/"
        }
      },
      "execution_count": 84,
      "outputs": [
        {
          "output_type": "execute_result",
          "data": {
            "text/plain": [
              "7"
            ]
          },
          "metadata": {},
          "execution_count": 84
        }
      ]
    },
    {
      "cell_type": "code",
      "source": [
        "plt.matshow(balls_folder[0])"
      ],
      "metadata": {
        "id": "zOPlOku7LymC",
        "outputId": "34e513d5-d5ea-47d1-eedb-ea1971cf67b0",
        "colab": {
          "base_uri": "https://localhost:8080/",
          "height": 452
        }
      },
      "execution_count": 85,
      "outputs": [
        {
          "output_type": "execute_result",
          "data": {
            "text/plain": [
              "<matplotlib.image.AxesImage at 0x7f754d5a8130>"
            ]
          },
          "metadata": {},
          "execution_count": 85
        },
        {
          "output_type": "display_data",
          "data": {
            "text/plain": [
              "<Figure size 480x480 with 1 Axes>"
            ],
            "image/png": "[encoded data removed]"
          },
          "metadata": {}
        }
      ]
    },
    {
      "cell_type": "code",
      "source": [
        "predicted_labels = [np.argmax(i) for i in prediction]"
      ],
      "metadata": {
        "id": "AzD4-3i2NbfZ"
      },
      "execution_count": 86,
      "outputs": []
    },
    {
      "cell_type": "code",
      "source": [
        "cm = confusion_matrix(y_test, prediction.argmax(axis=1))\n",
        "print(cm)"
      ],
      "metadata": {
        "id": "r6HMwYehNjxu",
        "outputId": "c897678e-d386-4daf-b4a7-07c82e13ea02",
        "colab": {
          "base_uri": "https://localhost:8080/"
        }
      },
      "execution_count": 87,
      "outputs": [
        {
          "output_type": "stream",
          "name": "stdout",
          "text": [
            "[[30  0  0  0  0  1  0  1  0  1]\n",
            " [ 0 36  0  0  0  0  0  0  0  0]\n",
            " [ 1  0 29  0  0  1  0  0  0  0]\n",
            " [ 0  0  0 30  0  0  0  0  0  0]\n",
            " [ 1  0  0  0 33  0  0  0  0  0]\n",
            " [ 1  0  0  0  0 36  0  0  2  0]\n",
            " [ 0  0  0  1  0  0 27  0  0  0]\n",
            " [ 0  0  0  0  0  1  0 39  0  1]\n",
            " [ 0  0  0  0  0  0  0  1 28  0]\n",
            " [ 0  0  1  0  1  1  1  1  0 26]]\n"
          ]
        }
      ]
    },
    {
      "cell_type": "code",
      "source": [
        "import seaborn as sn\n",
        "plt.figure(figsize = (5,5))\n",
        "sn.heatmap(cm, annot=True, fmt='d')\n",
        "plt.xlabel('Predicted Label')\n",
        "plt.ylabel('True Label')"
      ],
      "metadata": {
        "id": "YNS1gYmSN9Ie",
        "outputId": "6cb3dbe4-e4e0-4d1d-b957-7042d4951c09",
        "colab": {
          "base_uri": "https://localhost:8080/",
          "height": 481
        }
      },
      "execution_count": 88,
      "outputs": [
        {
          "output_type": "execute_result",
          "data": {
            "text/plain": [
              "Text(33.22222222222222, 0.5, 'True Label')"
            ]
          },
          "metadata": {},
          "execution_count": 88
        },
        {
          "output_type": "display_data",
          "data": {
            "text/plain": [
              "<Figure size 500x500 with 2 Axes>"
            ],
            "image/png": "[encoded data removed]"
          },
          "metadata": {}
        }
      ]
    },
    {
      "cell_type": "code",
      "source": [
        "accuracy = 100*np.trace(cm)/np.sum(cm)\n",
        "print(accuracy)"
      ],
      "metadata": {
        "id": "E9levH7POD9u",
        "outputId": "c846a62e-aa73-4702-d0cc-5670b2af95d3",
        "colab": {
          "base_uri": "https://localhost:8080/"
        }
      },
      "execution_count": 89,
      "outputs": [
        {
          "output_type": "stream",
          "name": "stdout",
          "text": [
            "94.57831325301204\n"
          ]
        }
      ]
    }
  ]
}