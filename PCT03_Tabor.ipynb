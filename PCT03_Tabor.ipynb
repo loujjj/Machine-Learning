{
  "nbformat": 4,
  "nbformat_minor": 0,
  "metadata": {
    "colab": {
      "provenance": [],
      "include_colab_link": true
    },
    "kernelspec": {
      "name": "python3",
      "display_name": "Python 3"
    },
    "language_info": {
      "name": "python"
    }
  },
  "cells": [
    {
      "cell_type": "markdown",
      "metadata": {
        "id": "view-in-github",
        "colab_type": "text"
      },
      "source": [
        "<a href=\"https://colab.research.google.com/github/loujjj/Machine-Learning/blob/main/PCT03_Tabor.ipynb\" target=\"_parent\"><img src=\"https://colab.research.google.com/assets/colab-badge.svg\" alt=\"Open In Colab\"/></a>"
      ]
    },
    {
      "cell_type": "markdown",
      "source": [
        "##**Classification of Walk vs Run**"
      ],
      "metadata": {
        "id": "w12W2G-6c32h"
      }
    },
    {
      "cell_type": "markdown",
      "source": [
        "####**Importing the Necessary Libraries**"
      ],
      "metadata": {
        "id": "19trjlLic6EL"
      }
    },
    {
      "cell_type": "code",
      "execution_count": 1,
      "metadata": {
        "id": "XPZnl1jNcuB1"
      },
      "outputs": [],
      "source": [
        "import numpy as np\n",
        "import matplotlib.pyplot as plt\n",
        "import pandas as pd\n",
        "\n",
        "import tensorflow as tf\n",
        "from tensorflow import keras\n",
        "from tensorflow.keras.models import Sequential\n",
        "from tensorflow.keras.layers import Dense, Conv1D, Dropout, Flatten, MaxPooling1D\n",
        "\n",
        "from sklearn import datasets\n",
        "from sklearn.preprocessing import LabelEncoder\n",
        "from sklearn.model_selection import train_test_split\n",
        "from sklearn.metrics import confusion_matrix, ConfusionMatrixDisplay"
      ]
    },
    {
      "cell_type": "markdown",
      "source": [
        "####**Importing and Preparing the Data**"
      ],
      "metadata": {
        "id": "21I4-WljdB3r"
      }
    },
    {
      "cell_type": "markdown",
      "source": [
        "#####**Importing the Data**"
      ],
      "metadata": {
        "id": "-z48xONBdGc0"
      }
    },
    {
      "cell_type": "code",
      "source": [
        "from google.colab import drive\n",
        "drive.mount('/content/gdrive/', force_remount=True)"
      ],
      "metadata": {
        "id": "a0VllYJydK2L",
        "outputId": "9db6cbda-f135-4345-b408-fe4f3e6b0a55",
        "colab": {
          "base_uri": "https://localhost:8080/"
        }
      },
      "execution_count": 2,
      "outputs": [
        {
          "output_type": "stream",
          "name": "stdout",
          "text": [
            "Mounted at /content/gdrive/\n"
          ]
        }
      ]
    },
    {
      "cell_type": "code",
      "source": [
        "cd gdrive/MyDrive/'Colab Notebooks'/Book/Datasets"
      ],
      "metadata": {
        "colab": {
          "base_uri": "https://localhost:8080/"
        },
        "id": "ATHuKHGmGqhd",
        "outputId": "757fa9e9-a8ce-4a59-d8ff-f0d23aae15dc"
      },
      "execution_count": 3,
      "outputs": [
        {
          "output_type": "stream",
          "name": "stdout",
          "text": [
            "/content/gdrive/MyDrive/Colab Notebooks/Book/Datasets\n"
          ]
        }
      ]
    },
    {
      "cell_type": "markdown",
      "source": [
        "**NOTE: You have to save the attached csv file to one of your subfolders in Google Drive and change the name of the subfolder below, accordingly.**"
      ],
      "metadata": {
        "id": "lUPIQIxqIfvI"
      }
    },
    {
      "cell_type": "code",
      "source": [
        "ls"
      ],
      "metadata": {
        "id": "R6Vx8Cz4dRf4",
        "colab": {
          "base_uri": "https://localhost:8080/"
        },
        "outputId": "4ffbea96-c52f-4a54-9b82-af7db84b4e26"
      },
      "execution_count": 4,
      "outputs": [
        {
          "output_type": "stream",
          "name": "stdout",
          "text": [
            "walkvsrun.csv\n"
          ]
        }
      ]
    },
    {
      "cell_type": "markdown",
      "source": [
        "The walk vs run data set."
      ],
      "metadata": {
        "id": "vRcVKbYBdUSj"
      }
    },
    {
      "cell_type": "code",
      "source": [
        "dataset = pd.read_csv('walkvsrun.csv', header=None)\n",
        "print(dataset.info())"
      ],
      "metadata": {
        "id": "u4jOD3KtdSBj",
        "colab": {
          "base_uri": "https://localhost:8080/"
        },
        "outputId": "c6a67b0f-2ae9-4344-875c-e58f59554196"
      },
      "execution_count": 5,
      "outputs": [
        {
          "output_type": "stream",
          "name": "stdout",
          "text": [
            "<class 'pandas.core.frame.DataFrame'>\n",
            "RangeIndex: 192 entries, 0 to 191\n",
            "Columns: 5201 entries, 0 to 5200\n",
            "dtypes: float64(5200), int64(1)\n",
            "memory usage: 7.6 MB\n",
            "None\n"
          ]
        }
      ]
    },
    {
      "cell_type": "code",
      "source": [
        "print(dataset.shape)\n",
        "print(dataset.head(5))"
      ],
      "metadata": {
        "id": "EKkqqfi5gu-p",
        "colab": {
          "base_uri": "https://localhost:8080/"
        },
        "outputId": "9fcc6254-f704-4c79-c2d6-07ca861f8781"
      },
      "execution_count": 6,
      "outputs": [
        {
          "output_type": "stream",
          "name": "stdout",
          "text": [
            "(192, 5201)\n",
            "      0        1        2        3       4        5         6        7     \\\n",
            "0 -8.45340 -5.99020 -3.98400 -2.47060 -1.3035 -0.49068 -0.041913 -0.59172   \n",
            "1 -4.17710 -4.67900 -5.08760 -5.31620 -5.6017 -5.70730 -5.379100 -4.75640   \n",
            "2 -2.42120 -2.43750 -2.48920 -2.50000 -2.5082 -2.51100 -2.548200 -2.57450   \n",
            "3  0.26166 -0.13816 -0.22947 -0.46808 -1.0790 -1.88940 -2.691600 -3.91420   \n",
            "4 -0.63378  0.10523  0.79335  1.76780  3.7666  8.38150  8.533500  5.18550   \n",
            "\n",
            "     8        9     ...    5191    5192    5193    5194    5195    5196  \\\n",
            "0 -1.2731 -2.99890  ...  20.969  20.985  21.001  21.018  21.034  21.050   \n",
            "1 -4.1548 -3.54730  ...  20.969  20.985  21.001  21.018  21.034  21.050   \n",
            "2 -2.5625 -2.55620  ...  20.968  20.985  21.001  21.017  21.033  21.050   \n",
            "3 -5.8555 -7.46060  ...  20.968  20.984  21.001  21.017  21.033  21.049   \n",
            "4  2.0530 -0.26899  ...  20.968  20.984  21.001  21.017  21.033  21.049   \n",
            "\n",
            "     5197    5198    5199  5200  \n",
            "0  21.066  21.083  21.099     1  \n",
            "1  21.066  21.083  21.099     1  \n",
            "2  21.066  21.082  21.098     1  \n",
            "3  21.066  21.082  21.098     1  \n",
            "4  21.066  21.082  21.098     1  \n",
            "\n",
            "[5 rows x 5201 columns]\n"
          ]
        }
      ]
    },
    {
      "cell_type": "markdown",
      "source": [
        "#####**Preparing the Data**"
      ],
      "metadata": {
        "id": "gRtywxq-e_9v"
      }
    },
    {
      "cell_type": "markdown",
      "source": [
        "The first up to the second to the last columns will become our input, which we will assign to the variable $X$."
      ],
      "metadata": {
        "id": "qrWNjz33kJ-z"
      }
    },
    {
      "cell_type": "code",
      "source": [
        "X = dataset.loc[:,0:dataset.shape[1]-2]\n",
        "print(X.shape)"
      ],
      "metadata": {
        "id": "lqmUZf69fBgK",
        "colab": {
          "base_uri": "https://localhost:8080/"
        },
        "outputId": "f5036ee3-4065-4d56-f888-3c68baceb74b"
      },
      "execution_count": 7,
      "outputs": [
        {
          "output_type": "stream",
          "name": "stdout",
          "text": [
            "(192, 5200)\n"
          ]
        }
      ]
    },
    {
      "cell_type": "markdown",
      "source": [
        "The last column will become our label, which we will assign to the variable $y$."
      ],
      "metadata": {
        "id": "18tNHt6DkFx2"
      }
    },
    {
      "cell_type": "code",
      "source": [
        "y_dataset = dataset.loc[:,dataset.shape[1]-1]\n",
        "y_label = np.array(y_dataset)\n",
        "y = tf.keras.utils.to_categorical(y_label)\n",
        "print(y.shape)"
      ],
      "metadata": {
        "colab": {
          "base_uri": "https://localhost:8080/"
        },
        "id": "zvh1h7NTj3-C",
        "outputId": "82302b20-7930-4fe2-a4dd-dd1f6fcaab60"
      },
      "execution_count": 8,
      "outputs": [
        {
          "output_type": "stream",
          "name": "stdout",
          "text": [
            "(192, 2)\n"
          ]
        }
      ]
    },
    {
      "cell_type": "markdown",
      "source": [
        "####**Defining the model**"
      ],
      "metadata": {
        "id": "te95nwDRkTlX"
      }
    },
    {
      "cell_type": "markdown",
      "source": [
        "**Task 1.**\n",
        "\n",
        "Using the *train_test_split()* function, split the training data, validation data, and test data into 80%, 10%, and 10%, respectively.<br>\n",
        "\n",
        "Assign training input data to the *X_train* and the label input data to *y_train*. Assign validation input data to the *X_val* and the label input data to *y_val*. Assign test input data to the *X_test* and the label input data to *y_test*."
      ],
      "metadata": {
        "id": "HVR8vuULkUT-"
      }
    },
    {
      "cell_type": "code",
      "source": [
        "# Write down the values here\n",
        "trainRatio = 80/100\n",
        "valRatio = 10/100\n",
        "testRatio = 10/100\n",
        "\n",
        "# Split the training, validation and test data. Write your code below this line.\n",
        "X_train, X_test, y_train, y_test = train_test_split(X, y, test_size =  1-  trainRatio)\n",
        "X_val, X_test, y_val, y_test = train_test_split(X_test, y_test, test_size = testRatio/(testRatio + valRatio))\n"
      ],
      "metadata": {
        "id": "ZPdfqHTRkW_3"
      },
      "execution_count": 9,
      "outputs": []
    },
    {
      "cell_type": "code",
      "source": [
        "print(X_val.shape)"
      ],
      "metadata": {
        "id": "Q2Blt1tOkahb",
        "colab": {
          "base_uri": "https://localhost:8080/"
        },
        "outputId": "1cb53f34-b0a5-4d28-8107-ad2ad8e1fb9d"
      },
      "execution_count": 10,
      "outputs": [
        {
          "output_type": "stream",
          "name": "stdout",
          "text": [
            "(19, 5200)\n"
          ]
        }
      ]
    },
    {
      "cell_type": "code",
      "source": [
        "print(y_val.shape)"
      ],
      "metadata": {
        "id": "btKzX34xkcdT",
        "colab": {
          "base_uri": "https://localhost:8080/"
        },
        "outputId": "e0850b10-31d7-4f75-937a-80ef78e1e1a2"
      },
      "execution_count": 11,
      "outputs": [
        {
          "output_type": "stream",
          "name": "stdout",
          "text": [
            "(19, 2)\n"
          ]
        }
      ]
    },
    {
      "cell_type": "code",
      "source": [
        "print(y_test.shape)"
      ],
      "metadata": {
        "id": "2clRI5MykeKN",
        "colab": {
          "base_uri": "https://localhost:8080/"
        },
        "outputId": "4f9f6587-65ce-4737-deca-05aff1c25ff3"
      },
      "execution_count": 12,
      "outputs": [
        {
          "output_type": "stream",
          "name": "stdout",
          "text": [
            "(20, 2)\n"
          ]
        }
      ]
    },
    {
      "cell_type": "markdown",
      "source": [
        "**Task 2.**\n",
        "<br>\n",
        "Set up your network *model*. Use three layers - an input layer, a hidden layer and an output layer. Use a reasonable number of nodes for the hidden layer. Display the summary of the model."
      ],
      "metadata": {
        "id": "_TZNpS-ZKX8y"
      }
    },
    {
      "cell_type": "code",
      "source": [
        "# Write your code here.\n",
        "model = tf.keras.models.Sequential([\n",
        "    \n",
        "    tf.keras.layers.Conv1D(52, (2), activation = 'relu',input_shape = (X_train.shape[1],1)),\n",
        "    tf.keras.layers.MaxPooling1D((2), input_shape = X_train.shape),\n",
        "    #tf.keras.layers.Conv1D(52, 2, activation = 'softmax'),\n",
        "    #tf,keras.layers.Maxpooling1D(2)\n",
        "    #keras.layers.Input(shape = X_train.shape[1:]),\n",
        "    #keras.layers.Dense(5201, activation='sigmoid'),\n",
        "    #keras.layers.Dense(2, activation='softmax')\n",
        "    tf.keras.layers.Flatten(),\n",
        "    tf.keras.layers.Dropout(0.5),\n",
        "    tf.keras.layers.Dense(150, activation='relu'),\n",
        "    tf.keras.layers.Dense(2, activation='softmax')\n",
        "])\n",
        "model.summary()"
      ],
      "metadata": {
        "id": "sZr0fUfLkenX",
        "colab": {
          "base_uri": "https://localhost:8080/"
        },
        "outputId": "7c0ee577-914c-4b35-8d4b-c4b010199248"
      },
      "execution_count": 21,
      "outputs": [
        {
          "output_type": "stream",
          "name": "stdout",
          "text": [
            "Model: \"sequential_2\"\n",
            "_________________________________________________________________\n",
            " Layer (type)                Output Shape              Param #   \n",
            "=================================================================\n",
            " conv1d_2 (Conv1D)           (None, 5199, 52)          156       \n",
            "                                                                 \n",
            " max_pooling1d_2 (MaxPooling  (None, 2599, 52)         0         \n",
            " 1D)                                                             \n",
            "                                                                 \n",
            " flatten_2 (Flatten)         (None, 135148)            0         \n",
            "                                                                 \n",
            " dropout_2 (Dropout)         (None, 135148)            0         \n",
            "                                                                 \n",
            " dense_4 (Dense)             (None, 150)               20272350  \n",
            "                                                                 \n",
            " dense_5 (Dense)             (None, 2)                 302       \n",
            "                                                                 \n",
            "=================================================================\n",
            "Total params: 20,272,808\n",
            "Trainable params: 20,272,808\n",
            "Non-trainable params: 0\n",
            "_________________________________________________________________\n"
          ]
        }
      ]
    },
    {
      "cell_type": "markdown",
      "source": [
        "**Task 3.**\n",
        "<br>\n",
        "Compile your model using the *compile* function, and set up the optimizer and the loss. You can find the various loss functions you can use in this [weblink](https://keras.io/api/losses/). Use 'accuracy' as the metric."
      ],
      "metadata": {
        "id": "DEtsez9XLV-q"
      }
    },
    {
      "cell_type": "code",
      "source": [
        "# Write your code here.\n",
        "model.compile(keras.optimizers.Adam(learning_rate=0.01),\n",
        "              loss = keras.losses.CategoricalCrossentropy(),\n",
        "              metrics=['accuracy'])"
      ],
      "metadata": {
        "id": "N3LFnyiilAyX"
      },
      "execution_count": 22,
      "outputs": []
    },
    {
      "cell_type": "markdown",
      "source": [
        "**Task 4.**\n",
        "<br>\n",
        "Train your model using the fit function. You may select your own number of epochs. Choose verbose = 1. You will need to assign the output to the variable history, so that you'll be able to see what happens during the training."
      ],
      "metadata": {
        "id": "6YCU8ulDL4Na"
      }
    },
    {
      "cell_type": "code",
      "source": [
        "# Write your code here.\n",
        "history = model.fit(X_train, y_train, epochs=30, validation_data=(X_val, y_val), verbose=1)"
      ],
      "metadata": {
        "id": "i-mSxjX6lB-K",
        "colab": {
          "base_uri": "https://localhost:8080/"
        },
        "outputId": "04c9ff90-b58f-4539-f203-14d0032897c7"
      },
      "execution_count": 24,
      "outputs": [
        {
          "output_type": "stream",
          "name": "stdout",
          "text": [
            "Epoch 1/30\n",
            "5/5 [==============================] - 4s 656ms/step - loss: 0.1751 - accuracy: 0.9804 - val_loss: 0.0507 - val_accuracy: 0.9474\n",
            "Epoch 2/30\n",
            "5/5 [==============================] - 3s 669ms/step - loss: 1.6324e-04 - accuracy: 1.0000 - val_loss: 0.3496 - val_accuracy: 0.9474\n",
            "Epoch 3/30\n",
            "5/5 [==============================] - 4s 701ms/step - loss: 7.6928e-06 - accuracy: 1.0000 - val_loss: 0.5551 - val_accuracy: 0.9474\n",
            "Epoch 4/30\n",
            "5/5 [==============================] - 3s 502ms/step - loss: 0.0040 - accuracy: 1.0000 - val_loss: 0.6109 - val_accuracy: 0.9474\n",
            "Epoch 5/30\n",
            "5/5 [==============================] - 3s 516ms/step - loss: 0.0147 - accuracy: 0.9935 - val_loss: 0.4289 - val_accuracy: 0.9474\n",
            "Epoch 6/30\n",
            "5/5 [==============================] - 3s 507ms/step - loss: 2.6244e-06 - accuracy: 1.0000 - val_loss: 0.2872 - val_accuracy: 0.9474\n",
            "Epoch 7/30\n",
            "5/5 [==============================] - 3s 694ms/step - loss: 3.0152e-07 - accuracy: 1.0000 - val_loss: 0.2017 - val_accuracy: 0.9474\n",
            "Epoch 8/30\n",
            "5/5 [==============================] - 4s 683ms/step - loss: 3.7423e-06 - accuracy: 1.0000 - val_loss: 0.1512 - val_accuracy: 0.9474\n",
            "Epoch 9/30\n",
            "5/5 [==============================] - 3s 515ms/step - loss: 1.4213e-04 - accuracy: 1.0000 - val_loss: 0.1310 - val_accuracy: 0.9474\n",
            "Epoch 10/30\n",
            "5/5 [==============================] - 3s 511ms/step - loss: 4.7757e-04 - accuracy: 1.0000 - val_loss: 0.1364 - val_accuracy: 0.9474\n",
            "Epoch 11/30\n",
            "5/5 [==============================] - 3s 522ms/step - loss: 6.8518e-06 - accuracy: 1.0000 - val_loss: 0.1562 - val_accuracy: 0.9474\n",
            "Epoch 12/30\n",
            "5/5 [==============================] - 3s 736ms/step - loss: 2.3874e-05 - accuracy: 1.0000 - val_loss: 0.1692 - val_accuracy: 0.9474\n",
            "Epoch 13/30\n",
            "5/5 [==============================] - 3s 646ms/step - loss: 2.1249e-04 - accuracy: 1.0000 - val_loss: 0.1863 - val_accuracy: 0.9474\n",
            "Epoch 14/30\n",
            "5/5 [==============================] - 3s 514ms/step - loss: 2.8417e-05 - accuracy: 1.0000 - val_loss: 0.2076 - val_accuracy: 0.9474\n",
            "Epoch 15/30\n",
            "5/5 [==============================] - 3s 517ms/step - loss: 6.6869e-06 - accuracy: 1.0000 - val_loss: 0.2216 - val_accuracy: 0.9474\n",
            "Epoch 16/30\n",
            "5/5 [==============================] - 3s 673ms/step - loss: 4.2506e-06 - accuracy: 1.0000 - val_loss: 0.2304 - val_accuracy: 0.9474\n",
            "Epoch 17/30\n",
            "5/5 [==============================] - 5s 1s/step - loss: 2.1165e-05 - accuracy: 1.0000 - val_loss: 0.2367 - val_accuracy: 0.9474\n",
            "Epoch 18/30\n",
            "5/5 [==============================] - 2s 504ms/step - loss: 4.3361e-05 - accuracy: 1.0000 - val_loss: 0.2450 - val_accuracy: 0.9474\n",
            "Epoch 19/30\n",
            "5/5 [==============================] - 3s 514ms/step - loss: 5.5741e-05 - accuracy: 1.0000 - val_loss: 0.2524 - val_accuracy: 0.9474\n",
            "Epoch 20/30\n",
            "5/5 [==============================] - 3s 608ms/step - loss: 6.9190e-06 - accuracy: 1.0000 - val_loss: 0.2630 - val_accuracy: 0.9474\n",
            "Epoch 21/30\n",
            "5/5 [==============================] - 4s 820ms/step - loss: 7.6198e-07 - accuracy: 1.0000 - val_loss: 0.2695 - val_accuracy: 0.9474\n",
            "Epoch 22/30\n",
            "5/5 [==============================] - 3s 648ms/step - loss: 6.6227e-08 - accuracy: 1.0000 - val_loss: 0.2735 - val_accuracy: 0.9474\n",
            "Epoch 23/30\n",
            "5/5 [==============================] - 3s 515ms/step - loss: 3.8381e-06 - accuracy: 1.0000 - val_loss: 0.2762 - val_accuracy: 0.9474\n",
            "Epoch 24/30\n",
            "5/5 [==============================] - 3s 527ms/step - loss: 3.9814e-07 - accuracy: 1.0000 - val_loss: 0.2779 - val_accuracy: 0.9474\n",
            "Epoch 25/30\n",
            "5/5 [==============================] - 3s 640ms/step - loss: 3.9551e-06 - accuracy: 1.0000 - val_loss: 0.2791 - val_accuracy: 0.9474\n",
            "Epoch 26/30\n",
            "5/5 [==============================] - 5s 961ms/step - loss: 2.4580e-06 - accuracy: 1.0000 - val_loss: 0.2801 - val_accuracy: 0.9474\n",
            "Epoch 27/30\n",
            "5/5 [==============================] - 2s 497ms/step - loss: 7.8629e-06 - accuracy: 1.0000 - val_loss: 0.2814 - val_accuracy: 0.9474\n",
            "Epoch 28/30\n",
            "5/5 [==============================] - 2s 498ms/step - loss: 1.7155e-06 - accuracy: 1.0000 - val_loss: 0.2829 - val_accuracy: 0.9474\n",
            "Epoch 29/30\n",
            "5/5 [==============================] - 3s 508ms/step - loss: 6.5448e-08 - accuracy: 1.0000 - val_loss: 0.2840 - val_accuracy: 0.9474\n",
            "Epoch 30/30\n",
            "5/5 [==============================] - 3s 502ms/step - loss: 2.2781e-06 - accuracy: 1.0000 - val_loss: 0.2847 - val_accuracy: 0.9474\n"
          ]
        }
      ]
    },
    {
      "cell_type": "markdown",
      "source": [
        "**Task 5.**\n",
        "<br>\n",
        "Evaluate your model using the test data set. Display the loss function vs the number of epochs."
      ],
      "metadata": {
        "id": "qwPOhG62OMoA"
      }
    },
    {
      "cell_type": "code",
      "source": [
        "# Write your code here.\n",
        "model.evaluate(X_test, y_test)\n",
        "\n",
        "pd.DataFrame(history.history).plot(figsize=(30,10))\n",
        "plt.grid(True)\n",
        "plt.gca().set_ylim(0,1)\n",
        "plt.show()"
      ],
      "metadata": {
        "id": "KrSjDpg6o27R",
        "colab": {
          "base_uri": "https://localhost:8080/",
          "height": 350
        },
        "outputId": "69e97aad-fd6a-48cd-f1de-32f9d99775e9"
      },
      "execution_count": 25,
      "outputs": [
        {
          "output_type": "stream",
          "name": "stdout",
          "text": [
            "1/1 [==============================] - 0s 67ms/step - loss: 0.1272 - accuracy: 0.9500\n"
          ]
        },
        {
          "output_type": "display_data",
          "data": {
            "text/plain": [
              "<Figure size 3000x1000 with 1 Axes>"
            ],
            "image/png": "[encoded data removed]"
          },
          "metadata": {}
        }
      ]
    },
    {
      "cell_type": "markdown",
      "source": [
        "**Task 6.**\n",
        "<br>\n",
        "Predict the output with your model with the predict function using the test input data set. Display the confusion matrix and the accuracy of your model with the test data set."
      ],
      "metadata": {
        "id": "AQF-39fEO-MB"
      }
    },
    {
      "cell_type": "code",
      "source": [
        "# Write your code here.\n",
        "prediction = model.predict(X_test)\n",
        "print(prediction)\n",
        "print(len(prediction))"
      ],
      "metadata": {
        "id": "2yI1VSOso-FT",
        "colab": {
          "base_uri": "https://localhost:8080/"
        },
        "outputId": "df15f48e-4b19-4e2b-e0a9-96787e83c919"
      },
      "execution_count": 26,
      "outputs": [
        {
          "output_type": "stream",
          "name": "stdout",
          "text": [
            "1/1 [==============================] - 0s 157ms/step\n",
            "[[9.9999958e-01 3.1510251e-07]\n",
            " [9.9999994e-01 1.4137584e-24]\n",
            " [9.9999970e-01 2.7260648e-07]\n",
            " [0.0000000e+00 9.9999994e-01]\n",
            " [9.9999994e-01 3.4604921e-12]\n",
            " [9.9999994e-01 5.4090181e-24]\n",
            " [4.4751163e-13 9.9999994e-01]\n",
            " [0.0000000e+00 9.9999994e-01]\n",
            " [9.9978232e-01 2.1778767e-04]\n",
            " [9.2138916e-01 7.8610882e-02]\n",
            " [9.9999994e-01 3.1460424e-29]\n",
            " [1.0444488e-19 9.9999994e-01]\n",
            " [2.0663507e-30 9.9999994e-01]\n",
            " [0.0000000e+00 9.9999994e-01]\n",
            " [0.0000000e+00 9.9999994e-01]\n",
            " [9.9999994e-01 4.3951466e-19]\n",
            " [1.0000000e+00 2.3517028e-17]\n",
            " [6.4752385e-04 9.9935251e-01]\n",
            " [1.0000000e+00 2.1316365e-10]\n",
            " [1.0000000e+00 1.8575474e-11]]\n",
            "20\n"
          ]
        }
      ]
    },
    {
      "cell_type": "code",
      "source": [
        "print(y_test)\n",
        "print(len(y_test))"
      ],
      "metadata": {
        "colab": {
          "base_uri": "https://localhost:8080/"
        },
        "id": "SNT7Up7tEn5q",
        "outputId": "5f821034-f566-47a9-97b6-bbcb3de8fce1"
      },
      "execution_count": 27,
      "outputs": [
        {
          "output_type": "stream",
          "name": "stdout",
          "text": [
            "[[1. 0.]\n",
            " [1. 0.]\n",
            " [1. 0.]\n",
            " [0. 1.]\n",
            " [1. 0.]\n",
            " [1. 0.]\n",
            " [0. 1.]\n",
            " [0. 1.]\n",
            " [1. 0.]\n",
            " [0. 1.]\n",
            " [1. 0.]\n",
            " [0. 1.]\n",
            " [0. 1.]\n",
            " [0. 1.]\n",
            " [0. 1.]\n",
            " [1. 0.]\n",
            " [1. 0.]\n",
            " [0. 1.]\n",
            " [1. 0.]\n",
            " [1. 0.]]\n",
            "20\n"
          ]
        }
      ]
    },
    {
      "cell_type": "code",
      "source": [
        "cm = confusion_matrix(y_test.argmax(axis=1), prediction.argmax(axis=1))"
      ],
      "metadata": {
        "id": "9zXX_PRWIpTy"
      },
      "execution_count": 28,
      "outputs": []
    },
    {
      "cell_type": "code",
      "source": [
        "disp = ConfusionMatrixDisplay(confusion_matrix=cm, display_labels = ['Walk', 'Run'])\n",
        "disp.plot()\n",
        "plt.show()"
      ],
      "metadata": {
        "colab": {
          "base_uri": "https://localhost:8080/",
          "height": 448
        },
        "id": "fn-LZESnEj7D",
        "outputId": "58b3e347-d99a-4120-c896-d09b170b1989"
      },
      "execution_count": 29,
      "outputs": [
        {
          "output_type": "display_data",
          "data": {
            "text/plain": [
              "<Figure size 640x480 with 2 Axes>"
            ],
            "image/png": "[encoded data removed]"
          },
          "metadata": {}
        }
      ]
    },
    {
      "cell_type": "code",
      "source": [
        "accuracy = 100*np.trace(cm)/np.sum(cm)\n",
        "print(accuracy)"
      ],
      "metadata": {
        "colab": {
          "base_uri": "https://localhost:8080/"
        },
        "id": "k-7mcpKxE7wP",
        "outputId": "09f43b87-2297-4bba-e692-fb833a13328b"
      },
      "execution_count": 30,
      "outputs": [
        {
          "output_type": "stream",
          "name": "stdout",
          "text": [
            "95.0\n"
          ]
        }
      ]
    }
  ]
}