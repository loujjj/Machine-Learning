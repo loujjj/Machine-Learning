{
  "nbformat": 4,
  "nbformat_minor": 0,
  "metadata": {
    "colab": {
      "provenance": [],
      "include_colab_link": true
    },
    "kernelspec": {
      "name": "python3",
      "display_name": "Python 3"
    },
    "language_info": {
      "name": "python"
    }
  },
  "cells": [
    {
      "cell_type": "markdown",
      "metadata": {
        "id": "view-in-github",
        "colab_type": "text"
      },
      "source": [
        "<a href=\"https://colab.research.google.com/github/loujjj/Machine-Learning/blob/main/PCT02_1.ipynb\" target=\"_parent\"><img src=\"https://colab.research.google.com/assets/colab-badge.svg\" alt=\"Open In Colab\"/></a>"
      ]
    },
    {
      "cell_type": "markdown",
      "source": [
        "##**Classification of Walk vs Run**"
      ],
      "metadata": {
        "id": "w12W2G-6c32h"
      }
    },
    {
      "cell_type": "markdown",
      "source": [
        "####**Importing the Necessary Libraries**"
      ],
      "metadata": {
        "id": "19trjlLic6EL"
      }
    },
    {
      "cell_type": "code",
      "execution_count": 33,
      "metadata": {
        "id": "XPZnl1jNcuB1"
      },
      "outputs": [],
      "source": [
        "import numpy as np\n",
        "import matplotlib.pyplot as plt\n",
        "import pandas as pd\n",
        "\n",
        "import tensorflow as tf\n",
        "from tensorflow import keras\n",
        "from tensorflow.keras.models import Sequential\n",
        "\n",
        "from sklearn import datasets\n",
        "from sklearn.preprocessing import LabelEncoder\n",
        "from sklearn.model_selection import train_test_split\n",
        "from sklearn.metrics import confusion_matrix, ConfusionMatrixDisplay"
      ]
    },
    {
      "cell_type": "markdown",
      "source": [
        "####**Importing and Preparing the Data**"
      ],
      "metadata": {
        "id": "21I4-WljdB3r"
      }
    },
    {
      "cell_type": "markdown",
      "source": [
        "#####**Importing the Data**"
      ],
      "metadata": {
        "id": "-z48xONBdGc0"
      }
    },
    {
      "cell_type": "code",
      "source": [
        "from google.colab import drive\n",
        "drive.mount('/content/gdrive/', force_remount=True)"
      ],
      "metadata": {
        "id": "a0VllYJydK2L",
        "outputId": "3684c95d-60c0-4ea5-99fc-1b3399cac054",
        "colab": {
          "base_uri": "https://localhost:8080/"
        }
      },
      "execution_count": 34,
      "outputs": [
        {
          "output_type": "stream",
          "name": "stdout",
          "text": [
            "Mounted at /content/gdrive/\n"
          ]
        }
      ]
    },
    {
      "cell_type": "markdown",
      "source": [
        "**NOTE: You have to save the attached csv file to one of your subfolders in Google Drive and change the name of the subfolder below, accordingly.**"
      ],
      "metadata": {
        "id": "lUPIQIxqIfvI"
      }
    },
    {
      "cell_type": "code",
      "source": [
        "cd gdrive/MyDrive/'Colab Notebooks'/Book/Datasets"
      ],
      "metadata": {
        "id": "daYIZXyhdO0z",
        "outputId": "20779c1b-993d-40bc-d534-6b499e1c4a78",
        "colab": {
          "base_uri": "https://localhost:8080/",
          "height": 861
        }
      },
      "execution_count": 35,
      "outputs": [
        {
          "output_type": "stream",
          "name": "stderr",
          "text": [
            "ERROR:root:Internal Python error in the inspect module.\n",
            "Below is the traceback from this internal error.\n",
            "\n"
          ]
        },
        {
          "output_type": "stream",
          "name": "stdout",
          "text": [
            "Traceback (most recent call last):\n",
            "  File \"/usr/local/lib/python3.9/dist-packages/IPython/core/interactiveshell.py\", line 3326, in run_code\n",
            "    exec(code_obj, self.user_global_ns, self.user_ns)\n",
            "  File \"<ipython-input-35-f19a4b64c50b>\", line 1, in <module>\n",
            "    get_ipython().run_line_magic('cd', \"gdrive/MyDrive/'Colab Notebooks'/Book/Datasets\")\n",
            "  File \"/usr/local/lib/python3.9/dist-packages/IPython/core/interactiveshell.py\", line 2314, in run_line_magic\n",
            "    result = fn(*args, **kwargs)\n",
            "  File \"<decorator-gen-85>\", line 2, in cd\n",
            "  File \"/usr/local/lib/python3.9/dist-packages/IPython/core/magic.py\", line 187, in <lambda>\n",
            "    call = lambda f, *a, **k: f(*a, **k)\n",
            "  File \"/usr/local/lib/python3.9/dist-packages/IPython/core/magics/osm.py\", line 334, in cd\n",
            "    oldcwd = os.getcwd()\n",
            "OSError: [Errno 107] Transport endpoint is not connected\n",
            "\n",
            "During handling of the above exception, another exception occurred:\n",
            "\n",
            "Traceback (most recent call last):\n",
            "  File \"/usr/local/lib/python3.9/dist-packages/IPython/core/interactiveshell.py\", line 2040, in showtraceback\n",
            "    stb = value._render_traceback_()\n",
            "AttributeError: 'OSError' object has no attribute '_render_traceback_'\n",
            "\n",
            "During handling of the above exception, another exception occurred:\n",
            "\n",
            "Traceback (most recent call last):\n",
            "  File \"/usr/local/lib/python3.9/dist-packages/IPython/core/ultratb.py\", line 1101, in get_records\n",
            "    return _fixed_getinnerframes(etb, number_of_lines_of_context, tb_offset)\n",
            "  File \"/usr/local/lib/python3.9/dist-packages/IPython/core/ultratb.py\", line 319, in wrapped\n",
            "    return f(*args, **kwargs)\n",
            "  File \"/usr/local/lib/python3.9/dist-packages/IPython/core/ultratb.py\", line 353, in _fixed_getinnerframes\n",
            "    records = fix_frame_records_filenames(inspect.getinnerframes(etb, context))\n",
            "  File \"/usr/lib/python3.9/inspect.py\", line 1543, in getinnerframes\n",
            "    frameinfo = (tb.tb_frame,) + getframeinfo(tb, context)\n",
            "  File \"/usr/lib/python3.9/inspect.py\", line 1501, in getframeinfo\n",
            "    filename = getsourcefile(frame) or getfile(frame)\n",
            "  File \"/usr/lib/python3.9/inspect.py\", line 709, in getsourcefile\n",
            "    if getattr(getmodule(object, filename), '__loader__', None) is not None:\n",
            "  File \"/usr/lib/python3.9/inspect.py\", line 738, in getmodule\n",
            "    file = getabsfile(object, _filename)\n",
            "  File \"/usr/lib/python3.9/inspect.py\", line 722, in getabsfile\n",
            "    return os.path.normcase(os.path.abspath(_filename))\n",
            "  File \"/usr/lib/python3.9/posixpath.py\", line 380, in abspath\n",
            "    cwd = os.getcwd()\n",
            "OSError: [Errno 107] Transport endpoint is not connected\n"
          ]
        },
        {
          "output_type": "error",
          "ename": "OSError",
          "evalue": "ignored",
          "traceback": [
            "\u001b[0;31m---------------------------------------------------------------------------\u001b[0m"
          ]
        }
      ]
    },
    {
      "cell_type": "code",
      "source": [
        "ls"
      ],
      "metadata": {
        "id": "R6Vx8Cz4dRf4",
        "colab": {
          "base_uri": "https://localhost:8080/"
        },
        "outputId": "259dfe75-b5bc-48f1-a3f5-6836ce7e4575"
      },
      "execution_count": null,
      "outputs": [
        {
          "output_type": "stream",
          "name": "stdout",
          "text": [
            "walkvsrun.csv\n"
          ]
        }
      ]
    },
    {
      "cell_type": "markdown",
      "source": [
        "The walk vs run data set."
      ],
      "metadata": {
        "id": "vRcVKbYBdUSj"
      }
    },
    {
      "cell_type": "code",
      "source": [
        "dataset = pd.read_csv('walkvsrun.csv', header=None)\n",
        "print(dataset.info())"
      ],
      "metadata": {
        "id": "u4jOD3KtdSBj",
        "colab": {
          "base_uri": "https://localhost:8080/"
        },
        "outputId": "c0fccdd3-1761-4ae0-f994-c113c493349d"
      },
      "execution_count": null,
      "outputs": [
        {
          "output_type": "stream",
          "name": "stdout",
          "text": [
            "<class 'pandas.core.frame.DataFrame'>\n",
            "RangeIndex: 192 entries, 0 to 191\n",
            "Columns: 5201 entries, 0 to 5200\n",
            "dtypes: float64(5200), int64(1)\n",
            "memory usage: 7.6 MB\n",
            "None\n"
          ]
        }
      ]
    },
    {
      "cell_type": "code",
      "source": [
        "print(dataset.shape)\n",
        "print(dataset.head(5))"
      ],
      "metadata": {
        "id": "EKkqqfi5gu-p",
        "colab": {
          "base_uri": "https://localhost:8080/"
        },
        "outputId": "ba88bb11-198e-41f4-ab03-d1d5cd50933b"
      },
      "execution_count": null,
      "outputs": [
        {
          "output_type": "stream",
          "name": "stdout",
          "text": [
            "(192, 5201)\n",
            "      0        1        2        3       4        5         6        7     \\\n",
            "0 -8.45340 -5.99020 -3.98400 -2.47060 -1.3035 -0.49068 -0.041913 -0.59172   \n",
            "1 -4.17710 -4.67900 -5.08760 -5.31620 -5.6017 -5.70730 -5.379100 -4.75640   \n",
            "2 -2.42120 -2.43750 -2.48920 -2.50000 -2.5082 -2.51100 -2.548200 -2.57450   \n",
            "3  0.26166 -0.13816 -0.22947 -0.46808 -1.0790 -1.88940 -2.691600 -3.91420   \n",
            "4 -0.63378  0.10523  0.79335  1.76780  3.7666  8.38150  8.533500  5.18550   \n",
            "\n",
            "     8        9     ...    5191    5192    5193    5194    5195    5196  \\\n",
            "0 -1.2731 -2.99890  ...  20.969  20.985  21.001  21.018  21.034  21.050   \n",
            "1 -4.1548 -3.54730  ...  20.969  20.985  21.001  21.018  21.034  21.050   \n",
            "2 -2.5625 -2.55620  ...  20.968  20.985  21.001  21.017  21.033  21.050   \n",
            "3 -5.8555 -7.46060  ...  20.968  20.984  21.001  21.017  21.033  21.049   \n",
            "4  2.0530 -0.26899  ...  20.968  20.984  21.001  21.017  21.033  21.049   \n",
            "\n",
            "     5197    5198    5199  5200  \n",
            "0  21.066  21.083  21.099     1  \n",
            "1  21.066  21.083  21.099     1  \n",
            "2  21.066  21.082  21.098     1  \n",
            "3  21.066  21.082  21.098     1  \n",
            "4  21.066  21.082  21.098     1  \n",
            "\n",
            "[5 rows x 5201 columns]\n"
          ]
        }
      ]
    },
    {
      "cell_type": "markdown",
      "source": [
        "#####**Preparing the Data**"
      ],
      "metadata": {
        "id": "gRtywxq-e_9v"
      }
    },
    {
      "cell_type": "markdown",
      "source": [
        "The first up to the second to the last columns will become our input, which we will assign to the variable $X$."
      ],
      "metadata": {
        "id": "qrWNjz33kJ-z"
      }
    },
    {
      "cell_type": "code",
      "source": [
        "X = dataset.loc[:,0:dataset.shape[1]-2]\n",
        "print(X.shape)"
      ],
      "metadata": {
        "id": "lqmUZf69fBgK",
        "colab": {
          "base_uri": "https://localhost:8080/"
        },
        "outputId": "4ad0b791-2d68-4676-d993-5375534ab334"
      },
      "execution_count": null,
      "outputs": [
        {
          "output_type": "stream",
          "name": "stdout",
          "text": [
            "(192, 5200)\n"
          ]
        }
      ]
    },
    {
      "cell_type": "markdown",
      "source": [
        "The last column will become our label, which we will assign to the variable $y$."
      ],
      "metadata": {
        "id": "18tNHt6DkFx2"
      }
    },
    {
      "cell_type": "code",
      "source": [
        "y_dataset = dataset.loc[:,dataset.shape[1]-1]\n",
        "y_label = np.array(y_dataset)\n",
        "y = tf.keras.utils.to_categorical(y_label)\n",
        "print(y.shape)"
      ],
      "metadata": {
        "colab": {
          "base_uri": "https://localhost:8080/"
        },
        "id": "zvh1h7NTj3-C",
        "outputId": "838aca3c-007d-4b52-a249-da55de89b82c"
      },
      "execution_count": null,
      "outputs": [
        {
          "output_type": "stream",
          "name": "stdout",
          "text": [
            "(192, 2)\n"
          ]
        }
      ]
    },
    {
      "cell_type": "markdown",
      "source": [
        "####**Defining the model**"
      ],
      "metadata": {
        "id": "te95nwDRkTlX"
      }
    },
    {
      "cell_type": "markdown",
      "source": [
        "**Task 1.**\n",
        "\n",
        "Using the *train_test_split()* function, split the training data, validation data, and test data into 80%, 10%, and 10%, respectively.<br>\n",
        "\n",
        "Assign training input data to the *X_train* and the label input data to *y_train*. Assign validation input data to the *X_val* and the label input data to *y_val*. Assign test input data to the *X_test* and the label input data to *y_test*."
      ],
      "metadata": {
        "id": "HVR8vuULkUT-"
      }
    },
    {
      "cell_type": "code",
      "source": [
        "# Write down the values here\n",
        "trainRatio = 80/100\n",
        "valRatio = 10/100\n",
        "testRatio = 10/100\n",
        "\n",
        "# Split the training, validation and test data. Write your code below this line.\n",
        "X_train, X_test, y_train, y_test = train_test_split(X, y, test_size = 1 - trainRatio)\n",
        "X_val, X_test, y_val, y_test = train_test_split(X_test, y_test, test_size = testRatio/(testRatio + valRatio))"
      ],
      "metadata": {
        "id": "ZPdfqHTRkW_3"
      },
      "execution_count": null,
      "outputs": []
    },
    {
      "cell_type": "code",
      "source": [
        "print(X_val.shape)"
      ],
      "metadata": {
        "id": "Q2Blt1tOkahb",
        "colab": {
          "base_uri": "https://localhost:8080/"
        },
        "outputId": "a2f5fad6-3481-46c7-eeb6-e2817a949f60"
      },
      "execution_count": null,
      "outputs": [
        {
          "output_type": "stream",
          "name": "stdout",
          "text": [
            "(19, 5200)\n"
          ]
        }
      ]
    },
    {
      "cell_type": "code",
      "source": [
        "print(X_val.shape)"
      ],
      "metadata": {
        "id": "btKzX34xkcdT",
        "colab": {
          "base_uri": "https://localhost:8080/"
        },
        "outputId": "b70d987c-b7e4-4f5d-ee18-8b984a845f74"
      },
      "execution_count": null,
      "outputs": [
        {
          "output_type": "stream",
          "name": "stdout",
          "text": [
            "(19, 5200)\n"
          ]
        }
      ]
    },
    {
      "cell_type": "code",
      "source": [
        "print(y_test.shape)"
      ],
      "metadata": {
        "id": "2clRI5MykeKN",
        "colab": {
          "base_uri": "https://localhost:8080/"
        },
        "outputId": "3d0d8bc3-1117-4338-dc39-58b0a9b47f0e"
      },
      "execution_count": null,
      "outputs": [
        {
          "output_type": "stream",
          "name": "stdout",
          "text": [
            "(20, 2)\n"
          ]
        }
      ]
    },
    {
      "cell_type": "markdown",
      "source": [
        "**Task 2.**\n",
        "<br>\n",
        "Set up your network *model*. Use three layers - an input layer, a hidden layer and an output layer. Use a reasonable number of nodes for the hidden layer. Display the summary of the model."
      ],
      "metadata": {
        "id": "_TZNpS-ZKX8y"
      }
    },
    {
      "cell_type": "code",
      "source": [
        "# Write your code here.\n",
        "model = Sequential([\n",
        "    keras.layers.Input(shape = X_train.shape[1:]),\n",
        "    keras.layers.Dense(400, activation='sigmoid'),\n",
        "    keras.layers.Dense(2, activation='softmax')\n",
        "])\n",
        "model.summary()"
      ],
      "metadata": {
        "id": "sZr0fUfLkenX",
        "colab": {
          "base_uri": "https://localhost:8080/"
        },
        "outputId": "1b7d4acb-58d2-4c65-9355-4d169035938a"
      },
      "execution_count": null,
      "outputs": [
        {
          "output_type": "stream",
          "name": "stdout",
          "text": [
            "Model: \"sequential_8\"\n",
            "_________________________________________________________________\n",
            " Layer (type)                Output Shape              Param #   \n",
            "=================================================================\n",
            " dense_16 (Dense)            (None, 400)               2080400   \n",
            "                                                                 \n",
            " dense_17 (Dense)            (None, 2)                 802       \n",
            "                                                                 \n",
            "=================================================================\n",
            "Total params: 2,081,202\n",
            "Trainable params: 2,081,202\n",
            "Non-trainable params: 0\n",
            "_________________________________________________________________\n"
          ]
        }
      ]
    },
    {
      "cell_type": "markdown",
      "source": [
        "**Task 3.**\n",
        "<br>\n",
        "Compile your model using the *compile* function, and set up the optimizer and the loss. You can find the various loss functions you can use in this [weblink](https://keras.io/api/losses/). Use 'accuracy' as the metric."
      ],
      "metadata": {
        "id": "DEtsez9XLV-q"
      }
    },
    {
      "cell_type": "code",
      "source": [
        "# Write your code here.\n",
        "model.compile(optimizer = 'adam',\n",
        "              loss = keras.losses.CategoricalCrossentropy(),\n",
        "              metrics=['accuracy'])"
      ],
      "metadata": {
        "id": "N3LFnyiilAyX"
      },
      "execution_count": null,
      "outputs": []
    },
    {
      "cell_type": "markdown",
      "source": [
        "**Task 4.**\n",
        "<br>\n",
        "Train your model using the fit function. You may select your own number of epochs. Choose verbose = 1. You will need to assign the output to the variable history, so that you'll be able to see what happens during the training."
      ],
      "metadata": {
        "id": "6YCU8ulDL4Na"
      }
    },
    {
      "cell_type": "code",
      "source": [
        "# Write your code here.\n",
        "history = model.fit(X_train, y_train, epochs=100, validation_data=(X_val, y_val), verbose=1)"
      ],
      "metadata": {
        "id": "i-mSxjX6lB-K",
        "colab": {
          "base_uri": "https://localhost:8080/"
        },
        "outputId": "1d748cce-ce0c-4b8a-8ec4-de78c0a467b9"
      },
      "execution_count": null,
      "outputs": [
        {
          "output_type": "stream",
          "name": "stdout",
          "text": [
            "Epoch 1/100\n",
            "5/5 [==============================] - 1s 76ms/step - loss: 1.1969 - accuracy: 0.5229 - val_loss: 0.5287 - val_accuracy: 0.7368\n",
            "Epoch 2/100\n",
            "5/5 [==============================] - 0s 32ms/step - loss: 0.6011 - accuracy: 0.5752 - val_loss: 0.5371 - val_accuracy: 0.7895\n",
            "Epoch 3/100\n",
            "5/5 [==============================] - 0s 32ms/step - loss: 0.4888 - accuracy: 0.8301 - val_loss: 0.5236 - val_accuracy: 0.8421\n",
            "Epoch 4/100\n",
            "5/5 [==============================] - 0s 37ms/step - loss: 0.4495 - accuracy: 0.8170 - val_loss: 0.5462 - val_accuracy: 0.6316\n",
            "Epoch 5/100\n",
            "5/5 [==============================] - 0s 44ms/step - loss: 0.4366 - accuracy: 0.8105 - val_loss: 0.5925 - val_accuracy: 0.5789\n",
            "Epoch 6/100\n",
            "5/5 [==============================] - 0s 33ms/step - loss: 0.4187 - accuracy: 0.8170 - val_loss: 0.5026 - val_accuracy: 0.7895\n",
            "Epoch 7/100\n",
            "5/5 [==============================] - 0s 32ms/step - loss: 0.3878 - accuracy: 0.8889 - val_loss: 0.5211 - val_accuracy: 0.7895\n",
            "Epoch 8/100\n",
            "5/5 [==============================] - 0s 33ms/step - loss: 0.3731 - accuracy: 0.8954 - val_loss: 0.5378 - val_accuracy: 0.7368\n",
            "Epoch 9/100\n",
            "5/5 [==============================] - 0s 40ms/step - loss: 0.3672 - accuracy: 0.8954 - val_loss: 0.5239 - val_accuracy: 0.7368\n",
            "Epoch 10/100\n",
            "5/5 [==============================] - 0s 36ms/step - loss: 0.3524 - accuracy: 0.9020 - val_loss: 0.5081 - val_accuracy: 0.7368\n",
            "Epoch 11/100\n",
            "5/5 [==============================] - 0s 35ms/step - loss: 0.3354 - accuracy: 0.9150 - val_loss: 0.5306 - val_accuracy: 0.6842\n",
            "Epoch 12/100\n",
            "5/5 [==============================] - 0s 35ms/step - loss: 0.3412 - accuracy: 0.9281 - val_loss: 0.5208 - val_accuracy: 0.7368\n",
            "Epoch 13/100\n",
            "5/5 [==============================] - 0s 34ms/step - loss: 0.3391 - accuracy: 0.9216 - val_loss: 0.5486 - val_accuracy: 0.7895\n",
            "Epoch 14/100\n",
            "5/5 [==============================] - 0s 40ms/step - loss: 0.3322 - accuracy: 0.8954 - val_loss: 0.5785 - val_accuracy: 0.6842\n",
            "Epoch 15/100\n",
            "5/5 [==============================] - 0s 33ms/step - loss: 0.3240 - accuracy: 0.9085 - val_loss: 0.5925 - val_accuracy: 0.6842\n",
            "Epoch 16/100\n",
            "5/5 [==============================] - 0s 35ms/step - loss: 0.3110 - accuracy: 0.9085 - val_loss: 0.5587 - val_accuracy: 0.6842\n",
            "Epoch 17/100\n",
            "5/5 [==============================] - 0s 33ms/step - loss: 0.3038 - accuracy: 0.9085 - val_loss: 0.5699 - val_accuracy: 0.6842\n",
            "Epoch 18/100\n",
            "5/5 [==============================] - 0s 32ms/step - loss: 0.3053 - accuracy: 0.9281 - val_loss: 0.5551 - val_accuracy: 0.7368\n",
            "Epoch 19/100\n",
            "5/5 [==============================] - 0s 39ms/step - loss: 0.2992 - accuracy: 0.9412 - val_loss: 0.5663 - val_accuracy: 0.6842\n",
            "Epoch 20/100\n",
            "5/5 [==============================] - 0s 35ms/step - loss: 0.3087 - accuracy: 0.9216 - val_loss: 0.5762 - val_accuracy: 0.7368\n",
            "Epoch 21/100\n",
            "5/5 [==============================] - 0s 34ms/step - loss: 0.2907 - accuracy: 0.9346 - val_loss: 0.6248 - val_accuracy: 0.6842\n",
            "Epoch 22/100\n",
            "5/5 [==============================] - 0s 37ms/step - loss: 0.2711 - accuracy: 0.9281 - val_loss: 0.5497 - val_accuracy: 0.6842\n",
            "Epoch 23/100\n",
            "5/5 [==============================] - 0s 33ms/step - loss: 0.2721 - accuracy: 0.9412 - val_loss: 0.5439 - val_accuracy: 0.7368\n",
            "Epoch 24/100\n",
            "5/5 [==============================] - 0s 41ms/step - loss: 0.2631 - accuracy: 0.9346 - val_loss: 0.6139 - val_accuracy: 0.7368\n",
            "Epoch 25/100\n",
            "5/5 [==============================] - 0s 38ms/step - loss: 0.2683 - accuracy: 0.9281 - val_loss: 0.6010 - val_accuracy: 0.7368\n",
            "Epoch 26/100\n",
            "5/5 [==============================] - 0s 33ms/step - loss: 0.2546 - accuracy: 0.9412 - val_loss: 0.6271 - val_accuracy: 0.6842\n",
            "Epoch 27/100\n",
            "5/5 [==============================] - 0s 32ms/step - loss: 0.2384 - accuracy: 0.9477 - val_loss: 0.6087 - val_accuracy: 0.7368\n",
            "Epoch 28/100\n",
            "5/5 [==============================] - 0s 35ms/step - loss: 0.2368 - accuracy: 0.9477 - val_loss: 0.5296 - val_accuracy: 0.7368\n",
            "Epoch 29/100\n",
            "5/5 [==============================] - 0s 36ms/step - loss: 0.2380 - accuracy: 0.9608 - val_loss: 0.5484 - val_accuracy: 0.7368\n",
            "Epoch 30/100\n",
            "5/5 [==============================] - 0s 37ms/step - loss: 0.2361 - accuracy: 0.9412 - val_loss: 0.6390 - val_accuracy: 0.6842\n",
            "Epoch 31/100\n",
            "5/5 [==============================] - 0s 31ms/step - loss: 0.2248 - accuracy: 0.9477 - val_loss: 0.6762 - val_accuracy: 0.6316\n",
            "Epoch 32/100\n",
            "5/5 [==============================] - 0s 32ms/step - loss: 0.2138 - accuracy: 0.9608 - val_loss: 0.6267 - val_accuracy: 0.7368\n",
            "Epoch 33/100\n",
            "5/5 [==============================] - 0s 33ms/step - loss: 0.2202 - accuracy: 0.9477 - val_loss: 0.5583 - val_accuracy: 0.6842\n",
            "Epoch 34/100\n",
            "5/5 [==============================] - 0s 33ms/step - loss: 0.2199 - accuracy: 0.9542 - val_loss: 0.5895 - val_accuracy: 0.6842\n",
            "Epoch 35/100\n",
            "5/5 [==============================] - 0s 33ms/step - loss: 0.2052 - accuracy: 0.9542 - val_loss: 0.6699 - val_accuracy: 0.5789\n",
            "Epoch 36/100\n",
            "5/5 [==============================] - 0s 32ms/step - loss: 0.1982 - accuracy: 0.9608 - val_loss: 0.6069 - val_accuracy: 0.6842\n",
            "Epoch 37/100\n",
            "5/5 [==============================] - 0s 32ms/step - loss: 0.1926 - accuracy: 0.9542 - val_loss: 0.6036 - val_accuracy: 0.6842\n",
            "Epoch 38/100\n",
            "5/5 [==============================] - 0s 36ms/step - loss: 0.1921 - accuracy: 0.9673 - val_loss: 0.6273 - val_accuracy: 0.6842\n",
            "Epoch 39/100\n",
            "5/5 [==============================] - 0s 33ms/step - loss: 0.1870 - accuracy: 0.9673 - val_loss: 0.6540 - val_accuracy: 0.6316\n",
            "Epoch 40/100\n",
            "5/5 [==============================] - 0s 35ms/step - loss: 0.1850 - accuracy: 0.9608 - val_loss: 0.6749 - val_accuracy: 0.5789\n",
            "Epoch 41/100\n",
            "5/5 [==============================] - 0s 40ms/step - loss: 0.1736 - accuracy: 0.9673 - val_loss: 0.6394 - val_accuracy: 0.6842\n",
            "Epoch 42/100\n",
            "5/5 [==============================] - 0s 36ms/step - loss: 0.1732 - accuracy: 0.9673 - val_loss: 0.6235 - val_accuracy: 0.7368\n",
            "Epoch 43/100\n",
            "5/5 [==============================] - 0s 31ms/step - loss: 0.1693 - accuracy: 0.9542 - val_loss: 0.5864 - val_accuracy: 0.7368\n",
            "Epoch 44/100\n",
            "5/5 [==============================] - 0s 34ms/step - loss: 0.1799 - accuracy: 0.9608 - val_loss: 0.6247 - val_accuracy: 0.7368\n",
            "Epoch 45/100\n",
            "5/5 [==============================] - 0s 30ms/step - loss: 0.1699 - accuracy: 0.9673 - val_loss: 0.6736 - val_accuracy: 0.6316\n",
            "Epoch 46/100\n",
            "5/5 [==============================] - 0s 39ms/step - loss: 0.1713 - accuracy: 0.9608 - val_loss: 0.6028 - val_accuracy: 0.7895\n",
            "Epoch 47/100\n",
            "5/5 [==============================] - 0s 34ms/step - loss: 0.1625 - accuracy: 0.9542 - val_loss: 0.5936 - val_accuracy: 0.7895\n",
            "Epoch 48/100\n",
            "5/5 [==============================] - 0s 38ms/step - loss: 0.1589 - accuracy: 0.9673 - val_loss: 0.6079 - val_accuracy: 0.7368\n",
            "Epoch 49/100\n",
            "5/5 [==============================] - 0s 40ms/step - loss: 0.1598 - accuracy: 0.9673 - val_loss: 0.6669 - val_accuracy: 0.6842\n",
            "Epoch 50/100\n",
            "5/5 [==============================] - 0s 32ms/step - loss: 0.1643 - accuracy: 0.9608 - val_loss: 0.6625 - val_accuracy: 0.6316\n",
            "Epoch 51/100\n",
            "5/5 [==============================] - 0s 33ms/step - loss: 0.1528 - accuracy: 0.9673 - val_loss: 0.6074 - val_accuracy: 0.6842\n",
            "Epoch 52/100\n",
            "5/5 [==============================] - 0s 38ms/step - loss: 0.1585 - accuracy: 0.9608 - val_loss: 0.6738 - val_accuracy: 0.6842\n",
            "Epoch 53/100\n",
            "5/5 [==============================] - 0s 33ms/step - loss: 0.1604 - accuracy: 0.9673 - val_loss: 0.6878 - val_accuracy: 0.6316\n",
            "Epoch 54/100\n",
            "5/5 [==============================] - 0s 49ms/step - loss: 0.1582 - accuracy: 0.9739 - val_loss: 0.6272 - val_accuracy: 0.6842\n",
            "Epoch 55/100\n",
            "5/5 [==============================] - 0s 50ms/step - loss: 0.1597 - accuracy: 0.9804 - val_loss: 0.5747 - val_accuracy: 0.7368\n",
            "Epoch 56/100\n",
            "5/5 [==============================] - 0s 51ms/step - loss: 0.1599 - accuracy: 0.9739 - val_loss: 0.6065 - val_accuracy: 0.6842\n",
            "Epoch 57/100\n",
            "5/5 [==============================] - 0s 50ms/step - loss: 0.1550 - accuracy: 0.9739 - val_loss: 0.6158 - val_accuracy: 0.7368\n",
            "Epoch 58/100\n",
            "5/5 [==============================] - 0s 51ms/step - loss: 0.1507 - accuracy: 0.9804 - val_loss: 0.6764 - val_accuracy: 0.6316\n",
            "Epoch 59/100\n",
            "5/5 [==============================] - 0s 52ms/step - loss: 0.1491 - accuracy: 0.9804 - val_loss: 0.6300 - val_accuracy: 0.7368\n",
            "Epoch 60/100\n",
            "5/5 [==============================] - 0s 50ms/step - loss: 0.1599 - accuracy: 0.9804 - val_loss: 0.5936 - val_accuracy: 0.7895\n",
            "Epoch 61/100\n",
            "5/5 [==============================] - 0s 52ms/step - loss: 0.1574 - accuracy: 0.9673 - val_loss: 0.6350 - val_accuracy: 0.7895\n",
            "Epoch 62/100\n",
            "5/5 [==============================] - 0s 50ms/step - loss: 0.1535 - accuracy: 0.9673 - val_loss: 0.6425 - val_accuracy: 0.7895\n",
            "Epoch 63/100\n",
            "5/5 [==============================] - 0s 50ms/step - loss: 0.1547 - accuracy: 0.9673 - val_loss: 0.6827 - val_accuracy: 0.6842\n",
            "Epoch 64/100\n",
            "5/5 [==============================] - 0s 49ms/step - loss: 0.1560 - accuracy: 0.9673 - val_loss: 0.6588 - val_accuracy: 0.6842\n",
            "Epoch 65/100\n",
            "5/5 [==============================] - 0s 49ms/step - loss: 0.1522 - accuracy: 0.9673 - val_loss: 0.6520 - val_accuracy: 0.7368\n",
            "Epoch 66/100\n",
            "5/5 [==============================] - 0s 54ms/step - loss: 0.1468 - accuracy: 0.9739 - val_loss: 0.6724 - val_accuracy: 0.7368\n",
            "Epoch 67/100\n",
            "5/5 [==============================] - 0s 51ms/step - loss: 0.1435 - accuracy: 0.9673 - val_loss: 0.6658 - val_accuracy: 0.6842\n",
            "Epoch 68/100\n",
            "5/5 [==============================] - 0s 52ms/step - loss: 0.1441 - accuracy: 0.9608 - val_loss: 0.6662 - val_accuracy: 0.6842\n",
            "Epoch 69/100\n",
            "5/5 [==============================] - 0s 55ms/step - loss: 0.1402 - accuracy: 0.9673 - val_loss: 0.6358 - val_accuracy: 0.7368\n",
            "Epoch 70/100\n",
            "5/5 [==============================] - 0s 49ms/step - loss: 0.1390 - accuracy: 0.9739 - val_loss: 0.6137 - val_accuracy: 0.7895\n",
            "Epoch 71/100\n",
            "5/5 [==============================] - 0s 51ms/step - loss: 0.1380 - accuracy: 0.9739 - val_loss: 0.6347 - val_accuracy: 0.6842\n",
            "Epoch 72/100\n",
            "5/5 [==============================] - 0s 35ms/step - loss: 0.1361 - accuracy: 0.9739 - val_loss: 0.6418 - val_accuracy: 0.6842\n",
            "Epoch 73/100\n",
            "5/5 [==============================] - 0s 31ms/step - loss: 0.1345 - accuracy: 0.9673 - val_loss: 0.6509 - val_accuracy: 0.6842\n",
            "Epoch 74/100\n",
            "5/5 [==============================] - 0s 32ms/step - loss: 0.1332 - accuracy: 0.9673 - val_loss: 0.6389 - val_accuracy: 0.7368\n",
            "Epoch 75/100\n",
            "5/5 [==============================] - 0s 34ms/step - loss: 0.1324 - accuracy: 0.9739 - val_loss: 0.6104 - val_accuracy: 0.7368\n",
            "Epoch 76/100\n",
            "5/5 [==============================] - 0s 36ms/step - loss: 0.1318 - accuracy: 0.9739 - val_loss: 0.6151 - val_accuracy: 0.7368\n",
            "Epoch 77/100\n",
            "5/5 [==============================] - 0s 39ms/step - loss: 0.1304 - accuracy: 0.9673 - val_loss: 0.6457 - val_accuracy: 0.6316\n",
            "Epoch 78/100\n",
            "5/5 [==============================] - 0s 32ms/step - loss: 0.1293 - accuracy: 0.9673 - val_loss: 0.6447 - val_accuracy: 0.6842\n",
            "Epoch 79/100\n",
            "5/5 [==============================] - 0s 31ms/step - loss: 0.1284 - accuracy: 0.9673 - val_loss: 0.6230 - val_accuracy: 0.7368\n",
            "Epoch 80/100\n",
            "5/5 [==============================] - 0s 32ms/step - loss: 0.1267 - accuracy: 0.9739 - val_loss: 0.6451 - val_accuracy: 0.7368\n",
            "Epoch 81/100\n",
            "5/5 [==============================] - 0s 37ms/step - loss: 0.1267 - accuracy: 0.9673 - val_loss: 0.6707 - val_accuracy: 0.7368\n",
            "Epoch 82/100\n",
            "5/5 [==============================] - 0s 35ms/step - loss: 0.1238 - accuracy: 0.9673 - val_loss: 0.6288 - val_accuracy: 0.7368\n",
            "Epoch 83/100\n",
            "5/5 [==============================] - 0s 43ms/step - loss: 0.1161 - accuracy: 0.9673 - val_loss: 0.6617 - val_accuracy: 0.6842\n",
            "Epoch 84/100\n",
            "5/5 [==============================] - 0s 33ms/step - loss: 0.1134 - accuracy: 0.9673 - val_loss: 0.6491 - val_accuracy: 0.7895\n",
            "Epoch 85/100\n",
            "5/5 [==============================] - 0s 34ms/step - loss: 0.1133 - accuracy: 0.9673 - val_loss: 0.6716 - val_accuracy: 0.6842\n",
            "Epoch 86/100\n",
            "5/5 [==============================] - 0s 35ms/step - loss: 0.1165 - accuracy: 0.9673 - val_loss: 0.6589 - val_accuracy: 0.7895\n",
            "Epoch 87/100\n",
            "5/5 [==============================] - 0s 37ms/step - loss: 0.1149 - accuracy: 0.9673 - val_loss: 0.6829 - val_accuracy: 0.6842\n",
            "Epoch 88/100\n",
            "5/5 [==============================] - 0s 36ms/step - loss: 0.1137 - accuracy: 0.9673 - val_loss: 0.6842 - val_accuracy: 0.6316\n",
            "Epoch 89/100\n",
            "5/5 [==============================] - 0s 33ms/step - loss: 0.1126 - accuracy: 0.9739 - val_loss: 0.6644 - val_accuracy: 0.7368\n",
            "Epoch 90/100\n",
            "5/5 [==============================] - 0s 32ms/step - loss: 0.1126 - accuracy: 0.9739 - val_loss: 0.6522 - val_accuracy: 0.7368\n",
            "Epoch 91/100\n",
            "5/5 [==============================] - 0s 36ms/step - loss: 0.1125 - accuracy: 0.9673 - val_loss: 0.7020 - val_accuracy: 0.6316\n",
            "Epoch 92/100\n",
            "5/5 [==============================] - 0s 32ms/step - loss: 0.1105 - accuracy: 0.9673 - val_loss: 0.6744 - val_accuracy: 0.7368\n",
            "Epoch 93/100\n",
            "5/5 [==============================] - 0s 35ms/step - loss: 0.1089 - accuracy: 0.9739 - val_loss: 0.6693 - val_accuracy: 0.7368\n",
            "Epoch 94/100\n",
            "5/5 [==============================] - 0s 35ms/step - loss: 0.1085 - accuracy: 0.9673 - val_loss: 0.6849 - val_accuracy: 0.6316\n",
            "Epoch 95/100\n",
            "5/5 [==============================] - 0s 35ms/step - loss: 0.1074 - accuracy: 0.9739 - val_loss: 0.6643 - val_accuracy: 0.7895\n",
            "Epoch 96/100\n",
            "5/5 [==============================] - 0s 34ms/step - loss: 0.1066 - accuracy: 0.9739 - val_loss: 0.6690 - val_accuracy: 0.7895\n",
            "Epoch 97/100\n",
            "5/5 [==============================] - 0s 38ms/step - loss: 0.1062 - accuracy: 0.9739 - val_loss: 0.6506 - val_accuracy: 0.7895\n",
            "Epoch 98/100\n",
            "5/5 [==============================] - 0s 33ms/step - loss: 0.1052 - accuracy: 0.9739 - val_loss: 0.6762 - val_accuracy: 0.6842\n",
            "Epoch 99/100\n",
            "5/5 [==============================] - 0s 39ms/step - loss: 0.1044 - accuracy: 0.9739 - val_loss: 0.6829 - val_accuracy: 0.6842\n",
            "Epoch 100/100\n",
            "5/5 [==============================] - 0s 36ms/step - loss: 0.1035 - accuracy: 0.9739 - val_loss: 0.6747 - val_accuracy: 0.7895\n"
          ]
        }
      ]
    },
    {
      "cell_type": "markdown",
      "source": [
        "**Task 5.**\n",
        "<br>\n",
        "Evaluate your model using the test data set. Display the loss function vs the number of epochs."
      ],
      "metadata": {
        "id": "qwPOhG62OMoA"
      }
    },
    {
      "cell_type": "code",
      "source": [
        "# Write your code here.\n",
        "model.evaluate(X_test, y_test)\n",
        "\n",
        "pd.DataFrame(history.history).plot(figsize=(30,10))\n",
        "plt.grid(True)\n",
        "plt.gca().set_ylim(0,1)\n",
        "plt.show()"
      ],
      "metadata": {
        "id": "KrSjDpg6o27R",
        "colab": {
          "base_uri": "https://localhost:8080/",
          "height": 373
        },
        "outputId": "0f866533-6488-4854-a514-625d3126083b"
      },
      "execution_count": null,
      "outputs": [
        {
          "output_type": "stream",
          "name": "stdout",
          "text": [
            "1/1 [==============================] - 0s 29ms/step - loss: 0.4326 - accuracy: 0.8500\n"
          ]
        },
        {
          "output_type": "display_data",
          "data": {
            "text/plain": [
              "<Figure size 2160x720 with 1 Axes>"
            ],
            "image/png": "[encoded data removed]"
          },
          "metadata": {
            "needs_background": "light"
          }
        }
      ]
    },
    {
      "cell_type": "markdown",
      "source": [
        "**Task 6.**\n",
        "<br>\n",
        "Predict the output with your model with the predict function using the test input data set. Display the confusion matrix and the accuracy of your model with the test data set."
      ],
      "metadata": {
        "id": "AQF-39fEO-MB"
      }
    },
    {
      "cell_type": "code",
      "source": [
        "# Write your code here.\n",
        "prediction = model.predict(X_val)\n",
        "print(prediction)"
      ],
      "metadata": {
        "id": "2yI1VSOso-FT",
        "colab": {
          "base_uri": "https://localhost:8080/"
        },
        "outputId": "5673d912-3adb-465d-d7f2-967adef516de"
      },
      "execution_count": null,
      "outputs": [
        {
          "output_type": "stream",
          "name": "stdout",
          "text": [
            "1/1 [==============================] - 0s 62ms/step\n",
            "[[0.9556664  0.04433355]\n",
            " [0.8899908  0.11000909]\n",
            " [0.94319874 0.05680117]\n",
            " [0.92909265 0.07090746]\n",
            " [0.7774498  0.22255017]\n",
            " [0.87638724 0.12361289]\n",
            " [0.49869528 0.5013047 ]\n",
            " [0.14090914 0.8590908 ]\n",
            " [0.18061711 0.8193829 ]\n",
            " [0.49761006 0.5023899 ]\n",
            " [0.00517805 0.9948219 ]\n",
            " [0.152626   0.847374  ]\n",
            " [0.06424125 0.93575865]\n",
            " [0.30958512 0.69041485]\n",
            " [0.9949592  0.00504082]\n",
            " [0.89665323 0.10334669]\n",
            " [0.54426473 0.45573524]\n",
            " [0.44687545 0.55312455]\n",
            " [0.8888791  0.11112096]]\n"
          ]
        }
      ]
    },
    {
      "cell_type": "code",
      "source": [
        "print(y_val)\n",
        "\n"
      ],
      "metadata": {
        "colab": {
          "base_uri": "https://localhost:8080/"
        },
        "id": "SNT7Up7tEn5q",
        "outputId": "d8457a75-a459-4074-e788-b4d793a37430"
      },
      "execution_count": null,
      "outputs": [
        {
          "output_type": "stream",
          "name": "stdout",
          "text": [
            "[[0. 1.]\n",
            " [0. 1.]\n",
            " [1. 0.]\n",
            " [1. 0.]\n",
            " [0. 1.]\n",
            " [0. 1.]\n",
            " [0. 1.]\n",
            " [0. 1.]\n",
            " [0. 1.]\n",
            " [0. 1.]\n",
            " [0. 1.]\n",
            " [0. 1.]\n",
            " [0. 1.]\n",
            " [0. 1.]\n",
            " [1. 0.]\n",
            " [1. 0.]\n",
            " [1. 0.]\n",
            " [0. 1.]\n",
            " [1. 0.]]\n"
          ]
        }
      ]
    },
    {
      "cell_type": "code",
      "source": [
        "cm = confusion_matrix(y_test.argmax(axis=1), prediction.argmax(axis=1))"
      ],
      "metadata": {
        "colab": {
          "base_uri": "https://localhost:8080/",
          "height": 844
        },
        "id": "9zXX_PRWIpTy",
        "outputId": "9c98f016-ca05-48a5-c37a-eb918aecb56a"
      },
      "execution_count": null,
      "outputs": [
        {
          "output_type": "stream",
          "name": "stderr",
          "text": [
            "ERROR:root:Internal Python error in the inspect module.\n",
            "Below is the traceback from this internal error.\n",
            "\n"
          ]
        },
        {
          "output_type": "stream",
          "name": "stdout",
          "text": [
            "Traceback (most recent call last):\n",
            "  File \"/usr/local/lib/python3.9/dist-packages/IPython/core/interactiveshell.py\", line 3326, in run_code\n",
            "    exec(code_obj, self.user_global_ns, self.user_ns)\n",
            "  File \"<ipython-input-144-e7d6eb705d20>\", line 1, in <module>\n",
            "    cm = confusion_matrix(y_test.argmax(axis=1), prediction.argmax(axis=1))\n",
            "  File \"/usr/local/lib/python3.9/dist-packages/sklearn/metrics/_classification.py\", line 317, in confusion_matrix\n",
            "    y_type, y_true, y_pred = _check_targets(y_true, y_pred)\n",
            "  File \"/usr/local/lib/python3.9/dist-packages/sklearn/metrics/_classification.py\", line 86, in _check_targets\n",
            "    check_consistent_length(y_true, y_pred)\n",
            "  File \"/usr/local/lib/python3.9/dist-packages/sklearn/utils/validation.py\", line 397, in check_consistent_length\n",
            "    raise ValueError(\n",
            "ValueError: Found input variables with inconsistent numbers of samples: [20, 19]\n",
            "\n",
            "During handling of the above exception, another exception occurred:\n",
            "\n",
            "Traceback (most recent call last):\n",
            "  File \"/usr/local/lib/python3.9/dist-packages/IPython/core/interactiveshell.py\", line 2040, in showtraceback\n",
            "    stb = value._render_traceback_()\n",
            "AttributeError: 'ValueError' object has no attribute '_render_traceback_'\n",
            "\n",
            "During handling of the above exception, another exception occurred:\n",
            "\n",
            "Traceback (most recent call last):\n",
            "  File \"/usr/local/lib/python3.9/dist-packages/IPython/core/ultratb.py\", line 1101, in get_records\n",
            "    return _fixed_getinnerframes(etb, number_of_lines_of_context, tb_offset)\n",
            "  File \"/usr/local/lib/python3.9/dist-packages/IPython/core/ultratb.py\", line 319, in wrapped\n",
            "    return f(*args, **kwargs)\n",
            "  File \"/usr/local/lib/python3.9/dist-packages/IPython/core/ultratb.py\", line 353, in _fixed_getinnerframes\n",
            "    records = fix_frame_records_filenames(inspect.getinnerframes(etb, context))\n",
            "  File \"/usr/lib/python3.9/inspect.py\", line 1543, in getinnerframes\n",
            "    frameinfo = (tb.tb_frame,) + getframeinfo(tb, context)\n",
            "  File \"/usr/lib/python3.9/inspect.py\", line 1501, in getframeinfo\n",
            "    filename = getsourcefile(frame) or getfile(frame)\n",
            "  File \"/usr/lib/python3.9/inspect.py\", line 709, in getsourcefile\n",
            "    if getattr(getmodule(object, filename), '__loader__', None) is not None:\n",
            "  File \"/usr/lib/python3.9/inspect.py\", line 738, in getmodule\n",
            "    file = getabsfile(object, _filename)\n",
            "  File \"/usr/lib/python3.9/inspect.py\", line 722, in getabsfile\n",
            "    return os.path.normcase(os.path.abspath(_filename))\n",
            "  File \"/usr/lib/python3.9/posixpath.py\", line 380, in abspath\n",
            "    cwd = os.getcwd()\n",
            "OSError: [Errno 107] Transport endpoint is not connected\n"
          ]
        },
        {
          "output_type": "error",
          "ename": "ValueError",
          "evalue": "ignored",
          "traceback": [
            "\u001b[0;31m---------------------------------------------------------------------------\u001b[0m"
          ]
        }
      ]
    },
    {
      "cell_type": "code",
      "source": [
        "disp = ConfusionMatrixDisplay(confusion_matrix=cm, display_labels = ['Walk', 'Run'])\n",
        "disp.plot()\n",
        "plt.show()"
      ],
      "metadata": {
        "colab": {
          "base_uri": "https://localhost:8080/",
          "height": 283
        },
        "id": "fn-LZESnEj7D",
        "outputId": "5904bd4c-b568-4a07-eb76-a21c21969d55"
      },
      "execution_count": null,
      "outputs": [
        {
          "output_type": "display_data",
          "data": {
            "text/plain": [
              "<Figure size 432x288 with 2 Axes>"
            ],
            "image/png": "[encoded data removed]"
          },
          "metadata": {
            "needs_background": "light"
          }
        }
      ]
    },
    {
      "cell_type": "code",
      "source": [
        "accuracy = 100*np.trace(cm)/np.sum(cm)\n",
        "print(accuracy)"
      ],
      "metadata": {
        "colab": {
          "base_uri": "https://localhost:8080/"
        },
        "id": "k-7mcpKxE7wP",
        "outputId": "0d30a6d9-4707-457c-909c-36b59aa78779"
      },
      "execution_count": null,
      "outputs": [
        {
          "output_type": "stream",
          "name": "stdout",
          "text": [
            "44.827586206896555\n"
          ]
        }
      ]
    }
  ]
}