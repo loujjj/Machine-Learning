{
  "nbformat": 4,
  "nbformat_minor": 0,
  "metadata": {
    "colab": {
      "provenance": [],
      "include_colab_link": true
    },
    "kernelspec": {
      "name": "python3",
      "display_name": "Python 3"
    },
    "language_info": {
      "name": "python"
    }
  },
  "cells": [
    {
      "cell_type": "markdown",
      "metadata": {
        "id": "view-in-github",
        "colab_type": "text"
      },
      "source": [
        "<a href=\"https://colab.research.google.com/github/loujjj/Machine-Learning/blob/main/PCT042ndattempt_Tabor.ipynb\" target=\"_parent\"><img src=\"https://colab.research.google.com/assets/colab-badge.svg\" alt=\"Open In Colab\"/></a>"
      ]
    },
    {
      "cell_type": "markdown",
      "source": [
        "##**Classification of Walk vs Run**"
      ],
      "metadata": {
        "id": "w12W2G-6c32h"
      }
    },
    {
      "cell_type": "markdown",
      "source": [
        "####**Importing the Necessary Libraries**"
      ],
      "metadata": {
        "id": "19trjlLic6EL"
      }
    },
    {
      "cell_type": "code",
      "execution_count": null,
      "metadata": {
        "id": "XPZnl1jNcuB1"
      },
      "outputs": [],
      "source": [
        "import numpy as np\n",
        "import matplotlib.pyplot as plt\n",
        "import pandas as pd\n",
        "import os\n",
        "import cv2 as cv\n",
        "import fnmatch\n",
        "\n",
        "import tensorflow as tf\n",
        "from tensorflow import keras\n",
        "from tensorflow.keras.models import Sequential\n",
        "from tensorflow.keras.layers import Dense, Conv1D, Dropout, Flatten, MaxPooling1D\n",
        "\n",
        "from sklearn import datasets\n",
        "from sklearn.preprocessing import LabelEncoder\n",
        "from sklearn.model_selection import train_test_split\n",
        "from sklearn.metrics import confusion_matrix, ConfusionMatrixDisplay"
      ]
    },
    {
      "cell_type": "markdown",
      "source": [
        "####**Importing and Preparing the Data**"
      ],
      "metadata": {
        "id": "21I4-WljdB3r"
      }
    },
    {
      "cell_type": "markdown",
      "source": [
        "#####**Importing the Data**"
      ],
      "metadata": {
        "id": "-z48xONBdGc0"
      }
    },
    {
      "cell_type": "code",
      "source": [
        "from google.colab import drive\n",
        "drive.mount('/content/gdrive/', force_remount=True)"
      ],
      "metadata": {
        "id": "a0VllYJydK2L",
        "outputId": "e6f94ea1-3ab1-4bf0-b1e7-7b2efafec2b5",
        "colab": {
          "base_uri": "https://localhost:8080/"
        }
      },
      "execution_count": null,
      "outputs": [
        {
          "output_type": "stream",
          "name": "stdout",
          "text": [
            "Mounted at /content/gdrive/\n"
          ]
        }
      ]
    },
    {
      "cell_type": "code",
      "source": [
        "cd gdrive/MyDrive/'Colab Notebooks'/Book/BallsDatasets"
      ],
      "metadata": {
        "colab": {
          "base_uri": "https://localhost:8080/"
        },
        "id": "ATHuKHGmGqhd",
        "outputId": "04b97c17-8300-4eaa-8fd8-912e16f99be2"
      },
      "execution_count": null,
      "outputs": [
        {
          "output_type": "stream",
          "name": "stdout",
          "text": [
            "/content/gdrive/MyDrive/Colab Notebooks/Book/BallsDatasets\n"
          ]
        }
      ]
    },
    {
      "cell_type": "markdown",
      "source": [
        "**NOTE: You have to save the attached csv file to one of your subfolders in Google Drive and change the name of the subfolder below, accordingly.**"
      ],
      "metadata": {
        "id": "lUPIQIxqIfvI"
      }
    },
    {
      "cell_type": "code",
      "source": [
        "ls"
      ],
      "metadata": {
        "id": "R6Vx8Cz4dRf4",
        "colab": {
          "base_uri": "https://localhost:8080/"
        },
        "outputId": "b97de1cc-0da5-4b50-e564-c53d2e2e1964"
      },
      "execution_count": null,
      "outputs": [
        {
          "output_type": "stream",
          "name": "stdout",
          "text": [
            " baseball00.jpg           bowling20.jpg          soccer29.jpg\n",
            " baseball01.jpg           bowling21.png          soccer30.jpg\n",
            " baseball02.png           bowling22.png          soccer31.jpg\n",
            " baseball03.jpg           bowling23.png          soccer32.jpg\n",
            " baseball04.jpg           bowling24.jpg          soccer33.png\n",
            " baseball05.jpg           bowling25.png          soccer34.jpg\n",
            " baseball06.png           bowling26.png          soccer36.jpg\n",
            " baseball07.jpg           bowling27.jpg          soccer37.png\n",
            " baseball08.jpeg          bowling28.jpg          soccer38.png\n",
            " baseball09.jpeg          bowling29.jpg          soccer39.png\n",
            " baseball10.jpg           bowling30.png          soccer40.jpg\n",
            " baseball11.jpg           bowling31.png          soccer41.jpg\n",
            " baseball12.jpg           bowling32.png          soccer42.jpg\n",
            " baseball13.jpg           bowling34.jpg          soccer43.jpg\n",
            " baseball14.jpg           bowling35.jpg          soccer44.jpg\n",
            " baseball15.jpg           bowling36.png          soccer45.jpg\n",
            " baseball16.jpg           bowling37.png          soccer46.png\n",
            " baseball17.jpg           bowling38.png          soccer48.jpg\n",
            " baseball18.jpg           bowling39.jpg          soccer48.png\n",
            " baseball19.jpg           bowling40.jpg          soccer49.png\n",
            " baseball20.jpg           bowling41.jpg          soccer50.jpg\n",
            " baseball21.png           bowling42.jpg          soccer51.jpeg\n",
            " baseball22.png           bowling43.jpg          soccer52.jpeg\n",
            " baseball23.png           bowling44.jpg          soccer53.jpeg\n",
            " baseball24.jpg           bowling45.jpg          tabletennis00.jpg\n",
            " baseball25.jpg           bowling46.jpg          tabletennis01.jpg\n",
            " baseball26.jpg           bowling47.jpg          tabletennis02.jpg\n",
            " baseball27.jpg           bowling48.png          tabletennis03.jpg\n",
            " baseball28.jpg           bowling49.png          tabletennis04.jpg\n",
            " baseball29.jpg           bowling50.png          tabletennis07.png\n",
            " baseball30.png           bowling51.jpeg        'tabletennis08 (1).jpeg'\n",
            " baseball31.png           bowling52.jpeg         tabletennis08.jpeg\n",
            " baseball32.png           bowling53.jpeg         tabletennis09.jpg\n",
            " baseball33.jpg           football00.jpg         tabletennis10.jpg\n",
            " baseball36.png           football01.jpg         tabletennis11.jpg\n",
            " baseball37.png           football05.jpg         tabletennis12.jpg\n",
            " baseball38.png           football06.jpg         tabletennis13.jpg\n",
            " baseball39.png           football07.jpg         tabletennis14.jpg\n",
            " baseball40.jpg          'football08 (1).jpg'    tabletennis15.jpg\n",
            " baseball41.jpg           football08.jpg         tabletennis16.jpg\n",
            " baseball42.jpg          'football09 (1).png'    tabletennis17.jpg\n",
            " baseball43.jpg           football09.png        'tabletennis18 (1).png'\n",
            " baseball44.jpg           football10.jpg         tabletennis18.png\n",
            " baseball46.jpg           football11.jpg        'tabletennis19 (1).png'\n",
            " baseball47.jpg           football12.jpg         tabletennis19.png\n",
            " baseball48.png           football13.png         tabletennis20.png\n",
            " baseball49.jpg           football14.png         tabletennis21.png\n",
            " baseball50.jpg           football15.jpg         tabletennis22.png\n",
            " baseball51.jpeg          football16.jpg         tabletennis23.png\n",
            " baseball52.jpeg          football17.jpg        'tabletennis27 (1).jpg'\n",
            " baseball53.jpeg          football18.jpg         tabletennis27.jpg\n",
            " basketball00.jpg         football19.jpg         tabletennis28.jpg\n",
            " basketball01.jpg        'football20 (1).jpg'    tabletennis29.jpg\n",
            " basketball02.png         football20.jpg         tabletennis30.jpeg\n",
            " basketball03.png        'football21 (1).png'   'tabletennis31 (1).jpg'\n",
            " basketball07.jpeg        football21.png         tabletennis31.jpg\n",
            " basketball08.jpeg       'football22 (1).jpg'   'tabletennis32 (1).png'\n",
            " basketball09.jpeg        football22.jpg         tabletennis32.png\n",
            " basketball10.jpg        'football23 (1).png'   'tabletennis33 (1).png'\n",
            " basketball11.jpg         football23.png         tabletennis33.png\n",
            " basketball12.jpg         football24.jpg         tabletennis34.png\n",
            " basketball13.png         football25.jpg         tabletennis35.jpg\n",
            " basketball14.png         football26.jpg         tabletennis36.jpg\n",
            " basketball15.jpg         football27.jpg         tabletennis37.jpg\n",
            " basketball16.png         football28.jpg         tabletennis38.png\n",
            " basketball17.jpg         football29.png         tabletennis39.png\n",
            "'basketball18 (1).jpg'    football30.png        'tabletennis40 (1).png'\n",
            "'basketball18 (2).jpg'    football31.png         tabletennis40.png\n",
            " basketball18.jpg         football32.png        'tabletennis41 (1).jpg'\n",
            "'basketball19 (1).jpg'   'football36 (1).png'    tabletennis41.jpg\n",
            "'basketball19 (2).jpg'    football36.png         tabletennis42.jpg\n",
            " basketball19.jpg        'football37 (1).png'    tabletennis43.jpg\n",
            " basketball20.jpg         football37.png         tabletennis44.jpg\n",
            " basketball21.jpg         football38.png         tabletennis45.jpg\n",
            " basketball22.png         football39.jpg         tabletennis46.jpg\n",
            " basketball23.png         football40.jpg         tabletennis47.jpg\n",
            "'basketball24 (1).jpg'    football41.jpg         tabletennis48.jpg\n",
            "'basketball24 (2).jpg'    football42.jpg         tabletennis49.jpg\n",
            " basketball24.jpg         football43.jpg         tabletennis50.jpg\n",
            " basketball25.jpg         football44.jpg        'tabletennis51 (1).jpg'\n",
            "'basketball26 (1).jpg'    football46.jpg         tabletennis51.jpg\n",
            "'basketball26 (2).jpg'    football47.jpg         tabletennis52.png\n",
            " basketball26.jpg         football48.png        'tabletennis53 (1).jpeg'\n",
            "'basketball27 (1).jpg'    football49.png         tabletennis53.jpeg\n",
            "'basketball27 (2).jpg'   'football50 (1).png'    tabletennis54.jpeg\n",
            " basketball27.jpg         football50.png         tennis00.jpg\n",
            " basketball28.jpg         football51.jpeg        tennis01.jpg\n",
            " basketball29.jpg        'football52 (1).jpeg'   tennis02.jpg\n",
            "'basketball30 (1).png'    football52.jpeg        tennis03.jpg\n",
            "'basketball30 (2).png'    football53.jpeg        tennis04.jpg\n",
            " basketball30.png         golf00.jpg             tennis05.jpg\n",
            " basketball31.png         golf01.jpg             tennis06.png\n",
            "'basketball32 (1).png'    golf02.jpg             tennis07.jpeg\n",
            "'basketball32 (2).png'    golf03.jpg             tennis08.jpg\n",
            " basketball32.png         golf04.jpg             tennis09.jpg\n",
            " basketball34.jpg         golf05.png             tennis10.jpg\n",
            " basketball35.jpg        'golf07 (1).jpeg'       tennis11.jpg\n",
            " basketball36.png        'golf07 (2).jpeg'       tennis12.jpg\n",
            " basketball37.png         golf07.jpeg            tennis13.jpg\n",
            " basketball38.png        'golf08 (1).png'        tennis14.jpg\n",
            " basketball39.jpg        'golf08 (2).png'        tennis15.jpg\n",
            "'basketball40 (1).jpg'    golf08.png             tennis16.jpg\n",
            "'basketball40 (2).jpg'   'golf09 (1).png'        tennis17.jpg\n",
            " basketball40.jpg         golf09.png             tennis18.png\n",
            "'basketball41 (1).jpg'    golf10.jpg             tennis19.png\n",
            "'basketball41 (2).jpg'    golf11.jpg             tennis20.png\n",
            " basketball41.jpg         golf12.jpg             tennis21.png\n",
            " basketball42.jpg         golf13.png             tennis22.png\n",
            " basketball43.jpg         golf14.png             tennis23.png\n",
            " basketball44.jpg         golf15.png             tennis27.jpg\n",
            " basketball45.png         golf16.jpg             tennis28.jpg\n",
            " basketball46.png         golf17.jpg             tennis29.jpg\n",
            " basketball47.png         golf18.jpg             tennis30.png\n",
            " basketball48.png         golf19.jpg             tennis31.png\n",
            " basketball49.png        'golf20 (1).jpg'        tennis32.png\n",
            " basketball50.png        'golf20 (2).jpg'        tennis33.jpg\n",
            "'basketball51 (1).jpeg'   golf20.jpg             tennis34.jpg\n",
            "'basketball51 (2).jpeg'   golf21.png             tennis36.png\n",
            " basketball51.jpeg       'golf22 (1).png'        tennis37.png\n",
            " basketball52.jpeg       'golf22 (2).png'        tennis38.png\n",
            " basketball53.jpeg        golf22.png             tennis39.jpg\n",
            " billiards00.jpg         'golf23 (1).png'        tennis40.jpg\n",
            " billiards01.png         'golf23 (2).png'        tennis41.jpg\n",
            " billiards02.jpeg         golf23.png             tennis42.jpg\n",
            " billiards03.jpeg         golf27.jpg             tennis43.jpg\n",
            " billiards07.jpg          golf28.png             tennis44.jpg\n",
            " billiards08.jpg          golf29.jpg             tennis45.jpg\n",
            " billiards09.jpg          golf30.jpg             tennis46.jpg\n",
            " billiards10.jpg          golf31.png             tennis47.jpg\n",
            " billiards11.jpg          golf32.png             tennis48.png\n",
            " billiards12.jpg          golf33.png             tennis49.png\n",
            " billiards13.png         'golf34 (1).jpg'        tennis50.jpg\n",
            " billiards14.png         'golf34 (2).jpg'        tennis51.jpeg\n",
            " billiards15.png          golf34.jpg             tennis52.jpeg\n",
            " billiards16.jpg         'golf35 (1).jpg'        tennis53.jpeg\n",
            " billiards17.jpg          golf35.jpg             volleyball00.jpg\n",
            " billiards18.webp        'golf36 (1).jpg'        volleyball01.jpg\n",
            " billiards19.jpg         'golf36 (2).jpg'        volleyball02.jpg\n",
            " billiards20.jpg          golf36.jpg             volleyball03.jpg\n",
            " billiards21.png         'golf37 (1).png'        volleyball07.jpg\n",
            " billiards22.png         'golf37 (2).png'        volleyball08.png\n",
            " billiards23.png          golf37.png             volleyball09.jpg\n",
            " billiards24.jpg          golf38.png             volleyball10.jpg\n",
            " billiards25.jpg          golf39.png             volleyball11.jpg\n",
            " billiards26.jpg          golf40.png             volleyball12.jpg\n",
            " billiards27.jpg          golf41.jpg             volleyball13.jpg\n",
            " billiards28.jpg          golf42.jpg             volleyball14.png\n",
            " billiards29.jpg         'golf43 (1).jpg'        volleyball15.jpg\n",
            " billiards30.png          golf43.jpg             volleyball16.jpg\n",
            " billiards31.png          golf44.jpg             volleyball17.jpg\n",
            " billiards32.png          golf45.jpg             volleyball18.png\n",
            " billiards33.jpeg         golf46.jpg             volleyball19.png\n",
            " billiards36.png          golf47.jpg             volleyball20.png\n",
            " billiards37.png          golf49.png             volleyball21.png\n",
            " billiards38.png          golf50.jpg             volleyball22.png\n",
            " billiards39.png         'golf51 (1).jpg'        volleyball23.png\n",
            " billiards40.jpg          golf51.jpg             volleyball27.jpg\n",
            " billiards41.jpg          golf52.jpg             volleyball28.jpg\n",
            " billiards42.jpg          golf53.jpeg            volleyball29.jpg\n",
            " billiards43.jpg          golf54.jpeg            volleyball30.jpg\n",
            " billiards44.jpg          soccer00.jpg           volleyball31.jpg\n",
            " billiards45.png          soccer01.jpg           volleyball32.jpg\n",
            " billiards46.png          soccer02.jpeg          volleyball33.png\n",
            " billiards47.png          soccer03.jpg           volleyball34.png\n",
            " billiards48.jpg          soccer04.jpg           volleyball35.png\n",
            " billiards49.png          soccer05.jpg           volleyball37.jpeg\n",
            " billiards50.png          soccer06.jpg           volleyball39.png\n",
            " billiards51.jpeg         soccer07.jpeg          volleyball40.png\n",
            " billiards52.jpeg         soccer08.jpg           volleyball41.png\n",
            " billiards53.png          soccer09.png           volleyball42.jpg\n",
            " bowling00.jpg            soccer10.jpg           volleyball43.png\n",
            " bowling01.jpg            soccer11.jpg           volleyball44.jpg\n",
            " bowling02.jpg            soccer12.jpg           volleyball45.png\n",
            " bowling03.jpg            soccer13.jpg           volleyball46.jpg\n",
            " bowling07.jpeg           soccer14.jpg           volleyball47.jpg\n",
            " bowling08.jpeg           soccer16.jpg           volleyball48.jpg\n",
            " bowling09.jpeg           soccer17.jpg           volleyball49.jpg\n",
            " bowling10.jpg            soccer18.png           volleyball50.jpg\n",
            " bowling11.jpg            soccer19.png           volleyball51.png\n",
            " bowling12.jpg            soccer20.png           volleyball52.png\n",
            " bowling13.png            soccer21.png           volleyball53.png\n",
            " bowling14.png            soccer22.png           volleyball54.png\n",
            " bowling15.png            soccer23.png           volleyball55.jpeg\n",
            " bowling17.jpg            soccer27.jpg           volleyball56.jpeg\n",
            " bowling19.jpg            soccer28.jpg\n"
          ]
        }
      ]
    },
    {
      "cell_type": "markdown",
      "source": [
        "The walk vs run data set."
      ],
      "metadata": {
        "id": "vRcVKbYBdUSj"
      }
    },
    {
      "cell_type": "code",
      "source": [
        "organize = pd.DataFrame.from_dict(os.listdir())\n",
        "random   = organize.sample(frac=1, random_state=1).reset_index()\n",
        "data     = pd.DataFrame(random)[0].values.tolist()"
      ],
      "metadata": {
        "id": "u4jOD3KtdSBj"
      },
      "execution_count": null,
      "outputs": []
    },
    {
      "cell_type": "code",
      "source": [
        "print(data)"
      ],
      "metadata": {
        "id": "cEhF6Cna7Svb",
        "outputId": "011172df-2fc5-4808-cd6f-b75e56c9af2a",
        "colab": {
          "base_uri": "https://localhost:8080/"
        }
      },
      "execution_count": null,
      "outputs": [
        {
          "output_type": "stream",
          "name": "stdout",
          "text": [
            "['volleyball01.jpg', 'golf45.jpg', 'volleyball09.jpg', 'baseball14.jpg', 'soccer36.jpg', 'baseball37.png', 'golf19.jpg', 'tennis14.jpg', 'tennis01.jpg', 'basketball41 (1).jpg', 'basketball30 (2).png', 'basketball40.jpg', 'soccer10.jpg', 'tennis08.jpg', 'tabletennis35.jpg', 'tabletennis17.jpg', 'tennis17.jpg', 'tabletennis21.png', 'golf04.jpg', 'billiards20.jpg', 'volleyball43.png', 'basketball47.png', 'tabletennis51.jpg', 'soccer53.jpeg', 'basketball45.png', 'baseball00.jpg', 'golf35 (1).jpg', 'bowling46.jpg', 'soccer50.jpg', 'volleyball21.png', 'football47.jpg', 'football13.png', 'basketball29.jpg', 'bowling20.jpg', 'billiards01.png', 'baseball51.jpeg', 'volleyball35.png', 'football09 (1).png', 'billiards25.jpg', 'bowling07.jpeg', 'soccer48.jpg', 'golf34.jpg', 'football20.jpg', 'football10.jpg', 'golf07 (2).jpeg', 'tabletennis11.jpg', 'football26.jpg', 'baseball38.png', 'tabletennis42.jpg', 'bowling52.jpeg', 'volleyball56.jpeg', 'golf13.png', 'tennis46.jpg', 'basketball24.jpg', 'basketball35.jpg', 'football36.png', 'baseball39.png', 'volleyball20.png', 'volleyball00.jpg', 'basketball12.jpg', 'bowling39.jpg', 'billiards10.jpg', 'tabletennis45.jpg', 'basketball53.jpeg', 'football37 (1).png', 'volleyball31.jpg', 'tabletennis08.jpeg', 'soccer33.png', 'basketball40 (2).jpg', 'tennis02.jpg', 'volleyball22.png', 'tabletennis43.jpg', 'golf52.jpg', 'basketball16.png', 'bowling38.png', 'golf03.jpg', 'basketball30 (1).png', 'golf21.png', 'golf43 (1).jpg', 'billiards39.png', 'football27.jpg', 'baseball33.jpg', 'tennis38.png', 'basketball27 (2).jpg', 'bowling29.jpg', 'baseball03.jpg', 'volleyball08.png', 'baseball13.jpg', 'billiards33.jpeg', 'football23.png', 'basketball00.jpg', 'tennis52.jpeg', 'billiards43.jpg', 'tabletennis38.png', 'soccer37.png', 'golf01.jpg', 'baseball25.jpg', 'basketball41 (2).jpg', 'tabletennis34.png', 'football36 (1).png', 'bowling44.jpg', 'baseball11.jpg', 'football52.jpeg', 'baseball50.jpg', 'basketball15.jpg', 'volleyball55.jpeg', 'bowling08.jpeg', 'volleyball32.jpg', 'soccer43.jpg', 'basketball01.jpg', 'billiards48.jpg', 'football22 (1).jpg', 'billiards28.jpg', 'volleyball40.png', 'tennis34.jpg', 'football01.jpg', 'billiards24.jpg', 'golf50.jpg', 'football24.jpg', 'billiards12.jpg', 'tennis09.jpg', 'tabletennis19 (1).png', 'billiards46.png', 'tennis51.jpeg', 'basketball09.jpeg', 'tabletennis51 (1).jpg', 'basketball41.jpg', 'tabletennis28.jpg', 'basketball42.jpg', 'football00.jpg', 'soccer51.jpeg', 'golf20 (1).jpg', 'tabletennis33.png', 'basketball31.png', 'basketball17.jpg', 'billiards44.jpg', 'tabletennis29.jpg', 'basketball39.jpg', 'tennis10.jpg', 'football29.png', 'soccer27.jpg', 'baseball16.jpg', 'football39.jpg', 'tabletennis02.jpg', 'tabletennis52.png', 'golf33.png', 'bowling14.png', 'tabletennis54.jpeg', 'basketball02.png', 'billiards03.jpeg', 'basketball24 (2).jpg', 'bowling27.jpg', 'tennis22.png', 'soccer08.jpg', 'golf53.jpeg', 'volleyball51.png', 'tabletennis22.png', 'golf22.png', 'tabletennis47.jpg', 'billiards18.webp', 'tennis40.jpg', 'golf46.jpg', 'volleyball16.jpg', 'basketball38.png', 'golf00.jpg', 'bowling23.png', 'soccer11.jpg', 'soccer39.png', 'volleyball42.jpg', 'golf34 (2).jpg', 'baseball52.jpeg', 'volleyball23.png', 'baseball12.jpg', 'football08.jpg', 'golf51.jpg', 'tennis04.jpg', 'golf16.jpg', 'tabletennis50.jpg', 'soccer14.jpg', 'bowling26.png', 'basketball46.png', 'football21 (1).png', 'golf11.jpg', 'bowling36.png', 'baseball36.png', 'soccer28.jpg', 'bowling50.png', 'tabletennis32 (1).png', 'billiards14.png', 'bowling12.jpg', 'basketball36.png', 'volleyball41.png', 'tabletennis13.jpg', 'bowling22.png', 'golf34 (1).jpg', 'football48.png', 'billiards50.png', 'football18.jpg', 'soccer12.jpg', 'golf38.png', 'billiards23.png', 'soccer02.jpeg', 'tabletennis16.jpg', 'bowling01.jpg', 'bowling41.jpg', 'tabletennis08 (1).jpeg', 'billiards41.jpg', 'soccer42.jpg', 'basketball08.jpeg', 'tennis41.jpg', 'billiards07.jpg', 'golf40.png', 'football32.png', 'billiards16.jpg', 'billiards53.png', 'tennis47.jpg', 'golf42.jpg', 'basketball48.png', 'bowling45.jpg', 'football30.png', 'football31.png', 'tennis12.jpg', 'soccer13.jpg', 'baseball01.jpg', 'golf28.png', 'baseball04.jpg', 'golf17.jpg', 'baseball43.jpg', 'volleyball15.jpg', 'tennis18.png', 'golf37 (1).png', 'bowling24.jpg', 'tennis16.jpg', 'golf20 (2).jpg', 'billiards52.jpeg', 'volleyball07.jpg', 'basketball27 (1).jpg', 'golf18.jpg', 'basketball07.jpeg', 'baseball26.jpg', 'bowling25.png', 'football50 (1).png', 'tabletennis12.jpg', 'volleyball02.jpg', 'bowling53.jpeg', 'football37.png', 'soccer22.png', 'tabletennis53.jpeg', 'soccer09.png', 'football16.jpg', 'bowling00.jpg', 'basketball50.png', 'tennis48.png', 'billiards37.png', 'basketball32 (2).png', 'billiards51.jpeg', 'basketball32 (1).png', 'soccer29.jpg', 'basketball51 (1).jpeg', 'basketball44.jpg', 'tabletennis44.jpg', 'bowling28.jpg', 'bowling02.jpg', 'football51.jpeg', 'billiards40.jpg', 'golf23 (2).png', 'volleyball12.jpg', 'volleyball17.jpg', 'baseball47.jpg', 'football23 (1).png', 'tabletennis10.jpg', 'billiards13.png', 'golf07.jpeg', 'tennis43.jpg', 'football11.jpg', 'football46.jpg', 'golf32.png', 'tabletennis03.jpg', 'basketball24 (1).jpg', 'football41.jpg', 'basketball18.jpg', 'basketball51.jpeg', 'football40.jpg', 'billiards49.png', 'tennis28.jpg', 'golf47.jpg', 'bowling48.png', 'volleyball50.jpg', 'baseball19.jpg', 'golf43.jpg', 'golf20.jpg', 'football20 (1).jpg', 'golf05.png', 'soccer21.png', 'football22.jpg', 'football14.png', 'tennis31.png', 'tabletennis48.jpg', 'tabletennis49.jpg', 'bowling40.jpg', 'volleyball44.jpg', 'baseball27.jpg', 'soccer45.jpg', 'golf36 (1).jpg', 'tabletennis32.png', 'tabletennis40 (1).png', 'soccer20.png', 'volleyball46.jpg', 'tennis39.jpg', 'tennis29.jpg', 'bowling34.jpg', 'soccer05.jpg', 'tabletennis37.jpg', 'volleyball29.jpg', 'billiards17.jpg', 'volleyball03.jpg', 'golf44.jpg', 'golf08 (1).png', 'volleyball28.jpg', 'basketball52.jpeg', 'football53.jpeg', 'basketball19.jpg', 'basketball26 (2).jpg', 'basketball27.jpg', 'bowling19.jpg', 'tabletennis04.jpg', 'football07.jpg', 'golf54.jpeg', 'football12.jpg', 'golf37 (2).png', 'golf22 (2).png', 'baseball17.jpg', 'baseball31.png', 'soccer16.jpg', 'tennis13.jpg', 'golf07 (1).jpeg', 'basketball11.jpg', 'billiards00.jpg', 'baseball06.png', 'bowling11.jpg', 'baseball18.jpg', 'baseball49.jpg', 'basketball30.png', 'tennis23.png', 'tennis00.jpg', 'billiards27.jpg', 'soccer49.png', 'golf09 (1).png', 'billiards19.jpg', 'basketball43.jpg', 'tennis44.jpg', 'baseball30.png', 'football09.png', 'volleyball45.png', 'soccer41.jpg', 'tennis03.jpg', 'baseball07.jpg', 'bowling30.png', 'tabletennis09.jpg', 'football43.jpg', 'soccer31.jpg', 'basketball37.png', 'tabletennis27 (1).jpg', 'baseball53.jpeg', 'bowling35.jpg', 'football08 (1).jpg', 'volleyball33.png', 'soccer18.png', 'volleyball19.png', 'football49.png', 'baseball29.jpg', 'soccer00.jpg', 'billiards26.jpg', 'football52 (1).jpeg', 'soccer32.jpg', 'tennis32.png', 'tabletennis18 (1).png', 'basketball13.png', 'soccer03.jpg', 'bowling21.png', 'soccer23.png', 'baseball15.jpg', 'tennis05.jpg', 'golf12.jpg', 'golf22 (1).png', 'volleyball54.png', 'soccer52.jpeg', 'tennis53.jpeg', 'tennis27.jpg', 'volleyball18.png', 'golf09.png', 'baseball32.png', 'bowling43.jpg', 'tennis50.jpg', 'golf51 (1).jpg', 'basketball34.jpg', 'basketball21.jpg', 'bowling10.jpg', 'golf10.jpg', 'baseball40.jpg', 'soccer04.jpg', 'football17.jpg', 'basketball49.png', 'soccer17.jpg', 'basketball40 (1).jpg', 'tabletennis40.png', 'volleyball49.jpg', 'golf08.png', 'soccer19.png', 'basketball32.png', 'baseball23.png', 'tennis20.png', 'tabletennis41.jpg', 'tabletennis36.jpg', 'basketball23.png', 'tennis42.jpg', 'tennis33.jpg', 'basketball18 (2).jpg', 'tennis21.png', 'volleyball11.jpg', 'volleyball37.jpeg', 'bowling37.png', 'billiards32.png', 'basketball51 (2).jpeg', 'tabletennis07.png', 'billiards11.jpg', 'baseball22.png', 'billiards15.png', 'football44.jpg', 'golf14.png', 'tabletennis19.png', 'basketball19 (2).jpg', 'football38.png', 'soccer46.png', 'billiards31.png', 'golf37.png', 'tabletennis46.jpg', 'billiards02.jpeg', 'volleyball30.jpg', 'bowling17.jpg', 'golf23.png', 'golf29.jpg', 'soccer07.jpeg', 'tennis06.png', 'baseball42.jpg', 'golf36.jpg', 'baseball08.jpeg', 'baseball05.jpg', 'golf02.jpg', 'baseball48.png', 'golf31.png', 'volleyball14.png', 'tabletennis18.png', 'tennis15.jpg', 'golf30.jpg', 'tabletennis20.png', 'golf15.png', 'baseball10.jpg', 'baseball02.png', 'volleyball53.png', 'golf08 (2).png', 'football28.jpg', 'baseball44.jpg', 'basketball26.jpg', 'soccer38.png', 'baseball24.jpg', 'bowling32.png', 'billiards38.png', 'volleyball34.png', 'basketball22.png', 'baseball20.jpg', 'billiards22.png', 'golf41.jpg', 'soccer30.jpg', 'football21.png', 'volleyball13.jpg', 'golf35.jpg', 'football25.jpg', 'football50.png', 'bowling51.jpeg', 'tabletennis14.jpg', 'golf27.jpg', 'bowling15.png', 'billiards45.png', 'tabletennis30.jpeg', 'soccer40.jpg', 'billiards29.jpg', 'basketball14.png', 'football19.jpg', 'basketball10.jpg', 'volleyball52.png', 'tabletennis41 (1).jpg', 'basketball20.jpg', 'soccer34.jpg', 'golf39.png', 'soccer06.jpg', 'tennis11.jpg', 'volleyball47.jpg', 'baseball21.png', 'tabletennis31.jpg', 'soccer01.jpg', 'basketball18 (1).jpg', 'basketball19 (1).jpg', 'football06.jpg', 'tennis37.png', 'football42.jpg', 'volleyball27.jpg', 'billiards36.png', 'tabletennis00.jpg', 'tennis19.png', 'tennis07.jpeg', 'bowling03.jpg', 'billiards42.jpg', 'baseball28.jpg', 'billiards30.png', 'tabletennis01.jpg', 'bowling09.jpeg', 'billiards47.png', 'bowling47.jpg', 'tabletennis53 (1).jpeg', 'bowling49.png', 'tabletennis39.png', 'billiards08.jpg', 'golf49.png', 'tennis49.png', 'tabletennis31 (1).jpg', 'golf23 (1).png', 'tabletennis33 (1).png', 'volleyball48.jpg', 'tennis30.png', 'bowling31.png', 'basketball03.png', 'volleyball39.png', 'bowling13.png', 'tabletennis15.jpg', 'soccer44.jpg', 'soccer48.png', 'billiards21.png', 'baseball41.jpg', 'baseball46.jpg', 'basketball26 (1).jpg', 'bowling42.jpg', 'golf36 (2).jpg', 'basketball25.jpg', 'basketball28.jpg', 'tabletennis23.png', 'football05.jpg', 'tennis36.png', 'tennis45.jpg', 'volleyball10.jpg', 'football15.jpg', 'billiards09.jpg', 'tabletennis27.jpg', 'baseball09.jpeg']\n"
          ]
        }
      ]
    },
    {
      "cell_type": "code",
      "source": [
        "m = 0\n",
        "list_files = []\n",
        "for file in data:\n",
        "  image = cv.imread(file)\n",
        "  if image.shape == (28,28,3):\n",
        "    list_files.append(image)\n",
        "  else:\n",
        "    m += 1\n",
        "print(str(m) + ' images were not rescaled to 28x28 and are now excluded.')"
      ],
      "metadata": {
        "id": "Arum7jCW8Byp",
        "outputId": "d9e2a1d9-7ef9-4fec-8507-d88543f79aa7",
        "colab": {
          "base_uri": "https://localhost:8080/"
        }
      },
      "execution_count": null,
      "outputs": [
        {
          "output_type": "stream",
          "name": "stdout",
          "text": [
            "1 images were not rescaled to 28x28 and are now excluded.\n"
          ]
        }
      ]
    },
    {
      "cell_type": "code",
      "source": [
        "print(list_files[0].shape)\n",
        "print(len(list_files))"
      ],
      "metadata": {
        "id": "Y-4AZAPH8ukA",
        "outputId": "bff8762c-7ab3-4d9d-dc07-2ae7a2d2ce20",
        "colab": {
          "base_uri": "https://localhost:8080/"
        }
      },
      "execution_count": null,
      "outputs": [
        {
          "output_type": "stream",
          "name": "stdout",
          "text": [
            "(28, 28, 3)\n",
            "553\n"
          ]
        }
      ]
    },
    {
      "cell_type": "code",
      "source": [
        "print(list_files[0])\n",
        "plt.matshow(list_files[0])"
      ],
      "metadata": {
        "id": "9fZ3hwXF9kBH",
        "outputId": "4030609d-4e65-4845-b649-e7f820ff0675",
        "colab": {
          "base_uri": "https://localhost:8080/",
          "height": 1000
        }
      },
      "execution_count": null,
      "outputs": [
        {
          "output_type": "stream",
          "name": "stdout",
          "text": [
            "[[[255 251 255]\n",
            "  [255 250 255]\n",
            "  [255 254 255]\n",
            "  ...\n",
            "  [246 253 255]\n",
            "  [249 251 255]\n",
            "  [253 253 255]]\n",
            "\n",
            " [[255 253 255]\n",
            "  [255 253 255]\n",
            "  [251 250 252]\n",
            "  ...\n",
            "  [248 254 255]\n",
            "  [252 253 255]\n",
            "  [253 252 254]]\n",
            "\n",
            " [[255 255 251]\n",
            "  [255 255 252]\n",
            "  [255 255 255]\n",
            "  ...\n",
            "  [253 255 255]\n",
            "  [255 255 254]\n",
            "  [255 254 250]]\n",
            "\n",
            " ...\n",
            "\n",
            " [[255 251 255]\n",
            "  [255 251 255]\n",
            "  [253 255 255]\n",
            "  ...\n",
            "  [255 255 252]\n",
            "  [255 255 252]\n",
            "  [255 255 252]]\n",
            "\n",
            " [[255 252 255]\n",
            "  [255 251 255]\n",
            "  [249 251 251]\n",
            "  ...\n",
            "  [255 255 252]\n",
            "  [250 255 255]\n",
            "  [246 255 255]]\n",
            "\n",
            " [[255 252 255]\n",
            "  [255 254 255]\n",
            "  [253 255 255]\n",
            "  ...\n",
            "  [255 255 252]\n",
            "  [246 255 255]\n",
            "  [243 253 255]]]\n"
          ]
        },
        {
          "output_type": "execute_result",
          "data": {
            "text/plain": [
              "<matplotlib.image.AxesImage at 0x7f12952f39a0>"
            ]
          },
          "metadata": {},
          "execution_count": 32
        },
        {
          "output_type": "display_data",
          "data": {
            "text/plain": [
              "<Figure size 480x480 with 1 Axes>"
            ],
            "image/png": "[encoded data removed]"
          },
          "metadata": {}
        }
      ]
    },
    {
      "cell_type": "code",
      "source": [
        "flat_files = np.stack((list_files[i] for i in range(len(list_files))))\n",
        "print(flat_files.shape)"
      ],
      "metadata": {
        "id": "Omkhs4PL99v1",
        "outputId": "a6057e4a-d0aa-4170-eba7-233bcf220e90",
        "colab": {
          "base_uri": "https://localhost:8080/"
        }
      },
      "execution_count": null,
      "outputs": [
        {
          "output_type": "stream",
          "name": "stdout",
          "text": [
            "(553, 28, 28, 3)\n"
          ]
        }
      ]
    },
    {
      "cell_type": "code",
      "source": [
        "baseballXX    = 'baseball*'\n",
        "basketballXX  = 'basketball*'\n",
        "billiardsXX   = 'billiards*'\n",
        "bowlingXX     = 'bowling*'\n",
        "footballXX    = 'football*'\n",
        "golfXX        = 'golf*'\n",
        "soccerXX      = 'soccer*'\n",
        "tabletennisXX = 'tabletennis*'\n",
        "tennisXX      = 'tennis*'\n",
        "volleyballXX  = 'volleyball*'\n",
        "label         = []\n",
        "for filename in data:\n",
        "  image = cv.imread(filename)\n",
        "  if image.shape == (28,28,3):\n",
        "    if fnmatch.fnmatch(filename, baseballXX) == True:\n",
        "      label.append(0)\n",
        "    elif fnmatch.fnmatch(filename, basketballXX) == True:\n",
        "      label.append(1)\n",
        "    elif fnmatch.fnmatch(filename, billiardsXX) == True:\n",
        "      label.append(2)\n",
        "    elif fnmatch.fnmatch(filename, bowlingXX) == True:\n",
        "      label.append(3)\n",
        "    elif fnmatch.fnmatch(filename, footballXX) == True:\n",
        "      label.append(4)\n",
        "    elif fnmatch.fnmatch(filename, golfXX) == True:\n",
        "      label.append(5)\n",
        "    elif fnmatch.fnmatch(filename, soccerXX) == True:\n",
        "      label.append(6)\n",
        "    elif fnmatch.fnmatch(filename, tabletennisXX) == True:\n",
        "      label.append(7)\n",
        "    elif fnmatch.fnmatch(filename, tennisXX) == True:\n",
        "      label.append(8)\n",
        "    elif fnmatch.fnmatch(filename, volleyballXX) == True:\n",
        "      label.append(9)\n",
        "    else:\n",
        "      print(filename + str(' is not accounted.'))\n",
        "\n",
        "label = np.reshape(label, (len(label),))\n",
        "print(label.shape)\n",
        "print(label)"
      ],
      "metadata": {
        "id": "v98LNmumCoWW",
        "outputId": "daa6c9ae-6354-4a65-a94c-d4a3759b35f0",
        "colab": {
          "base_uri": "https://localhost:8080/"
        }
      },
      "execution_count": null,
      "outputs": [
        {
          "output_type": "stream",
          "name": "stdout",
          "text": [
            "(553,)\n",
            "[9 5 9 0 6 0 5 8 8 1 1 1 6 8 7 7 8 7 5 2 9 1 7 6 1 0 5 3 6 9 4 4 1 3 2 0 9\n",
            " 4 2 3 6 5 4 4 5 7 4 0 7 3 9 5 8 1 1 4 0 9 9 1 3 2 7 1 4 9 7 6 1 8 9 7 5 1\n",
            " 3 5 1 5 5 2 4 0 8 1 3 0 9 0 2 4 1 8 2 7 6 5 0 1 7 4 3 0 4 0 1 9 3 9 6 1 2\n",
            " 4 2 9 8 4 2 5 4 2 8 7 2 8 1 7 1 7 1 4 6 5 7 1 1 2 7 1 8 4 6 0 4 7 7 5 3 7\n",
            " 1 2 1 3 8 6 5 9 7 5 7 2 8 5 9 1 5 3 6 6 9 5 0 9 0 4 5 8 5 7 6 3 1 4 5 3 0\n",
            " 6 3 7 2 3 1 9 7 3 5 4 2 4 6 5 2 6 7 3 3 7 2 6 1 8 2 5 4 2 2 8 5 1 3 4 4 8\n",
            " 6 0 5 0 5 0 9 8 5 3 8 5 2 9 1 5 1 0 3 4 7 9 3 4 6 7 6 4 3 1 8 2 1 2 1 6 1\n",
            " 1 7 3 3 4 2 5 9 9 0 4 7 2 5 8 4 5 7 1 4 1 1 4 2 8 5 3 9 0 5 5 4 5 6 4 4 8\n",
            " 7 7 3 9 0 6 5 7 7 6 9 8 8 3 6 7 9 2 9 5 5 9 1 4 1 1 1 3 7 4 5 4 5 5 0 0 6\n",
            " 8 5 1 2 0 3 0 0 1 8 8 2 6 5 2 1 8 0 4 9 6 8 0 3 7 4 6 1 7 0 3 4 9 6 9 4 0\n",
            " 6 2 4 6 8 7 1 6 3 6 0 8 5 5 9 6 8 8 9 5 0 3 8 5 1 1 3 5 0 6 4 1 6 1 7 9 5\n",
            " 6 1 0 8 7 7 1 8 8 1 8 9 9 3 2 1 7 2 0 2 4 5 7 1 4 6 2 5 7 2 9 3 5 5 6 8 0\n",
            " 5 0 0 5 0 5 9 7 8 5 7 5 0 0 9 5 4 0 1 6 0 3 2 9 1 0 2 5 6 4 9 5 4 4 3 7 5\n",
            " 3 2 7 6 2 1 4 1 9 7 1 6 5 6 8 9 0 7 6 1 1 4 8 4 9 2 7 8 8 3 2 0 2 7 3 2 3\n",
            " 7 3 7 2 5 8 7 5 7 9 8 3 1 9 3 7 6 6 2 0 0 1 3 5 1 1 7 4 8 8 9 4 2 7 0]\n"
          ]
        }
      ]
    },
    {
      "cell_type": "markdown",
      "source": [
        "#####**Preparing the Data**"
      ],
      "metadata": {
        "id": "gRtywxq-e_9v"
      }
    },
    {
      "cell_type": "code",
      "source": [
        "X_train = flat_files/255\n",
        "X_test = flat_files/230"
      ],
      "metadata": {
        "id": "kJYAJva4F_cS"
      },
      "execution_count": null,
      "outputs": []
    },
    {
      "cell_type": "code",
      "source": [
        "print(X_train.shape)\n",
        "print(X_test.shape)"
      ],
      "metadata": {
        "id": "e_1wnSqjGID1",
        "outputId": "a207433f-a934-4e9c-8e18-83f75ce04c0c",
        "colab": {
          "base_uri": "https://localhost:8080/"
        }
      },
      "execution_count": null,
      "outputs": [
        {
          "output_type": "stream",
          "name": "stdout",
          "text": [
            "(553, 28, 28, 3)\n",
            "(553, 28, 28, 3)\n"
          ]
        }
      ]
    },
    {
      "cell_type": "code",
      "source": [
        "X_train_flat = X_train.reshape(len(X_train),28*28*3)\n",
        "X_test_flat = X_test.reshape(len(X_test),28*28*3)\n",
        "print(X_train_flat.shape)\n",
        "print(X_test_flat.shape)"
      ],
      "metadata": {
        "id": "705bnkYTILbA",
        "outputId": "ca528b0e-3827-4a2a-e556-591d19cef631",
        "colab": {
          "base_uri": "https://localhost:8080/"
        }
      },
      "execution_count": null,
      "outputs": [
        {
          "output_type": "stream",
          "name": "stdout",
          "text": [
            "(553, 2352)\n",
            "(553, 2352)\n"
          ]
        }
      ]
    },
    {
      "cell_type": "markdown",
      "source": [
        "####**Defining the model**"
      ],
      "metadata": {
        "id": "te95nwDRkTlX"
      }
    },
    {
      "cell_type": "code",
      "source": [
        "model = Sequential([\n",
        "    keras.layers.Input(shape = (2352,)),\n",
        "    keras.layers.Dense(200, activation='relu'),\n",
        "    keras.layers.Dense(10, activation='selu'),\n",
        "    keras.layers.Input(shape = (2352,)),\n",
        "    keras.layers.Dense(100, activation='sigmoid'),\n",
        "    keras.layers.Dense(10, activation='softmax')\n",
        "])\n",
        "model.summary()"
      ],
      "metadata": {
        "id": "47NR1fVmKXQ7",
        "outputId": "13e1b0f4-f9b0-4c96-81c0-8fff85a7994d",
        "colab": {
          "base_uri": "https://localhost:8080/"
        }
      },
      "execution_count": null,
      "outputs": [
        {
          "output_type": "stream",
          "name": "stdout",
          "text": [
            "Model: \"sequential_20\"\n",
            "_________________________________________________________________\n",
            " Layer (type)                Output Shape              Param #   \n",
            "=================================================================\n",
            " dense_76 (Dense)            (None, 200)               470600    \n",
            "                                                                 \n",
            " dense_77 (Dense)            (None, 10)                2010      \n",
            "                                                                 \n",
            " input_40 (InputLayer)       multiple                  0         \n",
            "                                                                 \n",
            " dense_78 (Dense)            (None, 100)               1100      \n",
            "                                                                 \n",
            " dense_79 (Dense)            (None, 10)                1010      \n",
            "                                                                 \n",
            "=================================================================\n",
            "Total params: 474,720\n",
            "Trainable params: 474,720\n",
            "Non-trainable params: 0\n",
            "_________________________________________________________________\n"
          ]
        }
      ]
    },
    {
      "cell_type": "code",
      "source": [
        "model.compile(keras.optimizers.Adam(learning_rate=0.01),\n",
        "              loss = tf.keras.losses.SparseCategoricalCrossentropy(),\n",
        "              # loss = 'sparse_categorical_crossentropy',\n",
        "              metrics=['accuracy'])"
      ],
      "metadata": {
        "id": "6d43j7VSKi3w"
      },
      "execution_count": null,
      "outputs": []
    },
    {
      "cell_type": "code",
      "source": [
        "history = model.fit(X_train_flat, label, epochs=400, verbose=1)"
      ],
      "metadata": {
        "id": "kWJdyNdYKmZz",
        "outputId": "6b84ca6e-c7fa-4bef-beb6-103b98ae7b69",
        "colab": {
          "base_uri": "https://localhost:8080/"
        }
      },
      "execution_count": null,
      "outputs": [
        {
          "output_type": "stream",
          "name": "stdout",
          "text": [
            "Epoch 1/400\n",
            "18/18 [==============================] - 0s 15ms/step - loss: 0.2471 - accuracy: 0.9150\n",
            "Epoch 2/400\n",
            "18/18 [==============================] - 0s 14ms/step - loss: 0.1465 - accuracy: 0.9458\n",
            "Epoch 3/400\n",
            "18/18 [==============================] - 0s 15ms/step - loss: 0.0713 - accuracy: 0.9837\n",
            "Epoch 4/400\n",
            "18/18 [==============================] - 0s 14ms/step - loss: 0.0734 - accuracy: 0.9819\n",
            "Epoch 5/400\n",
            "18/18 [==============================] - 0s 18ms/step - loss: 0.1439 - accuracy: 0.9494\n",
            "Epoch 6/400\n",
            "18/18 [==============================] - 0s 16ms/step - loss: 0.1637 - accuracy: 0.9439\n",
            "Epoch 7/400\n",
            "18/18 [==============================] - 0s 17ms/step - loss: 0.1232 - accuracy: 0.9602\n",
            "Epoch 8/400\n",
            "18/18 [==============================] - 0s 11ms/step - loss: 0.0718 - accuracy: 0.9819\n",
            "Epoch 9/400\n",
            "18/18 [==============================] - 0s 9ms/step - loss: 0.0577 - accuracy: 0.9837\n",
            "Epoch 10/400\n",
            "18/18 [==============================] - 0s 9ms/step - loss: 0.0557 - accuracy: 0.9837\n",
            "Epoch 11/400\n",
            "18/18 [==============================] - 0s 8ms/step - loss: 0.0518 - accuracy: 0.9837\n",
            "Epoch 12/400\n",
            "18/18 [==============================] - 0s 9ms/step - loss: 0.0645 - accuracy: 0.9783\n",
            "Epoch 13/400\n",
            "18/18 [==============================] - 0s 8ms/step - loss: 0.0504 - accuracy: 0.9892\n",
            "Epoch 14/400\n",
            "18/18 [==============================] - 0s 8ms/step - loss: 0.0624 - accuracy: 0.9801\n",
            "Epoch 15/400\n",
            "18/18 [==============================] - 0s 9ms/step - loss: 0.0938 - accuracy: 0.9638\n",
            "Epoch 16/400\n",
            "18/18 [==============================] - 0s 8ms/step - loss: 0.0658 - accuracy: 0.9711\n",
            "Epoch 17/400\n",
            "18/18 [==============================] - 0s 8ms/step - loss: 0.0678 - accuracy: 0.9765\n",
            "Epoch 18/400\n",
            "18/18 [==============================] - 0s 8ms/step - loss: 0.0604 - accuracy: 0.9837\n",
            "Epoch 19/400\n",
            "18/18 [==============================] - 0s 8ms/step - loss: 0.2243 - accuracy: 0.9277\n",
            "Epoch 20/400\n",
            "18/18 [==============================] - 0s 8ms/step - loss: 0.2426 - accuracy: 0.9150\n",
            "Epoch 21/400\n",
            "18/18 [==============================] - 0s 8ms/step - loss: 0.1835 - accuracy: 0.9403\n",
            "Epoch 22/400\n",
            "18/18 [==============================] - 0s 10ms/step - loss: 0.1258 - accuracy: 0.9458\n",
            "Epoch 23/400\n",
            "18/18 [==============================] - 0s 8ms/step - loss: 0.0828 - accuracy: 0.9765\n",
            "Epoch 24/400\n",
            "18/18 [==============================] - 0s 8ms/step - loss: 0.0639 - accuracy: 0.9819\n",
            "Epoch 25/400\n",
            "18/18 [==============================] - 0s 8ms/step - loss: 0.0669 - accuracy: 0.9765\n",
            "Epoch 26/400\n",
            "18/18 [==============================] - 0s 8ms/step - loss: 0.0726 - accuracy: 0.9819\n",
            "Epoch 27/400\n",
            "18/18 [==============================] - 0s 12ms/step - loss: 0.0387 - accuracy: 0.9892\n",
            "Epoch 28/400\n",
            "18/18 [==============================] - 0s 12ms/step - loss: 0.1482 - accuracy: 0.9476\n",
            "Epoch 29/400\n",
            "18/18 [==============================] - 0s 12ms/step - loss: 0.1552 - accuracy: 0.9476\n",
            "Epoch 30/400\n",
            "18/18 [==============================] - 0s 12ms/step - loss: 0.1081 - accuracy: 0.9602\n",
            "Epoch 31/400\n",
            "18/18 [==============================] - 0s 12ms/step - loss: 0.0613 - accuracy: 0.9837\n",
            "Epoch 32/400\n",
            "18/18 [==============================] - 0s 12ms/step - loss: 0.0511 - accuracy: 0.9855\n",
            "Epoch 33/400\n",
            "18/18 [==============================] - 0s 12ms/step - loss: 0.0474 - accuracy: 0.9837\n",
            "Epoch 34/400\n",
            "18/18 [==============================] - 0s 12ms/step - loss: 0.0462 - accuracy: 0.9910\n",
            "Epoch 35/400\n",
            "18/18 [==============================] - 0s 12ms/step - loss: 0.0793 - accuracy: 0.9711\n",
            "Epoch 36/400\n",
            "18/18 [==============================] - 0s 12ms/step - loss: 0.0785 - accuracy: 0.9783\n",
            "Epoch 37/400\n",
            "18/18 [==============================] - 0s 12ms/step - loss: 0.0549 - accuracy: 0.9855\n",
            "Epoch 38/400\n",
            "18/18 [==============================] - 0s 12ms/step - loss: 0.1195 - accuracy: 0.9584\n",
            "Epoch 39/400\n",
            "18/18 [==============================] - 0s 12ms/step - loss: 0.3949 - accuracy: 0.8680\n",
            "Epoch 40/400\n",
            "18/18 [==============================] - 0s 12ms/step - loss: 0.3292 - accuracy: 0.8933\n",
            "Epoch 41/400\n",
            "18/18 [==============================] - 0s 12ms/step - loss: 0.1279 - accuracy: 0.9530\n",
            "Epoch 42/400\n",
            "18/18 [==============================] - 0s 12ms/step - loss: 0.1033 - accuracy: 0.9711\n",
            "Epoch 43/400\n",
            "18/18 [==============================] - 0s 12ms/step - loss: 0.0634 - accuracy: 0.9801\n",
            "Epoch 44/400\n",
            "18/18 [==============================] - 0s 12ms/step - loss: 0.0527 - accuracy: 0.9855\n",
            "Epoch 45/400\n",
            "18/18 [==============================] - 0s 12ms/step - loss: 0.0791 - accuracy: 0.9765\n",
            "Epoch 46/400\n",
            "18/18 [==============================] - 0s 12ms/step - loss: 0.0739 - accuracy: 0.9783\n",
            "Epoch 47/400\n",
            "18/18 [==============================] - 0s 10ms/step - loss: 0.0727 - accuracy: 0.9765\n",
            "Epoch 48/400\n",
            "18/18 [==============================] - 0s 8ms/step - loss: 0.0757 - accuracy: 0.9801\n",
            "Epoch 49/400\n",
            "18/18 [==============================] - 0s 8ms/step - loss: 0.0507 - accuracy: 0.9837\n",
            "Epoch 50/400\n",
            "18/18 [==============================] - 0s 9ms/step - loss: 0.0304 - accuracy: 0.9946\n",
            "Epoch 51/400\n",
            "18/18 [==============================] - 0s 8ms/step - loss: 0.0362 - accuracy: 0.9892\n",
            "Epoch 52/400\n",
            "18/18 [==============================] - 0s 9ms/step - loss: 0.0392 - accuracy: 0.9855\n",
            "Epoch 53/400\n",
            "18/18 [==============================] - 0s 9ms/step - loss: 0.0727 - accuracy: 0.9747\n",
            "Epoch 54/400\n",
            "18/18 [==============================] - 0s 9ms/step - loss: 0.0563 - accuracy: 0.9801\n",
            "Epoch 55/400\n",
            "18/18 [==============================] - 0s 9ms/step - loss: 0.0583 - accuracy: 0.9855\n",
            "Epoch 56/400\n",
            "18/18 [==============================] - 0s 8ms/step - loss: 0.0998 - accuracy: 0.9638\n",
            "Epoch 57/400\n",
            "18/18 [==============================] - 0s 8ms/step - loss: 0.1263 - accuracy: 0.9530\n",
            "Epoch 58/400\n",
            "18/18 [==============================] - 0s 8ms/step - loss: 0.4387 - accuracy: 0.8879\n",
            "Epoch 59/400\n",
            "18/18 [==============================] - 0s 9ms/step - loss: 0.2764 - accuracy: 0.9024\n",
            "Epoch 60/400\n",
            "18/18 [==============================] - 0s 8ms/step - loss: 0.6017 - accuracy: 0.8300\n",
            "Epoch 61/400\n",
            "18/18 [==============================] - 0s 9ms/step - loss: 0.2352 - accuracy: 0.9060\n",
            "Epoch 62/400\n",
            "18/18 [==============================] - 0s 8ms/step - loss: 0.1889 - accuracy: 0.9295\n",
            "Epoch 63/400\n",
            "18/18 [==============================] - 0s 8ms/step - loss: 0.1272 - accuracy: 0.9620\n",
            "Epoch 64/400\n",
            "18/18 [==============================] - 0s 8ms/step - loss: 0.0723 - accuracy: 0.9747\n",
            "Epoch 65/400\n",
            "18/18 [==============================] - 0s 8ms/step - loss: 0.0502 - accuracy: 0.9855\n",
            "Epoch 66/400\n",
            "18/18 [==============================] - 0s 9ms/step - loss: 0.0326 - accuracy: 0.9910\n",
            "Epoch 67/400\n",
            "18/18 [==============================] - 0s 9ms/step - loss: 0.0314 - accuracy: 0.9928\n",
            "Epoch 68/400\n",
            "18/18 [==============================] - 0s 8ms/step - loss: 0.0294 - accuracy: 0.9928\n",
            "Epoch 69/400\n",
            "18/18 [==============================] - 0s 8ms/step - loss: 0.0245 - accuracy: 0.9928\n",
            "Epoch 70/400\n",
            "18/18 [==============================] - 0s 8ms/step - loss: 0.0319 - accuracy: 0.9928\n",
            "Epoch 71/400\n",
            "18/18 [==============================] - 0s 8ms/step - loss: 0.0592 - accuracy: 0.9873\n",
            "Epoch 72/400\n",
            "18/18 [==============================] - 0s 9ms/step - loss: 0.0512 - accuracy: 0.9855\n",
            "Epoch 73/400\n",
            "18/18 [==============================] - 0s 10ms/step - loss: 0.0299 - accuracy: 0.9928\n",
            "Epoch 74/400\n",
            "18/18 [==============================] - 0s 8ms/step - loss: 0.0308 - accuracy: 0.9892\n",
            "Epoch 75/400\n",
            "18/18 [==============================] - 0s 8ms/step - loss: 0.0402 - accuracy: 0.9873\n",
            "Epoch 76/400\n",
            "18/18 [==============================] - 0s 8ms/step - loss: 0.0617 - accuracy: 0.9747\n",
            "Epoch 77/400\n",
            "18/18 [==============================] - 0s 8ms/step - loss: 0.0423 - accuracy: 0.9855\n",
            "Epoch 78/400\n",
            "18/18 [==============================] - 0s 9ms/step - loss: 0.0621 - accuracy: 0.9819\n",
            "Epoch 79/400\n",
            "18/18 [==============================] - 0s 9ms/step - loss: 0.2331 - accuracy: 0.9277\n",
            "Epoch 80/400\n",
            "18/18 [==============================] - 0s 8ms/step - loss: 0.3141 - accuracy: 0.9005\n",
            "Epoch 81/400\n",
            "18/18 [==============================] - 0s 8ms/step - loss: 0.1887 - accuracy: 0.9494\n",
            "Epoch 82/400\n",
            "18/18 [==============================] - 0s 8ms/step - loss: 0.1402 - accuracy: 0.9548\n",
            "Epoch 83/400\n",
            "18/18 [==============================] - 0s 8ms/step - loss: 0.0830 - accuracy: 0.9783\n",
            "Epoch 84/400\n",
            "18/18 [==============================] - 0s 8ms/step - loss: 0.0675 - accuracy: 0.9711\n",
            "Epoch 85/400\n",
            "18/18 [==============================] - 0s 8ms/step - loss: 0.0397 - accuracy: 0.9837\n",
            "Epoch 86/400\n",
            "18/18 [==============================] - 0s 10ms/step - loss: 0.0306 - accuracy: 0.9910\n",
            "Epoch 87/400\n",
            "18/18 [==============================] - 0s 8ms/step - loss: 0.0292 - accuracy: 0.9928\n",
            "Epoch 88/400\n",
            "18/18 [==============================] - 0s 8ms/step - loss: 0.0210 - accuracy: 0.9928\n",
            "Epoch 89/400\n",
            "18/18 [==============================] - 0s 8ms/step - loss: 0.0205 - accuracy: 0.9964\n",
            "Epoch 90/400\n",
            "18/18 [==============================] - 0s 9ms/step - loss: 0.0218 - accuracy: 0.9946\n",
            "Epoch 91/400\n",
            "18/18 [==============================] - 0s 9ms/step - loss: 0.0196 - accuracy: 0.9964\n",
            "Epoch 92/400\n",
            "18/18 [==============================] - 0s 8ms/step - loss: 0.0186 - accuracy: 0.9964\n",
            "Epoch 93/400\n",
            "18/18 [==============================] - 0s 8ms/step - loss: 0.0193 - accuracy: 0.9964\n",
            "Epoch 94/400\n",
            "18/18 [==============================] - 0s 8ms/step - loss: 0.0351 - accuracy: 0.9873\n",
            "Epoch 95/400\n",
            "18/18 [==============================] - 0s 8ms/step - loss: 0.0855 - accuracy: 0.9711\n",
            "Epoch 96/400\n",
            "18/18 [==============================] - 0s 8ms/step - loss: 0.0727 - accuracy: 0.9801\n",
            "Epoch 97/400\n",
            "18/18 [==============================] - 0s 8ms/step - loss: 0.1471 - accuracy: 0.9602\n",
            "Epoch 98/400\n",
            "18/18 [==============================] - 0s 8ms/step - loss: 0.1525 - accuracy: 0.9476\n",
            "Epoch 99/400\n",
            "18/18 [==============================] - 0s 9ms/step - loss: 0.3744 - accuracy: 0.8752\n",
            "Epoch 100/400\n",
            "18/18 [==============================] - 0s 9ms/step - loss: 0.2473 - accuracy: 0.9096\n",
            "Epoch 101/400\n",
            "18/18 [==============================] - 0s 8ms/step - loss: 0.1596 - accuracy: 0.9421\n",
            "Epoch 102/400\n",
            "18/18 [==============================] - 0s 8ms/step - loss: 0.0903 - accuracy: 0.9675\n",
            "Epoch 103/400\n",
            "18/18 [==============================] - 0s 8ms/step - loss: 0.0663 - accuracy: 0.9729\n",
            "Epoch 104/400\n",
            "18/18 [==============================] - 0s 8ms/step - loss: 0.0567 - accuracy: 0.9801\n",
            "Epoch 105/400\n",
            "18/18 [==============================] - 0s 9ms/step - loss: 0.0327 - accuracy: 0.9946\n",
            "Epoch 106/400\n",
            "18/18 [==============================] - 0s 8ms/step - loss: 0.0232 - accuracy: 0.9910\n",
            "Epoch 107/400\n",
            "18/18 [==============================] - 0s 8ms/step - loss: 0.0342 - accuracy: 0.9892\n",
            "Epoch 108/400\n",
            "18/18 [==============================] - 0s 8ms/step - loss: 0.0395 - accuracy: 0.9855\n",
            "Epoch 109/400\n",
            "18/18 [==============================] - 0s 8ms/step - loss: 0.0264 - accuracy: 0.9946\n",
            "Epoch 110/400\n",
            "18/18 [==============================] - 0s 9ms/step - loss: 0.0613 - accuracy: 0.9747\n",
            "Epoch 111/400\n",
            "18/18 [==============================] - 0s 12ms/step - loss: 0.0336 - accuracy: 0.9928\n",
            "Epoch 112/400\n",
            "18/18 [==============================] - 0s 13ms/step - loss: 0.0310 - accuracy: 0.9910\n",
            "Epoch 113/400\n",
            "18/18 [==============================] - 0s 12ms/step - loss: 0.0170 - accuracy: 0.9946\n",
            "Epoch 114/400\n",
            "18/18 [==============================] - 0s 11ms/step - loss: 0.0213 - accuracy: 0.9946\n",
            "Epoch 115/400\n",
            "18/18 [==============================] - 0s 11ms/step - loss: 0.0139 - accuracy: 0.9982\n",
            "Epoch 116/400\n",
            "18/18 [==============================] - 0s 13ms/step - loss: 0.0118 - accuracy: 0.9982\n",
            "Epoch 117/400\n",
            "18/18 [==============================] - 0s 12ms/step - loss: 0.0125 - accuracy: 0.9982\n",
            "Epoch 118/400\n",
            "18/18 [==============================] - 0s 11ms/step - loss: 0.0104 - accuracy: 0.9982\n",
            "Epoch 119/400\n",
            "18/18 [==============================] - 0s 11ms/step - loss: 0.0168 - accuracy: 0.9928\n",
            "Epoch 120/400\n",
            "18/18 [==============================] - 0s 13ms/step - loss: 0.0158 - accuracy: 0.9928\n",
            "Epoch 121/400\n",
            "18/18 [==============================] - 0s 12ms/step - loss: 0.0136 - accuracy: 0.9982\n",
            "Epoch 122/400\n",
            "18/18 [==============================] - 0s 11ms/step - loss: 0.0155 - accuracy: 0.9964\n",
            "Epoch 123/400\n",
            "18/18 [==============================] - 0s 11ms/step - loss: 0.0124 - accuracy: 0.9982\n",
            "Epoch 124/400\n",
            "18/18 [==============================] - 0s 12ms/step - loss: 0.0095 - accuracy: 0.9982\n",
            "Epoch 125/400\n",
            "18/18 [==============================] - 0s 12ms/step - loss: 0.0095 - accuracy: 0.9982\n",
            "Epoch 126/400\n",
            "18/18 [==============================] - 0s 12ms/step - loss: 0.0121 - accuracy: 0.9982\n",
            "Epoch 127/400\n",
            "18/18 [==============================] - 0s 12ms/step - loss: 0.0116 - accuracy: 0.9982\n",
            "Epoch 128/400\n",
            "18/18 [==============================] - 0s 12ms/step - loss: 0.0254 - accuracy: 0.9928\n",
            "Epoch 129/400\n",
            "18/18 [==============================] - 0s 12ms/step - loss: 0.1804 - accuracy: 0.9331\n",
            "Epoch 130/400\n",
            "18/18 [==============================] - 0s 13ms/step - loss: 0.5824 - accuracy: 0.8282\n",
            "Epoch 131/400\n",
            "18/18 [==============================] - 0s 12ms/step - loss: 0.2263 - accuracy: 0.9186\n",
            "Epoch 132/400\n",
            "18/18 [==============================] - 0s 9ms/step - loss: 0.2334 - accuracy: 0.9222\n",
            "Epoch 133/400\n",
            "18/18 [==============================] - 0s 8ms/step - loss: 0.2119 - accuracy: 0.9403\n",
            "Epoch 134/400\n",
            "18/18 [==============================] - 0s 8ms/step - loss: 0.5455 - accuracy: 0.8517\n",
            "Epoch 135/400\n",
            "18/18 [==============================] - 0s 8ms/step - loss: 0.2648 - accuracy: 0.9024\n",
            "Epoch 136/400\n",
            "18/18 [==============================] - 0s 8ms/step - loss: 0.1368 - accuracy: 0.9602\n",
            "Epoch 137/400\n",
            "18/18 [==============================] - 0s 8ms/step - loss: 0.1111 - accuracy: 0.9693\n",
            "Epoch 138/400\n",
            "18/18 [==============================] - 0s 8ms/step - loss: 0.1092 - accuracy: 0.9656\n",
            "Epoch 139/400\n",
            "18/18 [==============================] - 0s 8ms/step - loss: 0.0348 - accuracy: 0.9873\n",
            "Epoch 140/400\n",
            "18/18 [==============================] - 0s 8ms/step - loss: 0.0345 - accuracy: 0.9892\n",
            "Epoch 141/400\n",
            "18/18 [==============================] - 0s 8ms/step - loss: 0.0659 - accuracy: 0.9783\n",
            "Epoch 142/400\n",
            "18/18 [==============================] - 0s 8ms/step - loss: 0.0490 - accuracy: 0.9837\n",
            "Epoch 143/400\n",
            "18/18 [==============================] - 0s 9ms/step - loss: 0.0289 - accuracy: 0.9928\n",
            "Epoch 144/400\n",
            "18/18 [==============================] - 0s 7ms/step - loss: 0.0392 - accuracy: 0.9873\n",
            "Epoch 145/400\n",
            "18/18 [==============================] - 0s 8ms/step - loss: 0.0211 - accuracy: 0.9946\n",
            "Epoch 146/400\n",
            "18/18 [==============================] - 0s 8ms/step - loss: 0.0207 - accuracy: 0.9946\n",
            "Epoch 147/400\n",
            "18/18 [==============================] - 0s 8ms/step - loss: 0.0181 - accuracy: 0.9946\n",
            "Epoch 148/400\n",
            "18/18 [==============================] - 0s 8ms/step - loss: 0.0164 - accuracy: 0.9964\n",
            "Epoch 149/400\n",
            "18/18 [==============================] - 0s 8ms/step - loss: 0.0161 - accuracy: 0.9946\n",
            "Epoch 150/400\n",
            "18/18 [==============================] - 0s 8ms/step - loss: 0.0114 - accuracy: 0.9982\n",
            "Epoch 151/400\n",
            "18/18 [==============================] - 0s 8ms/step - loss: 0.0120 - accuracy: 0.9982\n",
            "Epoch 152/400\n",
            "18/18 [==============================] - 0s 9ms/step - loss: 0.0201 - accuracy: 0.9946\n",
            "Epoch 153/400\n",
            "18/18 [==============================] - 0s 8ms/step - loss: 0.0229 - accuracy: 0.9946\n",
            "Epoch 154/400\n",
            "18/18 [==============================] - 0s 9ms/step - loss: 0.0101 - accuracy: 0.9982\n",
            "Epoch 155/400\n",
            "18/18 [==============================] - 0s 8ms/step - loss: 0.0644 - accuracy: 0.9837\n",
            "Epoch 156/400\n",
            "18/18 [==============================] - 0s 8ms/step - loss: 0.0471 - accuracy: 0.9855\n",
            "Epoch 157/400\n",
            "18/18 [==============================] - 0s 8ms/step - loss: 0.0304 - accuracy: 0.9910\n",
            "Epoch 158/400\n",
            "18/18 [==============================] - 0s 8ms/step - loss: 0.0190 - accuracy: 0.9946\n",
            "Epoch 159/400\n",
            "18/18 [==============================] - 0s 8ms/step - loss: 0.0133 - accuracy: 0.9964\n",
            "Epoch 160/400\n",
            "18/18 [==============================] - 0s 8ms/step - loss: 0.0114 - accuracy: 0.9982\n",
            "Epoch 161/400\n",
            "18/18 [==============================] - 0s 8ms/step - loss: 0.0109 - accuracy: 0.9982\n",
            "Epoch 162/400\n",
            "18/18 [==============================] - 0s 8ms/step - loss: 0.0074 - accuracy: 1.0000\n",
            "Epoch 163/400\n",
            "18/18 [==============================] - 0s 9ms/step - loss: 0.0081 - accuracy: 1.0000\n",
            "Epoch 164/400\n",
            "18/18 [==============================] - 0s 9ms/step - loss: 0.0110 - accuracy: 0.9982\n",
            "Epoch 165/400\n",
            "18/18 [==============================] - 0s 8ms/step - loss: 0.0086 - accuracy: 0.9982\n",
            "Epoch 166/400\n",
            "18/18 [==============================] - 0s 8ms/step - loss: 0.0088 - accuracy: 0.9982\n",
            "Epoch 167/400\n",
            "18/18 [==============================] - 0s 9ms/step - loss: 0.0113 - accuracy: 0.9964\n",
            "Epoch 168/400\n",
            "18/18 [==============================] - 0s 9ms/step - loss: 0.0070 - accuracy: 0.9982\n",
            "Epoch 169/400\n",
            "18/18 [==============================] - 0s 8ms/step - loss: 0.0404 - accuracy: 0.9837\n",
            "Epoch 170/400\n",
            "18/18 [==============================] - 0s 8ms/step - loss: 0.0288 - accuracy: 0.9928\n",
            "Epoch 171/400\n",
            "18/18 [==============================] - 0s 9ms/step - loss: 0.0303 - accuracy: 0.9910\n",
            "Epoch 172/400\n",
            "18/18 [==============================] - 0s 8ms/step - loss: 0.0254 - accuracy: 0.9946\n",
            "Epoch 173/400\n",
            "18/18 [==============================] - 0s 8ms/step - loss: 0.0280 - accuracy: 0.9892\n",
            "Epoch 174/400\n",
            "18/18 [==============================] - 0s 9ms/step - loss: 0.0128 - accuracy: 0.9982\n",
            "Epoch 175/400\n",
            "18/18 [==============================] - 0s 8ms/step - loss: 0.0094 - accuracy: 0.9982\n",
            "Epoch 176/400\n",
            "18/18 [==============================] - 0s 8ms/step - loss: 0.0057 - accuracy: 0.9982\n",
            "Epoch 177/400\n",
            "18/18 [==============================] - 0s 8ms/step - loss: 0.0189 - accuracy: 0.9946\n",
            "Epoch 178/400\n",
            "18/18 [==============================] - 0s 9ms/step - loss: 0.0995 - accuracy: 0.9711\n",
            "Epoch 179/400\n",
            "18/18 [==============================] - 0s 8ms/step - loss: 0.0665 - accuracy: 0.9801\n",
            "Epoch 180/400\n",
            "18/18 [==============================] - 0s 8ms/step - loss: 0.1652 - accuracy: 0.9385\n",
            "Epoch 181/400\n",
            "18/18 [==============================] - 0s 9ms/step - loss: 0.6190 - accuracy: 0.8391\n",
            "Epoch 182/400\n",
            "18/18 [==============================] - 0s 8ms/step - loss: 0.8657 - accuracy: 0.7631\n",
            "Epoch 183/400\n",
            "18/18 [==============================] - 0s 9ms/step - loss: 0.7463 - accuracy: 0.7902\n",
            "Epoch 184/400\n",
            "18/18 [==============================] - 0s 8ms/step - loss: 0.7287 - accuracy: 0.7776\n",
            "Epoch 185/400\n",
            "18/18 [==============================] - 0s 8ms/step - loss: 0.2612 - accuracy: 0.9132\n",
            "Epoch 186/400\n",
            "18/18 [==============================] - 0s 9ms/step - loss: 0.1337 - accuracy: 0.9602\n",
            "Epoch 187/400\n",
            "18/18 [==============================] - 0s 8ms/step - loss: 0.0660 - accuracy: 0.9783\n",
            "Epoch 188/400\n",
            "18/18 [==============================] - 0s 9ms/step - loss: 0.0494 - accuracy: 0.9873\n",
            "Epoch 189/400\n",
            "18/18 [==============================] - 0s 9ms/step - loss: 0.0290 - accuracy: 0.9910\n",
            "Epoch 190/400\n",
            "18/18 [==============================] - 0s 9ms/step - loss: 0.0257 - accuracy: 0.9982\n",
            "Epoch 191/400\n",
            "18/18 [==============================] - 0s 8ms/step - loss: 0.0194 - accuracy: 0.9982\n",
            "Epoch 192/400\n",
            "18/18 [==============================] - 0s 9ms/step - loss: 0.0202 - accuracy: 0.9964\n",
            "Epoch 193/400\n",
            "18/18 [==============================] - 0s 8ms/step - loss: 0.0175 - accuracy: 0.9982\n",
            "Epoch 194/400\n",
            "18/18 [==============================] - 0s 8ms/step - loss: 0.0138 - accuracy: 0.9982\n",
            "Epoch 195/400\n",
            "18/18 [==============================] - 0s 8ms/step - loss: 0.0104 - accuracy: 1.0000\n",
            "Epoch 196/400\n",
            "18/18 [==============================] - 0s 13ms/step - loss: 0.0100 - accuracy: 1.0000\n",
            "Epoch 197/400\n",
            "18/18 [==============================] - 0s 13ms/step - loss: 0.0092 - accuracy: 1.0000\n",
            "Epoch 198/400\n",
            "18/18 [==============================] - 0s 12ms/step - loss: 0.0140 - accuracy: 0.9964\n",
            "Epoch 199/400\n",
            "18/18 [==============================] - 0s 12ms/step - loss: 0.0258 - accuracy: 0.9910\n",
            "Epoch 200/400\n",
            "18/18 [==============================] - 0s 12ms/step - loss: 0.0101 - accuracy: 1.0000\n",
            "Epoch 201/400\n",
            "18/18 [==============================] - 0s 12ms/step - loss: 0.0078 - accuracy: 1.0000\n",
            "Epoch 202/400\n",
            "18/18 [==============================] - 0s 12ms/step - loss: 0.0070 - accuracy: 1.0000\n",
            "Epoch 203/400\n",
            "18/18 [==============================] - 0s 11ms/step - loss: 0.0071 - accuracy: 1.0000\n",
            "Epoch 204/400\n",
            "18/18 [==============================] - 0s 12ms/step - loss: 0.0062 - accuracy: 1.0000\n",
            "Epoch 205/400\n",
            "18/18 [==============================] - 0s 13ms/step - loss: 0.0059 - accuracy: 1.0000\n",
            "Epoch 206/400\n",
            "18/18 [==============================] - 0s 12ms/step - loss: 0.0078 - accuracy: 0.9982\n",
            "Epoch 207/400\n",
            "18/18 [==============================] - 0s 13ms/step - loss: 0.0115 - accuracy: 0.9982\n",
            "Epoch 208/400\n",
            "18/18 [==============================] - 0s 12ms/step - loss: 0.0237 - accuracy: 0.9946\n",
            "Epoch 209/400\n",
            "18/18 [==============================] - 0s 12ms/step - loss: 0.0250 - accuracy: 0.9910\n",
            "Epoch 210/400\n",
            "18/18 [==============================] - 0s 12ms/step - loss: 0.0515 - accuracy: 0.9855\n",
            "Epoch 211/400\n",
            "18/18 [==============================] - 0s 12ms/step - loss: 0.0807 - accuracy: 0.9693\n",
            "Epoch 212/400\n",
            "18/18 [==============================] - 0s 12ms/step - loss: 0.3271 - accuracy: 0.8897\n",
            "Epoch 213/400\n",
            "18/18 [==============================] - 0s 12ms/step - loss: 0.1306 - accuracy: 0.9584\n",
            "Epoch 214/400\n",
            "18/18 [==============================] - 0s 12ms/step - loss: 0.1637 - accuracy: 0.9439\n",
            "Epoch 215/400\n",
            "18/18 [==============================] - 0s 12ms/step - loss: 0.1482 - accuracy: 0.9512\n",
            "Epoch 216/400\n",
            "18/18 [==============================] - 0s 14ms/step - loss: 0.0811 - accuracy: 0.9620\n",
            "Epoch 217/400\n",
            "18/18 [==============================] - 0s 10ms/step - loss: 0.0852 - accuracy: 0.9747\n",
            "Epoch 218/400\n",
            "18/18 [==============================] - 0s 8ms/step - loss: 0.1038 - accuracy: 0.9675\n",
            "Epoch 219/400\n",
            "18/18 [==============================] - 0s 9ms/step - loss: 0.0933 - accuracy: 0.9602\n",
            "Epoch 220/400\n",
            "18/18 [==============================] - 0s 8ms/step - loss: 0.0458 - accuracy: 0.9837\n",
            "Epoch 221/400\n",
            "18/18 [==============================] - 0s 9ms/step - loss: 0.0211 - accuracy: 0.9928\n",
            "Epoch 222/400\n",
            "18/18 [==============================] - 0s 9ms/step - loss: 0.0093 - accuracy: 1.0000\n",
            "Epoch 223/400\n",
            "18/18 [==============================] - 0s 9ms/step - loss: 0.0102 - accuracy: 0.9982\n",
            "Epoch 224/400\n",
            "18/18 [==============================] - 0s 9ms/step - loss: 0.0069 - accuracy: 1.0000\n",
            "Epoch 225/400\n",
            "18/18 [==============================] - 0s 9ms/step - loss: 0.0056 - accuracy: 1.0000\n",
            "Epoch 226/400\n",
            "18/18 [==============================] - 0s 9ms/step - loss: 0.0057 - accuracy: 1.0000\n",
            "Epoch 227/400\n",
            "18/18 [==============================] - 0s 9ms/step - loss: 0.0054 - accuracy: 1.0000\n",
            "Epoch 228/400\n",
            "18/18 [==============================] - 0s 10ms/step - loss: 0.0127 - accuracy: 0.9982\n",
            "Epoch 229/400\n",
            "18/18 [==============================] - 0s 8ms/step - loss: 0.0198 - accuracy: 0.9928\n",
            "Epoch 230/400\n",
            "18/18 [==============================] - 0s 8ms/step - loss: 0.0271 - accuracy: 0.9928\n",
            "Epoch 231/400\n",
            "18/18 [==============================] - 0s 8ms/step - loss: 0.0140 - accuracy: 0.9928\n",
            "Epoch 232/400\n",
            "18/18 [==============================] - 0s 9ms/step - loss: 0.0238 - accuracy: 0.9910\n",
            "Epoch 233/400\n",
            "18/18 [==============================] - 0s 9ms/step - loss: 0.0405 - accuracy: 0.9855\n",
            "Epoch 234/400\n",
            "18/18 [==============================] - 0s 10ms/step - loss: 0.0243 - accuracy: 0.9928\n",
            "Epoch 235/400\n",
            "18/18 [==============================] - 0s 10ms/step - loss: 0.0663 - accuracy: 0.9819\n",
            "Epoch 236/400\n",
            "18/18 [==============================] - 0s 9ms/step - loss: 0.0760 - accuracy: 0.9729\n",
            "Epoch 237/400\n",
            "18/18 [==============================] - 0s 11ms/step - loss: 0.0192 - accuracy: 0.9946\n",
            "Epoch 238/400\n",
            "18/18 [==============================] - 0s 10ms/step - loss: 0.0082 - accuracy: 1.0000\n",
            "Epoch 239/400\n",
            "18/18 [==============================] - 0s 10ms/step - loss: 0.0053 - accuracy: 1.0000\n",
            "Epoch 240/400\n",
            "18/18 [==============================] - 0s 8ms/step - loss: 0.0046 - accuracy: 1.0000\n",
            "Epoch 241/400\n",
            "18/18 [==============================] - 0s 8ms/step - loss: 0.0045 - accuracy: 1.0000\n",
            "Epoch 242/400\n",
            "18/18 [==============================] - 0s 8ms/step - loss: 0.0039 - accuracy: 1.0000\n",
            "Epoch 243/400\n",
            "18/18 [==============================] - 0s 9ms/step - loss: 0.0045 - accuracy: 1.0000\n",
            "Epoch 244/400\n",
            "18/18 [==============================] - 0s 9ms/step - loss: 0.0040 - accuracy: 1.0000\n",
            "Epoch 245/400\n",
            "18/18 [==============================] - 0s 8ms/step - loss: 0.0061 - accuracy: 1.0000\n",
            "Epoch 246/400\n",
            "18/18 [==============================] - 0s 8ms/step - loss: 0.2459 - accuracy: 0.9385\n",
            "Epoch 247/400\n",
            "18/18 [==============================] - 0s 8ms/step - loss: 0.2861 - accuracy: 0.9168\n",
            "Epoch 248/400\n",
            "18/18 [==============================] - 0s 8ms/step - loss: 0.3423 - accuracy: 0.8969\n",
            "Epoch 249/400\n",
            "18/18 [==============================] - 0s 8ms/step - loss: 0.3104 - accuracy: 0.9096\n",
            "Epoch 250/400\n",
            "18/18 [==============================] - 0s 9ms/step - loss: 0.1558 - accuracy: 0.9566\n",
            "Epoch 251/400\n",
            "18/18 [==============================] - 0s 8ms/step - loss: 0.4935 - accuracy: 0.8752\n",
            "Epoch 252/400\n",
            "18/18 [==============================] - 0s 8ms/step - loss: 0.1088 - accuracy: 0.9675\n",
            "Epoch 253/400\n",
            "18/18 [==============================] - 0s 8ms/step - loss: 0.0648 - accuracy: 0.9837\n",
            "Epoch 254/400\n",
            "18/18 [==============================] - 0s 8ms/step - loss: 0.0764 - accuracy: 0.9765\n",
            "Epoch 255/400\n",
            "18/18 [==============================] - 0s 8ms/step - loss: 0.1914 - accuracy: 0.9421\n",
            "Epoch 256/400\n",
            "18/18 [==============================] - 0s 9ms/step - loss: 0.1034 - accuracy: 0.9638\n",
            "Epoch 257/400\n",
            "18/18 [==============================] - 0s 8ms/step - loss: 0.1729 - accuracy: 0.9439\n",
            "Epoch 258/400\n",
            "18/18 [==============================] - 0s 9ms/step - loss: 0.0500 - accuracy: 0.9855\n",
            "Epoch 259/400\n",
            "18/18 [==============================] - 0s 9ms/step - loss: 0.0442 - accuracy: 0.9873\n",
            "Epoch 260/400\n",
            "18/18 [==============================] - 0s 9ms/step - loss: 0.0229 - accuracy: 0.9946\n",
            "Epoch 261/400\n",
            "18/18 [==============================] - 0s 9ms/step - loss: 0.0483 - accuracy: 0.9837\n",
            "Epoch 262/400\n",
            "18/18 [==============================] - 0s 11ms/step - loss: 0.0620 - accuracy: 0.9837\n",
            "Epoch 263/400\n",
            "18/18 [==============================] - 0s 9ms/step - loss: 0.0693 - accuracy: 0.9801\n",
            "Epoch 264/400\n",
            "18/18 [==============================] - 0s 9ms/step - loss: 0.0485 - accuracy: 0.9819\n",
            "Epoch 265/400\n",
            "18/18 [==============================] - 0s 9ms/step - loss: 0.0396 - accuracy: 0.9801\n",
            "Epoch 266/400\n",
            "18/18 [==============================] - 0s 9ms/step - loss: 0.0155 - accuracy: 0.9946\n",
            "Epoch 267/400\n",
            "18/18 [==============================] - 0s 8ms/step - loss: 0.0188 - accuracy: 0.9928\n",
            "Epoch 268/400\n",
            "18/18 [==============================] - 0s 10ms/step - loss: 0.0235 - accuracy: 0.9946\n",
            "Epoch 269/400\n",
            "18/18 [==============================] - 0s 9ms/step - loss: 0.0075 - accuracy: 0.9982\n",
            "Epoch 270/400\n",
            "18/18 [==============================] - 0s 9ms/step - loss: 0.0056 - accuracy: 1.0000\n",
            "Epoch 271/400\n",
            "18/18 [==============================] - 0s 8ms/step - loss: 0.0052 - accuracy: 1.0000\n",
            "Epoch 272/400\n",
            "18/18 [==============================] - 0s 8ms/step - loss: 0.0284 - accuracy: 0.9910\n",
            "Epoch 273/400\n",
            "18/18 [==============================] - 0s 9ms/step - loss: 0.0329 - accuracy: 0.9892\n",
            "Epoch 274/400\n",
            "18/18 [==============================] - 0s 8ms/step - loss: 0.0152 - accuracy: 0.9946\n",
            "Epoch 275/400\n",
            "18/18 [==============================] - 0s 9ms/step - loss: 0.0189 - accuracy: 0.9982\n",
            "Epoch 276/400\n",
            "18/18 [==============================] - 0s 10ms/step - loss: 0.0118 - accuracy: 0.9964\n",
            "Epoch 277/400\n",
            "18/18 [==============================] - 0s 12ms/step - loss: 0.0194 - accuracy: 0.9946\n",
            "Epoch 278/400\n",
            "18/18 [==============================] - 0s 12ms/step - loss: 0.0119 - accuracy: 0.9946\n",
            "Epoch 279/400\n",
            "18/18 [==============================] - 0s 13ms/step - loss: 0.0058 - accuracy: 0.9982\n",
            "Epoch 280/400\n",
            "18/18 [==============================] - 0s 13ms/step - loss: 0.0036 - accuracy: 1.0000\n",
            "Epoch 281/400\n",
            "18/18 [==============================] - 0s 12ms/step - loss: 0.0032 - accuracy: 1.0000\n",
            "Epoch 282/400\n",
            "18/18 [==============================] - 0s 12ms/step - loss: 0.0031 - accuracy: 1.0000\n",
            "Epoch 283/400\n",
            "18/18 [==============================] - 0s 12ms/step - loss: 0.0031 - accuracy: 1.0000\n",
            "Epoch 284/400\n",
            "18/18 [==============================] - 0s 12ms/step - loss: 0.0028 - accuracy: 1.0000\n",
            "Epoch 285/400\n",
            "18/18 [==============================] - 0s 12ms/step - loss: 0.0029 - accuracy: 1.0000\n",
            "Epoch 286/400\n",
            "18/18 [==============================] - 0s 12ms/step - loss: 0.0084 - accuracy: 0.9964\n",
            "Epoch 287/400\n",
            "18/18 [==============================] - 0s 14ms/step - loss: 0.0093 - accuracy: 0.9982\n",
            "Epoch 288/400\n",
            "18/18 [==============================] - 0s 14ms/step - loss: 0.0064 - accuracy: 0.9982\n",
            "Epoch 289/400\n",
            "18/18 [==============================] - 0s 12ms/step - loss: 0.0058 - accuracy: 1.0000\n",
            "Epoch 290/400\n",
            "18/18 [==============================] - 0s 13ms/step - loss: 0.0040 - accuracy: 1.0000\n",
            "Epoch 291/400\n",
            "18/18 [==============================] - 0s 14ms/step - loss: 0.0032 - accuracy: 1.0000\n",
            "Epoch 292/400\n",
            "18/18 [==============================] - 0s 15ms/step - loss: 0.0032 - accuracy: 1.0000\n",
            "Epoch 293/400\n",
            "18/18 [==============================] - 0s 16ms/step - loss: 0.0025 - accuracy: 1.0000\n",
            "Epoch 294/400\n",
            "18/18 [==============================] - 0s 12ms/step - loss: 0.0030 - accuracy: 1.0000\n",
            "Epoch 295/400\n",
            "18/18 [==============================] - 0s 12ms/step - loss: 0.0020 - accuracy: 1.0000\n",
            "Epoch 296/400\n",
            "18/18 [==============================] - 0s 12ms/step - loss: 0.0019 - accuracy: 1.0000\n",
            "Epoch 297/400\n",
            "18/18 [==============================] - 0s 13ms/step - loss: 0.0018 - accuracy: 1.0000\n",
            "Epoch 298/400\n",
            "18/18 [==============================] - 0s 11ms/step - loss: 0.0022 - accuracy: 1.0000\n",
            "Epoch 299/400\n",
            "18/18 [==============================] - 0s 9ms/step - loss: 0.0020 - accuracy: 1.0000\n",
            "Epoch 300/400\n",
            "18/18 [==============================] - 0s 9ms/step - loss: 0.0018 - accuracy: 1.0000\n",
            "Epoch 301/400\n",
            "18/18 [==============================] - 0s 9ms/step - loss: 0.0018 - accuracy: 1.0000\n",
            "Epoch 302/400\n",
            "18/18 [==============================] - 0s 9ms/step - loss: 0.0017 - accuracy: 1.0000\n",
            "Epoch 303/400\n",
            "18/18 [==============================] - 0s 9ms/step - loss: 0.0018 - accuracy: 1.0000\n",
            "Epoch 304/400\n",
            "18/18 [==============================] - 0s 8ms/step - loss: 0.0049 - accuracy: 0.9982\n",
            "Epoch 305/400\n",
            "18/18 [==============================] - 0s 8ms/step - loss: 0.0066 - accuracy: 0.9964\n",
            "Epoch 306/400\n",
            "18/18 [==============================] - 0s 8ms/step - loss: 0.0042 - accuracy: 0.9982\n",
            "Epoch 307/400\n",
            "18/18 [==============================] - 0s 8ms/step - loss: 0.0121 - accuracy: 0.9946\n",
            "Epoch 308/400\n",
            "18/18 [==============================] - 0s 9ms/step - loss: 0.0082 - accuracy: 1.0000\n",
            "Epoch 309/400\n",
            "18/18 [==============================] - 0s 9ms/step - loss: 0.0133 - accuracy: 0.9946\n",
            "Epoch 310/400\n",
            "18/18 [==============================] - 0s 10ms/step - loss: 0.1599 - accuracy: 0.9494\n",
            "Epoch 311/400\n",
            "18/18 [==============================] - 0s 9ms/step - loss: 0.7365 - accuracy: 0.8228\n",
            "Epoch 312/400\n",
            "18/18 [==============================] - 0s 9ms/step - loss: 0.7164 - accuracy: 0.8174\n",
            "Epoch 313/400\n",
            "18/18 [==============================] - 0s 9ms/step - loss: 0.3016 - accuracy: 0.9060\n",
            "Epoch 314/400\n",
            "18/18 [==============================] - 0s 9ms/step - loss: 0.1838 - accuracy: 0.9439\n",
            "Epoch 315/400\n",
            "18/18 [==============================] - 0s 9ms/step - loss: 0.1034 - accuracy: 0.9638\n",
            "Epoch 316/400\n",
            "18/18 [==============================] - 0s 9ms/step - loss: 0.0474 - accuracy: 0.9855\n",
            "Epoch 317/400\n",
            "18/18 [==============================] - 0s 9ms/step - loss: 0.0807 - accuracy: 0.9765\n",
            "Epoch 318/400\n",
            "18/18 [==============================] - 0s 8ms/step - loss: 0.0554 - accuracy: 0.9837\n",
            "Epoch 319/400\n",
            "18/18 [==============================] - 0s 9ms/step - loss: 0.0927 - accuracy: 0.9656\n",
            "Epoch 320/400\n",
            "18/18 [==============================] - 0s 8ms/step - loss: 0.0519 - accuracy: 0.9837\n",
            "Epoch 321/400\n",
            "18/18 [==============================] - 0s 9ms/step - loss: 0.0189 - accuracy: 0.9928\n",
            "Epoch 322/400\n",
            "18/18 [==============================] - 0s 10ms/step - loss: 0.0090 - accuracy: 1.0000\n",
            "Epoch 323/400\n",
            "18/18 [==============================] - 0s 9ms/step - loss: 0.0070 - accuracy: 1.0000\n",
            "Epoch 324/400\n",
            "18/18 [==============================] - 0s 8ms/step - loss: 0.0077 - accuracy: 1.0000\n",
            "Epoch 325/400\n",
            "18/18 [==============================] - 0s 9ms/step - loss: 0.0055 - accuracy: 1.0000\n",
            "Epoch 326/400\n",
            "18/18 [==============================] - 0s 9ms/step - loss: 0.0043 - accuracy: 1.0000\n",
            "Epoch 327/400\n",
            "18/18 [==============================] - 0s 9ms/step - loss: 0.0059 - accuracy: 1.0000\n",
            "Epoch 328/400\n",
            "18/18 [==============================] - 0s 9ms/step - loss: 0.0068 - accuracy: 1.0000\n",
            "Epoch 329/400\n",
            "18/18 [==============================] - 0s 9ms/step - loss: 0.0061 - accuracy: 0.9982\n",
            "Epoch 330/400\n",
            "18/18 [==============================] - 0s 8ms/step - loss: 0.0116 - accuracy: 0.9946\n",
            "Epoch 331/400\n",
            "18/18 [==============================] - 0s 8ms/step - loss: 0.0056 - accuracy: 1.0000\n",
            "Epoch 332/400\n",
            "18/18 [==============================] - 0s 8ms/step - loss: 0.0056 - accuracy: 1.0000\n",
            "Epoch 333/400\n",
            "18/18 [==============================] - 0s 9ms/step - loss: 0.0038 - accuracy: 1.0000\n",
            "Epoch 334/400\n",
            "18/18 [==============================] - 0s 9ms/step - loss: 0.0028 - accuracy: 1.0000\n",
            "Epoch 335/400\n",
            "18/18 [==============================] - 0s 9ms/step - loss: 0.0026 - accuracy: 1.0000\n",
            "Epoch 336/400\n",
            "18/18 [==============================] - 0s 9ms/step - loss: 0.0026 - accuracy: 1.0000\n",
            "Epoch 337/400\n",
            "18/18 [==============================] - 0s 9ms/step - loss: 0.0025 - accuracy: 1.0000\n",
            "Epoch 338/400\n",
            "18/18 [==============================] - 0s 9ms/step - loss: 0.0023 - accuracy: 1.0000\n",
            "Epoch 339/400\n",
            "18/18 [==============================] - 0s 9ms/step - loss: 0.0023 - accuracy: 1.0000\n",
            "Epoch 340/400\n",
            "18/18 [==============================] - 0s 8ms/step - loss: 0.0022 - accuracy: 1.0000\n",
            "Epoch 341/400\n",
            "18/18 [==============================] - 0s 9ms/step - loss: 0.0022 - accuracy: 1.0000\n",
            "Epoch 342/400\n",
            "18/18 [==============================] - 0s 8ms/step - loss: 0.0021 - accuracy: 1.0000\n",
            "Epoch 343/400\n",
            "18/18 [==============================] - 0s 9ms/step - loss: 0.0020 - accuracy: 1.0000\n",
            "Epoch 344/400\n",
            "18/18 [==============================] - 0s 9ms/step - loss: 0.0020 - accuracy: 1.0000\n",
            "Epoch 345/400\n",
            "18/18 [==============================] - 0s 9ms/step - loss: 0.0019 - accuracy: 1.0000\n",
            "Epoch 346/400\n",
            "18/18 [==============================] - 0s 8ms/step - loss: 0.0019 - accuracy: 1.0000\n",
            "Epoch 347/400\n",
            "18/18 [==============================] - 0s 10ms/step - loss: 0.0020 - accuracy: 1.0000\n",
            "Epoch 348/400\n",
            "18/18 [==============================] - 0s 8ms/step - loss: 0.0019 - accuracy: 1.0000\n",
            "Epoch 349/400\n",
            "18/18 [==============================] - 0s 9ms/step - loss: 0.0019 - accuracy: 1.0000\n",
            "Epoch 350/400\n",
            "18/18 [==============================] - 0s 8ms/step - loss: 0.0018 - accuracy: 1.0000\n",
            "Epoch 351/400\n",
            "18/18 [==============================] - 0s 8ms/step - loss: 0.0018 - accuracy: 1.0000\n",
            "Epoch 352/400\n",
            "18/18 [==============================] - 0s 9ms/step - loss: 0.0020 - accuracy: 1.0000\n",
            "Epoch 353/400\n",
            "18/18 [==============================] - 0s 9ms/step - loss: 0.0019 - accuracy: 1.0000\n",
            "Epoch 354/400\n",
            "18/18 [==============================] - 0s 9ms/step - loss: 0.0017 - accuracy: 1.0000\n",
            "Epoch 355/400\n",
            "18/18 [==============================] - 0s 9ms/step - loss: 0.0016 - accuracy: 1.0000\n",
            "Epoch 356/400\n",
            "18/18 [==============================] - 0s 10ms/step - loss: 0.0016 - accuracy: 1.0000\n",
            "Epoch 357/400\n",
            "18/18 [==============================] - 0s 9ms/step - loss: 0.0016 - accuracy: 1.0000\n",
            "Epoch 358/400\n",
            "18/18 [==============================] - 0s 10ms/step - loss: 0.0016 - accuracy: 1.0000\n",
            "Epoch 359/400\n",
            "18/18 [==============================] - 0s 13ms/step - loss: 0.0015 - accuracy: 1.0000\n",
            "Epoch 360/400\n",
            "18/18 [==============================] - 0s 13ms/step - loss: 0.0015 - accuracy: 1.0000\n",
            "Epoch 361/400\n",
            "18/18 [==============================] - 0s 12ms/step - loss: 0.0015 - accuracy: 1.0000\n",
            "Epoch 362/400\n",
            "18/18 [==============================] - 0s 12ms/step - loss: 0.0015 - accuracy: 1.0000\n",
            "Epoch 363/400\n",
            "18/18 [==============================] - 0s 13ms/step - loss: 0.0017 - accuracy: 1.0000\n",
            "Epoch 364/400\n",
            "18/18 [==============================] - 0s 12ms/step - loss: 0.0015 - accuracy: 1.0000\n",
            "Epoch 365/400\n",
            "18/18 [==============================] - 0s 12ms/step - loss: 0.0015 - accuracy: 1.0000\n",
            "Epoch 366/400\n",
            "18/18 [==============================] - 0s 12ms/step - loss: 0.0014 - accuracy: 1.0000\n",
            "Epoch 367/400\n",
            "18/18 [==============================] - 0s 12ms/step - loss: 0.0014 - accuracy: 1.0000\n",
            "Epoch 368/400\n",
            "18/18 [==============================] - 0s 12ms/step - loss: 0.0014 - accuracy: 1.0000\n",
            "Epoch 369/400\n",
            "18/18 [==============================] - 0s 12ms/step - loss: 0.0013 - accuracy: 1.0000\n",
            "Epoch 370/400\n",
            "18/18 [==============================] - 0s 12ms/step - loss: 0.0013 - accuracy: 1.0000\n",
            "Epoch 371/400\n",
            "18/18 [==============================] - 0s 11ms/step - loss: 0.0013 - accuracy: 1.0000\n",
            "Epoch 372/400\n",
            "18/18 [==============================] - 0s 12ms/step - loss: 0.0013 - accuracy: 1.0000\n",
            "Epoch 373/400\n",
            "18/18 [==============================] - 0s 13ms/step - loss: 0.0013 - accuracy: 1.0000\n",
            "Epoch 374/400\n",
            "18/18 [==============================] - 0s 12ms/step - loss: 0.0013 - accuracy: 1.0000\n",
            "Epoch 375/400\n",
            "18/18 [==============================] - 0s 14ms/step - loss: 0.0013 - accuracy: 1.0000\n",
            "Epoch 376/400\n",
            "18/18 [==============================] - 0s 12ms/step - loss: 0.0012 - accuracy: 1.0000\n",
            "Epoch 377/400\n",
            "18/18 [==============================] - 0s 12ms/step - loss: 0.0013 - accuracy: 1.0000\n",
            "Epoch 378/400\n",
            "18/18 [==============================] - 0s 13ms/step - loss: 0.0012 - accuracy: 1.0000\n",
            "Epoch 379/400\n",
            "18/18 [==============================] - 0s 13ms/step - loss: 0.0012 - accuracy: 1.0000\n",
            "Epoch 380/400\n",
            "18/18 [==============================] - 0s 12ms/step - loss: 0.0012 - accuracy: 1.0000\n",
            "Epoch 381/400\n",
            "18/18 [==============================] - 0s 13ms/step - loss: 0.0012 - accuracy: 1.0000\n",
            "Epoch 382/400\n",
            "18/18 [==============================] - 0s 10ms/step - loss: 0.0011 - accuracy: 1.0000\n",
            "Epoch 383/400\n",
            "18/18 [==============================] - 0s 9ms/step - loss: 0.0011 - accuracy: 1.0000\n",
            "Epoch 384/400\n",
            "18/18 [==============================] - 0s 8ms/step - loss: 0.0011 - accuracy: 1.0000\n",
            "Epoch 385/400\n",
            "18/18 [==============================] - 0s 8ms/step - loss: 0.0011 - accuracy: 1.0000\n",
            "Epoch 386/400\n",
            "18/18 [==============================] - 0s 9ms/step - loss: 0.0011 - accuracy: 1.0000\n",
            "Epoch 387/400\n",
            "18/18 [==============================] - 0s 9ms/step - loss: 0.0011 - accuracy: 1.0000\n",
            "Epoch 388/400\n",
            "18/18 [==============================] - 0s 10ms/step - loss: 0.0010 - accuracy: 1.0000\n",
            "Epoch 389/400\n",
            "18/18 [==============================] - 0s 10ms/step - loss: 0.0010 - accuracy: 1.0000\n",
            "Epoch 390/400\n",
            "18/18 [==============================] - 0s 9ms/step - loss: 0.0010 - accuracy: 1.0000\n",
            "Epoch 391/400\n",
            "18/18 [==============================] - 0s 9ms/step - loss: 0.0011 - accuracy: 1.0000\n",
            "Epoch 392/400\n",
            "18/18 [==============================] - 0s 9ms/step - loss: 0.0011 - accuracy: 1.0000\n",
            "Epoch 393/400\n",
            "18/18 [==============================] - 0s 8ms/step - loss: 0.0010 - accuracy: 1.0000\n",
            "Epoch 394/400\n",
            "18/18 [==============================] - 0s 10ms/step - loss: 9.7766e-04 - accuracy: 1.0000\n",
            "Epoch 395/400\n",
            "18/18 [==============================] - 0s 9ms/step - loss: 9.4890e-04 - accuracy: 1.0000\n",
            "Epoch 396/400\n",
            "18/18 [==============================] - 0s 8ms/step - loss: 9.4827e-04 - accuracy: 1.0000\n",
            "Epoch 397/400\n",
            "18/18 [==============================] - 0s 8ms/step - loss: 9.5276e-04 - accuracy: 1.0000\n",
            "Epoch 398/400\n",
            "18/18 [==============================] - 0s 9ms/step - loss: 9.8215e-04 - accuracy: 1.0000\n",
            "Epoch 399/400\n",
            "18/18 [==============================] - 0s 9ms/step - loss: 9.2799e-04 - accuracy: 1.0000\n",
            "Epoch 400/400\n",
            "18/18 [==============================] - 0s 10ms/step - loss: 8.9778e-04 - accuracy: 1.0000\n"
          ]
        }
      ]
    },
    {
      "cell_type": "code",
      "source": [
        "model.evaluate(X_test_flat, label)"
      ],
      "metadata": {
        "id": "B_vAejOMK7dq",
        "outputId": "51427bf9-b94b-49f0-cd83-d72da1290e05",
        "colab": {
          "base_uri": "https://localhost:8080/"
        }
      },
      "execution_count": null,
      "outputs": [
        {
          "output_type": "stream",
          "name": "stdout",
          "text": [
            "18/18 [==============================] - 0s 3ms/step - loss: 0.0895 - accuracy: 0.9711\n"
          ]
        },
        {
          "output_type": "execute_result",
          "data": {
            "text/plain": [
              "[0.08953091502189636, 0.9710668921470642]"
            ]
          },
          "metadata": {},
          "execution_count": 196
        }
      ]
    },
    {
      "cell_type": "code",
      "source": [
        "pd.DataFrame(history.history).plot(figsize=(5,4))\n",
        "plt.grid(True)\n",
        "plt.gca().set_ylim(0,1)\n",
        "plt.show()"
      ],
      "metadata": {
        "id": "r4y9s-v9LKdn",
        "outputId": "bd9f5431-530d-47d7-f110-c549022d10ae",
        "colab": {
          "base_uri": "https://localhost:8080/",
          "height": 372
        }
      },
      "execution_count": null,
      "outputs": [
        {
          "output_type": "display_data",
          "data": {
            "text/plain": [
              "<Figure size 500x400 with 1 Axes>"
            ],
            "image/png": "[encoded data removed]"
          },
          "metadata": {}
        }
      ]
    },
    {
      "cell_type": "code",
      "source": [
        "prediction = model.predict(X_test_flat)\n",
        "print(prediction)"
      ],
      "metadata": {
        "id": "eZzsWgVeLn7f",
        "outputId": "2f149bed-c6b5-4ff5-a497-9324e3690be2",
        "colab": {
          "base_uri": "https://localhost:8080/"
        }
      },
      "execution_count": null,
      "outputs": [
        {
          "output_type": "stream",
          "name": "stdout",
          "text": [
            "18/18 [==============================] - 0s 4ms/step\n",
            "[[1.2276996e-08 7.8598150e-06 2.5319788e-10 ... 1.4988877e-12\n",
            "  5.2314857e-07 9.9979162e-01]\n",
            " [1.3106425e-05 1.4488530e-13 4.8584763e-05 ... 1.6794048e-03\n",
            "  1.3280055e-07 1.4577028e-01]\n",
            " [4.6238128e-08 4.9393355e-16 3.1808933e-04 ... 2.4446272e-04\n",
            "  3.5700405e-09 9.9794453e-01]\n",
            " ...\n",
            " [2.6243863e-09 5.7901152e-06 9.9993533e-01 ... 1.9921499e-12\n",
            "  3.2667323e-08 8.4098798e-13]\n",
            " [5.7545813e-09 3.2650910e-11 1.6314335e-11 ... 9.9992269e-01\n",
            "  6.3318640e-07 1.7265180e-07]\n",
            " [9.9984729e-01 2.5715027e-11 9.5490549e-09 ... 3.1530823e-07\n",
            "  2.6915898e-06 1.8113018e-05]]\n"
          ]
        }
      ]
    },
    {
      "cell_type": "code",
      "source": [
        "print(prediction[1])"
      ],
      "metadata": {
        "id": "J6x-fn1vLrqD",
        "outputId": "dcf35e81-c040-4ca0-ee16-6ffbec4d54f1",
        "colab": {
          "base_uri": "https://localhost:8080/"
        }
      },
      "execution_count": null,
      "outputs": [
        {
          "output_type": "stream",
          "name": "stdout",
          "text": [
            "[1.31064253e-05 1.44885297e-13 4.85847631e-05 1.05604485e-08\n",
            " 6.26672794e-15 8.52488399e-01 1.46006718e-08 1.67940476e-03\n",
            " 1.32800551e-07 1.45770282e-01]\n"
          ]
        }
      ]
    },
    {
      "cell_type": "code",
      "source": [
        "np.argmax(prediction[1])"
      ],
      "metadata": {
        "id": "XOFpGwj3Lvvv",
        "outputId": "ea388db0-e9c3-4619-97ad-1d305868332e",
        "colab": {
          "base_uri": "https://localhost:8080/"
        }
      },
      "execution_count": null,
      "outputs": [
        {
          "output_type": "execute_result",
          "data": {
            "text/plain": [
              "5"
            ]
          },
          "metadata": {},
          "execution_count": 201
        }
      ]
    },
    {
      "cell_type": "code",
      "source": [
        "plt.matshow(list_files[1])"
      ],
      "metadata": {
        "id": "zOPlOku7LymC",
        "outputId": "352fc3fa-6150-4805-a927-2cd1b9c32c55",
        "colab": {
          "base_uri": "https://localhost:8080/",
          "height": 452
        }
      },
      "execution_count": null,
      "outputs": [
        {
          "output_type": "execute_result",
          "data": {
            "text/plain": [
              "<matplotlib.image.AxesImage at 0x7f128b55d4e0>"
            ]
          },
          "metadata": {},
          "execution_count": 202
        },
        {
          "output_type": "display_data",
          "data": {
            "text/plain": [
              "<Figure size 480x480 with 1 Axes>"
            ],
            "image/png": "[encoded data removed]"
          },
          "metadata": {}
        }
      ]
    },
    {
      "cell_type": "code",
      "source": [
        "predicted_labels = [np.argmax(i) for i in prediction]"
      ],
      "metadata": {
        "id": "AzD4-3i2NbfZ"
      },
      "execution_count": null,
      "outputs": []
    },
    {
      "cell_type": "code",
      "source": [
        "cm = confusion_matrix(label, prediction.argmax(axis=1))\n",
        "print(cm)"
      ],
      "metadata": {
        "id": "r6HMwYehNjxu",
        "outputId": "f009278c-0087-41bb-995f-24517d2a53b1",
        "colab": {
          "base_uri": "https://localhost:8080/"
        }
      },
      "execution_count": null,
      "outputs": [
        {
          "output_type": "stream",
          "name": "stdout",
          "text": [
            "[[47  0  0  0  0  0  0  2  0  2]\n",
            " [ 0 70  0  0  0  0  0  0  0  0]\n",
            " [ 0  0 49  0  0  0  0  0  0  0]\n",
            " [ 0  0  0 46  0  0  1  1  0  0]\n",
            " [ 0  0  0  0 56  0  0  0  0  0]\n",
            " [ 0  0  0  0  0 63  0  0  0  7]\n",
            " [ 0  0  0  0  0  2 47  0  0  0]\n",
            " [ 0  0  0  0  0  0  0 61  0  0]\n",
            " [ 0  0  0  0  0  0  0  1 49  0]\n",
            " [ 0  0  0  0  0  0  0  0  0 49]]\n"
          ]
        }
      ]
    },
    {
      "cell_type": "code",
      "source": [
        "import seaborn as sn\n",
        "plt.figure(figsize = (5,5))\n",
        "sn.heatmap(cm, annot=True, fmt='d')\n",
        "plt.xlabel('Predicted Label')\n",
        "plt.ylabel('True Label')"
      ],
      "metadata": {
        "id": "YNS1gYmSN9Ie",
        "outputId": "a0ba2aa4-0150-447a-e972-f180791dd481",
        "colab": {
          "base_uri": "https://localhost:8080/",
          "height": 485
        }
      },
      "execution_count": null,
      "outputs": [
        {
          "output_type": "execute_result",
          "data": {
            "text/plain": [
              "Text(33.22222222222222, 0.5, 'True Label')"
            ]
          },
          "metadata": {},
          "execution_count": 206
        },
        {
          "output_type": "display_data",
          "data": {
            "text/plain": [
              "<Figure size 500x500 with 2 Axes>"
            ],
            "image/png": "[encoded data removed]"
          },
          "metadata": {}
        }
      ]
    },
    {
      "cell_type": "code",
      "source": [
        "accuracy = 100*np.trace(cm)/np.sum(cm)\n",
        "print(accuracy)"
      ],
      "metadata": {
        "id": "E9levH7POD9u",
        "outputId": "a651f85a-21db-44e6-aa0a-1bbcc885345c",
        "colab": {
          "base_uri": "https://localhost:8080/"
        }
      },
      "execution_count": null,
      "outputs": [
        {
          "output_type": "stream",
          "name": "stdout",
          "text": [
            "97.10669077757686\n"
          ]
        }
      ]
    }
  ]
}