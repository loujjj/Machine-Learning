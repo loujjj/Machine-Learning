{
  "nbformat": 4,
  "nbformat_minor": 0,
  "metadata": {
    "colab": {
      "provenance": [],
      "include_colab_link": true
    },
    "kernelspec": {
      "name": "python3",
      "display_name": "Python 3"
    },
    "language_info": {
      "name": "python"
    }
  },
  "cells": [
    {
      "cell_type": "markdown",
      "metadata": {
        "id": "view-in-github",
        "colab_type": "text"
      },
      "source": [
        "<a href=\"https://colab.research.google.com/github/loujjj/Machine-Learning/blob/main/PCT04trial2_Tabor.ipynb\" target=\"_parent\"><img src=\"https://colab.research.google.com/assets/colab-badge.svg\" alt=\"Open In Colab\"/></a>"
      ]
    },
    {
      "cell_type": "markdown",
      "source": [
        "##**Classification of Walk vs Run**"
      ],
      "metadata": {
        "id": "w12W2G-6c32h"
      }
    },
    {
      "cell_type": "markdown",
      "source": [
        "####**Importing the Necessary Libraries**"
      ],
      "metadata": {
        "id": "19trjlLic6EL"
      }
    },
    {
      "cell_type": "code",
      "execution_count": 1,
      "metadata": {
        "id": "XPZnl1jNcuB1"
      },
      "outputs": [],
      "source": [
        "import numpy as np\n",
        "import matplotlib.pyplot as plt\n",
        "import pandas as pd\n",
        "import os\n",
        "import cv2 as cv\n",
        "import fnmatch\n",
        "\n",
        "import tensorflow as tf\n",
        "from tensorflow import keras\n",
        "from tensorflow.keras.models import Sequential\n",
        "from tensorflow.keras.layers import Dense, Conv2D, Dropout, Flatten, MaxPooling2D\n",
        "\n",
        "from sklearn import datasets\n",
        "from sklearn.preprocessing import LabelEncoder\n",
        "from sklearn.model_selection import train_test_split\n",
        "from sklearn.metrics import confusion_matrix, ConfusionMatrixDisplay"
      ]
    },
    {
      "cell_type": "markdown",
      "source": [
        "####**Importing and Preparing the Data**"
      ],
      "metadata": {
        "id": "21I4-WljdB3r"
      }
    },
    {
      "cell_type": "markdown",
      "source": [
        "#####**Importing the Data**"
      ],
      "metadata": {
        "id": "-z48xONBdGc0"
      }
    },
    {
      "cell_type": "code",
      "source": [
        "from google.colab import drive\n",
        "drive.mount('/content/gdrive/', force_remount=True)"
      ],
      "metadata": {
        "id": "a0VllYJydK2L",
        "outputId": "8055cc45-2f27-4201-de23-15a7248c50a5",
        "colab": {
          "base_uri": "https://localhost:8080/"
        }
      },
      "execution_count": 2,
      "outputs": [
        {
          "output_type": "stream",
          "name": "stdout",
          "text": [
            "Mounted at /content/gdrive/\n"
          ]
        }
      ]
    },
    {
      "cell_type": "code",
      "source": [
        "cd gdrive/MyDrive/'Colab Notebooks'/Book/BallsDatasets"
      ],
      "metadata": {
        "colab": {
          "base_uri": "https://localhost:8080/"
        },
        "id": "ATHuKHGmGqhd",
        "outputId": "ef881e0a-db23-4634-c549-265c7c8d6ed5"
      },
      "execution_count": 3,
      "outputs": [
        {
          "output_type": "stream",
          "name": "stdout",
          "text": [
            "/content/gdrive/MyDrive/Colab Notebooks/Book/BallsDatasets\n"
          ]
        }
      ]
    },
    {
      "cell_type": "markdown",
      "source": [
        "**NOTE: You have to save the attached csv file to one of your subfolders in Google Drive and change the name of the subfolder below, accordingly.**"
      ],
      "metadata": {
        "id": "lUPIQIxqIfvI"
      }
    },
    {
      "cell_type": "code",
      "source": [
        "ls"
      ],
      "metadata": {
        "id": "R6Vx8Cz4dRf4",
        "colab": {
          "base_uri": "https://localhost:8080/"
        },
        "outputId": "bca9267b-4b71-489e-c606-112606fbb58a"
      },
      "execution_count": 4,
      "outputs": [
        {
          "output_type": "stream",
          "name": "stdout",
          "text": [
            " baseball00.jpg           bowling20.jpg          soccer29.jpg\n",
            " baseball01.jpg           bowling21.png          soccer30.jpg\n",
            " baseball02.png           bowling22.png          soccer31.jpg\n",
            " baseball03.jpg           bowling23.png          soccer32.jpg\n",
            " baseball04.jpg           bowling24.jpg          soccer33.png\n",
            " baseball05.jpg           bowling25.png          soccer34.jpg\n",
            " baseball06.png           bowling26.png          soccer36.jpg\n",
            " baseball07.jpg           bowling27.jpg          soccer37.png\n",
            " baseball08.jpeg          bowling28.jpg          soccer38.png\n",
            " baseball09.jpeg          bowling29.jpg          soccer39.png\n",
            " baseball10.jpg           bowling30.png          soccer40.jpg\n",
            " baseball11.jpg           bowling31.png          soccer41.jpg\n",
            " baseball12.jpg           bowling32.png          soccer42.jpg\n",
            " baseball13.jpg           bowling34.jpg          soccer43.jpg\n",
            " baseball14.jpg           bowling35.jpg          soccer44.jpg\n",
            " baseball15.jpg           bowling36.png          soccer45.jpg\n",
            " baseball16.jpg           bowling37.png          soccer46.png\n",
            " baseball17.jpg           bowling38.png          soccer48.jpg\n",
            " baseball18.jpg           bowling39.jpg          soccer48.png\n",
            " baseball19.jpg           bowling40.jpg          soccer49.png\n",
            " baseball20.jpg           bowling41.jpg          soccer50.jpg\n",
            " baseball21.png           bowling42.jpg          soccer51.jpeg\n",
            " baseball22.png           bowling43.jpg          soccer52.jpeg\n",
            " baseball23.png           bowling44.jpg          soccer53.jpeg\n",
            " baseball24.jpg           bowling45.jpg          tabletennis00.jpg\n",
            " baseball25.jpg           bowling46.jpg          tabletennis01.jpg\n",
            " baseball26.jpg           bowling47.jpg          tabletennis02.jpg\n",
            " baseball27.jpg           bowling48.png          tabletennis03.jpg\n",
            " baseball28.jpg           bowling49.png          tabletennis04.jpg\n",
            " baseball29.jpg           bowling50.png          tabletennis07.png\n",
            " baseball30.png           bowling51.jpeg        'tabletennis08 (1).jpeg'\n",
            " baseball31.png           bowling52.jpeg         tabletennis08.jpeg\n",
            " baseball32.png           bowling53.jpeg         tabletennis09.jpg\n",
            " baseball33.jpg           football00.jpg         tabletennis10.jpg\n",
            " baseball36.png           football01.jpg         tabletennis11.jpg\n",
            " baseball37.png           football05.jpg         tabletennis12.jpg\n",
            " baseball38.png           football06.jpg         tabletennis13.jpg\n",
            " baseball39.png           football07.jpg         tabletennis14.jpg\n",
            " baseball40.jpg          'football08 (1).jpg'    tabletennis15.jpg\n",
            " baseball41.jpg           football08.jpg         tabletennis16.jpg\n",
            " baseball42.jpg          'football09 (1).png'    tabletennis17.jpg\n",
            " baseball43.jpg           football09.png        'tabletennis18 (1).png'\n",
            " baseball44.jpg           football10.jpg         tabletennis18.png\n",
            " baseball46.jpg           football11.jpg        'tabletennis19 (1).png'\n",
            " baseball47.jpg           football12.jpg         tabletennis19.png\n",
            " baseball48.png           football13.png         tabletennis20.png\n",
            " baseball49.jpg           football14.png         tabletennis21.png\n",
            " baseball50.jpg           football15.jpg         tabletennis22.png\n",
            " baseball51.jpeg          football16.jpg         tabletennis23.png\n",
            " baseball52.jpeg          football17.jpg        'tabletennis27 (1).jpg'\n",
            " baseball53.jpeg          football18.jpg         tabletennis27.jpg\n",
            " basketball00.jpg         football19.jpg         tabletennis28.jpg\n",
            " basketball01.jpg        'football20 (1).jpg'    tabletennis29.jpg\n",
            " basketball02.png         football20.jpg         tabletennis30.jpeg\n",
            " basketball03.png        'football21 (1).png'   'tabletennis31 (1).jpg'\n",
            " basketball07.jpeg        football21.png         tabletennis31.jpg\n",
            " basketball08.jpeg       'football22 (1).jpg'   'tabletennis32 (1).png'\n",
            " basketball09.jpeg        football22.jpg         tabletennis32.png\n",
            " basketball10.jpg        'football23 (1).png'   'tabletennis33 (1).png'\n",
            " basketball11.jpg         football23.png         tabletennis33.png\n",
            " basketball12.jpg         football24.jpg         tabletennis34.png\n",
            " basketball13.png         football25.jpg         tabletennis35.jpg\n",
            " basketball14.png         football26.jpg         tabletennis36.jpg\n",
            " basketball15.jpg         football27.jpg         tabletennis37.jpg\n",
            " basketball16.png         football28.jpg         tabletennis38.png\n",
            " basketball17.jpg         football29.png         tabletennis39.png\n",
            "'basketball18 (1).jpg'    football30.png        'tabletennis40 (1).png'\n",
            "'basketball18 (2).jpg'    football31.png         tabletennis40.png\n",
            " basketball18.jpg         football32.png        'tabletennis41 (1).jpg'\n",
            "'basketball19 (1).jpg'   'football36 (1).png'    tabletennis41.jpg\n",
            "'basketball19 (2).jpg'    football36.png         tabletennis42.jpg\n",
            " basketball19.jpg        'football37 (1).png'    tabletennis43.jpg\n",
            " basketball20.jpg         football37.png         tabletennis44.jpg\n",
            " basketball21.jpg         football38.png         tabletennis45.jpg\n",
            " basketball22.png         football39.jpg         tabletennis46.jpg\n",
            " basketball23.png         football40.jpg         tabletennis47.jpg\n",
            "'basketball24 (1).jpg'    football41.jpg         tabletennis48.jpg\n",
            "'basketball24 (2).jpg'    football42.jpg         tabletennis49.jpg\n",
            " basketball24.jpg         football43.jpg         tabletennis50.jpg\n",
            " basketball25.jpg         football44.jpg        'tabletennis51 (1).jpg'\n",
            "'basketball26 (1).jpg'    football46.jpg         tabletennis51.jpg\n",
            "'basketball26 (2).jpg'    football47.jpg         tabletennis52.png\n",
            " basketball26.jpg         football48.png        'tabletennis53 (1).jpeg'\n",
            "'basketball27 (1).jpg'    football49.png         tabletennis53.jpeg\n",
            "'basketball27 (2).jpg'   'football50 (1).png'    tabletennis54.jpeg\n",
            " basketball27.jpg         football50.png         tennis00.jpg\n",
            " basketball28.jpg         football51.jpeg        tennis01.jpg\n",
            " basketball29.jpg        'football52 (1).jpeg'   tennis02.jpg\n",
            "'basketball30 (1).png'    football52.jpeg        tennis03.jpg\n",
            "'basketball30 (2).png'    football53.jpeg        tennis04.jpg\n",
            " basketball30.png         golf00.jpg             tennis05.jpg\n",
            " basketball31.png         golf01.jpg             tennis06.png\n",
            "'basketball32 (1).png'    golf02.jpg             tennis07.jpeg\n",
            "'basketball32 (2).png'    golf03.jpg             tennis08.jpg\n",
            " basketball32.png         golf04.jpg             tennis09.jpg\n",
            " basketball34.jpg         golf05.png             tennis10.jpg\n",
            " basketball35.jpg        'golf07 (1).jpeg'       tennis11.jpg\n",
            " basketball36.png        'golf07 (2).jpeg'       tennis12.jpg\n",
            " basketball37.png         golf07.jpeg            tennis13.jpg\n",
            " basketball38.png        'golf08 (1).png'        tennis14.jpg\n",
            " basketball39.jpg        'golf08 (2).png'        tennis15.jpg\n",
            "'basketball40 (1).jpg'    golf08.png             tennis16.jpg\n",
            "'basketball40 (2).jpg'   'golf09 (1).png'        tennis17.jpg\n",
            " basketball40.jpg         golf09.png             tennis18.png\n",
            "'basketball41 (1).jpg'    golf10.jpg             tennis19.png\n",
            "'basketball41 (2).jpg'    golf11.jpg             tennis20.png\n",
            " basketball41.jpg         golf12.jpg             tennis21.png\n",
            " basketball42.jpg         golf13.png             tennis22.png\n",
            " basketball43.jpg         golf14.png             tennis23.png\n",
            " basketball44.jpg         golf15.png             tennis27.jpg\n",
            " basketball45.png         golf16.jpg             tennis28.jpg\n",
            " basketball46.png         golf17.jpg             tennis29.jpg\n",
            " basketball47.png         golf18.jpg             tennis30.png\n",
            " basketball48.png         golf19.jpg             tennis31.png\n",
            " basketball49.png        'golf20 (1).jpg'        tennis32.png\n",
            " basketball50.png        'golf20 (2).jpg'        tennis33.jpg\n",
            "'basketball51 (1).jpeg'   golf20.jpg             tennis34.jpg\n",
            "'basketball51 (2).jpeg'   golf21.png             tennis36.png\n",
            " basketball51.jpeg       'golf22 (1).png'        tennis37.png\n",
            " basketball52.jpeg       'golf22 (2).png'        tennis38.png\n",
            " basketball53.jpeg        golf22.png             tennis39.jpg\n",
            " billiards00.jpg         'golf23 (1).png'        tennis40.jpg\n",
            " billiards01.png         'golf23 (2).png'        tennis41.jpg\n",
            " billiards02.jpeg         golf23.png             tennis42.jpg\n",
            " billiards03.jpeg         golf27.jpg             tennis43.jpg\n",
            " billiards07.jpg          golf28.png             tennis44.jpg\n",
            " billiards08.jpg          golf29.jpg             tennis45.jpg\n",
            " billiards09.jpg          golf30.jpg             tennis46.jpg\n",
            " billiards10.jpg          golf31.png             tennis47.jpg\n",
            " billiards11.jpg          golf32.png             tennis48.png\n",
            " billiards12.jpg          golf33.png             tennis49.png\n",
            " billiards13.png         'golf34 (1).jpg'        tennis50.jpg\n",
            " billiards14.png         'golf34 (2).jpg'        tennis51.jpeg\n",
            " billiards15.png          golf34.jpg             tennis52.jpeg\n",
            " billiards16.jpg         'golf35 (1).jpg'        tennis53.jpeg\n",
            " billiards17.jpg          golf35.jpg             volleyball00.jpg\n",
            " billiards18.webp        'golf36 (1).jpg'        volleyball01.jpg\n",
            " billiards19.jpg         'golf36 (2).jpg'        volleyball02.jpg\n",
            " billiards20.jpg          golf36.jpg             volleyball03.jpg\n",
            " billiards21.png         'golf37 (1).png'        volleyball07.jpg\n",
            " billiards22.png         'golf37 (2).png'        volleyball08.png\n",
            " billiards23.png          golf37.png             volleyball09.jpg\n",
            " billiards24.jpg          golf38.png             volleyball10.jpg\n",
            " billiards25.jpg          golf39.png             volleyball11.jpg\n",
            " billiards26.jpg          golf40.png             volleyball12.jpg\n",
            " billiards27.jpg          golf41.jpg             volleyball13.jpg\n",
            " billiards28.jpg          golf42.jpg             volleyball14.png\n",
            " billiards29.jpg         'golf43 (1).jpg'        volleyball15.jpg\n",
            " billiards30.png          golf43.jpg             volleyball16.jpg\n",
            " billiards31.png          golf44.jpg             volleyball17.jpg\n",
            " billiards32.png          golf45.jpg             volleyball18.png\n",
            " billiards33.jpeg         golf46.jpg             volleyball19.png\n",
            " billiards36.png          golf47.jpg             volleyball20.png\n",
            " billiards37.png          golf49.png             volleyball21.png\n",
            " billiards38.png          golf50.jpg             volleyball22.png\n",
            " billiards39.png         'golf51 (1).jpg'        volleyball23.png\n",
            " billiards40.jpg          golf51.jpg             volleyball27.jpg\n",
            " billiards41.jpg          golf52.jpg             volleyball28.jpg\n",
            " billiards42.jpg          golf53.jpeg            volleyball29.jpg\n",
            " billiards43.jpg          golf54.jpeg            volleyball30.jpg\n",
            " billiards44.jpg          soccer00.jpg           volleyball31.jpg\n",
            " billiards45.png          soccer01.jpg           volleyball32.jpg\n",
            " billiards46.png          soccer02.jpeg          volleyball33.png\n",
            " billiards47.png          soccer03.jpg           volleyball34.png\n",
            " billiards48.jpg          soccer04.jpg           volleyball35.png\n",
            " billiards49.png          soccer05.jpg           volleyball37.jpeg\n",
            " billiards50.png          soccer06.jpg           volleyball39.png\n",
            " billiards51.jpeg         soccer07.jpeg          volleyball40.png\n",
            " billiards52.jpeg         soccer08.jpg           volleyball41.png\n",
            " billiards53.png          soccer09.png           volleyball42.jpg\n",
            " bowling00.jpg            soccer10.jpg           volleyball43.png\n",
            " bowling01.jpg            soccer11.jpg           volleyball44.jpg\n",
            " bowling02.jpg            soccer12.jpg           volleyball45.png\n",
            " bowling03.jpg            soccer13.jpg           volleyball46.jpg\n",
            " bowling07.jpeg           soccer14.jpg           volleyball47.jpg\n",
            " bowling08.jpeg           soccer16.jpg           volleyball48.jpg\n",
            " bowling09.jpeg           soccer17.jpg           volleyball49.jpg\n",
            " bowling10.jpg            soccer18.png           volleyball50.jpg\n",
            " bowling11.jpg            soccer19.png           volleyball51.png\n",
            " bowling12.jpg            soccer20.png           volleyball52.png\n",
            " bowling13.png            soccer21.png           volleyball53.png\n",
            " bowling14.png            soccer22.png           volleyball54.png\n",
            " bowling15.png            soccer23.png           volleyball55.jpeg\n",
            " bowling17.jpg            soccer27.jpg           volleyball56.jpeg\n",
            " bowling19.jpg            soccer28.jpg\n"
          ]
        }
      ]
    },
    {
      "cell_type": "code",
      "source": [
        "organize = pd.DataFrame.from_dict(os.listdir())\n",
        "random   = organize.sample(frac=1, random_state=1).reset_index()\n",
        "data     = pd.DataFrame(random)[0].values.tolist()"
      ],
      "metadata": {
        "id": "u4jOD3KtdSBj"
      },
      "execution_count": 5,
      "outputs": []
    },
    {
      "cell_type": "code",
      "source": [
        "print(data)"
      ],
      "metadata": {
        "id": "cEhF6Cna7Svb",
        "outputId": "c578b8b2-513e-4141-a9c0-7dd97e5a1974",
        "colab": {
          "base_uri": "https://localhost:8080/"
        }
      },
      "execution_count": 6,
      "outputs": [
        {
          "output_type": "stream",
          "name": "stdout",
          "text": [
            "['volleyball01.jpg', 'golf45.jpg', 'volleyball09.jpg', 'baseball14.jpg', 'soccer36.jpg', 'baseball37.png', 'golf19.jpg', 'tennis14.jpg', 'tennis01.jpg', 'basketball41 (1).jpg', 'basketball30 (2).png', 'basketball40.jpg', 'soccer10.jpg', 'tennis08.jpg', 'tabletennis35.jpg', 'tabletennis17.jpg', 'tennis17.jpg', 'tabletennis21.png', 'golf04.jpg', 'billiards20.jpg', 'volleyball43.png', 'basketball47.png', 'tabletennis51.jpg', 'soccer53.jpeg', 'basketball45.png', 'baseball00.jpg', 'golf35 (1).jpg', 'bowling46.jpg', 'soccer50.jpg', 'volleyball21.png', 'football47.jpg', 'football13.png', 'basketball29.jpg', 'bowling20.jpg', 'billiards01.png', 'baseball51.jpeg', 'volleyball35.png', 'football09 (1).png', 'billiards25.jpg', 'bowling07.jpeg', 'soccer48.jpg', 'golf34.jpg', 'football20.jpg', 'football10.jpg', 'golf07 (2).jpeg', 'tabletennis11.jpg', 'football26.jpg', 'baseball38.png', 'tabletennis42.jpg', 'bowling52.jpeg', 'volleyball56.jpeg', 'golf13.png', 'tennis46.jpg', 'basketball24.jpg', 'basketball35.jpg', 'football36.png', 'baseball39.png', 'volleyball20.png', 'volleyball00.jpg', 'basketball12.jpg', 'bowling39.jpg', 'billiards10.jpg', 'tabletennis45.jpg', 'basketball53.jpeg', 'football37 (1).png', 'volleyball31.jpg', 'tabletennis08.jpeg', 'soccer33.png', 'basketball40 (2).jpg', 'tennis02.jpg', 'volleyball22.png', 'tabletennis43.jpg', 'golf52.jpg', 'basketball16.png', 'bowling38.png', 'golf03.jpg', 'basketball30 (1).png', 'golf21.png', 'golf43 (1).jpg', 'billiards39.png', 'football27.jpg', 'baseball33.jpg', 'tennis38.png', 'basketball27 (2).jpg', 'bowling29.jpg', 'baseball03.jpg', 'volleyball08.png', 'baseball13.jpg', 'billiards33.jpeg', 'football23.png', 'basketball00.jpg', 'tennis52.jpeg', 'billiards43.jpg', 'tabletennis38.png', 'soccer37.png', 'golf01.jpg', 'baseball25.jpg', 'basketball41 (2).jpg', 'tabletennis34.png', 'football36 (1).png', 'bowling44.jpg', 'baseball11.jpg', 'football52.jpeg', 'baseball50.jpg', 'basketball15.jpg', 'volleyball55.jpeg', 'bowling08.jpeg', 'volleyball32.jpg', 'soccer43.jpg', 'basketball01.jpg', 'billiards48.jpg', 'football22 (1).jpg', 'billiards28.jpg', 'volleyball40.png', 'tennis34.jpg', 'football01.jpg', 'billiards24.jpg', 'golf50.jpg', 'football24.jpg', 'billiards12.jpg', 'tennis09.jpg', 'tabletennis19 (1).png', 'billiards46.png', 'tennis51.jpeg', 'basketball09.jpeg', 'tabletennis51 (1).jpg', 'basketball41.jpg', 'tabletennis28.jpg', 'basketball42.jpg', 'football00.jpg', 'soccer51.jpeg', 'golf20 (1).jpg', 'tabletennis33.png', 'basketball31.png', 'basketball17.jpg', 'billiards44.jpg', 'tabletennis29.jpg', 'basketball39.jpg', 'tennis10.jpg', 'football29.png', 'soccer27.jpg', 'baseball16.jpg', 'football39.jpg', 'tabletennis02.jpg', 'tabletennis52.png', 'golf33.png', 'bowling14.png', 'tabletennis54.jpeg', 'basketball02.png', 'billiards03.jpeg', 'basketball24 (2).jpg', 'bowling27.jpg', 'tennis22.png', 'soccer08.jpg', 'golf53.jpeg', 'volleyball51.png', 'tabletennis22.png', 'golf22.png', 'tabletennis47.jpg', 'billiards18.webp', 'tennis40.jpg', 'golf46.jpg', 'volleyball16.jpg', 'basketball38.png', 'golf00.jpg', 'bowling23.png', 'soccer11.jpg', 'soccer39.png', 'volleyball42.jpg', 'golf34 (2).jpg', 'baseball52.jpeg', 'volleyball23.png', 'baseball12.jpg', 'football08.jpg', 'golf51.jpg', 'tennis04.jpg', 'golf16.jpg', 'tabletennis50.jpg', 'soccer14.jpg', 'bowling26.png', 'basketball46.png', 'football21 (1).png', 'golf11.jpg', 'bowling36.png', 'baseball36.png', 'soccer28.jpg', 'bowling50.png', 'tabletennis32 (1).png', 'billiards14.png', 'bowling12.jpg', 'basketball36.png', 'volleyball41.png', 'tabletennis13.jpg', 'bowling22.png', 'golf34 (1).jpg', 'football48.png', 'billiards50.png', 'football18.jpg', 'soccer12.jpg', 'golf38.png', 'billiards23.png', 'soccer02.jpeg', 'tabletennis16.jpg', 'bowling01.jpg', 'bowling41.jpg', 'tabletennis08 (1).jpeg', 'billiards41.jpg', 'soccer42.jpg', 'basketball08.jpeg', 'tennis41.jpg', 'billiards07.jpg', 'golf40.png', 'football32.png', 'billiards16.jpg', 'billiards53.png', 'tennis47.jpg', 'golf42.jpg', 'basketball48.png', 'bowling45.jpg', 'football30.png', 'football31.png', 'tennis12.jpg', 'soccer13.jpg', 'baseball01.jpg', 'golf28.png', 'baseball04.jpg', 'golf17.jpg', 'baseball43.jpg', 'volleyball15.jpg', 'tennis18.png', 'golf37 (1).png', 'bowling24.jpg', 'tennis16.jpg', 'golf20 (2).jpg', 'billiards52.jpeg', 'volleyball07.jpg', 'basketball27 (1).jpg', 'golf18.jpg', 'basketball07.jpeg', 'baseball26.jpg', 'bowling25.png', 'football50 (1).png', 'tabletennis12.jpg', 'volleyball02.jpg', 'bowling53.jpeg', 'football37.png', 'soccer22.png', 'tabletennis53.jpeg', 'soccer09.png', 'football16.jpg', 'bowling00.jpg', 'basketball50.png', 'tennis48.png', 'billiards37.png', 'basketball32 (2).png', 'billiards51.jpeg', 'basketball32 (1).png', 'soccer29.jpg', 'basketball51 (1).jpeg', 'basketball44.jpg', 'tabletennis44.jpg', 'bowling28.jpg', 'bowling02.jpg', 'football51.jpeg', 'billiards40.jpg', 'golf23 (2).png', 'volleyball12.jpg', 'volleyball17.jpg', 'baseball47.jpg', 'football23 (1).png', 'tabletennis10.jpg', 'billiards13.png', 'golf07.jpeg', 'tennis43.jpg', 'football11.jpg', 'football46.jpg', 'golf32.png', 'tabletennis03.jpg', 'basketball24 (1).jpg', 'football41.jpg', 'basketball18.jpg', 'basketball51.jpeg', 'football40.jpg', 'billiards49.png', 'tennis28.jpg', 'golf47.jpg', 'bowling48.png', 'volleyball50.jpg', 'baseball19.jpg', 'golf43.jpg', 'golf20.jpg', 'football20 (1).jpg', 'golf05.png', 'soccer21.png', 'football22.jpg', 'football14.png', 'tennis31.png', 'tabletennis48.jpg', 'tabletennis49.jpg', 'bowling40.jpg', 'volleyball44.jpg', 'baseball27.jpg', 'soccer45.jpg', 'golf36 (1).jpg', 'tabletennis32.png', 'tabletennis40 (1).png', 'soccer20.png', 'volleyball46.jpg', 'tennis39.jpg', 'tennis29.jpg', 'bowling34.jpg', 'soccer05.jpg', 'tabletennis37.jpg', 'volleyball29.jpg', 'billiards17.jpg', 'volleyball03.jpg', 'golf44.jpg', 'golf08 (1).png', 'volleyball28.jpg', 'basketball52.jpeg', 'football53.jpeg', 'basketball19.jpg', 'basketball26 (2).jpg', 'basketball27.jpg', 'bowling19.jpg', 'tabletennis04.jpg', 'football07.jpg', 'golf54.jpeg', 'football12.jpg', 'golf37 (2).png', 'golf22 (2).png', 'baseball17.jpg', 'baseball31.png', 'soccer16.jpg', 'tennis13.jpg', 'golf07 (1).jpeg', 'basketball11.jpg', 'billiards00.jpg', 'baseball06.png', 'bowling11.jpg', 'baseball18.jpg', 'baseball49.jpg', 'basketball30.png', 'tennis23.png', 'tennis00.jpg', 'billiards27.jpg', 'soccer49.png', 'golf09 (1).png', 'billiards19.jpg', 'basketball43.jpg', 'tennis44.jpg', 'baseball30.png', 'football09.png', 'volleyball45.png', 'soccer41.jpg', 'tennis03.jpg', 'baseball07.jpg', 'bowling30.png', 'tabletennis09.jpg', 'football43.jpg', 'soccer31.jpg', 'basketball37.png', 'tabletennis27 (1).jpg', 'baseball53.jpeg', 'bowling35.jpg', 'football08 (1).jpg', 'volleyball33.png', 'soccer18.png', 'volleyball19.png', 'football49.png', 'baseball29.jpg', 'soccer00.jpg', 'billiards26.jpg', 'football52 (1).jpeg', 'soccer32.jpg', 'tennis32.png', 'tabletennis18 (1).png', 'basketball13.png', 'soccer03.jpg', 'bowling21.png', 'soccer23.png', 'baseball15.jpg', 'tennis05.jpg', 'golf12.jpg', 'golf22 (1).png', 'volleyball54.png', 'soccer52.jpeg', 'tennis53.jpeg', 'tennis27.jpg', 'volleyball18.png', 'golf09.png', 'baseball32.png', 'bowling43.jpg', 'tennis50.jpg', 'golf51 (1).jpg', 'basketball34.jpg', 'basketball21.jpg', 'bowling10.jpg', 'golf10.jpg', 'baseball40.jpg', 'soccer04.jpg', 'football17.jpg', 'basketball49.png', 'soccer17.jpg', 'basketball40 (1).jpg', 'tabletennis40.png', 'volleyball49.jpg', 'golf08.png', 'soccer19.png', 'basketball32.png', 'baseball23.png', 'tennis20.png', 'tabletennis41.jpg', 'tabletennis36.jpg', 'basketball23.png', 'tennis42.jpg', 'tennis33.jpg', 'basketball18 (2).jpg', 'tennis21.png', 'volleyball11.jpg', 'volleyball37.jpeg', 'bowling37.png', 'billiards32.png', 'basketball51 (2).jpeg', 'tabletennis07.png', 'billiards11.jpg', 'baseball22.png', 'billiards15.png', 'football44.jpg', 'golf14.png', 'tabletennis19.png', 'basketball19 (2).jpg', 'football38.png', 'soccer46.png', 'billiards31.png', 'golf37.png', 'tabletennis46.jpg', 'billiards02.jpeg', 'volleyball30.jpg', 'bowling17.jpg', 'golf23.png', 'golf29.jpg', 'soccer07.jpeg', 'tennis06.png', 'baseball42.jpg', 'golf36.jpg', 'baseball08.jpeg', 'baseball05.jpg', 'golf02.jpg', 'baseball48.png', 'golf31.png', 'volleyball14.png', 'tabletennis18.png', 'tennis15.jpg', 'golf30.jpg', 'tabletennis20.png', 'golf15.png', 'baseball10.jpg', 'baseball02.png', 'volleyball53.png', 'golf08 (2).png', 'football28.jpg', 'baseball44.jpg', 'basketball26.jpg', 'soccer38.png', 'baseball24.jpg', 'bowling32.png', 'billiards38.png', 'volleyball34.png', 'basketball22.png', 'baseball20.jpg', 'billiards22.png', 'golf41.jpg', 'soccer30.jpg', 'football21.png', 'volleyball13.jpg', 'golf35.jpg', 'football25.jpg', 'football50.png', 'bowling51.jpeg', 'tabletennis14.jpg', 'golf27.jpg', 'bowling15.png', 'billiards45.png', 'tabletennis30.jpeg', 'soccer40.jpg', 'billiards29.jpg', 'basketball14.png', 'football19.jpg', 'basketball10.jpg', 'volleyball52.png', 'tabletennis41 (1).jpg', 'basketball20.jpg', 'soccer34.jpg', 'golf39.png', 'soccer06.jpg', 'tennis11.jpg', 'volleyball47.jpg', 'baseball21.png', 'tabletennis31.jpg', 'soccer01.jpg', 'basketball18 (1).jpg', 'basketball19 (1).jpg', 'football06.jpg', 'tennis37.png', 'football42.jpg', 'volleyball27.jpg', 'billiards36.png', 'tabletennis00.jpg', 'tennis19.png', 'tennis07.jpeg', 'bowling03.jpg', 'billiards42.jpg', 'baseball28.jpg', 'billiards30.png', 'tabletennis01.jpg', 'bowling09.jpeg', 'billiards47.png', 'bowling47.jpg', 'tabletennis53 (1).jpeg', 'bowling49.png', 'tabletennis39.png', 'billiards08.jpg', 'golf49.png', 'tennis49.png', 'tabletennis31 (1).jpg', 'golf23 (1).png', 'tabletennis33 (1).png', 'volleyball48.jpg', 'tennis30.png', 'bowling31.png', 'basketball03.png', 'volleyball39.png', 'bowling13.png', 'tabletennis15.jpg', 'soccer44.jpg', 'soccer48.png', 'billiards21.png', 'baseball41.jpg', 'baseball46.jpg', 'basketball26 (1).jpg', 'bowling42.jpg', 'golf36 (2).jpg', 'basketball25.jpg', 'basketball28.jpg', 'tabletennis23.png', 'football05.jpg', 'tennis36.png', 'tennis45.jpg', 'volleyball10.jpg', 'football15.jpg', 'billiards09.jpg', 'tabletennis27.jpg', 'baseball09.jpeg']\n"
          ]
        }
      ]
    },
    {
      "cell_type": "code",
      "source": [
        "m = 0\n",
        "balls_folder = []\n",
        "for file in data:\n",
        "  image = cv.imread(file)\n",
        "  if image.shape == (28,28,3):\n",
        "    balls_folder.append(image)\n",
        "  else:\n",
        "    m += 1\n",
        "print(str(m) + ' images were not rescaled to 28x28 and are now excluded.')"
      ],
      "metadata": {
        "id": "Arum7jCW8Byp",
        "outputId": "1b625c64-b049-46f4-ec07-2b45484b3291",
        "colab": {
          "base_uri": "https://localhost:8080/"
        }
      },
      "execution_count": 7,
      "outputs": [
        {
          "output_type": "stream",
          "name": "stdout",
          "text": [
            "1 images were not rescaled to 28x28 and are now excluded.\n"
          ]
        }
      ]
    },
    {
      "cell_type": "code",
      "source": [
        "print(balls_folder[0].shape)\n",
        "print(len(balls_folder))"
      ],
      "metadata": {
        "id": "Y-4AZAPH8ukA",
        "outputId": "f338dc5a-50a2-4108-d51d-52e8396bd394",
        "colab": {
          "base_uri": "https://localhost:8080/"
        }
      },
      "execution_count": 8,
      "outputs": [
        {
          "output_type": "stream",
          "name": "stdout",
          "text": [
            "(28, 28, 3)\n",
            "553\n"
          ]
        }
      ]
    },
    {
      "cell_type": "code",
      "source": [
        "print(balls_folder[0])\n",
        "plt.matshow(balls_folder[552])"
      ],
      "metadata": {
        "id": "9fZ3hwXF9kBH",
        "outputId": "03c18d80-8139-4ec0-e005-6008ea32ac04",
        "colab": {
          "base_uri": "https://localhost:8080/",
          "height": 1000
        }
      },
      "execution_count": 9,
      "outputs": [
        {
          "output_type": "stream",
          "name": "stdout",
          "text": [
            "[[[255 251 255]\n",
            "  [255 250 255]\n",
            "  [255 254 255]\n",
            "  ...\n",
            "  [246 253 255]\n",
            "  [249 251 255]\n",
            "  [253 253 255]]\n",
            "\n",
            " [[255 253 255]\n",
            "  [255 253 255]\n",
            "  [251 250 252]\n",
            "  ...\n",
            "  [248 254 255]\n",
            "  [252 253 255]\n",
            "  [253 252 254]]\n",
            "\n",
            " [[255 255 251]\n",
            "  [255 255 252]\n",
            "  [255 255 255]\n",
            "  ...\n",
            "  [253 255 255]\n",
            "  [255 255 254]\n",
            "  [255 254 250]]\n",
            "\n",
            " ...\n",
            "\n",
            " [[255 251 255]\n",
            "  [255 251 255]\n",
            "  [253 255 255]\n",
            "  ...\n",
            "  [255 255 252]\n",
            "  [255 255 252]\n",
            "  [255 255 252]]\n",
            "\n",
            " [[255 252 255]\n",
            "  [255 251 255]\n",
            "  [249 251 251]\n",
            "  ...\n",
            "  [255 255 252]\n",
            "  [250 255 255]\n",
            "  [246 255 255]]\n",
            "\n",
            " [[255 252 255]\n",
            "  [255 254 255]\n",
            "  [253 255 255]\n",
            "  ...\n",
            "  [255 255 252]\n",
            "  [246 255 255]\n",
            "  [243 253 255]]]\n"
          ]
        },
        {
          "output_type": "execute_result",
          "data": {
            "text/plain": [
              "<matplotlib.image.AxesImage at 0x7efffd49a260>"
            ]
          },
          "metadata": {},
          "execution_count": 9
        },
        {
          "output_type": "display_data",
          "data": {
            "text/plain": [
              "<Figure size 480x480 with 1 Axes>"
            ],
            "image/png": "[encoded data removed]"
          },
          "metadata": {}
        }
      ]
    },
    {
      "cell_type": "code",
      "source": [
        "balls_flat = np.stack((balls_folder[i] for i in range(len(balls_folder))))\n",
        "print(balls_flat.shape)"
      ],
      "metadata": {
        "id": "Omkhs4PL99v1",
        "outputId": "5022dc06-2e55-41e3-ddfc-8feb20a52e1d",
        "colab": {
          "base_uri": "https://localhost:8080/"
        }
      },
      "execution_count": 10,
      "outputs": [
        {
          "output_type": "stream",
          "name": "stdout",
          "text": [
            "(553, 28, 28, 3)\n"
          ]
        },
        {
          "output_type": "stream",
          "name": "stderr",
          "text": [
            "/usr/local/lib/python3.10/dist-packages/IPython/core/interactiveshell.py:3473: FutureWarning: arrays to stack must be passed as a \"sequence\" type such as list or tuple. Support for non-sequence iterables such as generators is deprecated as of NumPy 1.16 and will raise an error in the future.\n",
            "  if (await self.run_code(code, result,  async_=asy)):\n"
          ]
        }
      ]
    },
    {
      "cell_type": "code",
      "source": [
        "baseballXX    = 'baseball*'\n",
        "basketballXX  = 'basketball*'\n",
        "billiardsXX   = 'billiards*'\n",
        "bowlingXX     = 'bowling*'\n",
        "footballXX    = 'football*'\n",
        "golfXX        = 'golf*'\n",
        "soccerXX      = 'soccer*'\n",
        "tabletennisXX = 'tabletennis*'\n",
        "tennisXX      = 'tennis*'\n",
        "volleyballXX  = 'volleyball*'\n",
        "s_name         = []\n",
        "for filename in data:\n",
        "  image = cv.imread(filename)\n",
        "  if image.shape == (28,28,3):\n",
        "    if fnmatch.fnmatch(filename, baseballXX) == True:\n",
        "      s_name.append(0)\n",
        "    elif fnmatch.fnmatch(filename, basketballXX) == True:\n",
        "      s_name.append(1)\n",
        "    elif fnmatch.fnmatch(filename, billiardsXX) == True:\n",
        "      s_name.append(2)\n",
        "    elif fnmatch.fnmatch(filename, bowlingXX) == True:\n",
        "      s_name.append(3)\n",
        "    elif fnmatch.fnmatch(filename, footballXX) == True:\n",
        "      s_name.append(4)\n",
        "    elif fnmatch.fnmatch(filename, golfXX) == True:\n",
        "      s_name.append(5)\n",
        "    elif fnmatch.fnmatch(filename, soccerXX) == True:\n",
        "      s_name.append(6)\n",
        "    elif fnmatch.fnmatch(filename, tabletennisXX) == True:\n",
        "      s_name.append(7)\n",
        "    elif fnmatch.fnmatch(filename, tennisXX) == True:\n",
        "      s_name.append(8)\n",
        "    elif fnmatch.fnmatch(filename, volleyballXX) == True:\n",
        "      s_name.append(9)\n",
        "    else:\n",
        "      print(filename + str(' is not accounted.'))\n",
        "\n",
        "s_name = np.reshape(s_name, (len(s_name),))\n",
        "print(s_name.shape)\n",
        "print(s_name)"
      ],
      "metadata": {
        "id": "v98LNmumCoWW",
        "outputId": "69f62b74-629e-47f7-ad87-a78114afbc3c",
        "colab": {
          "base_uri": "https://localhost:8080/"
        }
      },
      "execution_count": 57,
      "outputs": [
        {
          "output_type": "stream",
          "name": "stdout",
          "text": [
            "(553,)\n",
            "[9 5 9 0 6 0 5 8 8 1 1 1 6 8 7 7 8 7 5 2 9 1 7 6 1 0 5 3 6 9 4 4 1 3 2 0 9\n",
            " 4 2 3 6 5 4 4 5 7 4 0 7 3 9 5 8 1 1 4 0 9 9 1 3 2 7 1 4 9 7 6 1 8 9 7 5 1\n",
            " 3 5 1 5 5 2 4 0 8 1 3 0 9 0 2 4 1 8 2 7 6 5 0 1 7 4 3 0 4 0 1 9 3 9 6 1 2\n",
            " 4 2 9 8 4 2 5 4 2 8 7 2 8 1 7 1 7 1 4 6 5 7 1 1 2 7 1 8 4 6 0 4 7 7 5 3 7\n",
            " 1 2 1 3 8 6 5 9 7 5 7 2 8 5 9 1 5 3 6 6 9 5 0 9 0 4 5 8 5 7 6 3 1 4 5 3 0\n",
            " 6 3 7 2 3 1 9 7 3 5 4 2 4 6 5 2 6 7 3 3 7 2 6 1 8 2 5 4 2 2 8 5 1 3 4 4 8\n",
            " 6 0 5 0 5 0 9 8 5 3 8 5 2 9 1 5 1 0 3 4 7 9 3 4 6 7 6 4 3 1 8 2 1 2 1 6 1\n",
            " 1 7 3 3 4 2 5 9 9 0 4 7 2 5 8 4 5 7 1 4 1 1 4 2 8 5 3 9 0 5 5 4 5 6 4 4 8\n",
            " 7 7 3 9 0 6 5 7 7 6 9 8 8 3 6 7 9 2 9 5 5 9 1 4 1 1 1 3 7 4 5 4 5 5 0 0 6\n",
            " 8 5 1 2 0 3 0 0 1 8 8 2 6 5 2 1 8 0 4 9 6 8 0 3 7 4 6 1 7 0 3 4 9 6 9 4 0\n",
            " 6 2 4 6 8 7 1 6 3 6 0 8 5 5 9 6 8 8 9 5 0 3 8 5 1 1 3 5 0 6 4 1 6 1 7 9 5\n",
            " 6 1 0 8 7 7 1 8 8 1 8 9 9 3 2 1 7 2 0 2 4 5 7 1 4 6 2 5 7 2 9 3 5 5 6 8 0\n",
            " 5 0 0 5 0 5 9 7 8 5 7 5 0 0 9 5 4 0 1 6 0 3 2 9 1 0 2 5 6 4 9 5 4 4 3 7 5\n",
            " 3 2 7 6 2 1 4 1 9 7 1 6 5 6 8 9 0 7 6 1 1 4 8 4 9 2 7 8 8 3 2 0 2 7 3 2 3\n",
            " 7 3 7 2 5 8 7 5 7 9 8 3 1 9 3 7 6 6 2 0 0 1 3 5 1 1 7 4 8 8 9 4 2 7 0]\n"
          ]
        }
      ]
    },
    {
      "cell_type": "markdown",
      "source": [
        "#####**Preparing the Data**"
      ],
      "metadata": {
        "id": "gRtywxq-e_9v"
      }
    },
    {
      "cell_type": "code",
      "source": [
        "trainRatio = 75/100\n",
        "testRatio = 15/100\n",
        "valRatio = 10/100\n",
        "X_train,X_test,y_train, y_test = train_test_split(balls_flat, s_name, test_size = 1 - trainRatio)\n",
        "X_val,X_test,y_val, y_test = train_test_split(balls_flat, s_name, test_size = testRatio/(testRatio+valRatio))\n",
        "\n",
        "#trainRatio = 80/100\n",
        "#testRatio = 20/100\n",
        "#X_train,X_test, y_train, y_test = train_test_split(balls_flat, s_name, test_size = 1 - trainRatio)"
      ],
      "metadata": {
        "id": "T6yCmuVfrR8t"
      },
      "execution_count": 248,
      "outputs": []
    },
    {
      "cell_type": "code",
      "source": [
        "X_train = X_train/255\n",
        "X_test = X_test/255\n",
        "\n",
        "print(X_train.shape)\n",
        "print(X_test.shape)"
      ],
      "metadata": {
        "colab": {
          "base_uri": "https://localhost:8080/"
        },
        "id": "zSJpg4iLStf7",
        "outputId": "ad0f3db3-0d1f-47d5-b339-7d2abe27df90"
      },
      "execution_count": 249,
      "outputs": [
        {
          "output_type": "stream",
          "name": "stdout",
          "text": [
            "(414, 28, 28, 3)\n",
            "(332, 28, 28, 3)\n"
          ]
        }
      ]
    },
    {
      "cell_type": "code",
      "source": [
        "X_train_flat = X_train.reshape(len(X_train),28,28,3)\n",
        "X_test_flat = X_test.reshape(len(X_test),28,28,3)\n",
        "print(X_train_flat.shape)\n",
        "print(X_test_flat.shape)"
      ],
      "metadata": {
        "id": "705bnkYTILbA",
        "colab": {
          "base_uri": "https://localhost:8080/"
        },
        "outputId": "1aa38bad-a3d3-4767-b9cc-ac01b88fe3e9"
      },
      "execution_count": 250,
      "outputs": [
        {
          "output_type": "stream",
          "name": "stdout",
          "text": [
            "(414, 28, 28, 3)\n",
            "(332, 28, 28, 3)\n"
          ]
        }
      ]
    },
    {
      "cell_type": "code",
      "source": [
        "print(X_train.shape)\n",
        "print(y_train.shape)"
      ],
      "metadata": {
        "colab": {
          "base_uri": "https://localhost:8080/"
        },
        "id": "NhSWbd92hy1Q",
        "outputId": "2973b928-6f75-4425-ff61-4adf13d72f49"
      },
      "execution_count": 251,
      "outputs": [
        {
          "output_type": "stream",
          "name": "stdout",
          "text": [
            "(414, 28, 28, 3)\n",
            "(414,)\n"
          ]
        }
      ]
    },
    {
      "cell_type": "markdown",
      "source": [
        "####**Defining the model**"
      ],
      "metadata": {
        "id": "te95nwDRkTlX"
      }
    },
    {
      "cell_type": "code",
      "source": [
        "model = tf.keras.models.Sequential([\n",
        "    tf.keras.layers.Conv2D(64, (3,3), activation='relu', input_shape=(28,28,3)),\n",
        "    tf.keras.layers.MaxPooling2D(2,2),\n",
        "    tf.keras.layers.Dropout(0.5),\n",
        "\n",
        "    tf.keras.layers.Conv2D(128, (3,3), activation='relu'),\n",
        "    tf.keras.layers.MaxPooling2D(2,2),\n",
        "    tf.keras.layers.Dropout(0.5),\n",
        "\n",
        "    tf.keras.layers.Conv2D(128, (3,3), activation='relu'),\n",
        "    tf.keras.layers.MaxPooling2D(2,2),\n",
        "  \n",
        "    tf.keras.layers.Dropout(0.5),\n",
        "    tf.keras.layers.Flatten(),   \n",
        "\n",
        "    tf.keras.layers.Dense(64, activation='relu'),\n",
        "    tf.keras.layers.Dropout(0.5),\n",
        "    tf.keras.layers.Dense(10, activation='softmax')\n",
        "])\n",
        "model.summary()"
      ],
      "metadata": {
        "id": "--pzDKGzSsq7",
        "outputId": "7d0cceff-23ae-409f-f4fd-5f0534e6eb65",
        "colab": {
          "base_uri": "https://localhost:8080/"
        }
      },
      "execution_count": 270,
      "outputs": [
        {
          "output_type": "stream",
          "name": "stdout",
          "text": [
            "Model: \"sequential_48\"\n",
            "_________________________________________________________________\n",
            " Layer (type)                Output Shape              Param #   \n",
            "=================================================================\n",
            " conv2d_145 (Conv2D)         (None, 26, 26, 64)        1792      \n",
            "                                                                 \n",
            " max_pooling2d_142 (MaxPooli  (None, 13, 13, 64)       0         \n",
            " ng2D)                                                           \n",
            "                                                                 \n",
            " dropout_145 (Dropout)       (None, 13, 13, 64)        0         \n",
            "                                                                 \n",
            " conv2d_146 (Conv2D)         (None, 11, 11, 128)       73856     \n",
            "                                                                 \n",
            " max_pooling2d_143 (MaxPooli  (None, 5, 5, 128)        0         \n",
            " ng2D)                                                           \n",
            "                                                                 \n",
            " dropout_146 (Dropout)       (None, 5, 5, 128)         0         \n",
            "                                                                 \n",
            " conv2d_147 (Conv2D)         (None, 3, 3, 128)         147584    \n",
            "                                                                 \n",
            " max_pooling2d_144 (MaxPooli  (None, 1, 1, 128)        0         \n",
            " ng2D)                                                           \n",
            "                                                                 \n",
            " dropout_147 (Dropout)       (None, 1, 1, 128)         0         \n",
            "                                                                 \n",
            " flatten_42 (Flatten)        (None, 128)               0         \n",
            "                                                                 \n",
            " dense_98 (Dense)            (None, 64)                8256      \n",
            "                                                                 \n",
            " dropout_148 (Dropout)       (None, 64)                0         \n",
            "                                                                 \n",
            " dense_99 (Dense)            (None, 10)                650       \n",
            "                                                                 \n",
            "=================================================================\n",
            "Total params: 232,138\n",
            "Trainable params: 232,138\n",
            "Non-trainable params: 0\n",
            "_________________________________________________________________\n"
          ]
        }
      ]
    },
    {
      "cell_type": "code",
      "source": [
        "model.compile(keras.optimizers.Adam(learning_rate=0.001),\n",
        "              loss = tf.keras.losses.SparseCategoricalCrossentropy(),\n",
        "              # loss = 'sparse_categorical_crossentropy',\n",
        "              metrics=['accuracy'])\n"
      ],
      "metadata": {
        "id": "6d43j7VSKi3w"
      },
      "execution_count": 271,
      "outputs": []
    },
    {
      "cell_type": "code",
      "source": [
        "history = model.fit(X_train, y_train, epochs=300, validation_data=(X_val, y_val), verbose=1)"
      ],
      "metadata": {
        "id": "ozgUZqSq_WBp",
        "colab": {
          "base_uri": "https://localhost:8080/"
        },
        "outputId": "48bce979-647f-40c8-b655-1e5cf5bbc65b"
      },
      "execution_count": 272,
      "outputs": [
        {
          "output_type": "stream",
          "name": "stdout",
          "text": [
            "Epoch 1/300\n",
            "13/13 [==============================] - 3s 126ms/step - loss: 2.4009 - accuracy: 0.0797 - val_loss: 8.6241 - val_accuracy: 0.1267\n",
            "Epoch 2/300\n",
            "13/13 [==============================] - 1s 106ms/step - loss: 2.2959 - accuracy: 0.1232 - val_loss: 15.3068 - val_accuracy: 0.1448\n",
            "Epoch 3/300\n",
            "13/13 [==============================] - 1s 111ms/step - loss: 2.2775 - accuracy: 0.1280 - val_loss: 22.3038 - val_accuracy: 0.1493\n",
            "Epoch 4/300\n",
            "13/13 [==============================] - 1s 108ms/step - loss: 2.2617 - accuracy: 0.1377 - val_loss: 22.0705 - val_accuracy: 0.1946\n",
            "Epoch 5/300\n",
            "13/13 [==============================] - 1s 107ms/step - loss: 2.2219 - accuracy: 0.1836 - val_loss: 42.3906 - val_accuracy: 0.2353\n",
            "Epoch 6/300\n",
            "13/13 [==============================] - 2s 185ms/step - loss: 2.1966 - accuracy: 0.2343 - val_loss: 68.7141 - val_accuracy: 0.2579\n",
            "Epoch 7/300\n",
            "13/13 [==============================] - 2s 154ms/step - loss: 2.1307 - accuracy: 0.2705 - val_loss: 71.0756 - val_accuracy: 0.2670\n",
            "Epoch 8/300\n",
            "13/13 [==============================] - 1s 109ms/step - loss: 2.0709 - accuracy: 0.2947 - val_loss: 113.7742 - val_accuracy: 0.2715\n",
            "Epoch 9/300\n",
            "13/13 [==============================] - 1s 109ms/step - loss: 2.0228 - accuracy: 0.3019 - val_loss: 97.9621 - val_accuracy: 0.2941\n",
            "Epoch 10/300\n",
            "13/13 [==============================] - 1s 108ms/step - loss: 1.9730 - accuracy: 0.2995 - val_loss: 83.6171 - val_accuracy: 0.3439\n",
            "Epoch 11/300\n",
            "13/13 [==============================] - 1s 106ms/step - loss: 1.9118 - accuracy: 0.3430 - val_loss: 89.1692 - val_accuracy: 0.3122\n",
            "Epoch 12/300\n",
            "13/13 [==============================] - 1s 109ms/step - loss: 1.8939 - accuracy: 0.3213 - val_loss: 110.0821 - val_accuracy: 0.3303\n",
            "Epoch 13/300\n",
            "13/13 [==============================] - 1s 108ms/step - loss: 1.8831 - accuracy: 0.3116 - val_loss: 104.6039 - val_accuracy: 0.3394\n",
            "Epoch 14/300\n",
            "13/13 [==============================] - 2s 127ms/step - loss: 1.8266 - accuracy: 0.3792 - val_loss: 109.3392 - val_accuracy: 0.3665\n",
            "Epoch 15/300\n",
            "13/13 [==============================] - 2s 194ms/step - loss: 1.8206 - accuracy: 0.3623 - val_loss: 88.9901 - val_accuracy: 0.3982\n",
            "Epoch 16/300\n",
            "13/13 [==============================] - 2s 119ms/step - loss: 1.7430 - accuracy: 0.3792 - val_loss: 74.0302 - val_accuracy: 0.3937\n",
            "Epoch 17/300\n",
            "13/13 [==============================] - 1s 108ms/step - loss: 1.7724 - accuracy: 0.4034 - val_loss: 104.5581 - val_accuracy: 0.4208\n",
            "Epoch 18/300\n",
            "13/13 [==============================] - 1s 105ms/step - loss: 1.6923 - accuracy: 0.4300 - val_loss: 95.3571 - val_accuracy: 0.4344\n",
            "Epoch 19/300\n",
            "13/13 [==============================] - 1s 107ms/step - loss: 1.6801 - accuracy: 0.4396 - val_loss: 98.5470 - val_accuracy: 0.4706\n",
            "Epoch 20/300\n",
            "13/13 [==============================] - 2s 121ms/step - loss: 1.6522 - accuracy: 0.4179 - val_loss: 130.8401 - val_accuracy: 0.3982\n",
            "Epoch 21/300\n",
            "13/13 [==============================] - 1s 107ms/step - loss: 1.6825 - accuracy: 0.4010 - val_loss: 107.9153 - val_accuracy: 0.3575\n",
            "Epoch 22/300\n",
            "13/13 [==============================] - 1s 107ms/step - loss: 1.5922 - accuracy: 0.4227 - val_loss: 140.6316 - val_accuracy: 0.4118\n",
            "Epoch 23/300\n",
            "13/13 [==============================] - 2s 162ms/step - loss: 1.5823 - accuracy: 0.4662 - val_loss: 106.6828 - val_accuracy: 0.4163\n",
            "Epoch 24/300\n",
            "13/13 [==============================] - 2s 189ms/step - loss: 1.5526 - accuracy: 0.4734 - val_loss: 108.7228 - val_accuracy: 0.4525\n",
            "Epoch 25/300\n",
            "13/13 [==============================] - 1s 107ms/step - loss: 1.5216 - accuracy: 0.4589 - val_loss: 115.4249 - val_accuracy: 0.4842\n",
            "Epoch 26/300\n",
            "13/13 [==============================] - 1s 108ms/step - loss: 1.4754 - accuracy: 0.5072 - val_loss: 163.5443 - val_accuracy: 0.3982\n",
            "Epoch 27/300\n",
            "13/13 [==============================] - 1s 106ms/step - loss: 1.4740 - accuracy: 0.5242 - val_loss: 100.3729 - val_accuracy: 0.4751\n",
            "Epoch 28/300\n",
            "13/13 [==============================] - 1s 108ms/step - loss: 1.3921 - accuracy: 0.5242 - val_loss: 125.1596 - val_accuracy: 0.4977\n",
            "Epoch 29/300\n",
            "13/13 [==============================] - 1s 105ms/step - loss: 1.4155 - accuracy: 0.5169 - val_loss: 134.3375 - val_accuracy: 0.4118\n",
            "Epoch 30/300\n",
            "13/13 [==============================] - 1s 106ms/step - loss: 1.4070 - accuracy: 0.5242 - val_loss: 112.3839 - val_accuracy: 0.4887\n",
            "Epoch 31/300\n",
            "13/13 [==============================] - 2s 122ms/step - loss: 1.3445 - accuracy: 0.5266 - val_loss: 100.7417 - val_accuracy: 0.4932\n",
            "Epoch 32/300\n",
            "13/13 [==============================] - 3s 195ms/step - loss: 1.3313 - accuracy: 0.5193 - val_loss: 102.3670 - val_accuracy: 0.5204\n",
            "Epoch 33/300\n",
            "13/13 [==============================] - 2s 127ms/step - loss: 1.3051 - accuracy: 0.5604 - val_loss: 101.3133 - val_accuracy: 0.5611\n",
            "Epoch 34/300\n",
            "13/13 [==============================] - 1s 108ms/step - loss: 1.2130 - accuracy: 0.5700 - val_loss: 92.1862 - val_accuracy: 0.5566\n",
            "Epoch 35/300\n",
            "13/13 [==============================] - 1s 106ms/step - loss: 1.2409 - accuracy: 0.5700 - val_loss: 100.9674 - val_accuracy: 0.5701\n",
            "Epoch 36/300\n",
            "13/13 [==============================] - 1s 107ms/step - loss: 1.1998 - accuracy: 0.5918 - val_loss: 156.0788 - val_accuracy: 0.4615\n",
            "Epoch 37/300\n",
            "13/13 [==============================] - 1s 111ms/step - loss: 1.2711 - accuracy: 0.5990 - val_loss: 109.7521 - val_accuracy: 0.4796\n",
            "Epoch 38/300\n",
            "13/13 [==============================] - 1s 107ms/step - loss: 1.1965 - accuracy: 0.6014 - val_loss: 93.6843 - val_accuracy: 0.5068\n",
            "Epoch 39/300\n",
            "13/13 [==============================] - 1s 106ms/step - loss: 1.2151 - accuracy: 0.6111 - val_loss: 99.2139 - val_accuracy: 0.5249\n",
            "Epoch 40/300\n",
            "13/13 [==============================] - 2s 146ms/step - loss: 1.1252 - accuracy: 0.6401 - val_loss: 76.2986 - val_accuracy: 0.6380\n",
            "Epoch 41/300\n",
            "13/13 [==============================] - 2s 188ms/step - loss: 1.1661 - accuracy: 0.6570 - val_loss: 77.3141 - val_accuracy: 0.6335\n",
            "Epoch 42/300\n",
            "13/13 [==============================] - 1s 106ms/step - loss: 1.1741 - accuracy: 0.6184 - val_loss: 97.2423 - val_accuracy: 0.5023\n",
            "Epoch 43/300\n",
            "13/13 [==============================] - 1s 107ms/step - loss: 1.0829 - accuracy: 0.6425 - val_loss: 92.2021 - val_accuracy: 0.5973\n",
            "Epoch 44/300\n",
            "13/13 [==============================] - 1s 107ms/step - loss: 1.1084 - accuracy: 0.6232 - val_loss: 108.3658 - val_accuracy: 0.5385\n",
            "Epoch 45/300\n",
            "13/13 [==============================] - 1s 105ms/step - loss: 1.0583 - accuracy: 0.6498 - val_loss: 129.8551 - val_accuracy: 0.4796\n",
            "Epoch 46/300\n",
            "13/13 [==============================] - 1s 107ms/step - loss: 1.0579 - accuracy: 0.6329 - val_loss: 119.6151 - val_accuracy: 0.5475\n",
            "Epoch 47/300\n",
            "13/13 [==============================] - 2s 119ms/step - loss: 1.1022 - accuracy: 0.6449 - val_loss: 77.2027 - val_accuracy: 0.6606\n",
            "Epoch 48/300\n",
            "13/13 [==============================] - 1s 106ms/step - loss: 1.1234 - accuracy: 0.6232 - val_loss: 87.3484 - val_accuracy: 0.6018\n",
            "Epoch 49/300\n",
            "13/13 [==============================] - 2s 179ms/step - loss: 1.0390 - accuracy: 0.6594 - val_loss: 105.4535 - val_accuracy: 0.5520\n",
            "Epoch 50/300\n",
            "13/13 [==============================] - 2s 161ms/step - loss: 1.0567 - accuracy: 0.6570 - val_loss: 108.0652 - val_accuracy: 0.6063\n",
            "Epoch 51/300\n",
            "13/13 [==============================] - 1s 106ms/step - loss: 1.0025 - accuracy: 0.6715 - val_loss: 84.2157 - val_accuracy: 0.5928\n",
            "Epoch 52/300\n",
            "13/13 [==============================] - 1s 108ms/step - loss: 1.0179 - accuracy: 0.6860 - val_loss: 87.2783 - val_accuracy: 0.6109\n",
            "Epoch 53/300\n",
            "13/13 [==============================] - 1s 107ms/step - loss: 0.8952 - accuracy: 0.7101 - val_loss: 97.6742 - val_accuracy: 0.6063\n",
            "Epoch 54/300\n",
            "13/13 [==============================] - 2s 121ms/step - loss: 0.9658 - accuracy: 0.6787 - val_loss: 133.4890 - val_accuracy: 0.5701\n",
            "Epoch 55/300\n",
            "13/13 [==============================] - 2s 121ms/step - loss: 0.9536 - accuracy: 0.6908 - val_loss: 93.1380 - val_accuracy: 0.6471\n",
            "Epoch 56/300\n",
            "13/13 [==============================] - 1s 106ms/step - loss: 0.9418 - accuracy: 0.6908 - val_loss: 119.6600 - val_accuracy: 0.5566\n",
            "Epoch 57/300\n",
            "13/13 [==============================] - 2s 137ms/step - loss: 0.8986 - accuracy: 0.7150 - val_loss: 96.7528 - val_accuracy: 0.6606\n",
            "Epoch 58/300\n",
            "13/13 [==============================] - 2s 192ms/step - loss: 0.8765 - accuracy: 0.7029 - val_loss: 109.9523 - val_accuracy: 0.6244\n",
            "Epoch 59/300\n",
            "13/13 [==============================] - 2s 129ms/step - loss: 0.8788 - accuracy: 0.7150 - val_loss: 100.9066 - val_accuracy: 0.6063\n",
            "Epoch 60/300\n",
            "13/13 [==============================] - 2s 119ms/step - loss: 0.8260 - accuracy: 0.7415 - val_loss: 123.0139 - val_accuracy: 0.5747\n",
            "Epoch 61/300\n",
            "13/13 [==============================] - 1s 107ms/step - loss: 0.9194 - accuracy: 0.7005 - val_loss: 145.8456 - val_accuracy: 0.5792\n",
            "Epoch 62/300\n",
            "13/13 [==============================] - 1s 106ms/step - loss: 0.9345 - accuracy: 0.7101 - val_loss: 87.6307 - val_accuracy: 0.6697\n",
            "Epoch 63/300\n",
            "13/13 [==============================] - 1s 105ms/step - loss: 0.8403 - accuracy: 0.7126 - val_loss: 107.1785 - val_accuracy: 0.6199\n",
            "Epoch 64/300\n",
            "13/13 [==============================] - 1s 107ms/step - loss: 0.8727 - accuracy: 0.7005 - val_loss: 113.6447 - val_accuracy: 0.5701\n",
            "Epoch 65/300\n",
            "13/13 [==============================] - 1s 107ms/step - loss: 0.7915 - accuracy: 0.7367 - val_loss: 96.1912 - val_accuracy: 0.6561\n",
            "Epoch 66/300\n",
            "13/13 [==============================] - 2s 175ms/step - loss: 0.8685 - accuracy: 0.7343 - val_loss: 92.0365 - val_accuracy: 0.6606\n",
            "Epoch 67/300\n",
            "13/13 [==============================] - 2s 163ms/step - loss: 0.8335 - accuracy: 0.7295 - val_loss: 116.5761 - val_accuracy: 0.5973\n",
            "Epoch 68/300\n",
            "13/13 [==============================] - 1s 108ms/step - loss: 0.7589 - accuracy: 0.7536 - val_loss: 119.4454 - val_accuracy: 0.6471\n",
            "Epoch 69/300\n",
            "13/13 [==============================] - 1s 106ms/step - loss: 0.7737 - accuracy: 0.7585 - val_loss: 87.8121 - val_accuracy: 0.7149\n",
            "Epoch 70/300\n",
            "13/13 [==============================] - 1s 109ms/step - loss: 0.6676 - accuracy: 0.7729 - val_loss: 119.8627 - val_accuracy: 0.6425\n",
            "Epoch 71/300\n",
            "13/13 [==============================] - 1s 108ms/step - loss: 0.7103 - accuracy: 0.7754 - val_loss: 140.3795 - val_accuracy: 0.6561\n",
            "Epoch 72/300\n",
            "13/13 [==============================] - 1s 109ms/step - loss: 0.6659 - accuracy: 0.7657 - val_loss: 137.0759 - val_accuracy: 0.6199\n",
            "Epoch 73/300\n",
            "13/13 [==============================] - 1s 107ms/step - loss: 0.7173 - accuracy: 0.7705 - val_loss: 120.4305 - val_accuracy: 0.6697\n",
            "Epoch 74/300\n",
            "13/13 [==============================] - 2s 119ms/step - loss: 0.6935 - accuracy: 0.7729 - val_loss: 123.8885 - val_accuracy: 0.6561\n",
            "Epoch 75/300\n",
            "13/13 [==============================] - 2s 184ms/step - loss: 0.7285 - accuracy: 0.7512 - val_loss: 106.6192 - val_accuracy: 0.7059\n",
            "Epoch 76/300\n",
            "13/13 [==============================] - 2s 137ms/step - loss: 0.7222 - accuracy: 0.7633 - val_loss: 139.1331 - val_accuracy: 0.6380\n",
            "Epoch 77/300\n",
            "13/13 [==============================] - 1s 107ms/step - loss: 0.7247 - accuracy: 0.7536 - val_loss: 120.6492 - val_accuracy: 0.6471\n",
            "Epoch 78/300\n",
            "13/13 [==============================] - 1s 107ms/step - loss: 0.6732 - accuracy: 0.7802 - val_loss: 148.0884 - val_accuracy: 0.6154\n",
            "Epoch 79/300\n",
            "13/13 [==============================] - 1s 107ms/step - loss: 0.7268 - accuracy: 0.7681 - val_loss: 119.9963 - val_accuracy: 0.6063\n",
            "Epoch 80/300\n",
            "13/13 [==============================] - 2s 120ms/step - loss: 0.7017 - accuracy: 0.7657 - val_loss: 142.0295 - val_accuracy: 0.6018\n",
            "Epoch 81/300\n",
            "13/13 [==============================] - 1s 107ms/step - loss: 0.7534 - accuracy: 0.7343 - val_loss: 102.4807 - val_accuracy: 0.6787\n",
            "Epoch 82/300\n",
            "13/13 [==============================] - 1s 107ms/step - loss: 0.6916 - accuracy: 0.7923 - val_loss: 100.4429 - val_accuracy: 0.6878\n",
            "Epoch 83/300\n",
            "13/13 [==============================] - 2s 145ms/step - loss: 0.6444 - accuracy: 0.7971 - val_loss: 96.7132 - val_accuracy: 0.6878\n",
            "Epoch 84/300\n",
            "13/13 [==============================] - 2s 189ms/step - loss: 0.6434 - accuracy: 0.8213 - val_loss: 127.7804 - val_accuracy: 0.6833\n",
            "Epoch 85/300\n",
            "13/13 [==============================] - 1s 106ms/step - loss: 0.6756 - accuracy: 0.8043 - val_loss: 118.2010 - val_accuracy: 0.6787\n",
            "Epoch 86/300\n",
            "13/13 [==============================] - 1s 109ms/step - loss: 0.5852 - accuracy: 0.8140 - val_loss: 99.6533 - val_accuracy: 0.7195\n",
            "Epoch 87/300\n",
            "13/13 [==============================] - 2s 122ms/step - loss: 0.6272 - accuracy: 0.7705 - val_loss: 126.9830 - val_accuracy: 0.6697\n",
            "Epoch 88/300\n",
            "13/13 [==============================] - 1s 107ms/step - loss: 0.6268 - accuracy: 0.8116 - val_loss: 133.7967 - val_accuracy: 0.6697\n",
            "Epoch 89/300\n",
            "13/13 [==============================] - 1s 107ms/step - loss: 0.6146 - accuracy: 0.7995 - val_loss: 121.9739 - val_accuracy: 0.6878\n",
            "Epoch 90/300\n",
            "13/13 [==============================] - 1s 108ms/step - loss: 0.5346 - accuracy: 0.8382 - val_loss: 122.8030 - val_accuracy: 0.7059\n",
            "Epoch 91/300\n",
            "13/13 [==============================] - 1s 107ms/step - loss: 0.5525 - accuracy: 0.8068 - val_loss: 118.3389 - val_accuracy: 0.7240\n",
            "Epoch 92/300\n",
            "13/13 [==============================] - 2s 190ms/step - loss: 0.5286 - accuracy: 0.8068 - val_loss: 134.9652 - val_accuracy: 0.6968\n",
            "Epoch 93/300\n",
            "13/13 [==============================] - 2s 152ms/step - loss: 0.5184 - accuracy: 0.8357 - val_loss: 121.3898 - val_accuracy: 0.7240\n",
            "Epoch 94/300\n",
            "13/13 [==============================] - 1s 110ms/step - loss: 0.5430 - accuracy: 0.8140 - val_loss: 122.1939 - val_accuracy: 0.7149\n",
            "Epoch 95/300\n",
            "13/13 [==============================] - 1s 106ms/step - loss: 0.5666 - accuracy: 0.8357 - val_loss: 123.6047 - val_accuracy: 0.7059\n",
            "Epoch 96/300\n",
            "13/13 [==============================] - 2s 122ms/step - loss: 0.5304 - accuracy: 0.8357 - val_loss: 128.1452 - val_accuracy: 0.7014\n",
            "Epoch 97/300\n",
            "13/13 [==============================] - 1s 109ms/step - loss: 0.5154 - accuracy: 0.8309 - val_loss: 120.1638 - val_accuracy: 0.7014\n",
            "Epoch 98/300\n",
            "13/13 [==============================] - 1s 109ms/step - loss: 0.4813 - accuracy: 0.8551 - val_loss: 198.4259 - val_accuracy: 0.6290\n",
            "Epoch 99/300\n",
            "13/13 [==============================] - 1s 106ms/step - loss: 0.5337 - accuracy: 0.8285 - val_loss: 78.4276 - val_accuracy: 0.7873\n",
            "Epoch 100/300\n",
            "13/13 [==============================] - 2s 139ms/step - loss: 0.5016 - accuracy: 0.8382 - val_loss: 144.2135 - val_accuracy: 0.6968\n",
            "Epoch 101/300\n",
            "13/13 [==============================] - 2s 192ms/step - loss: 0.5534 - accuracy: 0.8164 - val_loss: 177.6496 - val_accuracy: 0.6335\n",
            "Epoch 102/300\n",
            "13/13 [==============================] - 1s 109ms/step - loss: 0.5736 - accuracy: 0.8116 - val_loss: 103.4442 - val_accuracy: 0.7376\n",
            "Epoch 103/300\n",
            "13/13 [==============================] - 1s 106ms/step - loss: 0.5114 - accuracy: 0.8430 - val_loss: 134.9133 - val_accuracy: 0.6878\n",
            "Epoch 104/300\n",
            "13/13 [==============================] - 1s 110ms/step - loss: 0.4957 - accuracy: 0.8502 - val_loss: 127.8856 - val_accuracy: 0.7195\n",
            "Epoch 105/300\n",
            "13/13 [==============================] - 1s 108ms/step - loss: 0.5305 - accuracy: 0.8502 - val_loss: 118.4777 - val_accuracy: 0.7149\n",
            "Epoch 106/300\n",
            "13/13 [==============================] - 1s 108ms/step - loss: 0.5946 - accuracy: 0.8188 - val_loss: 93.6877 - val_accuracy: 0.7466\n",
            "Epoch 107/300\n",
            "13/13 [==============================] - 1s 108ms/step - loss: 0.4190 - accuracy: 0.8647 - val_loss: 159.3937 - val_accuracy: 0.7014\n",
            "Epoch 108/300\n",
            "13/13 [==============================] - 1s 107ms/step - loss: 0.4787 - accuracy: 0.8551 - val_loss: 156.8458 - val_accuracy: 0.6878\n",
            "Epoch 109/300\n",
            "13/13 [==============================] - 2s 166ms/step - loss: 0.4806 - accuracy: 0.8599 - val_loss: 173.0910 - val_accuracy: 0.6335\n",
            "Epoch 110/300\n",
            "13/13 [==============================] - 2s 176ms/step - loss: 0.4476 - accuracy: 0.8671 - val_loss: 132.8159 - val_accuracy: 0.7104\n",
            "Epoch 111/300\n",
            "13/13 [==============================] - 1s 108ms/step - loss: 0.4294 - accuracy: 0.8768 - val_loss: 128.1194 - val_accuracy: 0.7104\n",
            "Epoch 112/300\n",
            "13/13 [==============================] - 1s 108ms/step - loss: 0.4443 - accuracy: 0.8502 - val_loss: 126.9136 - val_accuracy: 0.6968\n",
            "Epoch 113/300\n",
            "13/13 [==============================] - 1s 107ms/step - loss: 0.4199 - accuracy: 0.8623 - val_loss: 148.2955 - val_accuracy: 0.7149\n",
            "Epoch 114/300\n",
            "13/13 [==============================] - 1s 111ms/step - loss: 0.4371 - accuracy: 0.8792 - val_loss: 101.1045 - val_accuracy: 0.7738\n",
            "Epoch 115/300\n",
            "13/13 [==============================] - 1s 108ms/step - loss: 0.4688 - accuracy: 0.8478 - val_loss: 119.7395 - val_accuracy: 0.7285\n",
            "Epoch 116/300\n",
            "13/13 [==============================] - 1s 107ms/step - loss: 0.3802 - accuracy: 0.8816 - val_loss: 136.1300 - val_accuracy: 0.7376\n",
            "Epoch 117/300\n",
            "13/13 [==============================] - 1s 108ms/step - loss: 0.4342 - accuracy: 0.8502 - val_loss: 112.5804 - val_accuracy: 0.7557\n",
            "Epoch 118/300\n",
            "13/13 [==============================] - 2s 188ms/step - loss: 0.4070 - accuracy: 0.8647 - val_loss: 114.6057 - val_accuracy: 0.7376\n",
            "Epoch 119/300\n",
            "13/13 [==============================] - 2s 150ms/step - loss: 0.4477 - accuracy: 0.8527 - val_loss: 93.9016 - val_accuracy: 0.7692\n",
            "Epoch 120/300\n",
            "13/13 [==============================] - 1s 106ms/step - loss: 0.4150 - accuracy: 0.8551 - val_loss: 154.0283 - val_accuracy: 0.6923\n",
            "Epoch 121/300\n",
            "13/13 [==============================] - 2s 123ms/step - loss: 0.4394 - accuracy: 0.8647 - val_loss: 154.5373 - val_accuracy: 0.6516\n",
            "Epoch 122/300\n",
            "13/13 [==============================] - 1s 107ms/step - loss: 0.4170 - accuracy: 0.8720 - val_loss: 96.7870 - val_accuracy: 0.7647\n",
            "Epoch 123/300\n",
            "13/13 [==============================] - 1s 109ms/step - loss: 0.3748 - accuracy: 0.8889 - val_loss: 104.3130 - val_accuracy: 0.7647\n",
            "Epoch 124/300\n",
            "13/13 [==============================] - 1s 107ms/step - loss: 0.3935 - accuracy: 0.9010 - val_loss: 100.1999 - val_accuracy: 0.7783\n",
            "Epoch 125/300\n",
            "13/13 [==============================] - 1s 109ms/step - loss: 0.4012 - accuracy: 0.8696 - val_loss: 108.7462 - val_accuracy: 0.7511\n",
            "Epoch 126/300\n",
            "13/13 [==============================] - 2s 136ms/step - loss: 0.3663 - accuracy: 0.8768 - val_loss: 95.4042 - val_accuracy: 0.7873\n",
            "Epoch 127/300\n",
            "13/13 [==============================] - 2s 192ms/step - loss: 0.3681 - accuracy: 0.9034 - val_loss: 123.1978 - val_accuracy: 0.7376\n",
            "Epoch 128/300\n",
            "13/13 [==============================] - 2s 114ms/step - loss: 0.4349 - accuracy: 0.8502 - val_loss: 132.3929 - val_accuracy: 0.7285\n",
            "Epoch 129/300\n",
            "13/13 [==============================] - 1s 106ms/step - loss: 0.3860 - accuracy: 0.8696 - val_loss: 105.9525 - val_accuracy: 0.7602\n",
            "Epoch 130/300\n",
            "13/13 [==============================] - 1s 107ms/step - loss: 0.3561 - accuracy: 0.8937 - val_loss: 109.4878 - val_accuracy: 0.7828\n",
            "Epoch 131/300\n",
            "13/13 [==============================] - 1s 107ms/step - loss: 0.3687 - accuracy: 0.8865 - val_loss: 126.1744 - val_accuracy: 0.7692\n",
            "Epoch 132/300\n",
            "13/13 [==============================] - 1s 106ms/step - loss: 0.3743 - accuracy: 0.8937 - val_loss: 129.3960 - val_accuracy: 0.7149\n",
            "Epoch 133/300\n",
            "13/13 [==============================] - 1s 109ms/step - loss: 0.3867 - accuracy: 0.8841 - val_loss: 112.0146 - val_accuracy: 0.7511\n",
            "Epoch 134/300\n",
            "13/13 [==============================] - 1s 107ms/step - loss: 0.3857 - accuracy: 0.8913 - val_loss: 112.6231 - val_accuracy: 0.7828\n",
            "Epoch 135/300\n",
            "13/13 [==============================] - 2s 164ms/step - loss: 0.4243 - accuracy: 0.8696 - val_loss: 101.8844 - val_accuracy: 0.7964\n",
            "Epoch 136/300\n",
            "13/13 [==============================] - 2s 178ms/step - loss: 0.3798 - accuracy: 0.8937 - val_loss: 117.8565 - val_accuracy: 0.7738\n",
            "Epoch 137/300\n",
            "13/13 [==============================] - 1s 109ms/step - loss: 0.3982 - accuracy: 0.8816 - val_loss: 146.8192 - val_accuracy: 0.7149\n",
            "Epoch 138/300\n",
            "13/13 [==============================] - 1s 109ms/step - loss: 0.3864 - accuracy: 0.8647 - val_loss: 127.1978 - val_accuracy: 0.7557\n",
            "Epoch 139/300\n",
            "13/13 [==============================] - 1s 108ms/step - loss: 0.3774 - accuracy: 0.8816 - val_loss: 117.5774 - val_accuracy: 0.7647\n",
            "Epoch 140/300\n",
            "13/13 [==============================] - 1s 110ms/step - loss: 0.3339 - accuracy: 0.8961 - val_loss: 157.9290 - val_accuracy: 0.7421\n",
            "Epoch 141/300\n",
            "13/13 [==============================] - 1s 109ms/step - loss: 0.4110 - accuracy: 0.8671 - val_loss: 114.1724 - val_accuracy: 0.7692\n",
            "Epoch 142/300\n",
            "13/13 [==============================] - 1s 107ms/step - loss: 0.3194 - accuracy: 0.8913 - val_loss: 147.3028 - val_accuracy: 0.7330\n",
            "Epoch 143/300\n",
            "13/13 [==============================] - 2s 122ms/step - loss: 0.4288 - accuracy: 0.8865 - val_loss: 121.9715 - val_accuracy: 0.7738\n",
            "Epoch 144/300\n",
            "13/13 [==============================] - 2s 189ms/step - loss: 0.3773 - accuracy: 0.8792 - val_loss: 171.6924 - val_accuracy: 0.7014\n",
            "Epoch 145/300\n",
            "13/13 [==============================] - 2s 141ms/step - loss: 0.3454 - accuracy: 0.8889 - val_loss: 118.0300 - val_accuracy: 0.7692\n",
            "Epoch 146/300\n",
            "13/13 [==============================] - 1s 107ms/step - loss: 0.3045 - accuracy: 0.9130 - val_loss: 139.2427 - val_accuracy: 0.7376\n",
            "Epoch 147/300\n",
            "13/13 [==============================] - 1s 110ms/step - loss: 0.2941 - accuracy: 0.9034 - val_loss: 156.3294 - val_accuracy: 0.7014\n",
            "Epoch 148/300\n",
            "13/13 [==============================] - 1s 108ms/step - loss: 0.3461 - accuracy: 0.8889 - val_loss: 148.2792 - val_accuracy: 0.7376\n",
            "Epoch 149/300\n",
            "13/13 [==============================] - 1s 108ms/step - loss: 0.3660 - accuracy: 0.8913 - val_loss: 122.0818 - val_accuracy: 0.7602\n",
            "Epoch 150/300\n",
            "13/13 [==============================] - 2s 122ms/step - loss: 0.4230 - accuracy: 0.8623 - val_loss: 111.8812 - val_accuracy: 0.7692\n",
            "Epoch 151/300\n",
            "13/13 [==============================] - 1s 108ms/step - loss: 0.3310 - accuracy: 0.9034 - val_loss: 120.6905 - val_accuracy: 0.7783\n",
            "Epoch 152/300\n",
            "13/13 [==============================] - 2s 149ms/step - loss: 0.3584 - accuracy: 0.8720 - val_loss: 142.0408 - val_accuracy: 0.7285\n",
            "Epoch 153/300\n",
            "13/13 [==============================] - 2s 192ms/step - loss: 0.3432 - accuracy: 0.8913 - val_loss: 129.4667 - val_accuracy: 0.7511\n",
            "Epoch 154/300\n",
            "13/13 [==============================] - 1s 107ms/step - loss: 0.3404 - accuracy: 0.8889 - val_loss: 167.9337 - val_accuracy: 0.7104\n",
            "Epoch 155/300\n",
            "13/13 [==============================] - 1s 108ms/step - loss: 0.3942 - accuracy: 0.8768 - val_loss: 116.8600 - val_accuracy: 0.7557\n",
            "Epoch 156/300\n",
            "13/13 [==============================] - 1s 108ms/step - loss: 0.3572 - accuracy: 0.8720 - val_loss: 108.4684 - val_accuracy: 0.8190\n",
            "Epoch 157/300\n",
            "13/13 [==============================] - 1s 107ms/step - loss: 0.2775 - accuracy: 0.9130 - val_loss: 116.0557 - val_accuracy: 0.8009\n",
            "Epoch 158/300\n",
            "13/13 [==============================] - 1s 109ms/step - loss: 0.2977 - accuracy: 0.9058 - val_loss: 105.6982 - val_accuracy: 0.8281\n",
            "Epoch 159/300\n",
            "13/13 [==============================] - 1s 108ms/step - loss: 0.3506 - accuracy: 0.9034 - val_loss: 134.2106 - val_accuracy: 0.7919\n",
            "Epoch 160/300\n",
            "13/13 [==============================] - 1s 107ms/step - loss: 0.3140 - accuracy: 0.9179 - val_loss: 138.4205 - val_accuracy: 0.7421\n",
            "Epoch 161/300\n",
            "13/13 [==============================] - 2s 178ms/step - loss: 0.3584 - accuracy: 0.8841 - val_loss: 123.3545 - val_accuracy: 0.7873\n",
            "Epoch 162/300\n",
            "13/13 [==============================] - 2s 162ms/step - loss: 0.3497 - accuracy: 0.8889 - val_loss: 172.6416 - val_accuracy: 0.7285\n",
            "Epoch 163/300\n",
            "13/13 [==============================] - 1s 109ms/step - loss: 0.3344 - accuracy: 0.8961 - val_loss: 119.1535 - val_accuracy: 0.7964\n",
            "Epoch 164/300\n",
            "13/13 [==============================] - 1s 108ms/step - loss: 0.3105 - accuracy: 0.9034 - val_loss: 129.2365 - val_accuracy: 0.7873\n",
            "Epoch 165/300\n",
            "13/13 [==============================] - 1s 108ms/step - loss: 0.3404 - accuracy: 0.8961 - val_loss: 171.7849 - val_accuracy: 0.7511\n",
            "Epoch 166/300\n",
            "13/13 [==============================] - 1s 110ms/step - loss: 0.3158 - accuracy: 0.9130 - val_loss: 128.6010 - val_accuracy: 0.7014\n",
            "Epoch 167/300\n",
            "13/13 [==============================] - 1s 108ms/step - loss: 0.3474 - accuracy: 0.8913 - val_loss: 140.3082 - val_accuracy: 0.7647\n",
            "Epoch 168/300\n",
            "13/13 [==============================] - 1s 107ms/step - loss: 0.3458 - accuracy: 0.8913 - val_loss: 129.8137 - val_accuracy: 0.7919\n",
            "Epoch 169/300\n",
            "13/13 [==============================] - 2s 121ms/step - loss: 0.2902 - accuracy: 0.9106 - val_loss: 136.3953 - val_accuracy: 0.7511\n",
            "Epoch 170/300\n",
            "13/13 [==============================] - 2s 190ms/step - loss: 0.2960 - accuracy: 0.9010 - val_loss: 132.8671 - val_accuracy: 0.7285\n",
            "Epoch 171/300\n",
            "13/13 [==============================] - 2s 134ms/step - loss: 0.2931 - accuracy: 0.9179 - val_loss: 215.5432 - val_accuracy: 0.5882\n",
            "Epoch 172/300\n",
            "13/13 [==============================] - 1s 112ms/step - loss: 0.3322 - accuracy: 0.9058 - val_loss: 147.5316 - val_accuracy: 0.7421\n",
            "Epoch 173/300\n",
            "13/13 [==============================] - 1s 110ms/step - loss: 0.3015 - accuracy: 0.9082 - val_loss: 175.1838 - val_accuracy: 0.7059\n",
            "Epoch 174/300\n",
            "13/13 [==============================] - 1s 108ms/step - loss: 0.3096 - accuracy: 0.9179 - val_loss: 139.0709 - val_accuracy: 0.7285\n",
            "Epoch 175/300\n",
            "13/13 [==============================] - 1s 108ms/step - loss: 0.3551 - accuracy: 0.8865 - val_loss: 163.9805 - val_accuracy: 0.7466\n",
            "Epoch 176/300\n",
            "13/13 [==============================] - 2s 121ms/step - loss: 0.3141 - accuracy: 0.8986 - val_loss: 148.3569 - val_accuracy: 0.7557\n",
            "Epoch 177/300\n",
            "13/13 [==============================] - 1s 106ms/step - loss: 0.2943 - accuracy: 0.9106 - val_loss: 142.7047 - val_accuracy: 0.7738\n",
            "Epoch 178/300\n",
            "13/13 [==============================] - 2s 159ms/step - loss: 0.3119 - accuracy: 0.9058 - val_loss: 108.4562 - val_accuracy: 0.7964\n",
            "Epoch 179/300\n",
            "13/13 [==============================] - 2s 193ms/step - loss: 0.2979 - accuracy: 0.9106 - val_loss: 130.6469 - val_accuracy: 0.7783\n",
            "Epoch 180/300\n",
            "13/13 [==============================] - 1s 109ms/step - loss: 0.2672 - accuracy: 0.9251 - val_loss: 137.6415 - val_accuracy: 0.7421\n",
            "Epoch 181/300\n",
            "13/13 [==============================] - 1s 106ms/step - loss: 0.2703 - accuracy: 0.9155 - val_loss: 112.8416 - val_accuracy: 0.7964\n",
            "Epoch 182/300\n",
            "13/13 [==============================] - 1s 108ms/step - loss: 0.2626 - accuracy: 0.9058 - val_loss: 152.1745 - val_accuracy: 0.7421\n",
            "Epoch 183/300\n",
            "13/13 [==============================] - 1s 109ms/step - loss: 0.3016 - accuracy: 0.9179 - val_loss: 160.0528 - val_accuracy: 0.7421\n",
            "Epoch 184/300\n",
            "13/13 [==============================] - 1s 106ms/step - loss: 0.2678 - accuracy: 0.9203 - val_loss: 101.9867 - val_accuracy: 0.8145\n",
            "Epoch 185/300\n",
            "13/13 [==============================] - 2s 122ms/step - loss: 0.2498 - accuracy: 0.9227 - val_loss: 124.8450 - val_accuracy: 0.7195\n",
            "Epoch 186/300\n",
            "13/13 [==============================] - 1s 113ms/step - loss: 0.3876 - accuracy: 0.8865 - val_loss: 84.2097 - val_accuracy: 0.8190\n",
            "Epoch 187/300\n",
            "13/13 [==============================] - 2s 192ms/step - loss: 0.3004 - accuracy: 0.9058 - val_loss: 95.0197 - val_accuracy: 0.8145\n",
            "Epoch 188/300\n",
            "13/13 [==============================] - 2s 138ms/step - loss: 0.2833 - accuracy: 0.9058 - val_loss: 126.7080 - val_accuracy: 0.7828\n",
            "Epoch 189/300\n",
            "13/13 [==============================] - 1s 110ms/step - loss: 0.2434 - accuracy: 0.9251 - val_loss: 146.2802 - val_accuracy: 0.7783\n",
            "Epoch 190/300\n",
            "13/13 [==============================] - 1s 107ms/step - loss: 0.2715 - accuracy: 0.9203 - val_loss: 127.3088 - val_accuracy: 0.8100\n",
            "Epoch 191/300\n",
            "13/13 [==============================] - 1s 109ms/step - loss: 0.2126 - accuracy: 0.9396 - val_loss: 91.1113 - val_accuracy: 0.8552\n",
            "Epoch 192/300\n",
            "13/13 [==============================] - 1s 110ms/step - loss: 0.2568 - accuracy: 0.9179 - val_loss: 102.2254 - val_accuracy: 0.8552\n",
            "Epoch 193/300\n",
            "13/13 [==============================] - 1s 109ms/step - loss: 0.2810 - accuracy: 0.9227 - val_loss: 142.6234 - val_accuracy: 0.7557\n",
            "Epoch 194/300\n",
            "13/13 [==============================] - 1s 109ms/step - loss: 0.3282 - accuracy: 0.8937 - val_loss: 146.8942 - val_accuracy: 0.6606\n",
            "Epoch 195/300\n",
            "13/13 [==============================] - 2s 146ms/step - loss: 0.2455 - accuracy: 0.9227 - val_loss: 90.4869 - val_accuracy: 0.8145\n",
            "Epoch 196/300\n",
            "13/13 [==============================] - 2s 191ms/step - loss: 0.2508 - accuracy: 0.9203 - val_loss: 116.4810 - val_accuracy: 0.8235\n",
            "Epoch 197/300\n",
            "13/13 [==============================] - 1s 110ms/step - loss: 0.2648 - accuracy: 0.9203 - val_loss: 144.0480 - val_accuracy: 0.7602\n",
            "Epoch 198/300\n",
            "13/13 [==============================] - 1s 108ms/step - loss: 0.2459 - accuracy: 0.9203 - val_loss: 92.2856 - val_accuracy: 0.8462\n",
            "Epoch 199/300\n",
            "13/13 [==============================] - 1s 108ms/step - loss: 0.2389 - accuracy: 0.9251 - val_loss: 130.5434 - val_accuracy: 0.7376\n",
            "Epoch 200/300\n",
            "13/13 [==============================] - 1s 108ms/step - loss: 0.2987 - accuracy: 0.9130 - val_loss: 104.6055 - val_accuracy: 0.8145\n",
            "Epoch 201/300\n",
            "13/13 [==============================] - 1s 108ms/step - loss: 0.2790 - accuracy: 0.9227 - val_loss: 135.2584 - val_accuracy: 0.7828\n",
            "Epoch 202/300\n",
            "13/13 [==============================] - 1s 110ms/step - loss: 0.2952 - accuracy: 0.9130 - val_loss: 92.4113 - val_accuracy: 0.8100\n",
            "Epoch 203/300\n",
            "13/13 [==============================] - 1s 108ms/step - loss: 0.2185 - accuracy: 0.9420 - val_loss: 134.2827 - val_accuracy: 0.7557\n",
            "Epoch 204/300\n",
            "13/13 [==============================] - 2s 177ms/step - loss: 0.2383 - accuracy: 0.9275 - val_loss: 139.1586 - val_accuracy: 0.7557\n",
            "Epoch 205/300\n",
            "13/13 [==============================] - 2s 167ms/step - loss: 0.2366 - accuracy: 0.9203 - val_loss: 135.2799 - val_accuracy: 0.7557\n",
            "Epoch 206/300\n",
            "13/13 [==============================] - 1s 110ms/step - loss: 0.2161 - accuracy: 0.9348 - val_loss: 99.9717 - val_accuracy: 0.8100\n",
            "Epoch 207/300\n",
            "13/13 [==============================] - 1s 108ms/step - loss: 0.2266 - accuracy: 0.9300 - val_loss: 121.9809 - val_accuracy: 0.7873\n",
            "Epoch 208/300\n",
            "13/13 [==============================] - 1s 107ms/step - loss: 0.2407 - accuracy: 0.9203 - val_loss: 137.5303 - val_accuracy: 0.7692\n",
            "Epoch 209/300\n",
            "13/13 [==============================] - 1s 108ms/step - loss: 0.2560 - accuracy: 0.9251 - val_loss: 143.1977 - val_accuracy: 0.7647\n",
            "Epoch 210/300\n",
            "13/13 [==============================] - 1s 108ms/step - loss: 0.2415 - accuracy: 0.9203 - val_loss: 106.3111 - val_accuracy: 0.8190\n",
            "Epoch 211/300\n",
            "13/13 [==============================] - 1s 108ms/step - loss: 0.2142 - accuracy: 0.9348 - val_loss: 102.5012 - val_accuracy: 0.8462\n",
            "Epoch 212/300\n",
            "13/13 [==============================] - 2s 125ms/step - loss: 0.2416 - accuracy: 0.9227 - val_loss: 96.3094 - val_accuracy: 0.8462\n",
            "Epoch 213/300\n",
            "13/13 [==============================] - 2s 192ms/step - loss: 0.2368 - accuracy: 0.9300 - val_loss: 144.8665 - val_accuracy: 0.7738\n",
            "Epoch 214/300\n",
            "13/13 [==============================] - 2s 130ms/step - loss: 0.1888 - accuracy: 0.9469 - val_loss: 88.0871 - val_accuracy: 0.8643\n",
            "Epoch 215/300\n",
            "13/13 [==============================] - 1s 107ms/step - loss: 0.2424 - accuracy: 0.9106 - val_loss: 174.6793 - val_accuracy: 0.7330\n",
            "Epoch 216/300\n",
            "13/13 [==============================] - 1s 110ms/step - loss: 0.2382 - accuracy: 0.9179 - val_loss: 128.8764 - val_accuracy: 0.7919\n",
            "Epoch 217/300\n",
            "13/13 [==============================] - 1s 109ms/step - loss: 0.2376 - accuracy: 0.9396 - val_loss: 109.5353 - val_accuracy: 0.7828\n",
            "Epoch 218/300\n",
            "13/13 [==============================] - 1s 110ms/step - loss: 0.2575 - accuracy: 0.9251 - val_loss: 129.2916 - val_accuracy: 0.7919\n",
            "Epoch 219/300\n",
            "13/13 [==============================] - 1s 109ms/step - loss: 0.1908 - accuracy: 0.9300 - val_loss: 103.8677 - val_accuracy: 0.8145\n",
            "Epoch 220/300\n",
            "13/13 [==============================] - 1s 111ms/step - loss: 0.1814 - accuracy: 0.9372 - val_loss: 121.2591 - val_accuracy: 0.8145\n",
            "Epoch 221/300\n",
            "13/13 [==============================] - 2s 158ms/step - loss: 0.2041 - accuracy: 0.9348 - val_loss: 104.5295 - val_accuracy: 0.8416\n",
            "Epoch 222/300\n",
            "13/13 [==============================] - 2s 190ms/step - loss: 0.2214 - accuracy: 0.9203 - val_loss: 142.1797 - val_accuracy: 0.7692\n",
            "Epoch 223/300\n",
            "13/13 [==============================] - 1s 109ms/step - loss: 0.2510 - accuracy: 0.9348 - val_loss: 88.6142 - val_accuracy: 0.8507\n",
            "Epoch 224/300\n",
            "13/13 [==============================] - 1s 108ms/step - loss: 0.2124 - accuracy: 0.9324 - val_loss: 120.2756 - val_accuracy: 0.7647\n",
            "Epoch 225/300\n",
            "13/13 [==============================] - 1s 111ms/step - loss: 0.1948 - accuracy: 0.9420 - val_loss: 97.4370 - val_accuracy: 0.8416\n",
            "Epoch 226/300\n",
            "13/13 [==============================] - 1s 109ms/step - loss: 0.2199 - accuracy: 0.9130 - val_loss: 131.6294 - val_accuracy: 0.7783\n",
            "Epoch 227/300\n",
            "13/13 [==============================] - 1s 109ms/step - loss: 0.2870 - accuracy: 0.9203 - val_loss: 131.3092 - val_accuracy: 0.8235\n",
            "Epoch 228/300\n",
            "13/13 [==============================] - 1s 108ms/step - loss: 0.1845 - accuracy: 0.9348 - val_loss: 116.8581 - val_accuracy: 0.8235\n",
            "Epoch 229/300\n",
            "13/13 [==============================] - 2s 125ms/step - loss: 0.2332 - accuracy: 0.9179 - val_loss: 109.3956 - val_accuracy: 0.8416\n",
            "Epoch 230/300\n",
            "13/13 [==============================] - 2s 186ms/step - loss: 0.2295 - accuracy: 0.9203 - val_loss: 124.5658 - val_accuracy: 0.8190\n",
            "Epoch 231/300\n",
            "13/13 [==============================] - 2s 143ms/step - loss: 0.2754 - accuracy: 0.9179 - val_loss: 106.8030 - val_accuracy: 0.8416\n",
            "Epoch 232/300\n",
            "13/13 [==============================] - 1s 108ms/step - loss: 0.2367 - accuracy: 0.9300 - val_loss: 132.3462 - val_accuracy: 0.7783\n",
            "Epoch 233/300\n",
            "13/13 [==============================] - 1s 108ms/step - loss: 0.2066 - accuracy: 0.9420 - val_loss: 112.5676 - val_accuracy: 0.8326\n",
            "Epoch 234/300\n",
            "13/13 [==============================] - 1s 110ms/step - loss: 0.2271 - accuracy: 0.9275 - val_loss: 118.8195 - val_accuracy: 0.8190\n",
            "Epoch 235/300\n",
            "13/13 [==============================] - 1s 109ms/step - loss: 0.1691 - accuracy: 0.9444 - val_loss: 180.9174 - val_accuracy: 0.6878\n",
            "Epoch 236/300\n",
            "13/13 [==============================] - 1s 109ms/step - loss: 0.2047 - accuracy: 0.9300 - val_loss: 129.0673 - val_accuracy: 0.7466\n",
            "Epoch 237/300\n",
            "13/13 [==============================] - 1s 112ms/step - loss: 0.2161 - accuracy: 0.9300 - val_loss: 155.4183 - val_accuracy: 0.7511\n",
            "Epoch 238/300\n",
            "13/13 [==============================] - 2s 147ms/step - loss: 0.2034 - accuracy: 0.9372 - val_loss: 154.9650 - val_accuracy: 0.7511\n",
            "Epoch 239/300\n",
            "13/13 [==============================] - 2s 187ms/step - loss: 0.2565 - accuracy: 0.9251 - val_loss: 113.2942 - val_accuracy: 0.8100\n",
            "Epoch 240/300\n",
            "13/13 [==============================] - 2s 113ms/step - loss: 0.1793 - accuracy: 0.9444 - val_loss: 142.4210 - val_accuracy: 0.7149\n",
            "Epoch 241/300\n",
            "13/13 [==============================] - 1s 108ms/step - loss: 0.2612 - accuracy: 0.9300 - val_loss: 185.7964 - val_accuracy: 0.6471\n",
            "Epoch 242/300\n",
            "13/13 [==============================] - 1s 110ms/step - loss: 0.2145 - accuracy: 0.9251 - val_loss: 110.1952 - val_accuracy: 0.8281\n",
            "Epoch 243/300\n",
            "13/13 [==============================] - 1s 110ms/step - loss: 0.2370 - accuracy: 0.9155 - val_loss: 129.5597 - val_accuracy: 0.7330\n",
            "Epoch 244/300\n",
            "13/13 [==============================] - 1s 110ms/step - loss: 0.1772 - accuracy: 0.9469 - val_loss: 119.7353 - val_accuracy: 0.7964\n",
            "Epoch 245/300\n",
            "13/13 [==============================] - 1s 109ms/step - loss: 0.1894 - accuracy: 0.9444 - val_loss: 117.6018 - val_accuracy: 0.8145\n",
            "Epoch 246/300\n",
            "13/13 [==============================] - 2s 123ms/step - loss: 0.2094 - accuracy: 0.9300 - val_loss: 102.0252 - val_accuracy: 0.8326\n",
            "Epoch 247/300\n",
            "13/13 [==============================] - 2s 183ms/step - loss: 0.1749 - accuracy: 0.9300 - val_loss: 105.7832 - val_accuracy: 0.8281\n",
            "Epoch 248/300\n",
            "13/13 [==============================] - 2s 163ms/step - loss: 0.1685 - accuracy: 0.9444 - val_loss: 156.5844 - val_accuracy: 0.7783\n",
            "Epoch 249/300\n",
            "13/13 [==============================] - 1s 109ms/step - loss: 0.1557 - accuracy: 0.9420 - val_loss: 113.0087 - val_accuracy: 0.8326\n",
            "Epoch 250/300\n",
            "13/13 [==============================] - 1s 108ms/step - loss: 0.2784 - accuracy: 0.9130 - val_loss: 120.2202 - val_accuracy: 0.7964\n",
            "Epoch 251/300\n",
            "13/13 [==============================] - 1s 111ms/step - loss: 0.2201 - accuracy: 0.9324 - val_loss: 226.5554 - val_accuracy: 0.6968\n",
            "Epoch 252/300\n",
            "13/13 [==============================] - 1s 109ms/step - loss: 0.2780 - accuracy: 0.9179 - val_loss: 123.9238 - val_accuracy: 0.7828\n",
            "Epoch 253/300\n",
            "13/13 [==============================] - 1s 107ms/step - loss: 0.2368 - accuracy: 0.9420 - val_loss: 113.1261 - val_accuracy: 0.8009\n",
            "Epoch 254/300\n",
            "13/13 [==============================] - 1s 109ms/step - loss: 0.2310 - accuracy: 0.9227 - val_loss: 113.6961 - val_accuracy: 0.8145\n",
            "Epoch 255/300\n",
            "13/13 [==============================] - 2s 131ms/step - loss: 0.2049 - accuracy: 0.9469 - val_loss: 88.6049 - val_accuracy: 0.8100\n",
            "Epoch 256/300\n",
            "13/13 [==============================] - 3s 197ms/step - loss: 0.2419 - accuracy: 0.9420 - val_loss: 111.7397 - val_accuracy: 0.8416\n",
            "Epoch 257/300\n",
            "13/13 [==============================] - 2s 121ms/step - loss: 0.2049 - accuracy: 0.9469 - val_loss: 109.0676 - val_accuracy: 0.8235\n",
            "Epoch 258/300\n",
            "13/13 [==============================] - 1s 109ms/step - loss: 0.2070 - accuracy: 0.9300 - val_loss: 96.9773 - val_accuracy: 0.8371\n",
            "Epoch 259/300\n",
            "13/13 [==============================] - 1s 109ms/step - loss: 0.1706 - accuracy: 0.9541 - val_loss: 137.1365 - val_accuracy: 0.8054\n",
            "Epoch 260/300\n",
            "13/13 [==============================] - 1s 111ms/step - loss: 0.1875 - accuracy: 0.9469 - val_loss: 133.3493 - val_accuracy: 0.8371\n",
            "Epoch 261/300\n",
            "13/13 [==============================] - 1s 111ms/step - loss: 0.1700 - accuracy: 0.9348 - val_loss: 160.0194 - val_accuracy: 0.7964\n",
            "Epoch 262/300\n",
            "13/13 [==============================] - 2s 123ms/step - loss: 0.1929 - accuracy: 0.9300 - val_loss: 125.4675 - val_accuracy: 0.8190\n",
            "Epoch 263/300\n",
            "13/13 [==============================] - 1s 110ms/step - loss: 0.2218 - accuracy: 0.9179 - val_loss: 128.4070 - val_accuracy: 0.8100\n",
            "Epoch 264/300\n",
            "13/13 [==============================] - 2s 186ms/step - loss: 0.1767 - accuracy: 0.9469 - val_loss: 141.8038 - val_accuracy: 0.7421\n",
            "Epoch 265/300\n",
            "13/13 [==============================] - 2s 156ms/step - loss: 0.1669 - accuracy: 0.9541 - val_loss: 140.1536 - val_accuracy: 0.7919\n",
            "Epoch 266/300\n",
            "13/13 [==============================] - 1s 110ms/step - loss: 0.2306 - accuracy: 0.9275 - val_loss: 137.9660 - val_accuracy: 0.8054\n",
            "Epoch 267/300\n",
            "13/13 [==============================] - 1s 111ms/step - loss: 0.1819 - accuracy: 0.9469 - val_loss: 183.1544 - val_accuracy: 0.7285\n",
            "Epoch 268/300\n",
            "13/13 [==============================] - 1s 109ms/step - loss: 0.1935 - accuracy: 0.9444 - val_loss: 136.7244 - val_accuracy: 0.8100\n",
            "Epoch 269/300\n",
            "13/13 [==============================] - 1s 110ms/step - loss: 0.2154 - accuracy: 0.9444 - val_loss: 153.8572 - val_accuracy: 0.7964\n",
            "Epoch 270/300\n",
            "13/13 [==============================] - 1s 110ms/step - loss: 0.1919 - accuracy: 0.9348 - val_loss: 120.2977 - val_accuracy: 0.8100\n",
            "Epoch 271/300\n",
            "13/13 [==============================] - 2s 125ms/step - loss: 0.2198 - accuracy: 0.9348 - val_loss: 128.4213 - val_accuracy: 0.8009\n",
            "Epoch 272/300\n",
            "13/13 [==============================] - 2s 154ms/step - loss: 0.1477 - accuracy: 0.9420 - val_loss: 143.5311 - val_accuracy: 0.8054\n",
            "Epoch 273/300\n",
            "13/13 [==============================] - 3s 195ms/step - loss: 0.1924 - accuracy: 0.9493 - val_loss: 92.7150 - val_accuracy: 0.8733\n",
            "Epoch 274/300\n",
            "13/13 [==============================] - 1s 110ms/step - loss: 0.2138 - accuracy: 0.9348 - val_loss: 134.3322 - val_accuracy: 0.8371\n",
            "Epoch 275/300\n",
            "13/13 [==============================] - 1s 110ms/step - loss: 0.2575 - accuracy: 0.9275 - val_loss: 110.0925 - val_accuracy: 0.8326\n",
            "Epoch 276/300\n",
            "13/13 [==============================] - 1s 109ms/step - loss: 0.2260 - accuracy: 0.9251 - val_loss: 130.0386 - val_accuracy: 0.7421\n",
            "Epoch 277/300\n",
            "13/13 [==============================] - 2s 124ms/step - loss: 0.2464 - accuracy: 0.9324 - val_loss: 183.8854 - val_accuracy: 0.7195\n",
            "Epoch 278/300\n",
            "13/13 [==============================] - 1s 110ms/step - loss: 0.2758 - accuracy: 0.9275 - val_loss: 123.4227 - val_accuracy: 0.7873\n",
            "Epoch 279/300\n",
            "13/13 [==============================] - 1s 110ms/step - loss: 0.2528 - accuracy: 0.9010 - val_loss: 131.7192 - val_accuracy: 0.8009\n",
            "Epoch 280/300\n",
            "13/13 [==============================] - 2s 124ms/step - loss: 0.1927 - accuracy: 0.9275 - val_loss: 140.8676 - val_accuracy: 0.7828\n",
            "Epoch 281/300\n",
            "13/13 [==============================] - 2s 195ms/step - loss: 0.2231 - accuracy: 0.9227 - val_loss: 185.9453 - val_accuracy: 0.7376\n",
            "Epoch 282/300\n",
            "13/13 [==============================] - 2s 131ms/step - loss: 0.2019 - accuracy: 0.9300 - val_loss: 130.4803 - val_accuracy: 0.7919\n",
            "Epoch 283/300\n",
            "13/13 [==============================] - 2s 124ms/step - loss: 0.1866 - accuracy: 0.9348 - val_loss: 145.7279 - val_accuracy: 0.7873\n",
            "Epoch 284/300\n",
            "13/13 [==============================] - 1s 111ms/step - loss: 0.1986 - accuracy: 0.9324 - val_loss: 135.3411 - val_accuracy: 0.7964\n",
            "Epoch 285/300\n",
            "13/13 [==============================] - 1s 115ms/step - loss: 0.1960 - accuracy: 0.9372 - val_loss: 143.3658 - val_accuracy: 0.7964\n",
            "Epoch 286/300\n",
            "13/13 [==============================] - 1s 112ms/step - loss: 0.1609 - accuracy: 0.9444 - val_loss: 178.8367 - val_accuracy: 0.7511\n",
            "Epoch 287/300\n",
            "13/13 [==============================] - 1s 113ms/step - loss: 0.1594 - accuracy: 0.9420 - val_loss: 127.8789 - val_accuracy: 0.7783\n",
            "Epoch 288/300\n",
            "13/13 [==============================] - 1s 111ms/step - loss: 0.1737 - accuracy: 0.9444 - val_loss: 139.9148 - val_accuracy: 0.8054\n",
            "Epoch 289/300\n",
            "13/13 [==============================] - 2s 186ms/step - loss: 0.2101 - accuracy: 0.9348 - val_loss: 142.9930 - val_accuracy: 0.7738\n",
            "Epoch 290/300\n",
            "13/13 [==============================] - 2s 159ms/step - loss: 0.1913 - accuracy: 0.9324 - val_loss: 117.3319 - val_accuracy: 0.8190\n",
            "Epoch 291/300\n",
            "13/13 [==============================] - 1s 111ms/step - loss: 0.1509 - accuracy: 0.9614 - val_loss: 124.0893 - val_accuracy: 0.8235\n",
            "Epoch 292/300\n",
            "13/13 [==============================] - 1s 113ms/step - loss: 0.1526 - accuracy: 0.9565 - val_loss: 203.0600 - val_accuracy: 0.7692\n",
            "Epoch 293/300\n",
            "13/13 [==============================] - 1s 111ms/step - loss: 0.2360 - accuracy: 0.9372 - val_loss: 160.9966 - val_accuracy: 0.7466\n",
            "Epoch 294/300\n",
            "13/13 [==============================] - 1s 113ms/step - loss: 0.2000 - accuracy: 0.9324 - val_loss: 106.4495 - val_accuracy: 0.8416\n",
            "Epoch 295/300\n",
            "13/13 [==============================] - 1s 110ms/step - loss: 0.1596 - accuracy: 0.9372 - val_loss: 167.8893 - val_accuracy: 0.7647\n",
            "Epoch 296/300\n",
            "13/13 [==============================] - 1s 110ms/step - loss: 0.2088 - accuracy: 0.9324 - val_loss: 138.6577 - val_accuracy: 0.8054\n",
            "Epoch 297/300\n",
            "13/13 [==============================] - 2s 140ms/step - loss: 0.2020 - accuracy: 0.9372 - val_loss: 125.7882 - val_accuracy: 0.8326\n",
            "Epoch 298/300\n",
            "13/13 [==============================] - 2s 194ms/step - loss: 0.1708 - accuracy: 0.9469 - val_loss: 148.4886 - val_accuracy: 0.8145\n",
            "Epoch 299/300\n",
            "13/13 [==============================] - 2s 121ms/step - loss: 0.2013 - accuracy: 0.9420 - val_loss: 158.9507 - val_accuracy: 0.7919\n",
            "Epoch 300/300\n",
            "13/13 [==============================] - 1s 113ms/step - loss: 0.2170 - accuracy: 0.9396 - val_loss: 128.2101 - val_accuracy: 0.8190\n"
          ]
        }
      ]
    },
    {
      "cell_type": "code",
      "source": [
        "model.evaluate(X_test, y_test)"
      ],
      "metadata": {
        "id": "hQ3tiauHW6dT",
        "outputId": "f1b12c8c-b918-43ba-bcdc-a10e6d7b9f5f",
        "colab": {
          "base_uri": "https://localhost:8080/"
        }
      },
      "execution_count": 274,
      "outputs": [
        {
          "output_type": "stream",
          "name": "stdout",
          "text": [
            "11/11 [==============================] - 0s 20ms/step - loss: 0.2245 - accuracy: 0.9428\n"
          ]
        },
        {
          "output_type": "execute_result",
          "data": {
            "text/plain": [
              "[0.2244776040315628, 0.9427710771560669]"
            ]
          },
          "metadata": {},
          "execution_count": 274
        }
      ]
    },
    {
      "cell_type": "code",
      "source": [
        "pd.DataFrame(history.history).plot(figsize=(5,4))\n",
        "plt.grid(True)\n",
        "plt.gca().set_ylim(0,1)\n",
        "plt.show()"
      ],
      "metadata": {
        "id": "r4y9s-v9LKdn",
        "outputId": "50d3da6c-677f-4ebb-feee-1ec9be3d05d5",
        "colab": {
          "base_uri": "https://localhost:8080/",
          "height": 372
        }
      },
      "execution_count": 275,
      "outputs": [
        {
          "output_type": "display_data",
          "data": {
            "text/plain": [
              "<Figure size 500x400 with 1 Axes>"
            ],
            "image/png": "[encoded data removed]"
          },
          "metadata": {}
        }
      ]
    },
    {
      "cell_type": "code",
      "source": [
        "prediction = model.predict(X_test_flat)\n",
        "print(prediction)"
      ],
      "metadata": {
        "id": "eZzsWgVeLn7f",
        "outputId": "f2b38817-02f1-4970-ee7e-2ac60791f7b1",
        "colab": {
          "base_uri": "https://localhost:8080/"
        }
      },
      "execution_count": 276,
      "outputs": [
        {
          "output_type": "stream",
          "name": "stdout",
          "text": [
            "11/11 [==============================] - 0s 21ms/step\n",
            "[[1.14042225e-08 9.99873877e-01 8.84156009e-07 ... 2.96929784e-07\n",
            "  1.17897014e-09 2.72458988e-06]\n",
            " [1.16537637e-06 7.92944229e-06 3.95486097e-07 ... 7.12453638e-11\n",
            "  1.33977616e-12 1.12058069e-08]\n",
            " [8.36451989e-07 4.76323185e-04 7.00522719e-07 ... 8.80246986e-10\n",
            "  5.50541696e-11 6.21895708e-08]\n",
            " ...\n",
            " [1.31866035e-12 9.99999642e-01 1.09427187e-08 ... 3.98227354e-11\n",
            "  3.05753970e-15 3.94794286e-09]\n",
            " [1.59001798e-10 9.99959469e-01 1.01479811e-08 ... 3.16174975e-09\n",
            "  1.31580927e-11 7.93883927e-08]\n",
            " [6.01527367e-34 1.00552774e-22 1.48656845e-20 ... 5.12616976e-20\n",
            "  1.60343895e-19 1.00000000e+00]]\n"
          ]
        }
      ]
    },
    {
      "cell_type": "code",
      "source": [
        "print(prediction[1])"
      ],
      "metadata": {
        "id": "J6x-fn1vLrqD",
        "outputId": "5644136b-e960-41e0-e76e-960afdae12b9",
        "colab": {
          "base_uri": "https://localhost:8080/"
        }
      },
      "execution_count": 277,
      "outputs": [
        {
          "output_type": "stream",
          "name": "stdout",
          "text": [
            "[1.1653764e-06 7.9294423e-06 3.9548610e-07 4.8735448e-08 9.9999005e-01\n",
            " 2.4319316e-13 2.7534654e-07 7.1245364e-11 1.3397762e-12 1.1205807e-08]\n"
          ]
        }
      ]
    },
    {
      "cell_type": "code",
      "source": [
        "np.argmax(prediction[0])"
      ],
      "metadata": {
        "id": "XOFpGwj3Lvvv",
        "outputId": "66be2209-07b6-45b4-e9fa-be03baa88188",
        "colab": {
          "base_uri": "https://localhost:8080/"
        }
      },
      "execution_count": null,
      "outputs": [
        {
          "output_type": "stream",
          "name": "stderr",
          "text": [
            "ERROR:root:Internal Python error in the inspect module.\n",
            "Below is the traceback from this internal error.\n",
            "\n",
            "ERROR:root:Internal Python error in the inspect module.\n",
            "Below is the traceback from this internal error.\n",
            "\n",
            "ERROR:root:Internal Python error in the inspect module.\n",
            "Below is the traceback from this internal error.\n",
            "\n"
          ]
        },
        {
          "output_type": "stream",
          "name": "stdout",
          "text": [
            "Traceback (most recent call last):\n",
            "  File \"/usr/local/lib/python3.10/dist-packages/IPython/core/interactiveshell.py\", line 3553, in run_code\n",
            "    exec(code_obj, self.user_global_ns, self.user_ns)\n",
            "  File \"<ipython-input-288-08d925154570>\", line 1, in <cell line: 1>\n",
            "    np.argmax(prediction[552])\n",
            "IndexError: index 552 is out of bounds for axis 0 with size 332\n",
            "\n",
            "During handling of the above exception, another exception occurred:\n",
            "\n",
            "Traceback (most recent call last):\n",
            "  File \"/usr/local/lib/python3.10/dist-packages/IPython/core/interactiveshell.py\", line 2099, in showtraceback\n",
            "    stb = value._render_traceback_()\n",
            "AttributeError: 'IndexError' object has no attribute '_render_traceback_'\n",
            "\n",
            "During handling of the above exception, another exception occurred:\n",
            "\n",
            "Traceback (most recent call last):\n",
            "  File \"/usr/local/lib/python3.10/dist-packages/IPython/core/ultratb.py\", line 1101, in get_records\n",
            "    return _fixed_getinnerframes(etb, number_of_lines_of_context, tb_offset)\n",
            "  File \"/usr/local/lib/python3.10/dist-packages/IPython/core/ultratb.py\", line 248, in wrapped\n",
            "    return f(*args, **kwargs)\n",
            "  File \"/usr/local/lib/python3.10/dist-packages/IPython/core/ultratb.py\", line 281, in _fixed_getinnerframes\n",
            "    records = fix_frame_records_filenames(inspect.getinnerframes(etb, context))\n",
            "  File \"/usr/lib/python3.10/inspect.py\", line 1662, in getinnerframes\n",
            "    frameinfo = (tb.tb_frame,) + getframeinfo(tb, context)\n",
            "  File \"/usr/lib/python3.10/inspect.py\", line 1620, in getframeinfo\n",
            "    filename = getsourcefile(frame) or getfile(frame)\n",
            "  File \"/usr/lib/python3.10/inspect.py\", line 829, in getsourcefile\n",
            "    module = getmodule(object, filename)\n",
            "  File \"/usr/lib/python3.10/inspect.py\", line 861, in getmodule\n",
            "    file = getabsfile(object, _filename)\n",
            "  File \"/usr/lib/python3.10/inspect.py\", line 845, in getabsfile\n",
            "    return os.path.normcase(os.path.abspath(_filename))\n",
            "  File \"/usr/lib/python3.10/posixpath.py\", line 384, in abspath\n",
            "    cwd = os.getcwd()\n",
            "OSError: [Errno 107] Transport endpoint is not connected\n",
            "Traceback (most recent call last):\n",
            "  File \"/usr/local/lib/python3.10/dist-packages/IPython/core/interactiveshell.py\", line 3553, in run_code\n",
            "    exec(code_obj, self.user_global_ns, self.user_ns)\n",
            "  File \"<ipython-input-288-08d925154570>\", line 1, in <cell line: 1>\n",
            "    np.argmax(prediction[552])\n",
            "IndexError: index 552 is out of bounds for axis 0 with size 332\n",
            "\n",
            "During handling of the above exception, another exception occurred:\n",
            "\n",
            "Traceback (most recent call last):\n",
            "  File \"/usr/local/lib/python3.10/dist-packages/IPython/core/interactiveshell.py\", line 2099, in showtraceback\n",
            "    stb = value._render_traceback_()\n",
            "AttributeError: 'IndexError' object has no attribute '_render_traceback_'\n",
            "\n",
            "During handling of the above exception, another exception occurred:\n",
            "\n",
            "Traceback (most recent call last):\n",
            "  File \"/usr/local/lib/python3.10/dist-packages/IPython/core/interactiveshell.py\", line 3473, in run_ast_nodes\n",
            "    if (await self.run_code(code, result,  async_=asy)):\n",
            "  File \"/usr/local/lib/python3.10/dist-packages/IPython/core/interactiveshell.py\", line 3575, in run_code\n",
            "    self.showtraceback(running_compiled_code=True)\n",
            "  File \"/usr/local/lib/python3.10/dist-packages/IPython/core/interactiveshell.py\", line 2101, in showtraceback\n",
            "    stb = self.InteractiveTB.structured_traceback(etype,\n",
            "  File \"/usr/local/lib/python3.10/dist-packages/IPython/core/ultratb.py\", line 1367, in structured_traceback\n",
            "    return FormattedTB.structured_traceback(\n",
            "  File \"/usr/local/lib/python3.10/dist-packages/IPython/core/ultratb.py\", line 1267, in structured_traceback\n",
            "    return VerboseTB.structured_traceback(\n",
            "  File \"/usr/local/lib/python3.10/dist-packages/IPython/core/ultratb.py\", line 1124, in structured_traceback\n",
            "    formatted_exception = self.format_exception_as_a_whole(etype, evalue, etb, number_of_lines_of_context,\n",
            "  File \"/usr/local/lib/python3.10/dist-packages/IPython/core/ultratb.py\", line 1082, in format_exception_as_a_whole\n",
            "    last_unique, recursion_repeat = find_recursion(orig_etype, evalue, records)\n",
            "  File \"/usr/local/lib/python3.10/dist-packages/IPython/core/ultratb.py\", line 382, in find_recursion\n",
            "    return len(records), 0\n",
            "TypeError: object of type 'NoneType' has no len()\n",
            "\n",
            "During handling of the above exception, another exception occurred:\n",
            "\n",
            "Traceback (most recent call last):\n",
            "  File \"/usr/local/lib/python3.10/dist-packages/IPython/core/interactiveshell.py\", line 2099, in showtraceback\n",
            "    stb = value._render_traceback_()\n",
            "AttributeError: 'TypeError' object has no attribute '_render_traceback_'\n",
            "\n",
            "During handling of the above exception, another exception occurred:\n",
            "\n",
            "Traceback (most recent call last):\n",
            "  File \"/usr/local/lib/python3.10/dist-packages/IPython/core/ultratb.py\", line 1101, in get_records\n",
            "    return _fixed_getinnerframes(etb, number_of_lines_of_context, tb_offset)\n",
            "  File \"/usr/local/lib/python3.10/dist-packages/IPython/core/ultratb.py\", line 248, in wrapped\n",
            "    return f(*args, **kwargs)\n",
            "  File \"/usr/local/lib/python3.10/dist-packages/IPython/core/ultratb.py\", line 281, in _fixed_getinnerframes\n",
            "    records = fix_frame_records_filenames(inspect.getinnerframes(etb, context))\n",
            "  File \"/usr/lib/python3.10/inspect.py\", line 1662, in getinnerframes\n",
            "    frameinfo = (tb.tb_frame,) + getframeinfo(tb, context)\n",
            "  File \"/usr/lib/python3.10/inspect.py\", line 1620, in getframeinfo\n",
            "    filename = getsourcefile(frame) or getfile(frame)\n",
            "  File \"/usr/lib/python3.10/inspect.py\", line 829, in getsourcefile\n",
            "    module = getmodule(object, filename)\n",
            "  File \"/usr/lib/python3.10/inspect.py\", line 861, in getmodule\n",
            "    file = getabsfile(object, _filename)\n",
            "  File \"/usr/lib/python3.10/inspect.py\", line 845, in getabsfile\n",
            "    return os.path.normcase(os.path.abspath(_filename))\n",
            "  File \"/usr/lib/python3.10/posixpath.py\", line 384, in abspath\n",
            "    cwd = os.getcwd()\n",
            "OSError: [Errno 107] Transport endpoint is not connected\n",
            "Traceback (most recent call last):\n",
            "  File \"/usr/local/lib/python3.10/dist-packages/IPython/core/interactiveshell.py\", line 3553, in run_code\n",
            "    exec(code_obj, self.user_global_ns, self.user_ns)\n",
            "  File \"<ipython-input-288-08d925154570>\", line 1, in <cell line: 1>\n",
            "    np.argmax(prediction[552])\n",
            "IndexError: index 552 is out of bounds for axis 0 with size 332\n",
            "\n",
            "During handling of the above exception, another exception occurred:\n",
            "\n",
            "Traceback (most recent call last):\n",
            "  File \"/usr/local/lib/python3.10/dist-packages/IPython/core/interactiveshell.py\", line 2099, in showtraceback\n",
            "    stb = value._render_traceback_()\n",
            "AttributeError: 'IndexError' object has no attribute '_render_traceback_'\n",
            "\n",
            "During handling of the above exception, another exception occurred:\n",
            "\n",
            "Traceback (most recent call last):\n",
            "  File \"/usr/local/lib/python3.10/dist-packages/IPython/core/interactiveshell.py\", line 3473, in run_ast_nodes\n",
            "    if (await self.run_code(code, result,  async_=asy)):\n",
            "  File \"/usr/local/lib/python3.10/dist-packages/IPython/core/interactiveshell.py\", line 3575, in run_code\n",
            "    self.showtraceback(running_compiled_code=True)\n",
            "  File \"/usr/local/lib/python3.10/dist-packages/IPython/core/interactiveshell.py\", line 2101, in showtraceback\n",
            "    stb = self.InteractiveTB.structured_traceback(etype,\n",
            "  File \"/usr/local/lib/python3.10/dist-packages/IPython/core/ultratb.py\", line 1367, in structured_traceback\n",
            "    return FormattedTB.structured_traceback(\n",
            "  File \"/usr/local/lib/python3.10/dist-packages/IPython/core/ultratb.py\", line 1267, in structured_traceback\n",
            "    return VerboseTB.structured_traceback(\n",
            "  File \"/usr/local/lib/python3.10/dist-packages/IPython/core/ultratb.py\", line 1124, in structured_traceback\n",
            "    formatted_exception = self.format_exception_as_a_whole(etype, evalue, etb, number_of_lines_of_context,\n",
            "  File \"/usr/local/lib/python3.10/dist-packages/IPython/core/ultratb.py\", line 1082, in format_exception_as_a_whole\n",
            "    last_unique, recursion_repeat = find_recursion(orig_etype, evalue, records)\n",
            "  File \"/usr/local/lib/python3.10/dist-packages/IPython/core/ultratb.py\", line 382, in find_recursion\n",
            "    return len(records), 0\n",
            "TypeError: object of type 'NoneType' has no len()\n",
            "\n",
            "During handling of the above exception, another exception occurred:\n",
            "\n",
            "Traceback (most recent call last):\n",
            "  File \"/usr/local/lib/python3.10/dist-packages/IPython/core/interactiveshell.py\", line 2099, in showtraceback\n",
            "    stb = value._render_traceback_()\n",
            "AttributeError: 'TypeError' object has no attribute '_render_traceback_'\n",
            "\n",
            "During handling of the above exception, another exception occurred:\n",
            "\n",
            "Traceback (most recent call last):\n",
            "  File \"/usr/local/lib/python3.10/dist-packages/IPython/core/interactiveshell.py\", line 3030, in _run_cell\n",
            "    return runner(coro)\n",
            "  File \"/usr/local/lib/python3.10/dist-packages/IPython/core/async_helpers.py\", line 78, in _pseudo_sync_runner\n",
            "    coro.send(None)\n",
            "  File \"/usr/local/lib/python3.10/dist-packages/IPython/core/interactiveshell.py\", line 3257, in run_cell_async\n",
            "    has_raised = await self.run_ast_nodes(code_ast.body, cell_name,\n",
            "  File \"/usr/local/lib/python3.10/dist-packages/IPython/core/interactiveshell.py\", line 3492, in run_ast_nodes\n",
            "    self.showtraceback()\n",
            "  File \"/usr/local/lib/python3.10/dist-packages/IPython/core/interactiveshell.py\", line 2101, in showtraceback\n",
            "    stb = self.InteractiveTB.structured_traceback(etype,\n",
            "  File \"/usr/local/lib/python3.10/dist-packages/IPython/core/ultratb.py\", line 1367, in structured_traceback\n",
            "    return FormattedTB.structured_traceback(\n",
            "  File \"/usr/local/lib/python3.10/dist-packages/IPython/core/ultratb.py\", line 1267, in structured_traceback\n",
            "    return VerboseTB.structured_traceback(\n",
            "  File \"/usr/local/lib/python3.10/dist-packages/IPython/core/ultratb.py\", line 1142, in structured_traceback\n",
            "    formatted_exceptions += self.format_exception_as_a_whole(etype, evalue, etb, lines_of_context,\n",
            "  File \"/usr/local/lib/python3.10/dist-packages/IPython/core/ultratb.py\", line 1082, in format_exception_as_a_whole\n",
            "    last_unique, recursion_repeat = find_recursion(orig_etype, evalue, records)\n",
            "  File \"/usr/local/lib/python3.10/dist-packages/IPython/core/ultratb.py\", line 382, in find_recursion\n",
            "    return len(records), 0\n",
            "TypeError: object of type 'NoneType' has no len()\n",
            "\n",
            "During handling of the above exception, another exception occurred:\n",
            "\n",
            "Traceback (most recent call last):\n",
            "  File \"/usr/local/lib/python3.10/dist-packages/IPython/core/interactiveshell.py\", line 2099, in showtraceback\n",
            "    stb = value._render_traceback_()\n",
            "AttributeError: 'TypeError' object has no attribute '_render_traceback_'\n",
            "\n",
            "During handling of the above exception, another exception occurred:\n",
            "\n",
            "Traceback (most recent call last):\n",
            "  File \"/usr/local/lib/python3.10/dist-packages/IPython/core/ultratb.py\", line 1101, in get_records\n",
            "    return _fixed_getinnerframes(etb, number_of_lines_of_context, tb_offset)\n",
            "  File \"/usr/local/lib/python3.10/dist-packages/IPython/core/ultratb.py\", line 248, in wrapped\n",
            "    return f(*args, **kwargs)\n",
            "  File \"/usr/local/lib/python3.10/dist-packages/IPython/core/ultratb.py\", line 281, in _fixed_getinnerframes\n",
            "    records = fix_frame_records_filenames(inspect.getinnerframes(etb, context))\n",
            "  File \"/usr/lib/python3.10/inspect.py\", line 1662, in getinnerframes\n",
            "    frameinfo = (tb.tb_frame,) + getframeinfo(tb, context)\n",
            "  File \"/usr/lib/python3.10/inspect.py\", line 1620, in getframeinfo\n",
            "    filename = getsourcefile(frame) or getfile(frame)\n",
            "  File \"/usr/lib/python3.10/inspect.py\", line 829, in getsourcefile\n",
            "    module = getmodule(object, filename)\n",
            "  File \"/usr/lib/python3.10/inspect.py\", line 861, in getmodule\n",
            "    file = getabsfile(object, _filename)\n",
            "  File \"/usr/lib/python3.10/inspect.py\", line 845, in getabsfile\n",
            "    return os.path.normcase(os.path.abspath(_filename))\n",
            "  File \"/usr/lib/python3.10/posixpath.py\", line 384, in abspath\n",
            "    cwd = os.getcwd()\n",
            "OSError: [Errno 107] Transport endpoint is not connected\n"
          ]
        }
      ]
    },
    {
      "cell_type": "code",
      "source": [
        "plt.matshow(balls_folder[2])"
      ],
      "metadata": {
        "id": "zOPlOku7LymC",
        "outputId": "cfc7377e-dff0-4c23-f305-fc80564cf1de",
        "colab": {
          "base_uri": "https://localhost:8080/",
          "height": 452
        }
      },
      "execution_count": 287,
      "outputs": [
        {
          "output_type": "execute_result",
          "data": {
            "text/plain": [
              "<matplotlib.image.AxesImage at 0x7effcff415a0>"
            ]
          },
          "metadata": {},
          "execution_count": 287
        },
        {
          "output_type": "display_data",
          "data": {
            "text/plain": [
              "<Figure size 480x480 with 1 Axes>"
            ],
            "image/png": "[encoded data removed]"
          },
          "metadata": {}
        }
      ]
    },
    {
      "cell_type": "code",
      "source": [
        "predicted_labels = [np.argmax(i) for i in prediction]"
      ],
      "metadata": {
        "id": "AzD4-3i2NbfZ"
      },
      "execution_count": 283,
      "outputs": []
    },
    {
      "cell_type": "code",
      "source": [
        "cm = confusion_matrix(y_test, prediction.argmax(axis=1))\n",
        "print(cm)"
      ],
      "metadata": {
        "id": "r6HMwYehNjxu",
        "outputId": "acd9a48e-da39-4ea6-bf66-d098d7141e18",
        "colab": {
          "base_uri": "https://localhost:8080/"
        }
      },
      "execution_count": 284,
      "outputs": [
        {
          "output_type": "stream",
          "name": "stdout",
          "text": [
            "[[29  0  0  0  0  1  0  1  1  0]\n",
            " [ 0 49  0  0  0  0  0  0  0  0]\n",
            " [ 0  0 29  0  0  1  0  0  0  0]\n",
            " [ 0  2  0 24  0  0  0  0  0  0]\n",
            " [ 0  0  0  0 29  0  0  0  0  0]\n",
            " [ 1  0  0  0  0 39  0  1  1  0]\n",
            " [ 0  0  0  0  0  0 27  0  0  0]\n",
            " [ 1  0  0  0  0  1  0 34  0  1]\n",
            " [ 0  0  1  0  0  1  0  1 30  0]\n",
            " [ 0  0  0  0  1  3  0  0  0 23]]\n"
          ]
        }
      ]
    },
    {
      "cell_type": "code",
      "source": [
        "import seaborn as sn\n",
        "plt.figure(figsize = (5,5))\n",
        "sn.heatmap(cm, annot=True, fmt='d')\n",
        "plt.xlabel('Predicted Label')\n",
        "plt.ylabel('True Label')"
      ],
      "metadata": {
        "id": "YNS1gYmSN9Ie",
        "outputId": "bf563c9b-3f2e-42d5-b629-edc1d331bcb3",
        "colab": {
          "base_uri": "https://localhost:8080/",
          "height": 481
        }
      },
      "execution_count": 267,
      "outputs": [
        {
          "output_type": "execute_result",
          "data": {
            "text/plain": [
              "Text(33.22222222222222, 0.5, 'True Label')"
            ]
          },
          "metadata": {},
          "execution_count": 267
        },
        {
          "output_type": "display_data",
          "data": {
            "text/plain": [
              "<Figure size 500x500 with 2 Axes>"
            ],
            "image/png": "[encoded data removed]"
          },
          "metadata": {}
        }
      ]
    },
    {
      "cell_type": "code",
      "source": [
        "accuracy = 100*np.trace(cm)/np.sum(cm)\n",
        "print(accuracy)"
      ],
      "metadata": {
        "id": "E9levH7POD9u",
        "outputId": "410e21f7-8b15-4744-bbe8-5b0dff892b06",
        "colab": {
          "base_uri": "https://localhost:8080/"
        }
      },
      "execution_count": 269,
      "outputs": [
        {
          "output_type": "stream",
          "name": "stdout",
          "text": [
            "87.65060240963855\n"
          ]
        }
      ]
    }
  ]
}